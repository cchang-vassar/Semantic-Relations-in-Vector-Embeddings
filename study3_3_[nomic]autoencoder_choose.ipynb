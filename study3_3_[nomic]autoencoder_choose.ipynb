{
  "cells": [
    {
      "cell_type": "markdown",
      "metadata": {
        "id": "view-in-github",
        "colab_type": "text"
      },
      "source": [
        "<a href=\"https://colab.research.google.com/github/cchang-vassar/Semantic-Relations-in-Vector-Embeddings/blob/main/study3_3_%5Bnomic%5Dautoencoder_choose.ipynb\" target=\"_parent\"><img src=\"https://colab.research.google.com/assets/colab-badge.svg\" alt=\"Open In Colab\"/></a>"
      ]
    },
    {
      "cell_type": "markdown",
      "id": "c8ec119b-3682-48e1-80a4-d50af48ee755",
      "metadata": {
        "id": "c8ec119b-3682-48e1-80a4-d50af48ee755"
      },
      "source": [
        "# [nomic-002] Autoencoder: Choose Corresponding Embedding"
      ]
    },
    {
      "cell_type": "markdown",
      "id": "c9d6be4b-ee66-48b6-b449-cfe1abf83dff",
      "metadata": {
        "id": "c9d6be4b-ee66-48b6-b449-cfe1abf83dff"
      },
      "source": [
        "Given an embedding, can a model be trained to choose the correct embeddings corresponding to its counterargument from a list of them?"
      ]
    },
    {
      "cell_type": "markdown",
      "id": "rraCIAGnMU04",
      "metadata": {
        "id": "rraCIAGnMU04"
      },
      "source": [
        "## Set Up"
      ]
    },
    {
      "cell_type": "markdown",
      "id": "x6lP1bVYImnN",
      "metadata": {
        "id": "x6lP1bVYImnN"
      },
      "source": [
        "### Imports"
      ]
    },
    {
      "cell_type": "code",
      "execution_count": null,
      "id": "uG3AaiqUInby",
      "metadata": {
        "id": "uG3AaiqUInby"
      },
      "outputs": [],
      "source": [
        "# General imports\n",
        "import os\n",
        "import subprocess\n",
        "import zipfile\n",
        "import shutil\n",
        "import time\n",
        "from google.colab import userdata\n",
        "import pickle\n",
        "import statistics\n",
        "import numpy as np\n",
        "import pandas as pd\n",
        "import tensorflow as tf\n",
        "from tensorflow.keras.models import load_model\n",
        "from scipy import spatial\n",
        "from tenacity import (\n",
        "  retry,\n",
        "  stop_after_attempt,\n",
        "  wait_random_exponential\n",
        ")"
      ]
    },
    {
      "cell_type": "markdown",
      "id": "1ZL8xzRMyOGE",
      "metadata": {
        "id": "1ZL8xzRMyOGE"
      },
      "source": [
        "### OSF Setup"
      ]
    },
    {
      "cell_type": "code",
      "execution_count": null,
      "id": "fS_fc5dDySK5",
      "metadata": {
        "colab": {
          "base_uri": "https://localhost:8080/"
        },
        "id": "fS_fc5dDySK5",
        "outputId": "53b64c3d-84a9-462f-ae27-2345c8f5fad8"
      },
      "outputs": [
        {
          "output_type": "stream",
          "name": "stdout",
          "text": [
            "Collecting osfclient\n",
            "  Downloading osfclient-0.0.5-py2.py3-none-any.whl (39 kB)\n",
            "Requirement already satisfied: requests in /usr/local/lib/python3.10/dist-packages (from osfclient) (2.31.0)\n",
            "Requirement already satisfied: tqdm in /usr/local/lib/python3.10/dist-packages (from osfclient) (4.66.2)\n",
            "Requirement already satisfied: six in /usr/local/lib/python3.10/dist-packages (from osfclient) (1.16.0)\n",
            "Requirement already satisfied: charset-normalizer<4,>=2 in /usr/local/lib/python3.10/dist-packages (from requests->osfclient) (3.3.2)\n",
            "Requirement already satisfied: idna<4,>=2.5 in /usr/local/lib/python3.10/dist-packages (from requests->osfclient) (3.7)\n",
            "Requirement already satisfied: urllib3<3,>=1.21.1 in /usr/local/lib/python3.10/dist-packages (from requests->osfclient) (2.0.7)\n",
            "Requirement already satisfied: certifi>=2017.4.17 in /usr/local/lib/python3.10/dist-packages (from requests->osfclient) (2024.2.2)\n",
            "Installing collected packages: osfclient\n",
            "Successfully installed osfclient-0.0.5\n"
          ]
        }
      ],
      "source": [
        "!pip install osfclient"
      ]
    },
    {
      "cell_type": "code",
      "execution_count": null,
      "id": "q7LsfY62TqsU",
      "metadata": {
        "id": "q7LsfY62TqsU"
      },
      "outputs": [],
      "source": [
        "os.environ[\"OSF_USERNAME\"] = userdata.get(\"OSF_USERNAME\")\n",
        "OSF_USERNAME = os.environ[\"OSF_USERNAME\"]"
      ]
    },
    {
      "cell_type": "code",
      "execution_count": null,
      "id": "Dc540GW4OGT5",
      "metadata": {
        "id": "Dc540GW4OGT5"
      },
      "outputs": [],
      "source": [
        "os.environ[\"OSF_PASSWORD\"] = userdata.get(\"OSF_PASSWORD\")\n",
        "OSF_PASSWORD = os.environ[\"OSF_PASSWORD\"]"
      ]
    },
    {
      "cell_type": "code",
      "execution_count": null,
      "id": "z-OVlX8Z0pZy",
      "metadata": {
        "id": "z-OVlX8Z0pZy"
      },
      "outputs": [],
      "source": [
        "os.environ[\"OSF_TOKEN\"] = userdata.get(\"OSF_TOKEN\")\n",
        "OSF_TOKEN = os.environ[\"OSF_TOKEN\"]"
      ]
    },
    {
      "cell_type": "code",
      "execution_count": null,
      "id": "rTXKZf9r4RY3",
      "metadata": {
        "id": "rTXKZf9r4RY3"
      },
      "outputs": [],
      "source": [
        "os.environ[\"OSF_PROJECT_ID\"] = userdata.get(\"OSF_PROJECT_ID\")\n",
        "OSF_PROJECT_ID = os.environ[\"OSF_PROJECT_ID\"]"
      ]
    },
    {
      "cell_type": "markdown",
      "id": "b3d414a7-b583-49f1-87a3-cc4ccf9af314",
      "metadata": {
        "id": "b3d414a7-b583-49f1-87a3-cc4ccf9af314"
      },
      "source": [
        "### Nomic Setup"
      ]
    },
    {
      "cell_type": "code",
      "execution_count": null,
      "id": "66e54b84-2cd3-462a-b38d-b2b3d418eb22",
      "metadata": {
        "colab": {
          "base_uri": "https://localhost:8080/"
        },
        "id": "66e54b84-2cd3-462a-b38d-b2b3d418eb22",
        "outputId": "cf348ba0-9253-4a88-adc9-bf0d22d28b93"
      },
      "outputs": [
        {
          "output_type": "stream",
          "name": "stdout",
          "text": [
            "Collecting nomic\n",
            "  Downloading nomic-3.0.27.tar.gz (43 kB)\n",
            "\u001b[?25l     \u001b[90m━━━━━━━━━━━━━━━━━━━━━━━━━━━━━━━━━━━━━━━━\u001b[0m \u001b[32m0.0/43.6 kB\u001b[0m \u001b[31m?\u001b[0m eta \u001b[36m-:--:--\u001b[0m\r\u001b[2K     \u001b[90m━━━━━━━━━━━━━━━━━━━━━━━━━━━━━━━━━━━━━━━━\u001b[0m \u001b[32m43.6/43.6 kB\u001b[0m \u001b[31m1.3 MB/s\u001b[0m eta \u001b[36m0:00:00\u001b[0m\n",
            "\u001b[?25h  Installing build dependencies ... \u001b[?25l\u001b[?25hdone\n",
            "  Getting requirements to build wheel ... \u001b[?25l\u001b[?25hdone\n",
            "  Preparing metadata (pyproject.toml) ... \u001b[?25l\u001b[?25hdone\n",
            "Requirement already satisfied: click in /usr/local/lib/python3.10/dist-packages (from nomic) (8.1.7)\n",
            "Collecting jsonlines (from nomic)\n",
            "  Downloading jsonlines-4.0.0-py3-none-any.whl (8.7 kB)\n",
            "Collecting loguru (from nomic)\n",
            "  Downloading loguru-0.7.2-py3-none-any.whl (62 kB)\n",
            "\u001b[2K     \u001b[90m━━━━━━━━━━━━━━━━━━━━━━━━━━━━━━━━━━━━━━━━\u001b[0m \u001b[32m62.5/62.5 kB\u001b[0m \u001b[31m4.1 MB/s\u001b[0m eta \u001b[36m0:00:00\u001b[0m\n",
            "\u001b[?25hRequirement already satisfied: rich in /usr/local/lib/python3.10/dist-packages (from nomic) (13.7.1)\n",
            "Requirement already satisfied: requests in /usr/local/lib/python3.10/dist-packages (from nomic) (2.31.0)\n",
            "Requirement already satisfied: numpy in /usr/local/lib/python3.10/dist-packages (from nomic) (1.25.2)\n",
            "Requirement already satisfied: pandas in /usr/local/lib/python3.10/dist-packages (from nomic) (2.0.3)\n",
            "Requirement already satisfied: pydantic in /usr/local/lib/python3.10/dist-packages (from nomic) (2.7.1)\n",
            "Requirement already satisfied: tqdm in /usr/local/lib/python3.10/dist-packages (from nomic) (4.66.2)\n",
            "Requirement already satisfied: pyarrow in /usr/local/lib/python3.10/dist-packages (from nomic) (14.0.2)\n",
            "Requirement already satisfied: pillow in /usr/local/lib/python3.10/dist-packages (from nomic) (9.4.0)\n",
            "Requirement already satisfied: pyjwt in /usr/lib/python3/dist-packages (from nomic) (2.3.0)\n",
            "Requirement already satisfied: attrs>=19.2.0 in /usr/local/lib/python3.10/dist-packages (from jsonlines->nomic) (23.2.0)\n",
            "Requirement already satisfied: python-dateutil>=2.8.2 in /usr/local/lib/python3.10/dist-packages (from pandas->nomic) (2.8.2)\n",
            "Requirement already satisfied: pytz>=2020.1 in /usr/local/lib/python3.10/dist-packages (from pandas->nomic) (2023.4)\n",
            "Requirement already satisfied: tzdata>=2022.1 in /usr/local/lib/python3.10/dist-packages (from pandas->nomic) (2024.1)\n",
            "Requirement already satisfied: annotated-types>=0.4.0 in /usr/local/lib/python3.10/dist-packages (from pydantic->nomic) (0.6.0)\n",
            "Requirement already satisfied: pydantic-core==2.18.2 in /usr/local/lib/python3.10/dist-packages (from pydantic->nomic) (2.18.2)\n",
            "Requirement already satisfied: typing-extensions>=4.6.1 in /usr/local/lib/python3.10/dist-packages (from pydantic->nomic) (4.11.0)\n",
            "Requirement already satisfied: charset-normalizer<4,>=2 in /usr/local/lib/python3.10/dist-packages (from requests->nomic) (3.3.2)\n",
            "Requirement already satisfied: idna<4,>=2.5 in /usr/local/lib/python3.10/dist-packages (from requests->nomic) (3.7)\n",
            "Requirement already satisfied: urllib3<3,>=1.21.1 in /usr/local/lib/python3.10/dist-packages (from requests->nomic) (2.0.7)\n",
            "Requirement already satisfied: certifi>=2017.4.17 in /usr/local/lib/python3.10/dist-packages (from requests->nomic) (2024.2.2)\n",
            "Requirement already satisfied: markdown-it-py>=2.2.0 in /usr/local/lib/python3.10/dist-packages (from rich->nomic) (3.0.0)\n",
            "Requirement already satisfied: pygments<3.0.0,>=2.13.0 in /usr/local/lib/python3.10/dist-packages (from rich->nomic) (2.16.1)\n",
            "Requirement already satisfied: mdurl~=0.1 in /usr/local/lib/python3.10/dist-packages (from markdown-it-py>=2.2.0->rich->nomic) (0.1.2)\n",
            "Requirement already satisfied: six>=1.5 in /usr/local/lib/python3.10/dist-packages (from python-dateutil>=2.8.2->pandas->nomic) (1.16.0)\n",
            "Building wheels for collected packages: nomic\n",
            "  Building wheel for nomic (pyproject.toml) ... \u001b[?25l\u001b[?25hdone\n",
            "  Created wheel for nomic: filename=nomic-3.0.27-py3-none-any.whl size=44143 sha256=af755e73ef061b1917e620e93fccb6caf82e71dde96c9c619da5262233b4dfa5\n",
            "  Stored in directory: /root/.cache/pip/wheels/ab/25/ff/c1bed9c1ce0c6e40846a45cec6b3826793f3d89006026ad251\n",
            "Successfully built nomic\n",
            "Installing collected packages: loguru, jsonlines, nomic\n",
            "Successfully installed jsonlines-4.0.0 loguru-0.7.2 nomic-3.0.27\n"
          ]
        }
      ],
      "source": [
        "!pip install nomic"
      ]
    },
    {
      "cell_type": "code",
      "execution_count": null,
      "id": "AMznQiaLfOQ9",
      "metadata": {
        "colab": {
          "base_uri": "https://localhost:8080/"
        },
        "id": "AMznQiaLfOQ9",
        "outputId": "c5b77f3a-5419-4245-8845-6150186e7bbc"
      },
      "outputs": [
        {
          "output_type": "stream",
          "name": "stdout",
          "text": [
            "Collecting sentence_transformers\n",
            "  Downloading sentence_transformers-2.7.0-py3-none-any.whl (171 kB)\n",
            "\u001b[?25l     \u001b[90m━━━━━━━━━━━━━━━━━━━━━━━━━━━━━━━━━━━━━━━━\u001b[0m \u001b[32m0.0/171.5 kB\u001b[0m \u001b[31m?\u001b[0m eta \u001b[36m-:--:--\u001b[0m\r\u001b[2K     \u001b[90m━━━━━━━━━━━━━━━━━━━━━━━━━━━━━━━━━━━━━━━━\u001b[0m \u001b[32m171.5/171.5 kB\u001b[0m \u001b[31m5.7 MB/s\u001b[0m eta \u001b[36m0:00:00\u001b[0m\n",
            "\u001b[?25hRequirement already satisfied: transformers<5.0.0,>=4.34.0 in /usr/local/lib/python3.10/dist-packages (from sentence_transformers) (4.40.1)\n",
            "Requirement already satisfied: tqdm in /usr/local/lib/python3.10/dist-packages (from sentence_transformers) (4.66.2)\n",
            "Requirement already satisfied: torch>=1.11.0 in /usr/local/lib/python3.10/dist-packages (from sentence_transformers) (2.2.1+cu121)\n",
            "Requirement already satisfied: numpy in /usr/local/lib/python3.10/dist-packages (from sentence_transformers) (1.25.2)\n",
            "Requirement already satisfied: scikit-learn in /usr/local/lib/python3.10/dist-packages (from sentence_transformers) (1.2.2)\n",
            "Requirement already satisfied: scipy in /usr/local/lib/python3.10/dist-packages (from sentence_transformers) (1.11.4)\n",
            "Requirement already satisfied: huggingface-hub>=0.15.1 in /usr/local/lib/python3.10/dist-packages (from sentence_transformers) (0.20.3)\n",
            "Requirement already satisfied: Pillow in /usr/local/lib/python3.10/dist-packages (from sentence_transformers) (9.4.0)\n",
            "Requirement already satisfied: filelock in /usr/local/lib/python3.10/dist-packages (from huggingface-hub>=0.15.1->sentence_transformers) (3.14.0)\n",
            "Requirement already satisfied: fsspec>=2023.5.0 in /usr/local/lib/python3.10/dist-packages (from huggingface-hub>=0.15.1->sentence_transformers) (2023.6.0)\n",
            "Requirement already satisfied: requests in /usr/local/lib/python3.10/dist-packages (from huggingface-hub>=0.15.1->sentence_transformers) (2.31.0)\n",
            "Requirement already satisfied: pyyaml>=5.1 in /usr/local/lib/python3.10/dist-packages (from huggingface-hub>=0.15.1->sentence_transformers) (6.0.1)\n",
            "Requirement already satisfied: typing-extensions>=3.7.4.3 in /usr/local/lib/python3.10/dist-packages (from huggingface-hub>=0.15.1->sentence_transformers) (4.11.0)\n",
            "Requirement already satisfied: packaging>=20.9 in /usr/local/lib/python3.10/dist-packages (from huggingface-hub>=0.15.1->sentence_transformers) (24.0)\n",
            "Requirement already satisfied: sympy in /usr/local/lib/python3.10/dist-packages (from torch>=1.11.0->sentence_transformers) (1.12)\n",
            "Requirement already satisfied: networkx in /usr/local/lib/python3.10/dist-packages (from torch>=1.11.0->sentence_transformers) (3.3)\n",
            "Requirement already satisfied: jinja2 in /usr/local/lib/python3.10/dist-packages (from torch>=1.11.0->sentence_transformers) (3.1.3)\n",
            "Collecting nvidia-cuda-nvrtc-cu12==12.1.105 (from torch>=1.11.0->sentence_transformers)\n",
            "  Using cached nvidia_cuda_nvrtc_cu12-12.1.105-py3-none-manylinux1_x86_64.whl (23.7 MB)\n",
            "Collecting nvidia-cuda-runtime-cu12==12.1.105 (from torch>=1.11.0->sentence_transformers)\n",
            "  Using cached nvidia_cuda_runtime_cu12-12.1.105-py3-none-manylinux1_x86_64.whl (823 kB)\n",
            "Collecting nvidia-cuda-cupti-cu12==12.1.105 (from torch>=1.11.0->sentence_transformers)\n",
            "  Using cached nvidia_cuda_cupti_cu12-12.1.105-py3-none-manylinux1_x86_64.whl (14.1 MB)\n",
            "Collecting nvidia-cudnn-cu12==8.9.2.26 (from torch>=1.11.0->sentence_transformers)\n",
            "  Using cached nvidia_cudnn_cu12-8.9.2.26-py3-none-manylinux1_x86_64.whl (731.7 MB)\n",
            "Collecting nvidia-cublas-cu12==12.1.3.1 (from torch>=1.11.0->sentence_transformers)\n",
            "  Using cached nvidia_cublas_cu12-12.1.3.1-py3-none-manylinux1_x86_64.whl (410.6 MB)\n",
            "Collecting nvidia-cufft-cu12==11.0.2.54 (from torch>=1.11.0->sentence_transformers)\n",
            "  Using cached nvidia_cufft_cu12-11.0.2.54-py3-none-manylinux1_x86_64.whl (121.6 MB)\n",
            "Collecting nvidia-curand-cu12==10.3.2.106 (from torch>=1.11.0->sentence_transformers)\n",
            "  Using cached nvidia_curand_cu12-10.3.2.106-py3-none-manylinux1_x86_64.whl (56.5 MB)\n",
            "Collecting nvidia-cusolver-cu12==11.4.5.107 (from torch>=1.11.0->sentence_transformers)\n",
            "  Using cached nvidia_cusolver_cu12-11.4.5.107-py3-none-manylinux1_x86_64.whl (124.2 MB)\n",
            "Collecting nvidia-cusparse-cu12==12.1.0.106 (from torch>=1.11.0->sentence_transformers)\n",
            "  Using cached nvidia_cusparse_cu12-12.1.0.106-py3-none-manylinux1_x86_64.whl (196.0 MB)\n",
            "Collecting nvidia-nccl-cu12==2.19.3 (from torch>=1.11.0->sentence_transformers)\n",
            "  Using cached nvidia_nccl_cu12-2.19.3-py3-none-manylinux1_x86_64.whl (166.0 MB)\n",
            "Collecting nvidia-nvtx-cu12==12.1.105 (from torch>=1.11.0->sentence_transformers)\n",
            "  Using cached nvidia_nvtx_cu12-12.1.105-py3-none-manylinux1_x86_64.whl (99 kB)\n",
            "Requirement already satisfied: triton==2.2.0 in /usr/local/lib/python3.10/dist-packages (from torch>=1.11.0->sentence_transformers) (2.2.0)\n",
            "Collecting nvidia-nvjitlink-cu12 (from nvidia-cusolver-cu12==11.4.5.107->torch>=1.11.0->sentence_transformers)\n",
            "  Using cached nvidia_nvjitlink_cu12-12.4.127-py3-none-manylinux2014_x86_64.whl (21.1 MB)\n",
            "Requirement already satisfied: regex!=2019.12.17 in /usr/local/lib/python3.10/dist-packages (from transformers<5.0.0,>=4.34.0->sentence_transformers) (2023.12.25)\n",
            "Requirement already satisfied: tokenizers<0.20,>=0.19 in /usr/local/lib/python3.10/dist-packages (from transformers<5.0.0,>=4.34.0->sentence_transformers) (0.19.1)\n",
            "Requirement already satisfied: safetensors>=0.4.1 in /usr/local/lib/python3.10/dist-packages (from transformers<5.0.0,>=4.34.0->sentence_transformers) (0.4.3)\n",
            "Requirement already satisfied: joblib>=1.1.1 in /usr/local/lib/python3.10/dist-packages (from scikit-learn->sentence_transformers) (1.4.0)\n",
            "Requirement already satisfied: threadpoolctl>=2.0.0 in /usr/local/lib/python3.10/dist-packages (from scikit-learn->sentence_transformers) (3.5.0)\n",
            "Requirement already satisfied: MarkupSafe>=2.0 in /usr/local/lib/python3.10/dist-packages (from jinja2->torch>=1.11.0->sentence_transformers) (2.1.5)\n",
            "Requirement already satisfied: charset-normalizer<4,>=2 in /usr/local/lib/python3.10/dist-packages (from requests->huggingface-hub>=0.15.1->sentence_transformers) (3.3.2)\n",
            "Requirement already satisfied: idna<4,>=2.5 in /usr/local/lib/python3.10/dist-packages (from requests->huggingface-hub>=0.15.1->sentence_transformers) (3.7)\n",
            "Requirement already satisfied: urllib3<3,>=1.21.1 in /usr/local/lib/python3.10/dist-packages (from requests->huggingface-hub>=0.15.1->sentence_transformers) (2.0.7)\n",
            "Requirement already satisfied: certifi>=2017.4.17 in /usr/local/lib/python3.10/dist-packages (from requests->huggingface-hub>=0.15.1->sentence_transformers) (2024.2.2)\n",
            "Requirement already satisfied: mpmath>=0.19 in /usr/local/lib/python3.10/dist-packages (from sympy->torch>=1.11.0->sentence_transformers) (1.3.0)\n",
            "Installing collected packages: nvidia-nvtx-cu12, nvidia-nvjitlink-cu12, nvidia-nccl-cu12, nvidia-curand-cu12, nvidia-cufft-cu12, nvidia-cuda-runtime-cu12, nvidia-cuda-nvrtc-cu12, nvidia-cuda-cupti-cu12, nvidia-cublas-cu12, nvidia-cusparse-cu12, nvidia-cudnn-cu12, nvidia-cusolver-cu12, sentence_transformers\n",
            "Successfully installed nvidia-cublas-cu12-12.1.3.1 nvidia-cuda-cupti-cu12-12.1.105 nvidia-cuda-nvrtc-cu12-12.1.105 nvidia-cuda-runtime-cu12-12.1.105 nvidia-cudnn-cu12-8.9.2.26 nvidia-cufft-cu12-11.0.2.54 nvidia-curand-cu12-10.3.2.106 nvidia-cusolver-cu12-11.4.5.107 nvidia-cusparse-cu12-12.1.0.106 nvidia-nccl-cu12-2.19.3 nvidia-nvjitlink-cu12-12.4.127 nvidia-nvtx-cu12-12.1.105 sentence_transformers-2.7.0\n"
          ]
        }
      ],
      "source": [
        "!pip install sentence_transformers"
      ]
    },
    {
      "cell_type": "code",
      "execution_count": null,
      "id": "1y_GWDUBg98F",
      "metadata": {
        "colab": {
          "base_uri": "https://localhost:8080/"
        },
        "id": "1y_GWDUBg98F",
        "outputId": "9bd434b1-fdd1-47b4-b63d-59c9f370315b"
      },
      "outputs": [
        {
          "output_type": "stream",
          "name": "stdout",
          "text": [
            "Collecting einops\n",
            "  Downloading einops-0.8.0-py3-none-any.whl (43 kB)\n",
            "\u001b[?25l     \u001b[90m━━━━━━━━━━━━━━━━━━━━━━━━━━━━━━━━━━━━━━━━\u001b[0m \u001b[32m0.0/43.2 kB\u001b[0m \u001b[31m?\u001b[0m eta \u001b[36m-:--:--\u001b[0m\r\u001b[2K     \u001b[90m━━━━━━━━━━━━━━━━━━━━━━━━━━━━━━━━━━━━━━━━\u001b[0m \u001b[32m43.2/43.2 kB\u001b[0m \u001b[31m1.8 MB/s\u001b[0m eta \u001b[36m0:00:00\u001b[0m\n",
            "\u001b[?25hInstalling collected packages: einops\n",
            "Successfully installed einops-0.8.0\n"
          ]
        }
      ],
      "source": [
        "!pip install einops"
      ]
    },
    {
      "cell_type": "code",
      "execution_count": null,
      "id": "98c8f10b-60c2-4170-8c60-eb59e0e5a4d1",
      "metadata": {
        "colab": {
          "base_uri": "https://localhost:8080/"
        },
        "id": "98c8f10b-60c2-4170-8c60-eb59e0e5a4d1",
        "outputId": "6f8e6b1d-e354-42e2-ae0a-f10a84fa3e40"
      },
      "outputs": [
        {
          "output_type": "stream",
          "name": "stdout",
          "text": [
            "Token will not been saved to git credential helper. Pass `add_to_git_credential=True` if you want to set the git credential as well.\n",
            "Token is valid (permission: read).\n",
            "Your token has been saved to /root/.cache/huggingface/token\n",
            "Login successful\n"
          ]
        }
      ],
      "source": [
        "import nomic\n",
        "from sentence_transformers import SentenceTransformer\n",
        "from huggingface_hub import login\n",
        "login(token=userdata.get('HF_TOKEN'))"
      ]
    },
    {
      "cell_type": "markdown",
      "id": "4TgJ2Ob4MFbl",
      "metadata": {
        "id": "4TgJ2Ob4MFbl"
      },
      "source": [
        "## Load Corpora Data"
      ]
    },
    {
      "cell_type": "markdown",
      "id": "g6ZYGFHFsQfw",
      "metadata": {
        "id": "g6ZYGFHFsQfw"
      },
      "source": [
        "### GPR"
      ]
    },
    {
      "cell_type": "code",
      "execution_count": null,
      "id": "SxFLKKkTNvR-",
      "metadata": {
        "colab": {
          "base_uri": "https://localhost:8080/"
        },
        "id": "SxFLKKkTNvR-",
        "outputId": "d98c142f-8bc6-472e-cd8f-453e551e042c"
      },
      "outputs": [
        {
          "output_type": "stream",
          "name": "stdout",
          "text": [
            "gpr_corpus.zip successfully imported\n",
            "Files extracted: ['gpr_corpus', '__MACOSX']\n"
          ]
        }
      ],
      "source": [
        "subprocess.run(\"osf -p sakjg fetch --force osfstorage/corpora/gpr_corpus.zip\", shell=True)\n",
        "print(\"gpr_corpus.zip successfully imported\")\n",
        "gpr_corpus_file_path_zip = 'gpr_corpus.zip'\n",
        "gpr_corpus_file_path = 'corpora/gpr-corpus'\n",
        "with zipfile.ZipFile(gpr_corpus_file_path_zip, 'r') as zip_ref:\n",
        "  zip_ref.extractall(gpr_corpus_file_path)\n",
        "extracted_files = os.listdir(gpr_corpus_file_path)\n",
        "print(\"Files extracted:\", extracted_files)"
      ]
    },
    {
      "cell_type": "markdown",
      "id": "AEl2TxdLsRkD",
      "metadata": {
        "id": "AEl2TxdLsRkD"
      },
      "source": [
        "### EACL"
      ]
    },
    {
      "cell_type": "code",
      "execution_count": null,
      "id": "EEdfwyRaMHNN",
      "metadata": {
        "colab": {
          "base_uri": "https://localhost:8080/"
        },
        "id": "EEdfwyRaMHNN",
        "outputId": "aec5288a-7bf0-4b9f-f871-db876650689a"
      },
      "outputs": [
        {
          "output_type": "stream",
          "name": "stdout",
          "text": [
            "eacl_corpus.zip successfully imported\n",
            "Files extracted: ['__MACOSX', 'eacl_corpus']\n"
          ]
        }
      ],
      "source": [
        "subprocess.run(\"osf -p sakjg fetch --force osfstorage/corpora/eacl_corpus.zip\", shell=True)\n",
        "print(\"eacl_corpus.zip successfully imported\")\n",
        "eacl_corpus_file_path_zip = 'eacl_corpus.zip'\n",
        "eacl_corpus_file_path = 'corpora/eacl-corpus'\n",
        "with zipfile.ZipFile(eacl_corpus_file_path_zip, 'r') as zip_ref:\n",
        "  zip_ref.extractall(eacl_corpus_file_path)\n",
        "extracted_files = os.listdir(eacl_corpus_file_path)\n",
        "print(\"Files extracted:\", extracted_files)"
      ]
    },
    {
      "cell_type": "markdown",
      "id": "Ym2DxgkGy5sW",
      "metadata": {
        "id": "Ym2DxgkGy5sW"
      },
      "source": [
        "### persuade_corpus"
      ]
    },
    {
      "cell_type": "code",
      "execution_count": null,
      "id": "gRjC2thyy7Jw",
      "metadata": {
        "colab": {
          "base_uri": "https://localhost:8080/"
        },
        "id": "gRjC2thyy7Jw",
        "outputId": "8149dcd4-0935-4343-c623-129a504fea16"
      },
      "outputs": [
        {
          "output_type": "stream",
          "name": "stdout",
          "text": [
            "persuade_corpus.zip successfully imported\n",
            "Files extracted: ['persuade_corpus', '__MACOSX']\n"
          ]
        }
      ],
      "source": [
        "subprocess.run(\"osf -p sakjg fetch --force osfstorage/corpora/persuade_corpus.zip\", shell=True)\n",
        "print(\"persuade_corpus.zip successfully imported\")\n",
        "persuade_corpus_file_path_zip = 'persuade_corpus.zip'\n",
        "persuade_corpus_file_path = 'corpora/persuade-corpus'\n",
        "with zipfile.ZipFile(persuade_corpus_file_path_zip, 'r') as zip_ref:\n",
        "  zip_ref.extractall(persuade_corpus_file_path)\n",
        "extracted_files = os.listdir(persuade_corpus_file_path)\n",
        "print(\"Files extracted:\", extracted_files)"
      ]
    },
    {
      "cell_type": "markdown",
      "id": "09eGtSDXsTCa",
      "metadata": {
        "id": "09eGtSDXsTCa"
      },
      "source": [
        "### SciFact"
      ]
    },
    {
      "cell_type": "code",
      "execution_count": null,
      "id": "trK8YnyXrlLw",
      "metadata": {
        "colab": {
          "base_uri": "https://localhost:8080/"
        },
        "id": "trK8YnyXrlLw",
        "outputId": "798b5ff7-e5aa-402e-e6d6-103db9883860"
      },
      "outputs": [
        {
          "output_type": "stream",
          "name": "stdout",
          "text": [
            "scifact_corpus.zip successfully imported\n",
            "Files extracted: ['scifact_corpus', '__MACOSX']\n"
          ]
        }
      ],
      "source": [
        "subprocess.run(\"osf -p sakjg fetch --force osfstorage/corpora/scifact_corpus.zip\", shell=True)\n",
        "print(\"scifact_corpus.zip successfully imported\")\n",
        "scifact_corpus_file_path_zip = 'scifact_corpus.zip'\n",
        "scifact_corpus_file_path = 'corpora/scifact-corpus'\n",
        "with zipfile.ZipFile(scifact_corpus_file_path_zip, 'r') as zip_ref:\n",
        "  zip_ref.extractall(scifact_corpus_file_path)\n",
        "extracted_files = os.listdir(scifact_corpus_file_path)\n",
        "print(\"Files extracted:\", extracted_files)"
      ]
    },
    {
      "cell_type": "markdown",
      "id": "d77496b2-c993-4be3-b1bb-eca04e33cf3c",
      "metadata": {
        "id": "d77496b2-c993-4be3-b1bb-eca04e33cf3c"
      },
      "source": [
        "## Data"
      ]
    },
    {
      "cell_type": "markdown",
      "id": "DY6bkCBzu1j-",
      "metadata": {
        "id": "DY6bkCBzu1j-"
      },
      "source": [
        "### [Imports] Get Embeddings"
      ]
    },
    {
      "cell_type": "code",
      "execution_count": null,
      "id": "ObzXq9KbrfB9",
      "metadata": {
        "colab": {
          "base_uri": "https://localhost:8080/",
          "referenced_widgets": [
            "73b75dfa48e247de824c9c74dcc4ff3a",
            "f5a5a3d9500c49129ec59a20ccb07366",
            "fbca8214c7a64b548daf4c38ba29135b",
            "39edab210e0c4bc98900158f9065070e",
            "60afbdeae1a64eff84d7b9fcc16398a0",
            "c26d0f6156a342cf9e4be358d29183e6",
            "841d894512404532ab50437f3961dcb9",
            "32b9b4fbff144b75af5b963761e79b29",
            "f9a2d536d912439bb086cd5fa9fe6417",
            "93bac2a398944d219aa2256f5b658a90",
            "9e0e79fe11c843a8b720ae88a3e22378",
            "f19027e190f042f0b44835194589e3fa",
            "c88b4e3b581f428db1967c859bb37d75",
            "e3edf31264454ee4a9576ae53fc1b860",
            "9074e6b509054799a3471b8c46370716",
            "03210e86952a453794765b64c561143b",
            "1b0b045708724da1b6986c7faaf52259",
            "05d27de74b08421c86f6f87f4c45906d",
            "2b0017200f1547539b9c7a298e8f6fea",
            "e411bb57f9a64dc298a0c2fc04b4c9a6",
            "a2925b3c3b5b4955b499613dca427299",
            "4d3ffc7ade85413084a52cdb8f06f39d",
            "0df56df55ce9479290fb3230775f470b",
            "0335b0a01b8141ef82bb3dd95f1d28e4",
            "a0b77be74686495a802c5b37a24edb22",
            "a8fc2f17f3eb4ad6913dc9d3a5185240",
            "8bb5fce06332434fa5c0acd27569173a",
            "91ac893eed7a40d7ba91f812365576ba",
            "175af8a66ada46a0bde2e49798f32582",
            "6fe3c1c95c1b4740b5acef649c33932a",
            "097e0d18d4bb4bfe9c7aa9b2c7367e1c",
            "94bd36d88fa541d3a9e05081a83ccf23",
            "b226160dfcbb4bbb97a697639c704923",
            "bff220efbbd749eba385bc766ddf1ddc",
            "194c1dff2f0f452fb4f76ebd1f1e6e69",
            "5af6e180d2bd4b5caff7c06c6bb50919",
            "7de047d9e019432ba34d482a8001a5c7",
            "a92b56202b984ff989719fc3a57b98be",
            "81ba79cea5e84413b612d9934e1c3cf6",
            "7ec28029271c4d37a97fce606b7eeced",
            "d779047e9eea4fd190e34402f93119c5",
            "b026c3137ec247c494fde308ef2a6911",
            "916883a03af0434c9ff2c239e811ccbd",
            "f5cb7360b38d4f2280eeb1206c2bc3a9",
            "9e57699195e54ea992fecd5517f822fb",
            "c2062b69c5e24159a6d21a6d896804c7",
            "4203770f27064d5ca57f04de573d6e9b",
            "8d803f688b094cffa499eec344e50537",
            "0186f15bfbd84e40b64bf56535a17546",
            "ed5549fff917497bbf320e8f99ab48ce",
            "74dbb2d5164e476f818f4bba163ac2e1",
            "ed6476c2effa41a78a463e4f409e85ef",
            "6e24061a7c644b788735f3f36ac94699",
            "0f83a87b1d7b42dcb3df708828c5c5d1",
            "b5a251fce3a64ea6bcdb66dfd85f5a20",
            "942f6a1dc2f7444d9cf6207396b09d4f",
            "40e3ed4985b648829dd435973c81bee9",
            "58cfe1ddd5c845e499fd9623eafdcdeb",
            "eece89269f984fdb8203c6f0470be97c",
            "c18fd258c0e14a30bd0944b6d69d8556",
            "f7681447075a478aad6077977780ed49",
            "908714e35c2d4bd8ba9e79c806ed6a57",
            "d93f5ec14aec4d58a56b016c792d56db",
            "f66cb4fdef844e0d9f9387be67fbd4b0",
            "1f7672a5f0a44c63a1ecea481e16a64d",
            "2638de916c63446b8ea3632a051efa10",
            "cc90790d944d4351bedc576e2396e6e8",
            "6fd1efe706874ac8a0958b3de7ae1748",
            "e7cdb319289d435889c3a8504ac93b4f",
            "3a931f7e4b4b410f8ec4f1152267581a",
            "f03e0c353aa14ec58797f7342df1ef54",
            "8e9018a5916742758943080883913931",
            "2f4bd8c1df774d93a35b62c34b1ddb62",
            "29b38f189c6445e2aaad453a402204c1",
            "53ea2e901bc3446fbe7b18d62b200850",
            "a02f138d228d4c32a960557dbe182671",
            "2d3a32f0dc7f4531904d12290598c5fb",
            "62cf47c96ee7474e83c466be07527bd5",
            "42c6290612574afda45f0467e48e7478",
            "00669011b689416eb2b06552c1a71d06",
            "f892a2ac9c7a428ebd2f320771d3c520",
            "a3d5ae9c657848dbb0da0c23924d6f6b",
            "294fdb235a324d06b8e71b1fba96a0d3",
            "9258fcd99a2d4a8cb74a2aa0b15e913e",
            "d2094c462edc40c7b2043b39fa5bc2ba",
            "c635781f845d4b79a4b2d2cc76505135",
            "736686cdc33540529896c8d8a8bbac9e",
            "90f4059c986d4a909708d564d39a16a7",
            "9e48edcff8de4e2c9b5acc5942f41c15",
            "271081fbbfe74647915b8e3a62d50e22",
            "ae168ed12c80430e955cf01b0687c973",
            "07084a50c5f2497eb30e3f29a00d8ea2",
            "dc6f4f5647674f229b637feb0e205f6f",
            "d9afc0f032d349749e5116193d6a533d",
            "91dc69e75cb142c1a8c1e165ff814acd",
            "4a459936fe894b36bbf90460a6764946",
            "bb15ffdf85634073b1f98fc5739c1127",
            "19cbeaab4c5c4394b46f88f66a03ff91",
            "0d85ea2d63474dd1a37929abad7729fb",
            "4bf81e0d58544ebd877c7a012b77e513",
            "3ccb00b6b58041b692755c2994b6d3bd",
            "da6aab3d873a41aeb5c5b440a294988c",
            "3a8e39ec0184459bbfbe9a571b96778f",
            "3eb9d2f05f0c4a479c648ce3228c02a3",
            "c4bb73f05d5e4c2788708711a0f16030",
            "fa2ebe6a55df48a982790ab45dac43db",
            "da9cfc2191b443779bf450e08d476bde",
            "f26035b26c014d8ca4240b2cbeab7b08",
            "6bd77bcb809549c3ae44b23b9ec9ce4c",
            "b8b749f0f424466f8e1a5d7bcb1609dc",
            "305ad0c3839748ca91bc7715e3f25dd3",
            "cb3f670bdce94bfeb38420f174037f35",
            "fa1f5d2f783449a19aeb3fbbd688b84a",
            "1b702af20c2e48bea97a339563639c61",
            "bb2b4cd544184d0086c3567f887aa6bb",
            "b2412858000746f9b90c627c2c7143cf",
            "18e06c0f5e864b619c7a8684181cf893",
            "ebbed0549667426a8e02bb892c8cb2fc",
            "3b6ffe82d0f44658a35fa7e9154e8880",
            "a43f2c0ec4a748eebad042a01299b575",
            "f42c2c3e877f4d8ea2f7d1b85320f6b7",
            "669a6d5239bb47d8b5627cf7db512634",
            "77ac0d666105436c80819b99e83f5f3a",
            "0ee4dc04902b4faaa244f0639672c80d",
            "f1c17305bcb84d90944fc1576b596074",
            "221cbb2bf0d845a887d20aad91c03427",
            "2c9c5ebc0aa1479ba173ab3bccb73331",
            "5a44f66d25734feca05b31f661a05d45",
            "0713a7ca1e7a4fb98b6ffac47e8ca890",
            "44c961f2ca28468798be7c7ae07ad398",
            "c81dc5209e6d4ad6bf5f3aa8b0a5104d",
            "b36cdc45a6f44eb68ac7baf48698dcdd",
            "6fb58d37b4f44499858ef331edeeb51b",
            "4daf99dc8c724513b2e97d2d05dc0ca9",
            "41e9913097e64e0f82bfe6f1a0ac78b4",
            "b6bef7a9fdb84708b5b3bc52c51fe04e",
            "5b3d7d434b0247988ab4c51105f5ce0e",
            "3633c4770f814fc981b27f1b9e6c38e5",
            "e8f74648cc794d2aadd3064f10c17ad3",
            "630b8237275e419fa17817b7a3538b08",
            "e48e1fc08a1d46ab862b4b0e9aaa17aa",
            "d376ae3a01824764b85e6922a25d55c3",
            "bcd85c153975420d8f1f20982d7bfdec"
          ]
        },
        "id": "ObzXq9KbrfB9",
        "outputId": "b5b908c8-762b-411d-9a57-9cfa0be214d2"
      },
      "outputs": [
        {
          "output_type": "display_data",
          "data": {
            "text/plain": [
              "modules.json:   0%|          | 0.00/255 [00:00<?, ?B/s]"
            ],
            "application/vnd.jupyter.widget-view+json": {
              "version_major": 2,
              "version_minor": 0,
              "model_id": "73b75dfa48e247de824c9c74dcc4ff3a"
            }
          },
          "metadata": {}
        },
        {
          "output_type": "display_data",
          "data": {
            "text/plain": [
              "config_sentence_transformers.json:   0%|          | 0.00/140 [00:00<?, ?B/s]"
            ],
            "application/vnd.jupyter.widget-view+json": {
              "version_major": 2,
              "version_minor": 0,
              "model_id": "f19027e190f042f0b44835194589e3fa"
            }
          },
          "metadata": {}
        },
        {
          "output_type": "display_data",
          "data": {
            "text/plain": [
              "README.md:   0%|          | 0.00/69.5k [00:00<?, ?B/s]"
            ],
            "application/vnd.jupyter.widget-view+json": {
              "version_major": 2,
              "version_minor": 0,
              "model_id": "0df56df55ce9479290fb3230775f470b"
            }
          },
          "metadata": {}
        },
        {
          "output_type": "display_data",
          "data": {
            "text/plain": [
              "sentence_bert_config.json:   0%|          | 0.00/120 [00:00<?, ?B/s]"
            ],
            "application/vnd.jupyter.widget-view+json": {
              "version_major": 2,
              "version_minor": 0,
              "model_id": "bff220efbbd749eba385bc766ddf1ddc"
            }
          },
          "metadata": {}
        },
        {
          "output_type": "display_data",
          "data": {
            "text/plain": [
              "config.json:   0%|          | 0.00/2.06k [00:00<?, ?B/s]"
            ],
            "application/vnd.jupyter.widget-view+json": {
              "version_major": 2,
              "version_minor": 0,
              "model_id": "9e57699195e54ea992fecd5517f822fb"
            }
          },
          "metadata": {}
        },
        {
          "output_type": "display_data",
          "data": {
            "text/plain": [
              "configuration_hf_nomic_bert.py:   0%|          | 0.00/1.96k [00:00<?, ?B/s]"
            ],
            "application/vnd.jupyter.widget-view+json": {
              "version_major": 2,
              "version_minor": 0,
              "model_id": "942f6a1dc2f7444d9cf6207396b09d4f"
            }
          },
          "metadata": {}
        },
        {
          "output_type": "stream",
          "name": "stderr",
          "text": [
            "A new version of the following files was downloaded from https://huggingface.co/nomic-ai/nomic-bert-2048:\n",
            "- configuration_hf_nomic_bert.py\n",
            ". Make sure to double-check they do not contain any added malicious code. To avoid downloading new versions of the code file, you can pin a revision.\n"
          ]
        },
        {
          "output_type": "display_data",
          "data": {
            "text/plain": [
              "modeling_hf_nomic_bert.py:   0%|          | 0.00/52.8k [00:00<?, ?B/s]"
            ],
            "application/vnd.jupyter.widget-view+json": {
              "version_major": 2,
              "version_minor": 0,
              "model_id": "cc90790d944d4351bedc576e2396e6e8"
            }
          },
          "metadata": {}
        },
        {
          "output_type": "stream",
          "name": "stderr",
          "text": [
            "A new version of the following files was downloaded from https://huggingface.co/nomic-ai/nomic-bert-2048:\n",
            "- modeling_hf_nomic_bert.py\n",
            ". Make sure to double-check they do not contain any added malicious code. To avoid downloading new versions of the code file, you can pin a revision.\n"
          ]
        },
        {
          "output_type": "display_data",
          "data": {
            "text/plain": [
              "model.safetensors:   0%|          | 0.00/547M [00:00<?, ?B/s]"
            ],
            "application/vnd.jupyter.widget-view+json": {
              "version_major": 2,
              "version_minor": 0,
              "model_id": "62cf47c96ee7474e83c466be07527bd5"
            }
          },
          "metadata": {}
        },
        {
          "output_type": "stream",
          "name": "stderr",
          "text": [
            "WARNING:transformers_modules.nomic-ai.nomic-bert-2048.7b260c5676ce4ba4a117f15bc24ac13ab4b81695.modeling_hf_nomic_bert:<All keys matched successfully>\n"
          ]
        },
        {
          "output_type": "display_data",
          "data": {
            "text/plain": [
              "tokenizer_config.json:   0%|          | 0.00/1.19k [00:00<?, ?B/s]"
            ],
            "application/vnd.jupyter.widget-view+json": {
              "version_major": 2,
              "version_minor": 0,
              "model_id": "9e48edcff8de4e2c9b5acc5942f41c15"
            }
          },
          "metadata": {}
        },
        {
          "output_type": "display_data",
          "data": {
            "text/plain": [
              "vocab.txt:   0%|          | 0.00/232k [00:00<?, ?B/s]"
            ],
            "application/vnd.jupyter.widget-view+json": {
              "version_major": 2,
              "version_minor": 0,
              "model_id": "4bf81e0d58544ebd877c7a012b77e513"
            }
          },
          "metadata": {}
        },
        {
          "output_type": "display_data",
          "data": {
            "text/plain": [
              "tokenizer.json:   0%|          | 0.00/711k [00:00<?, ?B/s]"
            ],
            "application/vnd.jupyter.widget-view+json": {
              "version_major": 2,
              "version_minor": 0,
              "model_id": "305ad0c3839748ca91bc7715e3f25dd3"
            }
          },
          "metadata": {}
        },
        {
          "output_type": "display_data",
          "data": {
            "text/plain": [
              "special_tokens_map.json:   0%|          | 0.00/695 [00:00<?, ?B/s]"
            ],
            "application/vnd.jupyter.widget-view+json": {
              "version_major": 2,
              "version_minor": 0,
              "model_id": "669a6d5239bb47d8b5627cf7db512634"
            }
          },
          "metadata": {}
        },
        {
          "output_type": "display_data",
          "data": {
            "text/plain": [
              "1_Pooling/config.json:   0%|          | 0.00/286 [00:00<?, ?B/s]"
            ],
            "application/vnd.jupyter.widget-view+json": {
              "version_major": 2,
              "version_minor": 0,
              "model_id": "6fb58d37b4f44499858ef331edeeb51b"
            }
          },
          "metadata": {}
        }
      ],
      "source": [
        "DIM_EMBEDDING = 768\n",
        "model = SentenceTransformer(\"nomic-ai/nomic-embed-text-v1.5\", trust_remote_code=True)"
      ]
    },
    {
      "cell_type": "markdown",
      "id": "b7848602-f4e3-4d65-8833-d33c230a953f",
      "metadata": {
        "id": "b7848602-f4e3-4d65-8833-d33c230a953f"
      },
      "source": [
        "### GPR 55"
      ]
    },
    {
      "cell_type": "code",
      "execution_count": null,
      "id": "6f69ad0b-d78e-4ddd-8117-ce316aed90a9",
      "metadata": {
        "id": "6f69ad0b-d78e-4ddd-8117-ce316aed90a9"
      },
      "outputs": [],
      "source": [
        "gpr_df = pd.read_csv(\"corpora/gpr-corpus/gpr_corpus/GPR-KB-55/GPR-KB-55.csv\")"
      ]
    },
    {
      "cell_type": "code",
      "execution_count": null,
      "id": "ab2a4a33-9bcd-4900-8fb7-760c9bc50cfe",
      "metadata": {
        "id": "ab2a4a33-9bcd-4900-8fb7-760c9bc50cfe"
      },
      "outputs": [],
      "source": [
        "def gpr_get_embeddings_df(gpr_df: pd.DataFrame) -> pd.DataFrame:\n",
        "  gpr_embeddings_df = pd.DataFrame()\n",
        "  arguments_list = list(gpr_df)\n",
        "\n",
        "  claims_embeddings = model.encode(['search_document: ' + argument for argument in arguments_list])\n",
        "  claims_embeddings_df = pd.DataFrame(claims_embeddings, columns=[str(i) for i in range(DIM_EMBEDDING)])\n",
        "  claims_embeddings_df = pd.concat([gpr_df, claims_embeddings_df], axis=1)\n",
        "  claims_embeddings_df = claims_embeddings_df.reset_index(drop=True)\n",
        "\n",
        "  return claims_embeddings_df"
      ]
    },
    {
      "cell_type": "code",
      "execution_count": null,
      "id": "199a733b-f251-496e-9b2b-73222c703857",
      "metadata": {
        "id": "199a733b-f251-496e-9b2b-73222c703857"
      },
      "outputs": [],
      "source": [
        "gpr_claims_df = gpr_get_embeddings_df(gpr_df['claim'])\n",
        "gpr_rebuttals_df = gpr_get_embeddings_df(gpr_df['rebuttal'])\n",
        "gpr_x_test = gpr_claims_df.select_dtypes(include=[np.number])\n",
        "gpr_y_test = gpr_rebuttals_df.select_dtypes(include=[np.number])\n",
        "gpr_combined = pd.concat([gpr_claims_df, gpr_rebuttals_df])\n",
        "gpr_combined = gpr_combined.reset_index(drop=True)\n",
        "gpr_combined_nums = gpr_combined.select_dtypes(include=[np.number])"
      ]
    },
    {
      "cell_type": "code",
      "execution_count": null,
      "id": "d0682cdf-9b24-4f96-9bce-0dfb06cd0cec",
      "metadata": {
        "id": "d0682cdf-9b24-4f96-9bce-0dfb06cd0cec"
      },
      "outputs": [],
      "source": [
        "def metric_choose_argument_gpr(y_true, y_pred):\n",
        "  \"\"\"See if the output vector is closest to the rebuttal to the claim\"\"\"\n",
        "  gpr_training_df_32 = tf.cast(gpr_combined_nums, dtype=tf.float32)\n",
        "  gpr_norm = tf.norm(gpr_training_df_32, axis=1)\n",
        "\n",
        "  cos_sim_pred = tf.matmul(gpr_training_df_32, y_pred, transpose_b=True) / tf.reshape(tf.norm(y_pred) * gpr_norm, [-1, 1])\n",
        "  cos_sim_true = tf.matmul(gpr_training_df_32, y_true, transpose_b=True) / tf.reshape(tf.norm(y_true) * gpr_norm, [-1, 1])\n",
        "\n",
        "  max_cos_sim_pred = tf.math.argmax(cos_sim_pred)\n",
        "  max_cos_sim_true = tf.math.argmax(cos_sim_true)\n",
        "\n",
        "  return tf.math.count_nonzero(tf.equal(max_cos_sim_pred, max_cos_sim_true))"
      ]
    },
    {
      "cell_type": "markdown",
      "id": "f4fce8f5-b7ad-4898-88e2-205c885875d8",
      "metadata": {
        "id": "f4fce8f5-b7ad-4898-88e2-205c885875d8"
      },
      "source": [
        "### EACL"
      ]
    },
    {
      "cell_type": "code",
      "execution_count": null,
      "id": "43b0767d-3428-49db-bce1-5f26dccda2e6",
      "metadata": {
        "id": "43b0767d-3428-49db-bce1-5f26dccda2e6",
        "scrolled": true
      },
      "outputs": [],
      "source": [
        "eacl_df = pd.read_csv(\"corpora/eacl-corpus/eacl_corpus/claim_stance_dataset.csv\")\n",
        "eacl_df = eacl_df[['topicId', 'topicText', 'claims.stance', 'claims.claimCorrectedText']]"
      ]
    },
    {
      "cell_type": "code",
      "execution_count": null,
      "id": "5bd479fd-e5db-4348-b4ae-8cf77b7cc345",
      "metadata": {
        "id": "5bd479fd-e5db-4348-b4ae-8cf77b7cc345"
      },
      "outputs": [],
      "source": [
        "topic_lens = []\n",
        "pro_lens = []\n",
        "con_lens = []\n",
        "for topic in eacl_df['topicId'].unique():\n",
        "  topic_rows = eacl_df[eacl_df['topicId'] == topic]\n",
        "  topic_lens.append(len(topic_rows))\n",
        "  pro_lens.append(len(topic_rows[topic_rows['claims.stance'] == \"PRO\"]))\n",
        "  con_lens.append(len(topic_rows[topic_rows['claims.stance'] == \"CON\"]))"
      ]
    },
    {
      "cell_type": "code",
      "execution_count": null,
      "id": "tMMJVYI4sL0a",
      "metadata": {
        "id": "tMMJVYI4sL0a"
      },
      "outputs": [],
      "source": [
        "def eacl_get_embeddings_df(eacl_df: pd.DataFrame) -> pd.DataFrame:\n",
        "  eacl_embeddings_df = pd.DataFrame()\n",
        "  arguments_list = list(eacl_df['claims.claimCorrectedText'])\n",
        "\n",
        "  embeddings = model.encode(['search_document: ' + argument for argument in arguments_list])\n",
        "  embeddings_df = pd.DataFrame(embeddings, columns=[str(i) for i in range(DIM_EMBEDDING)])\n",
        "  embeddings_df = pd.concat([eacl_df, embeddings_df], axis=1)\n",
        "  embeddings_df = embeddings_df.reset_index(drop=True)\n",
        "\n",
        "  return embeddings_df"
      ]
    },
    {
      "cell_type": "code",
      "execution_count": null,
      "id": "b87e8091-e303-4388-a899-fe6a4cdaa3bc",
      "metadata": {
        "id": "b87e8091-e303-4388-a899-fe6a4cdaa3bc",
        "scrolled": true
      },
      "outputs": [],
      "source": [
        "eacl_embeddings_df = eacl_get_embeddings_df(eacl_df)"
      ]
    },
    {
      "cell_type": "code",
      "execution_count": null,
      "id": "bbab4309-efd9-4f13-a756-154d2e229ed5",
      "metadata": {
        "id": "bbab4309-efd9-4f13-a756-154d2e229ed5",
        "scrolled": true
      },
      "outputs": [],
      "source": [
        "eacl_nums_df = eacl_embeddings_df.select_dtypes(include=[np.number])\n",
        "eacl_vectors_df = eacl_nums_df.drop('topicId', axis=1)"
      ]
    },
    {
      "cell_type": "markdown",
      "id": "KBoDgWRKzHJn",
      "metadata": {
        "id": "KBoDgWRKzHJn"
      },
      "source": [
        "### Persuade Corpus"
      ]
    },
    {
      "cell_type": "code",
      "execution_count": null,
      "id": "Y-ssdwxAzLdO",
      "metadata": {
        "id": "Y-ssdwxAzLdO"
      },
      "outputs": [],
      "source": [
        "persuade_corpus = pd.read_csv('/content/corpora/persuade-corpus/persuade_corpus/persuade_corpus_1.0.csv')\n",
        "persuade_source = pd.read_csv('/content/corpora/persuade-corpus/persuade_corpus/persuade_2.0_human_scores_demo_id_github.csv')"
      ]
    },
    {
      "cell_type": "code",
      "execution_count": null,
      "id": "LfSplQBrzTMg",
      "metadata": {
        "id": "LfSplQBrzTMg"
      },
      "outputs": [],
      "source": [
        "persuade_corpus = persuade_corpus[persuade_corpus['discourse_type'] == \"Evidence\"]\n",
        "persuade_corpus = persuade_corpus.drop(columns=['competition_set', 'full_text', 'discourse_id', 'discourse_start', 'discourse_end', 'discourse_type_num'])"
      ]
    },
    {
      "cell_type": "code",
      "execution_count": null,
      "id": "cPhg-urjzkhQ",
      "metadata": {
        "id": "cPhg-urjzkhQ"
      },
      "outputs": [],
      "source": [
        "persuade_source = persuade_source.drop(columns=['full_text', 'holistic_essay_score', 'word_count', 'task', 'assignment', 'source_text', 'gender', 'grade_level', 'ell_status', 'race_ethnicity', 'economically_disadvantaged', 'student_disability_status'])"
      ]
    },
    {
      "cell_type": "code",
      "execution_count": null,
      "id": "OzUpCb3V04AN",
      "metadata": {
        "id": "OzUpCb3V04AN"
      },
      "outputs": [],
      "source": [
        "persuade_source_dict = zip(persuade_source['essay_id_comp'], persuade_source['prompt_name'])"
      ]
    },
    {
      "cell_type": "code",
      "execution_count": null,
      "id": "Z1ubfKpK1Pfd",
      "metadata": {
        "id": "Z1ubfKpK1Pfd"
      },
      "outputs": [],
      "source": [
        "persuade_source_dict = dict(persuade_source_dict)"
      ]
    },
    {
      "cell_type": "code",
      "execution_count": null,
      "id": "G23vkial1n18",
      "metadata": {
        "id": "G23vkial1n18"
      },
      "outputs": [],
      "source": [
        "persuade_corpus['argument'] = [persuade_source_dict[essay_id] if essay_id in persuade_source_dict.keys() else \"\" for essay_id in persuade_corpus['essay_id_comp']]"
      ]
    },
    {
      "cell_type": "code",
      "execution_count": null,
      "id": "1nDTVqrk18Tv",
      "metadata": {
        "id": "1nDTVqrk18Tv"
      },
      "outputs": [],
      "source": [
        "persuade_corpus = persuade_corpus[persuade_corpus['argument'] != \"\"]"
      ]
    },
    {
      "cell_type": "code",
      "execution_count": null,
      "id": "YcRZE6r12BK_",
      "metadata": {
        "id": "YcRZE6r12BK_"
      },
      "outputs": [],
      "source": [
        "persuade_corpus = persuade_corpus.drop(columns=['discourse_type', 'essay_id_comp'])\n",
        "persuade_corpus = persuade_corpus.rename(columns={'discourse_text': 'evidence'})"
      ]
    },
    {
      "cell_type": "code",
      "execution_count": null,
      "id": "nzx2E_hr2VJE",
      "metadata": {
        "id": "nzx2E_hr2VJE"
      },
      "outputs": [],
      "source": [
        "persuade_corpus = persuade_corpus.reset_index(drop=True)"
      ]
    },
    {
      "cell_type": "code",
      "execution_count": null,
      "id": "ismVzpD02hM8",
      "metadata": {
        "id": "ismVzpD02hM8"
      },
      "outputs": [],
      "source": [
        "persuade_argument_dict = {\n",
        "    'Phones and driving': 'Drivers should not be allowed to use phones while driving',\n",
        "    'Car-free cities': 'We should develop cities to be car-free from now on',\n",
        "    'Summer projects': 'Summer projects are valuable learning opportunities for students',\n",
        "    '\"A Cowboy Who Rode the Waves\"': \"The Seagoing Cowboys' work is adventurous, meaningful and transformative\",\n",
        "    'Mandatory extracurricular activities': \"Extracurricular activities play an irreplacable role in students' education\",\n",
        "    'Exploring Venus': 'Venus is a challenging but rewarding planet to explore',\n",
        "    'Facial action coding system': 'Having a large-scale software that analyzes and codifies human facial expressions is pointless',\n",
        "    'The Face on Mars': 'The face on Mars suggests alien activity in the universe',\n",
        "    'Community service': 'Doing community service is important to both societal and personal benefit',\n",
        "    'Grades for extracurricular activities': 'Extracurricular activities should not be graded',\n",
        "    'Driverless cars': 'Driverless cars are the future and should be fully embraced',\n",
        "    'Does the electoral college work?': 'The electoral college does not work',\n",
        "    'Cell phones at school': 'Students should be allowed to bring cell phones to school',\n",
        "    'Distance learning': 'Online classes are the bane of real education',\n",
        "    'Seeking multiple opinions': 'It is always a good idea to seek the opinions of multiple people'\n",
        "}"
      ]
    },
    {
      "cell_type": "code",
      "execution_count": null,
      "id": "sMYLXzcq2ZTD",
      "metadata": {
        "id": "sMYLXzcq2ZTD"
      },
      "outputs": [],
      "source": [
        "persuade_corpus['argument'] = [persuade_argument_dict[topic] for topic in persuade_corpus['argument']]"
      ]
    },
    {
      "cell_type": "code",
      "execution_count": null,
      "id": "ji2bl7UD7Hi-",
      "metadata": {
        "id": "ji2bl7UD7Hi-"
      },
      "outputs": [],
      "source": [
        "persuade_arguments_df = pd.DataFrame(persuade_argument_dict.values(), columns=['argument'])"
      ]
    },
    {
      "cell_type": "code",
      "execution_count": null,
      "id": "4iAMbl5F6hPY",
      "metadata": {
        "id": "4iAMbl5F6hPY"
      },
      "outputs": [],
      "source": [
        "def persuade_get_embeddings_df(persuade_df: pd.DataFrame, column_name: str) -> pd.DataFrame:\n",
        "  persuade_embeddings_df = pd.DataFrame()\n",
        "  arguments_list = list(persuade_df[column_name])\n",
        "\n",
        "  embeddings = model.encode(['search_document: ' + argument for argument in arguments_list])\n",
        "  embeddings_df = pd.DataFrame(embeddings, columns=[str(i) for i in range(DIM_EMBEDDING)])\n",
        "  embeddings_df = pd.concat([persuade_df, embeddings_df], axis=1)\n",
        "  embeddings_df = embeddings_df.reset_index(drop=True)\n",
        "\n",
        "  return embeddings_df"
      ]
    },
    {
      "cell_type": "code",
      "execution_count": null,
      "id": "wqHn1Ktc6hPY",
      "metadata": {
        "id": "wqHn1Ktc6hPY",
        "scrolled": true
      },
      "outputs": [],
      "source": [
        "persuade_arguments_embeddings_df = persuade_get_embeddings_df(persuade_arguments_df, 'argument')"
      ]
    },
    {
      "cell_type": "code",
      "execution_count": null,
      "id": "ZaQxWITn_tP8",
      "metadata": {
        "id": "ZaQxWITn_tP8"
      },
      "outputs": [],
      "source": [
        "persuade_arguments_vector_df = persuade_arguments_embeddings_df.select_dtypes(include=[np.number])"
      ]
    },
    {
      "cell_type": "code",
      "execution_count": null,
      "id": "hA6MfzLN-SWX",
      "metadata": {
        "id": "hA6MfzLN-SWX"
      },
      "outputs": [],
      "source": [
        "persuade_evidence_embeddings_df = persuade_get_embeddings_df(persuade_corpus, 'evidence')"
      ]
    },
    {
      "cell_type": "code",
      "execution_count": null,
      "id": "LSZ7Oi-u_Mvn",
      "metadata": {
        "id": "LSZ7Oi-u_Mvn"
      },
      "outputs": [],
      "source": [
        "persuade_evidence_vector_df = persuade_evidence_embeddings_df.select_dtypes(include=[np.number])"
      ]
    },
    {
      "cell_type": "markdown",
      "id": "KEUfpZVasFVj",
      "metadata": {
        "id": "KEUfpZVasFVj"
      },
      "source": [
        "### SciFact Corpus"
      ]
    },
    {
      "cell_type": "code",
      "execution_count": null,
      "id": "wbSA3U7YG10I",
      "metadata": {
        "id": "wbSA3U7YG10I"
      },
      "outputs": [],
      "source": [
        "DIM_EMBEDDING = 768\n",
        "\n",
        "def scifact_get_embeddings_df(scifact_df: pd.DataFrame, column_name: str) -> pd.DataFrame:\n",
        "  \"\"\"Add embeddings column to a df\"\"\"\n",
        "  embeddings_df = pd.DataFrame()\n",
        "  arguments_list = list(scifact_df[column_name])\n",
        "\n",
        "  embeddings = model.encode(['search_document: ' + argument for argument in arguments_list])\n",
        "  embeddings_df = pd.DataFrame(embeddings, columns=[str(i) for i in range(DIM_EMBEDDING)])\n",
        "  embeddings_df = pd.concat([scifact_df, embeddings_df], axis=1)\n",
        "  return embeddings_df"
      ]
    },
    {
      "cell_type": "code",
      "execution_count": null,
      "id": "pfOD_Nx6sCtc",
      "metadata": {
        "id": "pfOD_Nx6sCtc"
      },
      "outputs": [],
      "source": [
        "scifact_corpus = pd.read_json('/content/corpora/scifact-corpus/scifact_corpus/corpus.jsonl', lines=True)"
      ]
    },
    {
      "cell_type": "code",
      "execution_count": null,
      "id": "iSFcAQLjs_x_",
      "metadata": {
        "id": "iSFcAQLjs_x_"
      },
      "outputs": [],
      "source": [
        "scifact_evidence_corpus = []\n",
        "\n",
        "for abstract in scifact_corpus['abstract']:\n",
        "  for sentence in abstract:\n",
        "    scifact_evidence_corpus.append(sentence)"
      ]
    },
    {
      "cell_type": "code",
      "execution_count": null,
      "id": "qKo3XacDHP-A",
      "metadata": {
        "id": "qKo3XacDHP-A"
      },
      "outputs": [],
      "source": [
        "scifact_evidence_embeddings_corpus = scifact_get_embeddings_df(pd.DataFrame(scifact_evidence_corpus, columns=['evidence']), 'evidence')"
      ]
    },
    {
      "cell_type": "code",
      "execution_count": null,
      "id": "_LtQ-xtEHnA4",
      "metadata": {
        "id": "_LtQ-xtEHnA4"
      },
      "outputs": [],
      "source": [
        "scifact_evidence_embeddings = scifact_evidence_embeddings_corpus.select_dtypes(include=[np.number])"
      ]
    },
    {
      "cell_type": "code",
      "execution_count": null,
      "id": "j_IVlWPNtDy9",
      "metadata": {
        "id": "j_IVlWPNtDy9"
      },
      "outputs": [],
      "source": [
        "scifact_test = pd.read_json('/content/corpora/scifact-corpus/scifact_corpus/claims_test.jsonl', lines=True)"
      ]
    },
    {
      "cell_type": "code",
      "execution_count": null,
      "id": "P8_H6TCctIa3",
      "metadata": {
        "id": "P8_H6TCctIa3"
      },
      "outputs": [],
      "source": [
        "scifact_test = scifact_test.drop(columns=['id'])"
      ]
    },
    {
      "cell_type": "code",
      "execution_count": null,
      "id": "CsdSs4B8HpO7",
      "metadata": {
        "id": "CsdSs4B8HpO7"
      },
      "outputs": [],
      "source": [
        "scifact_test_embeddings_corpus = scifact_get_embeddings_df(scifact_test, 'claim')"
      ]
    },
    {
      "cell_type": "code",
      "execution_count": null,
      "id": "TqpIktG1JKqO",
      "metadata": {
        "id": "TqpIktG1JKqO"
      },
      "outputs": [],
      "source": [
        "scifact_test_embeddings = scifact_test_embeddings_corpus.select_dtypes(include=[np.number])"
      ]
    },
    {
      "cell_type": "markdown",
      "id": "-M6M0xNuLPVJ",
      "metadata": {
        "id": "-M6M0xNuLPVJ"
      },
      "source": [
        "## Autoencoder Model"
      ]
    },
    {
      "cell_type": "markdown",
      "id": "B65r-dHQDUEY",
      "metadata": {
        "id": "B65r-dHQDUEY"
      },
      "source": [
        "### Counterargument model"
      ]
    },
    {
      "cell_type": "code",
      "execution_count": null,
      "id": "aetiEHo9K2So",
      "metadata": {
        "colab": {
          "base_uri": "https://localhost:8080/"
        },
        "id": "aetiEHo9K2So",
        "outputId": "be816538-3cdc-47f1-e781-a0bc399ade78"
      },
      "outputs": [
        {
          "output_type": "stream",
          "name": "stdout",
          "text": [
            "nomic_autoencoder.zip successfully imported\n",
            "Files extracted: ['nomic_shuffled_sd_autoencoder_weights.keras', 'nomic_cla_autoencoder_weights.keras', 'nomic_clu_autoencoder_model.keras', 'x_test_cla.pkl', 'nomic_sd_training_plot.png', 'nomic_shuffled_sq_training_log.csv', 'y_test_sd.pkl', 'nomic_cla_training_log.csv', 'nomic_shuffled_cla_autoencoder_model.keras', 'x_train_cla.pkl', 'y_test_cla.pkl', 'nomic_shuffled_sq_autoencoder_model.keras', 'y_train_sq.pkl', 'x_test_sq.pkl', 'nomic_shuffled_clu_autoencoder_model.keras', 'nomic_shuffled_cla_training_log.csv', 'x_train_clu.pkl', 'nomic_clu_training_plot.png', 'nomic_sd_autoencoder_weights.keras', 'y_train_clu.pkl', 'nomic_cla_training_plot.png', 'y_train_cla.pkl', 'x_test_sd.pkl', 'nomic_clu_autoencoder_weights.keras', 'nomic_shuffled_sd_autoencoder_model.keras', 'nomic_shuffled_sd_training_log.csv', 'y_test_sq.pkl', 'nomic_sd_training_log.csv', 'nomic_sq_training_log.csv', 'nomic_shuffled_clu_autoencoder_weights.keras', 'nomic_shuffled_cla_autoencoder_weights.keras', 'nomic_shuffled_sq_autoencoder_weights.keras', 'nomic_combined_training_plot.png', 'x_train_sd.pkl', 'nomic_sq_training_plot.png', 'x_train_sq.pkl', 'nomic_sq_autoencoder_weights.keras', 'nomic_shuffled_clu_training_log.csv', 'nomic_sq_autoencoder_model.keras', 'y_test_clu.pkl', 'y_train_sd.pkl', 'nomic_cla_autoencoder_model.keras', '.ipynb_checkpoints', 'nomic_clu_training_log.csv', 'nomic_sd_autoencoder_model.keras', 'nomic_shuffled_combined_training_plot.png', 'x_test_clu.pkl']\n"
          ]
        }
      ],
      "source": [
        "subprocess.run(\"osf -p sakjg fetch --force osfstorage/data-dump/nomic-autoencoder/nomic_autoencoder.zip\", shell=True)\n",
        "print(\"nomic_autoencoder.zip successfully imported\")\n",
        "nomic_autoencoder_file_path_zip = 'nomic_autoencoder.zip'\n",
        "nomic_autoencoder_file_path = 'current-data-dump/nomic-autoencoder'\n",
        "with zipfile.ZipFile(nomic_autoencoder_file_path_zip, 'r') as zip_ref:\n",
        "  zip_ref.extractall(nomic_autoencoder_file_path)\n",
        "extracted_files = os.listdir(nomic_autoencoder_file_path)\n",
        "print(\"Files extracted:\", extracted_files)"
      ]
    },
    {
      "cell_type": "code",
      "execution_count": null,
      "id": "afiKxdeRu-HK",
      "metadata": {
        "id": "afiKxdeRu-HK"
      },
      "outputs": [],
      "source": [
        "x_train = pd.read_pickle('current-data-dump/nomic-autoencoder/x_train_sd.pkl')\n",
        "y_train = pd.read_pickle('current-data-dump/nomic-autoencoder/y_train_sd.pkl')\n",
        "x_test = pd.read_pickle('current-data-dump/nomic-autoencoder/x_test_sd.pkl')\n",
        "y_test = pd.read_pickle('current-data-dump/nomic-autoencoder/y_test_sd.pkl')"
      ]
    },
    {
      "cell_type": "markdown",
      "id": "7IYsp-J2DVxq",
      "metadata": {
        "id": "7IYsp-J2DVxq"
      },
      "source": [
        "### Evidence model"
      ]
    },
    {
      "cell_type": "code",
      "execution_count": null,
      "id": "Nt_T-7PoDTgk",
      "metadata": {
        "colab": {
          "base_uri": "https://localhost:8080/"
        },
        "id": "Nt_T-7PoDTgk",
        "outputId": "0ae35049-c062-4d6d-aba3-db1baeba7500"
      },
      "outputs": [
        {
          "output_type": "stream",
          "name": "stdout",
          "text": [
            "Files extracted: ['global_x_test.pkl', 'global_shuffled_training_log.csv', 'global_shuffled_autoencoder_model.keras', 'global_y_test.pkl', 'global_y_train.pkl', 'global_autoencoder_model.keras', 'global_x_train.pkl', 'global_training_log.csv']\n"
          ]
        }
      ],
      "source": [
        "subprocess.run(\"osf -p sakjg fetch --force osfstorage/data-dump/nomic-evidence-autoencoder/nomic_evidence_autoencoder.zip\", shell=True)\n",
        "print(\"nomic_evidence_autoencoder.zip successfully imported\")\n",
        "nomic_autoencoder_file_path_zip = 'nomic_evidence_autoencoder.zip'\n",
        "nomic_autoencoder_file_path = 'current-data-dump/nomic-evidence-autoencoder'\n",
        "with zipfile.ZipFile(nomic_autoencoder_file_path_zip, 'r') as zip_ref:\n",
        "  zip_ref.extractall(nomic_autoencoder_file_path)\n",
        "extracted_files = os.listdir(nomic_autoencoder_file_path)\n",
        "print(\"Files extracted:\", extracted_files)"
      ]
    },
    {
      "cell_type": "code",
      "execution_count": null,
      "id": "leXMXiIbDjwu",
      "metadata": {
        "id": "leXMXiIbDjwu"
      },
      "outputs": [],
      "source": [
        "x_evidence_train = pd.read_pickle('current-data-dump/nomic-evidence-autoencoder/global_x_train.pkl')\n",
        "y_evidence_train = pd.read_pickle('current-data-dump/nomic-evidence-autoencoder/global_y_train.pkl')\n",
        "x_evidence_test = pd.read_pickle('current-data-dump/nomic-evidence-autoencoder/global_x_test.pkl')\n",
        "y_evidence_test = pd.read_pickle('current-data-dump/nomic-evidence-autoencoder/global_y_test.pkl')"
      ]
    },
    {
      "cell_type": "markdown",
      "id": "lLJ9m6ToGLB4",
      "metadata": {
        "id": "lLJ9m6ToGLB4"
      },
      "source": [
        "### SciFact models"
      ]
    },
    {
      "cell_type": "code",
      "execution_count": null,
      "id": "N48y6VY7GLCC",
      "metadata": {
        "id": "N48y6VY7GLCC",
        "colab": {
          "base_uri": "https://localhost:8080/"
        },
        "outputId": "162f2b68-8d90-4775-9569-5423bdffc1a4"
      },
      "outputs": [
        {
          "output_type": "stream",
          "name": "stdout",
          "text": [
            "nomic_scifact_autoencoder.zip successfully imported\n",
            "Files extracted: ['combined_training_plot.png', 'counter_autoencoder_model.keras', 'pro_shuffled_autoencoder_model.keras', 'combined_autoencoder_model.keras', 'all_combined_training_plot.png', 'x_train_combined.pkl', 'y_test_counter.pkl', 'counter_training_log.csv', 'combined_shuffled_autoencoder_model.keras', 'combined_shuffled_training_plot.png', 'counter_training_plot.png', 'combined_training_log.csv', 'pro_shuffled_training_log.csv', 'y_test_pro.pkl', 'y_train_counter.pkl', 'y_train_pro.pkl', 'y_train_combined.pkl', 'combined_shuffled_training_log.csv', 'all_pro_training_plot.png', 'x_train_counter.pkl', 'pro_training_plot.png', 'x_test_counter.pkl', 'all_counter_training_plot.png', 'counter_shuffled_training_plot.png', 'counter_shuffled_training_log.csv', 'counter_shuffled_autoencoder_model.keras', 'pro_autoencoder_model.keras', 'x_test_pro.pkl', 'pro_shuffled_training_plot.png', 'y_test_combined.pkl', 'x_train_pro.pkl', 'pro_training_log.csv', 'x_test_combined.pkl']\n"
          ]
        }
      ],
      "source": [
        "subprocess.run(\"osf -p sakjg fetch --force osfstorage/data-dump/nomic-scifact-autoencoder/nomic_scifact_autoencoder.zip\", shell=True)\n",
        "print(\"nomic_scifact_autoencoder.zip successfully imported\")\n",
        "nomic_autoencoder_file_path_zip = 'nomic_scifact_autoencoder.zip'\n",
        "nomic_autoencoder_file_path = 'current-data-dump/nomic-scifact-autoencoder'\n",
        "with zipfile.ZipFile(nomic_autoencoder_file_path_zip, 'r') as zip_ref:\n",
        "  zip_ref.extractall(nomic_autoencoder_file_path)\n",
        "extracted_files = os.listdir(nomic_autoencoder_file_path)\n",
        "print(\"Files extracted:\", extracted_files)"
      ]
    },
    {
      "cell_type": "code",
      "execution_count": null,
      "id": "5fBH-eLbGLCC",
      "metadata": {
        "id": "5fBH-eLbGLCC"
      },
      "outputs": [],
      "source": [
        "x_scifact_train = pd.read_pickle('current-data-dump/nomic-scifact-autoencoder/x_train_combined.pkl')\n",
        "y_scifact_train = pd.read_pickle('current-data-dump/nomic-scifact-autoencoder/y_train_combined.pkl')\n",
        "x_scifact_test = pd.read_pickle('current-data-dump/nomic-scifact-autoencoder/x_test_combined.pkl')\n",
        "y_scifact_test = pd.read_pickle('current-data-dump/nomic-scifact-autoencoder/y_test_combined.pkl')"
      ]
    },
    {
      "cell_type": "code",
      "execution_count": null,
      "id": "sW6bSAzpPDdF",
      "metadata": {
        "id": "sW6bSAzpPDdF"
      },
      "outputs": [],
      "source": [
        "x_scifact_pro_train = pd.read_pickle('current-data-dump/nomic-scifact-autoencoder/x_train_pro.pkl')\n",
        "y_scifact_pro_train = pd.read_pickle('current-data-dump/nomic-scifact-autoencoder/y_train_pro.pkl')\n",
        "x_scifact_pro_test = pd.read_pickle('current-data-dump/nomic-scifact-autoencoder/x_test_pro.pkl')\n",
        "y_scifact_pro_test = pd.read_pickle('current-data-dump/nomic-scifact-autoencoder/y_test_pro.pkl')"
      ]
    },
    {
      "cell_type": "code",
      "execution_count": null,
      "id": "e5AdE4QmPIuC",
      "metadata": {
        "id": "e5AdE4QmPIuC"
      },
      "outputs": [],
      "source": [
        "x_scifact_counter_train = pd.read_pickle('current-data-dump/nomic-scifact-autoencoder/x_train_counter.pkl')\n",
        "y_scifact_counter_train = pd.read_pickle('current-data-dump/nomic-scifact-autoencoder/y_train_counter.pkl')\n",
        "x_scifact_counter_test = pd.read_pickle('current-data-dump/nomic-scifact-autoencoder/x_test_counter.pkl')\n",
        "y_scifact_counter_test = pd.read_pickle('current-data-dump/nomic-scifact-autoencoder/y_test_counter.pkl')"
      ]
    },
    {
      "cell_type": "markdown",
      "id": "hQ9_lP8vJVjM",
      "metadata": {
        "id": "hQ9_lP8vJVjM"
      },
      "source": [
        "### Metric"
      ]
    },
    {
      "cell_type": "code",
      "execution_count": null,
      "id": "e53be282-1ddf-4bbe-af7a-412b8c685066",
      "metadata": {
        "id": "e53be282-1ddf-4bbe-af7a-412b8c685066"
      },
      "outputs": [],
      "source": [
        "@tf.keras.saving.register_keras_serializable()\n",
        "def metric_choose_argument_global_sd_y_train(y_true, y_pred):\n",
        "  global_training_df_32 = tf.cast(pd.concat([x_evidence_train, y_evidence_train, x_evidence_test, y_evidence_test]), dtype=tf.float32)\n",
        "\n",
        "  cos_sim_pred = tf.matmul(global_training_df_32, y_pred, transpose_b=True) / tf.reshape(tf.norm(y_pred) * tf.norm(global_training_df_32, axis=1), [-1, 1])\n",
        "  cos_sim_true = tf.matmul(global_training_df_32, y_true, transpose_b=True) / tf.reshape(tf.norm(y_true) * tf.norm(global_training_df_32, axis=1), [-1, 1])\n",
        "\n",
        "  max_cos_sim_pred = tf.math.argmax(cos_sim_pred)\n",
        "  max_cos_sim_true = tf.math.argmax(cos_sim_true)\n",
        "\n",
        "  return tf.math.count_nonzero(tf.equal(max_cos_sim_pred, max_cos_sim_true))"
      ]
    },
    {
      "cell_type": "code",
      "execution_count": null,
      "id": "Osz3_gw9GfGv",
      "metadata": {
        "id": "Osz3_gw9GfGv"
      },
      "outputs": [],
      "source": [
        "@tf.keras.saving.register_keras_serializable()\n",
        "def metric_choose_argument_combined_y_train(y_true, y_pred):\n",
        "  global_training_df_32 = tf.cast(pd.concat([x_scifact_train, y_scifact_train, x_scifact_test, y_scifact_test]), dtype=tf.float32)\n",
        "\n",
        "  cos_sim_pred = tf.matmul(global_training_df_32, y_pred, transpose_b=True) / tf.reshape(tf.norm(y_pred) * tf.norm(global_training_df_32, axis=1), [-1, 1])\n",
        "  cos_sim_true = tf.matmul(global_training_df_32, y_true, transpose_b=True) / tf.reshape(tf.norm(y_true) * tf.norm(global_training_df_32, axis=1), [-1, 1])\n",
        "\n",
        "  max_cos_sim_pred = tf.math.argmax(cos_sim_pred)\n",
        "  max_cos_sim_true = tf.math.argmax(cos_sim_true)\n",
        "\n",
        "  return tf.math.count_nonzero(tf.equal(max_cos_sim_pred, max_cos_sim_true))"
      ]
    },
    {
      "cell_type": "code",
      "execution_count": null,
      "id": "Ufbdw0ZAPMX0",
      "metadata": {
        "id": "Ufbdw0ZAPMX0"
      },
      "outputs": [],
      "source": [
        "@tf.keras.saving.register_keras_serializable()\n",
        "def metric_choose_argument_pro_y_train(y_true, y_pred):\n",
        "  global_training_df_32 = tf.cast(pd.concat([x_scifact_pro_train, y_scifact_pro_train, x_scifact_pro_test, y_scifact_pro_test]), dtype=tf.float32)\n",
        "\n",
        "  cos_sim_pred = tf.matmul(global_training_df_32, y_pred, transpose_b=True) / tf.reshape(tf.norm(y_pred) * tf.norm(global_training_df_32, axis=1), [-1, 1])\n",
        "  cos_sim_true = tf.matmul(global_training_df_32, y_true, transpose_b=True) / tf.reshape(tf.norm(y_true) * tf.norm(global_training_df_32, axis=1), [-1, 1])\n",
        "\n",
        "  max_cos_sim_pred = tf.math.argmax(cos_sim_pred)\n",
        "  max_cos_sim_true = tf.math.argmax(cos_sim_true)\n",
        "\n",
        "  return tf.math.count_nonzero(tf.equal(max_cos_sim_pred, max_cos_sim_true))"
      ]
    },
    {
      "cell_type": "code",
      "execution_count": null,
      "id": "i1uH8IP1PPns",
      "metadata": {
        "id": "i1uH8IP1PPns"
      },
      "outputs": [],
      "source": [
        "@tf.keras.saving.register_keras_serializable()\n",
        "def metric_choose_argument_counter_y_train(y_true, y_pred):\n",
        "  global_training_df_32 = tf.cast(pd.concat([x_scifact_counter_train, y_scifact_counter_train, x_scifact_counter_test, y_scifact_counter_test]), dtype=tf.float32)\n",
        "\n",
        "  cos_sim_pred = tf.matmul(global_training_df_32, y_pred, transpose_b=True) / tf.reshape(tf.norm(y_pred) * tf.norm(global_training_df_32, axis=1), [-1, 1])\n",
        "  cos_sim_true = tf.matmul(global_training_df_32, y_true, transpose_b=True) / tf.reshape(tf.norm(y_true) * tf.norm(global_training_df_32, axis=1), [-1, 1])\n",
        "\n",
        "  max_cos_sim_pred = tf.math.argmax(cos_sim_pred)\n",
        "  max_cos_sim_true = tf.math.argmax(cos_sim_true)\n",
        "\n",
        "  return tf.math.count_nonzero(tf.equal(max_cos_sim_pred, max_cos_sim_true))"
      ]
    },
    {
      "cell_type": "markdown",
      "id": "2e3a4568-5a9c-4652-a321-d89618146273",
      "metadata": {
        "id": "2e3a4568-5a9c-4652-a321-d89618146273"
      },
      "source": [
        "## Load saved model"
      ]
    },
    {
      "cell_type": "code",
      "execution_count": null,
      "id": "3c40f5f9-aeea-4e29-89d5-5b3f9a949638",
      "metadata": {
        "id": "3c40f5f9-aeea-4e29-89d5-5b3f9a949638"
      },
      "outputs": [],
      "source": [
        "global_autoencoder_model = tf.keras.models.load_model('current-data-dump/nomic-autoencoder/nomic_sd_autoencoder_model.keras')"
      ]
    },
    {
      "cell_type": "code",
      "execution_count": null,
      "id": "_DUXTg6lD535",
      "metadata": {
        "id": "_DUXTg6lD535"
      },
      "outputs": [],
      "source": [
        "global_evidence_autoencoder_model = tf.keras.models.load_model('current-data-dump/nomic-evidence-autoencoder/global_autoencoder_model.keras')"
      ]
    },
    {
      "cell_type": "code",
      "execution_count": null,
      "id": "0x4rOj7VGFPk",
      "metadata": {
        "id": "0x4rOj7VGFPk"
      },
      "outputs": [],
      "source": [
        "global_scifact_autoencoder_model = tf.keras.models.load_model('/content/current-data-dump/nomic-scifact-autoencoder/combined_autoencoder_model.keras')"
      ]
    },
    {
      "cell_type": "code",
      "execution_count": null,
      "id": "9-UIYVx9PTul",
      "metadata": {
        "id": "9-UIYVx9PTul"
      },
      "outputs": [],
      "source": [
        "global_scifact_pro_autoencoder_model = tf.keras.models.load_model('/content/current-data-dump/nomic-scifact-autoencoder/pro_autoencoder_model.keras')"
      ]
    },
    {
      "cell_type": "code",
      "execution_count": null,
      "id": "EWai9Rq_PWv2",
      "metadata": {
        "id": "EWai9Rq_PWv2"
      },
      "outputs": [],
      "source": [
        "global_scifact_counter_autoencoder_model = tf.keras.models.load_model('/content/current-data-dump/nomic-scifact-autoencoder/counter_autoencoder_model.keras')"
      ]
    },
    {
      "cell_type": "markdown",
      "id": "7a844caf-39c0-46ab-8611-cf22c919a932",
      "metadata": {
        "id": "7a844caf-39c0-46ab-8611-cf22c919a932"
      },
      "source": [
        "## GPR predict (Counterargument)"
      ]
    },
    {
      "cell_type": "code",
      "execution_count": null,
      "id": "6557b3bb-29ad-4e6d-8a09-629d65c6b9dd",
      "metadata": {
        "colab": {
          "base_uri": "https://localhost:8080/"
        },
        "id": "6557b3bb-29ad-4e6d-8a09-629d65c6b9dd",
        "outputId": "5f6a868a-58b8-4c91-8bc6-7f4c684bf6ba"
      },
      "outputs": [
        {
          "output_type": "stream",
          "name": "stdout",
          "text": [
            "2/2 [==============================] - 1s 6ms/step\n"
          ]
        }
      ],
      "source": [
        "global_autoencoder_gpr_predictions = global_autoencoder_model.predict(gpr_x_test)\n",
        "global_autoencoder_gpr_predictions_df = pd.DataFrame(global_autoencoder_gpr_predictions)\n",
        "global_autoencoder_gpr_predictions_df.columns = [str(i) for i in global_autoencoder_gpr_predictions_df.columns]"
      ]
    },
    {
      "cell_type": "code",
      "execution_count": null,
      "id": "482d775e-4e43-4632-b665-d64e5c9baf7b",
      "metadata": {
        "id": "482d775e-4e43-4632-b665-d64e5c9baf7b"
      },
      "outputs": [],
      "source": [
        "successes = 0\n",
        "for i in range(len(gpr_y_test)):\n",
        "  gpr_y_test_tf = tf.convert_to_tensor(gpr_y_test.loc[i], dtype=tf.float32)\n",
        "  gpr_pred_tf = tf.convert_to_tensor(global_autoencoder_gpr_predictions_df.loc[i], dtype=tf.float32)\n",
        "  gpr_y_test_tf = tf.reshape(gpr_y_test_tf, (1, -1))\n",
        "  gpr_pred_tf = tf.reshape(gpr_pred_tf, (1, -1))\n",
        "  if metric_choose_argument_gpr(gpr_y_test_tf, gpr_pred_tf).numpy() == 1:\n",
        "    successes += 1"
      ]
    },
    {
      "cell_type": "code",
      "execution_count": null,
      "id": "7a14c5b4-3954-4536-a2ea-d6f538690a33",
      "metadata": {
        "id": "7a14c5b4-3954-4536-a2ea-d6f538690a33"
      },
      "outputs": [],
      "source": [
        "gpr_success_rate = successes / len(gpr_y_test) * 100"
      ]
    },
    {
      "cell_type": "code",
      "execution_count": null,
      "id": "EBBrJs1ty_rs",
      "metadata": {
        "colab": {
          "base_uri": "https://localhost:8080/"
        },
        "id": "EBBrJs1ty_rs",
        "outputId": "eddebbe1-2b95-4f17-c881-58e6d0436783"
      },
      "outputs": [
        {
          "output_type": "execute_result",
          "data": {
            "text/plain": [
              "14.545454545454545"
            ]
          },
          "metadata": {},
          "execution_count": 71
        }
      ],
      "source": [
        "gpr_success_rate"
      ]
    },
    {
      "cell_type": "markdown",
      "id": "964b043e-166b-4cdb-8c90-6a7c3e9de543",
      "metadata": {
        "id": "964b043e-166b-4cdb-8c90-6a7c3e9de543"
      },
      "source": [
        "## EACL Predict (Counterargument)"
      ]
    },
    {
      "cell_type": "code",
      "execution_count": null,
      "id": "cde0c9db-8665-4745-b223-b1a128a13992",
      "metadata": {
        "colab": {
          "base_uri": "https://localhost:8080/"
        },
        "id": "cde0c9db-8665-4745-b223-b1a128a13992",
        "scrolled": true,
        "outputId": "ec33e223-d750-4bd3-a0d1-9e8a231506a8"
      },
      "outputs": [
        {
          "output_type": "stream",
          "name": "stdout",
          "text": [
            "75/75 [==============================] - 0s 2ms/step\n"
          ]
        }
      ],
      "source": [
        "global_autoencoder_eacl_predictions = global_evidence_autoencoder_model.predict(eacl_vectors_df)\n",
        "global_autoencoder_eacl_predictions_df = pd.DataFrame(global_autoencoder_eacl_predictions)\n",
        "global_autoencoder_eacl_predictions_df.columns = [str(i) for i in global_autoencoder_eacl_predictions_df.columns]"
      ]
    },
    {
      "cell_type": "code",
      "execution_count": null,
      "id": "TkOtj_qHZCyo",
      "metadata": {
        "id": "TkOtj_qHZCyo"
      },
      "outputs": [],
      "source": [
        "eacl_topk = 500\n",
        "pred_topk = []"
      ]
    },
    {
      "cell_type": "code",
      "execution_count": null,
      "id": "NeDejiHcORtp",
      "metadata": {
        "id": "NeDejiHcORtp"
      },
      "outputs": [],
      "source": [
        "eacl_embeddings_df_32 = tf.cast(eacl_vectors_df, dtype=tf.float32)\n",
        "global_autoencoder_eacl_predictions_tf = tf.constant(global_autoencoder_eacl_predictions_df.values, dtype=tf.float32)\n",
        "eacl_embeddings_norm = tf.norm(eacl_embeddings_df_32, axis=1)\n",
        "eacl_topics = list(eacl_embeddings_df['topicId'])\n",
        "eacl_stances = list(eacl_embeddings_df['claims.stance'])"
      ]
    },
    {
      "cell_type": "code",
      "execution_count": null,
      "id": "r3cVyLKuVaNr",
      "metadata": {
        "id": "r3cVyLKuVaNr"
      },
      "outputs": [],
      "source": [
        "for i, row in enumerate(global_autoencoder_eacl_predictions_tf):\n",
        "  successes = 0\n",
        "  y_pred = tf.reshape(row, [1, -1])\n",
        "  target_topic = eacl_topics[i]\n",
        "  target_type = 'PRO' if eacl_stances[i] == 'CON' else 'CON'\n",
        "\n",
        "  cos_sim_pred = tf.matmul(eacl_embeddings_df_32, y_pred, transpose_b=True) / tf.reshape((tf.norm(y_pred) * eacl_embeddings_norm), [-1, 1])\n",
        "  top_k_sim_pred = tf.math.top_k(tf.reshape(cos_sim_pred, [-1]), k=eacl_topk).indices.numpy()\n",
        "\n",
        "  for index in top_k_sim_pred:\n",
        "    if eacl_topics[index] == target_topic and eacl_stances[index] == target_type:\n",
        "      successes += 1\n",
        "  pred_topk.append(successes / eacl_topk * 100)"
      ]
    },
    {
      "cell_type": "code",
      "execution_count": null,
      "id": "3d27c121-eb83-4c4c-b60e-417b52da304f",
      "metadata": {
        "id": "3d27c121-eb83-4c4c-b60e-417b52da304f"
      },
      "outputs": [],
      "source": [
        "eacl_topk_success_rate = statistics.mean(pred_topk)"
      ]
    },
    {
      "cell_type": "code",
      "execution_count": null,
      "id": "PlbXZEIKvs-9",
      "metadata": {
        "colab": {
          "base_uri": "https://localhost:8080/"
        },
        "id": "PlbXZEIKvs-9",
        "outputId": "aadc14c2-f3b6-4fa9-dba5-5529700b379b"
      },
      "outputs": [
        {
          "output_type": "execute_result",
          "data": {
            "text/plain": [
              "6.818295739348371"
            ]
          },
          "metadata": {},
          "execution_count": 113
        }
      ],
      "source": [
        "eacl_topk_success_rate"
      ]
    },
    {
      "cell_type": "markdown",
      "id": "fFd-ei2Q6J4q",
      "metadata": {
        "id": "fFd-ei2Q6J4q"
      },
      "source": [
        "## persuade Predict (Evidence)"
      ]
    },
    {
      "cell_type": "code",
      "execution_count": null,
      "id": "UcY3IRhl6J4r",
      "metadata": {
        "colab": {
          "base_uri": "https://localhost:8080/"
        },
        "id": "UcY3IRhl6J4r",
        "scrolled": true,
        "outputId": "fdb98523-a184-4515-cb03-9a862ae4f7be"
      },
      "outputs": [
        {
          "output_type": "stream",
          "name": "stdout",
          "text": [
            "1/1 [==============================] - 0s 32ms/step\n"
          ]
        }
      ],
      "source": [
        "global_evidence_autoencoder_persuade_predictions = global_evidence_autoencoder_model.predict(persuade_arguments_vector_df)\n",
        "global_evidence_autoencoder_persuade_predictions_df = pd.DataFrame(global_evidence_autoencoder_persuade_predictions)\n",
        "global_evidence_autoencoder_persuade_predictions_df.columns = [str(i) for i in global_evidence_autoencoder_persuade_predictions_df.columns]"
      ]
    },
    {
      "cell_type": "code",
      "execution_count": null,
      "id": "4U-vuhqr6J4r",
      "metadata": {
        "id": "4U-vuhqr6J4r"
      },
      "outputs": [],
      "source": [
        "persuade_topk = 10000\n",
        "pred_topk=[]"
      ]
    },
    {
      "cell_type": "code",
      "execution_count": null,
      "id": "08RkjrM-6J4r",
      "metadata": {
        "id": "08RkjrM-6J4r"
      },
      "outputs": [],
      "source": [
        "persuade_embeddings_df_32 = tf.cast(persuade_evidence_vector_df, dtype=tf.float32)\n",
        "global_autoencoder_persuade_predictions_tf = tf.constant(global_evidence_autoencoder_persuade_predictions_df.values, dtype=tf.float32)\n",
        "persuade_embeddings_norm = tf.norm(persuade_embeddings_df_32, axis=1)\n",
        "persuade_topics = list(persuade_evidence_embeddings_df['argument'])"
      ]
    },
    {
      "cell_type": "code",
      "execution_count": null,
      "id": "_sABJgbt6J4r",
      "metadata": {
        "id": "_sABJgbt6J4r"
      },
      "outputs": [],
      "source": [
        "for i, row in enumerate(global_autoencoder_persuade_predictions_tf):\n",
        "  successes = 0\n",
        "  y_pred = tf.reshape(row, [1, -1])\n",
        "  target_topic = persuade_topics[i]\n",
        "\n",
        "  cos_sim_pred = tf.matmul(persuade_embeddings_df_32, y_pred, transpose_b=True) / tf.reshape((tf.norm(y_pred) * persuade_embeddings_norm), [-1, 1])\n",
        "  top_k_sim_pred = tf.math.top_k(tf.reshape(cos_sim_pred, [-1]), k=persuade_topk).indices.numpy()\n",
        "\n",
        "  for index in top_k_sim_pred:\n",
        "    if persuade_topics[index] == target_topic:\n",
        "      successes += 1\n",
        "  pred_topk.append(successes / persuade_topk * 100)"
      ]
    },
    {
      "cell_type": "code",
      "execution_count": null,
      "id": "giYL-zr-6J4r",
      "metadata": {
        "id": "giYL-zr-6J4r"
      },
      "outputs": [],
      "source": [
        "persuade_topk_success_rate = statistics.mean(pred_topk)"
      ]
    },
    {
      "cell_type": "code",
      "execution_count": null,
      "id": "gTsQI40n6J4r",
      "metadata": {
        "colab": {
          "base_uri": "https://localhost:8080/"
        },
        "id": "gTsQI40n6J4r",
        "outputId": "3be0f50d-071b-47b6-a384-483f3142e7cd"
      },
      "outputs": [
        {
          "output_type": "execute_result",
          "data": {
            "text/plain": [
              "7.71"
            ]
          },
          "metadata": {},
          "execution_count": 173
        }
      ],
      "source": [
        "persuade_topk_success_rate"
      ]
    },
    {
      "cell_type": "markdown",
      "id": "kKl5lcUtwvGZ",
      "metadata": {
        "id": "kKl5lcUtwvGZ"
      },
      "source": [
        "## Scifact Predict (Evidence + Combined + Qualitative)"
      ]
    },
    {
      "cell_type": "code",
      "execution_count": null,
      "id": "88iTjklkwvGa",
      "metadata": {
        "id": "88iTjklkwvGa",
        "scrolled": true,
        "colab": {
          "base_uri": "https://localhost:8080/"
        },
        "outputId": "db53d0d8-cbf6-44d4-c48e-89d924d42927"
      },
      "outputs": [
        {
          "output_type": "stream",
          "name": "stdout",
          "text": [
            "10/10 [==============================] - 1s 2ms/step\n"
          ]
        }
      ],
      "source": [
        "global_autoencoder_scifact_predictions = global_scifact_autoencoder_model.predict(scifact_test_embeddings)\n",
        "global_autoencoder_scifact_predictions_df = pd.DataFrame(global_autoencoder_scifact_predictions)\n",
        "global_autoencoder_scifact_predictions_df.columns = [str(i) for i in global_autoencoder_scifact_predictions_df.columns]"
      ]
    },
    {
      "cell_type": "code",
      "execution_count": null,
      "id": "FdbEVqvqwvGa",
      "metadata": {
        "id": "FdbEVqvqwvGa"
      },
      "outputs": [],
      "source": [
        "scifact_topk = 10\n",
        "pred_topk=[]"
      ]
    },
    {
      "cell_type": "code",
      "execution_count": null,
      "id": "Zqjip_4IwvGa",
      "metadata": {
        "id": "Zqjip_4IwvGa"
      },
      "outputs": [],
      "source": [
        "scifact_embeddings_df_32 = tf.cast(scifact_evidence_embeddings, dtype=tf.float32)\n",
        "global_autoencoder_scifact_predictions_tf = tf.constant(global_autoencoder_scifact_predictions_df.values, dtype=tf.float32)\n",
        "scifact_embeddings_norm = tf.norm(scifact_embeddings_df_32, axis=1)"
      ]
    },
    {
      "cell_type": "code",
      "execution_count": null,
      "id": "-v_Jepg8wvGb",
      "metadata": {
        "id": "-v_Jepg8wvGb"
      },
      "outputs": [],
      "source": [
        "evidence_column = []\n",
        "for i, row in enumerate(global_autoencoder_scifact_predictions_tf):\n",
        "  pred_topk = []\n",
        "  successes = 0\n",
        "  y_pred = tf.reshape(row, [1, -1])\n",
        "\n",
        "  cos_sim_pred = tf.matmul(scifact_embeddings_df_32, y_pred, transpose_b=True) / tf.reshape((tf.norm(y_pred) * scifact_embeddings_norm), [-1, 1])\n",
        "  top_k_sim_pred = tf.math.top_k(tf.reshape(cos_sim_pred, [-1]), k=scifact_topk).indices.numpy()\n",
        "\n",
        "  for index in top_k_sim_pred:\n",
        "    pred_topk.append(scifact_evidence_embeddings_corpus.iloc[index]['evidence'])\n",
        "  evidence_column.append(pred_topk)"
      ]
    },
    {
      "cell_type": "code",
      "execution_count": null,
      "id": "XQCHlmDfwvGb",
      "metadata": {
        "id": "XQCHlmDfwvGb"
      },
      "outputs": [],
      "source": [
        "scifact_topk_results = scifact_test.copy()\n",
        "scifact_topk_results['topk'] = evidence_column"
      ]
    },
    {
      "cell_type": "code",
      "execution_count": null,
      "id": "XOoCRnaRwvGb",
      "metadata": {
        "id": "XOoCRnaRwvGb"
      },
      "outputs": [],
      "source": [
        "os.makedirs('current-data-dump/nomic-scifact-autoencoder/nomic_autoencoder_predictions/')\n",
        "scifact_topk_results.to_csv('current-data-dump/nomic-scifact-autoencoder/nomic_autoencoder_predictions/scifact_combined_topk_results.csv')"
      ]
    },
    {
      "cell_type": "markdown",
      "id": "q_NAcKqKO0C6",
      "metadata": {
        "id": "q_NAcKqKO0C6"
      },
      "source": [
        "## Scifact Predict (Evidence + Pro + Qualitative)"
      ]
    },
    {
      "cell_type": "code",
      "execution_count": null,
      "id": "COGBL2brO0C6",
      "metadata": {
        "id": "COGBL2brO0C6",
        "scrolled": true,
        "colab": {
          "base_uri": "https://localhost:8080/"
        },
        "outputId": "4fe155bf-8940-4fd2-ea27-9798cca03634"
      },
      "outputs": [
        {
          "output_type": "stream",
          "name": "stdout",
          "text": [
            "10/10 [==============================] - 0s 2ms/step\n"
          ]
        }
      ],
      "source": [
        "global_autoencoder_scifact_pro_predictions = global_scifact_pro_autoencoder_model.predict(scifact_test_embeddings)\n",
        "global_autoencoder_scifact_pro_predictions_df = pd.DataFrame(global_autoencoder_scifact_pro_predictions)\n",
        "global_autoencoder_scifact_pro_predictions_df.columns = [str(i) for i in global_autoencoder_scifact_pro_predictions_df.columns]"
      ]
    },
    {
      "cell_type": "code",
      "execution_count": null,
      "id": "p_hRWWxxO0C7",
      "metadata": {
        "id": "p_hRWWxxO0C7"
      },
      "outputs": [],
      "source": [
        "scifact_pro_topk = 10\n",
        "pred_pro_topk=[]"
      ]
    },
    {
      "cell_type": "code",
      "execution_count": null,
      "id": "ADDw32OOO0C7",
      "metadata": {
        "id": "ADDw32OOO0C7"
      },
      "outputs": [],
      "source": [
        "# scifact_embeddings_df_32 = tf.cast(scifact_evidence_embeddings, dtype=tf.float32)\n",
        "global_autoencoder_scifact_pro_predictions_tf = tf.constant(global_autoencoder_scifact_pro_predictions_df.values, dtype=tf.float32)\n",
        "# scifact_embeddings_norm = tf.norm(scifact_embeddings_df_32, axis=1)"
      ]
    },
    {
      "cell_type": "code",
      "execution_count": null,
      "id": "u5LkXNvzO0C7",
      "metadata": {
        "id": "u5LkXNvzO0C7"
      },
      "outputs": [],
      "source": [
        "evidence_pro_column = []\n",
        "for i, row in enumerate(global_autoencoder_scifact_pro_predictions_tf):\n",
        "  pred_pro_topk = []\n",
        "  successes = 0\n",
        "  y_pred = tf.reshape(row, [1, -1])\n",
        "\n",
        "  cos_sim_pred = tf.matmul(scifact_embeddings_df_32, y_pred, transpose_b=True) / tf.reshape((tf.norm(y_pred) * scifact_embeddings_norm), [-1, 1])\n",
        "  top_k_sim_pred = tf.math.top_k(tf.reshape(cos_sim_pred, [-1]), k=scifact_topk).indices.numpy()\n",
        "\n",
        "  for index in top_k_sim_pred:\n",
        "    pred_pro_topk.append(scifact_evidence_embeddings_corpus.iloc[index]['evidence'])\n",
        "  evidence_pro_column.append(pred_pro_topk)"
      ]
    },
    {
      "cell_type": "code",
      "execution_count": null,
      "id": "4URWvqg3O0C7",
      "metadata": {
        "id": "4URWvqg3O0C7"
      },
      "outputs": [],
      "source": [
        "scifact_pro_topk_results = scifact_test.copy()\n",
        "scifact_pro_topk_results['topk'] = evidence_pro_column"
      ]
    },
    {
      "cell_type": "code",
      "execution_count": null,
      "id": "Y1ezKdMVO0C7",
      "metadata": {
        "id": "Y1ezKdMVO0C7"
      },
      "outputs": [],
      "source": [
        "scifact_pro_topk_results.to_csv('current-data-dump/nomic-scifact-autoencoder/nomic_autoencoder_predictions/scifact_pro_topk_results.csv')"
      ]
    },
    {
      "cell_type": "markdown",
      "id": "eqOE8WiLQLGi",
      "metadata": {
        "id": "eqOE8WiLQLGi"
      },
      "source": [
        "## Scifact Predict (Evidence + Counter + Qualitative)"
      ]
    },
    {
      "cell_type": "code",
      "execution_count": null,
      "id": "Qpe7iFFbQLGi",
      "metadata": {
        "id": "Qpe7iFFbQLGi",
        "scrolled": true,
        "colab": {
          "base_uri": "https://localhost:8080/"
        },
        "outputId": "23ea0be6-10ee-44f0-a8fb-a6d642861f4b"
      },
      "outputs": [
        {
          "output_type": "stream",
          "name": "stdout",
          "text": [
            "10/10 [==============================] - 0s 2ms/step\n"
          ]
        }
      ],
      "source": [
        "global_autoencoder_scifact_counter_predictions = global_scifact_counter_autoencoder_model.predict(scifact_test_embeddings)\n",
        "global_autoencoder_scifact_counter_predictions_df = pd.DataFrame(global_autoencoder_scifact_counter_predictions)\n",
        "global_autoencoder_scifact_counter_predictions_df.columns = [str(i) for i in global_autoencoder_scifact_counter_predictions_df.columns]"
      ]
    },
    {
      "cell_type": "code",
      "execution_count": null,
      "id": "LKkwYUQCQLGi",
      "metadata": {
        "id": "LKkwYUQCQLGi"
      },
      "outputs": [],
      "source": [
        "scifact_counter_topk = 10\n",
        "pred_counter_topk=[]"
      ]
    },
    {
      "cell_type": "code",
      "execution_count": null,
      "id": "HSJ9mTvYQLGj",
      "metadata": {
        "id": "HSJ9mTvYQLGj"
      },
      "outputs": [],
      "source": [
        "# scifact_embeddings_df_32 = tf.cast(scifact_evidence_embeddings, dtype=tf.float32)\n",
        "global_autoencoder_scifact_counter_predictions_tf = tf.constant(global_autoencoder_scifact_counter_predictions_df.values, dtype=tf.float32)\n",
        "# scifact_embeddings_norm = tf.norm(scifact_embeddings_df_32, axis=1)"
      ]
    },
    {
      "cell_type": "code",
      "execution_count": null,
      "id": "dPfqxa34QLGj",
      "metadata": {
        "id": "dPfqxa34QLGj"
      },
      "outputs": [],
      "source": [
        "evidence_counter_column = []\n",
        "for i, row in enumerate(global_autoencoder_scifact_counter_predictions_tf):\n",
        "  pred_counter_topk = []\n",
        "  successes = 0\n",
        "  y_pred = tf.reshape(row, [1, -1])\n",
        "\n",
        "  cos_sim_pred = tf.matmul(scifact_embeddings_df_32, y_pred, transpose_b=True) / tf.reshape((tf.norm(y_pred) * scifact_embeddings_norm), [-1, 1])\n",
        "  top_k_sim_pred = tf.math.top_k(tf.reshape(cos_sim_pred, [-1]), k=scifact_topk).indices.numpy()\n",
        "\n",
        "  for index in top_k_sim_pred:\n",
        "    pred_counter_topk.append(scifact_evidence_embeddings_corpus.iloc[index]['evidence'])\n",
        "  evidence_counter_column.append(pred_counter_topk)"
      ]
    },
    {
      "cell_type": "code",
      "execution_count": null,
      "id": "wXrvWDTPQLGj",
      "metadata": {
        "id": "wXrvWDTPQLGj"
      },
      "outputs": [],
      "source": [
        "scifact_counter_topk_results = scifact_test.copy()\n",
        "scifact_counter_topk_results['topk'] = evidence_counter_column"
      ]
    },
    {
      "cell_type": "code",
      "execution_count": null,
      "id": "MgVNrRHrQLGj",
      "metadata": {
        "id": "MgVNrRHrQLGj"
      },
      "outputs": [],
      "source": [
        "scifact_counter_topk_results.to_csv('current-data-dump/nomic-scifact-autoencoder/nomic_autoencoder_predictions/scifact_counter_topk_results.csv')"
      ]
    },
    {
      "cell_type": "markdown",
      "id": "rE4qFUefYJuQ",
      "metadata": {
        "id": "rE4qFUefYJuQ"
      },
      "source": [
        "## Export Values"
      ]
    },
    {
      "cell_type": "code",
      "execution_count": null,
      "id": "uo8TBPUfYMKp",
      "metadata": {
        "id": "uo8TBPUfYMKp"
      },
      "outputs": [],
      "source": [
        "result_df = {'gpr_success_rate': gpr_success_rate, 'eacl_topk_success_rate': eacl_topk_success_rate, 'eacl_topk': eacl_topk}\n",
        "result_df = pd.DataFrame([result_df])\n",
        "results_folder_path = 'current-data-dump/nomic-autoencoder/nomic_autoencoder_predictions/'\n",
        "os.makedirs(results_folder_path, exist_ok=True)\n",
        "results_file_path = f'{results_folder_path}novel_corpora_prediction.pkl'\n",
        "with open(results_file_path, 'wb') as file:\n",
        "  pickle.dump(result_df, file)\n",
        "  print(f\"File uploaded to {results_file_path}\")"
      ]
    },
    {
      "cell_type": "code",
      "execution_count": null,
      "id": "yCGRjH3aTX7G",
      "metadata": {
        "id": "yCGRjH3aTX7G"
      },
      "outputs": [],
      "source": [
        "evidence_result_df = {'persuade_topk_success_rate': persuade_topk_success_rate}\n",
        "evidence_result_df = pd.DataFrame([evidence_result_df])\n",
        "evidence_results_folder_path = 'current-data-dump/nomic-evidence-autoencoder/nomic_autoencoder_predictions/'\n",
        "os.makedirs(evidence_results_folder_path, exist_ok=True)\n",
        "evidence_results_file_path = f'{evidence_results_folder_path}persuade_corpus_prediction.pkl'\n",
        "with open(evidence_results_file_path, 'wb') as file:\n",
        "  pickle.dump(evidence_result_df, file)\n",
        "  print(f\"File uploaded to {evidence_results_file_path}\")"
      ]
    },
    {
      "cell_type": "code",
      "execution_count": null,
      "id": "jIxNg610aGyR",
      "metadata": {
        "id": "jIxNg610aGyR"
      },
      "outputs": [],
      "source": [
        "nomic_autoencoder_file_path = 'current-data-dump/nomic-autoencoder/nomic_autoencoder_predictions'\n",
        "result = subprocess.run([f\"osf -p sakjg upload -r --force {nomic_autoencoder_file_path}/ data-dump/nomic-autoencoder/nomic-autoencoder-predictions\"], shell=True, capture_output=True, text=True)\n",
        "print(result.stderr)\n",
        "print(f\"File: {nomic_autoencoder_file_path} uploaded at osfstorage\")"
      ]
    },
    {
      "cell_type": "code",
      "execution_count": null,
      "id": "rlFUuD-MT0fN",
      "metadata": {
        "id": "rlFUuD-MT0fN"
      },
      "outputs": [],
      "source": [
        "nomic_evidence_autoencoder_file_path = 'current-data-dump/nomic-evidence-autoencoder/nomic_autoencoder_predictions'\n",
        "result = subprocess.run([f\"osf -p sakjg upload -r --force {nomic_evidence_autoencoder_file_path}/ data-dump/nomic-evidence-autoencoder/nomic-autoencoder-predictions\"], shell=True, capture_output=True, text=True)\n",
        "print(result.stderr)\n",
        "print(f\"File: {nomic_evidence_autoencoder_file_path} uploaded at osfstorage\")"
      ]
    },
    {
      "cell_type": "code",
      "execution_count": null,
      "id": "WHZGxcwdT9jE",
      "metadata": {
        "id": "WHZGxcwdT9jE",
        "colab": {
          "base_uri": "https://localhost:8080/"
        },
        "outputId": "e49cb85a-dbce-45e1-d346-28e0e94556cd"
      },
      "outputs": [
        {
          "output_type": "stream",
          "name": "stdout",
          "text": [
            "\n",
            "File: current-data-dump/nomic-scifact-autoencoder/nomic_autoencoder_predictions uploaded at osfstorage\n"
          ]
        }
      ],
      "source": [
        "nomic_scifact_autoencoder_file_path = 'current-data-dump/nomic-scifact-autoencoder/nomic_autoencoder_predictions'\n",
        "result = subprocess.run([f\"osf -p sakjg upload -r --force {nomic_scifact_autoencoder_file_path}/ data-dump/nomic-scifact-autoencoder/nomic-autoencoder-predictions\"], shell=True, capture_output=True, text=True)\n",
        "print(result.stderr)\n",
        "print(f\"File: {nomic_scifact_autoencoder_file_path} uploaded at osfstorage\")"
      ]
    }
  ],
  "metadata": {
    "accelerator": "GPU",
    "colab": {
      "collapsed_sections": [
        "rraCIAGnMU04",
        "x6lP1bVYImnN",
        "1ZL8xzRMyOGE",
        "4TgJ2Ob4MFbl",
        "b7848602-f4e3-4d65-8833-d33c230a953f",
        "f4fce8f5-b7ad-4898-88e2-205c885875d8",
        "KBoDgWRKzHJn"
      ],
      "gpuType": "T4",
      "provenance": [],
      "include_colab_link": true
    },
    "kernelspec": {
      "display_name": "Python 3",
      "name": "python3"
    },
    "language_info": {
      "codemirror_mode": {
        "name": "ipython",
        "version": 3
      },
      "file_extension": ".py",
      "mimetype": "text/x-python",
      "name": "python",
      "nbconvert_exporter": "python",
      "pygments_lexer": "ipython3",
      "version": "3.11.4"
    },
    "widgets": {
      "application/vnd.jupyter.widget-state+json": {
        "73b75dfa48e247de824c9c74dcc4ff3a": {
          "model_module": "@jupyter-widgets/controls",
          "model_name": "HBoxModel",
          "model_module_version": "1.5.0",
          "state": {
            "_dom_classes": [],
            "_model_module": "@jupyter-widgets/controls",
            "_model_module_version": "1.5.0",
            "_model_name": "HBoxModel",
            "_view_count": null,
            "_view_module": "@jupyter-widgets/controls",
            "_view_module_version": "1.5.0",
            "_view_name": "HBoxView",
            "box_style": "",
            "children": [
              "IPY_MODEL_f5a5a3d9500c49129ec59a20ccb07366",
              "IPY_MODEL_fbca8214c7a64b548daf4c38ba29135b",
              "IPY_MODEL_39edab210e0c4bc98900158f9065070e"
            ],
            "layout": "IPY_MODEL_60afbdeae1a64eff84d7b9fcc16398a0"
          }
        },
        "f5a5a3d9500c49129ec59a20ccb07366": {
          "model_module": "@jupyter-widgets/controls",
          "model_name": "HTMLModel",
          "model_module_version": "1.5.0",
          "state": {
            "_dom_classes": [],
            "_model_module": "@jupyter-widgets/controls",
            "_model_module_version": "1.5.0",
            "_model_name": "HTMLModel",
            "_view_count": null,
            "_view_module": "@jupyter-widgets/controls",
            "_view_module_version": "1.5.0",
            "_view_name": "HTMLView",
            "description": "",
            "description_tooltip": null,
            "layout": "IPY_MODEL_c26d0f6156a342cf9e4be358d29183e6",
            "placeholder": "​",
            "style": "IPY_MODEL_841d894512404532ab50437f3961dcb9",
            "value": "modules.json: 100%"
          }
        },
        "fbca8214c7a64b548daf4c38ba29135b": {
          "model_module": "@jupyter-widgets/controls",
          "model_name": "FloatProgressModel",
          "model_module_version": "1.5.0",
          "state": {
            "_dom_classes": [],
            "_model_module": "@jupyter-widgets/controls",
            "_model_module_version": "1.5.0",
            "_model_name": "FloatProgressModel",
            "_view_count": null,
            "_view_module": "@jupyter-widgets/controls",
            "_view_module_version": "1.5.0",
            "_view_name": "ProgressView",
            "bar_style": "success",
            "description": "",
            "description_tooltip": null,
            "layout": "IPY_MODEL_32b9b4fbff144b75af5b963761e79b29",
            "max": 255,
            "min": 0,
            "orientation": "horizontal",
            "style": "IPY_MODEL_f9a2d536d912439bb086cd5fa9fe6417",
            "value": 255
          }
        },
        "39edab210e0c4bc98900158f9065070e": {
          "model_module": "@jupyter-widgets/controls",
          "model_name": "HTMLModel",
          "model_module_version": "1.5.0",
          "state": {
            "_dom_classes": [],
            "_model_module": "@jupyter-widgets/controls",
            "_model_module_version": "1.5.0",
            "_model_name": "HTMLModel",
            "_view_count": null,
            "_view_module": "@jupyter-widgets/controls",
            "_view_module_version": "1.5.0",
            "_view_name": "HTMLView",
            "description": "",
            "description_tooltip": null,
            "layout": "IPY_MODEL_93bac2a398944d219aa2256f5b658a90",
            "placeholder": "​",
            "style": "IPY_MODEL_9e0e79fe11c843a8b720ae88a3e22378",
            "value": " 255/255 [00:00&lt;00:00, 15.9kB/s]"
          }
        },
        "60afbdeae1a64eff84d7b9fcc16398a0": {
          "model_module": "@jupyter-widgets/base",
          "model_name": "LayoutModel",
          "model_module_version": "1.2.0",
          "state": {
            "_model_module": "@jupyter-widgets/base",
            "_model_module_version": "1.2.0",
            "_model_name": "LayoutModel",
            "_view_count": null,
            "_view_module": "@jupyter-widgets/base",
            "_view_module_version": "1.2.0",
            "_view_name": "LayoutView",
            "align_content": null,
            "align_items": null,
            "align_self": null,
            "border": null,
            "bottom": null,
            "display": null,
            "flex": null,
            "flex_flow": null,
            "grid_area": null,
            "grid_auto_columns": null,
            "grid_auto_flow": null,
            "grid_auto_rows": null,
            "grid_column": null,
            "grid_gap": null,
            "grid_row": null,
            "grid_template_areas": null,
            "grid_template_columns": null,
            "grid_template_rows": null,
            "height": null,
            "justify_content": null,
            "justify_items": null,
            "left": null,
            "margin": null,
            "max_height": null,
            "max_width": null,
            "min_height": null,
            "min_width": null,
            "object_fit": null,
            "object_position": null,
            "order": null,
            "overflow": null,
            "overflow_x": null,
            "overflow_y": null,
            "padding": null,
            "right": null,
            "top": null,
            "visibility": null,
            "width": null
          }
        },
        "c26d0f6156a342cf9e4be358d29183e6": {
          "model_module": "@jupyter-widgets/base",
          "model_name": "LayoutModel",
          "model_module_version": "1.2.0",
          "state": {
            "_model_module": "@jupyter-widgets/base",
            "_model_module_version": "1.2.0",
            "_model_name": "LayoutModel",
            "_view_count": null,
            "_view_module": "@jupyter-widgets/base",
            "_view_module_version": "1.2.0",
            "_view_name": "LayoutView",
            "align_content": null,
            "align_items": null,
            "align_self": null,
            "border": null,
            "bottom": null,
            "display": null,
            "flex": null,
            "flex_flow": null,
            "grid_area": null,
            "grid_auto_columns": null,
            "grid_auto_flow": null,
            "grid_auto_rows": null,
            "grid_column": null,
            "grid_gap": null,
            "grid_row": null,
            "grid_template_areas": null,
            "grid_template_columns": null,
            "grid_template_rows": null,
            "height": null,
            "justify_content": null,
            "justify_items": null,
            "left": null,
            "margin": null,
            "max_height": null,
            "max_width": null,
            "min_height": null,
            "min_width": null,
            "object_fit": null,
            "object_position": null,
            "order": null,
            "overflow": null,
            "overflow_x": null,
            "overflow_y": null,
            "padding": null,
            "right": null,
            "top": null,
            "visibility": null,
            "width": null
          }
        },
        "841d894512404532ab50437f3961dcb9": {
          "model_module": "@jupyter-widgets/controls",
          "model_name": "DescriptionStyleModel",
          "model_module_version": "1.5.0",
          "state": {
            "_model_module": "@jupyter-widgets/controls",
            "_model_module_version": "1.5.0",
            "_model_name": "DescriptionStyleModel",
            "_view_count": null,
            "_view_module": "@jupyter-widgets/base",
            "_view_module_version": "1.2.0",
            "_view_name": "StyleView",
            "description_width": ""
          }
        },
        "32b9b4fbff144b75af5b963761e79b29": {
          "model_module": "@jupyter-widgets/base",
          "model_name": "LayoutModel",
          "model_module_version": "1.2.0",
          "state": {
            "_model_module": "@jupyter-widgets/base",
            "_model_module_version": "1.2.0",
            "_model_name": "LayoutModel",
            "_view_count": null,
            "_view_module": "@jupyter-widgets/base",
            "_view_module_version": "1.2.0",
            "_view_name": "LayoutView",
            "align_content": null,
            "align_items": null,
            "align_self": null,
            "border": null,
            "bottom": null,
            "display": null,
            "flex": null,
            "flex_flow": null,
            "grid_area": null,
            "grid_auto_columns": null,
            "grid_auto_flow": null,
            "grid_auto_rows": null,
            "grid_column": null,
            "grid_gap": null,
            "grid_row": null,
            "grid_template_areas": null,
            "grid_template_columns": null,
            "grid_template_rows": null,
            "height": null,
            "justify_content": null,
            "justify_items": null,
            "left": null,
            "margin": null,
            "max_height": null,
            "max_width": null,
            "min_height": null,
            "min_width": null,
            "object_fit": null,
            "object_position": null,
            "order": null,
            "overflow": null,
            "overflow_x": null,
            "overflow_y": null,
            "padding": null,
            "right": null,
            "top": null,
            "visibility": null,
            "width": null
          }
        },
        "f9a2d536d912439bb086cd5fa9fe6417": {
          "model_module": "@jupyter-widgets/controls",
          "model_name": "ProgressStyleModel",
          "model_module_version": "1.5.0",
          "state": {
            "_model_module": "@jupyter-widgets/controls",
            "_model_module_version": "1.5.0",
            "_model_name": "ProgressStyleModel",
            "_view_count": null,
            "_view_module": "@jupyter-widgets/base",
            "_view_module_version": "1.2.0",
            "_view_name": "StyleView",
            "bar_color": null,
            "description_width": ""
          }
        },
        "93bac2a398944d219aa2256f5b658a90": {
          "model_module": "@jupyter-widgets/base",
          "model_name": "LayoutModel",
          "model_module_version": "1.2.0",
          "state": {
            "_model_module": "@jupyter-widgets/base",
            "_model_module_version": "1.2.0",
            "_model_name": "LayoutModel",
            "_view_count": null,
            "_view_module": "@jupyter-widgets/base",
            "_view_module_version": "1.2.0",
            "_view_name": "LayoutView",
            "align_content": null,
            "align_items": null,
            "align_self": null,
            "border": null,
            "bottom": null,
            "display": null,
            "flex": null,
            "flex_flow": null,
            "grid_area": null,
            "grid_auto_columns": null,
            "grid_auto_flow": null,
            "grid_auto_rows": null,
            "grid_column": null,
            "grid_gap": null,
            "grid_row": null,
            "grid_template_areas": null,
            "grid_template_columns": null,
            "grid_template_rows": null,
            "height": null,
            "justify_content": null,
            "justify_items": null,
            "left": null,
            "margin": null,
            "max_height": null,
            "max_width": null,
            "min_height": null,
            "min_width": null,
            "object_fit": null,
            "object_position": null,
            "order": null,
            "overflow": null,
            "overflow_x": null,
            "overflow_y": null,
            "padding": null,
            "right": null,
            "top": null,
            "visibility": null,
            "width": null
          }
        },
        "9e0e79fe11c843a8b720ae88a3e22378": {
          "model_module": "@jupyter-widgets/controls",
          "model_name": "DescriptionStyleModel",
          "model_module_version": "1.5.0",
          "state": {
            "_model_module": "@jupyter-widgets/controls",
            "_model_module_version": "1.5.0",
            "_model_name": "DescriptionStyleModel",
            "_view_count": null,
            "_view_module": "@jupyter-widgets/base",
            "_view_module_version": "1.2.0",
            "_view_name": "StyleView",
            "description_width": ""
          }
        },
        "f19027e190f042f0b44835194589e3fa": {
          "model_module": "@jupyter-widgets/controls",
          "model_name": "HBoxModel",
          "model_module_version": "1.5.0",
          "state": {
            "_dom_classes": [],
            "_model_module": "@jupyter-widgets/controls",
            "_model_module_version": "1.5.0",
            "_model_name": "HBoxModel",
            "_view_count": null,
            "_view_module": "@jupyter-widgets/controls",
            "_view_module_version": "1.5.0",
            "_view_name": "HBoxView",
            "box_style": "",
            "children": [
              "IPY_MODEL_c88b4e3b581f428db1967c859bb37d75",
              "IPY_MODEL_e3edf31264454ee4a9576ae53fc1b860",
              "IPY_MODEL_9074e6b509054799a3471b8c46370716"
            ],
            "layout": "IPY_MODEL_03210e86952a453794765b64c561143b"
          }
        },
        "c88b4e3b581f428db1967c859bb37d75": {
          "model_module": "@jupyter-widgets/controls",
          "model_name": "HTMLModel",
          "model_module_version": "1.5.0",
          "state": {
            "_dom_classes": [],
            "_model_module": "@jupyter-widgets/controls",
            "_model_module_version": "1.5.0",
            "_model_name": "HTMLModel",
            "_view_count": null,
            "_view_module": "@jupyter-widgets/controls",
            "_view_module_version": "1.5.0",
            "_view_name": "HTMLView",
            "description": "",
            "description_tooltip": null,
            "layout": "IPY_MODEL_1b0b045708724da1b6986c7faaf52259",
            "placeholder": "​",
            "style": "IPY_MODEL_05d27de74b08421c86f6f87f4c45906d",
            "value": "config_sentence_transformers.json: 100%"
          }
        },
        "e3edf31264454ee4a9576ae53fc1b860": {
          "model_module": "@jupyter-widgets/controls",
          "model_name": "FloatProgressModel",
          "model_module_version": "1.5.0",
          "state": {
            "_dom_classes": [],
            "_model_module": "@jupyter-widgets/controls",
            "_model_module_version": "1.5.0",
            "_model_name": "FloatProgressModel",
            "_view_count": null,
            "_view_module": "@jupyter-widgets/controls",
            "_view_module_version": "1.5.0",
            "_view_name": "ProgressView",
            "bar_style": "success",
            "description": "",
            "description_tooltip": null,
            "layout": "IPY_MODEL_2b0017200f1547539b9c7a298e8f6fea",
            "max": 140,
            "min": 0,
            "orientation": "horizontal",
            "style": "IPY_MODEL_e411bb57f9a64dc298a0c2fc04b4c9a6",
            "value": 140
          }
        },
        "9074e6b509054799a3471b8c46370716": {
          "model_module": "@jupyter-widgets/controls",
          "model_name": "HTMLModel",
          "model_module_version": "1.5.0",
          "state": {
            "_dom_classes": [],
            "_model_module": "@jupyter-widgets/controls",
            "_model_module_version": "1.5.0",
            "_model_name": "HTMLModel",
            "_view_count": null,
            "_view_module": "@jupyter-widgets/controls",
            "_view_module_version": "1.5.0",
            "_view_name": "HTMLView",
            "description": "",
            "description_tooltip": null,
            "layout": "IPY_MODEL_a2925b3c3b5b4955b499613dca427299",
            "placeholder": "​",
            "style": "IPY_MODEL_4d3ffc7ade85413084a52cdb8f06f39d",
            "value": " 140/140 [00:00&lt;00:00, 9.51kB/s]"
          }
        },
        "03210e86952a453794765b64c561143b": {
          "model_module": "@jupyter-widgets/base",
          "model_name": "LayoutModel",
          "model_module_version": "1.2.0",
          "state": {
            "_model_module": "@jupyter-widgets/base",
            "_model_module_version": "1.2.0",
            "_model_name": "LayoutModel",
            "_view_count": null,
            "_view_module": "@jupyter-widgets/base",
            "_view_module_version": "1.2.0",
            "_view_name": "LayoutView",
            "align_content": null,
            "align_items": null,
            "align_self": null,
            "border": null,
            "bottom": null,
            "display": null,
            "flex": null,
            "flex_flow": null,
            "grid_area": null,
            "grid_auto_columns": null,
            "grid_auto_flow": null,
            "grid_auto_rows": null,
            "grid_column": null,
            "grid_gap": null,
            "grid_row": null,
            "grid_template_areas": null,
            "grid_template_columns": null,
            "grid_template_rows": null,
            "height": null,
            "justify_content": null,
            "justify_items": null,
            "left": null,
            "margin": null,
            "max_height": null,
            "max_width": null,
            "min_height": null,
            "min_width": null,
            "object_fit": null,
            "object_position": null,
            "order": null,
            "overflow": null,
            "overflow_x": null,
            "overflow_y": null,
            "padding": null,
            "right": null,
            "top": null,
            "visibility": null,
            "width": null
          }
        },
        "1b0b045708724da1b6986c7faaf52259": {
          "model_module": "@jupyter-widgets/base",
          "model_name": "LayoutModel",
          "model_module_version": "1.2.0",
          "state": {
            "_model_module": "@jupyter-widgets/base",
            "_model_module_version": "1.2.0",
            "_model_name": "LayoutModel",
            "_view_count": null,
            "_view_module": "@jupyter-widgets/base",
            "_view_module_version": "1.2.0",
            "_view_name": "LayoutView",
            "align_content": null,
            "align_items": null,
            "align_self": null,
            "border": null,
            "bottom": null,
            "display": null,
            "flex": null,
            "flex_flow": null,
            "grid_area": null,
            "grid_auto_columns": null,
            "grid_auto_flow": null,
            "grid_auto_rows": null,
            "grid_column": null,
            "grid_gap": null,
            "grid_row": null,
            "grid_template_areas": null,
            "grid_template_columns": null,
            "grid_template_rows": null,
            "height": null,
            "justify_content": null,
            "justify_items": null,
            "left": null,
            "margin": null,
            "max_height": null,
            "max_width": null,
            "min_height": null,
            "min_width": null,
            "object_fit": null,
            "object_position": null,
            "order": null,
            "overflow": null,
            "overflow_x": null,
            "overflow_y": null,
            "padding": null,
            "right": null,
            "top": null,
            "visibility": null,
            "width": null
          }
        },
        "05d27de74b08421c86f6f87f4c45906d": {
          "model_module": "@jupyter-widgets/controls",
          "model_name": "DescriptionStyleModel",
          "model_module_version": "1.5.0",
          "state": {
            "_model_module": "@jupyter-widgets/controls",
            "_model_module_version": "1.5.0",
            "_model_name": "DescriptionStyleModel",
            "_view_count": null,
            "_view_module": "@jupyter-widgets/base",
            "_view_module_version": "1.2.0",
            "_view_name": "StyleView",
            "description_width": ""
          }
        },
        "2b0017200f1547539b9c7a298e8f6fea": {
          "model_module": "@jupyter-widgets/base",
          "model_name": "LayoutModel",
          "model_module_version": "1.2.0",
          "state": {
            "_model_module": "@jupyter-widgets/base",
            "_model_module_version": "1.2.0",
            "_model_name": "LayoutModel",
            "_view_count": null,
            "_view_module": "@jupyter-widgets/base",
            "_view_module_version": "1.2.0",
            "_view_name": "LayoutView",
            "align_content": null,
            "align_items": null,
            "align_self": null,
            "border": null,
            "bottom": null,
            "display": null,
            "flex": null,
            "flex_flow": null,
            "grid_area": null,
            "grid_auto_columns": null,
            "grid_auto_flow": null,
            "grid_auto_rows": null,
            "grid_column": null,
            "grid_gap": null,
            "grid_row": null,
            "grid_template_areas": null,
            "grid_template_columns": null,
            "grid_template_rows": null,
            "height": null,
            "justify_content": null,
            "justify_items": null,
            "left": null,
            "margin": null,
            "max_height": null,
            "max_width": null,
            "min_height": null,
            "min_width": null,
            "object_fit": null,
            "object_position": null,
            "order": null,
            "overflow": null,
            "overflow_x": null,
            "overflow_y": null,
            "padding": null,
            "right": null,
            "top": null,
            "visibility": null,
            "width": null
          }
        },
        "e411bb57f9a64dc298a0c2fc04b4c9a6": {
          "model_module": "@jupyter-widgets/controls",
          "model_name": "ProgressStyleModel",
          "model_module_version": "1.5.0",
          "state": {
            "_model_module": "@jupyter-widgets/controls",
            "_model_module_version": "1.5.0",
            "_model_name": "ProgressStyleModel",
            "_view_count": null,
            "_view_module": "@jupyter-widgets/base",
            "_view_module_version": "1.2.0",
            "_view_name": "StyleView",
            "bar_color": null,
            "description_width": ""
          }
        },
        "a2925b3c3b5b4955b499613dca427299": {
          "model_module": "@jupyter-widgets/base",
          "model_name": "LayoutModel",
          "model_module_version": "1.2.0",
          "state": {
            "_model_module": "@jupyter-widgets/base",
            "_model_module_version": "1.2.0",
            "_model_name": "LayoutModel",
            "_view_count": null,
            "_view_module": "@jupyter-widgets/base",
            "_view_module_version": "1.2.0",
            "_view_name": "LayoutView",
            "align_content": null,
            "align_items": null,
            "align_self": null,
            "border": null,
            "bottom": null,
            "display": null,
            "flex": null,
            "flex_flow": null,
            "grid_area": null,
            "grid_auto_columns": null,
            "grid_auto_flow": null,
            "grid_auto_rows": null,
            "grid_column": null,
            "grid_gap": null,
            "grid_row": null,
            "grid_template_areas": null,
            "grid_template_columns": null,
            "grid_template_rows": null,
            "height": null,
            "justify_content": null,
            "justify_items": null,
            "left": null,
            "margin": null,
            "max_height": null,
            "max_width": null,
            "min_height": null,
            "min_width": null,
            "object_fit": null,
            "object_position": null,
            "order": null,
            "overflow": null,
            "overflow_x": null,
            "overflow_y": null,
            "padding": null,
            "right": null,
            "top": null,
            "visibility": null,
            "width": null
          }
        },
        "4d3ffc7ade85413084a52cdb8f06f39d": {
          "model_module": "@jupyter-widgets/controls",
          "model_name": "DescriptionStyleModel",
          "model_module_version": "1.5.0",
          "state": {
            "_model_module": "@jupyter-widgets/controls",
            "_model_module_version": "1.5.0",
            "_model_name": "DescriptionStyleModel",
            "_view_count": null,
            "_view_module": "@jupyter-widgets/base",
            "_view_module_version": "1.2.0",
            "_view_name": "StyleView",
            "description_width": ""
          }
        },
        "0df56df55ce9479290fb3230775f470b": {
          "model_module": "@jupyter-widgets/controls",
          "model_name": "HBoxModel",
          "model_module_version": "1.5.0",
          "state": {
            "_dom_classes": [],
            "_model_module": "@jupyter-widgets/controls",
            "_model_module_version": "1.5.0",
            "_model_name": "HBoxModel",
            "_view_count": null,
            "_view_module": "@jupyter-widgets/controls",
            "_view_module_version": "1.5.0",
            "_view_name": "HBoxView",
            "box_style": "",
            "children": [
              "IPY_MODEL_0335b0a01b8141ef82bb3dd95f1d28e4",
              "IPY_MODEL_a0b77be74686495a802c5b37a24edb22",
              "IPY_MODEL_a8fc2f17f3eb4ad6913dc9d3a5185240"
            ],
            "layout": "IPY_MODEL_8bb5fce06332434fa5c0acd27569173a"
          }
        },
        "0335b0a01b8141ef82bb3dd95f1d28e4": {
          "model_module": "@jupyter-widgets/controls",
          "model_name": "HTMLModel",
          "model_module_version": "1.5.0",
          "state": {
            "_dom_classes": [],
            "_model_module": "@jupyter-widgets/controls",
            "_model_module_version": "1.5.0",
            "_model_name": "HTMLModel",
            "_view_count": null,
            "_view_module": "@jupyter-widgets/controls",
            "_view_module_version": "1.5.0",
            "_view_name": "HTMLView",
            "description": "",
            "description_tooltip": null,
            "layout": "IPY_MODEL_91ac893eed7a40d7ba91f812365576ba",
            "placeholder": "​",
            "style": "IPY_MODEL_175af8a66ada46a0bde2e49798f32582",
            "value": "README.md: 100%"
          }
        },
        "a0b77be74686495a802c5b37a24edb22": {
          "model_module": "@jupyter-widgets/controls",
          "model_name": "FloatProgressModel",
          "model_module_version": "1.5.0",
          "state": {
            "_dom_classes": [],
            "_model_module": "@jupyter-widgets/controls",
            "_model_module_version": "1.5.0",
            "_model_name": "FloatProgressModel",
            "_view_count": null,
            "_view_module": "@jupyter-widgets/controls",
            "_view_module_version": "1.5.0",
            "_view_name": "ProgressView",
            "bar_style": "success",
            "description": "",
            "description_tooltip": null,
            "layout": "IPY_MODEL_6fe3c1c95c1b4740b5acef649c33932a",
            "max": 69490,
            "min": 0,
            "orientation": "horizontal",
            "style": "IPY_MODEL_097e0d18d4bb4bfe9c7aa9b2c7367e1c",
            "value": 69490
          }
        },
        "a8fc2f17f3eb4ad6913dc9d3a5185240": {
          "model_module": "@jupyter-widgets/controls",
          "model_name": "HTMLModel",
          "model_module_version": "1.5.0",
          "state": {
            "_dom_classes": [],
            "_model_module": "@jupyter-widgets/controls",
            "_model_module_version": "1.5.0",
            "_model_name": "HTMLModel",
            "_view_count": null,
            "_view_module": "@jupyter-widgets/controls",
            "_view_module_version": "1.5.0",
            "_view_name": "HTMLView",
            "description": "",
            "description_tooltip": null,
            "layout": "IPY_MODEL_94bd36d88fa541d3a9e05081a83ccf23",
            "placeholder": "​",
            "style": "IPY_MODEL_b226160dfcbb4bbb97a697639c704923",
            "value": " 69.5k/69.5k [00:00&lt;00:00, 5.36MB/s]"
          }
        },
        "8bb5fce06332434fa5c0acd27569173a": {
          "model_module": "@jupyter-widgets/base",
          "model_name": "LayoutModel",
          "model_module_version": "1.2.0",
          "state": {
            "_model_module": "@jupyter-widgets/base",
            "_model_module_version": "1.2.0",
            "_model_name": "LayoutModel",
            "_view_count": null,
            "_view_module": "@jupyter-widgets/base",
            "_view_module_version": "1.2.0",
            "_view_name": "LayoutView",
            "align_content": null,
            "align_items": null,
            "align_self": null,
            "border": null,
            "bottom": null,
            "display": null,
            "flex": null,
            "flex_flow": null,
            "grid_area": null,
            "grid_auto_columns": null,
            "grid_auto_flow": null,
            "grid_auto_rows": null,
            "grid_column": null,
            "grid_gap": null,
            "grid_row": null,
            "grid_template_areas": null,
            "grid_template_columns": null,
            "grid_template_rows": null,
            "height": null,
            "justify_content": null,
            "justify_items": null,
            "left": null,
            "margin": null,
            "max_height": null,
            "max_width": null,
            "min_height": null,
            "min_width": null,
            "object_fit": null,
            "object_position": null,
            "order": null,
            "overflow": null,
            "overflow_x": null,
            "overflow_y": null,
            "padding": null,
            "right": null,
            "top": null,
            "visibility": null,
            "width": null
          }
        },
        "91ac893eed7a40d7ba91f812365576ba": {
          "model_module": "@jupyter-widgets/base",
          "model_name": "LayoutModel",
          "model_module_version": "1.2.0",
          "state": {
            "_model_module": "@jupyter-widgets/base",
            "_model_module_version": "1.2.0",
            "_model_name": "LayoutModel",
            "_view_count": null,
            "_view_module": "@jupyter-widgets/base",
            "_view_module_version": "1.2.0",
            "_view_name": "LayoutView",
            "align_content": null,
            "align_items": null,
            "align_self": null,
            "border": null,
            "bottom": null,
            "display": null,
            "flex": null,
            "flex_flow": null,
            "grid_area": null,
            "grid_auto_columns": null,
            "grid_auto_flow": null,
            "grid_auto_rows": null,
            "grid_column": null,
            "grid_gap": null,
            "grid_row": null,
            "grid_template_areas": null,
            "grid_template_columns": null,
            "grid_template_rows": null,
            "height": null,
            "justify_content": null,
            "justify_items": null,
            "left": null,
            "margin": null,
            "max_height": null,
            "max_width": null,
            "min_height": null,
            "min_width": null,
            "object_fit": null,
            "object_position": null,
            "order": null,
            "overflow": null,
            "overflow_x": null,
            "overflow_y": null,
            "padding": null,
            "right": null,
            "top": null,
            "visibility": null,
            "width": null
          }
        },
        "175af8a66ada46a0bde2e49798f32582": {
          "model_module": "@jupyter-widgets/controls",
          "model_name": "DescriptionStyleModel",
          "model_module_version": "1.5.0",
          "state": {
            "_model_module": "@jupyter-widgets/controls",
            "_model_module_version": "1.5.0",
            "_model_name": "DescriptionStyleModel",
            "_view_count": null,
            "_view_module": "@jupyter-widgets/base",
            "_view_module_version": "1.2.0",
            "_view_name": "StyleView",
            "description_width": ""
          }
        },
        "6fe3c1c95c1b4740b5acef649c33932a": {
          "model_module": "@jupyter-widgets/base",
          "model_name": "LayoutModel",
          "model_module_version": "1.2.0",
          "state": {
            "_model_module": "@jupyter-widgets/base",
            "_model_module_version": "1.2.0",
            "_model_name": "LayoutModel",
            "_view_count": null,
            "_view_module": "@jupyter-widgets/base",
            "_view_module_version": "1.2.0",
            "_view_name": "LayoutView",
            "align_content": null,
            "align_items": null,
            "align_self": null,
            "border": null,
            "bottom": null,
            "display": null,
            "flex": null,
            "flex_flow": null,
            "grid_area": null,
            "grid_auto_columns": null,
            "grid_auto_flow": null,
            "grid_auto_rows": null,
            "grid_column": null,
            "grid_gap": null,
            "grid_row": null,
            "grid_template_areas": null,
            "grid_template_columns": null,
            "grid_template_rows": null,
            "height": null,
            "justify_content": null,
            "justify_items": null,
            "left": null,
            "margin": null,
            "max_height": null,
            "max_width": null,
            "min_height": null,
            "min_width": null,
            "object_fit": null,
            "object_position": null,
            "order": null,
            "overflow": null,
            "overflow_x": null,
            "overflow_y": null,
            "padding": null,
            "right": null,
            "top": null,
            "visibility": null,
            "width": null
          }
        },
        "097e0d18d4bb4bfe9c7aa9b2c7367e1c": {
          "model_module": "@jupyter-widgets/controls",
          "model_name": "ProgressStyleModel",
          "model_module_version": "1.5.0",
          "state": {
            "_model_module": "@jupyter-widgets/controls",
            "_model_module_version": "1.5.0",
            "_model_name": "ProgressStyleModel",
            "_view_count": null,
            "_view_module": "@jupyter-widgets/base",
            "_view_module_version": "1.2.0",
            "_view_name": "StyleView",
            "bar_color": null,
            "description_width": ""
          }
        },
        "94bd36d88fa541d3a9e05081a83ccf23": {
          "model_module": "@jupyter-widgets/base",
          "model_name": "LayoutModel",
          "model_module_version": "1.2.0",
          "state": {
            "_model_module": "@jupyter-widgets/base",
            "_model_module_version": "1.2.0",
            "_model_name": "LayoutModel",
            "_view_count": null,
            "_view_module": "@jupyter-widgets/base",
            "_view_module_version": "1.2.0",
            "_view_name": "LayoutView",
            "align_content": null,
            "align_items": null,
            "align_self": null,
            "border": null,
            "bottom": null,
            "display": null,
            "flex": null,
            "flex_flow": null,
            "grid_area": null,
            "grid_auto_columns": null,
            "grid_auto_flow": null,
            "grid_auto_rows": null,
            "grid_column": null,
            "grid_gap": null,
            "grid_row": null,
            "grid_template_areas": null,
            "grid_template_columns": null,
            "grid_template_rows": null,
            "height": null,
            "justify_content": null,
            "justify_items": null,
            "left": null,
            "margin": null,
            "max_height": null,
            "max_width": null,
            "min_height": null,
            "min_width": null,
            "object_fit": null,
            "object_position": null,
            "order": null,
            "overflow": null,
            "overflow_x": null,
            "overflow_y": null,
            "padding": null,
            "right": null,
            "top": null,
            "visibility": null,
            "width": null
          }
        },
        "b226160dfcbb4bbb97a697639c704923": {
          "model_module": "@jupyter-widgets/controls",
          "model_name": "DescriptionStyleModel",
          "model_module_version": "1.5.0",
          "state": {
            "_model_module": "@jupyter-widgets/controls",
            "_model_module_version": "1.5.0",
            "_model_name": "DescriptionStyleModel",
            "_view_count": null,
            "_view_module": "@jupyter-widgets/base",
            "_view_module_version": "1.2.0",
            "_view_name": "StyleView",
            "description_width": ""
          }
        },
        "bff220efbbd749eba385bc766ddf1ddc": {
          "model_module": "@jupyter-widgets/controls",
          "model_name": "HBoxModel",
          "model_module_version": "1.5.0",
          "state": {
            "_dom_classes": [],
            "_model_module": "@jupyter-widgets/controls",
            "_model_module_version": "1.5.0",
            "_model_name": "HBoxModel",
            "_view_count": null,
            "_view_module": "@jupyter-widgets/controls",
            "_view_module_version": "1.5.0",
            "_view_name": "HBoxView",
            "box_style": "",
            "children": [
              "IPY_MODEL_194c1dff2f0f452fb4f76ebd1f1e6e69",
              "IPY_MODEL_5af6e180d2bd4b5caff7c06c6bb50919",
              "IPY_MODEL_7de047d9e019432ba34d482a8001a5c7"
            ],
            "layout": "IPY_MODEL_a92b56202b984ff989719fc3a57b98be"
          }
        },
        "194c1dff2f0f452fb4f76ebd1f1e6e69": {
          "model_module": "@jupyter-widgets/controls",
          "model_name": "HTMLModel",
          "model_module_version": "1.5.0",
          "state": {
            "_dom_classes": [],
            "_model_module": "@jupyter-widgets/controls",
            "_model_module_version": "1.5.0",
            "_model_name": "HTMLModel",
            "_view_count": null,
            "_view_module": "@jupyter-widgets/controls",
            "_view_module_version": "1.5.0",
            "_view_name": "HTMLView",
            "description": "",
            "description_tooltip": null,
            "layout": "IPY_MODEL_81ba79cea5e84413b612d9934e1c3cf6",
            "placeholder": "​",
            "style": "IPY_MODEL_7ec28029271c4d37a97fce606b7eeced",
            "value": "sentence_bert_config.json: 100%"
          }
        },
        "5af6e180d2bd4b5caff7c06c6bb50919": {
          "model_module": "@jupyter-widgets/controls",
          "model_name": "FloatProgressModel",
          "model_module_version": "1.5.0",
          "state": {
            "_dom_classes": [],
            "_model_module": "@jupyter-widgets/controls",
            "_model_module_version": "1.5.0",
            "_model_name": "FloatProgressModel",
            "_view_count": null,
            "_view_module": "@jupyter-widgets/controls",
            "_view_module_version": "1.5.0",
            "_view_name": "ProgressView",
            "bar_style": "success",
            "description": "",
            "description_tooltip": null,
            "layout": "IPY_MODEL_d779047e9eea4fd190e34402f93119c5",
            "max": 120,
            "min": 0,
            "orientation": "horizontal",
            "style": "IPY_MODEL_b026c3137ec247c494fde308ef2a6911",
            "value": 120
          }
        },
        "7de047d9e019432ba34d482a8001a5c7": {
          "model_module": "@jupyter-widgets/controls",
          "model_name": "HTMLModel",
          "model_module_version": "1.5.0",
          "state": {
            "_dom_classes": [],
            "_model_module": "@jupyter-widgets/controls",
            "_model_module_version": "1.5.0",
            "_model_name": "HTMLModel",
            "_view_count": null,
            "_view_module": "@jupyter-widgets/controls",
            "_view_module_version": "1.5.0",
            "_view_name": "HTMLView",
            "description": "",
            "description_tooltip": null,
            "layout": "IPY_MODEL_916883a03af0434c9ff2c239e811ccbd",
            "placeholder": "​",
            "style": "IPY_MODEL_f5cb7360b38d4f2280eeb1206c2bc3a9",
            "value": " 120/120 [00:00&lt;00:00, 5.36kB/s]"
          }
        },
        "a92b56202b984ff989719fc3a57b98be": {
          "model_module": "@jupyter-widgets/base",
          "model_name": "LayoutModel",
          "model_module_version": "1.2.0",
          "state": {
            "_model_module": "@jupyter-widgets/base",
            "_model_module_version": "1.2.0",
            "_model_name": "LayoutModel",
            "_view_count": null,
            "_view_module": "@jupyter-widgets/base",
            "_view_module_version": "1.2.0",
            "_view_name": "LayoutView",
            "align_content": null,
            "align_items": null,
            "align_self": null,
            "border": null,
            "bottom": null,
            "display": null,
            "flex": null,
            "flex_flow": null,
            "grid_area": null,
            "grid_auto_columns": null,
            "grid_auto_flow": null,
            "grid_auto_rows": null,
            "grid_column": null,
            "grid_gap": null,
            "grid_row": null,
            "grid_template_areas": null,
            "grid_template_columns": null,
            "grid_template_rows": null,
            "height": null,
            "justify_content": null,
            "justify_items": null,
            "left": null,
            "margin": null,
            "max_height": null,
            "max_width": null,
            "min_height": null,
            "min_width": null,
            "object_fit": null,
            "object_position": null,
            "order": null,
            "overflow": null,
            "overflow_x": null,
            "overflow_y": null,
            "padding": null,
            "right": null,
            "top": null,
            "visibility": null,
            "width": null
          }
        },
        "81ba79cea5e84413b612d9934e1c3cf6": {
          "model_module": "@jupyter-widgets/base",
          "model_name": "LayoutModel",
          "model_module_version": "1.2.0",
          "state": {
            "_model_module": "@jupyter-widgets/base",
            "_model_module_version": "1.2.0",
            "_model_name": "LayoutModel",
            "_view_count": null,
            "_view_module": "@jupyter-widgets/base",
            "_view_module_version": "1.2.0",
            "_view_name": "LayoutView",
            "align_content": null,
            "align_items": null,
            "align_self": null,
            "border": null,
            "bottom": null,
            "display": null,
            "flex": null,
            "flex_flow": null,
            "grid_area": null,
            "grid_auto_columns": null,
            "grid_auto_flow": null,
            "grid_auto_rows": null,
            "grid_column": null,
            "grid_gap": null,
            "grid_row": null,
            "grid_template_areas": null,
            "grid_template_columns": null,
            "grid_template_rows": null,
            "height": null,
            "justify_content": null,
            "justify_items": null,
            "left": null,
            "margin": null,
            "max_height": null,
            "max_width": null,
            "min_height": null,
            "min_width": null,
            "object_fit": null,
            "object_position": null,
            "order": null,
            "overflow": null,
            "overflow_x": null,
            "overflow_y": null,
            "padding": null,
            "right": null,
            "top": null,
            "visibility": null,
            "width": null
          }
        },
        "7ec28029271c4d37a97fce606b7eeced": {
          "model_module": "@jupyter-widgets/controls",
          "model_name": "DescriptionStyleModel",
          "model_module_version": "1.5.0",
          "state": {
            "_model_module": "@jupyter-widgets/controls",
            "_model_module_version": "1.5.0",
            "_model_name": "DescriptionStyleModel",
            "_view_count": null,
            "_view_module": "@jupyter-widgets/base",
            "_view_module_version": "1.2.0",
            "_view_name": "StyleView",
            "description_width": ""
          }
        },
        "d779047e9eea4fd190e34402f93119c5": {
          "model_module": "@jupyter-widgets/base",
          "model_name": "LayoutModel",
          "model_module_version": "1.2.0",
          "state": {
            "_model_module": "@jupyter-widgets/base",
            "_model_module_version": "1.2.0",
            "_model_name": "LayoutModel",
            "_view_count": null,
            "_view_module": "@jupyter-widgets/base",
            "_view_module_version": "1.2.0",
            "_view_name": "LayoutView",
            "align_content": null,
            "align_items": null,
            "align_self": null,
            "border": null,
            "bottom": null,
            "display": null,
            "flex": null,
            "flex_flow": null,
            "grid_area": null,
            "grid_auto_columns": null,
            "grid_auto_flow": null,
            "grid_auto_rows": null,
            "grid_column": null,
            "grid_gap": null,
            "grid_row": null,
            "grid_template_areas": null,
            "grid_template_columns": null,
            "grid_template_rows": null,
            "height": null,
            "justify_content": null,
            "justify_items": null,
            "left": null,
            "margin": null,
            "max_height": null,
            "max_width": null,
            "min_height": null,
            "min_width": null,
            "object_fit": null,
            "object_position": null,
            "order": null,
            "overflow": null,
            "overflow_x": null,
            "overflow_y": null,
            "padding": null,
            "right": null,
            "top": null,
            "visibility": null,
            "width": null
          }
        },
        "b026c3137ec247c494fde308ef2a6911": {
          "model_module": "@jupyter-widgets/controls",
          "model_name": "ProgressStyleModel",
          "model_module_version": "1.5.0",
          "state": {
            "_model_module": "@jupyter-widgets/controls",
            "_model_module_version": "1.5.0",
            "_model_name": "ProgressStyleModel",
            "_view_count": null,
            "_view_module": "@jupyter-widgets/base",
            "_view_module_version": "1.2.0",
            "_view_name": "StyleView",
            "bar_color": null,
            "description_width": ""
          }
        },
        "916883a03af0434c9ff2c239e811ccbd": {
          "model_module": "@jupyter-widgets/base",
          "model_name": "LayoutModel",
          "model_module_version": "1.2.0",
          "state": {
            "_model_module": "@jupyter-widgets/base",
            "_model_module_version": "1.2.0",
            "_model_name": "LayoutModel",
            "_view_count": null,
            "_view_module": "@jupyter-widgets/base",
            "_view_module_version": "1.2.0",
            "_view_name": "LayoutView",
            "align_content": null,
            "align_items": null,
            "align_self": null,
            "border": null,
            "bottom": null,
            "display": null,
            "flex": null,
            "flex_flow": null,
            "grid_area": null,
            "grid_auto_columns": null,
            "grid_auto_flow": null,
            "grid_auto_rows": null,
            "grid_column": null,
            "grid_gap": null,
            "grid_row": null,
            "grid_template_areas": null,
            "grid_template_columns": null,
            "grid_template_rows": null,
            "height": null,
            "justify_content": null,
            "justify_items": null,
            "left": null,
            "margin": null,
            "max_height": null,
            "max_width": null,
            "min_height": null,
            "min_width": null,
            "object_fit": null,
            "object_position": null,
            "order": null,
            "overflow": null,
            "overflow_x": null,
            "overflow_y": null,
            "padding": null,
            "right": null,
            "top": null,
            "visibility": null,
            "width": null
          }
        },
        "f5cb7360b38d4f2280eeb1206c2bc3a9": {
          "model_module": "@jupyter-widgets/controls",
          "model_name": "DescriptionStyleModel",
          "model_module_version": "1.5.0",
          "state": {
            "_model_module": "@jupyter-widgets/controls",
            "_model_module_version": "1.5.0",
            "_model_name": "DescriptionStyleModel",
            "_view_count": null,
            "_view_module": "@jupyter-widgets/base",
            "_view_module_version": "1.2.0",
            "_view_name": "StyleView",
            "description_width": ""
          }
        },
        "9e57699195e54ea992fecd5517f822fb": {
          "model_module": "@jupyter-widgets/controls",
          "model_name": "HBoxModel",
          "model_module_version": "1.5.0",
          "state": {
            "_dom_classes": [],
            "_model_module": "@jupyter-widgets/controls",
            "_model_module_version": "1.5.0",
            "_model_name": "HBoxModel",
            "_view_count": null,
            "_view_module": "@jupyter-widgets/controls",
            "_view_module_version": "1.5.0",
            "_view_name": "HBoxView",
            "box_style": "",
            "children": [
              "IPY_MODEL_c2062b69c5e24159a6d21a6d896804c7",
              "IPY_MODEL_4203770f27064d5ca57f04de573d6e9b",
              "IPY_MODEL_8d803f688b094cffa499eec344e50537"
            ],
            "layout": "IPY_MODEL_0186f15bfbd84e40b64bf56535a17546"
          }
        },
        "c2062b69c5e24159a6d21a6d896804c7": {
          "model_module": "@jupyter-widgets/controls",
          "model_name": "HTMLModel",
          "model_module_version": "1.5.0",
          "state": {
            "_dom_classes": [],
            "_model_module": "@jupyter-widgets/controls",
            "_model_module_version": "1.5.0",
            "_model_name": "HTMLModel",
            "_view_count": null,
            "_view_module": "@jupyter-widgets/controls",
            "_view_module_version": "1.5.0",
            "_view_name": "HTMLView",
            "description": "",
            "description_tooltip": null,
            "layout": "IPY_MODEL_ed5549fff917497bbf320e8f99ab48ce",
            "placeholder": "​",
            "style": "IPY_MODEL_74dbb2d5164e476f818f4bba163ac2e1",
            "value": "config.json: 100%"
          }
        },
        "4203770f27064d5ca57f04de573d6e9b": {
          "model_module": "@jupyter-widgets/controls",
          "model_name": "FloatProgressModel",
          "model_module_version": "1.5.0",
          "state": {
            "_dom_classes": [],
            "_model_module": "@jupyter-widgets/controls",
            "_model_module_version": "1.5.0",
            "_model_name": "FloatProgressModel",
            "_view_count": null,
            "_view_module": "@jupyter-widgets/controls",
            "_view_module_version": "1.5.0",
            "_view_name": "ProgressView",
            "bar_style": "success",
            "description": "",
            "description_tooltip": null,
            "layout": "IPY_MODEL_ed6476c2effa41a78a463e4f409e85ef",
            "max": 2064,
            "min": 0,
            "orientation": "horizontal",
            "style": "IPY_MODEL_6e24061a7c644b788735f3f36ac94699",
            "value": 2064
          }
        },
        "8d803f688b094cffa499eec344e50537": {
          "model_module": "@jupyter-widgets/controls",
          "model_name": "HTMLModel",
          "model_module_version": "1.5.0",
          "state": {
            "_dom_classes": [],
            "_model_module": "@jupyter-widgets/controls",
            "_model_module_version": "1.5.0",
            "_model_name": "HTMLModel",
            "_view_count": null,
            "_view_module": "@jupyter-widgets/controls",
            "_view_module_version": "1.5.0",
            "_view_name": "HTMLView",
            "description": "",
            "description_tooltip": null,
            "layout": "IPY_MODEL_0f83a87b1d7b42dcb3df708828c5c5d1",
            "placeholder": "​",
            "style": "IPY_MODEL_b5a251fce3a64ea6bcdb66dfd85f5a20",
            "value": " 2.06k/2.06k [00:00&lt;00:00, 115kB/s]"
          }
        },
        "0186f15bfbd84e40b64bf56535a17546": {
          "model_module": "@jupyter-widgets/base",
          "model_name": "LayoutModel",
          "model_module_version": "1.2.0",
          "state": {
            "_model_module": "@jupyter-widgets/base",
            "_model_module_version": "1.2.0",
            "_model_name": "LayoutModel",
            "_view_count": null,
            "_view_module": "@jupyter-widgets/base",
            "_view_module_version": "1.2.0",
            "_view_name": "LayoutView",
            "align_content": null,
            "align_items": null,
            "align_self": null,
            "border": null,
            "bottom": null,
            "display": null,
            "flex": null,
            "flex_flow": null,
            "grid_area": null,
            "grid_auto_columns": null,
            "grid_auto_flow": null,
            "grid_auto_rows": null,
            "grid_column": null,
            "grid_gap": null,
            "grid_row": null,
            "grid_template_areas": null,
            "grid_template_columns": null,
            "grid_template_rows": null,
            "height": null,
            "justify_content": null,
            "justify_items": null,
            "left": null,
            "margin": null,
            "max_height": null,
            "max_width": null,
            "min_height": null,
            "min_width": null,
            "object_fit": null,
            "object_position": null,
            "order": null,
            "overflow": null,
            "overflow_x": null,
            "overflow_y": null,
            "padding": null,
            "right": null,
            "top": null,
            "visibility": null,
            "width": null
          }
        },
        "ed5549fff917497bbf320e8f99ab48ce": {
          "model_module": "@jupyter-widgets/base",
          "model_name": "LayoutModel",
          "model_module_version": "1.2.0",
          "state": {
            "_model_module": "@jupyter-widgets/base",
            "_model_module_version": "1.2.0",
            "_model_name": "LayoutModel",
            "_view_count": null,
            "_view_module": "@jupyter-widgets/base",
            "_view_module_version": "1.2.0",
            "_view_name": "LayoutView",
            "align_content": null,
            "align_items": null,
            "align_self": null,
            "border": null,
            "bottom": null,
            "display": null,
            "flex": null,
            "flex_flow": null,
            "grid_area": null,
            "grid_auto_columns": null,
            "grid_auto_flow": null,
            "grid_auto_rows": null,
            "grid_column": null,
            "grid_gap": null,
            "grid_row": null,
            "grid_template_areas": null,
            "grid_template_columns": null,
            "grid_template_rows": null,
            "height": null,
            "justify_content": null,
            "justify_items": null,
            "left": null,
            "margin": null,
            "max_height": null,
            "max_width": null,
            "min_height": null,
            "min_width": null,
            "object_fit": null,
            "object_position": null,
            "order": null,
            "overflow": null,
            "overflow_x": null,
            "overflow_y": null,
            "padding": null,
            "right": null,
            "top": null,
            "visibility": null,
            "width": null
          }
        },
        "74dbb2d5164e476f818f4bba163ac2e1": {
          "model_module": "@jupyter-widgets/controls",
          "model_name": "DescriptionStyleModel",
          "model_module_version": "1.5.0",
          "state": {
            "_model_module": "@jupyter-widgets/controls",
            "_model_module_version": "1.5.0",
            "_model_name": "DescriptionStyleModel",
            "_view_count": null,
            "_view_module": "@jupyter-widgets/base",
            "_view_module_version": "1.2.0",
            "_view_name": "StyleView",
            "description_width": ""
          }
        },
        "ed6476c2effa41a78a463e4f409e85ef": {
          "model_module": "@jupyter-widgets/base",
          "model_name": "LayoutModel",
          "model_module_version": "1.2.0",
          "state": {
            "_model_module": "@jupyter-widgets/base",
            "_model_module_version": "1.2.0",
            "_model_name": "LayoutModel",
            "_view_count": null,
            "_view_module": "@jupyter-widgets/base",
            "_view_module_version": "1.2.0",
            "_view_name": "LayoutView",
            "align_content": null,
            "align_items": null,
            "align_self": null,
            "border": null,
            "bottom": null,
            "display": null,
            "flex": null,
            "flex_flow": null,
            "grid_area": null,
            "grid_auto_columns": null,
            "grid_auto_flow": null,
            "grid_auto_rows": null,
            "grid_column": null,
            "grid_gap": null,
            "grid_row": null,
            "grid_template_areas": null,
            "grid_template_columns": null,
            "grid_template_rows": null,
            "height": null,
            "justify_content": null,
            "justify_items": null,
            "left": null,
            "margin": null,
            "max_height": null,
            "max_width": null,
            "min_height": null,
            "min_width": null,
            "object_fit": null,
            "object_position": null,
            "order": null,
            "overflow": null,
            "overflow_x": null,
            "overflow_y": null,
            "padding": null,
            "right": null,
            "top": null,
            "visibility": null,
            "width": null
          }
        },
        "6e24061a7c644b788735f3f36ac94699": {
          "model_module": "@jupyter-widgets/controls",
          "model_name": "ProgressStyleModel",
          "model_module_version": "1.5.0",
          "state": {
            "_model_module": "@jupyter-widgets/controls",
            "_model_module_version": "1.5.0",
            "_model_name": "ProgressStyleModel",
            "_view_count": null,
            "_view_module": "@jupyter-widgets/base",
            "_view_module_version": "1.2.0",
            "_view_name": "StyleView",
            "bar_color": null,
            "description_width": ""
          }
        },
        "0f83a87b1d7b42dcb3df708828c5c5d1": {
          "model_module": "@jupyter-widgets/base",
          "model_name": "LayoutModel",
          "model_module_version": "1.2.0",
          "state": {
            "_model_module": "@jupyter-widgets/base",
            "_model_module_version": "1.2.0",
            "_model_name": "LayoutModel",
            "_view_count": null,
            "_view_module": "@jupyter-widgets/base",
            "_view_module_version": "1.2.0",
            "_view_name": "LayoutView",
            "align_content": null,
            "align_items": null,
            "align_self": null,
            "border": null,
            "bottom": null,
            "display": null,
            "flex": null,
            "flex_flow": null,
            "grid_area": null,
            "grid_auto_columns": null,
            "grid_auto_flow": null,
            "grid_auto_rows": null,
            "grid_column": null,
            "grid_gap": null,
            "grid_row": null,
            "grid_template_areas": null,
            "grid_template_columns": null,
            "grid_template_rows": null,
            "height": null,
            "justify_content": null,
            "justify_items": null,
            "left": null,
            "margin": null,
            "max_height": null,
            "max_width": null,
            "min_height": null,
            "min_width": null,
            "object_fit": null,
            "object_position": null,
            "order": null,
            "overflow": null,
            "overflow_x": null,
            "overflow_y": null,
            "padding": null,
            "right": null,
            "top": null,
            "visibility": null,
            "width": null
          }
        },
        "b5a251fce3a64ea6bcdb66dfd85f5a20": {
          "model_module": "@jupyter-widgets/controls",
          "model_name": "DescriptionStyleModel",
          "model_module_version": "1.5.0",
          "state": {
            "_model_module": "@jupyter-widgets/controls",
            "_model_module_version": "1.5.0",
            "_model_name": "DescriptionStyleModel",
            "_view_count": null,
            "_view_module": "@jupyter-widgets/base",
            "_view_module_version": "1.2.0",
            "_view_name": "StyleView",
            "description_width": ""
          }
        },
        "942f6a1dc2f7444d9cf6207396b09d4f": {
          "model_module": "@jupyter-widgets/controls",
          "model_name": "HBoxModel",
          "model_module_version": "1.5.0",
          "state": {
            "_dom_classes": [],
            "_model_module": "@jupyter-widgets/controls",
            "_model_module_version": "1.5.0",
            "_model_name": "HBoxModel",
            "_view_count": null,
            "_view_module": "@jupyter-widgets/controls",
            "_view_module_version": "1.5.0",
            "_view_name": "HBoxView",
            "box_style": "",
            "children": [
              "IPY_MODEL_40e3ed4985b648829dd435973c81bee9",
              "IPY_MODEL_58cfe1ddd5c845e499fd9623eafdcdeb",
              "IPY_MODEL_eece89269f984fdb8203c6f0470be97c"
            ],
            "layout": "IPY_MODEL_c18fd258c0e14a30bd0944b6d69d8556"
          }
        },
        "40e3ed4985b648829dd435973c81bee9": {
          "model_module": "@jupyter-widgets/controls",
          "model_name": "HTMLModel",
          "model_module_version": "1.5.0",
          "state": {
            "_dom_classes": [],
            "_model_module": "@jupyter-widgets/controls",
            "_model_module_version": "1.5.0",
            "_model_name": "HTMLModel",
            "_view_count": null,
            "_view_module": "@jupyter-widgets/controls",
            "_view_module_version": "1.5.0",
            "_view_name": "HTMLView",
            "description": "",
            "description_tooltip": null,
            "layout": "IPY_MODEL_f7681447075a478aad6077977780ed49",
            "placeholder": "​",
            "style": "IPY_MODEL_908714e35c2d4bd8ba9e79c806ed6a57",
            "value": "configuration_hf_nomic_bert.py: 100%"
          }
        },
        "58cfe1ddd5c845e499fd9623eafdcdeb": {
          "model_module": "@jupyter-widgets/controls",
          "model_name": "FloatProgressModel",
          "model_module_version": "1.5.0",
          "state": {
            "_dom_classes": [],
            "_model_module": "@jupyter-widgets/controls",
            "_model_module_version": "1.5.0",
            "_model_name": "FloatProgressModel",
            "_view_count": null,
            "_view_module": "@jupyter-widgets/controls",
            "_view_module_version": "1.5.0",
            "_view_name": "ProgressView",
            "bar_style": "success",
            "description": "",
            "description_tooltip": null,
            "layout": "IPY_MODEL_d93f5ec14aec4d58a56b016c792d56db",
            "max": 1959,
            "min": 0,
            "orientation": "horizontal",
            "style": "IPY_MODEL_f66cb4fdef844e0d9f9387be67fbd4b0",
            "value": 1959
          }
        },
        "eece89269f984fdb8203c6f0470be97c": {
          "model_module": "@jupyter-widgets/controls",
          "model_name": "HTMLModel",
          "model_module_version": "1.5.0",
          "state": {
            "_dom_classes": [],
            "_model_module": "@jupyter-widgets/controls",
            "_model_module_version": "1.5.0",
            "_model_name": "HTMLModel",
            "_view_count": null,
            "_view_module": "@jupyter-widgets/controls",
            "_view_module_version": "1.5.0",
            "_view_name": "HTMLView",
            "description": "",
            "description_tooltip": null,
            "layout": "IPY_MODEL_1f7672a5f0a44c63a1ecea481e16a64d",
            "placeholder": "​",
            "style": "IPY_MODEL_2638de916c63446b8ea3632a051efa10",
            "value": " 1.96k/1.96k [00:00&lt;00:00, 79.9kB/s]"
          }
        },
        "c18fd258c0e14a30bd0944b6d69d8556": {
          "model_module": "@jupyter-widgets/base",
          "model_name": "LayoutModel",
          "model_module_version": "1.2.0",
          "state": {
            "_model_module": "@jupyter-widgets/base",
            "_model_module_version": "1.2.0",
            "_model_name": "LayoutModel",
            "_view_count": null,
            "_view_module": "@jupyter-widgets/base",
            "_view_module_version": "1.2.0",
            "_view_name": "LayoutView",
            "align_content": null,
            "align_items": null,
            "align_self": null,
            "border": null,
            "bottom": null,
            "display": null,
            "flex": null,
            "flex_flow": null,
            "grid_area": null,
            "grid_auto_columns": null,
            "grid_auto_flow": null,
            "grid_auto_rows": null,
            "grid_column": null,
            "grid_gap": null,
            "grid_row": null,
            "grid_template_areas": null,
            "grid_template_columns": null,
            "grid_template_rows": null,
            "height": null,
            "justify_content": null,
            "justify_items": null,
            "left": null,
            "margin": null,
            "max_height": null,
            "max_width": null,
            "min_height": null,
            "min_width": null,
            "object_fit": null,
            "object_position": null,
            "order": null,
            "overflow": null,
            "overflow_x": null,
            "overflow_y": null,
            "padding": null,
            "right": null,
            "top": null,
            "visibility": null,
            "width": null
          }
        },
        "f7681447075a478aad6077977780ed49": {
          "model_module": "@jupyter-widgets/base",
          "model_name": "LayoutModel",
          "model_module_version": "1.2.0",
          "state": {
            "_model_module": "@jupyter-widgets/base",
            "_model_module_version": "1.2.0",
            "_model_name": "LayoutModel",
            "_view_count": null,
            "_view_module": "@jupyter-widgets/base",
            "_view_module_version": "1.2.0",
            "_view_name": "LayoutView",
            "align_content": null,
            "align_items": null,
            "align_self": null,
            "border": null,
            "bottom": null,
            "display": null,
            "flex": null,
            "flex_flow": null,
            "grid_area": null,
            "grid_auto_columns": null,
            "grid_auto_flow": null,
            "grid_auto_rows": null,
            "grid_column": null,
            "grid_gap": null,
            "grid_row": null,
            "grid_template_areas": null,
            "grid_template_columns": null,
            "grid_template_rows": null,
            "height": null,
            "justify_content": null,
            "justify_items": null,
            "left": null,
            "margin": null,
            "max_height": null,
            "max_width": null,
            "min_height": null,
            "min_width": null,
            "object_fit": null,
            "object_position": null,
            "order": null,
            "overflow": null,
            "overflow_x": null,
            "overflow_y": null,
            "padding": null,
            "right": null,
            "top": null,
            "visibility": null,
            "width": null
          }
        },
        "908714e35c2d4bd8ba9e79c806ed6a57": {
          "model_module": "@jupyter-widgets/controls",
          "model_name": "DescriptionStyleModel",
          "model_module_version": "1.5.0",
          "state": {
            "_model_module": "@jupyter-widgets/controls",
            "_model_module_version": "1.5.0",
            "_model_name": "DescriptionStyleModel",
            "_view_count": null,
            "_view_module": "@jupyter-widgets/base",
            "_view_module_version": "1.2.0",
            "_view_name": "StyleView",
            "description_width": ""
          }
        },
        "d93f5ec14aec4d58a56b016c792d56db": {
          "model_module": "@jupyter-widgets/base",
          "model_name": "LayoutModel",
          "model_module_version": "1.2.0",
          "state": {
            "_model_module": "@jupyter-widgets/base",
            "_model_module_version": "1.2.0",
            "_model_name": "LayoutModel",
            "_view_count": null,
            "_view_module": "@jupyter-widgets/base",
            "_view_module_version": "1.2.0",
            "_view_name": "LayoutView",
            "align_content": null,
            "align_items": null,
            "align_self": null,
            "border": null,
            "bottom": null,
            "display": null,
            "flex": null,
            "flex_flow": null,
            "grid_area": null,
            "grid_auto_columns": null,
            "grid_auto_flow": null,
            "grid_auto_rows": null,
            "grid_column": null,
            "grid_gap": null,
            "grid_row": null,
            "grid_template_areas": null,
            "grid_template_columns": null,
            "grid_template_rows": null,
            "height": null,
            "justify_content": null,
            "justify_items": null,
            "left": null,
            "margin": null,
            "max_height": null,
            "max_width": null,
            "min_height": null,
            "min_width": null,
            "object_fit": null,
            "object_position": null,
            "order": null,
            "overflow": null,
            "overflow_x": null,
            "overflow_y": null,
            "padding": null,
            "right": null,
            "top": null,
            "visibility": null,
            "width": null
          }
        },
        "f66cb4fdef844e0d9f9387be67fbd4b0": {
          "model_module": "@jupyter-widgets/controls",
          "model_name": "ProgressStyleModel",
          "model_module_version": "1.5.0",
          "state": {
            "_model_module": "@jupyter-widgets/controls",
            "_model_module_version": "1.5.0",
            "_model_name": "ProgressStyleModel",
            "_view_count": null,
            "_view_module": "@jupyter-widgets/base",
            "_view_module_version": "1.2.0",
            "_view_name": "StyleView",
            "bar_color": null,
            "description_width": ""
          }
        },
        "1f7672a5f0a44c63a1ecea481e16a64d": {
          "model_module": "@jupyter-widgets/base",
          "model_name": "LayoutModel",
          "model_module_version": "1.2.0",
          "state": {
            "_model_module": "@jupyter-widgets/base",
            "_model_module_version": "1.2.0",
            "_model_name": "LayoutModel",
            "_view_count": null,
            "_view_module": "@jupyter-widgets/base",
            "_view_module_version": "1.2.0",
            "_view_name": "LayoutView",
            "align_content": null,
            "align_items": null,
            "align_self": null,
            "border": null,
            "bottom": null,
            "display": null,
            "flex": null,
            "flex_flow": null,
            "grid_area": null,
            "grid_auto_columns": null,
            "grid_auto_flow": null,
            "grid_auto_rows": null,
            "grid_column": null,
            "grid_gap": null,
            "grid_row": null,
            "grid_template_areas": null,
            "grid_template_columns": null,
            "grid_template_rows": null,
            "height": null,
            "justify_content": null,
            "justify_items": null,
            "left": null,
            "margin": null,
            "max_height": null,
            "max_width": null,
            "min_height": null,
            "min_width": null,
            "object_fit": null,
            "object_position": null,
            "order": null,
            "overflow": null,
            "overflow_x": null,
            "overflow_y": null,
            "padding": null,
            "right": null,
            "top": null,
            "visibility": null,
            "width": null
          }
        },
        "2638de916c63446b8ea3632a051efa10": {
          "model_module": "@jupyter-widgets/controls",
          "model_name": "DescriptionStyleModel",
          "model_module_version": "1.5.0",
          "state": {
            "_model_module": "@jupyter-widgets/controls",
            "_model_module_version": "1.5.0",
            "_model_name": "DescriptionStyleModel",
            "_view_count": null,
            "_view_module": "@jupyter-widgets/base",
            "_view_module_version": "1.2.0",
            "_view_name": "StyleView",
            "description_width": ""
          }
        },
        "cc90790d944d4351bedc576e2396e6e8": {
          "model_module": "@jupyter-widgets/controls",
          "model_name": "HBoxModel",
          "model_module_version": "1.5.0",
          "state": {
            "_dom_classes": [],
            "_model_module": "@jupyter-widgets/controls",
            "_model_module_version": "1.5.0",
            "_model_name": "HBoxModel",
            "_view_count": null,
            "_view_module": "@jupyter-widgets/controls",
            "_view_module_version": "1.5.0",
            "_view_name": "HBoxView",
            "box_style": "",
            "children": [
              "IPY_MODEL_6fd1efe706874ac8a0958b3de7ae1748",
              "IPY_MODEL_e7cdb319289d435889c3a8504ac93b4f",
              "IPY_MODEL_3a931f7e4b4b410f8ec4f1152267581a"
            ],
            "layout": "IPY_MODEL_f03e0c353aa14ec58797f7342df1ef54"
          }
        },
        "6fd1efe706874ac8a0958b3de7ae1748": {
          "model_module": "@jupyter-widgets/controls",
          "model_name": "HTMLModel",
          "model_module_version": "1.5.0",
          "state": {
            "_dom_classes": [],
            "_model_module": "@jupyter-widgets/controls",
            "_model_module_version": "1.5.0",
            "_model_name": "HTMLModel",
            "_view_count": null,
            "_view_module": "@jupyter-widgets/controls",
            "_view_module_version": "1.5.0",
            "_view_name": "HTMLView",
            "description": "",
            "description_tooltip": null,
            "layout": "IPY_MODEL_8e9018a5916742758943080883913931",
            "placeholder": "​",
            "style": "IPY_MODEL_2f4bd8c1df774d93a35b62c34b1ddb62",
            "value": "modeling_hf_nomic_bert.py: 100%"
          }
        },
        "e7cdb319289d435889c3a8504ac93b4f": {
          "model_module": "@jupyter-widgets/controls",
          "model_name": "FloatProgressModel",
          "model_module_version": "1.5.0",
          "state": {
            "_dom_classes": [],
            "_model_module": "@jupyter-widgets/controls",
            "_model_module_version": "1.5.0",
            "_model_name": "FloatProgressModel",
            "_view_count": null,
            "_view_module": "@jupyter-widgets/controls",
            "_view_module_version": "1.5.0",
            "_view_name": "ProgressView",
            "bar_style": "success",
            "description": "",
            "description_tooltip": null,
            "layout": "IPY_MODEL_29b38f189c6445e2aaad453a402204c1",
            "max": 52815,
            "min": 0,
            "orientation": "horizontal",
            "style": "IPY_MODEL_53ea2e901bc3446fbe7b18d62b200850",
            "value": 52815
          }
        },
        "3a931f7e4b4b410f8ec4f1152267581a": {
          "model_module": "@jupyter-widgets/controls",
          "model_name": "HTMLModel",
          "model_module_version": "1.5.0",
          "state": {
            "_dom_classes": [],
            "_model_module": "@jupyter-widgets/controls",
            "_model_module_version": "1.5.0",
            "_model_name": "HTMLModel",
            "_view_count": null,
            "_view_module": "@jupyter-widgets/controls",
            "_view_module_version": "1.5.0",
            "_view_name": "HTMLView",
            "description": "",
            "description_tooltip": null,
            "layout": "IPY_MODEL_a02f138d228d4c32a960557dbe182671",
            "placeholder": "​",
            "style": "IPY_MODEL_2d3a32f0dc7f4531904d12290598c5fb",
            "value": " 52.8k/52.8k [00:00&lt;00:00, 801kB/s]"
          }
        },
        "f03e0c353aa14ec58797f7342df1ef54": {
          "model_module": "@jupyter-widgets/base",
          "model_name": "LayoutModel",
          "model_module_version": "1.2.0",
          "state": {
            "_model_module": "@jupyter-widgets/base",
            "_model_module_version": "1.2.0",
            "_model_name": "LayoutModel",
            "_view_count": null,
            "_view_module": "@jupyter-widgets/base",
            "_view_module_version": "1.2.0",
            "_view_name": "LayoutView",
            "align_content": null,
            "align_items": null,
            "align_self": null,
            "border": null,
            "bottom": null,
            "display": null,
            "flex": null,
            "flex_flow": null,
            "grid_area": null,
            "grid_auto_columns": null,
            "grid_auto_flow": null,
            "grid_auto_rows": null,
            "grid_column": null,
            "grid_gap": null,
            "grid_row": null,
            "grid_template_areas": null,
            "grid_template_columns": null,
            "grid_template_rows": null,
            "height": null,
            "justify_content": null,
            "justify_items": null,
            "left": null,
            "margin": null,
            "max_height": null,
            "max_width": null,
            "min_height": null,
            "min_width": null,
            "object_fit": null,
            "object_position": null,
            "order": null,
            "overflow": null,
            "overflow_x": null,
            "overflow_y": null,
            "padding": null,
            "right": null,
            "top": null,
            "visibility": null,
            "width": null
          }
        },
        "8e9018a5916742758943080883913931": {
          "model_module": "@jupyter-widgets/base",
          "model_name": "LayoutModel",
          "model_module_version": "1.2.0",
          "state": {
            "_model_module": "@jupyter-widgets/base",
            "_model_module_version": "1.2.0",
            "_model_name": "LayoutModel",
            "_view_count": null,
            "_view_module": "@jupyter-widgets/base",
            "_view_module_version": "1.2.0",
            "_view_name": "LayoutView",
            "align_content": null,
            "align_items": null,
            "align_self": null,
            "border": null,
            "bottom": null,
            "display": null,
            "flex": null,
            "flex_flow": null,
            "grid_area": null,
            "grid_auto_columns": null,
            "grid_auto_flow": null,
            "grid_auto_rows": null,
            "grid_column": null,
            "grid_gap": null,
            "grid_row": null,
            "grid_template_areas": null,
            "grid_template_columns": null,
            "grid_template_rows": null,
            "height": null,
            "justify_content": null,
            "justify_items": null,
            "left": null,
            "margin": null,
            "max_height": null,
            "max_width": null,
            "min_height": null,
            "min_width": null,
            "object_fit": null,
            "object_position": null,
            "order": null,
            "overflow": null,
            "overflow_x": null,
            "overflow_y": null,
            "padding": null,
            "right": null,
            "top": null,
            "visibility": null,
            "width": null
          }
        },
        "2f4bd8c1df774d93a35b62c34b1ddb62": {
          "model_module": "@jupyter-widgets/controls",
          "model_name": "DescriptionStyleModel",
          "model_module_version": "1.5.0",
          "state": {
            "_model_module": "@jupyter-widgets/controls",
            "_model_module_version": "1.5.0",
            "_model_name": "DescriptionStyleModel",
            "_view_count": null,
            "_view_module": "@jupyter-widgets/base",
            "_view_module_version": "1.2.0",
            "_view_name": "StyleView",
            "description_width": ""
          }
        },
        "29b38f189c6445e2aaad453a402204c1": {
          "model_module": "@jupyter-widgets/base",
          "model_name": "LayoutModel",
          "model_module_version": "1.2.0",
          "state": {
            "_model_module": "@jupyter-widgets/base",
            "_model_module_version": "1.2.0",
            "_model_name": "LayoutModel",
            "_view_count": null,
            "_view_module": "@jupyter-widgets/base",
            "_view_module_version": "1.2.0",
            "_view_name": "LayoutView",
            "align_content": null,
            "align_items": null,
            "align_self": null,
            "border": null,
            "bottom": null,
            "display": null,
            "flex": null,
            "flex_flow": null,
            "grid_area": null,
            "grid_auto_columns": null,
            "grid_auto_flow": null,
            "grid_auto_rows": null,
            "grid_column": null,
            "grid_gap": null,
            "grid_row": null,
            "grid_template_areas": null,
            "grid_template_columns": null,
            "grid_template_rows": null,
            "height": null,
            "justify_content": null,
            "justify_items": null,
            "left": null,
            "margin": null,
            "max_height": null,
            "max_width": null,
            "min_height": null,
            "min_width": null,
            "object_fit": null,
            "object_position": null,
            "order": null,
            "overflow": null,
            "overflow_x": null,
            "overflow_y": null,
            "padding": null,
            "right": null,
            "top": null,
            "visibility": null,
            "width": null
          }
        },
        "53ea2e901bc3446fbe7b18d62b200850": {
          "model_module": "@jupyter-widgets/controls",
          "model_name": "ProgressStyleModel",
          "model_module_version": "1.5.0",
          "state": {
            "_model_module": "@jupyter-widgets/controls",
            "_model_module_version": "1.5.0",
            "_model_name": "ProgressStyleModel",
            "_view_count": null,
            "_view_module": "@jupyter-widgets/base",
            "_view_module_version": "1.2.0",
            "_view_name": "StyleView",
            "bar_color": null,
            "description_width": ""
          }
        },
        "a02f138d228d4c32a960557dbe182671": {
          "model_module": "@jupyter-widgets/base",
          "model_name": "LayoutModel",
          "model_module_version": "1.2.0",
          "state": {
            "_model_module": "@jupyter-widgets/base",
            "_model_module_version": "1.2.0",
            "_model_name": "LayoutModel",
            "_view_count": null,
            "_view_module": "@jupyter-widgets/base",
            "_view_module_version": "1.2.0",
            "_view_name": "LayoutView",
            "align_content": null,
            "align_items": null,
            "align_self": null,
            "border": null,
            "bottom": null,
            "display": null,
            "flex": null,
            "flex_flow": null,
            "grid_area": null,
            "grid_auto_columns": null,
            "grid_auto_flow": null,
            "grid_auto_rows": null,
            "grid_column": null,
            "grid_gap": null,
            "grid_row": null,
            "grid_template_areas": null,
            "grid_template_columns": null,
            "grid_template_rows": null,
            "height": null,
            "justify_content": null,
            "justify_items": null,
            "left": null,
            "margin": null,
            "max_height": null,
            "max_width": null,
            "min_height": null,
            "min_width": null,
            "object_fit": null,
            "object_position": null,
            "order": null,
            "overflow": null,
            "overflow_x": null,
            "overflow_y": null,
            "padding": null,
            "right": null,
            "top": null,
            "visibility": null,
            "width": null
          }
        },
        "2d3a32f0dc7f4531904d12290598c5fb": {
          "model_module": "@jupyter-widgets/controls",
          "model_name": "DescriptionStyleModel",
          "model_module_version": "1.5.0",
          "state": {
            "_model_module": "@jupyter-widgets/controls",
            "_model_module_version": "1.5.0",
            "_model_name": "DescriptionStyleModel",
            "_view_count": null,
            "_view_module": "@jupyter-widgets/base",
            "_view_module_version": "1.2.0",
            "_view_name": "StyleView",
            "description_width": ""
          }
        },
        "62cf47c96ee7474e83c466be07527bd5": {
          "model_module": "@jupyter-widgets/controls",
          "model_name": "HBoxModel",
          "model_module_version": "1.5.0",
          "state": {
            "_dom_classes": [],
            "_model_module": "@jupyter-widgets/controls",
            "_model_module_version": "1.5.0",
            "_model_name": "HBoxModel",
            "_view_count": null,
            "_view_module": "@jupyter-widgets/controls",
            "_view_module_version": "1.5.0",
            "_view_name": "HBoxView",
            "box_style": "",
            "children": [
              "IPY_MODEL_42c6290612574afda45f0467e48e7478",
              "IPY_MODEL_00669011b689416eb2b06552c1a71d06",
              "IPY_MODEL_f892a2ac9c7a428ebd2f320771d3c520"
            ],
            "layout": "IPY_MODEL_a3d5ae9c657848dbb0da0c23924d6f6b"
          }
        },
        "42c6290612574afda45f0467e48e7478": {
          "model_module": "@jupyter-widgets/controls",
          "model_name": "HTMLModel",
          "model_module_version": "1.5.0",
          "state": {
            "_dom_classes": [],
            "_model_module": "@jupyter-widgets/controls",
            "_model_module_version": "1.5.0",
            "_model_name": "HTMLModel",
            "_view_count": null,
            "_view_module": "@jupyter-widgets/controls",
            "_view_module_version": "1.5.0",
            "_view_name": "HTMLView",
            "description": "",
            "description_tooltip": null,
            "layout": "IPY_MODEL_294fdb235a324d06b8e71b1fba96a0d3",
            "placeholder": "​",
            "style": "IPY_MODEL_9258fcd99a2d4a8cb74a2aa0b15e913e",
            "value": "model.safetensors: 100%"
          }
        },
        "00669011b689416eb2b06552c1a71d06": {
          "model_module": "@jupyter-widgets/controls",
          "model_name": "FloatProgressModel",
          "model_module_version": "1.5.0",
          "state": {
            "_dom_classes": [],
            "_model_module": "@jupyter-widgets/controls",
            "_model_module_version": "1.5.0",
            "_model_name": "FloatProgressModel",
            "_view_count": null,
            "_view_module": "@jupyter-widgets/controls",
            "_view_module_version": "1.5.0",
            "_view_name": "ProgressView",
            "bar_style": "success",
            "description": "",
            "description_tooltip": null,
            "layout": "IPY_MODEL_d2094c462edc40c7b2043b39fa5bc2ba",
            "max": 546938168,
            "min": 0,
            "orientation": "horizontal",
            "style": "IPY_MODEL_c635781f845d4b79a4b2d2cc76505135",
            "value": 546938168
          }
        },
        "f892a2ac9c7a428ebd2f320771d3c520": {
          "model_module": "@jupyter-widgets/controls",
          "model_name": "HTMLModel",
          "model_module_version": "1.5.0",
          "state": {
            "_dom_classes": [],
            "_model_module": "@jupyter-widgets/controls",
            "_model_module_version": "1.5.0",
            "_model_name": "HTMLModel",
            "_view_count": null,
            "_view_module": "@jupyter-widgets/controls",
            "_view_module_version": "1.5.0",
            "_view_name": "HTMLView",
            "description": "",
            "description_tooltip": null,
            "layout": "IPY_MODEL_736686cdc33540529896c8d8a8bbac9e",
            "placeholder": "​",
            "style": "IPY_MODEL_90f4059c986d4a909708d564d39a16a7",
            "value": " 547M/547M [00:03&lt;00:00, 179MB/s]"
          }
        },
        "a3d5ae9c657848dbb0da0c23924d6f6b": {
          "model_module": "@jupyter-widgets/base",
          "model_name": "LayoutModel",
          "model_module_version": "1.2.0",
          "state": {
            "_model_module": "@jupyter-widgets/base",
            "_model_module_version": "1.2.0",
            "_model_name": "LayoutModel",
            "_view_count": null,
            "_view_module": "@jupyter-widgets/base",
            "_view_module_version": "1.2.0",
            "_view_name": "LayoutView",
            "align_content": null,
            "align_items": null,
            "align_self": null,
            "border": null,
            "bottom": null,
            "display": null,
            "flex": null,
            "flex_flow": null,
            "grid_area": null,
            "grid_auto_columns": null,
            "grid_auto_flow": null,
            "grid_auto_rows": null,
            "grid_column": null,
            "grid_gap": null,
            "grid_row": null,
            "grid_template_areas": null,
            "grid_template_columns": null,
            "grid_template_rows": null,
            "height": null,
            "justify_content": null,
            "justify_items": null,
            "left": null,
            "margin": null,
            "max_height": null,
            "max_width": null,
            "min_height": null,
            "min_width": null,
            "object_fit": null,
            "object_position": null,
            "order": null,
            "overflow": null,
            "overflow_x": null,
            "overflow_y": null,
            "padding": null,
            "right": null,
            "top": null,
            "visibility": null,
            "width": null
          }
        },
        "294fdb235a324d06b8e71b1fba96a0d3": {
          "model_module": "@jupyter-widgets/base",
          "model_name": "LayoutModel",
          "model_module_version": "1.2.0",
          "state": {
            "_model_module": "@jupyter-widgets/base",
            "_model_module_version": "1.2.0",
            "_model_name": "LayoutModel",
            "_view_count": null,
            "_view_module": "@jupyter-widgets/base",
            "_view_module_version": "1.2.0",
            "_view_name": "LayoutView",
            "align_content": null,
            "align_items": null,
            "align_self": null,
            "border": null,
            "bottom": null,
            "display": null,
            "flex": null,
            "flex_flow": null,
            "grid_area": null,
            "grid_auto_columns": null,
            "grid_auto_flow": null,
            "grid_auto_rows": null,
            "grid_column": null,
            "grid_gap": null,
            "grid_row": null,
            "grid_template_areas": null,
            "grid_template_columns": null,
            "grid_template_rows": null,
            "height": null,
            "justify_content": null,
            "justify_items": null,
            "left": null,
            "margin": null,
            "max_height": null,
            "max_width": null,
            "min_height": null,
            "min_width": null,
            "object_fit": null,
            "object_position": null,
            "order": null,
            "overflow": null,
            "overflow_x": null,
            "overflow_y": null,
            "padding": null,
            "right": null,
            "top": null,
            "visibility": null,
            "width": null
          }
        },
        "9258fcd99a2d4a8cb74a2aa0b15e913e": {
          "model_module": "@jupyter-widgets/controls",
          "model_name": "DescriptionStyleModel",
          "model_module_version": "1.5.0",
          "state": {
            "_model_module": "@jupyter-widgets/controls",
            "_model_module_version": "1.5.0",
            "_model_name": "DescriptionStyleModel",
            "_view_count": null,
            "_view_module": "@jupyter-widgets/base",
            "_view_module_version": "1.2.0",
            "_view_name": "StyleView",
            "description_width": ""
          }
        },
        "d2094c462edc40c7b2043b39fa5bc2ba": {
          "model_module": "@jupyter-widgets/base",
          "model_name": "LayoutModel",
          "model_module_version": "1.2.0",
          "state": {
            "_model_module": "@jupyter-widgets/base",
            "_model_module_version": "1.2.0",
            "_model_name": "LayoutModel",
            "_view_count": null,
            "_view_module": "@jupyter-widgets/base",
            "_view_module_version": "1.2.0",
            "_view_name": "LayoutView",
            "align_content": null,
            "align_items": null,
            "align_self": null,
            "border": null,
            "bottom": null,
            "display": null,
            "flex": null,
            "flex_flow": null,
            "grid_area": null,
            "grid_auto_columns": null,
            "grid_auto_flow": null,
            "grid_auto_rows": null,
            "grid_column": null,
            "grid_gap": null,
            "grid_row": null,
            "grid_template_areas": null,
            "grid_template_columns": null,
            "grid_template_rows": null,
            "height": null,
            "justify_content": null,
            "justify_items": null,
            "left": null,
            "margin": null,
            "max_height": null,
            "max_width": null,
            "min_height": null,
            "min_width": null,
            "object_fit": null,
            "object_position": null,
            "order": null,
            "overflow": null,
            "overflow_x": null,
            "overflow_y": null,
            "padding": null,
            "right": null,
            "top": null,
            "visibility": null,
            "width": null
          }
        },
        "c635781f845d4b79a4b2d2cc76505135": {
          "model_module": "@jupyter-widgets/controls",
          "model_name": "ProgressStyleModel",
          "model_module_version": "1.5.0",
          "state": {
            "_model_module": "@jupyter-widgets/controls",
            "_model_module_version": "1.5.0",
            "_model_name": "ProgressStyleModel",
            "_view_count": null,
            "_view_module": "@jupyter-widgets/base",
            "_view_module_version": "1.2.0",
            "_view_name": "StyleView",
            "bar_color": null,
            "description_width": ""
          }
        },
        "736686cdc33540529896c8d8a8bbac9e": {
          "model_module": "@jupyter-widgets/base",
          "model_name": "LayoutModel",
          "model_module_version": "1.2.0",
          "state": {
            "_model_module": "@jupyter-widgets/base",
            "_model_module_version": "1.2.0",
            "_model_name": "LayoutModel",
            "_view_count": null,
            "_view_module": "@jupyter-widgets/base",
            "_view_module_version": "1.2.0",
            "_view_name": "LayoutView",
            "align_content": null,
            "align_items": null,
            "align_self": null,
            "border": null,
            "bottom": null,
            "display": null,
            "flex": null,
            "flex_flow": null,
            "grid_area": null,
            "grid_auto_columns": null,
            "grid_auto_flow": null,
            "grid_auto_rows": null,
            "grid_column": null,
            "grid_gap": null,
            "grid_row": null,
            "grid_template_areas": null,
            "grid_template_columns": null,
            "grid_template_rows": null,
            "height": null,
            "justify_content": null,
            "justify_items": null,
            "left": null,
            "margin": null,
            "max_height": null,
            "max_width": null,
            "min_height": null,
            "min_width": null,
            "object_fit": null,
            "object_position": null,
            "order": null,
            "overflow": null,
            "overflow_x": null,
            "overflow_y": null,
            "padding": null,
            "right": null,
            "top": null,
            "visibility": null,
            "width": null
          }
        },
        "90f4059c986d4a909708d564d39a16a7": {
          "model_module": "@jupyter-widgets/controls",
          "model_name": "DescriptionStyleModel",
          "model_module_version": "1.5.0",
          "state": {
            "_model_module": "@jupyter-widgets/controls",
            "_model_module_version": "1.5.0",
            "_model_name": "DescriptionStyleModel",
            "_view_count": null,
            "_view_module": "@jupyter-widgets/base",
            "_view_module_version": "1.2.0",
            "_view_name": "StyleView",
            "description_width": ""
          }
        },
        "9e48edcff8de4e2c9b5acc5942f41c15": {
          "model_module": "@jupyter-widgets/controls",
          "model_name": "HBoxModel",
          "model_module_version": "1.5.0",
          "state": {
            "_dom_classes": [],
            "_model_module": "@jupyter-widgets/controls",
            "_model_module_version": "1.5.0",
            "_model_name": "HBoxModel",
            "_view_count": null,
            "_view_module": "@jupyter-widgets/controls",
            "_view_module_version": "1.5.0",
            "_view_name": "HBoxView",
            "box_style": "",
            "children": [
              "IPY_MODEL_271081fbbfe74647915b8e3a62d50e22",
              "IPY_MODEL_ae168ed12c80430e955cf01b0687c973",
              "IPY_MODEL_07084a50c5f2497eb30e3f29a00d8ea2"
            ],
            "layout": "IPY_MODEL_dc6f4f5647674f229b637feb0e205f6f"
          }
        },
        "271081fbbfe74647915b8e3a62d50e22": {
          "model_module": "@jupyter-widgets/controls",
          "model_name": "HTMLModel",
          "model_module_version": "1.5.0",
          "state": {
            "_dom_classes": [],
            "_model_module": "@jupyter-widgets/controls",
            "_model_module_version": "1.5.0",
            "_model_name": "HTMLModel",
            "_view_count": null,
            "_view_module": "@jupyter-widgets/controls",
            "_view_module_version": "1.5.0",
            "_view_name": "HTMLView",
            "description": "",
            "description_tooltip": null,
            "layout": "IPY_MODEL_d9afc0f032d349749e5116193d6a533d",
            "placeholder": "​",
            "style": "IPY_MODEL_91dc69e75cb142c1a8c1e165ff814acd",
            "value": "tokenizer_config.json: 100%"
          }
        },
        "ae168ed12c80430e955cf01b0687c973": {
          "model_module": "@jupyter-widgets/controls",
          "model_name": "FloatProgressModel",
          "model_module_version": "1.5.0",
          "state": {
            "_dom_classes": [],
            "_model_module": "@jupyter-widgets/controls",
            "_model_module_version": "1.5.0",
            "_model_name": "FloatProgressModel",
            "_view_count": null,
            "_view_module": "@jupyter-widgets/controls",
            "_view_module_version": "1.5.0",
            "_view_name": "ProgressView",
            "bar_style": "success",
            "description": "",
            "description_tooltip": null,
            "layout": "IPY_MODEL_4a459936fe894b36bbf90460a6764946",
            "max": 1191,
            "min": 0,
            "orientation": "horizontal",
            "style": "IPY_MODEL_bb15ffdf85634073b1f98fc5739c1127",
            "value": 1191
          }
        },
        "07084a50c5f2497eb30e3f29a00d8ea2": {
          "model_module": "@jupyter-widgets/controls",
          "model_name": "HTMLModel",
          "model_module_version": "1.5.0",
          "state": {
            "_dom_classes": [],
            "_model_module": "@jupyter-widgets/controls",
            "_model_module_version": "1.5.0",
            "_model_name": "HTMLModel",
            "_view_count": null,
            "_view_module": "@jupyter-widgets/controls",
            "_view_module_version": "1.5.0",
            "_view_name": "HTMLView",
            "description": "",
            "description_tooltip": null,
            "layout": "IPY_MODEL_19cbeaab4c5c4394b46f88f66a03ff91",
            "placeholder": "​",
            "style": "IPY_MODEL_0d85ea2d63474dd1a37929abad7729fb",
            "value": " 1.19k/1.19k [00:00&lt;00:00, 84.1kB/s]"
          }
        },
        "dc6f4f5647674f229b637feb0e205f6f": {
          "model_module": "@jupyter-widgets/base",
          "model_name": "LayoutModel",
          "model_module_version": "1.2.0",
          "state": {
            "_model_module": "@jupyter-widgets/base",
            "_model_module_version": "1.2.0",
            "_model_name": "LayoutModel",
            "_view_count": null,
            "_view_module": "@jupyter-widgets/base",
            "_view_module_version": "1.2.0",
            "_view_name": "LayoutView",
            "align_content": null,
            "align_items": null,
            "align_self": null,
            "border": null,
            "bottom": null,
            "display": null,
            "flex": null,
            "flex_flow": null,
            "grid_area": null,
            "grid_auto_columns": null,
            "grid_auto_flow": null,
            "grid_auto_rows": null,
            "grid_column": null,
            "grid_gap": null,
            "grid_row": null,
            "grid_template_areas": null,
            "grid_template_columns": null,
            "grid_template_rows": null,
            "height": null,
            "justify_content": null,
            "justify_items": null,
            "left": null,
            "margin": null,
            "max_height": null,
            "max_width": null,
            "min_height": null,
            "min_width": null,
            "object_fit": null,
            "object_position": null,
            "order": null,
            "overflow": null,
            "overflow_x": null,
            "overflow_y": null,
            "padding": null,
            "right": null,
            "top": null,
            "visibility": null,
            "width": null
          }
        },
        "d9afc0f032d349749e5116193d6a533d": {
          "model_module": "@jupyter-widgets/base",
          "model_name": "LayoutModel",
          "model_module_version": "1.2.0",
          "state": {
            "_model_module": "@jupyter-widgets/base",
            "_model_module_version": "1.2.0",
            "_model_name": "LayoutModel",
            "_view_count": null,
            "_view_module": "@jupyter-widgets/base",
            "_view_module_version": "1.2.0",
            "_view_name": "LayoutView",
            "align_content": null,
            "align_items": null,
            "align_self": null,
            "border": null,
            "bottom": null,
            "display": null,
            "flex": null,
            "flex_flow": null,
            "grid_area": null,
            "grid_auto_columns": null,
            "grid_auto_flow": null,
            "grid_auto_rows": null,
            "grid_column": null,
            "grid_gap": null,
            "grid_row": null,
            "grid_template_areas": null,
            "grid_template_columns": null,
            "grid_template_rows": null,
            "height": null,
            "justify_content": null,
            "justify_items": null,
            "left": null,
            "margin": null,
            "max_height": null,
            "max_width": null,
            "min_height": null,
            "min_width": null,
            "object_fit": null,
            "object_position": null,
            "order": null,
            "overflow": null,
            "overflow_x": null,
            "overflow_y": null,
            "padding": null,
            "right": null,
            "top": null,
            "visibility": null,
            "width": null
          }
        },
        "91dc69e75cb142c1a8c1e165ff814acd": {
          "model_module": "@jupyter-widgets/controls",
          "model_name": "DescriptionStyleModel",
          "model_module_version": "1.5.0",
          "state": {
            "_model_module": "@jupyter-widgets/controls",
            "_model_module_version": "1.5.0",
            "_model_name": "DescriptionStyleModel",
            "_view_count": null,
            "_view_module": "@jupyter-widgets/base",
            "_view_module_version": "1.2.0",
            "_view_name": "StyleView",
            "description_width": ""
          }
        },
        "4a459936fe894b36bbf90460a6764946": {
          "model_module": "@jupyter-widgets/base",
          "model_name": "LayoutModel",
          "model_module_version": "1.2.0",
          "state": {
            "_model_module": "@jupyter-widgets/base",
            "_model_module_version": "1.2.0",
            "_model_name": "LayoutModel",
            "_view_count": null,
            "_view_module": "@jupyter-widgets/base",
            "_view_module_version": "1.2.0",
            "_view_name": "LayoutView",
            "align_content": null,
            "align_items": null,
            "align_self": null,
            "border": null,
            "bottom": null,
            "display": null,
            "flex": null,
            "flex_flow": null,
            "grid_area": null,
            "grid_auto_columns": null,
            "grid_auto_flow": null,
            "grid_auto_rows": null,
            "grid_column": null,
            "grid_gap": null,
            "grid_row": null,
            "grid_template_areas": null,
            "grid_template_columns": null,
            "grid_template_rows": null,
            "height": null,
            "justify_content": null,
            "justify_items": null,
            "left": null,
            "margin": null,
            "max_height": null,
            "max_width": null,
            "min_height": null,
            "min_width": null,
            "object_fit": null,
            "object_position": null,
            "order": null,
            "overflow": null,
            "overflow_x": null,
            "overflow_y": null,
            "padding": null,
            "right": null,
            "top": null,
            "visibility": null,
            "width": null
          }
        },
        "bb15ffdf85634073b1f98fc5739c1127": {
          "model_module": "@jupyter-widgets/controls",
          "model_name": "ProgressStyleModel",
          "model_module_version": "1.5.0",
          "state": {
            "_model_module": "@jupyter-widgets/controls",
            "_model_module_version": "1.5.0",
            "_model_name": "ProgressStyleModel",
            "_view_count": null,
            "_view_module": "@jupyter-widgets/base",
            "_view_module_version": "1.2.0",
            "_view_name": "StyleView",
            "bar_color": null,
            "description_width": ""
          }
        },
        "19cbeaab4c5c4394b46f88f66a03ff91": {
          "model_module": "@jupyter-widgets/base",
          "model_name": "LayoutModel",
          "model_module_version": "1.2.0",
          "state": {
            "_model_module": "@jupyter-widgets/base",
            "_model_module_version": "1.2.0",
            "_model_name": "LayoutModel",
            "_view_count": null,
            "_view_module": "@jupyter-widgets/base",
            "_view_module_version": "1.2.0",
            "_view_name": "LayoutView",
            "align_content": null,
            "align_items": null,
            "align_self": null,
            "border": null,
            "bottom": null,
            "display": null,
            "flex": null,
            "flex_flow": null,
            "grid_area": null,
            "grid_auto_columns": null,
            "grid_auto_flow": null,
            "grid_auto_rows": null,
            "grid_column": null,
            "grid_gap": null,
            "grid_row": null,
            "grid_template_areas": null,
            "grid_template_columns": null,
            "grid_template_rows": null,
            "height": null,
            "justify_content": null,
            "justify_items": null,
            "left": null,
            "margin": null,
            "max_height": null,
            "max_width": null,
            "min_height": null,
            "min_width": null,
            "object_fit": null,
            "object_position": null,
            "order": null,
            "overflow": null,
            "overflow_x": null,
            "overflow_y": null,
            "padding": null,
            "right": null,
            "top": null,
            "visibility": null,
            "width": null
          }
        },
        "0d85ea2d63474dd1a37929abad7729fb": {
          "model_module": "@jupyter-widgets/controls",
          "model_name": "DescriptionStyleModel",
          "model_module_version": "1.5.0",
          "state": {
            "_model_module": "@jupyter-widgets/controls",
            "_model_module_version": "1.5.0",
            "_model_name": "DescriptionStyleModel",
            "_view_count": null,
            "_view_module": "@jupyter-widgets/base",
            "_view_module_version": "1.2.0",
            "_view_name": "StyleView",
            "description_width": ""
          }
        },
        "4bf81e0d58544ebd877c7a012b77e513": {
          "model_module": "@jupyter-widgets/controls",
          "model_name": "HBoxModel",
          "model_module_version": "1.5.0",
          "state": {
            "_dom_classes": [],
            "_model_module": "@jupyter-widgets/controls",
            "_model_module_version": "1.5.0",
            "_model_name": "HBoxModel",
            "_view_count": null,
            "_view_module": "@jupyter-widgets/controls",
            "_view_module_version": "1.5.0",
            "_view_name": "HBoxView",
            "box_style": "",
            "children": [
              "IPY_MODEL_3ccb00b6b58041b692755c2994b6d3bd",
              "IPY_MODEL_da6aab3d873a41aeb5c5b440a294988c",
              "IPY_MODEL_3a8e39ec0184459bbfbe9a571b96778f"
            ],
            "layout": "IPY_MODEL_3eb9d2f05f0c4a479c648ce3228c02a3"
          }
        },
        "3ccb00b6b58041b692755c2994b6d3bd": {
          "model_module": "@jupyter-widgets/controls",
          "model_name": "HTMLModel",
          "model_module_version": "1.5.0",
          "state": {
            "_dom_classes": [],
            "_model_module": "@jupyter-widgets/controls",
            "_model_module_version": "1.5.0",
            "_model_name": "HTMLModel",
            "_view_count": null,
            "_view_module": "@jupyter-widgets/controls",
            "_view_module_version": "1.5.0",
            "_view_name": "HTMLView",
            "description": "",
            "description_tooltip": null,
            "layout": "IPY_MODEL_c4bb73f05d5e4c2788708711a0f16030",
            "placeholder": "​",
            "style": "IPY_MODEL_fa2ebe6a55df48a982790ab45dac43db",
            "value": "vocab.txt: 100%"
          }
        },
        "da6aab3d873a41aeb5c5b440a294988c": {
          "model_module": "@jupyter-widgets/controls",
          "model_name": "FloatProgressModel",
          "model_module_version": "1.5.0",
          "state": {
            "_dom_classes": [],
            "_model_module": "@jupyter-widgets/controls",
            "_model_module_version": "1.5.0",
            "_model_name": "FloatProgressModel",
            "_view_count": null,
            "_view_module": "@jupyter-widgets/controls",
            "_view_module_version": "1.5.0",
            "_view_name": "ProgressView",
            "bar_style": "success",
            "description": "",
            "description_tooltip": null,
            "layout": "IPY_MODEL_da9cfc2191b443779bf450e08d476bde",
            "max": 231508,
            "min": 0,
            "orientation": "horizontal",
            "style": "IPY_MODEL_f26035b26c014d8ca4240b2cbeab7b08",
            "value": 231508
          }
        },
        "3a8e39ec0184459bbfbe9a571b96778f": {
          "model_module": "@jupyter-widgets/controls",
          "model_name": "HTMLModel",
          "model_module_version": "1.5.0",
          "state": {
            "_dom_classes": [],
            "_model_module": "@jupyter-widgets/controls",
            "_model_module_version": "1.5.0",
            "_model_name": "HTMLModel",
            "_view_count": null,
            "_view_module": "@jupyter-widgets/controls",
            "_view_module_version": "1.5.0",
            "_view_name": "HTMLView",
            "description": "",
            "description_tooltip": null,
            "layout": "IPY_MODEL_6bd77bcb809549c3ae44b23b9ec9ce4c",
            "placeholder": "​",
            "style": "IPY_MODEL_b8b749f0f424466f8e1a5d7bcb1609dc",
            "value": " 232k/232k [00:00&lt;00:00, 3.37MB/s]"
          }
        },
        "3eb9d2f05f0c4a479c648ce3228c02a3": {
          "model_module": "@jupyter-widgets/base",
          "model_name": "LayoutModel",
          "model_module_version": "1.2.0",
          "state": {
            "_model_module": "@jupyter-widgets/base",
            "_model_module_version": "1.2.0",
            "_model_name": "LayoutModel",
            "_view_count": null,
            "_view_module": "@jupyter-widgets/base",
            "_view_module_version": "1.2.0",
            "_view_name": "LayoutView",
            "align_content": null,
            "align_items": null,
            "align_self": null,
            "border": null,
            "bottom": null,
            "display": null,
            "flex": null,
            "flex_flow": null,
            "grid_area": null,
            "grid_auto_columns": null,
            "grid_auto_flow": null,
            "grid_auto_rows": null,
            "grid_column": null,
            "grid_gap": null,
            "grid_row": null,
            "grid_template_areas": null,
            "grid_template_columns": null,
            "grid_template_rows": null,
            "height": null,
            "justify_content": null,
            "justify_items": null,
            "left": null,
            "margin": null,
            "max_height": null,
            "max_width": null,
            "min_height": null,
            "min_width": null,
            "object_fit": null,
            "object_position": null,
            "order": null,
            "overflow": null,
            "overflow_x": null,
            "overflow_y": null,
            "padding": null,
            "right": null,
            "top": null,
            "visibility": null,
            "width": null
          }
        },
        "c4bb73f05d5e4c2788708711a0f16030": {
          "model_module": "@jupyter-widgets/base",
          "model_name": "LayoutModel",
          "model_module_version": "1.2.0",
          "state": {
            "_model_module": "@jupyter-widgets/base",
            "_model_module_version": "1.2.0",
            "_model_name": "LayoutModel",
            "_view_count": null,
            "_view_module": "@jupyter-widgets/base",
            "_view_module_version": "1.2.0",
            "_view_name": "LayoutView",
            "align_content": null,
            "align_items": null,
            "align_self": null,
            "border": null,
            "bottom": null,
            "display": null,
            "flex": null,
            "flex_flow": null,
            "grid_area": null,
            "grid_auto_columns": null,
            "grid_auto_flow": null,
            "grid_auto_rows": null,
            "grid_column": null,
            "grid_gap": null,
            "grid_row": null,
            "grid_template_areas": null,
            "grid_template_columns": null,
            "grid_template_rows": null,
            "height": null,
            "justify_content": null,
            "justify_items": null,
            "left": null,
            "margin": null,
            "max_height": null,
            "max_width": null,
            "min_height": null,
            "min_width": null,
            "object_fit": null,
            "object_position": null,
            "order": null,
            "overflow": null,
            "overflow_x": null,
            "overflow_y": null,
            "padding": null,
            "right": null,
            "top": null,
            "visibility": null,
            "width": null
          }
        },
        "fa2ebe6a55df48a982790ab45dac43db": {
          "model_module": "@jupyter-widgets/controls",
          "model_name": "DescriptionStyleModel",
          "model_module_version": "1.5.0",
          "state": {
            "_model_module": "@jupyter-widgets/controls",
            "_model_module_version": "1.5.0",
            "_model_name": "DescriptionStyleModel",
            "_view_count": null,
            "_view_module": "@jupyter-widgets/base",
            "_view_module_version": "1.2.0",
            "_view_name": "StyleView",
            "description_width": ""
          }
        },
        "da9cfc2191b443779bf450e08d476bde": {
          "model_module": "@jupyter-widgets/base",
          "model_name": "LayoutModel",
          "model_module_version": "1.2.0",
          "state": {
            "_model_module": "@jupyter-widgets/base",
            "_model_module_version": "1.2.0",
            "_model_name": "LayoutModel",
            "_view_count": null,
            "_view_module": "@jupyter-widgets/base",
            "_view_module_version": "1.2.0",
            "_view_name": "LayoutView",
            "align_content": null,
            "align_items": null,
            "align_self": null,
            "border": null,
            "bottom": null,
            "display": null,
            "flex": null,
            "flex_flow": null,
            "grid_area": null,
            "grid_auto_columns": null,
            "grid_auto_flow": null,
            "grid_auto_rows": null,
            "grid_column": null,
            "grid_gap": null,
            "grid_row": null,
            "grid_template_areas": null,
            "grid_template_columns": null,
            "grid_template_rows": null,
            "height": null,
            "justify_content": null,
            "justify_items": null,
            "left": null,
            "margin": null,
            "max_height": null,
            "max_width": null,
            "min_height": null,
            "min_width": null,
            "object_fit": null,
            "object_position": null,
            "order": null,
            "overflow": null,
            "overflow_x": null,
            "overflow_y": null,
            "padding": null,
            "right": null,
            "top": null,
            "visibility": null,
            "width": null
          }
        },
        "f26035b26c014d8ca4240b2cbeab7b08": {
          "model_module": "@jupyter-widgets/controls",
          "model_name": "ProgressStyleModel",
          "model_module_version": "1.5.0",
          "state": {
            "_model_module": "@jupyter-widgets/controls",
            "_model_module_version": "1.5.0",
            "_model_name": "ProgressStyleModel",
            "_view_count": null,
            "_view_module": "@jupyter-widgets/base",
            "_view_module_version": "1.2.0",
            "_view_name": "StyleView",
            "bar_color": null,
            "description_width": ""
          }
        },
        "6bd77bcb809549c3ae44b23b9ec9ce4c": {
          "model_module": "@jupyter-widgets/base",
          "model_name": "LayoutModel",
          "model_module_version": "1.2.0",
          "state": {
            "_model_module": "@jupyter-widgets/base",
            "_model_module_version": "1.2.0",
            "_model_name": "LayoutModel",
            "_view_count": null,
            "_view_module": "@jupyter-widgets/base",
            "_view_module_version": "1.2.0",
            "_view_name": "LayoutView",
            "align_content": null,
            "align_items": null,
            "align_self": null,
            "border": null,
            "bottom": null,
            "display": null,
            "flex": null,
            "flex_flow": null,
            "grid_area": null,
            "grid_auto_columns": null,
            "grid_auto_flow": null,
            "grid_auto_rows": null,
            "grid_column": null,
            "grid_gap": null,
            "grid_row": null,
            "grid_template_areas": null,
            "grid_template_columns": null,
            "grid_template_rows": null,
            "height": null,
            "justify_content": null,
            "justify_items": null,
            "left": null,
            "margin": null,
            "max_height": null,
            "max_width": null,
            "min_height": null,
            "min_width": null,
            "object_fit": null,
            "object_position": null,
            "order": null,
            "overflow": null,
            "overflow_x": null,
            "overflow_y": null,
            "padding": null,
            "right": null,
            "top": null,
            "visibility": null,
            "width": null
          }
        },
        "b8b749f0f424466f8e1a5d7bcb1609dc": {
          "model_module": "@jupyter-widgets/controls",
          "model_name": "DescriptionStyleModel",
          "model_module_version": "1.5.0",
          "state": {
            "_model_module": "@jupyter-widgets/controls",
            "_model_module_version": "1.5.0",
            "_model_name": "DescriptionStyleModel",
            "_view_count": null,
            "_view_module": "@jupyter-widgets/base",
            "_view_module_version": "1.2.0",
            "_view_name": "StyleView",
            "description_width": ""
          }
        },
        "305ad0c3839748ca91bc7715e3f25dd3": {
          "model_module": "@jupyter-widgets/controls",
          "model_name": "HBoxModel",
          "model_module_version": "1.5.0",
          "state": {
            "_dom_classes": [],
            "_model_module": "@jupyter-widgets/controls",
            "_model_module_version": "1.5.0",
            "_model_name": "HBoxModel",
            "_view_count": null,
            "_view_module": "@jupyter-widgets/controls",
            "_view_module_version": "1.5.0",
            "_view_name": "HBoxView",
            "box_style": "",
            "children": [
              "IPY_MODEL_cb3f670bdce94bfeb38420f174037f35",
              "IPY_MODEL_fa1f5d2f783449a19aeb3fbbd688b84a",
              "IPY_MODEL_1b702af20c2e48bea97a339563639c61"
            ],
            "layout": "IPY_MODEL_bb2b4cd544184d0086c3567f887aa6bb"
          }
        },
        "cb3f670bdce94bfeb38420f174037f35": {
          "model_module": "@jupyter-widgets/controls",
          "model_name": "HTMLModel",
          "model_module_version": "1.5.0",
          "state": {
            "_dom_classes": [],
            "_model_module": "@jupyter-widgets/controls",
            "_model_module_version": "1.5.0",
            "_model_name": "HTMLModel",
            "_view_count": null,
            "_view_module": "@jupyter-widgets/controls",
            "_view_module_version": "1.5.0",
            "_view_name": "HTMLView",
            "description": "",
            "description_tooltip": null,
            "layout": "IPY_MODEL_b2412858000746f9b90c627c2c7143cf",
            "placeholder": "​",
            "style": "IPY_MODEL_18e06c0f5e864b619c7a8684181cf893",
            "value": "tokenizer.json: 100%"
          }
        },
        "fa1f5d2f783449a19aeb3fbbd688b84a": {
          "model_module": "@jupyter-widgets/controls",
          "model_name": "FloatProgressModel",
          "model_module_version": "1.5.0",
          "state": {
            "_dom_classes": [],
            "_model_module": "@jupyter-widgets/controls",
            "_model_module_version": "1.5.0",
            "_model_name": "FloatProgressModel",
            "_view_count": null,
            "_view_module": "@jupyter-widgets/controls",
            "_view_module_version": "1.5.0",
            "_view_name": "ProgressView",
            "bar_style": "success",
            "description": "",
            "description_tooltip": null,
            "layout": "IPY_MODEL_ebbed0549667426a8e02bb892c8cb2fc",
            "max": 711396,
            "min": 0,
            "orientation": "horizontal",
            "style": "IPY_MODEL_3b6ffe82d0f44658a35fa7e9154e8880",
            "value": 711396
          }
        },
        "1b702af20c2e48bea97a339563639c61": {
          "model_module": "@jupyter-widgets/controls",
          "model_name": "HTMLModel",
          "model_module_version": "1.5.0",
          "state": {
            "_dom_classes": [],
            "_model_module": "@jupyter-widgets/controls",
            "_model_module_version": "1.5.0",
            "_model_name": "HTMLModel",
            "_view_count": null,
            "_view_module": "@jupyter-widgets/controls",
            "_view_module_version": "1.5.0",
            "_view_name": "HTMLView",
            "description": "",
            "description_tooltip": null,
            "layout": "IPY_MODEL_a43f2c0ec4a748eebad042a01299b575",
            "placeholder": "​",
            "style": "IPY_MODEL_f42c2c3e877f4d8ea2f7d1b85320f6b7",
            "value": " 711k/711k [00:00&lt;00:00, 3.60MB/s]"
          }
        },
        "bb2b4cd544184d0086c3567f887aa6bb": {
          "model_module": "@jupyter-widgets/base",
          "model_name": "LayoutModel",
          "model_module_version": "1.2.0",
          "state": {
            "_model_module": "@jupyter-widgets/base",
            "_model_module_version": "1.2.0",
            "_model_name": "LayoutModel",
            "_view_count": null,
            "_view_module": "@jupyter-widgets/base",
            "_view_module_version": "1.2.0",
            "_view_name": "LayoutView",
            "align_content": null,
            "align_items": null,
            "align_self": null,
            "border": null,
            "bottom": null,
            "display": null,
            "flex": null,
            "flex_flow": null,
            "grid_area": null,
            "grid_auto_columns": null,
            "grid_auto_flow": null,
            "grid_auto_rows": null,
            "grid_column": null,
            "grid_gap": null,
            "grid_row": null,
            "grid_template_areas": null,
            "grid_template_columns": null,
            "grid_template_rows": null,
            "height": null,
            "justify_content": null,
            "justify_items": null,
            "left": null,
            "margin": null,
            "max_height": null,
            "max_width": null,
            "min_height": null,
            "min_width": null,
            "object_fit": null,
            "object_position": null,
            "order": null,
            "overflow": null,
            "overflow_x": null,
            "overflow_y": null,
            "padding": null,
            "right": null,
            "top": null,
            "visibility": null,
            "width": null
          }
        },
        "b2412858000746f9b90c627c2c7143cf": {
          "model_module": "@jupyter-widgets/base",
          "model_name": "LayoutModel",
          "model_module_version": "1.2.0",
          "state": {
            "_model_module": "@jupyter-widgets/base",
            "_model_module_version": "1.2.0",
            "_model_name": "LayoutModel",
            "_view_count": null,
            "_view_module": "@jupyter-widgets/base",
            "_view_module_version": "1.2.0",
            "_view_name": "LayoutView",
            "align_content": null,
            "align_items": null,
            "align_self": null,
            "border": null,
            "bottom": null,
            "display": null,
            "flex": null,
            "flex_flow": null,
            "grid_area": null,
            "grid_auto_columns": null,
            "grid_auto_flow": null,
            "grid_auto_rows": null,
            "grid_column": null,
            "grid_gap": null,
            "grid_row": null,
            "grid_template_areas": null,
            "grid_template_columns": null,
            "grid_template_rows": null,
            "height": null,
            "justify_content": null,
            "justify_items": null,
            "left": null,
            "margin": null,
            "max_height": null,
            "max_width": null,
            "min_height": null,
            "min_width": null,
            "object_fit": null,
            "object_position": null,
            "order": null,
            "overflow": null,
            "overflow_x": null,
            "overflow_y": null,
            "padding": null,
            "right": null,
            "top": null,
            "visibility": null,
            "width": null
          }
        },
        "18e06c0f5e864b619c7a8684181cf893": {
          "model_module": "@jupyter-widgets/controls",
          "model_name": "DescriptionStyleModel",
          "model_module_version": "1.5.0",
          "state": {
            "_model_module": "@jupyter-widgets/controls",
            "_model_module_version": "1.5.0",
            "_model_name": "DescriptionStyleModel",
            "_view_count": null,
            "_view_module": "@jupyter-widgets/base",
            "_view_module_version": "1.2.0",
            "_view_name": "StyleView",
            "description_width": ""
          }
        },
        "ebbed0549667426a8e02bb892c8cb2fc": {
          "model_module": "@jupyter-widgets/base",
          "model_name": "LayoutModel",
          "model_module_version": "1.2.0",
          "state": {
            "_model_module": "@jupyter-widgets/base",
            "_model_module_version": "1.2.0",
            "_model_name": "LayoutModel",
            "_view_count": null,
            "_view_module": "@jupyter-widgets/base",
            "_view_module_version": "1.2.0",
            "_view_name": "LayoutView",
            "align_content": null,
            "align_items": null,
            "align_self": null,
            "border": null,
            "bottom": null,
            "display": null,
            "flex": null,
            "flex_flow": null,
            "grid_area": null,
            "grid_auto_columns": null,
            "grid_auto_flow": null,
            "grid_auto_rows": null,
            "grid_column": null,
            "grid_gap": null,
            "grid_row": null,
            "grid_template_areas": null,
            "grid_template_columns": null,
            "grid_template_rows": null,
            "height": null,
            "justify_content": null,
            "justify_items": null,
            "left": null,
            "margin": null,
            "max_height": null,
            "max_width": null,
            "min_height": null,
            "min_width": null,
            "object_fit": null,
            "object_position": null,
            "order": null,
            "overflow": null,
            "overflow_x": null,
            "overflow_y": null,
            "padding": null,
            "right": null,
            "top": null,
            "visibility": null,
            "width": null
          }
        },
        "3b6ffe82d0f44658a35fa7e9154e8880": {
          "model_module": "@jupyter-widgets/controls",
          "model_name": "ProgressStyleModel",
          "model_module_version": "1.5.0",
          "state": {
            "_model_module": "@jupyter-widgets/controls",
            "_model_module_version": "1.5.0",
            "_model_name": "ProgressStyleModel",
            "_view_count": null,
            "_view_module": "@jupyter-widgets/base",
            "_view_module_version": "1.2.0",
            "_view_name": "StyleView",
            "bar_color": null,
            "description_width": ""
          }
        },
        "a43f2c0ec4a748eebad042a01299b575": {
          "model_module": "@jupyter-widgets/base",
          "model_name": "LayoutModel",
          "model_module_version": "1.2.0",
          "state": {
            "_model_module": "@jupyter-widgets/base",
            "_model_module_version": "1.2.0",
            "_model_name": "LayoutModel",
            "_view_count": null,
            "_view_module": "@jupyter-widgets/base",
            "_view_module_version": "1.2.0",
            "_view_name": "LayoutView",
            "align_content": null,
            "align_items": null,
            "align_self": null,
            "border": null,
            "bottom": null,
            "display": null,
            "flex": null,
            "flex_flow": null,
            "grid_area": null,
            "grid_auto_columns": null,
            "grid_auto_flow": null,
            "grid_auto_rows": null,
            "grid_column": null,
            "grid_gap": null,
            "grid_row": null,
            "grid_template_areas": null,
            "grid_template_columns": null,
            "grid_template_rows": null,
            "height": null,
            "justify_content": null,
            "justify_items": null,
            "left": null,
            "margin": null,
            "max_height": null,
            "max_width": null,
            "min_height": null,
            "min_width": null,
            "object_fit": null,
            "object_position": null,
            "order": null,
            "overflow": null,
            "overflow_x": null,
            "overflow_y": null,
            "padding": null,
            "right": null,
            "top": null,
            "visibility": null,
            "width": null
          }
        },
        "f42c2c3e877f4d8ea2f7d1b85320f6b7": {
          "model_module": "@jupyter-widgets/controls",
          "model_name": "DescriptionStyleModel",
          "model_module_version": "1.5.0",
          "state": {
            "_model_module": "@jupyter-widgets/controls",
            "_model_module_version": "1.5.0",
            "_model_name": "DescriptionStyleModel",
            "_view_count": null,
            "_view_module": "@jupyter-widgets/base",
            "_view_module_version": "1.2.0",
            "_view_name": "StyleView",
            "description_width": ""
          }
        },
        "669a6d5239bb47d8b5627cf7db512634": {
          "model_module": "@jupyter-widgets/controls",
          "model_name": "HBoxModel",
          "model_module_version": "1.5.0",
          "state": {
            "_dom_classes": [],
            "_model_module": "@jupyter-widgets/controls",
            "_model_module_version": "1.5.0",
            "_model_name": "HBoxModel",
            "_view_count": null,
            "_view_module": "@jupyter-widgets/controls",
            "_view_module_version": "1.5.0",
            "_view_name": "HBoxView",
            "box_style": "",
            "children": [
              "IPY_MODEL_77ac0d666105436c80819b99e83f5f3a",
              "IPY_MODEL_0ee4dc04902b4faaa244f0639672c80d",
              "IPY_MODEL_f1c17305bcb84d90944fc1576b596074"
            ],
            "layout": "IPY_MODEL_221cbb2bf0d845a887d20aad91c03427"
          }
        },
        "77ac0d666105436c80819b99e83f5f3a": {
          "model_module": "@jupyter-widgets/controls",
          "model_name": "HTMLModel",
          "model_module_version": "1.5.0",
          "state": {
            "_dom_classes": [],
            "_model_module": "@jupyter-widgets/controls",
            "_model_module_version": "1.5.0",
            "_model_name": "HTMLModel",
            "_view_count": null,
            "_view_module": "@jupyter-widgets/controls",
            "_view_module_version": "1.5.0",
            "_view_name": "HTMLView",
            "description": "",
            "description_tooltip": null,
            "layout": "IPY_MODEL_2c9c5ebc0aa1479ba173ab3bccb73331",
            "placeholder": "​",
            "style": "IPY_MODEL_5a44f66d25734feca05b31f661a05d45",
            "value": "special_tokens_map.json: 100%"
          }
        },
        "0ee4dc04902b4faaa244f0639672c80d": {
          "model_module": "@jupyter-widgets/controls",
          "model_name": "FloatProgressModel",
          "model_module_version": "1.5.0",
          "state": {
            "_dom_classes": [],
            "_model_module": "@jupyter-widgets/controls",
            "_model_module_version": "1.5.0",
            "_model_name": "FloatProgressModel",
            "_view_count": null,
            "_view_module": "@jupyter-widgets/controls",
            "_view_module_version": "1.5.0",
            "_view_name": "ProgressView",
            "bar_style": "success",
            "description": "",
            "description_tooltip": null,
            "layout": "IPY_MODEL_0713a7ca1e7a4fb98b6ffac47e8ca890",
            "max": 695,
            "min": 0,
            "orientation": "horizontal",
            "style": "IPY_MODEL_44c961f2ca28468798be7c7ae07ad398",
            "value": 695
          }
        },
        "f1c17305bcb84d90944fc1576b596074": {
          "model_module": "@jupyter-widgets/controls",
          "model_name": "HTMLModel",
          "model_module_version": "1.5.0",
          "state": {
            "_dom_classes": [],
            "_model_module": "@jupyter-widgets/controls",
            "_model_module_version": "1.5.0",
            "_model_name": "HTMLModel",
            "_view_count": null,
            "_view_module": "@jupyter-widgets/controls",
            "_view_module_version": "1.5.0",
            "_view_name": "HTMLView",
            "description": "",
            "description_tooltip": null,
            "layout": "IPY_MODEL_c81dc5209e6d4ad6bf5f3aa8b0a5104d",
            "placeholder": "​",
            "style": "IPY_MODEL_b36cdc45a6f44eb68ac7baf48698dcdd",
            "value": " 695/695 [00:00&lt;00:00, 51.5kB/s]"
          }
        },
        "221cbb2bf0d845a887d20aad91c03427": {
          "model_module": "@jupyter-widgets/base",
          "model_name": "LayoutModel",
          "model_module_version": "1.2.0",
          "state": {
            "_model_module": "@jupyter-widgets/base",
            "_model_module_version": "1.2.0",
            "_model_name": "LayoutModel",
            "_view_count": null,
            "_view_module": "@jupyter-widgets/base",
            "_view_module_version": "1.2.0",
            "_view_name": "LayoutView",
            "align_content": null,
            "align_items": null,
            "align_self": null,
            "border": null,
            "bottom": null,
            "display": null,
            "flex": null,
            "flex_flow": null,
            "grid_area": null,
            "grid_auto_columns": null,
            "grid_auto_flow": null,
            "grid_auto_rows": null,
            "grid_column": null,
            "grid_gap": null,
            "grid_row": null,
            "grid_template_areas": null,
            "grid_template_columns": null,
            "grid_template_rows": null,
            "height": null,
            "justify_content": null,
            "justify_items": null,
            "left": null,
            "margin": null,
            "max_height": null,
            "max_width": null,
            "min_height": null,
            "min_width": null,
            "object_fit": null,
            "object_position": null,
            "order": null,
            "overflow": null,
            "overflow_x": null,
            "overflow_y": null,
            "padding": null,
            "right": null,
            "top": null,
            "visibility": null,
            "width": null
          }
        },
        "2c9c5ebc0aa1479ba173ab3bccb73331": {
          "model_module": "@jupyter-widgets/base",
          "model_name": "LayoutModel",
          "model_module_version": "1.2.0",
          "state": {
            "_model_module": "@jupyter-widgets/base",
            "_model_module_version": "1.2.0",
            "_model_name": "LayoutModel",
            "_view_count": null,
            "_view_module": "@jupyter-widgets/base",
            "_view_module_version": "1.2.0",
            "_view_name": "LayoutView",
            "align_content": null,
            "align_items": null,
            "align_self": null,
            "border": null,
            "bottom": null,
            "display": null,
            "flex": null,
            "flex_flow": null,
            "grid_area": null,
            "grid_auto_columns": null,
            "grid_auto_flow": null,
            "grid_auto_rows": null,
            "grid_column": null,
            "grid_gap": null,
            "grid_row": null,
            "grid_template_areas": null,
            "grid_template_columns": null,
            "grid_template_rows": null,
            "height": null,
            "justify_content": null,
            "justify_items": null,
            "left": null,
            "margin": null,
            "max_height": null,
            "max_width": null,
            "min_height": null,
            "min_width": null,
            "object_fit": null,
            "object_position": null,
            "order": null,
            "overflow": null,
            "overflow_x": null,
            "overflow_y": null,
            "padding": null,
            "right": null,
            "top": null,
            "visibility": null,
            "width": null
          }
        },
        "5a44f66d25734feca05b31f661a05d45": {
          "model_module": "@jupyter-widgets/controls",
          "model_name": "DescriptionStyleModel",
          "model_module_version": "1.5.0",
          "state": {
            "_model_module": "@jupyter-widgets/controls",
            "_model_module_version": "1.5.0",
            "_model_name": "DescriptionStyleModel",
            "_view_count": null,
            "_view_module": "@jupyter-widgets/base",
            "_view_module_version": "1.2.0",
            "_view_name": "StyleView",
            "description_width": ""
          }
        },
        "0713a7ca1e7a4fb98b6ffac47e8ca890": {
          "model_module": "@jupyter-widgets/base",
          "model_name": "LayoutModel",
          "model_module_version": "1.2.0",
          "state": {
            "_model_module": "@jupyter-widgets/base",
            "_model_module_version": "1.2.0",
            "_model_name": "LayoutModel",
            "_view_count": null,
            "_view_module": "@jupyter-widgets/base",
            "_view_module_version": "1.2.0",
            "_view_name": "LayoutView",
            "align_content": null,
            "align_items": null,
            "align_self": null,
            "border": null,
            "bottom": null,
            "display": null,
            "flex": null,
            "flex_flow": null,
            "grid_area": null,
            "grid_auto_columns": null,
            "grid_auto_flow": null,
            "grid_auto_rows": null,
            "grid_column": null,
            "grid_gap": null,
            "grid_row": null,
            "grid_template_areas": null,
            "grid_template_columns": null,
            "grid_template_rows": null,
            "height": null,
            "justify_content": null,
            "justify_items": null,
            "left": null,
            "margin": null,
            "max_height": null,
            "max_width": null,
            "min_height": null,
            "min_width": null,
            "object_fit": null,
            "object_position": null,
            "order": null,
            "overflow": null,
            "overflow_x": null,
            "overflow_y": null,
            "padding": null,
            "right": null,
            "top": null,
            "visibility": null,
            "width": null
          }
        },
        "44c961f2ca28468798be7c7ae07ad398": {
          "model_module": "@jupyter-widgets/controls",
          "model_name": "ProgressStyleModel",
          "model_module_version": "1.5.0",
          "state": {
            "_model_module": "@jupyter-widgets/controls",
            "_model_module_version": "1.5.0",
            "_model_name": "ProgressStyleModel",
            "_view_count": null,
            "_view_module": "@jupyter-widgets/base",
            "_view_module_version": "1.2.0",
            "_view_name": "StyleView",
            "bar_color": null,
            "description_width": ""
          }
        },
        "c81dc5209e6d4ad6bf5f3aa8b0a5104d": {
          "model_module": "@jupyter-widgets/base",
          "model_name": "LayoutModel",
          "model_module_version": "1.2.0",
          "state": {
            "_model_module": "@jupyter-widgets/base",
            "_model_module_version": "1.2.0",
            "_model_name": "LayoutModel",
            "_view_count": null,
            "_view_module": "@jupyter-widgets/base",
            "_view_module_version": "1.2.0",
            "_view_name": "LayoutView",
            "align_content": null,
            "align_items": null,
            "align_self": null,
            "border": null,
            "bottom": null,
            "display": null,
            "flex": null,
            "flex_flow": null,
            "grid_area": null,
            "grid_auto_columns": null,
            "grid_auto_flow": null,
            "grid_auto_rows": null,
            "grid_column": null,
            "grid_gap": null,
            "grid_row": null,
            "grid_template_areas": null,
            "grid_template_columns": null,
            "grid_template_rows": null,
            "height": null,
            "justify_content": null,
            "justify_items": null,
            "left": null,
            "margin": null,
            "max_height": null,
            "max_width": null,
            "min_height": null,
            "min_width": null,
            "object_fit": null,
            "object_position": null,
            "order": null,
            "overflow": null,
            "overflow_x": null,
            "overflow_y": null,
            "padding": null,
            "right": null,
            "top": null,
            "visibility": null,
            "width": null
          }
        },
        "b36cdc45a6f44eb68ac7baf48698dcdd": {
          "model_module": "@jupyter-widgets/controls",
          "model_name": "DescriptionStyleModel",
          "model_module_version": "1.5.0",
          "state": {
            "_model_module": "@jupyter-widgets/controls",
            "_model_module_version": "1.5.0",
            "_model_name": "DescriptionStyleModel",
            "_view_count": null,
            "_view_module": "@jupyter-widgets/base",
            "_view_module_version": "1.2.0",
            "_view_name": "StyleView",
            "description_width": ""
          }
        },
        "6fb58d37b4f44499858ef331edeeb51b": {
          "model_module": "@jupyter-widgets/controls",
          "model_name": "HBoxModel",
          "model_module_version": "1.5.0",
          "state": {
            "_dom_classes": [],
            "_model_module": "@jupyter-widgets/controls",
            "_model_module_version": "1.5.0",
            "_model_name": "HBoxModel",
            "_view_count": null,
            "_view_module": "@jupyter-widgets/controls",
            "_view_module_version": "1.5.0",
            "_view_name": "HBoxView",
            "box_style": "",
            "children": [
              "IPY_MODEL_4daf99dc8c724513b2e97d2d05dc0ca9",
              "IPY_MODEL_41e9913097e64e0f82bfe6f1a0ac78b4",
              "IPY_MODEL_b6bef7a9fdb84708b5b3bc52c51fe04e"
            ],
            "layout": "IPY_MODEL_5b3d7d434b0247988ab4c51105f5ce0e"
          }
        },
        "4daf99dc8c724513b2e97d2d05dc0ca9": {
          "model_module": "@jupyter-widgets/controls",
          "model_name": "HTMLModel",
          "model_module_version": "1.5.0",
          "state": {
            "_dom_classes": [],
            "_model_module": "@jupyter-widgets/controls",
            "_model_module_version": "1.5.0",
            "_model_name": "HTMLModel",
            "_view_count": null,
            "_view_module": "@jupyter-widgets/controls",
            "_view_module_version": "1.5.0",
            "_view_name": "HTMLView",
            "description": "",
            "description_tooltip": null,
            "layout": "IPY_MODEL_3633c4770f814fc981b27f1b9e6c38e5",
            "placeholder": "​",
            "style": "IPY_MODEL_e8f74648cc794d2aadd3064f10c17ad3",
            "value": "1_Pooling/config.json: 100%"
          }
        },
        "41e9913097e64e0f82bfe6f1a0ac78b4": {
          "model_module": "@jupyter-widgets/controls",
          "model_name": "FloatProgressModel",
          "model_module_version": "1.5.0",
          "state": {
            "_dom_classes": [],
            "_model_module": "@jupyter-widgets/controls",
            "_model_module_version": "1.5.0",
            "_model_name": "FloatProgressModel",
            "_view_count": null,
            "_view_module": "@jupyter-widgets/controls",
            "_view_module_version": "1.5.0",
            "_view_name": "ProgressView",
            "bar_style": "success",
            "description": "",
            "description_tooltip": null,
            "layout": "IPY_MODEL_630b8237275e419fa17817b7a3538b08",
            "max": 286,
            "min": 0,
            "orientation": "horizontal",
            "style": "IPY_MODEL_e48e1fc08a1d46ab862b4b0e9aaa17aa",
            "value": 286
          }
        },
        "b6bef7a9fdb84708b5b3bc52c51fe04e": {
          "model_module": "@jupyter-widgets/controls",
          "model_name": "HTMLModel",
          "model_module_version": "1.5.0",
          "state": {
            "_dom_classes": [],
            "_model_module": "@jupyter-widgets/controls",
            "_model_module_version": "1.5.0",
            "_model_name": "HTMLModel",
            "_view_count": null,
            "_view_module": "@jupyter-widgets/controls",
            "_view_module_version": "1.5.0",
            "_view_name": "HTMLView",
            "description": "",
            "description_tooltip": null,
            "layout": "IPY_MODEL_d376ae3a01824764b85e6922a25d55c3",
            "placeholder": "​",
            "style": "IPY_MODEL_bcd85c153975420d8f1f20982d7bfdec",
            "value": " 286/286 [00:00&lt;00:00, 16.5kB/s]"
          }
        },
        "5b3d7d434b0247988ab4c51105f5ce0e": {
          "model_module": "@jupyter-widgets/base",
          "model_name": "LayoutModel",
          "model_module_version": "1.2.0",
          "state": {
            "_model_module": "@jupyter-widgets/base",
            "_model_module_version": "1.2.0",
            "_model_name": "LayoutModel",
            "_view_count": null,
            "_view_module": "@jupyter-widgets/base",
            "_view_module_version": "1.2.0",
            "_view_name": "LayoutView",
            "align_content": null,
            "align_items": null,
            "align_self": null,
            "border": null,
            "bottom": null,
            "display": null,
            "flex": null,
            "flex_flow": null,
            "grid_area": null,
            "grid_auto_columns": null,
            "grid_auto_flow": null,
            "grid_auto_rows": null,
            "grid_column": null,
            "grid_gap": null,
            "grid_row": null,
            "grid_template_areas": null,
            "grid_template_columns": null,
            "grid_template_rows": null,
            "height": null,
            "justify_content": null,
            "justify_items": null,
            "left": null,
            "margin": null,
            "max_height": null,
            "max_width": null,
            "min_height": null,
            "min_width": null,
            "object_fit": null,
            "object_position": null,
            "order": null,
            "overflow": null,
            "overflow_x": null,
            "overflow_y": null,
            "padding": null,
            "right": null,
            "top": null,
            "visibility": null,
            "width": null
          }
        },
        "3633c4770f814fc981b27f1b9e6c38e5": {
          "model_module": "@jupyter-widgets/base",
          "model_name": "LayoutModel",
          "model_module_version": "1.2.0",
          "state": {
            "_model_module": "@jupyter-widgets/base",
            "_model_module_version": "1.2.0",
            "_model_name": "LayoutModel",
            "_view_count": null,
            "_view_module": "@jupyter-widgets/base",
            "_view_module_version": "1.2.0",
            "_view_name": "LayoutView",
            "align_content": null,
            "align_items": null,
            "align_self": null,
            "border": null,
            "bottom": null,
            "display": null,
            "flex": null,
            "flex_flow": null,
            "grid_area": null,
            "grid_auto_columns": null,
            "grid_auto_flow": null,
            "grid_auto_rows": null,
            "grid_column": null,
            "grid_gap": null,
            "grid_row": null,
            "grid_template_areas": null,
            "grid_template_columns": null,
            "grid_template_rows": null,
            "height": null,
            "justify_content": null,
            "justify_items": null,
            "left": null,
            "margin": null,
            "max_height": null,
            "max_width": null,
            "min_height": null,
            "min_width": null,
            "object_fit": null,
            "object_position": null,
            "order": null,
            "overflow": null,
            "overflow_x": null,
            "overflow_y": null,
            "padding": null,
            "right": null,
            "top": null,
            "visibility": null,
            "width": null
          }
        },
        "e8f74648cc794d2aadd3064f10c17ad3": {
          "model_module": "@jupyter-widgets/controls",
          "model_name": "DescriptionStyleModel",
          "model_module_version": "1.5.0",
          "state": {
            "_model_module": "@jupyter-widgets/controls",
            "_model_module_version": "1.5.0",
            "_model_name": "DescriptionStyleModel",
            "_view_count": null,
            "_view_module": "@jupyter-widgets/base",
            "_view_module_version": "1.2.0",
            "_view_name": "StyleView",
            "description_width": ""
          }
        },
        "630b8237275e419fa17817b7a3538b08": {
          "model_module": "@jupyter-widgets/base",
          "model_name": "LayoutModel",
          "model_module_version": "1.2.0",
          "state": {
            "_model_module": "@jupyter-widgets/base",
            "_model_module_version": "1.2.0",
            "_model_name": "LayoutModel",
            "_view_count": null,
            "_view_module": "@jupyter-widgets/base",
            "_view_module_version": "1.2.0",
            "_view_name": "LayoutView",
            "align_content": null,
            "align_items": null,
            "align_self": null,
            "border": null,
            "bottom": null,
            "display": null,
            "flex": null,
            "flex_flow": null,
            "grid_area": null,
            "grid_auto_columns": null,
            "grid_auto_flow": null,
            "grid_auto_rows": null,
            "grid_column": null,
            "grid_gap": null,
            "grid_row": null,
            "grid_template_areas": null,
            "grid_template_columns": null,
            "grid_template_rows": null,
            "height": null,
            "justify_content": null,
            "justify_items": null,
            "left": null,
            "margin": null,
            "max_height": null,
            "max_width": null,
            "min_height": null,
            "min_width": null,
            "object_fit": null,
            "object_position": null,
            "order": null,
            "overflow": null,
            "overflow_x": null,
            "overflow_y": null,
            "padding": null,
            "right": null,
            "top": null,
            "visibility": null,
            "width": null
          }
        },
        "e48e1fc08a1d46ab862b4b0e9aaa17aa": {
          "model_module": "@jupyter-widgets/controls",
          "model_name": "ProgressStyleModel",
          "model_module_version": "1.5.0",
          "state": {
            "_model_module": "@jupyter-widgets/controls",
            "_model_module_version": "1.5.0",
            "_model_name": "ProgressStyleModel",
            "_view_count": null,
            "_view_module": "@jupyter-widgets/base",
            "_view_module_version": "1.2.0",
            "_view_name": "StyleView",
            "bar_color": null,
            "description_width": ""
          }
        },
        "d376ae3a01824764b85e6922a25d55c3": {
          "model_module": "@jupyter-widgets/base",
          "model_name": "LayoutModel",
          "model_module_version": "1.2.0",
          "state": {
            "_model_module": "@jupyter-widgets/base",
            "_model_module_version": "1.2.0",
            "_model_name": "LayoutModel",
            "_view_count": null,
            "_view_module": "@jupyter-widgets/base",
            "_view_module_version": "1.2.0",
            "_view_name": "LayoutView",
            "align_content": null,
            "align_items": null,
            "align_self": null,
            "border": null,
            "bottom": null,
            "display": null,
            "flex": null,
            "flex_flow": null,
            "grid_area": null,
            "grid_auto_columns": null,
            "grid_auto_flow": null,
            "grid_auto_rows": null,
            "grid_column": null,
            "grid_gap": null,
            "grid_row": null,
            "grid_template_areas": null,
            "grid_template_columns": null,
            "grid_template_rows": null,
            "height": null,
            "justify_content": null,
            "justify_items": null,
            "left": null,
            "margin": null,
            "max_height": null,
            "max_width": null,
            "min_height": null,
            "min_width": null,
            "object_fit": null,
            "object_position": null,
            "order": null,
            "overflow": null,
            "overflow_x": null,
            "overflow_y": null,
            "padding": null,
            "right": null,
            "top": null,
            "visibility": null,
            "width": null
          }
        },
        "bcd85c153975420d8f1f20982d7bfdec": {
          "model_module": "@jupyter-widgets/controls",
          "model_name": "DescriptionStyleModel",
          "model_module_version": "1.5.0",
          "state": {
            "_model_module": "@jupyter-widgets/controls",
            "_model_module_version": "1.5.0",
            "_model_name": "DescriptionStyleModel",
            "_view_count": null,
            "_view_module": "@jupyter-widgets/base",
            "_view_module_version": "1.2.0",
            "_view_name": "StyleView",
            "description_width": ""
          }
        }
      }
    }
  },
  "nbformat": 4,
  "nbformat_minor": 5
}