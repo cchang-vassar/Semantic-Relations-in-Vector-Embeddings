{
  "cells": [
    {
      "cell_type": "markdown",
      "metadata": {
        "id": "view-in-github",
        "colab_type": "text"
      },
      "source": [
        "<a href=\"https://colab.research.google.com/github/cchang-vassar/Semantic-Relations-in-Vector-Embeddings/blob/main/study5_nomic_autoencoder_gen.ipynb\" target=\"_parent\"><img src=\"https://colab.research.google.com/assets/colab-badge.svg\" alt=\"Open In Colab\"/></a>"
      ]
    },
    {
      "cell_type": "markdown",
      "metadata": {
        "id": "d5ec7ac3-f001-4642-8882-b2eadab3b1bc"
      },
      "source": [
        "# [Nomic] Autoencoder: Generate Corresponding Embedding"
      ],
      "id": "d5ec7ac3-f001-4642-8882-b2eadab3b1bc"
    },
    {
      "cell_type": "markdown",
      "metadata": {
        "id": "3a8LNWK0UM7C"
      },
      "source": [
        "## Set Up"
      ],
      "id": "3a8LNWK0UM7C"
    },
    {
      "cell_type": "markdown",
      "metadata": {
        "id": "d98dd00d-ca0f-42ae-8fc5-8b3a84572364"
      },
      "source": [
        "### Imports"
      ],
      "id": "d98dd00d-ca0f-42ae-8fc5-8b3a84572364"
    },
    {
      "cell_type": "code",
      "execution_count": null,
      "metadata": {
        "colab": {
          "background_save": true
        },
        "id": "64a4bb68-c601-4847-8f3a-290519da14cf"
      },
      "outputs": [],
      "source": [
        "import os\n",
        "import subprocess\n",
        "import zipfile\n",
        "import shutil\n",
        "import pickle\n",
        "import tensorflow as tf\n",
        "import pandas as pd\n",
        "import numpy as np\n",
        "from google.colab import userdata\n",
        "from scipy import spatial\n",
        "from tensorflow.keras.callbacks import ModelCheckpoint, CSVLogger\n",
        "from plotnine import ggplot, geom_line, aes, ggsave, labs, theme, element_text, guides, guide_legend"
      ],
      "id": "64a4bb68-c601-4847-8f3a-290519da14cf"
    },
    {
      "cell_type": "markdown",
      "metadata": {
        "id": "1ZL8xzRMyOGE"
      },
      "source": [
        "### OSF Setup"
      ],
      "id": "1ZL8xzRMyOGE"
    },
    {
      "cell_type": "code",
      "execution_count": null,
      "metadata": {
        "colab": {
          "background_save": true
        },
        "id": "fS_fc5dDySK5",
        "outputId": "8f6912b6-e17b-4d5f-a50e-f6b558c56020"
      },
      "outputs": [
        {
          "name": "stdout",
          "output_type": "stream",
          "text": [
            "Collecting osfclient\n",
            "  Downloading osfclient-0.0.5-py2.py3-none-any.whl (39 kB)\n",
            "Requirement already satisfied: requests in /usr/local/lib/python3.10/dist-packages (from osfclient) (2.31.0)\n",
            "Requirement already satisfied: tqdm in /usr/local/lib/python3.10/dist-packages (from osfclient) (4.66.2)\n",
            "Requirement already satisfied: six in /usr/local/lib/python3.10/dist-packages (from osfclient) (1.16.0)\n",
            "Requirement already satisfied: charset-normalizer<4,>=2 in /usr/local/lib/python3.10/dist-packages (from requests->osfclient) (3.3.2)\n",
            "Requirement already satisfied: idna<4,>=2.5 in /usr/local/lib/python3.10/dist-packages (from requests->osfclient) (3.6)\n",
            "Requirement already satisfied: urllib3<3,>=1.21.1 in /usr/local/lib/python3.10/dist-packages (from requests->osfclient) (2.0.7)\n",
            "Requirement already satisfied: certifi>=2017.4.17 in /usr/local/lib/python3.10/dist-packages (from requests->osfclient) (2024.2.2)\n",
            "Installing collected packages: osfclient\n",
            "Successfully installed osfclient-0.0.5\n"
          ]
        }
      ],
      "source": [
        "!pip install osfclient"
      ],
      "id": "fS_fc5dDySK5"
    },
    {
      "cell_type": "code",
      "execution_count": null,
      "metadata": {
        "id": "q7LsfY62TqsU"
      },
      "outputs": [],
      "source": [
        "os.environ[\"OSF_USERNAME\"] = userdata.get(\"OSF_USERNAME\")\n",
        "OSF_USERNAME = os.environ[\"OSF_USERNAME\"]"
      ],
      "id": "q7LsfY62TqsU"
    },
    {
      "cell_type": "code",
      "execution_count": null,
      "metadata": {
        "id": "Dc540GW4OGT5"
      },
      "outputs": [],
      "source": [
        "os.environ[\"OSF_PASSWORD\"] = userdata.get(\"OSF_PASSWORD\")\n",
        "OSF_PASSWORD = os.environ[\"OSF_PASSWORD\"]"
      ],
      "id": "Dc540GW4OGT5"
    },
    {
      "cell_type": "code",
      "execution_count": null,
      "metadata": {
        "id": "z-OVlX8Z0pZy"
      },
      "outputs": [],
      "source": [
        "os.environ[\"OSF_TOKEN\"] = userdata.get(\"OSF_TOKEN\")\n",
        "OSF_TOKEN = os.environ[\"OSF_TOKEN\"]"
      ],
      "id": "z-OVlX8Z0pZy"
    },
    {
      "cell_type": "code",
      "execution_count": null,
      "metadata": {
        "id": "rTXKZf9r4RY3"
      },
      "outputs": [],
      "source": [
        "os.environ[\"OSF_PROJECT_ID\"] = userdata.get(\"OSF_PROJECT_ID\")\n",
        "OSF_PROJECT_ID = os.environ[\"OSF_PROJECT_ID\"]"
      ],
      "id": "rTXKZf9r4RY3"
    },
    {
      "cell_type": "markdown",
      "metadata": {
        "id": "77a4911e-32b3-40fe-8868-17d1acd6ae13"
      },
      "source": [
        "## Data"
      ],
      "id": "77a4911e-32b3-40fe-8868-17d1acd6ae13"
    },
    {
      "cell_type": "markdown",
      "metadata": {
        "id": "zh23fX-0U0bC"
      },
      "source": [
        "### Load embeddings data from OSF"
      ],
      "id": "zh23fX-0U0bC"
    },
    {
      "cell_type": "code",
      "execution_count": null,
      "metadata": {
        "id": "STwbtpPlU2iH"
      },
      "outputs": [],
      "source": [
        "subprocess.run(\"osf -p sakjg fetch --force osfstorage/data-dump/nomic-autoencoder/nomic_embeddings_dump.zip\", shell=True)\n",
        "print(\"nomic_embeddings_dump.zip successfully imported\")\n",
        "\n",
        "nomic_embeddings_dump_file_path_zip = 'nomic_embeddings_dump.zip'\n",
        "nomic_embeddings_dump_file_path = 'current-data-dump/embeddings-dump'\n",
        "with zipfile.ZipFile(nomic_embeddings_dump_file_path_zip, 'r') as zip_ref:\n",
        "  zip_ref.extractall(nomic_embeddings_dump_file_path)\n",
        "\n",
        "extracted_files = os.listdir(nomic_embeddings_dump_file_path)\n",
        "print(\"Files extracted:\", extracted_files)"
      ],
      "id": "STwbtpPlU2iH"
    },
    {
      "cell_type": "markdown",
      "metadata": {
        "id": "N1ODpv0yUoaP"
      },
      "source": [
        "### Functions to prepare data"
      ],
      "id": "N1ODpv0yUoaP"
    },
    {
      "cell_type": "code",
      "execution_count": null,
      "metadata": {
        "id": "2805a861-c57d-4b7a-87d0-297cb7bb1ca0"
      },
      "outputs": [],
      "source": [
        "def prepare_training_df(data: pd.DataFrame):\n",
        "  \"\"\"Drop rows that do not follow 'point' -> 'counter' pattern\"\"\"\n",
        "  point_indices = data[data['type'] == 'point'].index\n",
        "  counter_indices = data[data['type'] == 'counter'].index\n",
        "  drop_indices = []\n",
        "  for idx in point_indices:\n",
        "    if (idx == len(data)-1) or (idx + 1 < len(data) and data.loc[idx + 1, 'type'] != 'counter'):\n",
        "      drop_indices.append(idx)\n",
        "  for idx in counter_indices:\n",
        "    if idx > 0 and data.loc[idx - 1, 'type'] != 'point':\n",
        "      drop_indices.append(idx)\n",
        "  data = data.drop(drop_indices)\n",
        "  data = data.select_dtypes(include=[np.number])\n",
        "  data = data.reset_index(drop=True)\n",
        "  return data"
      ],
      "id": "2805a861-c57d-4b7a-87d0-297cb7bb1ca0"
    },
    {
      "cell_type": "code",
      "execution_count": null,
      "metadata": {
        "id": "2abf74bd-40e8-41a1-9158-cc772318cd1c"
      },
      "outputs": [],
      "source": [
        "def prepare_training_df_shuffled(data: pd.DataFrame):\n",
        "  \"\"\"Drop rows that do not follow 'point' -> 'counter' pattern\"\"\"\n",
        "  point_indices = data[data['type'] == 'point'].index\n",
        "  counter_indices = data[data['type'] == 'counter'].index\n",
        "  drop_indices = []\n",
        "  for idx in point_indices:\n",
        "    if (idx == len(data)-1) or (idx + 1 < len(data) and data.loc[idx + 1, 'type'] != 'counter'):\n",
        "      drop_indices.append(idx)\n",
        "  for idx in counter_indices:\n",
        "    if idx > 0 and data.loc[idx - 1, 'type'] != 'point':\n",
        "      drop_indices.append(idx)\n",
        "  data = data.drop(drop_indices)\n",
        "  data = data.reset_index(drop=True)\n",
        "  return data"
      ],
      "id": "2abf74bd-40e8-41a1-9158-cc772318cd1c"
    },
    {
      "cell_type": "code",
      "execution_count": null,
      "metadata": {
        "id": "ccc1ffbb-0dd5-4fb7-a2af-4fa3401da2ce"
      },
      "outputs": [],
      "source": [
        "def make_x_train(data: pd.DataFrame) -> pd.DataFrame:\n",
        "  \"\"\"Make training and testing datasets\"\"\"\n",
        "  cutoff = int(0.8 * data.shape[0])\n",
        "  if cutoff % 2 != 0:\n",
        "    cutoff = cutoff - 1\n",
        "  train_rows_df = data.iloc[:cutoff, :]\n",
        "  x_train = train_rows_df[train_rows_df.index % 2 == 0].reset_index(drop=True)\n",
        "  return x_train\n",
        "\n",
        "def make_y_train(data: pd.DataFrame) -> pd.DataFrame:\n",
        "  cutoff = int(0.8 * data.shape[0])\n",
        "  if cutoff % 2 != 0:\n",
        "    cutoff = cutoff - 1\n",
        "  train_rows_df = data.iloc[:cutoff, :]\n",
        "  y_train = train_rows_df[train_rows_df.index % 2 != 0].reset_index(drop=True)\n",
        "  return y_train\n",
        "\n",
        "def make_x_test(data: pd.DataFrame) -> pd.DataFrame:\n",
        "  cutoff = int(0.8 * data.shape[0])\n",
        "  if cutoff % 2 != 0:\n",
        "    cutoff = cutoff - 1\n",
        "  test_rows_df = data.iloc[cutoff:, :]\n",
        "  x_test = test_rows_df[test_rows_df.index % 2 == 0].reset_index(drop=True)\n",
        "  return x_test\n",
        "\n",
        "def make_y_test(data: pd.DataFrame) -> pd.DataFrame:\n",
        "  cutoff = int(0.8 * data.shape[0])\n",
        "  if cutoff % 2 != 0:\n",
        "    cutoff = cutoff - 1\n",
        "  test_rows_df = data.iloc[cutoff:, :]\n",
        "  y_test = test_rows_df[test_rows_df.index % 2 != 0].reset_index(drop=True)\n",
        "  return y_test"
      ],
      "id": "ccc1ffbb-0dd5-4fb7-a2af-4fa3401da2ce"
    },
    {
      "cell_type": "markdown",
      "metadata": {
        "id": "eb0fe1d2-7f55-448a-b8c6-a7c46e7c637a"
      },
      "source": [
        "### Global data"
      ],
      "id": "eb0fe1d2-7f55-448a-b8c6-a7c46e7c637a"
    },
    {
      "cell_type": "code",
      "execution_count": null,
      "metadata": {
        "id": "ca48654f-ca99-463c-95c3-bc5c67d49cba"
      },
      "outputs": [],
      "source": [
        "global_sd_embeddings_data = pd.read_pickle(\"current-data-dump/embeddings_dump/nomic_embeddings_dump/global_sd_embeddings.pkl\")\n",
        "global_sq_embeddings_data = pd.read_pickle(\"current-data-dump/embeddings_dump/nomic_embeddings_dump/global_sq_embeddings.pkl\")\n",
        "global_clu_embeddings_data = pd.read_pickle(\"current-data-dump/embeddings_dump/nomic_embeddings_dump/global_clu_embeddings.pkl\")\n",
        "global_cla_embeddings_data = pd.read_pickle(\"current-data-dump/embeddings_dump/nomic_embeddings_dump/global_cla_embeddings.pkl\")"
      ],
      "id": "ca48654f-ca99-463c-95c3-bc5c67d49cba"
    },
    {
      "cell_type": "code",
      "execution_count": null,
      "metadata": {
        "id": "9e9f15e3-8e6c-429a-a590-2b43d0233118"
      },
      "outputs": [],
      "source": [
        "global_sd_training_df = prepare_training_df(global_sd_embeddings_data)\n",
        "global_sq_training_df = prepare_training_df(global_sq_embeddings_data)\n",
        "global_clu_training_df = prepare_training_df(global_clu_embeddings_data)\n",
        "global_cla_training_df = prepare_training_df(global_cla_embeddings_data)"
      ],
      "id": "9e9f15e3-8e6c-429a-a590-2b43d0233118"
    },
    {
      "cell_type": "code",
      "execution_count": null,
      "metadata": {
        "id": "94b0aff5-d523-4547-bf92-f5b22a033be8"
      },
      "outputs": [],
      "source": [
        "global_sd_x_train = make_x_train(global_sd_training_df)\n",
        "global_sq_x_train = make_x_train(global_sq_training_df)\n",
        "global_clu_x_train = make_x_train(global_clu_training_df)\n",
        "global_cla_x_train = make_x_train(global_cla_training_df)"
      ],
      "id": "94b0aff5-d523-4547-bf92-f5b22a033be8"
    },
    {
      "cell_type": "code",
      "execution_count": null,
      "metadata": {
        "id": "56341332-7e50-459d-96ec-cb2ab2b8c5ac"
      },
      "outputs": [],
      "source": [
        "global_sd_y_train = make_y_train(global_sd_training_df)\n",
        "global_sq_y_train = make_y_train(global_sq_training_df)\n",
        "global_clu_y_train = make_y_train(global_clu_training_df)\n",
        "global_cla_y_train = make_y_train(global_cla_training_df)"
      ],
      "id": "56341332-7e50-459d-96ec-cb2ab2b8c5ac"
    },
    {
      "cell_type": "code",
      "execution_count": null,
      "metadata": {
        "id": "84e3058f-79d5-4aef-900e-90f518fb058a"
      },
      "outputs": [],
      "source": [
        "global_sd_x_test = make_x_test(global_sd_training_df)\n",
        "global_sq_x_test = make_x_test(global_sq_training_df)\n",
        "global_clu_x_test = make_x_test(global_clu_training_df)\n",
        "global_cla_x_test = make_x_test(global_cla_training_df)"
      ],
      "id": "84e3058f-79d5-4aef-900e-90f518fb058a"
    },
    {
      "cell_type": "code",
      "execution_count": null,
      "metadata": {
        "id": "38293b96-f4e5-482f-ae88-c2d7c5e6e68f"
      },
      "outputs": [],
      "source": [
        "global_sd_y_test = make_y_test(global_sd_training_df)\n",
        "global_sq_y_test = make_y_test(global_sq_training_df)\n",
        "global_clu_y_test = make_y_test(global_clu_training_df)\n",
        "global_cla_y_test = make_y_test(global_cla_training_df)"
      ],
      "id": "38293b96-f4e5-482f-ae88-c2d7c5e6e68f"
    },
    {
      "cell_type": "code",
      "execution_count": null,
      "metadata": {
        "id": "ea17ecaa-1b1b-4234-be2f-8958eb4b6a4a"
      },
      "outputs": [],
      "source": [
        "global_sd_y_train_test = pd.concat([global_sd_y_train, global_sd_y_test], axis=0)\n",
        "global_sq_y_train_test = pd.concat([global_sq_y_train, global_sq_y_test], axis=0)\n",
        "global_clu_y_train_test = pd.concat([global_clu_y_train, global_clu_y_test], axis=0)\n",
        "global_cla_y_train_test = pd.concat([global_cla_y_train, global_cla_y_test], axis=0)"
      ],
      "id": "ea17ecaa-1b1b-4234-be2f-8958eb4b6a4a"
    },
    {
      "cell_type": "markdown",
      "metadata": {
        "id": "68cea5d9-0c17-4be6-a3c0-78bf8bb517ea"
      },
      "source": [
        "### Global data shuffled"
      ],
      "id": "68cea5d9-0c17-4be6-a3c0-78bf8bb517ea"
    },
    {
      "cell_type": "code",
      "execution_count": null,
      "metadata": {
        "id": "b9aa81cf-11ac-4ea9-bdf8-866dbc2fd764"
      },
      "outputs": [],
      "source": [
        "global_sd_training_df_shuffled = prepare_training_df_shuffled(global_sd_embeddings_data)\n",
        "global_sq_training_df_shuffled = prepare_training_df_shuffled(global_sq_embeddings_data)\n",
        "global_clu_training_df_shuffled = prepare_training_df_shuffled(global_clu_embeddings_data)\n",
        "global_cla_training_df_shuffled = prepare_training_df_shuffled(global_cla_embeddings_data)"
      ],
      "id": "b9aa81cf-11ac-4ea9-bdf8-866dbc2fd764"
    },
    {
      "cell_type": "code",
      "execution_count": null,
      "metadata": {
        "id": "7b86a2b2-d542-4daf-b7d1-19ebb8382834",
        "scrolled": true
      },
      "outputs": [],
      "source": [
        "global_sd_y_train_shuffled = make_y_train(global_sd_training_df_shuffled)\n",
        "global_sq_y_train_shuffled = make_y_train(global_sq_training_df_shuffled)\n",
        "global_clu_y_train_shuffled = make_y_train(global_clu_training_df_shuffled)\n",
        "global_cla_y_train_shuffled = make_y_train(global_cla_training_df_shuffled)"
      ],
      "id": "7b86a2b2-d542-4daf-b7d1-19ebb8382834"
    },
    {
      "cell_type": "code",
      "execution_count": null,
      "metadata": {
        "id": "b6a27ad8-3ab8-45c1-b412-dbbf82d32931",
        "scrolled": true
      },
      "outputs": [],
      "source": [
        "global_sd_y_train_shuffled = global_sd_y_train_shuffled.groupby(['topic'], sort=False)\n",
        "global_sd_y_train_shuffled = global_sd_y_train_shuffled.sample(frac=1).reset_index(drop=True)\n",
        "global_sd_y_train_shuffled = global_sd_y_train_shuffled.select_dtypes(include=[np.number])\n",
        "\n",
        "global_sq_y_train_shuffled = global_sq_y_train_shuffled.groupby(['topic'], sort=False)\n",
        "global_sq_y_train_shuffled = global_sq_y_train_shuffled.sample(frac=1).reset_index(drop=True)\n",
        "global_sq_y_train_shuffled = global_sq_y_train_shuffled.select_dtypes(include=[np.number])\n",
        "\n",
        "global_clu_y_train_shuffled = global_clu_y_train_shuffled.groupby(['topic'], sort=False)\n",
        "global_clu_y_train_shuffled = global_clu_y_train_shuffled.sample(frac=1).reset_index(drop=True)\n",
        "global_clu_y_train_shuffled = global_clu_y_train_shuffled.select_dtypes(include=[np.number])\n",
        "\n",
        "global_cla_y_train_shuffled = global_cla_y_train_shuffled.groupby(['topic'], sort=False)\n",
        "global_cla_y_train_shuffled = global_cla_y_train_shuffled.sample(frac=1).reset_index(drop=True)\n",
        "global_cla_y_train_shuffled = global_cla_y_train_shuffled.select_dtypes(include=[np.number])"
      ],
      "id": "b6a27ad8-3ab8-45c1-b412-dbbf82d32931"
    },
    {
      "cell_type": "markdown",
      "metadata": {
        "id": "d88110c7-68a6-4439-b4f2-768e080074c8"
      },
      "source": [
        "## Model"
      ],
      "id": "d88110c7-68a6-4439-b4f2-768e080074c8"
    },
    {
      "cell_type": "markdown",
      "metadata": {
        "id": "dPBVeIZ1VRXV"
      },
      "source": [
        "### Architecture"
      ],
      "id": "dPBVeIZ1VRXV"
    },
    {
      "cell_type": "code",
      "execution_count": null,
      "metadata": {
        "id": "93feaaf0-1fad-4f75-b546-d66198c4fae4"
      },
      "outputs": [],
      "source": [
        "# Layers\n",
        "input_layer = tf.keras.layers.Input(shape=(768, ), name=\"Input\")\n",
        "hidden_layer = tf.keras.layers.Dense(units=768, activation=\"relu\", name=\"Hidden\")(input_layer)\n",
        "output_layer = tf.keras.layers.Dense(units=768, activation=\"linear\", name=\"Output\")(hidden_layer)"
      ],
      "id": "93feaaf0-1fad-4f75-b546-d66198c4fae4"
    },
    {
      "cell_type": "code",
      "execution_count": null,
      "metadata": {
        "id": "62655a3a-717c-4800-b06a-d8147740236c",
        "scrolled": true
      },
      "outputs": [],
      "source": [
        "# Model\n",
        "autoencoder_model = tf.keras.Model(inputs=input_layer, outputs=output_layer)\n",
        "autoencoder_model.summary()"
      ],
      "id": "62655a3a-717c-4800-b06a-d8147740236c"
    },
    {
      "cell_type": "code",
      "execution_count": null,
      "metadata": {
        "id": "b555b3f8-300b-4341-97e7-c14f67358e56"
      },
      "outputs": [],
      "source": [
        "def metric_choose_argument_global_sd_y_train(y_true, y_pred):\n",
        "  \"\"\"global_sd_metric\"\"\"\n",
        "  global_sd_training_df_32 = tf.cast(global_sd_training_df, dtype=tf.float32)\n",
        "\n",
        "  cos_sim_pred = tf.matmul(global_sd_training_df_32, y_pred, transpose_b=True) / tf.reshape(tf.norm(y_pred) * tf.norm(global_sd_training_df_32, axis=1), [-1, 1])\n",
        "  cos_sim_true = tf.matmul(global_sd_training_df_32, y_true, transpose_b=True) / tf.reshape(tf.norm(y_true) * tf.norm(global_sd_training_df_32, axis=1), [-1, 1])\n",
        "\n",
        "  max_cos_sim_pred = tf.math.argmax(cos_sim_pred)\n",
        "  max_cos_sim_true = tf.math.argmax(cos_sim_true)\n",
        "\n",
        "  return tf.math.count_nonzero(tf.equal(max_cos_sim_pred, max_cos_sim_true))"
      ],
      "id": "b555b3f8-300b-4341-97e7-c14f67358e56"
    },
    {
      "cell_type": "code",
      "execution_count": null,
      "metadata": {
        "id": "24a15f84-9423-421a-ad76-56f0d1729ca0"
      },
      "outputs": [],
      "source": [
        "def metric_choose_argument_global_sq_y_train(y_true, y_pred):\n",
        "  \"\"\"global_sq_metric\"\"\"\n",
        "  global_sq_training_df_32 = tf.cast(global_sq_training_df, dtype=tf.float32)\n",
        "\n",
        "  cos_sim_pred = tf.matmul(global_sq_training_df_32, y_pred, transpose_b=True) / tf.reshape(tf.norm(y_pred) * tf.norm(global_sq_training_df_32, axis=1), [-1, 1])\n",
        "  cos_sim_true = tf.matmul(global_sq_training_df_32, y_true, transpose_b=True) / tf.reshape(tf.norm(y_true) * tf.norm(global_sq_training_df_32, axis=1), [-1, 1])\n",
        "\n",
        "  max_cos_sim_pred = tf.math.argmax(cos_sim_pred)\n",
        "  max_cos_sim_true = tf.math.argmax(cos_sim_true)\n",
        "\n",
        "  return tf.math.count_nonzero(tf.equal(max_cos_sim_pred, max_cos_sim_true))"
      ],
      "id": "24a15f84-9423-421a-ad76-56f0d1729ca0"
    },
    {
      "cell_type": "code",
      "execution_count": null,
      "metadata": {
        "id": "76e44eb2-f020-44b7-a567-3ddde7b44a82"
      },
      "outputs": [],
      "source": [
        "def metric_choose_argument_global_clu_y_train(y_true, y_pred):\n",
        "  \"\"\"global_clu_metric\"\"\"\n",
        "  global_clu_training_df_32 = tf.cast(global_clu_training_df, dtype=tf.float32)\n",
        "\n",
        "  cos_sim_pred = tf.matmul(global_clu_training_df_32, y_pred, transpose_b=True) / tf.reshape(tf.norm(y_pred) * tf.norm(global_clu_training_df_32, axis=1), [-1, 1])\n",
        "  cos_sim_true = tf.matmul(global_clu_training_df_32, y_true, transpose_b=True) / tf.reshape(tf.norm(y_true) * tf.norm(global_clu_training_df_32, axis=1), [-1, 1])\n",
        "\n",
        "  max_cos_sim_pred = tf.math.argmax(cos_sim_pred)\n",
        "  max_cos_sim_true = tf.math.argmax(cos_sim_true)\n",
        "\n",
        "  return tf.math.count_nonzero(tf.equal(max_cos_sim_pred, max_cos_sim_true))"
      ],
      "id": "76e44eb2-f020-44b7-a567-3ddde7b44a82"
    },
    {
      "cell_type": "code",
      "execution_count": null,
      "metadata": {
        "id": "503f94f2-6b33-4869-b3e3-5be564938aff"
      },
      "outputs": [],
      "source": [
        "def metric_choose_argument_global_cla_y_train(y_true, y_pred):\n",
        "  \"\"\"global_cla_metric\"\"\"\n",
        "  global_cla_training_df_32 = tf.cast(global_cla_training_df, dtype=tf.float32)\n",
        "\n",
        "  cos_sim_pred = tf.matmul(global_cla_training_df_32, y_pred, transpose_b=True) / tf.reshape(tf.norm(y_pred) * tf.norm(global_cla_training_df_32, axis=1), [-1, 1])\n",
        "  cos_sim_true = tf.matmul(global_cla_training_df_32, y_true, transpose_b=True) / tf.reshape(tf.norm(y_true) * tf.norm(global_cla_training_df_32, axis=1), [-1, 1])\n",
        "\n",
        "  max_cos_sim_pred = tf.math.argmax(cos_sim_pred)\n",
        "  max_cos_sim_true = tf.math.argmax(cos_sim_true)\n",
        "\n",
        "  return tf.math.count_nonzero(tf.equal(max_cos_sim_pred, max_cos_sim_true))"
      ],
      "id": "503f94f2-6b33-4869-b3e3-5be564938aff"
    },
    {
      "cell_type": "markdown",
      "metadata": {
        "id": "83a58c13-c646-4917-b46e-68feb7d2fa14"
      },
      "source": [
        "### Compile"
      ],
      "id": "83a58c13-c646-4917-b46e-68feb7d2fa14"
    },
    {
      "cell_type": "code",
      "execution_count": null,
      "metadata": {
        "id": "468fd859-1bb5-423c-856f-c68ea7a3573c"
      },
      "outputs": [],
      "source": [
        "# Global SD Model\n",
        "global_sd_autoencoder_model = tf.keras.models.clone_model(autoencoder_model)\n",
        "global_sd_autoencoder_model.compile(\n",
        "  optimizer=tf.keras.optimizers.Adam(learning_rate=1e-3),\n",
        "  loss=\"cosine_similarity\",\n",
        "  metrics=[metric_choose_argument_global_sd_y_train]\n",
        ")"
      ],
      "id": "468fd859-1bb5-423c-856f-c68ea7a3573c"
    },
    {
      "cell_type": "code",
      "execution_count": null,
      "metadata": {
        "id": "0164d591-551a-40b6-8d76-1b31b8412303"
      },
      "outputs": [],
      "source": [
        "# Global SQ Model\n",
        "global_sq_autoencoder_model = tf.keras.models.clone_model(autoencoder_model)\n",
        "global_sq_autoencoder_model.compile(\n",
        "  optimizer=tf.keras.optimizers.Adam(learning_rate=1e-3),\n",
        "  loss=\"cosine_similarity\",\n",
        "  metrics=[metric_choose_argument_global_sq_y_train]\n",
        ")"
      ],
      "id": "0164d591-551a-40b6-8d76-1b31b8412303"
    },
    {
      "cell_type": "code",
      "execution_count": null,
      "metadata": {
        "id": "907c2bcc-9dc5-43f0-a108-e8ddce0ef64d"
      },
      "outputs": [],
      "source": [
        "# Global CLU Model\n",
        "global_clu_autoencoder_model = tf.keras.models.clone_model(autoencoder_model)\n",
        "global_clu_autoencoder_model.compile(\n",
        "  optimizer=tf.keras.optimizers.Adam(learning_rate=1e-3),\n",
        "  loss=\"cosine_similarity\",\n",
        "  metrics=[metric_choose_argument_global_clu_y_train]\n",
        ")"
      ],
      "id": "907c2bcc-9dc5-43f0-a108-e8ddce0ef64d"
    },
    {
      "cell_type": "code",
      "execution_count": null,
      "metadata": {
        "id": "c3e2a936-c4aa-4765-83df-7918e230b59f"
      },
      "outputs": [],
      "source": [
        "# Global CLA Model\n",
        "global_cla_autoencoder_model = tf.keras.models.clone_model(autoencoder_model)\n",
        "global_cla_autoencoder_model.compile(\n",
        "  optimizer=tf.keras.optimizers.Adam(learning_rate=1e-3),\n",
        "  loss=\"cosine_similarity\",\n",
        "  metrics=[metric_choose_argument_global_cla_y_train]\n",
        ")"
      ],
      "id": "c3e2a936-c4aa-4765-83df-7918e230b59f"
    },
    {
      "cell_type": "markdown",
      "metadata": {
        "id": "580e44ab-0401-4077-a038-7e94b14a6540"
      },
      "source": [
        "## Training"
      ],
      "id": "580e44ab-0401-4077-a038-7e94b14a6540"
    },
    {
      "cell_type": "code",
      "execution_count": null,
      "metadata": {
        "id": "9d732d24-44ea-4e1d-b722-256ebd7b6a4a",
        "scrolled": true
      },
      "outputs": [],
      "source": [
        "checkpoint_callback = ModelCheckpoint(filepath='current-data-dump/nomic-autoencoder/global_sd_autoencoder_weights.keras', save_best_only=False, save_weights_only=False, verbose=1)\n",
        "csv_logger_callback = CSVLogger(filename='current-data-dump/nomic-autoencoder/global_sd_training_log.csv', separator=',', append=True)\n",
        "\n",
        "global_sd_history = global_sd_autoencoder_model.fit(\n",
        "  x=global_sd_x_train,\n",
        "  y=global_sd_y_train,\n",
        "  batch_size=1,\n",
        "  epochs=20,\n",
        "  validation_data = (global_sd_x_test, global_sd_y_test),\n",
        "  callbacks=[checkpoint_callback, csv_logger_callback]\n",
        ")"
      ],
      "id": "9d732d24-44ea-4e1d-b722-256ebd7b6a4a"
    },
    {
      "cell_type": "code",
      "execution_count": null,
      "metadata": {
        "id": "2e71b2f6-5988-4571-870e-0297f4cdcafd"
      },
      "outputs": [],
      "source": [
        "global_sd_autoencoder_model.save('nomic-autoencoder/global_sd_autoencoder_model.keras')"
      ],
      "id": "2e71b2f6-5988-4571-870e-0297f4cdcafd"
    },
    {
      "cell_type": "code",
      "execution_count": null,
      "metadata": {
        "id": "1b1b5ebe-6c92-4984-87ab-8b9bb094fa50",
        "scrolled": true
      },
      "outputs": [],
      "source": [
        "checkpoint_callback = ModelCheckpoint(filepath='nomic_autoencoder/global_sq_autoencoder_weights.keras', save_best_only=False, save_weights_only=False, verbose=1)\n",
        "csv_logger_callback = CSVLogger(filename='nomic-autoencoder/global_sq_training_log.csv', separator=',', append=True)\n",
        "\n",
        "global_sq_history = global_sq_autoencoder_model.fit(\n",
        "  x=global_sq_x_train,\n",
        "  y=global_sq_y_train,\n",
        "  batch_size=1,\n",
        "  epochs=20,\n",
        "  validation_data = (global_sq_x_test, global_sq_y_test),\n",
        "  callbacks=[checkpoint_callback, csv_logger_callback]\n",
        ")"
      ],
      "id": "1b1b5ebe-6c92-4984-87ab-8b9bb094fa50"
    },
    {
      "cell_type": "code",
      "execution_count": null,
      "metadata": {
        "id": "dc8518ad-4051-4b9e-b62c-3c0d044171fe"
      },
      "outputs": [],
      "source": [
        "global_sq_autoencoder_model.save('nomic-autoencoder/global_sq_autoencoder_model.keras')"
      ],
      "id": "dc8518ad-4051-4b9e-b62c-3c0d044171fe"
    },
    {
      "cell_type": "code",
      "execution_count": null,
      "metadata": {
        "id": "a6e60153-0329-4810-81c4-6372d628de63",
        "scrolled": true
      },
      "outputs": [],
      "source": [
        "checkpoint_callback = ModelCheckpoint(filepath='nomic-autoencoder/global_clu_autoencoder_weights.keras', save_best_only=False, save_weights_only=False, verbose=1)\n",
        "csv_logger_callback = CSVLogger(filename='nomic-autoencoder/global_clu_training_log.csv', separator=',', append=True)\n",
        "\n",
        "global_clu_history = global_clu_autoencoder_model.fit(\n",
        "  x=global_clu_x_train,\n",
        "  y=global_clu_y_train,\n",
        "  batch_size=1,\n",
        "  epochs=20,\n",
        "  validation_data = (global_clu_x_test, global_clu_y_test),\n",
        "  callbacks=[checkpoint_callback, csv_logger_callback]\n",
        ")"
      ],
      "id": "a6e60153-0329-4810-81c4-6372d628de63"
    },
    {
      "cell_type": "code",
      "execution_count": null,
      "metadata": {
        "id": "1a9cfbb7-83b4-4490-92f5-d06a7e2500ee"
      },
      "outputs": [],
      "source": [
        "global_clu_autoencoder_model.save('nomic-autoencoder/global_clu_autoencoder_model.keras')"
      ],
      "id": "1a9cfbb7-83b4-4490-92f5-d06a7e2500ee"
    },
    {
      "cell_type": "code",
      "execution_count": null,
      "metadata": {
        "id": "9f6b6408-3ccb-4c1b-b6ad-bfc08dc47d76",
        "scrolled": true
      },
      "outputs": [],
      "source": [
        "checkpoint_callback = ModelCheckpoint(filepath='nomic-autoencoder/global_cla_autoencoder_weights.keras', save_best_only=False, save_weights_only=False, verbose=1)\n",
        "csv_logger_callback = CSVLogger(filename='nomic-autoencoder/global_cla_training_log.csv', separator=',', append=True)\n",
        "\n",
        "global_cla_history = global_cla_autoencoder_model.fit(\n",
        "  x=global_cla_x_train,\n",
        "  y=global_cla_y_train,\n",
        "  batch_size=1,\n",
        "  epochs=20,\n",
        "  validation_data = (global_cla_x_test, global_cla_y_test),\n",
        "  callbacks=[checkpoint_callback, csv_logger_callback]\n",
        ")"
      ],
      "id": "9f6b6408-3ccb-4c1b-b6ad-bfc08dc47d76"
    },
    {
      "cell_type": "code",
      "execution_count": null,
      "metadata": {
        "id": "64040bbc-a1aa-4cea-94bc-e659bba8a8e0"
      },
      "outputs": [],
      "source": [
        "global_cla_autoencoder_model.save('nomic-autoencoder/global_cla_autoencoder_model.keras')"
      ],
      "id": "64040bbc-a1aa-4cea-94bc-e659bba8a8e0"
    },
    {
      "cell_type": "markdown",
      "metadata": {
        "id": "8202d007-c0cf-448b-9839-7743563c6214"
      },
      "source": [
        "## Load  Training History"
      ],
      "id": "8202d007-c0cf-448b-9839-7743563c6214"
    },
    {
      "cell_type": "code",
      "execution_count": null,
      "metadata": {
        "id": "874a7439-7c16-4da5-b3a2-875fd9b721fc",
        "scrolled": true
      },
      "outputs": [],
      "source": [
        "# Access training history\n",
        "loaded_sd_global_history = pd.DataFrame(pd.read_csv(\"current-data-dump/nomic-autoencoder/global_sd_training_log.csv\"))\n",
        "loaded_sd_global_history = pd.melt(loaded_sd_global_history, id_vars='epoch', value_vars=['metric_choose_argument_global_sd_y_train', 'val_metric_choose_argument_global_sd_y_train'], var_name='dataset', value_name='accuracy')\n",
        "loaded_sd_global_history = loaded_sd_global_history.replace(['metric_choose_argument_global_sd_y_train', 'val_metric_choose_argument_global_sd_y_train'], ['training set', 'validation set'])\n",
        "loaded_sd_global_history.rename(columns = {'Unnamed: 0':'epoch'}, inplace = True)\n",
        "loaded_sd_global_history['shuffled'] = False"
      ],
      "id": "874a7439-7c16-4da5-b3a2-875fd9b721fc"
    },
    {
      "cell_type": "code",
      "execution_count": null,
      "metadata": {
        "id": "4479fcd0-51eb-450f-8654-f3c88666e4f4"
      },
      "outputs": [],
      "source": [
        "# Access training history\n",
        "loaded_sq_global_history = pd.DataFrame(pd.read_csv(\"current-data-dump/nomic-autoencoder/global_sq_training_log.csv\"))\n",
        "loaded_sq_global_history = pd.melt(loaded_sq_global_history, id_vars='epoch', value_vars=['metric_choose_argument_global_sq_y_train', 'val_metric_choose_argument_global_sq_y_train'], var_name='dataset', value_name='accuracy')\n",
        "loaded_sq_global_history = loaded_sq_global_history.replace(['metric_choose_argument_global_sq_y_train', 'val_metric_choose_argument_global_sq_y_train'], ['training set', 'validation set'])\n",
        "# loaded_sq_global_history.rename(columns = {'Unnamed: 0':'epoch'}, inplace = True)\n",
        "loaded_sq_global_history['shuffled'] = False"
      ],
      "id": "4479fcd0-51eb-450f-8654-f3c88666e4f4"
    },
    {
      "cell_type": "code",
      "execution_count": null,
      "metadata": {
        "id": "1c071ed6-ba52-4f34-9ee5-901b6d9cf345"
      },
      "outputs": [],
      "source": [
        "# Access training history\n",
        "loaded_clu_global_history = pd.DataFrame(pd.read_csv(\"current-data-dump/nomic-autoencoder/global_clu_training_log.csv\"))\n",
        "loaded_clu_global_history = pd.melt(loaded_clu_global_history, id_vars='epoch', value_vars=['metric_choose_argument_global_clu_y_train', 'val_metric_choose_argument_global_clu_y_train'], var_name='dataset', value_name='accuracy')\n",
        "loaded_clu_global_history = loaded_clu_global_history.replace(['metric_choose_argument_global_clu_y_train', 'val_metric_choose_argument_global_clu_y_train'], ['training set', 'validation set'])\n",
        "loaded_clu_global_history['shuffled'] = False"
      ],
      "id": "1c071ed6-ba52-4f34-9ee5-901b6d9cf345"
    },
    {
      "cell_type": "code",
      "execution_count": null,
      "metadata": {
        "id": "039cf477-7a01-4d42-9792-dd521321719d"
      },
      "outputs": [],
      "source": [
        "# Access training history\n",
        "loaded_cla_global_history = pd.DataFrame(pd.read_csv(\"current-data-dump/nomic-autoencoder/global_cla_training_log.csv\"))\n",
        "loaded_cla_global_history = pd.melt(loaded_cla_global_history, id_vars='epoch', value_vars=['metric_choose_argument_global_cla_y_train', 'val_metric_choose_argument_global_cla_y_train'], var_name='dataset', value_name='accuracy')\n",
        "loaded_cla_global_history = loaded_cla_global_history.replace(['metric_choose_argument_global_cla_y_train', 'val_metric_choose_argument_global_cla_y_train'], ['training set', 'validation set'])\n",
        "loaded_cla_global_history['shuffled'] = False"
      ],
      "id": "039cf477-7a01-4d42-9792-dd521321719d"
    },
    {
      "cell_type": "code",
      "execution_count": null,
      "metadata": {
        "id": "e1524d08-a966-43bc-9ed7-66f18d2bc2c6"
      },
      "outputs": [],
      "source": [
        "global_sd_training_plot = ggplot(loaded_sd_global_history, aes(x='epoch', y='accuracy', linetype='dataset')) + geom_line() + labs(title='Learning Curve of Model Trained on Unshuffled Data', x='Epoch', y='Accuracy')\n",
        "ggsave(global_sd_training_plot, \"current-data-dump/nomic-autoencoder/nomic-training-plots-dump/global_sd_training_plot.png\")"
      ],
      "id": "e1524d08-a966-43bc-9ed7-66f18d2bc2c6"
    },
    {
      "cell_type": "markdown",
      "metadata": {
        "id": "c2c30397-a19b-47d6-ad5e-1cf94fdf83fb"
      },
      "source": [
        "## Global Shuffled Training"
      ],
      "id": "c2c30397-a19b-47d6-ad5e-1cf94fdf83fb"
    },
    {
      "cell_type": "markdown",
      "metadata": {
        "id": "u_KWKONZWIl9"
      },
      "source": [
        "### Compile"
      ],
      "id": "u_KWKONZWIl9"
    },
    {
      "cell_type": "code",
      "execution_count": null,
      "metadata": {
        "id": "56823b00-23ee-4317-a902-5d512df28ef3"
      },
      "outputs": [],
      "source": [
        "# Global Shuffled SD Model\n",
        "global_sd_autoencoder_model_shuffled = tf.keras.models.clone_model(autoencoder_model)\n",
        "global_sd_autoencoder_model_shuffled.compile(\n",
        "  optimizer=tf.keras.optimizers.Adam(learning_rate=1e-3),\n",
        "  loss=\"cosine_similarity\",\n",
        "  metrics=[metric_choose_argument_global_sd_y_train]\n",
        ")"
      ],
      "id": "56823b00-23ee-4317-a902-5d512df28ef3"
    },
    {
      "cell_type": "code",
      "execution_count": null,
      "metadata": {
        "id": "0ccb71ae-6dd8-4014-9c2b-b176b2a1529c"
      },
      "outputs": [],
      "source": [
        "# Global Shuffled SQ Model\n",
        "global_sq_autoencoder_model_shuffled = tf.keras.models.clone_model(autoencoder_model)\n",
        "global_sq_autoencoder_model_shuffled.compile(\n",
        "  optimizer=tf.keras.optimizers.Adam(learning_rate=1e-3),\n",
        "  loss=\"cosine_similarity\",\n",
        "  metrics=[metric_choose_argument_global_sq_y_train]\n",
        ")"
      ],
      "id": "0ccb71ae-6dd8-4014-9c2b-b176b2a1529c"
    },
    {
      "cell_type": "code",
      "execution_count": null,
      "metadata": {
        "id": "aab757f6-00cb-4a18-983b-5f36f39b0e5f"
      },
      "outputs": [],
      "source": [
        "# Global Shuffled CLU Model\n",
        "global_clu_autoencoder_model_shuffled = tf.keras.models.clone_model(autoencoder_model)\n",
        "global_clu_autoencoder_model_shuffled.compile(\n",
        "  optimizer=tf.keras.optimizers.Adam(learning_rate=1e-3),\n",
        "  loss=\"cosine_similarity\",\n",
        "  metrics=[metric_choose_argument_global_clu_y_train]\n",
        ")"
      ],
      "id": "aab757f6-00cb-4a18-983b-5f36f39b0e5f"
    },
    {
      "cell_type": "code",
      "execution_count": null,
      "metadata": {
        "id": "0b58b044-0a28-4a08-8587-fd55996c7a8b"
      },
      "outputs": [],
      "source": [
        "# Global Shuffled CLA Model\n",
        "global_cla_autoencoder_model_shuffled = tf.keras.models.clone_model(autoencoder_model)\n",
        "global_cla_autoencoder_model_shuffled.compile(\n",
        "  optimizer=tf.keras.optimizers.Adam(learning_rate=1e-3),\n",
        "  loss=\"cosine_similarity\",\n",
        "  metrics=[metric_choose_argument_global_cla_y_train]\n",
        ")"
      ],
      "id": "0b58b044-0a28-4a08-8587-fd55996c7a8b"
    },
    {
      "cell_type": "markdown",
      "metadata": {
        "id": "833ac12e-d6a4-47aa-b0d0-53f7796116fd"
      },
      "source": [
        "### Shuffled Training"
      ],
      "id": "833ac12e-d6a4-47aa-b0d0-53f7796116fd"
    },
    {
      "cell_type": "code",
      "execution_count": null,
      "metadata": {
        "id": "3cd431e0-1d94-495d-b63e-72899a3112ec",
        "scrolled": true
      },
      "outputs": [],
      "source": [
        "checkpoint_callback = ModelCheckpoint(filepath='current-data-dump/nomic-autoencoder/global_sd_autoencoder_shuffled_weights.keras', save_best_only=False, save_weights_only=False, verbose=1)\n",
        "csv_logger_callback = CSVLogger(filename='current-data-dump/nomic-autoencoder/global_sd_training_shuffled_log.csv', separator=',', append=True)\n",
        "\n",
        "global_sd_history = global_sd_autoencoder_model.fit(\n",
        "  x=global_sd_x_train,\n",
        "  y=global_sd_y_train_shuffled,\n",
        "  batch_size=1,\n",
        "  epochs=20,\n",
        "  validation_data = (global_sd_x_test, global_sd_y_test),\n",
        "  callbacks=[checkpoint_callback, csv_logger_callback]\n",
        ")"
      ],
      "id": "3cd431e0-1d94-495d-b63e-72899a3112ec"
    },
    {
      "cell_type": "code",
      "execution_count": null,
      "metadata": {
        "id": "3d7c7363-93d4-46b2-b966-bb5d1b14d817"
      },
      "outputs": [],
      "source": [
        "global_sd_autoencoder_model.save('current-data-dump/nomic_autoencoder/global_sd_autoencoder_shuffled_model.keras')"
      ],
      "id": "3d7c7363-93d4-46b2-b966-bb5d1b14d817"
    },
    {
      "cell_type": "code",
      "execution_count": null,
      "metadata": {
        "id": "6a9573a7-0553-49bf-ba8c-36f8c7171b48",
        "scrolled": true
      },
      "outputs": [],
      "source": [
        "checkpoint_callback = ModelCheckpoint(filepath='current-data-dump/nomic-autoencoder/global_sq_autoencoder_shuffled_weights.keras', save_best_only=False, save_weights_only=False, verbose=1)\n",
        "csv_logger_callback = CSVLogger(filename='current-data-dump/nomic-autoencoder/global_sq_training_shuffled_log.csv', separator=',', append=True)\n",
        "\n",
        "global_sq_history = global_sq_autoencoder_model.fit(\n",
        "    x=global_sq_x_train,\n",
        "    y=global_sq_y_train_shuffled,\n",
        "    batch_size=1,\n",
        "    epochs=20,\n",
        "    validation_data = (global_sq_x_test, global_sq_y_test),\n",
        "    callbacks=[checkpoint_callback, csv_logger_callback]\n",
        ")"
      ],
      "id": "6a9573a7-0553-49bf-ba8c-36f8c7171b48"
    },
    {
      "cell_type": "code",
      "execution_count": null,
      "metadata": {
        "id": "6928ced1-9826-435e-946d-427e8da83e7a"
      },
      "outputs": [],
      "source": [
        "global_sq_autoencoder_model.save('current-data-dump/nomic-autoencoder/global_sq_autoencoder_shuffled_model.keras')"
      ],
      "id": "6928ced1-9826-435e-946d-427e8da83e7a"
    },
    {
      "cell_type": "code",
      "execution_count": null,
      "metadata": {
        "id": "d77dce7e-101b-4307-81d3-8e9e1f9e1bc2",
        "scrolled": true
      },
      "outputs": [],
      "source": [
        "checkpoint_callback = ModelCheckpoint(filepath='current-data-dump/nomic-autoencoder/global_clu_autoencoder_shuffled_weights.keras', save_best_only=False, save_weights_only=False, verbose=1)\n",
        "csv_logger_callback = CSVLogger(filename='current-data-dump/nomic-autoencoder/global_clu_training_shuffled_log.csv', separator=',', append=True)\n",
        "\n",
        "global_clu_history = global_clu_autoencoder_model.fit(\n",
        "  x=global_clu_x_train,\n",
        "  y=global_clu_y_train_shuffled,\n",
        "  batch_size=1,\n",
        "  epochs=20,\n",
        "  validation_data = (global_clu_x_test, global_clu_y_test),\n",
        "  callbacks=[checkpoint_callback, csv_logger_callback]\n",
        ")"
      ],
      "id": "d77dce7e-101b-4307-81d3-8e9e1f9e1bc2"
    },
    {
      "cell_type": "code",
      "execution_count": null,
      "metadata": {
        "id": "68fcfd03-4535-4a6e-bef8-8e555c5f5fdc"
      },
      "outputs": [],
      "source": [
        "global_clu_autoencoder_model.save('current-data-dump/nomic-autoencoder/global_clu_autoencoder_shuffled_model.keras')"
      ],
      "id": "68fcfd03-4535-4a6e-bef8-8e555c5f5fdc"
    },
    {
      "cell_type": "code",
      "execution_count": null,
      "metadata": {
        "id": "6d19ab69-e058-4825-b69f-add288862d4a",
        "scrolled": true
      },
      "outputs": [],
      "source": [
        "checkpoint_callback = ModelCheckpoint(filepath='current-data-dump/nomic-autoencoder/global_cla_autoencoder_shuffled_weights.keras', save_best_only=False, save_weights_only=False, verbose=1)\n",
        "csv_logger_callback = CSVLogger(filename='current-data-dump/nomic-autoencoder/global_cla_training_shuffled_log.csv', separator=',', append=True)\n",
        "\n",
        "global_cla_history = global_cla_autoencoder_model.fit(\n",
        "  x=global_cla_x_train,\n",
        "  y=global_cla_y_train_shuffled,\n",
        "  batch_size=1,\n",
        "  epochs=20,\n",
        "  validation_data = (global_cla_x_test, global_cla_y_test),\n",
        "  callbacks=[checkpoint_callback, csv_logger_callback]\n",
        ")"
      ],
      "id": "6d19ab69-e058-4825-b69f-add288862d4a"
    },
    {
      "cell_type": "code",
      "execution_count": null,
      "metadata": {
        "id": "331f1ff0-503b-4cf5-831c-6a98b8446327"
      },
      "outputs": [],
      "source": [
        "global_cla_autoencoder_model.save('current-data-dump/nomic-autoencoder/global_cla_autoencoder_shuffled_model.keras')"
      ],
      "id": "331f1ff0-503b-4cf5-831c-6a98b8446327"
    },
    {
      "cell_type": "markdown",
      "metadata": {
        "id": "4b6a0634-f5ad-4350-b636-b7c81e41d53c"
      },
      "source": [
        "## Load Training History"
      ],
      "id": "4b6a0634-f5ad-4350-b636-b7c81e41d53c"
    },
    {
      "cell_type": "code",
      "execution_count": null,
      "metadata": {
        "id": "271e3a92-e121-42da-936f-50b024f795e6"
      },
      "outputs": [],
      "source": [
        "loaded_global_shuffled_history = pd.read_csv(\"current-data-dump/nomic-autoencoder/global_training_shuffled_log.csv\")"
      ],
      "id": "271e3a92-e121-42da-936f-50b024f795e6"
    },
    {
      "cell_type": "code",
      "execution_count": null,
      "metadata": {
        "id": "fc6ee9fc-85d5-46c9-b348-fad8988b540b"
      },
      "outputs": [],
      "source": [
        "loaded_global_shuffled_history = loaded_global_shuffled_history.loc[0:19]\n",
        "loaded_global_shuffled_history = pd.melt(loaded_global_shuffled_history, id_vars='epoch', value_vars=['metric_choose_argument_global_y_train', 'val_metric_choose_argument_global_y_train'], var_name='dataset', value_name='accuracy')\n",
        "loaded_global_shuffled_history = loaded_global_shuffled_history.replace(['metric_choose_argument_global_y_train', 'val_metric_choose_argument_global_y_train'], ['training set', 'validation set'])\n",
        "loaded_global_shuffled_history['shuffled'] = True"
      ],
      "id": "fc6ee9fc-85d5-46c9-b348-fad8988b540b"
    },
    {
      "cell_type": "code",
      "execution_count": null,
      "metadata": {
        "id": "e41c22f3-717f-451e-b65d-89a4283b55c0",
        "scrolled": true
      },
      "outputs": [],
      "source": [
        "global_training_shuffled_plot = ggplot(loaded_global_shuffled_history, aes(x='epoch', y='accuracy', linetype='dataset')) + geom_line() + labs(title='Learning Curve of Model Trained on Within-Topic Shuffled Data', x='Epoch', y='Accuracy')\n",
        "ggsave(global_training_shuffled_plot, \"current-data-dump/nomic-autoencoder/training_plots_dump/global_shuffled_training_plot.png\")"
      ],
      "id": "e41c22f3-717f-451e-b65d-89a4283b55c0"
    },
    {
      "cell_type": "code",
      "execution_count": null,
      "metadata": {
        "id": "c645786f-b40b-4973-b164-90b0e0df519f"
      },
      "outputs": [],
      "source": [
        "combined_global_training_df = pd.concat([loaded_global_history, loaded_global_shuffled_history])\n",
        "combined_global_training_df"
      ],
      "id": "c645786f-b40b-4973-b164-90b0e0df519f"
    },
    {
      "cell_type": "code",
      "execution_count": null,
      "metadata": {
        "id": "b8bea898-c3f5-475f-a304-91911ec6dfd8"
      },
      "outputs": [],
      "source": [
        "combined_global_plot = (\n",
        "    ggplot(combined_global_training_df, aes(x='epoch', y='accuracy', linetype='dataset', color='shuffled')) +\n",
        "    geom_line(size=2) +\n",
        "    labs(title='Learning Curve of Model Trained on Unshuffled vs. Within-Topic Shuffled Data', x='Epoch', y='Accuracy') +\n",
        "    theme(\n",
        "        figure_size=(16,24),\n",
        "        axis_title=element_text(size=32),\n",
        "        axis_text=element_text(size=24),\n",
        "        legend_title=element_text(size=32, lineheight=1.5),\n",
        "        legend_text=element_text(size=24, lineheight=1.5),\n",
        "        plot_title=element_text(size=40, wrap=True, lineheight=1.5),\n",
        "        legend_position=\"bottom\",\n",
        "        legend_key_width=64\n",
        "    ) +\n",
        "    guides(fill = guide_legend(byrow = True))\n",
        ")\n",
        "ggsave(combined_global_plot, \"current-data-dump/nomic-autoencder/training_plots_dump/combined_global_training_plot.png\")"
      ],
      "id": "b8bea898-c3f5-475f-a304-91911ec6dfd8"
    }
  ],
  "metadata": {
    "accelerator": "GPU",
    "colab": {
      "collapsed_sections": [
        "d98dd00d-ca0f-42ae-8fc5-8b3a84572364",
        "1ZL8xzRMyOGE",
        "zh23fX-0U0bC",
        "eb0fe1d2-7f55-448a-b8c6-a7c46e7c637a",
        "68cea5d9-0c17-4be6-a3c0-78bf8bb517ea",
        "d88110c7-68a6-4439-b4f2-768e080074c8",
        "dPBVeIZ1VRXV",
        "83a58c13-c646-4917-b46e-68feb7d2fa14",
        "580e44ab-0401-4077-a038-7e94b14a6540",
        "8202d007-c0cf-448b-9839-7743563c6214"
      ],
      "gpuType": "T4",
      "provenance": [],
      "include_colab_link": true
    },
    "kernelspec": {
      "display_name": "Python 3",
      "name": "python3"
    },
    "language_info": {
      "codemirror_mode": {
        "name": "ipython",
        "version": 3
      },
      "file_extension": ".py",
      "mimetype": "text/x-python",
      "name": "python",
      "nbconvert_exporter": "python",
      "pygments_lexer": "ipython3",
      "version": "3.11.4"
    }
  },
  "nbformat": 4,
  "nbformat_minor": 5
}