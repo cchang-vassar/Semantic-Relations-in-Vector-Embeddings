{
  "nbformat": 4,
  "nbformat_minor": 0,
  "metadata": {
    "colab": {
      "provenance": [],
      "collapsed_sections": [
        "1ZL8xzRMyOGE"
      ],
      "authorship_tag": "ABX9TyNh+rq/mVGHHHJxrV9LWeMW",
      "include_colab_link": true
    },
    "kernelspec": {
      "name": "python3",
      "display_name": "Python 3"
    },
    "language_info": {
      "name": "python"
    }
  },
  "cells": [
    {
      "cell_type": "markdown",
      "metadata": {
        "id": "view-in-github",
        "colab_type": "text"
      },
      "source": [
        "<a href=\"https://colab.research.google.com/github/cchang-vassar/Semantic-Relations-in-Vector-Embeddings/blob/main/scifact_extract_arguments.ipynb\" target=\"_parent\"><img src=\"https://colab.research.google.com/assets/colab-badge.svg\" alt=\"Open In Colab\"/></a>"
      ]
    },
    {
      "cell_type": "markdown",
      "source": [
        "# Extract Argument-Counterargument df from SciFact"
      ],
      "metadata": {
        "id": "2HXLE6hz5DS4"
      }
    },
    {
      "cell_type": "markdown",
      "source": [
        "## Imports"
      ],
      "metadata": {
        "id": "NTGGkdIu5q8N"
      }
    },
    {
      "cell_type": "code",
      "source": [
        "import os\n",
        "import random\n",
        "import subprocess\n",
        "import zipfile\n",
        "import shutil\n",
        "import pickle\n",
        "import pandas as pd\n",
        "import numpy as np\n",
        "from google.colab import userdata"
      ],
      "metadata": {
        "id": "oBVAkk2v5qC3"
      },
      "execution_count": 1,
      "outputs": []
    },
    {
      "cell_type": "markdown",
      "metadata": {
        "id": "1ZL8xzRMyOGE"
      },
      "source": [
        "### OSF Setup"
      ]
    },
    {
      "cell_type": "code",
      "execution_count": 2,
      "metadata": {
        "colab": {
          "base_uri": "https://localhost:8080/"
        },
        "id": "fS_fc5dDySK5",
        "outputId": "2ffd3fb6-21eb-498d-def3-56f9bfcdbd02"
      },
      "outputs": [
        {
          "output_type": "stream",
          "name": "stdout",
          "text": [
            "Collecting osfclient\n",
            "  Downloading osfclient-0.0.5-py2.py3-none-any.whl (39 kB)\n",
            "Requirement already satisfied: requests in /usr/local/lib/python3.10/dist-packages (from osfclient) (2.31.0)\n",
            "Requirement already satisfied: tqdm in /usr/local/lib/python3.10/dist-packages (from osfclient) (4.66.2)\n",
            "Requirement already satisfied: six in /usr/local/lib/python3.10/dist-packages (from osfclient) (1.16.0)\n",
            "Requirement already satisfied: charset-normalizer<4,>=2 in /usr/local/lib/python3.10/dist-packages (from requests->osfclient) (3.3.2)\n",
            "Requirement already satisfied: idna<4,>=2.5 in /usr/local/lib/python3.10/dist-packages (from requests->osfclient) (3.7)\n",
            "Requirement already satisfied: urllib3<3,>=1.21.1 in /usr/local/lib/python3.10/dist-packages (from requests->osfclient) (2.0.7)\n",
            "Requirement already satisfied: certifi>=2017.4.17 in /usr/local/lib/python3.10/dist-packages (from requests->osfclient) (2024.2.2)\n",
            "Installing collected packages: osfclient\n",
            "Successfully installed osfclient-0.0.5\n"
          ]
        }
      ],
      "source": [
        "!pip install osfclient"
      ]
    },
    {
      "cell_type": "code",
      "execution_count": 3,
      "metadata": {
        "id": "WQTEV8ZsQtXD"
      },
      "outputs": [],
      "source": [
        "import osfclient.cli"
      ]
    },
    {
      "cell_type": "code",
      "execution_count": 4,
      "metadata": {
        "id": "cxigtskT2dda"
      },
      "outputs": [],
      "source": [
        "from osfclient.api import OSF\n",
        "from osfclient.models import Project, Storage\n",
        "from io import BytesIO"
      ]
    },
    {
      "cell_type": "code",
      "execution_count": 5,
      "metadata": {
        "id": "q7LsfY62TqsU"
      },
      "outputs": [],
      "source": [
        "os.environ[\"OSF_USERNAME\"] = userdata.get(\"OSF_USERNAME\")\n",
        "OSF_USERNAME = os.environ[\"OSF_USERNAME\"]"
      ]
    },
    {
      "cell_type": "code",
      "execution_count": 6,
      "metadata": {
        "id": "Dc540GW4OGT5"
      },
      "outputs": [],
      "source": [
        "os.environ[\"OSF_PASSWORD\"] = userdata.get(\"OSF_PASSWORD\")\n",
        "OSF_PASSWORD = os.environ[\"OSF_PASSWORD\"]"
      ]
    },
    {
      "cell_type": "code",
      "execution_count": 7,
      "metadata": {
        "id": "z-OVlX8Z0pZy"
      },
      "outputs": [],
      "source": [
        "os.environ[\"OSF_TOKEN\"] = userdata.get(\"OSF_TOKEN\")\n",
        "OSF_TOKEN = os.environ[\"OSF_TOKEN\"]"
      ]
    },
    {
      "cell_type": "code",
      "execution_count": 8,
      "metadata": {
        "id": "rTXKZf9r4RY3"
      },
      "outputs": [],
      "source": [
        "os.environ[\"OSF_PROJECT_ID\"] = userdata.get(\"OSF_PROJECT_ID\")\n",
        "OSF_PROJECT_ID = os.environ[\"OSF_PROJECT_ID\"]"
      ]
    },
    {
      "cell_type": "markdown",
      "source": [
        "## Data"
      ],
      "metadata": {
        "id": "YIBWuMox5juV"
      }
    },
    {
      "cell_type": "code",
      "source": [
        "!osf -p sakjg fetch osfstorage/corpora/scifact_corpus.zip"
      ],
      "metadata": {
        "colab": {
          "base_uri": "https://localhost:8080/"
        },
        "id": "USRB_tOW5uKz",
        "outputId": "bd41c76b-29bf-41de-d5a5-c7bd65eef30a"
      },
      "execution_count": 9,
      "outputs": [
        {
          "output_type": "stream",
          "name": "stdout",
          "text": [
            "\r  0% 0.00/3.14M [00:00<?, ?bytes/s]\r100% 3.14M/3.14M [00:00<00:00, 108Mbytes/s]\n"
          ]
        }
      ]
    },
    {
      "cell_type": "code",
      "source": [
        "corpus_file_path = 'scifact_corpus.zip'\n",
        "output_folder_path = 'scifact-corpus'\n",
        "os.makedirs(output_folder_path, exist_ok=True)\n",
        "\n",
        "with zipfile.ZipFile(corpus_file_path, 'r') as zip_ref:\n",
        "  zip_ref.extractall(output_folder_path)\n",
        "\n",
        "extracted_files = os.listdir(output_folder_path)\n",
        "print(\"Files extracted:\", extracted_files)"
      ],
      "metadata": {
        "colab": {
          "base_uri": "https://localhost:8080/"
        },
        "id": "MPYwEBbO57ND",
        "outputId": "1b73e6d8-3414-4c5c-eb82-f6532e4fbb51"
      },
      "execution_count": 10,
      "outputs": [
        {
          "output_type": "stream",
          "name": "stdout",
          "text": [
            "Files extracted: ['scifact_corpus', '__MACOSX']\n"
          ]
        }
      ]
    },
    {
      "cell_type": "code",
      "source": [
        "CORPUS_FOLDER_PATH = \"scifact-corpus/scifact_corpus/\""
      ],
      "metadata": {
        "id": "9tOliw1m6Hh3"
      },
      "execution_count": 11,
      "outputs": []
    },
    {
      "cell_type": "code",
      "source": [
        "claims_train = pd.read_json(f'{CORPUS_FOLDER_PATH}claims_train.jsonl', lines=True)"
      ],
      "metadata": {
        "id": "8H1GZskTKKDx"
      },
      "execution_count": 84,
      "outputs": []
    },
    {
      "cell_type": "code",
      "source": [
        "claims_train = pd.read_json(f'{CORPUS_FOLDER_PATH}claims_train.jsonl', lines=True)\n",
        "claims_train = claims_train[claims_train['evidence'] != {}]\n",
        "claims_train = claims_train.groupby('claim').sample(frac=1).reset_index(drop=True)"
      ],
      "metadata": {
        "id": "RmdyumrvyMrG"
      },
      "execution_count": 85,
      "outputs": []
    },
    {
      "cell_type": "code",
      "source": [
        "corpus = pd.read_json(f'{CORPUS_FOLDER_PATH}corpus.jsonl', lines=True)"
      ],
      "metadata": {
        "id": "MDL6DwZp6uJV"
      },
      "execution_count": 34,
      "outputs": []
    },
    {
      "cell_type": "code",
      "source": [
        "claims_pro_evidence = []\n",
        "claims_counter_evidence = []\n",
        "for evidence in claims_train['evidence']:\n",
        "  pro_evidence = []\n",
        "  counter_evidence = []\n",
        "  for doc_id in evidence.keys():\n",
        "    for rationale in evidence[doc_id]:\n",
        "      corpus_row = corpus[corpus['doc_id'] == int(doc_id)]\n",
        "      evidence_sentence = ' '.join([corpus_row['abstract'].iloc[0][j] for j in rationale['sentences']])\n",
        "      pro_evidence.append(evidence_sentence) if rationale['label'] == 'SUPPORT' else counter_evidence.append(evidence_sentence)\n",
        "  claims_pro_evidence.append(pro_evidence)\n",
        "  claims_counter_evidence.append(counter_evidence)"
      ],
      "metadata": {
        "id": "HOttFkTD6hQY"
      },
      "execution_count": 86,
      "outputs": []
    },
    {
      "cell_type": "code",
      "source": [
        "claims_pro_evidence_trimmed = [random.choice(claim_list) if claim_list else \"\" for claim_list in claims_pro_evidence]\n",
        "claims_counter_evidence_trimmed = [random.choice(claim_list) if claim_list else \"\" for claim_list in claims_counter_evidence]"
      ],
      "metadata": {
        "id": "yLx17t2tGTZj"
      },
      "execution_count": 87,
      "outputs": []
    },
    {
      "cell_type": "code",
      "source": [
        "claims_train = claims_train.drop(columns=['id', 'evidence', 'cited_doc_ids'])"
      ],
      "metadata": {
        "id": "skWHBts6IUFw"
      },
      "execution_count": 88,
      "outputs": []
    },
    {
      "cell_type": "code",
      "source": [
        "claims_train = pd.concat([claims_train, pd.DataFrame(claims_pro_evidence_trimmed, columns=['pro_evidence']), pd.DataFrame(claims_counter_evidence_trimmed, columns=['counter_evidence'])], axis=1)"
      ],
      "metadata": {
        "id": "uUNgPyTnIgnQ"
      },
      "execution_count": 89,
      "outputs": []
    },
    {
      "cell_type": "code",
      "source": [
        "claims_train = claims_train.groupby('claim').sample(1).reset_index(drop=True)"
      ],
      "metadata": {
        "id": "XTGE05V3dIVf"
      },
      "execution_count": 90,
      "outputs": []
    },
    {
      "cell_type": "code",
      "source": [
        "max([len(claim) for claim in claims_train['claim']])"
      ],
      "metadata": {
        "colab": {
          "base_uri": "https://localhost:8080/"
        },
        "id": "lD2BtKu5bYN6",
        "outputId": "cbc2507e-ce6a-46e9-eda0-7352959bd473"
      },
      "execution_count": 119,
      "outputs": [
        {
          "output_type": "execute_result",
          "data": {
            "text/plain": [
              "201"
            ]
          },
          "metadata": {},
          "execution_count": 119
        }
      ]
    },
    {
      "cell_type": "code",
      "source": [
        "claims_train_file_path = 'scifact_train_arguments_dump.pkl'\n",
        "with open(claims_train_file_path, 'wb') as file:\n",
        "  pickle.dump(claims_train, file)\n",
        "  print(f\"File uploaded to {claims_train_file_path}\")"
      ],
      "metadata": {
        "colab": {
          "base_uri": "https://localhost:8080/"
        },
        "id": "JUtgSff1KINu",
        "outputId": "5ff73507-fcc3-4d2b-fe7d-a7801b701169"
      },
      "execution_count": 154,
      "outputs": [
        {
          "output_type": "stream",
          "name": "stdout",
          "text": [
            "File uploaded to scifact_train_arguments_dump.pkl\n"
          ]
        }
      ]
    },
    {
      "cell_type": "code",
      "source": [
        "claims_test = pd.read_json(f'{CORPUS_FOLDER_PATH}claims_dev.jsonl', lines=True)\n",
        "claims_test = claims_test[claims_test['evidence'] != {}]\n",
        "claims_test = claims_test.groupby('claim').sample(frac=1).reset_index(drop=True)"
      ],
      "metadata": {
        "id": "eFZ8NF42yw3F"
      },
      "execution_count": 146,
      "outputs": []
    },
    {
      "cell_type": "code",
      "source": [
        "claims_test_pro_evidence = []\n",
        "claims_test_counter_evidence = []\n",
        "for evidence in claims_test['evidence']:\n",
        "  pro_evidence = []\n",
        "  counter_evidence = []\n",
        "  for doc_id in evidence.keys():\n",
        "    for rationale in evidence[doc_id]:\n",
        "      corpus_row = corpus[corpus['doc_id'] == int(doc_id)]\n",
        "      evidence_sentence = ' '.join([corpus_row['abstract'].iloc[0][j] for j in rationale['sentences']])\n",
        "      pro_evidence.append(evidence_sentence) if rationale['label'] == 'SUPPORT' else counter_evidence.append(evidence_sentence)\n",
        "  claims_test_pro_evidence.append(pro_evidence)\n",
        "  claims_test_counter_evidence.append(counter_evidence)"
      ],
      "metadata": {
        "id": "yzjYdnhQyfI_"
      },
      "execution_count": 147,
      "outputs": []
    },
    {
      "cell_type": "code",
      "source": [
        "claims_test_pro_evidence_trimmed = [random.choice(claim_list) if claim_list else \"\" for claim_list in claims_test_pro_evidence]\n",
        "claims_test_counter_evidence_trimmed = [random.choice(claim_list) if claim_list else \"\" for claim_list in claims_test_counter_evidence]"
      ],
      "metadata": {
        "id": "nyj52-QjLjYg"
      },
      "execution_count": 149,
      "outputs": []
    },
    {
      "cell_type": "code",
      "source": [
        "claims_test = claims_test.drop(columns=['id', 'evidence', 'cited_doc_ids'])"
      ],
      "metadata": {
        "id": "9APsPcs2LqYF"
      },
      "execution_count": 150,
      "outputs": []
    },
    {
      "cell_type": "code",
      "source": [
        "claims_test = pd.concat([claims_test, pd.DataFrame(claims_test_pro_evidence_trimmed, columns=['pro_evidence']), pd.DataFrame(claims_test_counter_evidence_trimmed, columns=['counter_evidence'])], axis=1)"
      ],
      "metadata": {
        "id": "AvuVg2NtLtvF"
      },
      "execution_count": 151,
      "outputs": []
    },
    {
      "cell_type": "code",
      "source": [
        "claims_test_file_path = 'scifact_test_arguments_dump.pkl'\n",
        "with open(claims_test_file_path, 'wb') as file:\n",
        "  pickle.dump(claims_test, file)\n",
        "  print(f\"File uploaded to {claims_test_file_path}\")"
      ],
      "metadata": {
        "colab": {
          "base_uri": "https://localhost:8080/"
        },
        "id": "DJMeyFxML1_T",
        "outputId": "0db14a6f-8b75-41c5-dae6-2832eb26cb3d"
      },
      "execution_count": 155,
      "outputs": [
        {
          "output_type": "stream",
          "name": "stdout",
          "text": [
            "File uploaded to scifact_test_arguments_dump.pkl\n"
          ]
        }
      ]
    },
    {
      "cell_type": "code",
      "source": [
        "train_arguments_dump_file_path = 'scifact-arguments-dump'\n",
        "train_arguments_dump_zip_path = 'scifact-arguments-dump'\n",
        "shutil.make_archive(train_arguments_dump_zip_path, 'zip', train_arguments_dump_file_path)\n",
        "print(f\"Zip file created at: {train_arguments_dump_zip_path}\")\n",
        "result = subprocess.run([f\"osf -p sakjg upload --force {train_arguments_dump_zip_path}.zip data-dump/scifact_arguments_dump.zip\"], shell=True, capture_output=True, text=True)\n",
        "print(result.stderr)\n",
        "print(f\"File: {train_arguments_dump_zip_path} uploaded at osfstorage\")"
      ],
      "metadata": {
        "colab": {
          "base_uri": "https://localhost:8080/"
        },
        "id": "ZN6qz3YUL--e",
        "outputId": "65216be6-9d7b-4289-b5c1-0ce7f032e8ee"
      },
      "execution_count": 160,
      "outputs": [
        {
          "output_type": "stream",
          "name": "stdout",
          "text": [
            "Zip file created at: scifact-arguments-dump\n",
            "\n",
            "File: scifact-arguments-dump uploaded at osfstorage\n"
          ]
        }
      ]
    },
    {
      "cell_type": "code",
      "source": [
        "test_arguments_dump_file_path = 'scifact_test_arguments_dump.pkl'\n",
        "test_arguments_dump_zip_path = 'scifact_test_arguments_dump'\n",
        "shutil.make_archive(test_arguments_dump_zip_path, 'zip', test_arguments_dump_file_path)\n",
        "print(f\"Zip file created at: {test_arguments_dump_zip_path}\")\n",
        "result = subprocess.run([f\"osf -p sakjg upload --force {test_arguments_dump_zip_path}.zip data-dump/scifact_test_arguments_dump.zip\"], shell=True, capture_output=True, text=True)\n",
        "print(result.stderr)\n",
        "print(f\"File: {test_arguments_dump_zip_path} uploaded at osfstorage\")"
      ],
      "metadata": {
        "colab": {
          "base_uri": "https://localhost:8080/"
        },
        "id": "Y5cVJqlgMkSB",
        "outputId": "97b3a1ba-6be0-4c43-ea23-c95d387b0053"
      },
      "execution_count": 157,
      "outputs": [
        {
          "output_type": "stream",
          "name": "stdout",
          "text": [
            "Zip file created at: scifact_test_arguments_dump\n",
            "\n",
            "File: scifact_test_arguments_dump uploaded at osfstorage\n"
          ]
        }
      ]
    }
  ]
}