{
  "cells": [
    {
      "cell_type": "markdown",
      "metadata": {
        "id": "view-in-github",
        "colab_type": "text"
      },
      "source": [
        "<a href=\"https://colab.research.google.com/github/cchang-vassar/Semantic-Relations-in-Vector-Embeddings/blob/main/study2_9_%5Bnomic%5D_scifact_autoencoder_gen.ipynb\" target=\"_parent\"><img src=\"https://colab.research.google.com/assets/colab-badge.svg\" alt=\"Open In Colab\"/></a>"
      ]
    },
    {
      "cell_type": "markdown",
      "metadata": {
        "id": "54d02564-93ff-4682-a3c9-866bc4a9e461"
      },
      "source": [
        "# [nomic] Autoencoder: Generate Corresponding Embedding (Scifact)"
      ],
      "id": "54d02564-93ff-4682-a3c9-866bc4a9e461"
    },
    {
      "cell_type": "markdown",
      "source": [
        "## Set Up"
      ],
      "metadata": {
        "id": "sfhHaEtuCFaZ"
      },
      "id": "sfhHaEtuCFaZ"
    },
    {
      "cell_type": "markdown",
      "metadata": {
        "id": "494f9bbb-1e6d-422d-b934-24de3609ae38"
      },
      "source": [
        "### Imports"
      ],
      "id": "494f9bbb-1e6d-422d-b934-24de3609ae38"
    },
    {
      "cell_type": "code",
      "execution_count": null,
      "metadata": {
        "colab": {
          "base_uri": "https://localhost:8080/"
        },
        "id": "PK38cfNTYVw5",
        "outputId": "c1d0964b-090f-4cf1-cbef-e640ed3e6a6f"
      },
      "outputs": [
        {
          "output_type": "stream",
          "name": "stdout",
          "text": [
            "Requirement already satisfied: tensorflow in /usr/local/lib/python3.10/dist-packages (2.15.0)\n",
            "Requirement already satisfied: absl-py>=1.0.0 in /usr/local/lib/python3.10/dist-packages (from tensorflow) (1.4.0)\n",
            "Requirement already satisfied: astunparse>=1.6.0 in /usr/local/lib/python3.10/dist-packages (from tensorflow) (1.6.3)\n",
            "Requirement already satisfied: flatbuffers>=23.5.26 in /usr/local/lib/python3.10/dist-packages (from tensorflow) (24.3.25)\n",
            "Requirement already satisfied: gast!=0.5.0,!=0.5.1,!=0.5.2,>=0.2.1 in /usr/local/lib/python3.10/dist-packages (from tensorflow) (0.5.4)\n",
            "Requirement already satisfied: google-pasta>=0.1.1 in /usr/local/lib/python3.10/dist-packages (from tensorflow) (0.2.0)\n",
            "Requirement already satisfied: h5py>=2.9.0 in /usr/local/lib/python3.10/dist-packages (from tensorflow) (3.9.0)\n",
            "Requirement already satisfied: libclang>=13.0.0 in /usr/local/lib/python3.10/dist-packages (from tensorflow) (18.1.1)\n",
            "Requirement already satisfied: ml-dtypes~=0.2.0 in /usr/local/lib/python3.10/dist-packages (from tensorflow) (0.2.0)\n",
            "Requirement already satisfied: numpy<2.0.0,>=1.23.5 in /usr/local/lib/python3.10/dist-packages (from tensorflow) (1.25.2)\n",
            "Requirement already satisfied: opt-einsum>=2.3.2 in /usr/local/lib/python3.10/dist-packages (from tensorflow) (3.3.0)\n",
            "Requirement already satisfied: packaging in /usr/local/lib/python3.10/dist-packages (from tensorflow) (24.0)\n",
            "Requirement already satisfied: protobuf!=4.21.0,!=4.21.1,!=4.21.2,!=4.21.3,!=4.21.4,!=4.21.5,<5.0.0dev,>=3.20.3 in /usr/local/lib/python3.10/dist-packages (from tensorflow) (3.20.3)\n",
            "Requirement already satisfied: setuptools in /usr/local/lib/python3.10/dist-packages (from tensorflow) (67.7.2)\n",
            "Requirement already satisfied: six>=1.12.0 in /usr/local/lib/python3.10/dist-packages (from tensorflow) (1.16.0)\n",
            "Requirement already satisfied: termcolor>=1.1.0 in /usr/local/lib/python3.10/dist-packages (from tensorflow) (2.4.0)\n",
            "Requirement already satisfied: typing-extensions>=3.6.6 in /usr/local/lib/python3.10/dist-packages (from tensorflow) (4.11.0)\n",
            "Requirement already satisfied: wrapt<1.15,>=1.11.0 in /usr/local/lib/python3.10/dist-packages (from tensorflow) (1.14.1)\n",
            "Requirement already satisfied: tensorflow-io-gcs-filesystem>=0.23.1 in /usr/local/lib/python3.10/dist-packages (from tensorflow) (0.36.0)\n",
            "Requirement already satisfied: grpcio<2.0,>=1.24.3 in /usr/local/lib/python3.10/dist-packages (from tensorflow) (1.63.0)\n",
            "Requirement already satisfied: tensorboard<2.16,>=2.15 in /usr/local/lib/python3.10/dist-packages (from tensorflow) (2.15.2)\n",
            "Requirement already satisfied: tensorflow-estimator<2.16,>=2.15.0 in /usr/local/lib/python3.10/dist-packages (from tensorflow) (2.15.0)\n",
            "Requirement already satisfied: keras<2.16,>=2.15.0 in /usr/local/lib/python3.10/dist-packages (from tensorflow) (2.15.0)\n",
            "Requirement already satisfied: wheel<1.0,>=0.23.0 in /usr/local/lib/python3.10/dist-packages (from astunparse>=1.6.0->tensorflow) (0.43.0)\n",
            "Requirement already satisfied: google-auth<3,>=1.6.3 in /usr/local/lib/python3.10/dist-packages (from tensorboard<2.16,>=2.15->tensorflow) (2.27.0)\n",
            "Requirement already satisfied: google-auth-oauthlib<2,>=0.5 in /usr/local/lib/python3.10/dist-packages (from tensorboard<2.16,>=2.15->tensorflow) (1.2.0)\n",
            "Requirement already satisfied: markdown>=2.6.8 in /usr/local/lib/python3.10/dist-packages (from tensorboard<2.16,>=2.15->tensorflow) (3.6)\n",
            "Requirement already satisfied: requests<3,>=2.21.0 in /usr/local/lib/python3.10/dist-packages (from tensorboard<2.16,>=2.15->tensorflow) (2.31.0)\n",
            "Requirement already satisfied: tensorboard-data-server<0.8.0,>=0.7.0 in /usr/local/lib/python3.10/dist-packages (from tensorboard<2.16,>=2.15->tensorflow) (0.7.2)\n",
            "Requirement already satisfied: werkzeug>=1.0.1 in /usr/local/lib/python3.10/dist-packages (from tensorboard<2.16,>=2.15->tensorflow) (3.0.2)\n",
            "Requirement already satisfied: cachetools<6.0,>=2.0.0 in /usr/local/lib/python3.10/dist-packages (from google-auth<3,>=1.6.3->tensorboard<2.16,>=2.15->tensorflow) (5.3.3)\n",
            "Requirement already satisfied: pyasn1-modules>=0.2.1 in /usr/local/lib/python3.10/dist-packages (from google-auth<3,>=1.6.3->tensorboard<2.16,>=2.15->tensorflow) (0.4.0)\n",
            "Requirement already satisfied: rsa<5,>=3.1.4 in /usr/local/lib/python3.10/dist-packages (from google-auth<3,>=1.6.3->tensorboard<2.16,>=2.15->tensorflow) (4.9)\n",
            "Requirement already satisfied: requests-oauthlib>=0.7.0 in /usr/local/lib/python3.10/dist-packages (from google-auth-oauthlib<2,>=0.5->tensorboard<2.16,>=2.15->tensorflow) (1.3.1)\n",
            "Requirement already satisfied: charset-normalizer<4,>=2 in /usr/local/lib/python3.10/dist-packages (from requests<3,>=2.21.0->tensorboard<2.16,>=2.15->tensorflow) (3.3.2)\n",
            "Requirement already satisfied: idna<4,>=2.5 in /usr/local/lib/python3.10/dist-packages (from requests<3,>=2.21.0->tensorboard<2.16,>=2.15->tensorflow) (3.7)\n",
            "Requirement already satisfied: urllib3<3,>=1.21.1 in /usr/local/lib/python3.10/dist-packages (from requests<3,>=2.21.0->tensorboard<2.16,>=2.15->tensorflow) (2.0.7)\n",
            "Requirement already satisfied: certifi>=2017.4.17 in /usr/local/lib/python3.10/dist-packages (from requests<3,>=2.21.0->tensorboard<2.16,>=2.15->tensorflow) (2024.2.2)\n",
            "Requirement already satisfied: MarkupSafe>=2.1.1 in /usr/local/lib/python3.10/dist-packages (from werkzeug>=1.0.1->tensorboard<2.16,>=2.15->tensorflow) (2.1.5)\n",
            "Requirement already satisfied: pyasn1<0.7.0,>=0.4.6 in /usr/local/lib/python3.10/dist-packages (from pyasn1-modules>=0.2.1->google-auth<3,>=1.6.3->tensorboard<2.16,>=2.15->tensorflow) (0.6.0)\n",
            "Requirement already satisfied: oauthlib>=3.0.0 in /usr/local/lib/python3.10/dist-packages (from requests-oauthlib>=0.7.0->google-auth-oauthlib<2,>=0.5->tensorboard<2.16,>=2.15->tensorflow) (3.2.2)\n"
          ]
        }
      ],
      "source": [
        "!pip install tensorflow"
      ],
      "id": "PK38cfNTYVw5"
    },
    {
      "cell_type": "code",
      "source": [
        "!pip install plotnine"
      ],
      "metadata": {
        "colab": {
          "base_uri": "https://localhost:8080/"
        },
        "id": "T2UNOypRYaWc",
        "outputId": "95e3afc1-a1d7-483f-aa39-58bce3f79171"
      },
      "id": "T2UNOypRYaWc",
      "execution_count": null,
      "outputs": [
        {
          "output_type": "stream",
          "name": "stdout",
          "text": [
            "Requirement already satisfied: plotnine in /usr/local/lib/python3.10/dist-packages (0.12.4)\n",
            "Requirement already satisfied: matplotlib>=3.6.0 in /usr/local/lib/python3.10/dist-packages (from plotnine) (3.7.1)\n",
            "Requirement already satisfied: mizani<0.10.0,>0.9.0 in /usr/local/lib/python3.10/dist-packages (from plotnine) (0.9.3)\n",
            "Requirement already satisfied: numpy>=1.23.0 in /usr/local/lib/python3.10/dist-packages (from plotnine) (1.25.2)\n",
            "Requirement already satisfied: pandas>=1.5.0 in /usr/local/lib/python3.10/dist-packages (from plotnine) (2.0.3)\n",
            "Requirement already satisfied: patsy>=0.5.1 in /usr/local/lib/python3.10/dist-packages (from plotnine) (0.5.6)\n",
            "Requirement already satisfied: scipy>=1.5.0 in /usr/local/lib/python3.10/dist-packages (from plotnine) (1.11.4)\n",
            "Requirement already satisfied: statsmodels>=0.14.0 in /usr/local/lib/python3.10/dist-packages (from plotnine) (0.14.2)\n",
            "Requirement already satisfied: contourpy>=1.0.1 in /usr/local/lib/python3.10/dist-packages (from matplotlib>=3.6.0->plotnine) (1.2.1)\n",
            "Requirement already satisfied: cycler>=0.10 in /usr/local/lib/python3.10/dist-packages (from matplotlib>=3.6.0->plotnine) (0.12.1)\n",
            "Requirement already satisfied: fonttools>=4.22.0 in /usr/local/lib/python3.10/dist-packages (from matplotlib>=3.6.0->plotnine) (4.51.0)\n",
            "Requirement already satisfied: kiwisolver>=1.0.1 in /usr/local/lib/python3.10/dist-packages (from matplotlib>=3.6.0->plotnine) (1.4.5)\n",
            "Requirement already satisfied: packaging>=20.0 in /usr/local/lib/python3.10/dist-packages (from matplotlib>=3.6.0->plotnine) (24.0)\n",
            "Requirement already satisfied: pillow>=6.2.0 in /usr/local/lib/python3.10/dist-packages (from matplotlib>=3.6.0->plotnine) (9.4.0)\n",
            "Requirement already satisfied: pyparsing>=2.3.1 in /usr/local/lib/python3.10/dist-packages (from matplotlib>=3.6.0->plotnine) (3.1.2)\n",
            "Requirement already satisfied: python-dateutil>=2.7 in /usr/local/lib/python3.10/dist-packages (from matplotlib>=3.6.0->plotnine) (2.8.2)\n",
            "Requirement already satisfied: pytz>=2020.1 in /usr/local/lib/python3.10/dist-packages (from pandas>=1.5.0->plotnine) (2023.4)\n",
            "Requirement already satisfied: tzdata>=2022.1 in /usr/local/lib/python3.10/dist-packages (from pandas>=1.5.0->plotnine) (2024.1)\n",
            "Requirement already satisfied: six in /usr/local/lib/python3.10/dist-packages (from patsy>=0.5.1->plotnine) (1.16.0)\n"
          ]
        }
      ]
    },
    {
      "cell_type": "code",
      "execution_count": null,
      "metadata": {
        "id": "34847cf8-a4c0-4fa9-b386-acb94ffc7b7f"
      },
      "outputs": [],
      "source": [
        "import os\n",
        "import subprocess\n",
        "import zipfile\n",
        "import shutil\n",
        "import pickle\n",
        "import tensorflow as tf\n",
        "import pandas as pd\n",
        "import numpy as np\n",
        "from google.colab import userdata\n",
        "from scipy import spatial\n",
        "from tensorflow.keras.callbacks import ModelCheckpoint, CSVLogger\n",
        "from plotnine import ggplot, geom_line, aes, ggsave, labs, theme, element_text, guides, guide_legend, scale_color_manual, scale_y_continuous, scale_linetype_manual"
      ],
      "id": "34847cf8-a4c0-4fa9-b386-acb94ffc7b7f"
    },
    {
      "cell_type": "markdown",
      "metadata": {
        "id": "1ZL8xzRMyOGE"
      },
      "source": [
        "### OSF Setup"
      ],
      "id": "1ZL8xzRMyOGE"
    },
    {
      "cell_type": "code",
      "execution_count": null,
      "metadata": {
        "colab": {
          "base_uri": "https://localhost:8080/"
        },
        "id": "fS_fc5dDySK5",
        "outputId": "591cd0a2-de0a-4a38-b07d-1efcfe85ade2"
      },
      "outputs": [
        {
          "output_type": "stream",
          "name": "stdout",
          "text": [
            "Collecting osfclient\n",
            "  Downloading osfclient-0.0.5-py2.py3-none-any.whl (39 kB)\n",
            "Requirement already satisfied: requests in /usr/local/lib/python3.10/dist-packages (from osfclient) (2.31.0)\n",
            "Requirement already satisfied: tqdm in /usr/local/lib/python3.10/dist-packages (from osfclient) (4.66.2)\n",
            "Requirement already satisfied: six in /usr/local/lib/python3.10/dist-packages (from osfclient) (1.16.0)\n",
            "Requirement already satisfied: charset-normalizer<4,>=2 in /usr/local/lib/python3.10/dist-packages (from requests->osfclient) (3.3.2)\n",
            "Requirement already satisfied: idna<4,>=2.5 in /usr/local/lib/python3.10/dist-packages (from requests->osfclient) (3.7)\n",
            "Requirement already satisfied: urllib3<3,>=1.21.1 in /usr/local/lib/python3.10/dist-packages (from requests->osfclient) (2.0.7)\n",
            "Requirement already satisfied: certifi>=2017.4.17 in /usr/local/lib/python3.10/dist-packages (from requests->osfclient) (2024.2.2)\n",
            "Installing collected packages: osfclient\n",
            "Successfully installed osfclient-0.0.5\n"
          ]
        }
      ],
      "source": [
        "!pip install osfclient"
      ],
      "id": "fS_fc5dDySK5"
    },
    {
      "cell_type": "code",
      "execution_count": null,
      "metadata": {
        "id": "WQTEV8ZsQtXD"
      },
      "outputs": [],
      "source": [
        "import osfclient.cli"
      ],
      "id": "WQTEV8ZsQtXD"
    },
    {
      "cell_type": "code",
      "execution_count": null,
      "metadata": {
        "id": "cxigtskT2dda"
      },
      "outputs": [],
      "source": [
        "from osfclient.api import OSF\n",
        "from osfclient.models import Project, Storage\n",
        "from io import BytesIO"
      ],
      "id": "cxigtskT2dda"
    },
    {
      "cell_type": "code",
      "execution_count": null,
      "metadata": {
        "id": "q7LsfY62TqsU"
      },
      "outputs": [],
      "source": [
        "os.environ[\"OSF_USERNAME\"] = userdata.get(\"OSF_USERNAME\")\n",
        "OSF_USERNAME = os.environ[\"OSF_USERNAME\"]"
      ],
      "id": "q7LsfY62TqsU"
    },
    {
      "cell_type": "code",
      "execution_count": null,
      "metadata": {
        "id": "Dc540GW4OGT5"
      },
      "outputs": [],
      "source": [
        "os.environ[\"OSF_PASSWORD\"] = userdata.get(\"OSF_PASSWORD\")\n",
        "OSF_PASSWORD = os.environ[\"OSF_PASSWORD\"]"
      ],
      "id": "Dc540GW4OGT5"
    },
    {
      "cell_type": "code",
      "execution_count": null,
      "metadata": {
        "id": "z-OVlX8Z0pZy"
      },
      "outputs": [],
      "source": [
        "os.environ[\"OSF_TOKEN\"] = userdata.get(\"OSF_TOKEN\")\n",
        "OSF_TOKEN = os.environ[\"OSF_TOKEN\"]"
      ],
      "id": "z-OVlX8Z0pZy"
    },
    {
      "cell_type": "code",
      "execution_count": null,
      "metadata": {
        "id": "rTXKZf9r4RY3"
      },
      "outputs": [],
      "source": [
        "os.environ[\"OSF_PROJECT_ID\"] = userdata.get(\"OSF_PROJECT_ID\")\n",
        "OSF_PROJECT_ID = os.environ[\"OSF_PROJECT_ID\"]"
      ],
      "id": "rTXKZf9r4RY3"
    },
    {
      "cell_type": "markdown",
      "metadata": {
        "id": "ac3facd4-9d46-4916-866b-2dfe7209cbc1"
      },
      "source": [
        "## Data"
      ],
      "id": "ac3facd4-9d46-4916-866b-2dfe7209cbc1"
    },
    {
      "cell_type": "markdown",
      "metadata": {
        "id": "vIFnWt4JYqWi"
      },
      "source": [
        "### Import corpora data from OSF"
      ],
      "id": "vIFnWt4JYqWi"
    },
    {
      "cell_type": "code",
      "execution_count": null,
      "metadata": {
        "colab": {
          "base_uri": "https://localhost:8080/"
        },
        "id": "8KuvkPngZtcz",
        "outputId": "5fc3dec4-82c5-4f2e-9a18-f93f472c8c03"
      },
      "outputs": [
        {
          "output_type": "stream",
          "name": "stdout",
          "text": [
            "100% 7.96M/7.96M [00:00<00:00, 49.0Mbytes/s]\n"
          ]
        }
      ],
      "source": [
        "!osf -p sakjg fetch osfstorage/data-dump/nomic-autoencoder/nomic_scifact_embeddings_dump.zip"
      ],
      "id": "8KuvkPngZtcz"
    },
    {
      "cell_type": "code",
      "source": [
        "embeddings_file_path = 'nomic_scifact_embeddings_dump.zip'\n",
        "output_folder_path = 'current-data-dump/embeddings-dump'\n",
        "os.makedirs(output_folder_path, exist_ok=True)\n",
        "\n",
        "with zipfile.ZipFile(embeddings_file_path, 'r') as zip_ref:\n",
        "  zip_ref.extractall(output_folder_path)\n",
        "\n",
        "extracted_files = os.listdir(output_folder_path)\n",
        "print(\"Files extracted:\", extracted_files)"
      ],
      "metadata": {
        "colab": {
          "base_uri": "https://localhost:8080/"
        },
        "id": "ZkPaiT5xIdeZ",
        "outputId": "2e1482b3-3639-4783-9ac3-f99a5861b7ae"
      },
      "id": "ZkPaiT5xIdeZ",
      "execution_count": null,
      "outputs": [
        {
          "output_type": "stream",
          "name": "stdout",
          "text": [
            "Files extracted: ['training_pro_argument_embeddings.pkl', 'combined_counter_evidence_embeddings.pkl', 'training_pro_evidence_embeddings.pkl', 'combined_pro_argument_embeddings.pkl', 'test_counter_evidence_embeddings.pkl', 'training_counter_argument_embeddings.pkl', 'test_counter_argument_embeddings.pkl', 'combined_counter_argument_embeddings.pkl', 'combined_pro_evidence_embeddings.pkl', 'test_pro_evidence_embeddings.pkl', 'test_pro_argument_embeddings.pkl', 'training_counter_evidence_embeddings.pkl']\n"
          ]
        }
      ]
    },
    {
      "cell_type": "code",
      "source": [
        "x_train_pro = pd.read_pickle('current-data-dump/embeddings-dump/training_pro_argument_embeddings.pkl')\n",
        "y_train_pro = pd.read_pickle('current-data-dump/embeddings-dump/training_pro_evidence_embeddings.pkl')\n",
        "x_test_pro = pd.read_pickle('current-data-dump/embeddings-dump/test_pro_argument_embeddings.pkl')\n",
        "y_test_pro = pd.read_pickle('current-data-dump/embeddings-dump/test_pro_evidence_embeddings.pkl')"
      ],
      "metadata": {
        "id": "iH96OsgnsZBR"
      },
      "id": "iH96OsgnsZBR",
      "execution_count": null,
      "outputs": []
    },
    {
      "cell_type": "code",
      "source": [
        "x_train_counter = pd.read_pickle('current-data-dump/embeddings-dump/training_counter_argument_embeddings.pkl')\n",
        "y_train_counter = pd.read_pickle('current-data-dump/embeddings-dump/training_counter_evidence_embeddings.pkl')\n",
        "x_test_counter = pd.read_pickle('current-data-dump/embeddings-dump/test_counter_argument_embeddings.pkl')\n",
        "y_test_counter = pd.read_pickle('current-data-dump/embeddings-dump/test_counter_evidence_embeddings.pkl')"
      ],
      "metadata": {
        "id": "Duho8EbSlbU8"
      },
      "id": "Duho8EbSlbU8",
      "execution_count": null,
      "outputs": []
    },
    {
      "cell_type": "code",
      "source": [
        "x_train_pro = x_train_pro.drop(columns=['argument'])\n",
        "y_train_pro = y_train_pro.drop(columns=['evidence'])\n",
        "x_test_pro = x_test_pro.drop(columns=['argument'])\n",
        "y_test_pro = y_test_pro.drop(columns=['evidence'])"
      ],
      "metadata": {
        "id": "GAapm_B5k4fr"
      },
      "id": "GAapm_B5k4fr",
      "execution_count": null,
      "outputs": []
    },
    {
      "cell_type": "code",
      "source": [
        "x_train_counter = x_train_counter.drop(columns=['argument'])\n",
        "y_train_counter = y_train_counter.drop(columns=['evidence'])\n",
        "x_test_counter = x_test_counter.drop(columns=['argument'])\n",
        "y_test_counter = y_test_counter.drop(columns=['evidence'])"
      ],
      "metadata": {
        "id": "Zzsy0uVgldFM"
      },
      "id": "Zzsy0uVgldFM",
      "execution_count": null,
      "outputs": []
    },
    {
      "cell_type": "code",
      "source": [
        "x_train_combined = pd.concat([x_train_pro, x_train_counter])\n",
        "y_train_combined = pd.concat([y_train_pro, y_train_counter])\n",
        "x_test_combined = pd.concat([x_test_pro, x_test_counter])\n",
        "y_test_combined = pd.concat([y_test_pro, y_test_counter])"
      ],
      "metadata": {
        "id": "p_Qxgi90lVNy"
      },
      "id": "p_Qxgi90lVNy",
      "execution_count": null,
      "outputs": []
    },
    {
      "cell_type": "markdown",
      "metadata": {
        "id": "c47aa916-847b-4567-bd68-5cedaebea19a"
      },
      "source": [
        "### Make global data shuffled"
      ],
      "id": "c47aa916-847b-4567-bd68-5cedaebea19a"
    },
    {
      "cell_type": "code",
      "execution_count": null,
      "metadata": {
        "id": "0a44df78-8d41-40be-9c08-f38e48fc075d"
      },
      "outputs": [],
      "source": [
        "y_train_shuffled = y_train_combined.copy().sample(frac=1).reset_index(drop=True)\n",
        "y_train_pro_shuffled = y_train_pro.copy().sample(frac=1).reset_index(drop=True)\n",
        "y_train_counter_shuffled = y_train_counter.copy().sample(frac=1).reset_index(drop=True)"
      ],
      "id": "0a44df78-8d41-40be-9c08-f38e48fc075d"
    },
    {
      "cell_type": "markdown",
      "source": [
        "### Save global training df"
      ],
      "metadata": {
        "id": "bxCtUU3xJxMG"
      },
      "id": "bxCtUU3xJxMG"
    },
    {
      "cell_type": "code",
      "source": [
        "x_train_combined_folder_path = 'current-data-dump/nomic-autoencoder/'\n",
        "x_train_combined_file_path = f'{x_train_combined_folder_path}x_train_combined.pkl'\n",
        "y_train_combined_folder_path = 'current-data-dump/nomic-autoencoder/'\n",
        "y_train_combined_file_path = f'{x_train_combined_folder_path}y_train_combined.pkl'\n",
        "os.makedirs(x_train_combined_folder_path, exist_ok=True)\n",
        "os.makedirs(y_train_combined_folder_path, exist_ok=True)\n",
        "with open(x_train_combined_file_path, 'wb') as file:\n",
        "  pickle.dump(x_train_combined, file)\n",
        "  print(f\"File uploaded to {x_train_combined_file_path}\")\n",
        "with open(y_train_combined_file_path, 'wb') as file:\n",
        "  pickle.dump(y_train_combined, file)\n",
        "  print(f\"File uploaded to {y_train_combined_file_path}\")"
      ],
      "metadata": {
        "colab": {
          "base_uri": "https://localhost:8080/"
        },
        "id": "mrMv_TJKJ0h5",
        "outputId": "d8dfc02c-feee-426c-f690-41d46139654b"
      },
      "id": "mrMv_TJKJ0h5",
      "execution_count": null,
      "outputs": [
        {
          "output_type": "stream",
          "name": "stdout",
          "text": [
            "File uploaded to current-data-dump/nomic-autoencoder/x_train_combined.pkl\n",
            "File uploaded to current-data-dump/nomic-autoencoder/y_train_combined.pkl\n"
          ]
        }
      ]
    },
    {
      "cell_type": "code",
      "source": [
        "x_test_combined_folder_path = 'current-data-dump/nomic-autoencoder/'\n",
        "x_test_combined_file_path = f'{x_test_combined_folder_path}x_test_combined.pkl'\n",
        "y_test_combined_folder_path = 'current-data-dump/nomic-autoencoder/'\n",
        "y_test_combined_file_path = f'{x_test_combined_folder_path}y_test_combined.pkl'\n",
        "os.makedirs(x_test_combined_folder_path, exist_ok=True)\n",
        "os.makedirs(y_test_combined_folder_path, exist_ok=True)\n",
        "with open(x_test_combined_file_path, 'wb') as file:\n",
        "  pickle.dump(x_test_combined, file)\n",
        "  print(f\"File uploaded to {x_test_combined_file_path}\")\n",
        "with open(y_test_combined_file_path, 'wb') as file:\n",
        "  pickle.dump(y_test_combined, file)\n",
        "  print(f\"File uploaded to {y_test_combined_file_path}\")"
      ],
      "metadata": {
        "colab": {
          "base_uri": "https://localhost:8080/"
        },
        "id": "NSRHuu7GOffc",
        "outputId": "baa5ac82-b154-48b9-920c-ee16fbac6d83"
      },
      "id": "NSRHuu7GOffc",
      "execution_count": null,
      "outputs": [
        {
          "output_type": "stream",
          "name": "stdout",
          "text": [
            "File uploaded to current-data-dump/nomic-autoencoder/x_test_combined.pkl\n",
            "File uploaded to current-data-dump/nomic-autoencoder/y_test_combined.pkl\n"
          ]
        }
      ]
    },
    {
      "cell_type": "code",
      "source": [
        "x_train_pro_folder_path = 'current-data-dump/nomic-autoencoder/'\n",
        "x_train_pro_file_path = f'{x_train_pro_folder_path}x_train_pro.pkl'\n",
        "y_train_pro_folder_path = 'current-data-dump/nomic-autoencoder/'\n",
        "y_train_pro_file_path = f'{x_train_pro_folder_path}y_train_pro.pkl'\n",
        "os.makedirs(x_train_pro_folder_path, exist_ok=True)\n",
        "os.makedirs(y_train_pro_folder_path, exist_ok=True)\n",
        "with open(x_train_pro_file_path, 'wb') as file:\n",
        "  pickle.dump(x_train_pro, file)\n",
        "  print(f\"File uploaded to {x_train_pro_file_path}\")\n",
        "with open(y_train_pro_file_path, 'wb') as file:\n",
        "  pickle.dump(y_train_pro, file)\n",
        "  print(f\"File uploaded to {y_train_pro_file_path}\")"
      ],
      "metadata": {
        "colab": {
          "base_uri": "https://localhost:8080/"
        },
        "id": "BcdUAJY9Oj2r",
        "outputId": "bbc9c73d-faee-4573-8c5f-02ed998e18bb"
      },
      "id": "BcdUAJY9Oj2r",
      "execution_count": null,
      "outputs": [
        {
          "output_type": "stream",
          "name": "stdout",
          "text": [
            "File uploaded to current-data-dump/nomic-autoencoder/x_train_pro.pkl\n",
            "File uploaded to current-data-dump/nomic-autoencoder/y_train_pro.pkl\n"
          ]
        }
      ]
    },
    {
      "cell_type": "code",
      "source": [
        "x_test_pro_folder_path = 'current-data-dump/nomic-autoencoder/'\n",
        "x_test_pro_file_path = f'{x_test_pro_folder_path}x_test_pro.pkl'\n",
        "y_test_pro_folder_path = 'current-data-dump/nomic-autoencoder/'\n",
        "y_test_pro_file_path = f'{x_test_pro_folder_path}y_test_pro.pkl'\n",
        "os.makedirs(x_test_pro_folder_path, exist_ok=True)\n",
        "os.makedirs(y_test_pro_folder_path, exist_ok=True)\n",
        "with open(x_test_pro_file_path, 'wb') as file:\n",
        "  pickle.dump(x_test_pro, file)\n",
        "  print(f\"File uploaded to {x_test_pro_file_path}\")\n",
        "with open(y_test_pro_file_path, 'wb') as file:\n",
        "  pickle.dump(y_test_pro, file)\n",
        "  print(f\"File uploaded to {y_test_pro_file_path}\")"
      ],
      "metadata": {
        "colab": {
          "base_uri": "https://localhost:8080/"
        },
        "id": "hJuEo__2Om9W",
        "outputId": "6b317d38-3034-4957-c023-47c6da5aca73"
      },
      "id": "hJuEo__2Om9W",
      "execution_count": null,
      "outputs": [
        {
          "output_type": "stream",
          "name": "stdout",
          "text": [
            "File uploaded to current-data-dump/nomic-autoencoder/x_test_pro.pkl\n",
            "File uploaded to current-data-dump/nomic-autoencoder/y_test_pro.pkl\n"
          ]
        }
      ]
    },
    {
      "cell_type": "code",
      "source": [
        "x_train_counter_folder_path = 'current-data-dump/nomic-autoencoder/'\n",
        "x_train_counter_file_path = f'{x_train_counter_folder_path}x_train_counter.pkl'\n",
        "y_train_counter_folder_path = 'current-data-dump/nomic-autoencoder/'\n",
        "y_train_counter_file_path = f'{x_train_counter_folder_path}y_train_counter.pkl'\n",
        "os.makedirs(x_train_counter_folder_path, exist_ok=True)\n",
        "os.makedirs(y_train_counter_folder_path, exist_ok=True)\n",
        "with open(x_train_counter_file_path, 'wb') as file:\n",
        "  pickle.dump(x_train_counter, file)\n",
        "  print(f\"File uploaded to {x_train_counter_file_path}\")\n",
        "with open(y_train_counter_file_path, 'wb') as file:\n",
        "  pickle.dump(y_train_counter, file)\n",
        "  print(f\"File uploaded to {y_train_counter_file_path}\")"
      ],
      "metadata": {
        "colab": {
          "base_uri": "https://localhost:8080/"
        },
        "outputId": "ef0eed10-a595-4ec1-ef75-edc2b5c71001",
        "id": "Zu4DMpJrOqLr"
      },
      "execution_count": null,
      "outputs": [
        {
          "output_type": "stream",
          "name": "stdout",
          "text": [
            "File uploaded to current-data-dump/nomic-autoencoder/x_train_counter.pkl\n",
            "File uploaded to current-data-dump/nomic-autoencoder/y_train_counter.pkl\n"
          ]
        }
      ],
      "id": "Zu4DMpJrOqLr"
    },
    {
      "cell_type": "code",
      "source": [
        "x_test_counter_folder_path = 'current-data-dump/nomic-autoencoder/'\n",
        "x_test_counter_file_path = f'{x_test_counter_folder_path}x_test_counter.pkl'\n",
        "y_test_counter_folder_path = 'current-data-dump/nomic-autoencoder/'\n",
        "y_test_counter_file_path = f'{x_test_counter_folder_path}y_test_counter.pkl'\n",
        "os.makedirs(x_test_counter_folder_path, exist_ok=True)\n",
        "os.makedirs(y_test_counter_folder_path, exist_ok=True)\n",
        "with open(x_test_counter_file_path, 'wb') as file:\n",
        "  pickle.dump(x_test_counter, file)\n",
        "  print(f\"File uploaded to {x_test_counter_file_path}\")\n",
        "with open(y_test_counter_file_path, 'wb') as file:\n",
        "  pickle.dump(y_test_counter, file)\n",
        "  print(f\"File uploaded to {y_test_counter_file_path}\")"
      ],
      "metadata": {
        "colab": {
          "base_uri": "https://localhost:8080/"
        },
        "outputId": "1c8dca1e-1891-4eda-829f-2bcabfd4e714",
        "id": "hzs0V1EgOqL1"
      },
      "execution_count": null,
      "outputs": [
        {
          "output_type": "stream",
          "name": "stdout",
          "text": [
            "File uploaded to current-data-dump/nomic-autoencoder/x_test_counter.pkl\n",
            "File uploaded to current-data-dump/nomic-autoencoder/y_test_counter.pkl\n"
          ]
        }
      ],
      "id": "hzs0V1EgOqL1"
    },
    {
      "cell_type": "markdown",
      "metadata": {
        "id": "ff884757-cec0-4a6f-9aa9-adf6da62b03e"
      },
      "source": [
        "## Model"
      ],
      "id": "ff884757-cec0-4a6f-9aa9-adf6da62b03e"
    },
    {
      "cell_type": "markdown",
      "metadata": {
        "id": "wdhQDH3Hdf2d"
      },
      "source": [
        "### Architecture"
      ],
      "id": "wdhQDH3Hdf2d"
    },
    {
      "cell_type": "code",
      "execution_count": null,
      "metadata": {
        "id": "92def071-b058-49c3-9573-6ee31d041244"
      },
      "outputs": [],
      "source": [
        "# Layers\n",
        "input_layer = tf.keras.layers.Input(shape=(768, ), name=\"Input\")\n",
        "hidden_layer = tf.keras.layers.Dense(units=768, activation=\"relu\", name=\"Hidden\")(input_layer)\n",
        "output_layer = tf.keras.layers.Dense(units=768, activation=\"linear\", name=\"Output\")(hidden_layer)"
      ],
      "id": "92def071-b058-49c3-9573-6ee31d041244"
    },
    {
      "cell_type": "code",
      "execution_count": null,
      "metadata": {
        "colab": {
          "base_uri": "https://localhost:8080/"
        },
        "id": "3eee1114-bf20-4fa0-9ece-a9fadccd9d00",
        "outputId": "ad0c1c60-a1ab-4468-cb1f-4d920f7f13f9",
        "scrolled": true
      },
      "outputs": [
        {
          "output_type": "stream",
          "name": "stdout",
          "text": [
            "Model: \"model\"\n",
            "_________________________________________________________________\n",
            " Layer (type)                Output Shape              Param #   \n",
            "=================================================================\n",
            " Input (InputLayer)          [(None, 768)]             0         \n",
            "                                                                 \n",
            " Hidden (Dense)              (None, 768)               590592    \n",
            "                                                                 \n",
            " Output (Dense)              (None, 768)               590592    \n",
            "                                                                 \n",
            "=================================================================\n",
            "Total params: 1181184 (4.51 MB)\n",
            "Trainable params: 1181184 (4.51 MB)\n",
            "Non-trainable params: 0 (0.00 Byte)\n",
            "_________________________________________________________________\n"
          ]
        }
      ],
      "source": [
        "# Model\n",
        "autoencoder_model = tf.keras.Model(inputs=input_layer, outputs=output_layer)\n",
        "autoencoder_model.summary()"
      ],
      "id": "3eee1114-bf20-4fa0-9ece-a9fadccd9d00"
    },
    {
      "cell_type": "markdown",
      "metadata": {
        "id": "bfYS3gnudicT"
      },
      "source": [
        "### Metric"
      ],
      "id": "bfYS3gnudicT"
    },
    {
      "cell_type": "code",
      "execution_count": null,
      "metadata": {
        "id": "953e0def-15fb-4bf6-8393-e2106f27ef2a"
      },
      "outputs": [],
      "source": [
        "@tf.keras.saving.register_keras_serializable()\n",
        "def metric_choose_argument_combined_y_train(y_true, y_pred):\n",
        "  \"\"\"combined_metric\"\"\"\n",
        "  combined_training_df_32 = tf.cast(pd.concat([x_train_combined, y_train_combined, x_test_combined, y_test_combined]), dtype=tf.float32)\n",
        "\n",
        "  cos_sim_pred = tf.matmul(combined_training_df_32, y_pred, transpose_b=True) / tf.reshape(tf.norm(y_pred) * tf.norm(combined_training_df_32, axis=1), [-1, 1])\n",
        "  cos_sim_true = tf.matmul(combined_training_df_32, y_true, transpose_b=True) / tf.reshape(tf.norm(y_true) * tf.norm(combined_training_df_32, axis=1), [-1, 1])\n",
        "\n",
        "  max_cos_sim_pred = tf.math.argmax(cos_sim_pred)\n",
        "  max_cos_sim_true = tf.math.argmax(cos_sim_true)\n",
        "\n",
        "  return tf.math.count_nonzero(tf.equal(max_cos_sim_pred, max_cos_sim_true))"
      ],
      "id": "953e0def-15fb-4bf6-8393-e2106f27ef2a"
    },
    {
      "cell_type": "code",
      "source": [
        "@tf.keras.saving.register_keras_serializable()\n",
        "def metric_choose_argument_pro_y_train(y_true, y_pred):\n",
        "  \"\"\"pro_metric\"\"\"\n",
        "  pro_training_df_32 = tf.cast(pd.concat([x_train_pro, y_train_pro, x_test_pro, y_test_pro]), dtype=tf.float32)\n",
        "\n",
        "  cos_sim_pred = tf.matmul(pro_training_df_32, y_pred, transpose_b=True) / tf.reshape(tf.norm(y_pred) * tf.norm(pro_training_df_32, axis=1), [-1, 1])\n",
        "  cos_sim_true = tf.matmul(pro_training_df_32, y_true, transpose_b=True) / tf.reshape(tf.norm(y_true) * tf.norm(pro_training_df_32, axis=1), [-1, 1])\n",
        "\n",
        "  max_cos_sim_pred = tf.math.argmax(cos_sim_pred)\n",
        "  max_cos_sim_true = tf.math.argmax(cos_sim_true)\n",
        "\n",
        "  return tf.math.count_nonzero(tf.equal(max_cos_sim_pred, max_cos_sim_true))"
      ],
      "metadata": {
        "id": "62Dhoj8BX5dM"
      },
      "id": "62Dhoj8BX5dM",
      "execution_count": null,
      "outputs": []
    },
    {
      "cell_type": "code",
      "source": [
        "@tf.keras.saving.register_keras_serializable()\n",
        "def metric_choose_argument_counter_y_train(y_true, y_pred):\n",
        "  \"\"\"counter_metric\"\"\"\n",
        "  counter_training_df_32 = tf.cast(pd.concat([x_train_counter, y_train_counter, x_test_counter, y_test_counter]), dtype=tf.float32)\n",
        "\n",
        "  cos_sim_pred = tf.matmul(counter_training_df_32, y_pred, transpose_b=True) / tf.reshape(tf.norm(y_pred) * tf.norm(counter_training_df_32, axis=1), [-1, 1])\n",
        "  cos_sim_true = tf.matmul(counter_training_df_32, y_true, transpose_b=True) / tf.reshape(tf.norm(y_true) * tf.norm(counter_training_df_32, axis=1), [-1, 1])\n",
        "\n",
        "  max_cos_sim_pred = tf.math.argmax(cos_sim_pred)\n",
        "  max_cos_sim_true = tf.math.argmax(cos_sim_true)\n",
        "\n",
        "  return tf.math.count_nonzero(tf.equal(max_cos_sim_pred, max_cos_sim_true))"
      ],
      "metadata": {
        "id": "bH4Qhj22X_-7"
      },
      "id": "bH4Qhj22X_-7",
      "execution_count": null,
      "outputs": []
    },
    {
      "cell_type": "markdown",
      "metadata": {
        "id": "2cf3ede1-7c60-45d4-ae84-c2a525b39fc7"
      },
      "source": [
        "### Combined Training"
      ],
      "id": "2cf3ede1-7c60-45d4-ae84-c2a525b39fc7"
    },
    {
      "cell_type": "code",
      "execution_count": null,
      "metadata": {
        "id": "e8d36670-a5cc-4e7e-bcbc-6f53eb5d5fe6"
      },
      "outputs": [],
      "source": [
        "# combined Model\n",
        "combined_autoencoder_model = tf.keras.models.clone_model(autoencoder_model)\n",
        "combined_autoencoder_model.compile(\n",
        "  optimizer=tf.keras.optimizers.Adam(learning_rate=1e-3),\n",
        "  loss=\"cosine_similarity\",\n",
        "  metrics=[metric_choose_argument_combined_y_train]\n",
        ")"
      ],
      "id": "e8d36670-a5cc-4e7e-bcbc-6f53eb5d5fe6"
    },
    {
      "cell_type": "code",
      "execution_count": null,
      "metadata": {
        "id": "ab4f9337-5f8e-48ea-995d-444f82e27dd2",
        "scrolled": true,
        "colab": {
          "base_uri": "https://localhost:8080/"
        },
        "outputId": "8e8c4883-8bf0-4e55-8d67-2239cdb7bc15"
      },
      "outputs": [
        {
          "output_type": "stream",
          "name": "stdout",
          "text": [
            "Epoch 1/100\n",
            "493/505 [============================>.] - ETA: 0s - loss: -0.7825 - metric_choose_argument_combined_y_train: 0.0122\n",
            "Epoch 1: saving model to combined_autoencoder_weights.keras\n",
            "505/505 [==============================] - 7s 4ms/step - loss: -0.7831 - metric_choose_argument_combined_y_train: 0.0139 - val_loss: -0.8049 - val_metric_choose_argument_combined_y_train: 0.0479\n",
            "Epoch 2/100\n",
            "496/505 [============================>.] - ETA: 0s - loss: -0.8274 - metric_choose_argument_combined_y_train: 0.2117\n",
            "Epoch 2: saving model to combined_autoencoder_weights.keras\n",
            "505/505 [==============================] - 2s 4ms/step - loss: -0.8274 - metric_choose_argument_combined_y_train: 0.2139 - val_loss: -0.8212 - val_metric_choose_argument_combined_y_train: 0.1543\n",
            "Epoch 3/100\n",
            "492/505 [============================>.] - ETA: 0s - loss: -0.8584 - metric_choose_argument_combined_y_train: 0.4736\n",
            "Epoch 3: saving model to combined_autoencoder_weights.keras\n",
            "505/505 [==============================] - 2s 4ms/step - loss: -0.8580 - metric_choose_argument_combined_y_train: 0.4733 - val_loss: -0.8316 - val_metric_choose_argument_combined_y_train: 0.2553\n",
            "Epoch 4/100\n",
            "491/505 [============================>.] - ETA: 0s - loss: -0.8819 - metric_choose_argument_combined_y_train: 0.6640\n",
            "Epoch 4: saving model to combined_autoencoder_weights.keras\n",
            "505/505 [==============================] - 2s 4ms/step - loss: -0.8824 - metric_choose_argument_combined_y_train: 0.6673 - val_loss: -0.8392 - val_metric_choose_argument_combined_y_train: 0.3245\n",
            "Epoch 5/100\n",
            "505/505 [==============================] - ETA: 0s - loss: -0.9037 - metric_choose_argument_combined_y_train: 0.7564\n",
            "Epoch 5: saving model to combined_autoencoder_weights.keras\n",
            "505/505 [==============================] - 2s 5ms/step - loss: -0.9037 - metric_choose_argument_combined_y_train: 0.7564 - val_loss: -0.8415 - val_metric_choose_argument_combined_y_train: 0.3245\n",
            "Epoch 6/100\n",
            "493/505 [============================>.] - ETA: 0s - loss: -0.9192 - metric_choose_argument_combined_y_train: 0.8134\n",
            "Epoch 6: saving model to combined_autoencoder_weights.keras\n",
            "505/505 [==============================] - 2s 4ms/step - loss: -0.9192 - metric_choose_argument_combined_y_train: 0.8158 - val_loss: -0.8431 - val_metric_choose_argument_combined_y_train: 0.3245\n",
            "Epoch 7/100\n",
            "494/505 [============================>.] - ETA: 0s - loss: -0.9314 - metric_choose_argument_combined_y_train: 0.8502\n",
            "Epoch 7: saving model to combined_autoencoder_weights.keras\n",
            "505/505 [==============================] - 2s 4ms/step - loss: -0.9312 - metric_choose_argument_combined_y_train: 0.8475 - val_loss: -0.8482 - val_metric_choose_argument_combined_y_train: 0.3138\n",
            "Epoch 8/100\n",
            "492/505 [============================>.] - ETA: 0s - loss: -0.9399 - metric_choose_argument_combined_y_train: 0.8516\n",
            "Epoch 8: saving model to combined_autoencoder_weights.keras\n",
            "505/505 [==============================] - 2s 4ms/step - loss: -0.9397 - metric_choose_argument_combined_y_train: 0.8554 - val_loss: -0.8471 - val_metric_choose_argument_combined_y_train: 0.3191\n",
            "Epoch 9/100\n",
            "487/505 [===========================>..] - ETA: 0s - loss: -0.9472 - metric_choose_argument_combined_y_train: 0.8768\n",
            "Epoch 9: saving model to combined_autoencoder_weights.keras\n",
            "505/505 [==============================] - 2s 4ms/step - loss: -0.9468 - metric_choose_argument_combined_y_train: 0.8713 - val_loss: -0.8494 - val_metric_choose_argument_combined_y_train: 0.3191\n",
            "Epoch 10/100\n",
            "498/505 [============================>.] - ETA: 0s - loss: -0.9523 - metric_choose_argument_combined_y_train: 0.8594\n",
            "Epoch 10: saving model to combined_autoencoder_weights.keras\n",
            "505/505 [==============================] - 2s 4ms/step - loss: -0.9521 - metric_choose_argument_combined_y_train: 0.8594 - val_loss: -0.8484 - val_metric_choose_argument_combined_y_train: 0.3138\n",
            "Epoch 11/100\n",
            "489/505 [============================>.] - ETA: 0s - loss: -0.9569 - metric_choose_argument_combined_y_train: 0.8793\n",
            "Epoch 11: saving model to combined_autoencoder_weights.keras\n",
            "505/505 [==============================] - 2s 5ms/step - loss: -0.9568 - metric_choose_argument_combined_y_train: 0.8812 - val_loss: -0.8479 - val_metric_choose_argument_combined_y_train: 0.3298\n",
            "Epoch 12/100\n",
            "495/505 [============================>.] - ETA: 0s - loss: -0.9605 - metric_choose_argument_combined_y_train: 0.8768\n",
            "Epoch 12: saving model to combined_autoencoder_weights.keras\n",
            "505/505 [==============================] - 2s 4ms/step - loss: -0.9605 - metric_choose_argument_combined_y_train: 0.8792 - val_loss: -0.8486 - val_metric_choose_argument_combined_y_train: 0.3457\n",
            "Epoch 13/100\n",
            "496/505 [============================>.] - ETA: 0s - loss: -0.9634 - metric_choose_argument_combined_y_train: 0.8790\n",
            "Epoch 13: saving model to combined_autoencoder_weights.keras\n",
            "505/505 [==============================] - 2s 4ms/step - loss: -0.9633 - metric_choose_argument_combined_y_train: 0.8812 - val_loss: -0.8505 - val_metric_choose_argument_combined_y_train: 0.3245\n",
            "Epoch 14/100\n",
            "489/505 [============================>.] - ETA: 0s - loss: -0.9666 - metric_choose_argument_combined_y_train: 0.8896\n",
            "Epoch 14: saving model to combined_autoencoder_weights.keras\n",
            "505/505 [==============================] - 2s 4ms/step - loss: -0.9661 - metric_choose_argument_combined_y_train: 0.8911 - val_loss: -0.8487 - val_metric_choose_argument_combined_y_train: 0.3351\n",
            "Epoch 15/100\n",
            "493/505 [============================>.] - ETA: 0s - loss: -0.9683 - metric_choose_argument_combined_y_train: 0.8945\n",
            "Epoch 15: saving model to combined_autoencoder_weights.keras\n",
            "505/505 [==============================] - 2s 4ms/step - loss: -0.9682 - metric_choose_argument_combined_y_train: 0.8931 - val_loss: -0.8488 - val_metric_choose_argument_combined_y_train: 0.3298\n",
            "Epoch 16/100\n",
            "496/505 [============================>.] - ETA: 0s - loss: -0.9701 - metric_choose_argument_combined_y_train: 0.8931\n",
            "Epoch 16: saving model to combined_autoencoder_weights.keras\n",
            "505/505 [==============================] - 2s 4ms/step - loss: -0.9700 - metric_choose_argument_combined_y_train: 0.8950 - val_loss: -0.8490 - val_metric_choose_argument_combined_y_train: 0.3564\n",
            "Epoch 17/100\n",
            "489/505 [============================>.] - ETA: 0s - loss: -0.9717 - metric_choose_argument_combined_y_train: 0.9039\n",
            "Epoch 17: saving model to combined_autoencoder_weights.keras\n",
            "505/505 [==============================] - 3s 5ms/step - loss: -0.9716 - metric_choose_argument_combined_y_train: 0.9030 - val_loss: -0.8473 - val_metric_choose_argument_combined_y_train: 0.3351\n",
            "Epoch 18/100\n",
            "494/505 [============================>.] - ETA: 0s - loss: -0.9727 - metric_choose_argument_combined_y_train: 0.8866\n",
            "Epoch 18: saving model to combined_autoencoder_weights.keras\n",
            "505/505 [==============================] - 2s 4ms/step - loss: -0.9728 - metric_choose_argument_combined_y_train: 0.8871 - val_loss: -0.8481 - val_metric_choose_argument_combined_y_train: 0.3245\n",
            "Epoch 19/100\n",
            "494/505 [============================>.] - ETA: 0s - loss: -0.9742 - metric_choose_argument_combined_y_train: 0.8907\n",
            "Epoch 19: saving model to combined_autoencoder_weights.keras\n",
            "505/505 [==============================] - 2s 4ms/step - loss: -0.9741 - metric_choose_argument_combined_y_train: 0.8891 - val_loss: -0.8478 - val_metric_choose_argument_combined_y_train: 0.3351\n",
            "Epoch 20/100\n",
            "500/505 [============================>.] - ETA: 0s - loss: -0.9755 - metric_choose_argument_combined_y_train: 0.9100\n",
            "Epoch 20: saving model to combined_autoencoder_weights.keras\n",
            "505/505 [==============================] - 2s 4ms/step - loss: -0.9754 - metric_choose_argument_combined_y_train: 0.9089 - val_loss: -0.8492 - val_metric_choose_argument_combined_y_train: 0.3404\n",
            "Epoch 21/100\n",
            "498/505 [============================>.] - ETA: 0s - loss: -0.9763 - metric_choose_argument_combined_y_train: 0.9056\n",
            "Epoch 21: saving model to combined_autoencoder_weights.keras\n",
            "505/505 [==============================] - 2s 4ms/step - loss: -0.9763 - metric_choose_argument_combined_y_train: 0.9050 - val_loss: -0.8480 - val_metric_choose_argument_combined_y_train: 0.3191\n",
            "Epoch 22/100\n",
            "502/505 [============================>.] - ETA: 0s - loss: -0.9774 - metric_choose_argument_combined_y_train: 0.9104\n",
            "Epoch 22: saving model to combined_autoencoder_weights.keras\n",
            "505/505 [==============================] - 3s 5ms/step - loss: -0.9774 - metric_choose_argument_combined_y_train: 0.9109 - val_loss: -0.8484 - val_metric_choose_argument_combined_y_train: 0.3351\n",
            "Epoch 23/100\n",
            "494/505 [============================>.] - ETA: 0s - loss: -0.9779 - metric_choose_argument_combined_y_train: 0.9069\n",
            "Epoch 23: saving model to combined_autoencoder_weights.keras\n",
            "505/505 [==============================] - 2s 4ms/step - loss: -0.9779 - metric_choose_argument_combined_y_train: 0.9069 - val_loss: -0.8477 - val_metric_choose_argument_combined_y_train: 0.3351\n",
            "Epoch 24/100\n",
            "489/505 [============================>.] - ETA: 0s - loss: -0.9793 - metric_choose_argument_combined_y_train: 0.9080\n",
            "Epoch 24: saving model to combined_autoencoder_weights.keras\n",
            "505/505 [==============================] - 2s 4ms/step - loss: -0.9792 - metric_choose_argument_combined_y_train: 0.9109 - val_loss: -0.8460 - val_metric_choose_argument_combined_y_train: 0.3351\n",
            "Epoch 25/100\n",
            "501/505 [============================>.] - ETA: 0s - loss: -0.9794 - metric_choose_argument_combined_y_train: 0.9162\n",
            "Epoch 25: saving model to combined_autoencoder_weights.keras\n",
            "505/505 [==============================] - 2s 4ms/step - loss: -0.9794 - metric_choose_argument_combined_y_train: 0.9149 - val_loss: -0.8469 - val_metric_choose_argument_combined_y_train: 0.3511\n",
            "Epoch 26/100\n",
            "505/505 [==============================] - ETA: 0s - loss: -0.9802 - metric_choose_argument_combined_y_train: 0.9149\n",
            "Epoch 26: saving model to combined_autoencoder_weights.keras\n",
            "505/505 [==============================] - 2s 4ms/step - loss: -0.9802 - metric_choose_argument_combined_y_train: 0.9149 - val_loss: -0.8469 - val_metric_choose_argument_combined_y_train: 0.3245\n",
            "Epoch 27/100\n",
            "504/505 [============================>.] - ETA: 0s - loss: -0.9810 - metric_choose_argument_combined_y_train: 0.9226\n",
            "Epoch 27: saving model to combined_autoencoder_weights.keras\n",
            "505/505 [==============================] - 2s 4ms/step - loss: -0.9810 - metric_choose_argument_combined_y_train: 0.9208 - val_loss: -0.8496 - val_metric_choose_argument_combined_y_train: 0.3298\n",
            "Epoch 28/100\n",
            "495/505 [============================>.] - ETA: 0s - loss: -0.9815 - metric_choose_argument_combined_y_train: 0.9051\n",
            "Epoch 28: saving model to combined_autoencoder_weights.keras\n",
            "505/505 [==============================] - 3s 5ms/step - loss: -0.9815 - metric_choose_argument_combined_y_train: 0.9069 - val_loss: -0.8479 - val_metric_choose_argument_combined_y_train: 0.3298\n",
            "Epoch 29/100\n",
            "502/505 [============================>.] - ETA: 0s - loss: -0.9818 - metric_choose_argument_combined_y_train: 0.9183\n",
            "Epoch 29: saving model to combined_autoencoder_weights.keras\n",
            "505/505 [==============================] - 2s 4ms/step - loss: -0.9819 - metric_choose_argument_combined_y_train: 0.9188 - val_loss: -0.8482 - val_metric_choose_argument_combined_y_train: 0.3245\n",
            "Epoch 30/100\n",
            "488/505 [===========================>..] - ETA: 0s - loss: -0.9828 - metric_choose_argument_combined_y_train: 0.9303\n",
            "Epoch 30: saving model to combined_autoencoder_weights.keras\n",
            "505/505 [==============================] - 2s 4ms/step - loss: -0.9825 - metric_choose_argument_combined_y_train: 0.9248 - val_loss: -0.8471 - val_metric_choose_argument_combined_y_train: 0.3245\n",
            "Epoch 31/100\n",
            "489/505 [============================>.] - ETA: 0s - loss: -0.9832 - metric_choose_argument_combined_y_train: 0.9264\n",
            "Epoch 31: saving model to combined_autoencoder_weights.keras\n",
            "505/505 [==============================] - 2s 4ms/step - loss: -0.9830 - metric_choose_argument_combined_y_train: 0.9248 - val_loss: -0.8478 - val_metric_choose_argument_combined_y_train: 0.3298\n",
            "Epoch 32/100\n",
            "498/505 [============================>.] - ETA: 0s - loss: -0.9833 - metric_choose_argument_combined_y_train: 0.9297\n",
            "Epoch 32: saving model to combined_autoencoder_weights.keras\n",
            "505/505 [==============================] - 3s 7ms/step - loss: -0.9834 - metric_choose_argument_combined_y_train: 0.9287 - val_loss: -0.8464 - val_metric_choose_argument_combined_y_train: 0.3404\n",
            "Epoch 33/100\n",
            "501/505 [============================>.] - ETA: 0s - loss: -0.9840 - metric_choose_argument_combined_y_train: 0.9321\n",
            "Epoch 33: saving model to combined_autoencoder_weights.keras\n",
            "505/505 [==============================] - 3s 6ms/step - loss: -0.9840 - metric_choose_argument_combined_y_train: 0.9327 - val_loss: -0.8472 - val_metric_choose_argument_combined_y_train: 0.3457\n",
            "Epoch 34/100\n",
            "496/505 [============================>.] - ETA: 0s - loss: -0.9842 - metric_choose_argument_combined_y_train: 0.9355\n",
            "Epoch 34: saving model to combined_autoencoder_weights.keras\n",
            "505/505 [==============================] - 2s 4ms/step - loss: -0.9843 - metric_choose_argument_combined_y_train: 0.9366 - val_loss: -0.8475 - val_metric_choose_argument_combined_y_train: 0.3191\n",
            "Epoch 35/100\n",
            "496/505 [============================>.] - ETA: 0s - loss: -0.9845 - metric_choose_argument_combined_y_train: 0.9274\n",
            "Epoch 35: saving model to combined_autoencoder_weights.keras\n",
            "505/505 [==============================] - 2s 4ms/step - loss: -0.9845 - metric_choose_argument_combined_y_train: 0.9287 - val_loss: -0.8468 - val_metric_choose_argument_combined_y_train: 0.3404\n",
            "Epoch 36/100\n",
            "502/505 [============================>.] - ETA: 0s - loss: -0.9849 - metric_choose_argument_combined_y_train: 0.9283\n",
            "Epoch 36: saving model to combined_autoencoder_weights.keras\n",
            "505/505 [==============================] - 2s 4ms/step - loss: -0.9849 - metric_choose_argument_combined_y_train: 0.9287 - val_loss: -0.8467 - val_metric_choose_argument_combined_y_train: 0.3404\n",
            "Epoch 37/100\n",
            "492/505 [============================>.] - ETA: 0s - loss: -0.9857 - metric_choose_argument_combined_y_train: 0.9370\n",
            "Epoch 37: saving model to combined_autoencoder_weights.keras\n",
            "505/505 [==============================] - 2s 4ms/step - loss: -0.9856 - metric_choose_argument_combined_y_train: 0.9366 - val_loss: -0.8491 - val_metric_choose_argument_combined_y_train: 0.3245\n",
            "Epoch 38/100\n",
            "493/505 [============================>.] - ETA: 0s - loss: -0.9857 - metric_choose_argument_combined_y_train: 0.9473\n",
            "Epoch 38: saving model to combined_autoencoder_weights.keras\n",
            "505/505 [==============================] - 2s 5ms/step - loss: -0.9857 - metric_choose_argument_combined_y_train: 0.9485 - val_loss: -0.8453 - val_metric_choose_argument_combined_y_train: 0.3245\n",
            "Epoch 39/100\n",
            "493/505 [============================>.] - ETA: 0s - loss: -0.9860 - metric_choose_argument_combined_y_train: 0.9391\n",
            "Epoch 39: saving model to combined_autoencoder_weights.keras\n",
            "505/505 [==============================] - 2s 5ms/step - loss: -0.9860 - metric_choose_argument_combined_y_train: 0.9406 - val_loss: -0.8487 - val_metric_choose_argument_combined_y_train: 0.3404\n",
            "Epoch 40/100\n",
            "498/505 [============================>.] - ETA: 0s - loss: -0.9862 - metric_choose_argument_combined_y_train: 0.9438\n",
            "Epoch 40: saving model to combined_autoencoder_weights.keras\n",
            "505/505 [==============================] - 2s 4ms/step - loss: -0.9862 - metric_choose_argument_combined_y_train: 0.9446 - val_loss: -0.8459 - val_metric_choose_argument_combined_y_train: 0.3351\n",
            "Epoch 41/100\n",
            "492/505 [============================>.] - ETA: 0s - loss: -0.9862 - metric_choose_argument_combined_y_train: 0.9411\n",
            "Epoch 41: saving model to combined_autoencoder_weights.keras\n",
            "505/505 [==============================] - 2s 4ms/step - loss: -0.9862 - metric_choose_argument_combined_y_train: 0.9426 - val_loss: -0.8468 - val_metric_choose_argument_combined_y_train: 0.3404\n",
            "Epoch 42/100\n",
            "495/505 [============================>.] - ETA: 0s - loss: -0.9874 - metric_choose_argument_combined_y_train: 0.9495\n",
            "Epoch 42: saving model to combined_autoencoder_weights.keras\n",
            "505/505 [==============================] - 2s 4ms/step - loss: -0.9873 - metric_choose_argument_combined_y_train: 0.9465 - val_loss: -0.8474 - val_metric_choose_argument_combined_y_train: 0.3404\n",
            "Epoch 43/100\n",
            "502/505 [============================>.] - ETA: 0s - loss: -0.9873 - metric_choose_argument_combined_y_train: 0.9522\n",
            "Epoch 43: saving model to combined_autoencoder_weights.keras\n",
            "505/505 [==============================] - 2s 4ms/step - loss: -0.9872 - metric_choose_argument_combined_y_train: 0.9525 - val_loss: -0.8475 - val_metric_choose_argument_combined_y_train: 0.3404\n",
            "Epoch 44/100\n",
            "500/505 [============================>.] - ETA: 0s - loss: -0.9874 - metric_choose_argument_combined_y_train: 0.9540\n",
            "Epoch 44: saving model to combined_autoencoder_weights.keras\n",
            "505/505 [==============================] - 3s 5ms/step - loss: -0.9872 - metric_choose_argument_combined_y_train: 0.9505 - val_loss: -0.8486 - val_metric_choose_argument_combined_y_train: 0.3457\n",
            "Epoch 45/100\n",
            "500/505 [============================>.] - ETA: 0s - loss: -0.9873 - metric_choose_argument_combined_y_train: 0.9460\n",
            "Epoch 45: saving model to combined_autoencoder_weights.keras\n",
            "505/505 [==============================] - 3s 5ms/step - loss: -0.9872 - metric_choose_argument_combined_y_train: 0.9446 - val_loss: -0.8465 - val_metric_choose_argument_combined_y_train: 0.3457\n",
            "Epoch 46/100\n",
            "499/505 [============================>.] - ETA: 0s - loss: -0.9876 - metric_choose_argument_combined_y_train: 0.9399\n",
            "Epoch 46: saving model to combined_autoencoder_weights.keras\n",
            "505/505 [==============================] - 2s 4ms/step - loss: -0.9877 - metric_choose_argument_combined_y_train: 0.9406 - val_loss: -0.8494 - val_metric_choose_argument_combined_y_train: 0.3404\n",
            "Epoch 47/100\n",
            "504/505 [============================>.] - ETA: 0s - loss: -0.9881 - metric_choose_argument_combined_y_train: 0.9544\n",
            "Epoch 47: saving model to combined_autoencoder_weights.keras\n",
            "505/505 [==============================] - 2s 4ms/step - loss: -0.9881 - metric_choose_argument_combined_y_train: 0.9545 - val_loss: -0.8458 - val_metric_choose_argument_combined_y_train: 0.3404\n",
            "Epoch 48/100\n",
            "488/505 [===========================>..] - ETA: 0s - loss: -0.9884 - metric_choose_argument_combined_y_train: 0.9488\n",
            "Epoch 48: saving model to combined_autoencoder_weights.keras\n",
            "505/505 [==============================] - 2s 4ms/step - loss: -0.9883 - metric_choose_argument_combined_y_train: 0.9505 - val_loss: -0.8482 - val_metric_choose_argument_combined_y_train: 0.3457\n",
            "Epoch 49/100\n",
            "489/505 [============================>.] - ETA: 0s - loss: -0.9886 - metric_choose_argument_combined_y_train: 0.9611\n",
            "Epoch 49: saving model to combined_autoencoder_weights.keras\n",
            "505/505 [==============================] - 2s 4ms/step - loss: -0.9885 - metric_choose_argument_combined_y_train: 0.9604 - val_loss: -0.8474 - val_metric_choose_argument_combined_y_train: 0.3564\n",
            "Epoch 50/100\n",
            "498/505 [============================>.] - ETA: 0s - loss: -0.9886 - metric_choose_argument_combined_y_train: 0.9538\n",
            "Epoch 50: saving model to combined_autoencoder_weights.keras\n",
            "505/505 [==============================] - 2s 5ms/step - loss: -0.9886 - metric_choose_argument_combined_y_train: 0.9545 - val_loss: -0.8461 - val_metric_choose_argument_combined_y_train: 0.3351\n",
            "Epoch 51/100\n",
            "504/505 [============================>.] - ETA: 0s - loss: -0.9889 - metric_choose_argument_combined_y_train: 0.9544\n",
            "Epoch 51: saving model to combined_autoencoder_weights.keras\n",
            "505/505 [==============================] - 2s 4ms/step - loss: -0.9889 - metric_choose_argument_combined_y_train: 0.9545 - val_loss: -0.8452 - val_metric_choose_argument_combined_y_train: 0.3404\n",
            "Epoch 52/100\n",
            "497/505 [============================>.] - ETA: 0s - loss: -0.9890 - metric_choose_argument_combined_y_train: 0.9437\n",
            "Epoch 52: saving model to combined_autoencoder_weights.keras\n",
            "505/505 [==============================] - 2s 4ms/step - loss: -0.9890 - metric_choose_argument_combined_y_train: 0.9446 - val_loss: -0.8480 - val_metric_choose_argument_combined_y_train: 0.3457\n",
            "Epoch 53/100\n",
            "502/505 [============================>.] - ETA: 0s - loss: -0.9891 - metric_choose_argument_combined_y_train: 0.9562\n",
            "Epoch 53: saving model to combined_autoencoder_weights.keras\n",
            "505/505 [==============================] - 2s 4ms/step - loss: -0.9891 - metric_choose_argument_combined_y_train: 0.9564 - val_loss: -0.8468 - val_metric_choose_argument_combined_y_train: 0.3404\n",
            "Epoch 54/100\n",
            "500/505 [============================>.] - ETA: 0s - loss: -0.9894 - metric_choose_argument_combined_y_train: 0.9560\n",
            "Epoch 54: saving model to combined_autoencoder_weights.keras\n",
            "505/505 [==============================] - 2s 4ms/step - loss: -0.9894 - metric_choose_argument_combined_y_train: 0.9564 - val_loss: -0.8465 - val_metric_choose_argument_combined_y_train: 0.3457\n",
            "Epoch 55/100\n",
            "505/505 [==============================] - ETA: 0s - loss: -0.9894 - metric_choose_argument_combined_y_train: 0.9545\n",
            "Epoch 55: saving model to combined_autoencoder_weights.keras\n",
            "505/505 [==============================] - 2s 5ms/step - loss: -0.9894 - metric_choose_argument_combined_y_train: 0.9545 - val_loss: -0.8466 - val_metric_choose_argument_combined_y_train: 0.3511\n",
            "Epoch 56/100\n",
            "494/505 [============================>.] - ETA: 0s - loss: -0.9898 - metric_choose_argument_combined_y_train: 0.9615\n",
            "Epoch 56: saving model to combined_autoencoder_weights.keras\n",
            "505/505 [==============================] - 3s 5ms/step - loss: -0.9898 - metric_choose_argument_combined_y_train: 0.9624 - val_loss: -0.8479 - val_metric_choose_argument_combined_y_train: 0.3404\n",
            "Epoch 57/100\n",
            "499/505 [============================>.] - ETA: 0s - loss: -0.9902 - metric_choose_argument_combined_y_train: 0.9619\n",
            "Epoch 57: saving model to combined_autoencoder_weights.keras\n",
            "505/505 [==============================] - 2s 4ms/step - loss: -0.9900 - metric_choose_argument_combined_y_train: 0.9604 - val_loss: -0.8460 - val_metric_choose_argument_combined_y_train: 0.3351\n",
            "Epoch 58/100\n",
            "497/505 [============================>.] - ETA: 0s - loss: -0.9903 - metric_choose_argument_combined_y_train: 0.9658\n",
            "Epoch 58: saving model to combined_autoencoder_weights.keras\n",
            "505/505 [==============================] - 2s 4ms/step - loss: -0.9903 - metric_choose_argument_combined_y_train: 0.9663 - val_loss: -0.8469 - val_metric_choose_argument_combined_y_train: 0.3457\n",
            "Epoch 59/100\n",
            "500/505 [============================>.] - ETA: 0s - loss: -0.9902 - metric_choose_argument_combined_y_train: 0.9660\n",
            "Epoch 59: saving model to combined_autoencoder_weights.keras\n",
            "505/505 [==============================] - 2s 4ms/step - loss: -0.9902 - metric_choose_argument_combined_y_train: 0.9663 - val_loss: -0.8455 - val_metric_choose_argument_combined_y_train: 0.3351\n",
            "Epoch 60/100\n",
            "497/505 [============================>.] - ETA: 0s - loss: -0.9902 - metric_choose_argument_combined_y_train: 0.9517\n",
            "Epoch 60: saving model to combined_autoencoder_weights.keras\n",
            "505/505 [==============================] - 2s 4ms/step - loss: -0.9902 - metric_choose_argument_combined_y_train: 0.9525 - val_loss: -0.8478 - val_metric_choose_argument_combined_y_train: 0.3404\n",
            "Epoch 61/100\n",
            "500/505 [============================>.] - ETA: 0s - loss: -0.9906 - metric_choose_argument_combined_y_train: 0.9640\n",
            "Epoch 61: saving model to combined_autoencoder_weights.keras\n",
            "505/505 [==============================] - 2s 5ms/step - loss: -0.9906 - metric_choose_argument_combined_y_train: 0.9624 - val_loss: -0.8446 - val_metric_choose_argument_combined_y_train: 0.3404\n",
            "Epoch 62/100\n",
            "499/505 [============================>.] - ETA: 0s - loss: -0.9907 - metric_choose_argument_combined_y_train: 0.9539\n",
            "Epoch 62: saving model to combined_autoencoder_weights.keras\n",
            "505/505 [==============================] - 2s 5ms/step - loss: -0.9907 - metric_choose_argument_combined_y_train: 0.9525 - val_loss: -0.8465 - val_metric_choose_argument_combined_y_train: 0.3457\n",
            "Epoch 63/100\n",
            "504/505 [============================>.] - ETA: 0s - loss: -0.9908 - metric_choose_argument_combined_y_train: 0.9663\n",
            "Epoch 63: saving model to combined_autoencoder_weights.keras\n",
            "505/505 [==============================] - 2s 4ms/step - loss: -0.9908 - metric_choose_argument_combined_y_train: 0.9663 - val_loss: -0.8470 - val_metric_choose_argument_combined_y_train: 0.3298\n",
            "Epoch 64/100\n",
            "491/505 [============================>.] - ETA: 0s - loss: -0.9908 - metric_choose_argument_combined_y_train: 0.9511\n",
            "Epoch 64: saving model to combined_autoencoder_weights.keras\n",
            "505/505 [==============================] - 2s 4ms/step - loss: -0.9909 - metric_choose_argument_combined_y_train: 0.9505 - val_loss: -0.8465 - val_metric_choose_argument_combined_y_train: 0.3404\n",
            "Epoch 65/100\n",
            "500/505 [============================>.] - ETA: 0s - loss: -0.9913 - metric_choose_argument_combined_y_train: 0.9720\n",
            "Epoch 65: saving model to combined_autoencoder_weights.keras\n",
            "505/505 [==============================] - 2s 4ms/step - loss: -0.9913 - metric_choose_argument_combined_y_train: 0.9703 - val_loss: -0.8462 - val_metric_choose_argument_combined_y_train: 0.3457\n",
            "Epoch 66/100\n",
            "499/505 [============================>.] - ETA: 0s - loss: -0.9912 - metric_choose_argument_combined_y_train: 0.9679\n",
            "Epoch 66: saving model to combined_autoencoder_weights.keras\n",
            "505/505 [==============================] - 2s 4ms/step - loss: -0.9912 - metric_choose_argument_combined_y_train: 0.9683 - val_loss: -0.8461 - val_metric_choose_argument_combined_y_train: 0.3457\n",
            "Epoch 67/100\n",
            "495/505 [============================>.] - ETA: 0s - loss: -0.9914 - metric_choose_argument_combined_y_train: 0.9657\n",
            "Epoch 67: saving model to combined_autoencoder_weights.keras\n",
            "505/505 [==============================] - 3s 5ms/step - loss: -0.9913 - metric_choose_argument_combined_y_train: 0.9644 - val_loss: -0.8449 - val_metric_choose_argument_combined_y_train: 0.3457\n",
            "Epoch 68/100\n",
            "496/505 [============================>.] - ETA: 0s - loss: -0.9915 - metric_choose_argument_combined_y_train: 0.9657\n",
            "Epoch 68: saving model to combined_autoencoder_weights.keras\n",
            "505/505 [==============================] - 2s 4ms/step - loss: -0.9916 - metric_choose_argument_combined_y_train: 0.9663 - val_loss: -0.8462 - val_metric_choose_argument_combined_y_train: 0.3351\n",
            "Epoch 69/100\n",
            "496/505 [============================>.] - ETA: 0s - loss: -0.9919 - metric_choose_argument_combined_y_train: 0.9718\n",
            "Epoch 69: saving model to combined_autoencoder_weights.keras\n",
            "505/505 [==============================] - 2s 4ms/step - loss: -0.9916 - metric_choose_argument_combined_y_train: 0.9703 - val_loss: -0.8442 - val_metric_choose_argument_combined_y_train: 0.3404\n",
            "Epoch 70/100\n",
            "495/505 [============================>.] - ETA: 0s - loss: -0.9918 - metric_choose_argument_combined_y_train: 0.9616\n",
            "Epoch 70: saving model to combined_autoencoder_weights.keras\n",
            "505/505 [==============================] - 2s 4ms/step - loss: -0.9917 - metric_choose_argument_combined_y_train: 0.9604 - val_loss: -0.8464 - val_metric_choose_argument_combined_y_train: 0.3564\n",
            "Epoch 71/100\n",
            "505/505 [==============================] - ETA: 0s - loss: -0.9918 - metric_choose_argument_combined_y_train: 0.9703\n",
            "Epoch 71: saving model to combined_autoencoder_weights.keras\n",
            "505/505 [==============================] - 2s 4ms/step - loss: -0.9918 - metric_choose_argument_combined_y_train: 0.9703 - val_loss: -0.8461 - val_metric_choose_argument_combined_y_train: 0.3457\n",
            "Epoch 72/100\n",
            "502/505 [============================>.] - ETA: 0s - loss: -0.9917 - metric_choose_argument_combined_y_train: 0.9741\n",
            "Epoch 72: saving model to combined_autoencoder_weights.keras\n",
            "505/505 [==============================] - 2s 4ms/step - loss: -0.9917 - metric_choose_argument_combined_y_train: 0.9743 - val_loss: -0.8459 - val_metric_choose_argument_combined_y_train: 0.3457\n",
            "Epoch 73/100\n",
            "504/505 [============================>.] - ETA: 0s - loss: -0.9920 - metric_choose_argument_combined_y_train: 0.9683\n",
            "Epoch 73: saving model to combined_autoencoder_weights.keras\n",
            "505/505 [==============================] - 3s 6ms/step - loss: -0.9920 - metric_choose_argument_combined_y_train: 0.9683 - val_loss: -0.8452 - val_metric_choose_argument_combined_y_train: 0.3511\n",
            "Epoch 74/100\n",
            "500/505 [============================>.] - ETA: 0s - loss: -0.9921 - metric_choose_argument_combined_y_train: 0.9760\n",
            "Epoch 74: saving model to combined_autoencoder_weights.keras\n",
            "505/505 [==============================] - 2s 4ms/step - loss: -0.9921 - metric_choose_argument_combined_y_train: 0.9762 - val_loss: -0.8424 - val_metric_choose_argument_combined_y_train: 0.3298\n",
            "Epoch 75/100\n",
            "503/505 [============================>.] - ETA: 0s - loss: -0.9922 - metric_choose_argument_combined_y_train: 0.9761\n",
            "Epoch 75: saving model to combined_autoencoder_weights.keras\n",
            "505/505 [==============================] - 2s 4ms/step - loss: -0.9922 - metric_choose_argument_combined_y_train: 0.9762 - val_loss: -0.8446 - val_metric_choose_argument_combined_y_train: 0.3511\n",
            "Epoch 76/100\n",
            "494/505 [============================>.] - ETA: 0s - loss: -0.9924 - metric_choose_argument_combined_y_train: 0.9737\n",
            "Epoch 76: saving model to combined_autoencoder_weights.keras\n",
            "505/505 [==============================] - 2s 4ms/step - loss: -0.9924 - metric_choose_argument_combined_y_train: 0.9723 - val_loss: -0.8450 - val_metric_choose_argument_combined_y_train: 0.3298\n",
            "Epoch 77/100\n",
            "489/505 [============================>.] - ETA: 0s - loss: -0.9927 - metric_choose_argument_combined_y_train: 0.9755\n",
            "Epoch 77: saving model to combined_autoencoder_weights.keras\n",
            "505/505 [==============================] - 2s 4ms/step - loss: -0.9926 - metric_choose_argument_combined_y_train: 0.9743 - val_loss: -0.8432 - val_metric_choose_argument_combined_y_train: 0.3404\n",
            "Epoch 78/100\n",
            "503/505 [============================>.] - ETA: 0s - loss: -0.9926 - metric_choose_argument_combined_y_train: 0.9761\n",
            "Epoch 78: saving model to combined_autoencoder_weights.keras\n",
            "505/505 [==============================] - 2s 5ms/step - loss: -0.9926 - metric_choose_argument_combined_y_train: 0.9762 - val_loss: -0.8455 - val_metric_choose_argument_combined_y_train: 0.3457\n",
            "Epoch 79/100\n",
            "489/505 [============================>.] - ETA: 0s - loss: -0.9925 - metric_choose_argument_combined_y_train: 0.9714\n",
            "Epoch 79: saving model to combined_autoencoder_weights.keras\n",
            "505/505 [==============================] - 2s 4ms/step - loss: -0.9925 - metric_choose_argument_combined_y_train: 0.9723 - val_loss: -0.8455 - val_metric_choose_argument_combined_y_train: 0.3404\n",
            "Epoch 80/100\n",
            "505/505 [==============================] - ETA: 0s - loss: -0.9928 - metric_choose_argument_combined_y_train: 0.9782\n",
            "Epoch 80: saving model to combined_autoencoder_weights.keras\n",
            "505/505 [==============================] - 2s 4ms/step - loss: -0.9928 - metric_choose_argument_combined_y_train: 0.9782 - val_loss: -0.8461 - val_metric_choose_argument_combined_y_train: 0.3511\n",
            "Epoch 81/100\n",
            "492/505 [============================>.] - ETA: 0s - loss: -0.9931 - metric_choose_argument_combined_y_train: 0.9776\n",
            "Epoch 81: saving model to combined_autoencoder_weights.keras\n",
            "505/505 [==============================] - 2s 4ms/step - loss: -0.9931 - metric_choose_argument_combined_y_train: 0.9782 - val_loss: -0.8447 - val_metric_choose_argument_combined_y_train: 0.3457\n",
            "Epoch 82/100\n",
            "488/505 [===========================>..] - ETA: 0s - loss: -0.9931 - metric_choose_argument_combined_y_train: 0.9795\n",
            "Epoch 82: saving model to combined_autoencoder_weights.keras\n",
            "505/505 [==============================] - 2s 4ms/step - loss: -0.9930 - metric_choose_argument_combined_y_train: 0.9762 - val_loss: -0.8445 - val_metric_choose_argument_combined_y_train: 0.3351\n",
            "Epoch 83/100\n",
            "494/505 [============================>.] - ETA: 0s - loss: -0.9929 - metric_choose_argument_combined_y_train: 0.9777\n",
            "Epoch 83: saving model to combined_autoencoder_weights.keras\n",
            "505/505 [==============================] - 2s 4ms/step - loss: -0.9928 - metric_choose_argument_combined_y_train: 0.9762 - val_loss: -0.8445 - val_metric_choose_argument_combined_y_train: 0.3564\n",
            "Epoch 84/100\n",
            "505/505 [==============================] - ETA: 0s - loss: -0.9930 - metric_choose_argument_combined_y_train: 0.9842\n",
            "Epoch 84: saving model to combined_autoencoder_weights.keras\n",
            "505/505 [==============================] - 2s 4ms/step - loss: -0.9930 - metric_choose_argument_combined_y_train: 0.9842 - val_loss: -0.8440 - val_metric_choose_argument_combined_y_train: 0.3457\n",
            "Epoch 85/100\n",
            "491/505 [============================>.] - ETA: 0s - loss: -0.9932 - metric_choose_argument_combined_y_train: 0.9735\n",
            "Epoch 85: saving model to combined_autoencoder_weights.keras\n",
            "505/505 [==============================] - 3s 5ms/step - loss: -0.9930 - metric_choose_argument_combined_y_train: 0.9743 - val_loss: -0.8459 - val_metric_choose_argument_combined_y_train: 0.3457\n",
            "Epoch 86/100\n",
            "504/505 [============================>.] - ETA: 0s - loss: -0.9933 - metric_choose_argument_combined_y_train: 0.9722\n",
            "Epoch 86: saving model to combined_autoencoder_weights.keras\n",
            "505/505 [==============================] - 2s 4ms/step - loss: -0.9933 - metric_choose_argument_combined_y_train: 0.9723 - val_loss: -0.8440 - val_metric_choose_argument_combined_y_train: 0.3351\n",
            "Epoch 87/100\n",
            "503/505 [============================>.] - ETA: 0s - loss: -0.9934 - metric_choose_argument_combined_y_train: 0.9781\n",
            "Epoch 87: saving model to combined_autoencoder_weights.keras\n",
            "505/505 [==============================] - 2s 4ms/step - loss: -0.9934 - metric_choose_argument_combined_y_train: 0.9782 - val_loss: -0.8450 - val_metric_choose_argument_combined_y_train: 0.3351\n",
            "Epoch 88/100\n",
            "501/505 [============================>.] - ETA: 0s - loss: -0.9935 - metric_choose_argument_combined_y_train: 0.9820\n",
            "Epoch 88: saving model to combined_autoencoder_weights.keras\n",
            "505/505 [==============================] - 2s 4ms/step - loss: -0.9935 - metric_choose_argument_combined_y_train: 0.9822 - val_loss: -0.8455 - val_metric_choose_argument_combined_y_train: 0.3564\n",
            "Epoch 89/100\n",
            "488/505 [===========================>..] - ETA: 0s - loss: -0.9935 - metric_choose_argument_combined_y_train: 0.9713\n",
            "Epoch 89: saving model to combined_autoencoder_weights.keras\n",
            "505/505 [==============================] - 2s 4ms/step - loss: -0.9935 - metric_choose_argument_combined_y_train: 0.9723 - val_loss: -0.8449 - val_metric_choose_argument_combined_y_train: 0.3351\n",
            "Epoch 90/100\n",
            "497/505 [============================>.] - ETA: 0s - loss: -0.9936 - metric_choose_argument_combined_y_train: 0.9779\n",
            "Epoch 90: saving model to combined_autoencoder_weights.keras\n",
            "505/505 [==============================] - 2s 5ms/step - loss: -0.9936 - metric_choose_argument_combined_y_train: 0.9782 - val_loss: -0.8432 - val_metric_choose_argument_combined_y_train: 0.3404\n",
            "Epoch 91/100\n",
            "492/505 [============================>.] - ETA: 0s - loss: -0.9935 - metric_choose_argument_combined_y_train: 0.9776\n",
            "Epoch 91: saving model to combined_autoencoder_weights.keras\n",
            "505/505 [==============================] - 2s 4ms/step - loss: -0.9935 - metric_choose_argument_combined_y_train: 0.9782 - val_loss: -0.8444 - val_metric_choose_argument_combined_y_train: 0.3511\n",
            "Epoch 92/100\n",
            "493/505 [============================>.] - ETA: 0s - loss: -0.9936 - metric_choose_argument_combined_y_train: 0.9757\n",
            "Epoch 92: saving model to combined_autoencoder_weights.keras\n",
            "505/505 [==============================] - 2s 4ms/step - loss: -0.9936 - metric_choose_argument_combined_y_train: 0.9743 - val_loss: -0.8450 - val_metric_choose_argument_combined_y_train: 0.3564\n",
            "Epoch 93/100\n",
            "489/505 [============================>.] - ETA: 0s - loss: -0.9939 - metric_choose_argument_combined_y_train: 0.9775\n",
            "Epoch 93: saving model to combined_autoencoder_weights.keras\n",
            "505/505 [==============================] - 2s 4ms/step - loss: -0.9939 - metric_choose_argument_combined_y_train: 0.9782 - val_loss: -0.8439 - val_metric_choose_argument_combined_y_train: 0.3457\n",
            "Epoch 94/100\n",
            "498/505 [============================>.] - ETA: 0s - loss: -0.9939 - metric_choose_argument_combined_y_train: 0.9819\n",
            "Epoch 94: saving model to combined_autoencoder_weights.keras\n",
            "505/505 [==============================] - 2s 4ms/step - loss: -0.9939 - metric_choose_argument_combined_y_train: 0.9802 - val_loss: -0.8441 - val_metric_choose_argument_combined_y_train: 0.3298\n",
            "Epoch 95/100\n",
            "497/505 [============================>.] - ETA: 0s - loss: -0.9940 - metric_choose_argument_combined_y_train: 0.9759\n",
            "Epoch 95: saving model to combined_autoencoder_weights.keras\n",
            "505/505 [==============================] - 2s 4ms/step - loss: -0.9940 - metric_choose_argument_combined_y_train: 0.9762 - val_loss: -0.8447 - val_metric_choose_argument_combined_y_train: 0.3404\n",
            "Epoch 96/100\n",
            "503/505 [============================>.] - ETA: 0s - loss: -0.9940 - metric_choose_argument_combined_y_train: 0.9781\n",
            "Epoch 96: saving model to combined_autoencoder_weights.keras\n",
            "505/505 [==============================] - 2s 5ms/step - loss: -0.9940 - metric_choose_argument_combined_y_train: 0.9782 - val_loss: -0.8446 - val_metric_choose_argument_combined_y_train: 0.3351\n",
            "Epoch 97/100\n",
            "500/505 [============================>.] - ETA: 0s - loss: -0.9937 - metric_choose_argument_combined_y_train: 0.9760\n",
            "Epoch 97: saving model to combined_autoencoder_weights.keras\n",
            "505/505 [==============================] - 3s 5ms/step - loss: -0.9937 - metric_choose_argument_combined_y_train: 0.9762 - val_loss: -0.8438 - val_metric_choose_argument_combined_y_train: 0.3511\n",
            "Epoch 98/100\n",
            "491/505 [============================>.] - ETA: 0s - loss: -0.9943 - metric_choose_argument_combined_y_train: 0.9776\n",
            "Epoch 98: saving model to combined_autoencoder_weights.keras\n",
            "505/505 [==============================] - 2s 4ms/step - loss: -0.9943 - metric_choose_argument_combined_y_train: 0.9762 - val_loss: -0.8422 - val_metric_choose_argument_combined_y_train: 0.3457\n",
            "Epoch 99/100\n",
            "494/505 [============================>.] - ETA: 0s - loss: -0.9943 - metric_choose_argument_combined_y_train: 0.9818\n",
            "Epoch 99: saving model to combined_autoencoder_weights.keras\n",
            "505/505 [==============================] - 2s 4ms/step - loss: -0.9943 - metric_choose_argument_combined_y_train: 0.9822 - val_loss: -0.8438 - val_metric_choose_argument_combined_y_train: 0.3298\n",
            "Epoch 100/100\n",
            "495/505 [============================>.] - ETA: 0s - loss: -0.9940 - metric_choose_argument_combined_y_train: 0.9798\n",
            "Epoch 100: saving model to combined_autoencoder_weights.keras\n",
            "505/505 [==============================] - 2s 4ms/step - loss: -0.9940 - metric_choose_argument_combined_y_train: 0.9802 - val_loss: -0.8432 - val_metric_choose_argument_combined_y_train: 0.3564\n"
          ]
        }
      ],
      "source": [
        "checkpoint_callback = ModelCheckpoint(filepath='combined_autoencoder_weights.keras', save_best_only=False, save_weights_only=False, verbose=1)\n",
        "csv_logger_callback = CSVLogger(filename='combined_training_log.csv', separator=',', append=True)\n",
        "combined_history = combined_autoencoder_model.fit(\n",
        "  x=x_train_combined,\n",
        "  y=y_train_combined,\n",
        "  batch_size=1,\n",
        "  epochs=100,\n",
        "  validation_data = (x_test_combined, y_test_combined),\n",
        "  callbacks=[checkpoint_callback, csv_logger_callback]\n",
        ")"
      ],
      "id": "ab4f9337-5f8e-48ea-995d-444f82e27dd2"
    },
    {
      "cell_type": "code",
      "execution_count": null,
      "metadata": {
        "id": "fa362204-e8f0-4894-b526-b99e560e4d4d"
      },
      "outputs": [],
      "source": [
        "combined_history_df = pd.DataFrame(combined_history.history)"
      ],
      "id": "fa362204-e8f0-4894-b526-b99e560e4d4d"
    },
    {
      "cell_type": "code",
      "execution_count": null,
      "metadata": {
        "id": "336a4b91-c030-49f1-aae0-cd32fc5462da"
      },
      "outputs": [],
      "source": [
        "output_folder_path = 'current-data-dump/nomic-autoencoder/'\n",
        "os.makedirs(output_folder_path, exist_ok=True)\n",
        "combined_history_df.to_csv(f'{output_folder_path}combined_training_log.csv')"
      ],
      "id": "336a4b91-c030-49f1-aae0-cd32fc5462da"
    },
    {
      "cell_type": "code",
      "execution_count": null,
      "metadata": {
        "id": "f6096f95-2d3d-43fd-9675-13b2e2ff1a28"
      },
      "outputs": [],
      "source": [
        "output_folder_path = 'current-data-dump/nomic-autoencoder/'\n",
        "os.makedirs(output_folder_path, exist_ok=True)\n",
        "combined_autoencoder_model.save(f'{output_folder_path}combined_autoencoder_model.keras')"
      ],
      "id": "f6096f95-2d3d-43fd-9675-13b2e2ff1a28"
    },
    {
      "cell_type": "markdown",
      "metadata": {
        "id": "d5b0cabd-28d9-4e8c-a775-59346bcf37a3"
      },
      "source": [
        "### Combined Shuffled Training"
      ],
      "id": "d5b0cabd-28d9-4e8c-a775-59346bcf37a3"
    },
    {
      "cell_type": "code",
      "execution_count": null,
      "metadata": {
        "id": "9887abb8-c075-46b4-9eee-b28922a61575",
        "colab": {
          "base_uri": "https://localhost:8080/"
        },
        "outputId": "338c483e-4f2c-481b-9360-80e76a2e6617"
      },
      "outputs": [
        {
          "output_type": "stream",
          "name": "stdout",
          "text": [
            "Epoch 1/20\n",
            "505/505 [==============================] - 4s 6ms/step - loss: -0.7642 - metric_choose_argument_combined_y_train: 0.0000e+00 - val_loss: -0.7758 - val_metric_choose_argument_combined_y_train: 0.0000e+00\n",
            "Epoch 2/20\n",
            "505/505 [==============================] - 3s 5ms/step - loss: -0.7774 - metric_choose_argument_combined_y_train: 0.0020 - val_loss: -0.7769 - val_metric_choose_argument_combined_y_train: 0.0000e+00\n",
            "Epoch 3/20\n",
            "505/505 [==============================] - 3s 5ms/step - loss: -0.7810 - metric_choose_argument_combined_y_train: 0.0020 - val_loss: -0.7732 - val_metric_choose_argument_combined_y_train: 0.0000e+00\n",
            "Epoch 4/20\n",
            "505/505 [==============================] - 3s 5ms/step - loss: -0.7872 - metric_choose_argument_combined_y_train: 0.0158 - val_loss: -0.7726 - val_metric_choose_argument_combined_y_train: 0.0000e+00\n",
            "Epoch 5/20\n",
            "505/505 [==============================] - 3s 5ms/step - loss: -0.7979 - metric_choose_argument_combined_y_train: 0.0594 - val_loss: -0.7647 - val_metric_choose_argument_combined_y_train: 0.0053\n",
            "Epoch 6/20\n",
            "505/505 [==============================] - 3s 5ms/step - loss: -0.8108 - metric_choose_argument_combined_y_train: 0.1644 - val_loss: -0.7532 - val_metric_choose_argument_combined_y_train: 0.0053\n",
            "Epoch 7/20\n",
            "505/505 [==============================] - 3s 5ms/step - loss: -0.8258 - metric_choose_argument_combined_y_train: 0.3327 - val_loss: -0.7332 - val_metric_choose_argument_combined_y_train: 0.0000e+00\n",
            "Epoch 8/20\n",
            "505/505 [==============================] - 3s 5ms/step - loss: -0.8389 - metric_choose_argument_combined_y_train: 0.4871 - val_loss: -0.7312 - val_metric_choose_argument_combined_y_train: 0.0000e+00\n",
            "Epoch 9/20\n",
            "505/505 [==============================] - 3s 5ms/step - loss: -0.8522 - metric_choose_argument_combined_y_train: 0.5782 - val_loss: -0.7256 - val_metric_choose_argument_combined_y_train: 0.0000e+00\n",
            "Epoch 10/20\n",
            "505/505 [==============================] - 3s 5ms/step - loss: -0.8649 - metric_choose_argument_combined_y_train: 0.6693 - val_loss: -0.7127 - val_metric_choose_argument_combined_y_train: 0.0000e+00\n",
            "Epoch 11/20\n",
            "505/505 [==============================] - 3s 5ms/step - loss: -0.8751 - metric_choose_argument_combined_y_train: 0.7228 - val_loss: -0.7116 - val_metric_choose_argument_combined_y_train: 0.0000e+00\n",
            "Epoch 12/20\n",
            "505/505 [==============================] - 3s 5ms/step - loss: -0.8835 - metric_choose_argument_combined_y_train: 0.7505 - val_loss: -0.7074 - val_metric_choose_argument_combined_y_train: 0.0000e+00\n",
            "Epoch 13/20\n",
            "505/505 [==============================] - 3s 5ms/step - loss: -0.8913 - metric_choose_argument_combined_y_train: 0.7782 - val_loss: -0.7025 - val_metric_choose_argument_combined_y_train: 0.0000e+00\n",
            "Epoch 14/20\n",
            "505/505 [==============================] - 3s 5ms/step - loss: -0.8975 - metric_choose_argument_combined_y_train: 0.7901 - val_loss: -0.6979 - val_metric_choose_argument_combined_y_train: 0.0000e+00\n",
            "Epoch 15/20\n",
            "505/505 [==============================] - 3s 5ms/step - loss: -0.9034 - metric_choose_argument_combined_y_train: 0.7980 - val_loss: -0.6935 - val_metric_choose_argument_combined_y_train: 0.0000e+00\n",
            "Epoch 16/20\n",
            "505/505 [==============================] - 3s 5ms/step - loss: -0.9080 - metric_choose_argument_combined_y_train: 0.8099 - val_loss: -0.6843 - val_metric_choose_argument_combined_y_train: 0.0000e+00\n",
            "Epoch 17/20\n",
            "505/505 [==============================] - 3s 5ms/step - loss: -0.9130 - metric_choose_argument_combined_y_train: 0.8297 - val_loss: -0.6796 - val_metric_choose_argument_combined_y_train: 0.0000e+00\n",
            "Epoch 18/20\n",
            "505/505 [==============================] - 3s 5ms/step - loss: -0.9164 - metric_choose_argument_combined_y_train: 0.8396 - val_loss: -0.6888 - val_metric_choose_argument_combined_y_train: 0.0000e+00\n",
            "Epoch 19/20\n",
            "505/505 [==============================] - 3s 5ms/step - loss: -0.9191 - metric_choose_argument_combined_y_train: 0.8436 - val_loss: -0.6736 - val_metric_choose_argument_combined_y_train: 0.0000e+00\n",
            "Epoch 20/20\n",
            "505/505 [==============================] - 3s 5ms/step - loss: -0.9228 - metric_choose_argument_combined_y_train: 0.8673 - val_loss: -0.6754 - val_metric_choose_argument_combined_y_train: 0.0000e+00\n"
          ]
        }
      ],
      "source": [
        "# combined Shuffled Model\n",
        "combined_shuffled_autoencoder_model = tf.keras.models.clone_model(autoencoder_model)\n",
        "combined_shuffled_autoencoder_model.compile(\n",
        "  optimizer=tf.keras.optimizers.Adam(learning_rate=1e-3),\n",
        "  loss=\"cosine_similarity\",\n",
        "  metrics=[metric_choose_argument_combined_y_train]\n",
        ")\n",
        "\n",
        "combined_shuffled_history = combined_shuffled_autoencoder_model.fit(\n",
        "  x=x_train_combined,\n",
        "  y=y_train_shuffled,\n",
        "  batch_size=1,\n",
        "  epochs=20,\n",
        "  validation_data = (x_test_combined, y_test_combined)\n",
        ")"
      ],
      "id": "9887abb8-c075-46b4-9eee-b28922a61575"
    },
    {
      "cell_type": "code",
      "execution_count": null,
      "metadata": {
        "id": "5i5lFFqIbNzh"
      },
      "outputs": [],
      "source": [
        "combined_shuffled_history_df = pd.DataFrame(combined_shuffled_history.history)"
      ],
      "id": "5i5lFFqIbNzh"
    },
    {
      "cell_type": "code",
      "execution_count": null,
      "metadata": {
        "id": "KOtX9nyBbNzk"
      },
      "outputs": [],
      "source": [
        "output_folder_path = 'current-data-dump/nomic-autoencoder/'\n",
        "os.makedirs(output_folder_path, exist_ok=True)\n",
        "combined_shuffled_history_df.to_csv(f'{output_folder_path}combined_shuffled_training_log.csv')"
      ],
      "id": "KOtX9nyBbNzk"
    },
    {
      "cell_type": "code",
      "execution_count": null,
      "metadata": {
        "id": "KrmhWBS2bNzk"
      },
      "outputs": [],
      "source": [
        "output_folder_path = 'current-data-dump/nomic-autoencoder/'\n",
        "os.makedirs(output_folder_path, exist_ok=True)\n",
        "combined_shuffled_autoencoder_model.save(f'{output_folder_path}combined_shuffled_autoencoder_model.keras')"
      ],
      "id": "KrmhWBS2bNzk"
    },
    {
      "cell_type": "markdown",
      "metadata": {
        "id": "rdpWAuG1a3nv"
      },
      "source": [
        "### Pro Training"
      ],
      "id": "rdpWAuG1a3nv"
    },
    {
      "cell_type": "code",
      "execution_count": null,
      "metadata": {
        "id": "Fuv_a1L1a3nv"
      },
      "outputs": [],
      "source": [
        "# pro Model\n",
        "pro_autoencoder_model = tf.keras.models.clone_model(autoencoder_model)\n",
        "pro_autoencoder_model.compile(\n",
        "  optimizer=tf.keras.optimizers.Adam(learning_rate=1e-3),\n",
        "  loss=\"cosine_similarity\",\n",
        "  metrics=[metric_choose_argument_pro_y_train]\n",
        ")"
      ],
      "id": "Fuv_a1L1a3nv"
    },
    {
      "cell_type": "code",
      "execution_count": null,
      "metadata": {
        "scrolled": true,
        "colab": {
          "base_uri": "https://localhost:8080/"
        },
        "id": "Hb-brrdia3nw",
        "outputId": "04d1dea1-420e-4c35-bea6-109bcb97a15f"
      },
      "outputs": [
        {
          "output_type": "stream",
          "name": "stdout",
          "text": [
            "Epoch 1/20\n",
            "328/332 [============================>.] - ETA: 0s - loss: -0.7733 - metric_choose_argument_pro_y_train: 0.0061\n",
            "Epoch 1: saving model to pro_autoencoder_weights.keras\n",
            "332/332 [==============================] - 3s 6ms/step - loss: -0.7738 - metric_choose_argument_pro_y_train: 0.0060 - val_loss: -0.7952 - val_metric_choose_argument_pro_y_train: 0.0000e+00\n",
            "Epoch 2/20\n",
            "324/332 [============================>.] - ETA: 0s - loss: -0.8120 - metric_choose_argument_pro_y_train: 0.0772\n",
            "Epoch 2: saving model to pro_autoencoder_weights.keras\n",
            "332/332 [==============================] - 2s 5ms/step - loss: -0.8125 - metric_choose_argument_pro_y_train: 0.0783 - val_loss: -0.8086 - val_metric_choose_argument_pro_y_train: 0.1048\n",
            "Epoch 3/20\n",
            "323/332 [============================>.] - ETA: 0s - loss: -0.8392 - metric_choose_argument_pro_y_train: 0.3715\n",
            "Epoch 3: saving model to pro_autoencoder_weights.keras\n",
            "332/332 [==============================] - 2s 5ms/step - loss: -0.8391 - metric_choose_argument_pro_y_train: 0.3675 - val_loss: -0.8147 - val_metric_choose_argument_pro_y_train: 0.1532\n",
            "Epoch 4/20\n",
            "324/332 [============================>.] - ETA: 0s - loss: -0.8636 - metric_choose_argument_pro_y_train: 0.6389\n",
            "Epoch 4: saving model to pro_autoencoder_weights.keras\n",
            "332/332 [==============================] - 2s 5ms/step - loss: -0.8639 - metric_choose_argument_pro_y_train: 0.6416 - val_loss: -0.8167 - val_metric_choose_argument_pro_y_train: 0.1855\n",
            "Epoch 5/20\n",
            "324/332 [============================>.] - ETA: 0s - loss: -0.8882 - metric_choose_argument_pro_y_train: 0.8241\n",
            "Epoch 5: saving model to pro_autoencoder_weights.keras\n",
            "332/332 [==============================] - 2s 5ms/step - loss: -0.8880 - metric_choose_argument_pro_y_train: 0.8283 - val_loss: -0.8167 - val_metric_choose_argument_pro_y_train: 0.1935\n",
            "Epoch 6/20\n",
            "324/332 [============================>.] - ETA: 0s - loss: -0.9088 - metric_choose_argument_pro_y_train: 0.8920\n",
            "Epoch 6: saving model to pro_autoencoder_weights.keras\n",
            "332/332 [==============================] - 2s 5ms/step - loss: -0.9091 - metric_choose_argument_pro_y_train: 0.8886 - val_loss: -0.8188 - val_metric_choose_argument_pro_y_train: 0.2016\n",
            "Epoch 7/20\n",
            "321/332 [============================>.] - ETA: 0s - loss: -0.9251 - metric_choose_argument_pro_y_train: 0.9159\n",
            "Epoch 7: saving model to pro_autoencoder_weights.keras\n",
            "332/332 [==============================] - 2s 5ms/step - loss: -0.9250 - metric_choose_argument_pro_y_train: 0.9157 - val_loss: -0.8162 - val_metric_choose_argument_pro_y_train: 0.1935\n",
            "Epoch 8/20\n",
            "324/332 [============================>.] - ETA: 0s - loss: -0.9377 - metric_choose_argument_pro_y_train: 0.9383\n",
            "Epoch 8: saving model to pro_autoencoder_weights.keras\n",
            "332/332 [==============================] - 2s 5ms/step - loss: -0.9376 - metric_choose_argument_pro_y_train: 0.9367 - val_loss: -0.8145 - val_metric_choose_argument_pro_y_train: 0.1935\n",
            "Epoch 9/20\n",
            "321/332 [============================>.] - ETA: 0s - loss: -0.9475 - metric_choose_argument_pro_y_train: 0.9346\n",
            "Epoch 9: saving model to pro_autoencoder_weights.keras\n",
            "332/332 [==============================] - 2s 5ms/step - loss: -0.9476 - metric_choose_argument_pro_y_train: 0.9367 - val_loss: -0.8155 - val_metric_choose_argument_pro_y_train: 0.1855\n",
            "Epoch 10/20\n",
            "322/332 [============================>.] - ETA: 0s - loss: -0.9558 - metric_choose_argument_pro_y_train: 0.9472\n",
            "Epoch 10: saving model to pro_autoencoder_weights.keras\n",
            "332/332 [==============================] - 2s 5ms/step - loss: -0.9555 - metric_choose_argument_pro_y_train: 0.9458 - val_loss: -0.8162 - val_metric_choose_argument_pro_y_train: 0.2016\n",
            "Epoch 11/20\n",
            "331/332 [============================>.] - ETA: 0s - loss: -0.9609 - metric_choose_argument_pro_y_train: 0.9517\n",
            "Epoch 11: saving model to pro_autoencoder_weights.keras\n",
            "332/332 [==============================] - 2s 5ms/step - loss: -0.9609 - metric_choose_argument_pro_y_train: 0.9518 - val_loss: -0.8126 - val_metric_choose_argument_pro_y_train: 0.1935\n",
            "Epoch 12/20\n",
            "324/332 [============================>.] - ETA: 0s - loss: -0.9653 - metric_choose_argument_pro_y_train: 0.9568\n",
            "Epoch 12: saving model to pro_autoencoder_weights.keras\n",
            "332/332 [==============================] - 2s 5ms/step - loss: -0.9654 - metric_choose_argument_pro_y_train: 0.9578 - val_loss: -0.8129 - val_metric_choose_argument_pro_y_train: 0.2016\n",
            "Epoch 13/20\n",
            "322/332 [============================>.] - ETA: 0s - loss: -0.9698 - metric_choose_argument_pro_y_train: 0.9534\n",
            "Epoch 13: saving model to pro_autoencoder_weights.keras\n",
            "332/332 [==============================] - 2s 5ms/step - loss: -0.9695 - metric_choose_argument_pro_y_train: 0.9488 - val_loss: -0.8088 - val_metric_choose_argument_pro_y_train: 0.1774\n",
            "Epoch 14/20\n",
            "323/332 [============================>.] - ETA: 0s - loss: -0.9726 - metric_choose_argument_pro_y_train: 0.9659\n",
            "Epoch 14: saving model to pro_autoencoder_weights.keras\n",
            "332/332 [==============================] - 2s 5ms/step - loss: -0.9725 - metric_choose_argument_pro_y_train: 0.9639 - val_loss: -0.8069 - val_metric_choose_argument_pro_y_train: 0.1935\n",
            "Epoch 15/20\n",
            "324/332 [============================>.] - ETA: 0s - loss: -0.9749 - metric_choose_argument_pro_y_train: 0.9599\n",
            "Epoch 15: saving model to pro_autoencoder_weights.keras\n",
            "332/332 [==============================] - 2s 5ms/step - loss: -0.9748 - metric_choose_argument_pro_y_train: 0.9608 - val_loss: -0.8120 - val_metric_choose_argument_pro_y_train: 0.1855\n",
            "Epoch 16/20\n",
            "322/332 [============================>.] - ETA: 0s - loss: -0.9774 - metric_choose_argument_pro_y_train: 0.9689\n",
            "Epoch 16: saving model to pro_autoencoder_weights.keras\n",
            "332/332 [==============================] - 2s 5ms/step - loss: -0.9774 - metric_choose_argument_pro_y_train: 0.9699 - val_loss: -0.8083 - val_metric_choose_argument_pro_y_train: 0.1855\n",
            "Epoch 17/20\n",
            "324/332 [============================>.] - ETA: 0s - loss: -0.9794 - metric_choose_argument_pro_y_train: 0.9660\n",
            "Epoch 17: saving model to pro_autoencoder_weights.keras\n",
            "332/332 [==============================] - 2s 5ms/step - loss: -0.9793 - metric_choose_argument_pro_y_train: 0.9669 - val_loss: -0.8096 - val_metric_choose_argument_pro_y_train: 0.1613\n",
            "Epoch 18/20\n",
            "323/332 [============================>.] - ETA: 0s - loss: -0.9804 - metric_choose_argument_pro_y_train: 0.9628\n",
            "Epoch 18: saving model to pro_autoencoder_weights.keras\n",
            "332/332 [==============================] - 2s 5ms/step - loss: -0.9804 - metric_choose_argument_pro_y_train: 0.9608 - val_loss: -0.8095 - val_metric_choose_argument_pro_y_train: 0.1935\n",
            "Epoch 19/20\n",
            "324/332 [============================>.] - ETA: 0s - loss: -0.9815 - metric_choose_argument_pro_y_train: 0.9691\n",
            "Epoch 19: saving model to pro_autoencoder_weights.keras\n",
            "332/332 [==============================] - 2s 5ms/step - loss: -0.9814 - metric_choose_argument_pro_y_train: 0.9699 - val_loss: -0.8082 - val_metric_choose_argument_pro_y_train: 0.1935\n",
            "Epoch 20/20\n",
            "323/332 [============================>.] - ETA: 0s - loss: -0.9827 - metric_choose_argument_pro_y_train: 0.9752\n",
            "Epoch 20: saving model to pro_autoencoder_weights.keras\n",
            "332/332 [==============================] - 2s 6ms/step - loss: -0.9826 - metric_choose_argument_pro_y_train: 0.9759 - val_loss: -0.8064 - val_metric_choose_argument_pro_y_train: 0.2016\n"
          ]
        }
      ],
      "source": [
        "checkpoint_callback = ModelCheckpoint(filepath='pro_autoencoder_weights.keras', save_best_only=False, save_weights_only=False, verbose=1)\n",
        "csv_logger_callback = CSVLogger(filename='pro_training_log.csv', separator=',', append=True)\n",
        "pro_history = pro_autoencoder_model.fit(\n",
        "  x=x_train_pro,\n",
        "  y=y_train_pro,\n",
        "  batch_size=1,\n",
        "  epochs=20,\n",
        "  validation_data = (x_test_pro, y_test_pro),\n",
        "  callbacks=[checkpoint_callback, csv_logger_callback]\n",
        ")"
      ],
      "id": "Hb-brrdia3nw"
    },
    {
      "cell_type": "code",
      "execution_count": null,
      "metadata": {
        "id": "mxbkaGxma3nw"
      },
      "outputs": [],
      "source": [
        "pro_history_df = pd.DataFrame(pro_history.history)"
      ],
      "id": "mxbkaGxma3nw"
    },
    {
      "cell_type": "code",
      "execution_count": null,
      "metadata": {
        "id": "4oEVwp7ra3nw"
      },
      "outputs": [],
      "source": [
        "output_folder_path = 'current-data-dump/nomic-autoencoder/'\n",
        "os.makedirs(output_folder_path, exist_ok=True)\n",
        "pro_history_df.to_csv(f'{output_folder_path}pro_training_log.csv')"
      ],
      "id": "4oEVwp7ra3nw"
    },
    {
      "cell_type": "code",
      "execution_count": null,
      "metadata": {
        "id": "gu7024c5a3nw"
      },
      "outputs": [],
      "source": [
        "output_folder_path = 'current-data-dump/nomic-autoencoder/'\n",
        "os.makedirs(output_folder_path, exist_ok=True)\n",
        "pro_autoencoder_model.save(f'{output_folder_path}pro_autoencoder_model.keras')"
      ],
      "id": "gu7024c5a3nw"
    },
    {
      "cell_type": "markdown",
      "metadata": {
        "id": "ruPbdxipd7Q4"
      },
      "source": [
        "### Pro Shuffled Training"
      ],
      "id": "ruPbdxipd7Q4"
    },
    {
      "cell_type": "code",
      "execution_count": null,
      "metadata": {
        "colab": {
          "base_uri": "https://localhost:8080/"
        },
        "outputId": "577051a2-50d9-41e4-a335-1e8b5309463a",
        "id": "Eo14poBtd7Q4"
      },
      "outputs": [
        {
          "output_type": "stream",
          "name": "stdout",
          "text": [
            "Epoch 1/20\n",
            "332/332 [==============================] - 3s 6ms/step - loss: -0.7634 - metric_choose_argument_pro_y_train: 0.0000e+00 - val_loss: -0.7729 - val_metric_choose_argument_pro_y_train: 0.0000e+00\n",
            "Epoch 2/20\n",
            "332/332 [==============================] - 2s 5ms/step - loss: -0.7803 - metric_choose_argument_pro_y_train: 0.0030 - val_loss: -0.7735 - val_metric_choose_argument_pro_y_train: 0.0000e+00\n",
            "Epoch 3/20\n",
            "332/332 [==============================] - 2s 5ms/step - loss: -0.7852 - metric_choose_argument_pro_y_train: 0.0060 - val_loss: -0.7740 - val_metric_choose_argument_pro_y_train: 0.0000e+00\n",
            "Epoch 4/20\n",
            "332/332 [==============================] - 2s 5ms/step - loss: -0.7938 - metric_choose_argument_pro_y_train: 0.0271 - val_loss: -0.7681 - val_metric_choose_argument_pro_y_train: 0.0000e+00\n",
            "Epoch 5/20\n",
            "332/332 [==============================] - 2s 5ms/step - loss: -0.8085 - metric_choose_argument_pro_y_train: 0.1657 - val_loss: -0.7532 - val_metric_choose_argument_pro_y_train: 0.0000e+00\n",
            "Epoch 6/20\n",
            "332/332 [==============================] - 2s 5ms/step - loss: -0.8300 - metric_choose_argument_pro_y_train: 0.4428 - val_loss: -0.7467 - val_metric_choose_argument_pro_y_train: 0.0000e+00\n",
            "Epoch 7/20\n",
            "332/332 [==============================] - 2s 5ms/step - loss: -0.8528 - metric_choose_argument_pro_y_train: 0.6958 - val_loss: -0.7376 - val_metric_choose_argument_pro_y_train: 0.0000e+00\n",
            "Epoch 8/20\n",
            "332/332 [==============================] - 2s 5ms/step - loss: -0.8753 - metric_choose_argument_pro_y_train: 0.8343 - val_loss: -0.7193 - val_metric_choose_argument_pro_y_train: 0.0000e+00\n",
            "Epoch 9/20\n",
            "332/332 [==============================] - 2s 5ms/step - loss: -0.8945 - metric_choose_argument_pro_y_train: 0.9127 - val_loss: -0.7112 - val_metric_choose_argument_pro_y_train: 0.0000e+00\n",
            "Epoch 10/20\n",
            "332/332 [==============================] - 2s 5ms/step - loss: -0.9101 - metric_choose_argument_pro_y_train: 0.9217 - val_loss: -0.7109 - val_metric_choose_argument_pro_y_train: 0.0000e+00\n",
            "Epoch 11/20\n",
            "332/332 [==============================] - 2s 5ms/step - loss: -0.9225 - metric_choose_argument_pro_y_train: 0.9247 - val_loss: -0.6990 - val_metric_choose_argument_pro_y_train: 0.0000e+00\n",
            "Epoch 12/20\n",
            "332/332 [==============================] - 2s 5ms/step - loss: -0.9322 - metric_choose_argument_pro_y_train: 0.9428 - val_loss: -0.6910 - val_metric_choose_argument_pro_y_train: 0.0000e+00\n",
            "Epoch 13/20\n",
            "332/332 [==============================] - 2s 5ms/step - loss: -0.9410 - metric_choose_argument_pro_y_train: 0.9608 - val_loss: -0.7003 - val_metric_choose_argument_pro_y_train: 0.0000e+00\n",
            "Epoch 14/20\n",
            "332/332 [==============================] - 2s 5ms/step - loss: -0.9475 - metric_choose_argument_pro_y_train: 0.9608 - val_loss: -0.6858 - val_metric_choose_argument_pro_y_train: 0.0000e+00\n",
            "Epoch 15/20\n",
            "332/332 [==============================] - 2s 5ms/step - loss: -0.9519 - metric_choose_argument_pro_y_train: 0.9488 - val_loss: -0.6886 - val_metric_choose_argument_pro_y_train: 0.0000e+00\n",
            "Epoch 16/20\n",
            "332/332 [==============================] - 2s 5ms/step - loss: -0.9550 - metric_choose_argument_pro_y_train: 0.9699 - val_loss: -0.6789 - val_metric_choose_argument_pro_y_train: 0.0000e+00\n",
            "Epoch 17/20\n",
            "332/332 [==============================] - 2s 5ms/step - loss: -0.9599 - metric_choose_argument_pro_y_train: 0.9789 - val_loss: -0.6783 - val_metric_choose_argument_pro_y_train: 0.0000e+00\n",
            "Epoch 18/20\n",
            "332/332 [==============================] - 2s 5ms/step - loss: -0.9627 - metric_choose_argument_pro_y_train: 0.9608 - val_loss: -0.6771 - val_metric_choose_argument_pro_y_train: 0.0000e+00\n",
            "Epoch 19/20\n",
            "332/332 [==============================] - 2s 5ms/step - loss: -0.9645 - metric_choose_argument_pro_y_train: 0.9759 - val_loss: -0.6763 - val_metric_choose_argument_pro_y_train: 0.0000e+00\n",
            "Epoch 20/20\n",
            "332/332 [==============================] - 2s 5ms/step - loss: -0.9666 - metric_choose_argument_pro_y_train: 0.9729 - val_loss: -0.6713 - val_metric_choose_argument_pro_y_train: 0.0000e+00\n"
          ]
        }
      ],
      "source": [
        "# pro Shuffled Model\n",
        "pro_shuffled_autoencoder_model = tf.keras.models.clone_model(autoencoder_model)\n",
        "pro_shuffled_autoencoder_model.compile(\n",
        "  optimizer=tf.keras.optimizers.Adam(learning_rate=1e-3),\n",
        "  loss=\"cosine_similarity\",\n",
        "  metrics=[metric_choose_argument_pro_y_train]\n",
        ")\n",
        "\n",
        "pro_shuffled_history = pro_shuffled_autoencoder_model.fit(\n",
        "  x=x_train_pro,\n",
        "  y=y_train_pro_shuffled,\n",
        "  batch_size=1,\n",
        "  epochs=20,\n",
        "  validation_data = (x_test_pro, y_test_pro)\n",
        ")"
      ],
      "id": "Eo14poBtd7Q4"
    },
    {
      "cell_type": "code",
      "execution_count": null,
      "metadata": {
        "id": "7OHmTntEd7Q5"
      },
      "outputs": [],
      "source": [
        "pro_shuffled_history_df = pd.DataFrame(pro_shuffled_history.history)"
      ],
      "id": "7OHmTntEd7Q5"
    },
    {
      "cell_type": "code",
      "execution_count": null,
      "metadata": {
        "id": "2wgXvoPDd7Q5"
      },
      "outputs": [],
      "source": [
        "output_folder_path = 'current-data-dump/nomic-autoencoder/'\n",
        "os.makedirs(output_folder_path, exist_ok=True)\n",
        "pro_shuffled_history_df.to_csv(f'{output_folder_path}pro_shuffled_training_log.csv')"
      ],
      "id": "2wgXvoPDd7Q5"
    },
    {
      "cell_type": "code",
      "execution_count": null,
      "metadata": {
        "id": "XfTW_eY_d7Q5"
      },
      "outputs": [],
      "source": [
        "output_folder_path = 'current-data-dump/nomic-autoencoder/'\n",
        "os.makedirs(output_folder_path, exist_ok=True)\n",
        "pro_shuffled_autoencoder_model.save(f'{output_folder_path}pro_shuffled_autoencoder_model.keras')"
      ],
      "id": "XfTW_eY_d7Q5"
    },
    {
      "cell_type": "markdown",
      "metadata": {
        "id": "_SpBcDq7bDIw"
      },
      "source": [
        "### Counter Training"
      ],
      "id": "_SpBcDq7bDIw"
    },
    {
      "cell_type": "code",
      "execution_count": null,
      "metadata": {
        "id": "TpREyfzXbDI6"
      },
      "outputs": [],
      "source": [
        "# counter Model\n",
        "counter_autoencoder_model = tf.keras.models.clone_model(autoencoder_model)\n",
        "counter_autoencoder_model.compile(\n",
        "  optimizer=tf.keras.optimizers.Adam(learning_rate=1e-3),\n",
        "  loss=\"cosine_similarity\",\n",
        "  metrics=[metric_choose_argument_counter_y_train]\n",
        ")"
      ],
      "id": "TpREyfzXbDI6"
    },
    {
      "cell_type": "code",
      "execution_count": null,
      "metadata": {
        "scrolled": true,
        "colab": {
          "base_uri": "https://localhost:8080/"
        },
        "id": "04HAX9AObDI6",
        "outputId": "ec1f1bf7-e822-42b5-cd62-52b03215c968"
      },
      "outputs": [
        {
          "output_type": "stream",
          "name": "stdout",
          "text": [
            "Epoch 1/20\n",
            "162/173 [===========================>..] - ETA: 0s - loss: -0.7517 - metric_choose_argument_counter_y_train: 0.0000e+00\n",
            "Epoch 1: saving model to counter_autoencoder_weights.keras\n",
            "173/173 [==============================] - 2s 7ms/step - loss: -0.7531 - metric_choose_argument_counter_y_train: 0.0000e+00 - val_loss: -0.7868 - val_metric_choose_argument_counter_y_train: 0.0000e+00\n",
            "Epoch 2/20\n",
            "167/173 [===========================>..] - ETA: 0s - loss: -0.8037 - metric_choose_argument_counter_y_train: 0.0599\n",
            "Epoch 2: saving model to counter_autoencoder_weights.keras\n",
            "173/173 [==============================] - 1s 6ms/step - loss: -0.8030 - metric_choose_argument_counter_y_train: 0.0578 - val_loss: -0.7942 - val_metric_choose_argument_counter_y_train: 0.0469\n",
            "Epoch 3/20\n",
            "164/173 [===========================>..] - ETA: 0s - loss: -0.8333 - metric_choose_argument_counter_y_train: 0.3720\n",
            "Epoch 3: saving model to counter_autoencoder_weights.keras\n",
            "173/173 [==============================] - 1s 6ms/step - loss: -0.8339 - metric_choose_argument_counter_y_train: 0.3873 - val_loss: -0.7994 - val_metric_choose_argument_counter_y_train: 0.0938\n",
            "Epoch 4/20\n",
            "164/173 [===========================>..] - ETA: 0s - loss: -0.8689 - metric_choose_argument_counter_y_train: 0.7988\n",
            "Epoch 4: saving model to counter_autoencoder_weights.keras\n",
            "173/173 [==============================] - 1s 6ms/step - loss: -0.8684 - metric_choose_argument_counter_y_train: 0.7919 - val_loss: -0.8023 - val_metric_choose_argument_counter_y_train: 0.0781\n",
            "Epoch 5/20\n",
            "164/173 [===========================>..] - ETA: 0s - loss: -0.8961 - metric_choose_argument_counter_y_train: 0.9085\n",
            "Epoch 5: saving model to counter_autoencoder_weights.keras\n",
            "173/173 [==============================] - 1s 6ms/step - loss: -0.8959 - metric_choose_argument_counter_y_train: 0.9017 - val_loss: -0.8037 - val_metric_choose_argument_counter_y_train: 0.1250\n",
            "Epoch 6/20\n",
            "165/173 [===========================>..] - ETA: 0s - loss: -0.9205 - metric_choose_argument_counter_y_train: 0.9273\n",
            "Epoch 6: saving model to counter_autoencoder_weights.keras\n",
            "173/173 [==============================] - 1s 6ms/step - loss: -0.9198 - metric_choose_argument_counter_y_train: 0.9306 - val_loss: -0.7951 - val_metric_choose_argument_counter_y_train: 0.0938\n",
            "Epoch 7/20\n",
            "169/173 [============================>.] - ETA: 0s - loss: -0.9385 - metric_choose_argument_counter_y_train: 0.9290\n",
            "Epoch 7: saving model to counter_autoencoder_weights.keras\n",
            "173/173 [==============================] - 1s 6ms/step - loss: -0.9383 - metric_choose_argument_counter_y_train: 0.9306 - val_loss: -0.7987 - val_metric_choose_argument_counter_y_train: 0.1250\n",
            "Epoch 8/20\n",
            "170/173 [============================>.] - ETA: 0s - loss: -0.9513 - metric_choose_argument_counter_y_train: 0.9588\n",
            "Epoch 8: saving model to counter_autoencoder_weights.keras\n",
            "173/173 [==============================] - 1s 6ms/step - loss: -0.9513 - metric_choose_argument_counter_y_train: 0.9595 - val_loss: -0.7984 - val_metric_choose_argument_counter_y_train: 0.1250\n",
            "Epoch 9/20\n",
            "162/173 [===========================>..] - ETA: 0s - loss: -0.9616 - metric_choose_argument_counter_y_train: 0.9630\n",
            "Epoch 9: saving model to counter_autoencoder_weights.keras\n",
            "173/173 [==============================] - 1s 6ms/step - loss: -0.9610 - metric_choose_argument_counter_y_train: 0.9653 - val_loss: -0.7926 - val_metric_choose_argument_counter_y_train: 0.1094\n",
            "Epoch 10/20\n",
            "170/173 [============================>.] - ETA: 0s - loss: -0.9689 - metric_choose_argument_counter_y_train: 0.9706\n",
            "Epoch 10: saving model to counter_autoencoder_weights.keras\n",
            "173/173 [==============================] - 1s 6ms/step - loss: -0.9688 - metric_choose_argument_counter_y_train: 0.9711 - val_loss: -0.7899 - val_metric_choose_argument_counter_y_train: 0.1094\n",
            "Epoch 11/20\n",
            "169/173 [============================>.] - ETA: 0s - loss: -0.9745 - metric_choose_argument_counter_y_train: 0.9645\n",
            "Epoch 11: saving model to counter_autoencoder_weights.keras\n",
            "173/173 [==============================] - 1s 5ms/step - loss: -0.9745 - metric_choose_argument_counter_y_train: 0.9653 - val_loss: -0.7952 - val_metric_choose_argument_counter_y_train: 0.1250\n",
            "Epoch 12/20\n",
            "166/173 [===========================>..] - ETA: 0s - loss: -0.9793 - metric_choose_argument_counter_y_train: 0.9819\n",
            "Epoch 12: saving model to counter_autoencoder_weights.keras\n",
            "173/173 [==============================] - 1s 6ms/step - loss: -0.9793 - metric_choose_argument_counter_y_train: 0.9827 - val_loss: -0.7880 - val_metric_choose_argument_counter_y_train: 0.1250\n",
            "Epoch 13/20\n",
            "171/173 [============================>.] - ETA: 0s - loss: -0.9823 - metric_choose_argument_counter_y_train: 0.9825\n",
            "Epoch 13: saving model to counter_autoencoder_weights.keras\n",
            "173/173 [==============================] - 1s 6ms/step - loss: -0.9823 - metric_choose_argument_counter_y_train: 0.9827 - val_loss: -0.7904 - val_metric_choose_argument_counter_y_train: 0.1406\n",
            "Epoch 14/20\n",
            "164/173 [===========================>..] - ETA: 0s - loss: -0.9846 - metric_choose_argument_counter_y_train: 0.9817\n",
            "Epoch 14: saving model to counter_autoencoder_weights.keras\n",
            "173/173 [==============================] - 1s 6ms/step - loss: -0.9844 - metric_choose_argument_counter_y_train: 0.9827 - val_loss: -0.7933 - val_metric_choose_argument_counter_y_train: 0.1250\n",
            "Epoch 15/20\n",
            "171/173 [============================>.] - ETA: 0s - loss: -0.9857 - metric_choose_argument_counter_y_train: 0.9942\n",
            "Epoch 15: saving model to counter_autoencoder_weights.keras\n",
            "173/173 [==============================] - 1s 6ms/step - loss: -0.9857 - metric_choose_argument_counter_y_train: 0.9942 - val_loss: -0.7920 - val_metric_choose_argument_counter_y_train: 0.1406\n",
            "Epoch 16/20\n",
            "166/173 [===========================>..] - ETA: 0s - loss: -0.9871 - metric_choose_argument_counter_y_train: 0.9819\n",
            "Epoch 16: saving model to counter_autoencoder_weights.keras\n",
            "173/173 [==============================] - 1s 6ms/step - loss: -0.9867 - metric_choose_argument_counter_y_train: 0.9827 - val_loss: -0.7962 - val_metric_choose_argument_counter_y_train: 0.1250\n",
            "Epoch 17/20\n",
            "171/173 [============================>.] - ETA: 0s - loss: -0.9877 - metric_choose_argument_counter_y_train: 0.9825\n",
            "Epoch 17: saving model to counter_autoencoder_weights.keras\n",
            "173/173 [==============================] - 1s 6ms/step - loss: -0.9877 - metric_choose_argument_counter_y_train: 0.9827 - val_loss: -0.7944 - val_metric_choose_argument_counter_y_train: 0.1250\n",
            "Epoch 18/20\n",
            "173/173 [==============================] - ETA: 0s - loss: -0.9893 - metric_choose_argument_counter_y_train: 0.9942\n",
            "Epoch 18: saving model to counter_autoencoder_weights.keras\n",
            "173/173 [==============================] - 1s 6ms/step - loss: -0.9893 - metric_choose_argument_counter_y_train: 0.9942 - val_loss: -0.7971 - val_metric_choose_argument_counter_y_train: 0.1406\n",
            "Epoch 19/20\n",
            "169/173 [============================>.] - ETA: 0s - loss: -0.9900 - metric_choose_argument_counter_y_train: 0.9882\n",
            "Epoch 19: saving model to counter_autoencoder_weights.keras\n",
            "173/173 [==============================] - 1s 6ms/step - loss: -0.9900 - metric_choose_argument_counter_y_train: 0.9884 - val_loss: -0.7941 - val_metric_choose_argument_counter_y_train: 0.1250\n",
            "Epoch 20/20\n",
            "164/173 [===========================>..] - ETA: 0s - loss: -0.9908 - metric_choose_argument_counter_y_train: 0.9878\n",
            "Epoch 20: saving model to counter_autoencoder_weights.keras\n",
            "173/173 [==============================] - 1s 6ms/step - loss: -0.9908 - metric_choose_argument_counter_y_train: 0.9884 - val_loss: -0.7943 - val_metric_choose_argument_counter_y_train: 0.1250\n"
          ]
        }
      ],
      "source": [
        "checkpoint_callback = ModelCheckpoint(filepath='counter_autoencoder_weights.keras', save_best_only=False, save_weights_only=False, verbose=1)\n",
        "csv_logger_callback = CSVLogger(filename='counter_training_log.csv', separator=',', append=True)\n",
        "counter_history = counter_autoencoder_model.fit(\n",
        "  x=x_train_counter,\n",
        "  y=y_train_counter,\n",
        "  batch_size=1,\n",
        "  epochs=20,\n",
        "  validation_data = (x_test_counter, y_test_counter),\n",
        "  callbacks=[checkpoint_callback, csv_logger_callback]\n",
        ")"
      ],
      "id": "04HAX9AObDI6"
    },
    {
      "cell_type": "code",
      "execution_count": null,
      "metadata": {
        "id": "fpDh-nUybDI6"
      },
      "outputs": [],
      "source": [
        "counter_history_df = pd.DataFrame(counter_history.history)"
      ],
      "id": "fpDh-nUybDI6"
    },
    {
      "cell_type": "code",
      "execution_count": null,
      "metadata": {
        "id": "4PbjGQp-bDI7"
      },
      "outputs": [],
      "source": [
        "output_folder_path = 'current-data-dump/nomic-autoencoder/'\n",
        "os.makedirs(output_folder_path, exist_ok=True)\n",
        "counter_history_df.to_csv(f'{output_folder_path}counter_training_log.csv')"
      ],
      "id": "4PbjGQp-bDI7"
    },
    {
      "cell_type": "code",
      "execution_count": null,
      "metadata": {
        "id": "maPZKu7mbDI7"
      },
      "outputs": [],
      "source": [
        "output_folder_path = 'current-data-dump/nomic-autoencoder/'\n",
        "os.makedirs(output_folder_path, exist_ok=True)\n",
        "counter_autoencoder_model.save(f'{output_folder_path}counter_autoencoder_model.keras')"
      ],
      "id": "maPZKu7mbDI7"
    },
    {
      "cell_type": "markdown",
      "metadata": {
        "id": "DpWzVPEIeCUl"
      },
      "source": [
        "### Counter Shuffled Training"
      ],
      "id": "DpWzVPEIeCUl"
    },
    {
      "cell_type": "code",
      "execution_count": null,
      "metadata": {
        "colab": {
          "base_uri": "https://localhost:8080/"
        },
        "outputId": "3ee9f2ae-73be-4d60-e7f1-b04327ac9eba",
        "id": "5b_UOFdYeCUl"
      },
      "outputs": [
        {
          "output_type": "stream",
          "name": "stdout",
          "text": [
            "Epoch 1/20\n",
            "173/173 [==============================] - 2s 7ms/step - loss: -0.7455 - metric_choose_argument_counter_y_train: 0.0000e+00 - val_loss: -0.7637 - val_metric_choose_argument_counter_y_train: 0.0000e+00\n",
            "Epoch 2/20\n",
            "173/173 [==============================] - 1s 5ms/step - loss: -0.7728 - metric_choose_argument_counter_y_train: 0.0116 - val_loss: -0.7696 - val_metric_choose_argument_counter_y_train: 0.0000e+00\n",
            "Epoch 3/20\n",
            "173/173 [==============================] - 1s 5ms/step - loss: -0.7824 - metric_choose_argument_counter_y_train: 0.0173 - val_loss: -0.7690 - val_metric_choose_argument_counter_y_train: 0.0000e+00\n",
            "Epoch 4/20\n",
            "173/173 [==============================] - 1s 5ms/step - loss: -0.7970 - metric_choose_argument_counter_y_train: 0.1445 - val_loss: -0.7555 - val_metric_choose_argument_counter_y_train: 0.0000e+00\n",
            "Epoch 5/20\n",
            "173/173 [==============================] - 1s 5ms/step - loss: -0.8241 - metric_choose_argument_counter_y_train: 0.4855 - val_loss: -0.7398 - val_metric_choose_argument_counter_y_train: 0.0000e+00\n",
            "Epoch 6/20\n",
            "173/173 [==============================] - 1s 5ms/step - loss: -0.8553 - metric_choose_argument_counter_y_train: 0.7572 - val_loss: -0.7322 - val_metric_choose_argument_counter_y_train: 0.0156\n",
            "Epoch 7/20\n",
            "173/173 [==============================] - 1s 5ms/step - loss: -0.8855 - metric_choose_argument_counter_y_train: 0.8960 - val_loss: -0.7039 - val_metric_choose_argument_counter_y_train: 0.0000e+00\n",
            "Epoch 8/20\n",
            "173/173 [==============================] - 1s 5ms/step - loss: -0.9090 - metric_choose_argument_counter_y_train: 0.9422 - val_loss: -0.7173 - val_metric_choose_argument_counter_y_train: 0.0000e+00\n",
            "Epoch 9/20\n",
            "173/173 [==============================] - 1s 5ms/step - loss: -0.9291 - metric_choose_argument_counter_y_train: 0.9595 - val_loss: -0.6891 - val_metric_choose_argument_counter_y_train: 0.0000e+00\n",
            "Epoch 10/20\n",
            "173/173 [==============================] - 1s 5ms/step - loss: -0.9438 - metric_choose_argument_counter_y_train: 0.9595 - val_loss: -0.6934 - val_metric_choose_argument_counter_y_train: 0.0000e+00\n",
            "Epoch 11/20\n",
            "173/173 [==============================] - 1s 5ms/step - loss: -0.9546 - metric_choose_argument_counter_y_train: 0.9711 - val_loss: -0.6816 - val_metric_choose_argument_counter_y_train: 0.0000e+00\n",
            "Epoch 12/20\n",
            "173/173 [==============================] - 1s 5ms/step - loss: -0.9633 - metric_choose_argument_counter_y_train: 0.9827 - val_loss: -0.6758 - val_metric_choose_argument_counter_y_train: 0.0000e+00\n",
            "Epoch 13/20\n",
            "173/173 [==============================] - 1s 5ms/step - loss: -0.9699 - metric_choose_argument_counter_y_train: 0.9827 - val_loss: -0.6708 - val_metric_choose_argument_counter_y_train: 0.0000e+00\n",
            "Epoch 14/20\n",
            "173/173 [==============================] - 1s 5ms/step - loss: -0.9728 - metric_choose_argument_counter_y_train: 0.9711 - val_loss: -0.6742 - val_metric_choose_argument_counter_y_train: 0.0000e+00\n",
            "Epoch 15/20\n",
            "173/173 [==============================] - 1s 5ms/step - loss: -0.9769 - metric_choose_argument_counter_y_train: 0.9884 - val_loss: -0.6719 - val_metric_choose_argument_counter_y_train: 0.0000e+00\n",
            "Epoch 16/20\n",
            "173/173 [==============================] - 1s 5ms/step - loss: -0.9802 - metric_choose_argument_counter_y_train: 0.9942 - val_loss: -0.6757 - val_metric_choose_argument_counter_y_train: 0.0000e+00\n",
            "Epoch 17/20\n",
            "173/173 [==============================] - 1s 5ms/step - loss: -0.9827 - metric_choose_argument_counter_y_train: 0.9942 - val_loss: -0.6803 - val_metric_choose_argument_counter_y_train: 0.0000e+00\n",
            "Epoch 18/20\n",
            "173/173 [==============================] - 1s 5ms/step - loss: -0.9844 - metric_choose_argument_counter_y_train: 0.9884 - val_loss: -0.6695 - val_metric_choose_argument_counter_y_train: 0.0000e+00\n",
            "Epoch 19/20\n",
            "173/173 [==============================] - 1s 5ms/step - loss: -0.9852 - metric_choose_argument_counter_y_train: 0.9942 - val_loss: -0.6755 - val_metric_choose_argument_counter_y_train: 0.0000e+00\n",
            "Epoch 20/20\n",
            "173/173 [==============================] - 1s 5ms/step - loss: -0.9870 - metric_choose_argument_counter_y_train: 0.9942 - val_loss: -0.6713 - val_metric_choose_argument_counter_y_train: 0.0000e+00\n"
          ]
        }
      ],
      "source": [
        "# counter Shuffled Model\n",
        "counter_shuffled_autoencoder_model = tf.keras.models.clone_model(autoencoder_model)\n",
        "counter_shuffled_autoencoder_model.compile(\n",
        "  optimizer=tf.keras.optimizers.Adam(learning_rate=1e-3),\n",
        "  loss=\"cosine_similarity\",\n",
        "  metrics=[metric_choose_argument_counter_y_train]\n",
        ")\n",
        "\n",
        "counter_shuffled_history = counter_shuffled_autoencoder_model.fit(\n",
        "  x=x_train_counter,\n",
        "  y=y_train_counter_shuffled,\n",
        "  batch_size=1,\n",
        "  epochs=20,\n",
        "  validation_data = (x_test_counter, y_test_counter)\n",
        ")"
      ],
      "id": "5b_UOFdYeCUl"
    },
    {
      "cell_type": "code",
      "execution_count": null,
      "metadata": {
        "id": "MNtPHr5SeCUm"
      },
      "outputs": [],
      "source": [
        "counter_shuffled_history_df = pd.DataFrame(counter_shuffled_history.history)"
      ],
      "id": "MNtPHr5SeCUm"
    },
    {
      "cell_type": "code",
      "execution_count": null,
      "metadata": {
        "id": "M5jPSgt3eCUm"
      },
      "outputs": [],
      "source": [
        "output_folder_path = 'current-data-dump/nomic-autoencoder/'\n",
        "os.makedirs(output_folder_path, exist_ok=True)\n",
        "counter_shuffled_history_df.to_csv(f'{output_folder_path}counter_shuffled_training_log.csv')"
      ],
      "id": "M5jPSgt3eCUm"
    },
    {
      "cell_type": "code",
      "execution_count": null,
      "metadata": {
        "id": "TM1LSTfyeCUm"
      },
      "outputs": [],
      "source": [
        "output_folder_path = 'current-data-dump/nomic-autoencoder/'\n",
        "os.makedirs(output_folder_path, exist_ok=True)\n",
        "counter_shuffled_autoencoder_model.save(f'{output_folder_path}counter_shuffled_autoencoder_model.keras')"
      ],
      "id": "TM1LSTfyeCUm"
    },
    {
      "cell_type": "markdown",
      "source": [
        "## Export data"
      ],
      "metadata": {
        "id": "o4WdvaTBDg0Q"
      },
      "id": "o4WdvaTBDg0Q"
    },
    {
      "cell_type": "code",
      "source": [
        "def export_nomic_autoencoder():\n",
        "  \"\"\"Export nomic_autoencoder directory\"\"\"\n",
        "  nomic_autoencoder_file_path = 'current-data-dump/nomic-autoencoder'\n",
        "  nomic_autoencoder_file_path_zip = 'current-data-dump/nomic-autoencoder'\n",
        "  shutil.make_archive(nomic_autoencoder_file_path_zip, 'zip', nomic_autoencoder_file_path)\n",
        "  print(f\"Zip file created at: {nomic_autoencoder_file_path_zip}\")\n",
        "  result = subprocess.run([f\"osf -p sakjg upload --force {nomic_autoencoder_file_path_zip}.zip data-dump/nomic-scifact-autoencoder/nomic_scifact_autoencoder.zip\"], shell=True, capture_output=True, text=True)\n",
        "  print(result.stderr)\n",
        "  print(f\"File: {nomic_autoencoder_file_path_zip} uploaded at osfstorage\")"
      ],
      "metadata": {
        "id": "kPUJzZOEFmCY"
      },
      "id": "kPUJzZOEFmCY",
      "execution_count": null,
      "outputs": []
    },
    {
      "cell_type": "code",
      "source": [
        "export_nomic_autoencoder()"
      ],
      "metadata": {
        "colab": {
          "base_uri": "https://localhost:8080/"
        },
        "id": "j1zI9XxWnCZ4",
        "outputId": "e8ab24ea-163f-4df4-ba51-10ef047a8c60"
      },
      "id": "j1zI9XxWnCZ4",
      "execution_count": null,
      "outputs": [
        {
          "output_type": "stream",
          "name": "stdout",
          "text": [
            "Zip file created at: current-data-dump/nomic-autoencoder\n",
            "\n",
            "File: current-data-dump/nomic-autoencoder uploaded at osfstorage\n"
          ]
        }
      ]
    },
    {
      "cell_type": "markdown",
      "source": [
        "## Import data"
      ],
      "metadata": {
        "id": "HwCx1sldDjMC"
      },
      "id": "HwCx1sldDjMC"
    },
    {
      "cell_type": "code",
      "source": [
        "def import_nomic_autoencoder():\n",
        "  \"\"\"Import nomic_autoencoder directory\"\"\"\n",
        "  subprocess.run(\"osf -p sakjg fetch --force osfstorage/data-dump/nomic-scifact-autoencoder/nomic_scifact_autoencoder.zip\", shell=True)\n",
        "  print(\"nomic_autoencoder.zip successfully imported\")\n",
        "  nomic_autoencoder_file_path_zip = 'nomic_scifact_autoencoder.zip'\n",
        "  nomic_autoencoder_file_path = 'current-data-dump/nomic-autoencoder'\n",
        "  os.makedirs(nomic_autoencoder_file_path, exist_ok=True)\n",
        "  with zipfile.ZipFile(nomic_autoencoder_file_path_zip, 'r') as zip_ref:\n",
        "    zip_ref.extractall(nomic_autoencoder_file_path)\n",
        "  extracted_files = os.listdir(nomic_autoencoder_file_path)\n",
        "  print(\"Files extracted:\", extracted_files)"
      ],
      "metadata": {
        "id": "I5nxJr5bGDTR"
      },
      "id": "I5nxJr5bGDTR",
      "execution_count": null,
      "outputs": []
    },
    {
      "cell_type": "markdown",
      "metadata": {
        "id": "8TucNWIIdnBs"
      },
      "source": [
        "## Load global training history"
      ],
      "id": "8TucNWIIdnBs"
    },
    {
      "cell_type": "code",
      "source": [
        "import_nomic_autoencoder()"
      ],
      "metadata": {
        "colab": {
          "base_uri": "https://localhost:8080/"
        },
        "id": "go4cGqlJHOV-",
        "outputId": "84ca98cc-399e-47d5-d7eb-de61188ea0ed"
      },
      "id": "go4cGqlJHOV-",
      "execution_count": null,
      "outputs": [
        {
          "output_type": "stream",
          "name": "stdout",
          "text": [
            "nomic_autoencoder.zip successfully imported\n",
            "Files extracted: ['combined_shuffled_training_log.csv', 'pro_training_log.csv', 'counter_training_log.csv', 'counter_training_plot.png', 'x_test_pro.pkl', 'y_train_combined.pkl', 'counter_shuffled_training_log.csv', 'pro_shuffled_training_plot.png', 'y_test_combined.pkl', 'y_test_pro.pkl', 'combined_shuffled_training_plot.png', 'pro_shuffled_autoencoder_model.keras', 'combined_autoencoder_model.keras', 'pro_training_plot.png', 'y_train_counter.pkl', 'y_test_counter.pkl', 'y_train_pro.pkl', 'x_train_combined.pkl', 'combined_training_plot.png', 'all_pro_training_plot.png', 'x_train_counter.pkl', 'counter_shuffled_autoencoder_model.keras', 'x_test_combined.pkl', 'counter_shuffled_training_plot.png', 'counter_autoencoder_model.keras', 'all_combined_training_plot.png', 'x_test_counter.pkl', 'pro_autoencoder_model.keras', 'combined_shuffled_autoencoder_model.keras', 'all_counter_training_plot.png', 'combined_training_log.csv', 'x_train_pro.pkl', 'pro_shuffled_training_log.csv']\n"
          ]
        }
      ]
    },
    {
      "cell_type": "markdown",
      "source": [
        "#### Unshuffled training history"
      ],
      "metadata": {
        "id": "JY2RndZJDXxt"
      },
      "id": "JY2RndZJDXxt"
    },
    {
      "cell_type": "code",
      "execution_count": null,
      "metadata": {
        "id": "3bce8a2b-e99c-4718-b2ed-445622266ea4",
        "scrolled": true
      },
      "outputs": [],
      "source": [
        "# Access training history\n",
        "loaded_combined_history = pd.DataFrame(pd.read_csv(\"current-data-dump/nomic-autoencoder/combined_training_log.csv\"))\n",
        "loaded_combined_history = pd.melt(loaded_combined_history, id_vars='Unnamed: 0', value_vars=['metric_choose_argument_combined_y_train', 'val_metric_choose_argument_combined_y_train'], var_name='dataset', value_name='accuracy')\n",
        "loaded_combined_history = loaded_combined_history.replace(['metric_choose_argument_combined_y_train', 'val_metric_choose_argument_combined_y_train'], ['training set', 'validation set'])\n",
        "loaded_combined_history.rename(columns = {'Unnamed: 0':'epoch'}, inplace = True)\n",
        "loaded_combined_history['shuffled'] = False\n",
        "\n",
        "loaded_pro_history = pd.DataFrame(pd.read_csv(\"current-data-dump/nomic-autoencoder/pro_training_log.csv\"))\n",
        "loaded_pro_history = pd.melt(loaded_pro_history, id_vars='Unnamed: 0', value_vars=['metric_choose_argument_pro_y_train', 'val_metric_choose_argument_pro_y_train'], var_name='dataset', value_name='accuracy')\n",
        "loaded_pro_history = loaded_pro_history.replace(['metric_choose_argument_pro_y_train', 'val_metric_choose_argument_pro_y_train'], ['training set', 'validation set'])\n",
        "loaded_pro_history.rename(columns = {'Unnamed: 0':'epoch'}, inplace = True)\n",
        "loaded_pro_history['shuffled'] = False\n",
        "\n",
        "loaded_counter_history = pd.DataFrame(pd.read_csv(\"current-data-dump/nomic-autoencoder/counter_training_log.csv\"))\n",
        "loaded_counter_history = pd.melt(loaded_counter_history, id_vars='Unnamed: 0', value_vars=['metric_choose_argument_counter_y_train', 'val_metric_choose_argument_counter_y_train'], var_name='dataset', value_name='accuracy')\n",
        "loaded_counter_history = loaded_counter_history.replace(['metric_choose_argument_counter_y_train', 'val_metric_choose_argument_counter_y_train'], ['training set', 'validation set'])\n",
        "loaded_counter_history.rename(columns = {'Unnamed: 0':'epoch'}, inplace = True)\n",
        "loaded_counter_history['shuffled'] = False"
      ],
      "id": "3bce8a2b-e99c-4718-b2ed-445622266ea4"
    },
    {
      "cell_type": "code",
      "execution_count": null,
      "metadata": {
        "id": "cfd55739-2fa0-434c-beef-64be4e2b4e99",
        "colab": {
          "base_uri": "https://localhost:8080/"
        },
        "outputId": "4a7ef19a-db4b-4c09-9357-de90bb031be1"
      },
      "outputs": [
        {
          "output_type": "stream",
          "name": "stderr",
          "text": [
            "/usr/local/lib/python3.10/dist-packages/plotnine/ggplot.py:606: PlotnineWarning: Saving 16 x 24 in image.\n",
            "/usr/local/lib/python3.10/dist-packages/plotnine/ggplot.py:607: PlotnineWarning: Filename: current-data-dump/nomic-autoencoder/combined_training_plot.png\n"
          ]
        }
      ],
      "source": [
        "linetype_map={'validation set': 'solid', 'training set': 'dashed'}\n",
        "\n",
        "combined_training_plot = (\n",
        "    ggplot(loaded_combined_history, aes(x='epoch', y='accuracy', linetype='dataset')) +\n",
        "    geom_line(size=2) +\n",
        "    labs(title='Learning Curve of Model Trained on Unshuffled Data', x='Epoch', y='Accuracy') +\n",
        "    scale_y_continuous(limits=[0,1]) +\n",
        "    scale_linetype_manual(linetype_map) +\n",
        "    theme(\n",
        "        plot_title=element_text(size=40, lineheight=1.5, wrap=True),\n",
        "        axis_title=element_text(size=32),\n",
        "        axis_text=element_text(size=24),\n",
        "        legend_position='bottom',\n",
        "        legend_text=element_text(size=24),\n",
        "        legend_title=element_text(size=32),\n",
        "        figure_size=[16,24]\n",
        "        )\n",
        ")\n",
        "ggsave(combined_training_plot, \"current-data-dump/nomic-autoencoder/combined_training_plot.png\")"
      ],
      "id": "cfd55739-2fa0-434c-beef-64be4e2b4e99"
    },
    {
      "cell_type": "code",
      "source": [
        "linetype_map={'validation set': 'solid', 'training set': 'dashed'}\n",
        "\n",
        "pro_training_plot = (\n",
        "    ggplot(loaded_pro_history, aes(x='epoch', y='accuracy', linetype='dataset')) +\n",
        "    geom_line(size=2) +\n",
        "    labs(title='Learning Curve of Model Trained on Unshuffled Data (Pro-evidence Only)', x='Epoch', y='Accuracy') +\n",
        "    scale_y_continuous(limits=[0,1]) +\n",
        "    scale_linetype_manual(linetype_map) +\n",
        "    theme(\n",
        "        plot_title=element_text(size=40, lineheight=1.5, wrap=True),\n",
        "        axis_title=element_text(size=32),\n",
        "        axis_text=element_text(size=24),\n",
        "        legend_position='bottom',\n",
        "        legend_text=element_text(size=24),\n",
        "        legend_title=element_text(size=32),\n",
        "        figure_size=[16,24]\n",
        "        )\n",
        ")\n",
        "ggsave(pro_training_plot, \"current-data-dump/nomic-autoencoder/pro_training_plot.png\")"
      ],
      "metadata": {
        "colab": {
          "base_uri": "https://localhost:8080/"
        },
        "id": "A9odXoCUeg23",
        "outputId": "d852f4cd-cd9f-4f24-f2f6-ba5406426a46"
      },
      "id": "A9odXoCUeg23",
      "execution_count": null,
      "outputs": [
        {
          "output_type": "stream",
          "name": "stderr",
          "text": [
            "/usr/local/lib/python3.10/dist-packages/plotnine/ggplot.py:606: PlotnineWarning: Saving 16 x 24 in image.\n",
            "/usr/local/lib/python3.10/dist-packages/plotnine/ggplot.py:607: PlotnineWarning: Filename: current-data-dump/nomic-autoencoder/pro_training_plot.png\n"
          ]
        }
      ]
    },
    {
      "cell_type": "code",
      "source": [
        "linetype_map={'validation set': 'solid', 'training set': 'dashed'}\n",
        "\n",
        "counter_training_plot = (\n",
        "    ggplot(loaded_counter_history, aes(x='epoch', y='accuracy', linetype='dataset')) +\n",
        "    geom_line(size=2) +\n",
        "    labs(title='Learning Curve of Model Trained on Unshuffled Data (Counterevidence Only)', x='Epoch', y='Accuracy') +\n",
        "    scale_y_continuous(limits=[0,1]) +\n",
        "    scale_linetype_manual(linetype_map) +\n",
        "    theme(\n",
        "        plot_title=element_text(size=40, lineheight=1.5, wrap=True),\n",
        "        axis_title=element_text(size=32),\n",
        "        axis_text=element_text(size=24),\n",
        "        legend_position='bottom',\n",
        "        legend_text=element_text(size=24),\n",
        "        legend_title=element_text(size=32),\n",
        "        figure_size=[16,24]\n",
        "        )\n",
        ")\n",
        "ggsave(counter_training_plot, \"current-data-dump/nomic-autoencoder/counter_training_plot.png\")"
      ],
      "metadata": {
        "colab": {
          "base_uri": "https://localhost:8080/"
        },
        "id": "9IKnwcoxekHE",
        "outputId": "c6b6d072-0f09-4541-ddb7-37440351ac54"
      },
      "id": "9IKnwcoxekHE",
      "execution_count": null,
      "outputs": [
        {
          "output_type": "stream",
          "name": "stderr",
          "text": [
            "/usr/local/lib/python3.10/dist-packages/plotnine/ggplot.py:606: PlotnineWarning: Saving 16 x 24 in image.\n",
            "/usr/local/lib/python3.10/dist-packages/plotnine/ggplot.py:607: PlotnineWarning: Filename: current-data-dump/nomic-autoencoder/counter_training_plot.png\n"
          ]
        }
      ]
    },
    {
      "cell_type": "markdown",
      "source": [
        "#### Shuffled training history"
      ],
      "metadata": {
        "id": "bSIwS6ydDdXI"
      },
      "id": "bSIwS6ydDdXI"
    },
    {
      "cell_type": "code",
      "execution_count": null,
      "metadata": {
        "id": "lJoOOL9EbNzk",
        "scrolled": true
      },
      "outputs": [],
      "source": [
        "# Access training history\n",
        "loaded_combined_shuffled_history = pd.DataFrame(pd.read_csv(\"current-data-dump/nomic-autoencoder/combined_shuffled_training_log.csv\"))\n",
        "loaded_combined_shuffled_history = pd.melt(loaded_combined_shuffled_history, id_vars='Unnamed: 0', value_vars=['metric_choose_argument_combined_y_train', 'val_metric_choose_argument_combined_y_train'], var_name='dataset', value_name='accuracy')\n",
        "loaded_combined_shuffled_history = loaded_combined_shuffled_history.replace(['metric_choose_argument_combined_y_train', 'val_metric_choose_argument_combined_y_train'], ['training set', 'validation set'])\n",
        "loaded_combined_shuffled_history.rename(columns = {'Unnamed: 0':'epoch'}, inplace = True)\n",
        "loaded_combined_shuffled_history['shuffled'] = True\n",
        "\n",
        "loaded_pro_shuffled_history = pd.DataFrame(pd.read_csv(\"current-data-dump/nomic-autoencoder/pro_shuffled_training_log.csv\"))\n",
        "loaded_pro_shuffled_history = pd.melt(loaded_pro_shuffled_history, id_vars='Unnamed: 0', value_vars=['metric_choose_argument_pro_y_train', 'val_metric_choose_argument_pro_y_train'], var_name='dataset', value_name='accuracy')\n",
        "loaded_pro_shuffled_history = loaded_pro_shuffled_history.replace(['metric_choose_argument_pro_y_train', 'val_metric_choose_argument_pro_y_train'], ['training set', 'validation set'])\n",
        "loaded_pro_shuffled_history.rename(columns = {'Unnamed: 0':'epoch'}, inplace = True)\n",
        "loaded_pro_shuffled_history['shuffled'] = True\n",
        "\n",
        "loaded_counter_shuffled_history = pd.DataFrame(pd.read_csv(\"current-data-dump/nomic-autoencoder/counter_shuffled_training_log.csv\"))\n",
        "loaded_counter_shuffled_history = pd.melt(loaded_counter_shuffled_history, id_vars='Unnamed: 0', value_vars=['metric_choose_argument_counter_y_train', 'val_metric_choose_argument_counter_y_train'], var_name='dataset', value_name='accuracy')\n",
        "loaded_counter_shuffled_history = loaded_counter_shuffled_history.replace(['metric_choose_argument_counter_y_train', 'val_metric_choose_argument_counter_y_train'], ['training set', 'validation set'])\n",
        "loaded_counter_shuffled_history.rename(columns = {'Unnamed: 0':'epoch'}, inplace = True)\n",
        "loaded_counter_shuffled_history['shuffled'] = True"
      ],
      "id": "lJoOOL9EbNzk"
    },
    {
      "cell_type": "code",
      "execution_count": null,
      "metadata": {
        "id": "TK0YRBXybNzl",
        "colab": {
          "base_uri": "https://localhost:8080/"
        },
        "outputId": "b0d32685-da1f-42bb-ef5d-7730d28be3b6"
      },
      "outputs": [
        {
          "output_type": "stream",
          "name": "stderr",
          "text": [
            "/usr/local/lib/python3.10/dist-packages/plotnine/ggplot.py:606: PlotnineWarning: Saving 16 x 24 in image.\n",
            "/usr/local/lib/python3.10/dist-packages/plotnine/ggplot.py:607: PlotnineWarning: Filename: current-data-dump/nomic-autoencoder/combined_shuffled_training_plot.png\n"
          ]
        }
      ],
      "source": [
        "linetype_map={'validation set': 'solid', 'training set': 'dashed'}\n",
        "\n",
        "combined_shuffled_training_plot = (\n",
        "    ggplot(loaded_combined_shuffled_history, aes(x='epoch', y='accuracy', linetype='dataset')) +\n",
        "    geom_line(size=2) +\n",
        "    labs(title='Learning Curve of Model Trained on Shuffled Data', x='Epoch', y='Accuracy') +\n",
        "    scale_y_continuous(limits=[0,1]) +\n",
        "    scale_linetype_manual(linetype_map) +\n",
        "    theme(\n",
        "        plot_title=element_text(size=40, lineheight=1.5, wrap=True),\n",
        "        axis_title=element_text(size=32),\n",
        "        axis_text=element_text(size=24),\n",
        "        legend_position='bottom',\n",
        "        legend_text=element_text(size=24),\n",
        "        legend_title=element_text(size=32),\n",
        "        figure_size=[16,24]\n",
        "        )\n",
        ")\n",
        "ggsave(combined_shuffled_training_plot, \"current-data-dump/nomic-autoencoder/combined_shuffled_training_plot.png\")"
      ],
      "id": "TK0YRBXybNzl"
    },
    {
      "cell_type": "code",
      "source": [
        "linetype_map={'validation set': 'solid', 'training set': 'dashed'}\n",
        "\n",
        "pro_shuffled_training_plot = (\n",
        "    ggplot(loaded_pro_shuffled_history, aes(x='epoch', y='accuracy', linetype='dataset')) +\n",
        "    geom_line(size=2) +\n",
        "    labs(title='Learning Curve of Model Trained on Shuffled Data (Pro-evidence Only)', x='Epoch', y='Accuracy') +\n",
        "    scale_y_continuous(limits=[0,1]) +\n",
        "    scale_linetype_manual(linetype_map) +\n",
        "    theme(\n",
        "        plot_title=element_text(size=40, lineheight=1.5, wrap=True),\n",
        "        axis_title=element_text(size=32),\n",
        "        axis_text=element_text(size=24),\n",
        "        legend_position='bottom',\n",
        "        legend_text=element_text(size=24),\n",
        "        legend_title=element_text(size=32),\n",
        "        figure_size=[16,24]\n",
        "        )\n",
        ")\n",
        "ggsave(pro_shuffled_training_plot, \"current-data-dump/nomic-autoencoder/pro_shuffled_training_plot.png\")"
      ],
      "metadata": {
        "colab": {
          "base_uri": "https://localhost:8080/"
        },
        "id": "CAnPbm6BfDVI",
        "outputId": "83e9088b-3664-4169-8346-91377153e15d"
      },
      "id": "CAnPbm6BfDVI",
      "execution_count": null,
      "outputs": [
        {
          "output_type": "stream",
          "name": "stderr",
          "text": [
            "/usr/local/lib/python3.10/dist-packages/plotnine/ggplot.py:606: PlotnineWarning: Saving 16 x 24 in image.\n",
            "/usr/local/lib/python3.10/dist-packages/plotnine/ggplot.py:607: PlotnineWarning: Filename: current-data-dump/nomic-autoencoder/pro_shuffled_training_plot.png\n"
          ]
        }
      ]
    },
    {
      "cell_type": "code",
      "source": [
        "linetype_map={'validation set': 'solid', 'training set': 'dashed'}\n",
        "\n",
        "counter_shuffled_training_plot = (\n",
        "    ggplot(loaded_counter_shuffled_history, aes(x='epoch', y='accuracy', linetype='dataset')) +\n",
        "    geom_line(size=2) +\n",
        "    labs(title='Learning Curve of Model Trained on Shuffled Data (Counterevidence Only)', x='Epoch', y='Accuracy') +\n",
        "    scale_y_continuous(limits=[0,1]) +\n",
        "    scale_linetype_manual(linetype_map) +\n",
        "    theme(\n",
        "        plot_title=element_text(size=40, lineheight=1.5, wrap=True),\n",
        "        axis_title=element_text(size=32),\n",
        "        axis_text=element_text(size=24),\n",
        "        legend_position='bottom',\n",
        "        legend_text=element_text(size=24),\n",
        "        legend_title=element_text(size=32),\n",
        "        figure_size=[16,24]\n",
        "        )\n",
        ")\n",
        "ggsave(counter_shuffled_training_plot, \"current-data-dump/nomic-autoencoder/counter_shuffled_training_plot.png\")"
      ],
      "metadata": {
        "colab": {
          "base_uri": "https://localhost:8080/"
        },
        "id": "_a-M9bJQfFrj",
        "outputId": "7dd838d2-d6b6-4622-bcee-656a3a2bf708"
      },
      "id": "_a-M9bJQfFrj",
      "execution_count": null,
      "outputs": [
        {
          "output_type": "stream",
          "name": "stderr",
          "text": [
            "/usr/local/lib/python3.10/dist-packages/plotnine/ggplot.py:606: PlotnineWarning: Saving 16 x 24 in image.\n",
            "/usr/local/lib/python3.10/dist-packages/plotnine/ggplot.py:607: PlotnineWarning: Filename: current-data-dump/nomic-autoencoder/counter_shuffled_training_plot.png\n"
          ]
        }
      ]
    },
    {
      "cell_type": "markdown",
      "metadata": {
        "id": "nIYrWdyscsYt"
      },
      "source": [
        "## Combined Training Plots"
      ],
      "id": "nIYrWdyscsYt"
    },
    {
      "cell_type": "code",
      "execution_count": null,
      "metadata": {
        "id": "aa005bf9-931d-45d2-b0e0-149b78878886"
      },
      "outputs": [],
      "source": [
        "all_combined_training_df = pd.concat([loaded_combined_history, loaded_combined_shuffled_history])\n",
        "all_pro_training_df = pd.concat([loaded_pro_history, loaded_pro_shuffled_history])\n",
        "all_counter_training_df = pd.concat([loaded_counter_history, loaded_counter_shuffled_history])"
      ],
      "id": "aa005bf9-931d-45d2-b0e0-149b78878886"
    },
    {
      "cell_type": "code",
      "execution_count": null,
      "metadata": {
        "id": "e1197f06-5503-44a5-ba23-2858da1a82b2",
        "colab": {
          "base_uri": "https://localhost:8080/"
        },
        "outputId": "88817c83-2f15-409d-d863-06046f0b22dc"
      },
      "outputs": [
        {
          "output_type": "stream",
          "name": "stderr",
          "text": [
            "/usr/local/lib/python3.10/dist-packages/plotnine/ggplot.py:606: PlotnineWarning: Saving 16 x 24 in image.\n",
            "/usr/local/lib/python3.10/dist-packages/plotnine/ggplot.py:607: PlotnineWarning: Filename: current-data-dump/nomic-autoencoder/all_combined_training_plot.png\n"
          ]
        }
      ],
      "source": [
        "linetype_map={'validation set': 'solid', 'training set': 'dashed'}\n",
        "\n",
        "all_combined_plot = (\n",
        "  ggplot(all_combined_training_df, aes(x='epoch', y='accuracy', linetype='dataset', color='shuffled')) +\n",
        "  geom_line(size=2) +\n",
        "  labs(title='Learning Curve of Model Trained on Unshuffled vs. Within-Topic Shuffled Data', x='Epoch', y='Accuracy') +\n",
        "  scale_linetype_manual(linetype_map) +\n",
        "  theme(\n",
        "    figure_size=(16,24),\n",
        "    axis_title=element_text(size=32),\n",
        "    axis_text=element_text(size=24),\n",
        "    legend_title=element_text(size=32, lineheight=1.5),\n",
        "    legend_text=element_text(size=24, lineheight=1.5),\n",
        "    plot_title=element_text(size=40, wrap=True, lineheight=1.5),\n",
        "    legend_position=\"bottom\",\n",
        "    legend_key_width=64\n",
        "  ) +\n",
        "  guides(fill = guide_legend(byrow = True))\n",
        ")\n",
        "ggsave(all_combined_plot, \"current-data-dump/nomic-autoencoder/all_combined_training_plot.png\")"
      ],
      "id": "e1197f06-5503-44a5-ba23-2858da1a82b2"
    },
    {
      "cell_type": "code",
      "source": [
        "linetype_map={'validation set': 'solid', 'training set': 'dashed'}\n",
        "\n",
        "all_pro_plot = (\n",
        "  ggplot(all_pro_training_df, aes(x='epoch', y='accuracy', linetype='dataset', color='shuffled')) +\n",
        "  geom_line(size=2) +\n",
        "  labs(title='Learning Curve of Model Trained on Unshuffled vs. Within-Topic Shuffled Data (Pro-evidence Only)', x='Epoch', y='Accuracy') +\n",
        "  scale_linetype_manual(linetype_map) +\n",
        "  theme(\n",
        "    figure_size=(16,24),\n",
        "    axis_title=element_text(size=32),\n",
        "    axis_text=element_text(size=24),\n",
        "    legend_title=element_text(size=32, lineheight=1.5),\n",
        "    legend_text=element_text(size=24, lineheight=1.5),\n",
        "    plot_title=element_text(size=40, wrap=True, lineheight=1.5),\n",
        "    legend_position=\"bottom\",\n",
        "    legend_key_width=64\n",
        "  ) +\n",
        "  guides(fill = guide_legend(byrow = True))\n",
        ")\n",
        "ggsave(all_pro_plot, \"current-data-dump/nomic-autoencoder/all_pro_training_plot.png\")"
      ],
      "metadata": {
        "colab": {
          "base_uri": "https://localhost:8080/"
        },
        "id": "jrj8xHhgfZwu",
        "outputId": "24c586e6-ac31-494b-ee6e-4e49e22d65aa"
      },
      "id": "jrj8xHhgfZwu",
      "execution_count": null,
      "outputs": [
        {
          "output_type": "stream",
          "name": "stderr",
          "text": [
            "/usr/local/lib/python3.10/dist-packages/plotnine/ggplot.py:606: PlotnineWarning: Saving 16 x 24 in image.\n",
            "/usr/local/lib/python3.10/dist-packages/plotnine/ggplot.py:607: PlotnineWarning: Filename: current-data-dump/nomic-autoencoder/all_pro_training_plot.png\n"
          ]
        }
      ]
    },
    {
      "cell_type": "code",
      "source": [
        "linetype_map={'validation set': 'solid', 'training set': 'dashed'}\n",
        "\n",
        "all_counter_plot = (\n",
        "  ggplot(all_counter_training_df, aes(x='epoch', y='accuracy', linetype='dataset', color='shuffled')) +\n",
        "  geom_line(size=2) +\n",
        "  labs(title='Learning Curve of Model Trained on Unshuffled vs. Within-Topic Shuffled Data (Counterevidence Only)', x='Epoch', y='Accuracy') +\n",
        "  scale_linetype_manual(linetype_map) +\n",
        "  theme(\n",
        "    figure_size=(16,24),\n",
        "    axis_title=element_text(size=32),\n",
        "    axis_text=element_text(size=24),\n",
        "    legend_title=element_text(size=32, lineheight=1.5),\n",
        "    legend_text=element_text(size=24, lineheight=1.5),\n",
        "    plot_title=element_text(size=40, wrap=True, lineheight=1.5),\n",
        "    legend_position=\"bottom\",\n",
        "    legend_key_width=64\n",
        "  ) +\n",
        "  guides(fill = guide_legend(byrow = True))\n",
        ")\n",
        "ggsave(all_counter_plot, \"current-data-dump/nomic-autoencoder/all_counter_training_plot.png\")"
      ],
      "metadata": {
        "colab": {
          "base_uri": "https://localhost:8080/"
        },
        "id": "Vmf9Oz7ifdMr",
        "outputId": "47364acd-b446-4a40-ceae-b8f1a4781249"
      },
      "id": "Vmf9Oz7ifdMr",
      "execution_count": null,
      "outputs": [
        {
          "output_type": "stream",
          "name": "stderr",
          "text": [
            "/usr/local/lib/python3.10/dist-packages/plotnine/ggplot.py:606: PlotnineWarning: Saving 16 x 24 in image.\n",
            "/usr/local/lib/python3.10/dist-packages/plotnine/ggplot.py:607: PlotnineWarning: Filename: current-data-dump/nomic-autoencoder/all_counter_training_plot.png\n"
          ]
        }
      ]
    },
    {
      "cell_type": "markdown",
      "source": [
        "## Final Export"
      ],
      "metadata": {
        "id": "KN2uP5TfHgmt"
      },
      "id": "KN2uP5TfHgmt"
    },
    {
      "cell_type": "code",
      "source": [
        "export_nomic_autoencoder()"
      ],
      "metadata": {
        "id": "cxBVn4xAHiDD",
        "colab": {
          "base_uri": "https://localhost:8080/",
          "height": 144
        },
        "outputId": "f445dcca-a52f-48de-e036-f6b759a066e6"
      },
      "id": "cxBVn4xAHiDD",
      "execution_count": null,
      "outputs": [
        {
          "output_type": "error",
          "ename": "NameError",
          "evalue": "name 'export_nomic_autoencoder' is not defined",
          "traceback": [
            "\u001b[0;31m---------------------------------------------------------------------------\u001b[0m",
            "\u001b[0;31mNameError\u001b[0m                                 Traceback (most recent call last)",
            "\u001b[0;32m<ipython-input-68-3704aaee678f>\u001b[0m in \u001b[0;36m<cell line: 1>\u001b[0;34m()\u001b[0m\n\u001b[0;32m----> 1\u001b[0;31m \u001b[0mexport_nomic_autoencoder\u001b[0m\u001b[0;34m(\u001b[0m\u001b[0;34m)\u001b[0m\u001b[0;34m\u001b[0m\u001b[0;34m\u001b[0m\u001b[0m\n\u001b[0m",
            "\u001b[0;31mNameError\u001b[0m: name 'export_nomic_autoencoder' is not defined"
          ]
        }
      ]
    }
  ],
  "metadata": {
    "colab": {
      "provenance": [],
      "gpuType": "T4",
      "toc_visible": true,
      "include_colab_link": true
    },
    "kernelspec": {
      "display_name": "Python 3",
      "name": "python3"
    },
    "language_info": {
      "codemirror_mode": {
        "name": "ipython",
        "version": 3
      },
      "file_extension": ".py",
      "mimetype": "text/x-python",
      "name": "python",
      "nbconvert_exporter": "python",
      "pygments_lexer": "ipython3",
      "version": "3.11.4"
    },
    "accelerator": "GPU"
  },
  "nbformat": 4,
  "nbformat_minor": 5
}