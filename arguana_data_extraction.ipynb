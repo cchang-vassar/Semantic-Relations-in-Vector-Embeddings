{
  "cells": [
    {
      "cell_type": "markdown",
      "metadata": {
        "id": "view-in-github",
        "colab_type": "text"
      },
      "source": [
        "<a href=\"https://colab.research.google.com/github/cchang-vassar/Semantic-Relations-in-Vector-Embeddings/blob/main/arguana_data_extraction.ipynb\" target=\"_parent\"><img src=\"https://colab.research.google.com/assets/colab-badge.svg\" alt=\"Open In Colab\"/></a>"
      ]
    },
    {
      "cell_type": "markdown",
      "metadata": {
        "id": "W_2qpQA9Anh8"
      },
      "source": [
        "# Extract Arguments from Arguana Corpus"
      ]
    },
    {
      "cell_type": "markdown",
      "metadata": {
        "id": "4xAJawkJD7dF"
      },
      "source": [
        "## Imports"
      ]
    },
    {
      "cell_type": "code",
      "execution_count": null,
      "metadata": {
        "id": "BvckIooMD8ND"
      },
      "outputs": [],
      "source": [
        "import os\n",
        "import re\n",
        "import zipfile\n",
        "from google.colab import userdata\n",
        "from enum import Enum\n",
        "from typing import Optional\n",
        "import pandas as pd\n",
        "import pickle\n",
        "import shutil\n",
        "import subprocess"
      ]
    },
    {
      "cell_type": "markdown",
      "metadata": {
        "id": "1ZL8xzRMyOGE"
      },
      "source": [
        "## OSF Setup"
      ]
    },
    {
      "cell_type": "code",
      "execution_count": null,
      "metadata": {
        "colab": {
          "base_uri": "https://localhost:8080/"
        },
        "id": "fS_fc5dDySK5",
        "outputId": "1247fe2b-19c1-4407-e33a-c5bb85d41d2d"
      },
      "outputs": [
        {
          "output_type": "stream",
          "name": "stdout",
          "text": [
            "Collecting osfclient\n",
            "  Downloading osfclient-0.0.5-py2.py3-none-any.whl (39 kB)\n",
            "Requirement already satisfied: requests in /usr/local/lib/python3.10/dist-packages (from osfclient) (2.31.0)\n",
            "Requirement already satisfied: tqdm in /usr/local/lib/python3.10/dist-packages (from osfclient) (4.66.2)\n",
            "Requirement already satisfied: six in /usr/local/lib/python3.10/dist-packages (from osfclient) (1.16.0)\n",
            "Requirement already satisfied: charset-normalizer<4,>=2 in /usr/local/lib/python3.10/dist-packages (from requests->osfclient) (3.3.2)\n",
            "Requirement already satisfied: idna<4,>=2.5 in /usr/local/lib/python3.10/dist-packages (from requests->osfclient) (3.7)\n",
            "Requirement already satisfied: urllib3<3,>=1.21.1 in /usr/local/lib/python3.10/dist-packages (from requests->osfclient) (2.0.7)\n",
            "Requirement already satisfied: certifi>=2017.4.17 in /usr/local/lib/python3.10/dist-packages (from requests->osfclient) (2024.2.2)\n",
            "Installing collected packages: osfclient\n",
            "Successfully installed osfclient-0.0.5\n"
          ]
        }
      ],
      "source": [
        "!pip install osfclient"
      ]
    },
    {
      "cell_type": "code",
      "execution_count": null,
      "metadata": {
        "id": "q7LsfY62TqsU"
      },
      "outputs": [],
      "source": [
        "os.environ[\"OSF_USERNAME\"] = userdata.get(\"OSF_USERNAME\")\n",
        "OSF_USERNAME = os.environ[\"OSF_USERNAME\"]"
      ]
    },
    {
      "cell_type": "code",
      "execution_count": null,
      "metadata": {
        "id": "Dc540GW4OGT5"
      },
      "outputs": [],
      "source": [
        "os.environ[\"OSF_PASSWORD\"] = userdata.get(\"OSF_PASSWORD\")\n",
        "OSF_PASSWORD = os.environ[\"OSF_PASSWORD\"]"
      ]
    },
    {
      "cell_type": "code",
      "execution_count": null,
      "metadata": {
        "id": "z-OVlX8Z0pZy"
      },
      "outputs": [],
      "source": [
        "os.environ[\"OSF_TOKEN\"] = userdata.get(\"OSF_TOKEN\")\n",
        "OSF_TOKEN = os.environ[\"OSF_TOKEN\"]"
      ]
    },
    {
      "cell_type": "code",
      "execution_count": null,
      "metadata": {
        "id": "rTXKZf9r4RY3"
      },
      "outputs": [],
      "source": [
        "os.environ[\"OSF_PROJECT_ID\"] = userdata.get(\"OSF_PROJECT_ID\")\n",
        "OSF_PROJECT_ID = os.environ[\"OSF_PROJECT_ID\"]"
      ]
    },
    {
      "cell_type": "markdown",
      "metadata": {
        "id": "eIn_b7Gtknas"
      },
      "source": [
        "## Grab Data from OSF"
      ]
    },
    {
      "cell_type": "code",
      "execution_count": null,
      "metadata": {
        "colab": {
          "base_uri": "https://localhost:8080/"
        },
        "id": "GpQuNylkXApN",
        "outputId": "cff01b1f-6c5c-4291-a5d2-fc5e6cf1ab6d"
      },
      "outputs": [
        {
          "output_type": "stream",
          "name": "stdout",
          "text": [
            "100% 121M/121M [00:00<00:00, 128Mbytes/s]\n"
          ]
        }
      ],
      "source": [
        "!osf -p sakjg fetch osfstorage/corpora/arguana_corpus.zip"
      ]
    },
    {
      "cell_type": "code",
      "execution_count": null,
      "metadata": {
        "colab": {
          "base_uri": "https://localhost:8080/"
        },
        "id": "YKOn-Cu0Ykpm",
        "outputId": "9aa65b9b-f203-4869-c7a5-a46f2cbfc5ac"
      },
      "outputs": [
        {
          "output_type": "stream",
          "name": "stdout",
          "text": [
            "\r  0% 0.00/90.7k [00:00<?, ?bytes/s]\r100% 90.7k/90.7k [00:00<00:00, 65.1Mbytes/s]\n"
          ]
        }
      ],
      "source": [
        "!osf -p sakjg fetch osfstorage/corpora/arguana_file_paths.zip"
      ]
    },
    {
      "cell_type": "code",
      "execution_count": null,
      "metadata": {
        "colab": {
          "base_uri": "https://localhost:8080/"
        },
        "id": "a5Dy_pMh2Lu6",
        "outputId": "4be0a4f2-3ac7-41f9-9f8f-09c974ee1619"
      },
      "outputs": [
        {
          "output_type": "stream",
          "name": "stdout",
          "text": [
            "Files extracted: ['__MACOSX', 'arguana_corpus']\n"
          ]
        }
      ],
      "source": [
        "arguana_corpus_file_path = 'arguana_corpus.zip'\n",
        "arguana_corpus_output_folder_path = 'arguana-corpus'\n",
        "os.makedirs(arguana_corpus_output_folder_path, exist_ok=True)\n",
        "\n",
        "with zipfile.ZipFile(arguana_corpus_file_path, 'r') as zip_ref:\n",
        "  zip_ref.extractall(arguana_corpus_output_folder_path)\n",
        "\n",
        "extracted_files = os.listdir(arguana_corpus_output_folder_path)\n",
        "print(\"Files extracted:\", extracted_files)"
      ]
    },
    {
      "cell_type": "code",
      "execution_count": null,
      "metadata": {
        "colab": {
          "base_uri": "https://localhost:8080/"
        },
        "id": "FYDCJ3BpZS6N",
        "outputId": "2876bb8b-cea4-4a05-a923-e7715591047b"
      },
      "outputs": [
        {
          "output_type": "stream",
          "name": "stdout",
          "text": [
            "Files extracted: ['arguana_file_paths', '__MACOSX']\n"
          ]
        }
      ],
      "source": [
        "arguana_file_paths_file_path = 'arguana_file_paths.zip'\n",
        "arguana_file_paths_output_folder_path = 'arguana-file-paths'\n",
        "os.makedirs(arguana_file_paths_output_folder_path, exist_ok=True)\n",
        "\n",
        "with zipfile.ZipFile(arguana_file_paths_file_path, 'r') as zip_ref:\n",
        "  zip_ref.extractall(arguana_file_paths_output_folder_path)\n",
        "\n",
        "extracted_files = os.listdir(arguana_file_paths_output_folder_path)\n",
        "print(\"Files extracted:\", extracted_files)"
      ]
    },
    {
      "cell_type": "code",
      "execution_count": null,
      "metadata": {
        "id": "aOFAFZbcMmbQ"
      },
      "outputs": [],
      "source": [
        "TRAINING_ARGUANA_FILE_PATH = 'arguana-corpus/arguana_corpus/02-extracted-arguments/training'\n",
        "TEST_ARGUANA_FILE_PATH = 'arguana-corpus/arguana_corpus/02-extracted-arguments/test'"
      ]
    },
    {
      "cell_type": "code",
      "execution_count": null,
      "metadata": {
        "id": "Hv7AqTuEYeCD"
      },
      "outputs": [],
      "source": [
        "TRAINING_FILE_PATHS_FILE_PATH = 'arguana-file-paths/arguana_file_paths/training'\n",
        "TRAINING_ALL_CATEGORIES_FILE_PATH = f'{TRAINING_FILE_PATHS_FILE_PATH}/all_categories.txt'\n",
        "TRAINING_ALL_DEBATES_FILE_PATH = f'{TRAINING_FILE_PATHS_FILE_PATH}/list_of_all_debates.txt'"
      ]
    },
    {
      "cell_type": "code",
      "source": [
        "TEST_FILE_PATHS_FILE_PATH = 'arguana-file-paths/arguana_file_paths/test'\n",
        "TEST_ALL_CATEGORIES_FILE_PATH = f'{TEST_FILE_PATHS_FILE_PATH}/all_categories.txt'\n",
        "TEST_ALL_DEBATES_FILE_PATH = f'{TEST_FILE_PATHS_FILE_PATH}/list_of_all_debates.txt'"
      ],
      "metadata": {
        "id": "cNk9q9CzX9ej"
      },
      "execution_count": null,
      "outputs": []
    },
    {
      "cell_type": "markdown",
      "metadata": {
        "id": "hmWQyvZJcbAf"
      },
      "source": [
        "## Class Declarations"
      ]
    },
    {
      "cell_type": "code",
      "execution_count": null,
      "metadata": {
        "id": "rnttlOfvcajc"
      },
      "outputs": [],
      "source": [
        "# Enum for categories\n",
        "class Category(Enum):\n",
        "  CULTURE = \"culture\"\n",
        "  DIGITAL_FREEDOMS = \"digital-freedoms\"\n",
        "  ECONOMY = \"economy\"\n",
        "  EDUCATION = \"education\"\n",
        "  ENVIRONMENT = \"environment\"\n",
        "  FREE_SPEECH_DEBATE = \"free-speech-debate\"\n",
        "  HEALTH = \"health\"\n",
        "  INTERNATIONAL = \"international\"\n",
        "  LAW = \"law\"\n",
        "  PHILOSOPHY = \"philosophy\"\n",
        "  POLITICS = \"politics\"\n",
        "  RELIGION = \"religion\"\n",
        "  SCIENCE = \"science\"\n",
        "  SOCIETY = \"society\"\n",
        "  SPORT = \"sport\""
      ]
    },
    {
      "cell_type": "code",
      "source": [
        "class Dataset(Enum):\n",
        "  TRAINING = \"training\"\n",
        "  TEST = \"test\""
      ],
      "metadata": {
        "id": "cU33Fi42YhyW"
      },
      "execution_count": null,
      "outputs": []
    },
    {
      "cell_type": "markdown",
      "metadata": {
        "id": "WfzpPzI6u1jX"
      },
      "source": [
        "## Extract Arguments from File"
      ]
    },
    {
      "cell_type": "markdown",
      "metadata": {
        "id": "8epW9LLku1jY"
      },
      "source": [
        "### [Debate] Arguments dict"
      ]
    },
    {
      "cell_type": "code",
      "execution_count": null,
      "metadata": {
        "id": "f1BBbo-iAGRn"
      },
      "outputs": [],
      "source": [
        "def _debate_read_file(category: Category, file_path: str, dataset: Dataset) -> list[str]:\n",
        "  \"\"\"Open debate file\"\"\"\n",
        "  try:\n",
        "    with open(f'{TRAINING_ARGUANA_FILE_PATH if dataset == Dataset.TRAINING else TEST_ARGUANA_FILE_PATH}/{category.value}/{file_path}/full.txt', 'r') as file:\n",
        "      file_contents = file.read()\n",
        "  except FileNotFoundError:\n",
        "    print(f\"File not found: {file_path + '.txt'}\")\n",
        "    return None\n",
        "\n",
        "  lines: list = re.split(r'\\n', file_contents)\n",
        "  return lines"
      ]
    },
    {
      "cell_type": "code",
      "execution_count": null,
      "metadata": {
        "id": "4kFUWQQCu1jY"
      },
      "outputs": [],
      "source": [
        "def debate_extract_arguments(\n",
        "  category: Category,\n",
        "  file_path: str,\n",
        "  start_re: str = \"# PRO\",\n",
        "  end_re: str = \"# LITERATURE\",\n",
        "  pro_point_re: str = \"# PRO\\w+-POINT\",\n",
        "  pro_counter_re: str = \"# PRO\\w+-COUNTER\",\n",
        "  con_point_re: str = \"# CON\\w+-POINT\",\n",
        "  con_counter_re: str = \"# CON\\w+-COUNTER\",\n",
        "  dataset: Dataset = Dataset.TRAINING,\n",
        "  ) -> dict:\n",
        "  \"\"\"Extract arguments from category file:\n",
        "  debate_topic.txt -> full.txt\n",
        "  \"\"\"\n",
        "\n",
        "  lines = _debate_read_file(category, file_path, dataset)\n",
        "  if not lines:\n",
        "    return None\n",
        "\n",
        "  # Enum for argument section\n",
        "  class ArgumentSection(Enum):\n",
        "    PRO = \"pro\"\n",
        "    CON = \"con\"\n",
        "\n",
        "  # Enum for argument type\n",
        "  class ArgumentType(Enum):\n",
        "    POINT = \"point\"\n",
        "    COUNTER = \"counter\"\n",
        "\n",
        "  # holds the extracted arguments for the debate topic\n",
        "  debate_arguments = {}\n",
        "\n",
        "  # holds the argument pairs data for the debate topic\n",
        "  arguments = {\n",
        "    'pro': [],\n",
        "    'con': []\n",
        "  }\n",
        "\n",
        "  # Start looping through lines\n",
        "  current_argument: str = \"\"\n",
        "  start: bool = False\n",
        "  current_argument_section = ArgumentSection.PRO\n",
        "  current_argument_type = ArgumentType.POINT\n",
        "  cur_pair = {}\n",
        "\n",
        "  for line in lines:\n",
        "    # skip to start line\n",
        "    if (not start):\n",
        "      if re.match(r'\\s*' + start_re, line):\n",
        "        start = True\n",
        "        continue\n",
        "      continue\n",
        "\n",
        "    # special case when we reach # LITERATURE\n",
        "    # we append the last argument and return\n",
        "    if re.match(r'\\s*' + end_re, line):\n",
        "      _append_argument_to_cur_pair(\n",
        "        current_argument,\n",
        "        current_argument_type,\n",
        "        cur_pair\n",
        "        )\n",
        "      _append_cur_pair_to_arguments(\n",
        "        current_argument_section,\n",
        "        arguments,\n",
        "        cur_pair\n",
        "        )\n",
        "      if len(arguments['pro']) and len(arguments['con']):\n",
        "        debate_arguments[file_path] = arguments\n",
        "      return debate_arguments\n",
        "\n",
        "    # skip citations\n",
        "    if re.match(r'\\s*\\[', line):\n",
        "      continue\n",
        "\n",
        "    # Append an argument to current pair\n",
        "    def _append_argument_to_cur_pair(\n",
        "      current_argument: str,\n",
        "      current_argument_type: ArgumentType,\n",
        "      cur_pair: dict\n",
        "      ):\n",
        "      if len(current_argument):\n",
        "        if current_argument_type == ArgumentType.POINT:\n",
        "          cur_pair['point'] = current_argument\n",
        "        else:\n",
        "          cur_pair['counter'] = current_argument\n",
        "\n",
        "    # Append current argument pair to arguments\n",
        "    def _append_cur_pair_to_arguments(\n",
        "      current_argument_section: ArgumentSection,\n",
        "      arguments: dict,\n",
        "      cur_pair: dict\n",
        "      ):\n",
        "      if len(cur_pair):\n",
        "        if current_argument_section == ArgumentSection.PRO:\n",
        "          arguments[\"pro\"].append(cur_pair)\n",
        "        else:\n",
        "          arguments[\"con\"].append(cur_pair)\n",
        "\n",
        "    # case where we meet a pro point\n",
        "    if re.match(r'\\s*' + pro_point_re, line):\n",
        "      _append_argument_to_cur_pair(\n",
        "        current_argument,\n",
        "        current_argument_type,\n",
        "        cur_pair\n",
        "        )\n",
        "      _append_cur_pair_to_arguments(\n",
        "        current_argument_section,\n",
        "        arguments,\n",
        "        cur_pair\n",
        "        )\n",
        "      current_argument_section = ArgumentSection.PRO\n",
        "      current_argument_type = ArgumentType.POINT\n",
        "      current_argument = \"\"\n",
        "      cur_pair = {}\n",
        "      continue\n",
        "\n",
        "    # case where we meet a pro counter\n",
        "    elif re.match(r'\\s*' + pro_counter_re, line):\n",
        "      _append_argument_to_cur_pair(\n",
        "        current_argument,\n",
        "        current_argument_type,\n",
        "        cur_pair\n",
        "        )\n",
        "      current_argument_section = ArgumentSection.PRO\n",
        "      current_argument_type = ArgumentType.COUNTER\n",
        "      current_argument = \"\"\n",
        "      continue\n",
        "\n",
        "      # case where we meet a con point\n",
        "    elif re.match(r'\\s*' + con_point_re, line):\n",
        "      _append_argument_to_cur_pair(\n",
        "        current_argument,\n",
        "        current_argument_type,\n",
        "        cur_pair\n",
        "        )\n",
        "      _append_cur_pair_to_arguments(\n",
        "        current_argument_section,\n",
        "        arguments,\n",
        "        cur_pair\n",
        "        )\n",
        "      current_argument_section = ArgumentSection.CON\n",
        "      current_argument_type = ArgumentType.POINT\n",
        "      current_argument = \"\"\n",
        "      cur_pair = {}\n",
        "      continue\n",
        "\n",
        "    # case where we meet a con counter\n",
        "    elif re.match(r'\\s*' + con_counter_re, line):\n",
        "      _append_argument_to_cur_pair(\n",
        "        current_argument,\n",
        "        current_argument_type,\n",
        "        cur_pair\n",
        "        )\n",
        "      current_argument_section = ArgumentSection.CON\n",
        "      current_argument_type = ArgumentType.COUNTER\n",
        "      current_argument = \"\"\n",
        "      continue\n",
        "\n",
        "    # remove in-text citations\n",
        "    line = re.sub(r'\\[\\w+\\]', '', line)\n",
        "    line = re.sub(r'\\s\\s+', '', line)\n",
        "    current_argument += line.strip()\n",
        "\n",
        "  # this should never actually be reached\n",
        "  debate_arguments[file_path] = arguments\n",
        "  return debate_arguments"
      ]
    },
    {
      "cell_type": "markdown",
      "metadata": {
        "id": "c-DbdqMtu1ju"
      },
      "source": [
        "### [Category] Arguments dict"
      ]
    },
    {
      "cell_type": "code",
      "execution_count": null,
      "metadata": {
        "id": "ad9gXbjVibas"
      },
      "outputs": [],
      "source": [
        "def _write_invalid_debate_to_file(category: Category, file_path: str, dataset: Dataset):\n",
        "  \"\"\"Mark debate files that are empty\"\"\"\n",
        "  output_folder = f'current-data-dump/data-valid-tally/{\"training\" if dataset == Dataset.TRAINING else \"test\"}'\n",
        "  output_file_path = f'{output_folder}{category.value}.txt'\n",
        "  os.makedirs(output_folder, exist_ok=True)\n",
        "  file = open(output_file_path, \"a\")\n",
        "  file.write(file_path)"
      ]
    },
    {
      "cell_type": "code",
      "execution_count": null,
      "metadata": {
        "id": "4y8g9WEwCw0O"
      },
      "outputs": [],
      "source": [
        "def _category_read_paths(category: Category, dataset: Dataset) -> list[str]:\n",
        "  \"\"\"Read file paths for category\"\"\"\n",
        "  category_path = category.value.replace('-', '_')\n",
        "  category_file_path = f'{TRAINING_FILE_PATHS_FILE_PATH if dataset == Dataset.TRAINING else TEST_FILE_PATHS_FILE_PATH}/list_of_{category_path}_debates.txt'\n",
        "  try:\n",
        "    with open(category_file_path, 'r') as file:\n",
        "      file_contents = file.read()\n",
        "  except FileNotFoundError:\n",
        "    print(f\"File not found: {category_file_path}\")\n",
        "    return None\n",
        "  lines: list = re.split(r'\\n', file_contents)\n",
        "  return lines"
      ]
    },
    {
      "cell_type": "code",
      "execution_count": null,
      "metadata": {
        "id": "tXX_YEecu1jv"
      },
      "outputs": [],
      "source": [
        "def category_extract_arguments(category: Category, dataset: Dataset) -> dict:\n",
        "  \"\"\" Extract all debates from a category:\n",
        "  list_of_<category_path>_debates.txt -> <debate_topic>.txt\n",
        "  \"\"\"\n",
        "  debates_file_paths = _category_read_paths(category, dataset=dataset)\n",
        "  category_arguments = {}\n",
        "  for i, debate in enumerate(debates_file_paths):\n",
        "    debate_arguments = debate_extract_arguments(category, debate, dataset=dataset)\n",
        "    if debate_arguments:\n",
        "      category_arguments.update(debate_extract_arguments(category, debate, dataset=dataset))\n",
        "    else:\n",
        "      _write_invalid_debate_to_file(category, debate, dataset=dataset)\n",
        "  category_arguments = {f'{category.value}': category_arguments}\n",
        "  return category_arguments"
      ]
    },
    {
      "cell_type": "markdown",
      "metadata": {
        "id": "qtVZvrvPu1j4"
      },
      "source": [
        "### [Global] Arguments dict"
      ]
    },
    {
      "cell_type": "code",
      "execution_count": null,
      "metadata": {
        "id": "eEXKZj1OkLvg"
      },
      "outputs": [],
      "source": [
        "def _global_read_paths(dataset: Dataset) -> list[str]:\n",
        "  \"\"\"Read file paths for all debates\"\"\"\n",
        "  global_file_path = TRAINING_ALL_CATEGORIES_FILE_PATH if dataset == Dataset.TRAINING else TEST_ALL_CATEGORIES_FILE_PATH\n",
        "  try:\n",
        "    with open(global_file_path, 'r') as file:\n",
        "      file_contents = file.read()\n",
        "  except FileNotFoundError:\n",
        "    print(f\"File not found: {global_file_path}\")\n",
        "    return None\n",
        "  lines: list = re.split(r'\\n', file_contents)\n",
        "  return lines"
      ]
    },
    {
      "cell_type": "code",
      "execution_count": null,
      "metadata": {
        "id": "OzYSQDIgu1j4"
      },
      "outputs": [],
      "source": [
        "def global_extract_arguments(dataset: Dataset) -> dict:\n",
        "  \"\"\" Extract all debates across all categories:\n",
        "  all_categories.txt -> list_of_<category>_debates.txt\n",
        "  \"\"\"\n",
        "  category_file_paths = _global_read_paths(dataset)\n",
        "  category_pattern = re.compile(r'list_of_(\\w+)_debates')\n",
        "  category_paths = [line for line in category_file_paths if category_pattern.search(line)]\n",
        "  category_names = [category_pattern.search(category).group(1).upper() for category in category_paths]\n",
        "\n",
        "  # key: category: Category.value\n",
        "  # value: dictionary of dictionaries where key = topic and value is {'pro: [{'point':, 'counter':}, ...], 'con': []}\n",
        "  global_arguments = {}\n",
        "\n",
        "  # add valid topics as keys to extracted_categories and grab their arguments\n",
        "  for index, category_str in enumerate(zip(category_paths, category_names)):\n",
        "    try:\n",
        "      category = Category[category_str[1]]\n",
        "      global_arguments.update(category_extract_arguments(category, dataset))\n",
        "    except KeyError as e:\n",
        "      print(f\"Category: {category_str[1]}, Category not found in Category enum and is removed.\")\n",
        "      category_paths.pop(index)\n",
        "      category_names.pop(index)\n",
        "  return global_arguments"
      ]
    },
    {
      "cell_type": "markdown",
      "metadata": {
        "id": "eYdkwkwsu1j5"
      },
      "source": [
        "## Convert to df"
      ]
    },
    {
      "cell_type": "markdown",
      "metadata": {
        "id": "3eggnv7Ru1j5"
      },
      "source": [
        "#### [Write to File] Arguments df"
      ]
    },
    {
      "cell_type": "code",
      "execution_count": null,
      "metadata": {
        "id": "EY23D6Y8u1j6"
      },
      "outputs": [],
      "source": [
        "def _arguments_df_write_to_file(\n",
        "  arguments_data: pd.DataFrame,\n",
        "  category: Optional[str] = None,\n",
        "  topic: Optional[str] = None,\n",
        "  dataset: Dataset = Dataset.TRAINING,\n",
        "  ):\n",
        "  \"\"\"Write arguments df to pickle file\"\"\"\n",
        "\n",
        "  # Debate case\n",
        "  if topic and category:\n",
        "    topic_path = topic.replace('-', '_')\n",
        "    folder_path = f'current-data-dump/arguments-dump/{\"training\" if dataset == Dataset.TRAINING else \"test\"}/{category}/'\n",
        "    file_path = f'{folder_path}{topic_path}_arguments.pkl'\n",
        "\n",
        "  # Category case\n",
        "  elif category:\n",
        "    folder_path = f'current-data-dump/arguments-dump/{\"training\" if dataset == Dataset.TRAINING else \"test\"}/{category}/'\n",
        "    file_path = f'{folder_path}{category}_arguments.pkl'\n",
        "\n",
        "  # Global case\n",
        "  else:\n",
        "    folder_path = f'current-data-dump/arguments-dump/{\"training\" if dataset == Dataset.TRAINING else \"test\"}/'\n",
        "    file_path = f'{folder_path}global_arguments.pkl'\n",
        "\n",
        "  if not os.path.exists(folder_path):\n",
        "    os.makedirs(folder_path)\n",
        "\n",
        "  with open(file_path, 'wb') as file:\n",
        "    pickle.dump(arguments_data, file)\n",
        "    print(f\"File uploaded to {file_path}\")"
      ]
    },
    {
      "cell_type": "markdown",
      "metadata": {
        "id": "6vHqV15Fu1j6"
      },
      "source": [
        "#### [Debate] Arguments df"
      ]
    },
    {
      "cell_type": "code",
      "execution_count": null,
      "metadata": {
        "id": "IQC-uc8Bu1j7"
      },
      "outputs": [],
      "source": [
        "def debate_convert_to_df(debate_arguments: dict, category: str, dataset: Dataset) -> pd.DataFrame:\n",
        "  \"\"\"Convert arguments dict into df\"\"\"\n",
        "  debate_arguments_df = pd.DataFrame()\n",
        "  debate_topic = next(iter(debate_arguments))\n",
        "\n",
        "  # loop through all argument pairs in the # PRO section\n",
        "  for i, pro_argument in enumerate(debate_arguments[debate_topic][\"pro\"]):\n",
        "    point_argument = {\n",
        "      'argument': pro_argument['point'],\n",
        "      'pair_id': str(i),\n",
        "      'type': 'point',\n",
        "      'stance': 'PRO'\n",
        "    }\n",
        "    debate_arguments_df = pd.concat([debate_arguments_df, pd.DataFrame([point_argument])], axis=0)\n",
        "    debate_arguments_df = debate_arguments_df.reset_index(drop=True)\n",
        "\n",
        "    if 'counter' in pro_argument.keys():\n",
        "      counter_argument = {\n",
        "        'argument': pro_argument['counter'],\n",
        "        'pair_id': str(i),\n",
        "        'type': 'counter',\n",
        "        'stance': 'CON'\n",
        "      }\n",
        "      debate_arguments_df = pd.concat([debate_arguments_df, pd.DataFrame([counter_argument])], axis=0)\n",
        "      debate_arguments_df = debate_arguments_df.reset_index(drop=True)\n",
        "\n",
        "  offset = len(debate_arguments[debate_topic][\"pro\"])\n",
        "\n",
        "  # loop through all argument pairs in the # CON section\n",
        "  for j, con_argument in enumerate(debate_arguments[debate_topic][\"con\"]):\n",
        "    point_argument = {\n",
        "      'argument': con_argument['point'],\n",
        "      'pair_id': str(j+offset),\n",
        "      'type': 'point',\n",
        "      'stance': 'CON'\n",
        "    }\n",
        "    debate_arguments_df = pd.concat([debate_arguments_df, pd.DataFrame([point_argument])], axis=0)\n",
        "    debate_arguments_df = debate_arguments_df.reset_index(drop=True)\n",
        "\n",
        "    if 'counter' in con_argument.keys():\n",
        "      counter_argument = {\n",
        "        'argument': con_argument['counter'],\n",
        "        'pair_id': str(j+offset),\n",
        "        'type': 'counter',\n",
        "        'stance': 'PRO'\n",
        "      }\n",
        "      debate_arguments_df = pd.concat([debate_arguments_df, pd.DataFrame([counter_argument])], axis=0)\n",
        "      debate_arguments_df = debate_arguments_df.reset_index(drop=True)\n",
        "\n",
        "  debate_arguments_df['topic'] = debate_topic\n",
        "  debate_arguments_df = debate_arguments_df.dropna()\n",
        "  _arguments_df_write_to_file(debate_arguments_df, category, debate_topic, dataset=dataset)\n",
        "  return debate_arguments_df"
      ]
    },
    {
      "cell_type": "markdown",
      "metadata": {
        "id": "Q8YJDzDju1j8"
      },
      "source": [
        "#### [Category] Arguments df"
      ]
    },
    {
      "cell_type": "code",
      "execution_count": null,
      "metadata": {
        "id": "9c15De1Gu1j8"
      },
      "outputs": [],
      "source": [
        "def category_convert_to_df(category_arguments: dict, dataset: Dataset) -> pd.DataFrame:\n",
        "  \"\"\"Convert category arguments dict into df\"\"\"\n",
        "  category_arguments_df = pd.DataFrame()\n",
        "  category = next(iter(category_arguments))\n",
        "\n",
        "  # Loop through debates in category\n",
        "  debates = category_arguments[category]\n",
        "  for debate in debates:\n",
        "    debate_dict = category_arguments[category][debate]\n",
        "    debate_df = debate_convert_to_df({debate: debate_dict}, category, dataset=dataset)\n",
        "    category_arguments_df = pd.concat([category_arguments_df, debate_df], axis = 0)\n",
        "    category_arguments_df = category_arguments_df.reset_index(drop=True)\n",
        "\n",
        "  category_arguments_df['category'] = category\n",
        "  category_arguments_df = category_arguments_df.dropna()\n",
        "  _arguments_df_write_to_file(category_arguments_df, category, dataset=dataset)\n",
        "  return category_arguments_df"
      ]
    },
    {
      "cell_type": "markdown",
      "metadata": {
        "id": "xvsjkB09u1j8"
      },
      "source": [
        "#### [Global] Arguments df"
      ]
    },
    {
      "cell_type": "code",
      "execution_count": null,
      "metadata": {
        "id": "NlNjPas_u1j9"
      },
      "outputs": [],
      "source": [
        "def global_convert_to_df(global_arguments: dict, dataset: Dataset) -> pd.DataFrame:\n",
        "  \"\"\"Convert global arguments dict into df\"\"\"\n",
        "  global_arguments_df = pd.DataFrame()\n",
        "\n",
        "  # Loop through categories in global arguments\n",
        "  for category in global_arguments.keys():\n",
        "    global_arguments_df = pd.concat([global_arguments_df, category_convert_to_df({category: global_arguments[category]}, dataset=dataset)], axis=0)\n",
        "    global_arguments_df = global_arguments_df.reset_index(drop=True)\n",
        "\n",
        "  global_arguments_df = global_arguments_df.dropna()\n",
        "  _arguments_df_write_to_file(global_arguments_df, dataset=dataset)\n",
        "  return global_arguments_df"
      ]
    },
    {
      "cell_type": "markdown",
      "source": [
        "## Run Extract Arguments"
      ],
      "metadata": {
        "id": "anj3FRwHwZOr"
      }
    },
    {
      "cell_type": "markdown",
      "source": [
        "### [Debate] Run Extract Arguments"
      ],
      "metadata": {
        "id": "pQb_6iS1wcls"
      }
    },
    {
      "cell_type": "code",
      "source": [
        "economy_debate_arguments = debate_extract_arguments(Category.ECONOMY, \"business-economy-general-house-would-prohibit-retailers-selling-certain-items\", dataset=Dataset.TRAINING)"
      ],
      "metadata": {
        "id": "ZvucOZyxwbub"
      },
      "execution_count": null,
      "outputs": []
    },
    {
      "cell_type": "markdown",
      "source": [
        "### [Category] Run Extract Arguments"
      ],
      "metadata": {
        "id": "aulVZbcfweqN"
      }
    },
    {
      "cell_type": "code",
      "source": [
        "economy_category_arguments = category_extract_arguments(Category.ECONOMY, dataset=Dataset.TRAINING)"
      ],
      "metadata": {
        "id": "4MAN7O_Ewlev"
      },
      "execution_count": null,
      "outputs": []
    },
    {
      "cell_type": "markdown",
      "source": [
        "### [Global] Run Extract Arguments"
      ],
      "metadata": {
        "id": "Z7WfxI8iwmRZ"
      }
    },
    {
      "cell_type": "code",
      "source": [
        "global_arguments = global_extract_arguments(Dataset.TRAINING)"
      ],
      "metadata": {
        "colab": {
          "base_uri": "https://localhost:8080/"
        },
        "id": "_8oxWE-dwoKM",
        "outputId": "9cab5fa8-4eb2-4f8d-e5f6-f12bb80925b1"
      },
      "execution_count": null,
      "outputs": [
        {
          "output_type": "stream",
          "name": "stdout",
          "text": [
            "File not found: -business-finance-health-addiction-house-would-introduce-minimum-pricing-alcohol.txt\n"
          ]
        }
      ]
    },
    {
      "cell_type": "code",
      "source": [
        "global_test_arguments = global_extract_arguments(Dataset.TEST)"
      ],
      "metadata": {
        "id": "w0kwIX7ggd6c"
      },
      "execution_count": null,
      "outputs": []
    },
    {
      "cell_type": "markdown",
      "source": [
        "## Run Convert to df"
      ],
      "metadata": {
        "id": "ksocWD0qwqdx"
      }
    },
    {
      "cell_type": "markdown",
      "source": [
        "### [Debate] Run Convert to df"
      ],
      "metadata": {
        "id": "ESHKYPeRwuGZ"
      }
    },
    {
      "cell_type": "code",
      "source": [
        "economy_debate_arguments_df = debate_convert_to_df(economy_debate_arguments, Category.ECONOMY.value, Dataset.TRAINING)"
      ],
      "metadata": {
        "colab": {
          "base_uri": "https://localhost:8080/"
        },
        "id": "YLgpl_ZGwr5i",
        "outputId": "8276c820-b608-42f5-eedc-738094a5ecca"
      },
      "execution_count": null,
      "outputs": [
        {
          "output_type": "stream",
          "name": "stdout",
          "text": [
            "File uploaded to current-data-dump/arguments-dump/training/economy/business_economy_general_house_would_prohibit_retailers_selling_certain_items_arguments.pkl\n"
          ]
        }
      ]
    },
    {
      "cell_type": "markdown",
      "source": [
        "### [Category] Run Convert to df"
      ],
      "metadata": {
        "id": "1QXeQQm0wwub"
      }
    },
    {
      "cell_type": "code",
      "source": [
        "economy_category_arguments_df = category_convert_to_df(economy_category_arguments, Dataset.TRAINING)"
      ],
      "metadata": {
        "colab": {
          "base_uri": "https://localhost:8080/"
        },
        "id": "dJ-49i9Uw0NY",
        "outputId": "20a1d2ce-f79a-42a2-b37a-e7cd8f0ded12"
      },
      "execution_count": null,
      "outputs": [
        {
          "output_type": "stream",
          "name": "stdout",
          "text": [
            "File uploaded to current-data-dump/arguments-dump/training/economy/business_economic_policy_economy_general_house_believes_national_minimum_wage_arguments.pkl\n",
            "File uploaded to current-data-dump/arguments-dump/training/economy/business_economic_policy_employment_eurozone_crisis_house_believes_eu_member_arguments.pkl\n",
            "File uploaded to current-data-dump/arguments-dump/training/economy/business_economic_policy_international_africa_house_believes_africans_are_worse_arguments.pkl\n",
            "File uploaded to current-data-dump/arguments-dump/training/economy/business_economy_general_house_would_prohibit_retailers_selling_certain_items_arguments.pkl\n",
            "File uploaded to current-data-dump/arguments-dump/training/economy/business_employment_economy_general_society_house_believes_there_should_be_arguments.pkl\n",
            "File uploaded to current-data-dump/arguments-dump/training/economy/business_employment_finance_house_would_introduce_mandatory_salary_capping_arguments.pkl\n",
            "File uploaded to current-data-dump/arguments-dump/training/economy/business_finance_government_sport_olympics_house_believes_hosting_olympics_good_arguments.pkl\n",
            "File uploaded to current-data-dump/arguments-dump/training/economy/business_health_health_general_house_would_allow_pharmaceutical_companies_arguments.pkl\n",
            "File uploaded to current-data-dump/arguments-dump/training/economy/business_international_africa_computers_phones_house_believes_new_technologies_arguments.pkl\n",
            "File uploaded to current-data-dump/arguments-dump/training/economy/economic_policy_economy_general_house_would_replace_aid_remittances_arguments.pkl\n",
            "File uploaded to current-data-dump/arguments-dump/training/economy/economic_policy_economy_general_international_europe_philosophy_political_arguments.pkl\n",
            "File uploaded to current-data-dump/arguments-dump/training/economy/economic_policy_economy_general_international_europe_politics_government_house_arguments.pkl\n",
            "File uploaded to current-data-dump/arguments-dump/training/economy/economic_policy_economy_general_philosophy_political_philosophy_house_would_arguments.pkl\n",
            "File uploaded to current-data-dump/arguments-dump/training/economy/economic_policy_education_education_general_house_believes_payment_welfare_arguments.pkl\n",
            "File uploaded to current-data-dump/arguments-dump/training/economy/economic_policy_employment_house_would_abolish_collective_bargaining_rights_arguments.pkl\n",
            "File uploaded to current-data-dump/arguments-dump/training/economy/economic_policy_employment_house_would_pass_american_jobs_act_arguments.pkl\n",
            "File uploaded to current-data-dump/arguments-dump/training/economy/economic_policy_employment_society_house_would_institute_mandatory_retirement_age_arguments.pkl\n",
            "File uploaded to current-data-dump/arguments-dump/training/economy/economic_policy_environment_climate_energy_water_international_africa_house_would_arguments.pkl\n",
            "File uploaded to current-data-dump/arguments-dump/training/economy/economic_policy_eurozone_crisis_finance_house_would_introduce_eurobonds_arguments.pkl\n",
            "File uploaded to current-data-dump/arguments-dump/training/economy/economic_policy_eurozone_crisis_finance_international_europe_politics_government_arguments.pkl\n",
            "File uploaded to current-data-dump/arguments-dump/training/economy/economic_policy_eurozone_crisis_house_believes_uk_would_be_better_economically_arguments.pkl\n",
            "File uploaded to current-data-dump/arguments-dump/training/economy/economic_policy_finance_tax_house_would_prioritise_eliminating_budget_deficit_arguments.pkl\n",
            "File uploaded to current-data-dump/arguments-dump/training/economy/economic_policy_international_africa_government_house_would_put_taxesrevenue_oil_arguments.pkl\n",
            "File uploaded to current-data-dump/arguments-dump/training/economy/economic_policy_international_africa_society_family_house_believes_african_cities_arguments.pkl\n",
            "File uploaded to current-data-dump/arguments-dump/training/economy/economic_policy_international_africa_society_family_immigration_house_believes_arguments.pkl\n",
            "File uploaded to current-data-dump/arguments-dump/training/economy/economic_policy_international_americas_house_believes_nafta_has_benefitted_all_arguments.pkl\n",
            "File uploaded to current-data-dump/arguments-dump/training/economy/economic_policy_international_asia_global_house_would_stop_sending_development_arguments.pkl\n",
            "File uploaded to current-data-dump/arguments-dump/training/economy/economic_policy_society_family_house_would_privatize_usas_social_security_schemes_arguments.pkl\n",
            "File uploaded to current-data-dump/arguments-dump/training/economy/economic_policy_sport_olympics_sport_general_house_believes_south_africa_should_arguments.pkl\n",
            "File uploaded to current-data-dump/arguments-dump/training/economy/economic_policy_tax_philosophy_political_philosophy_politics_government_house_arguments.pkl\n",
            "File uploaded to current-data-dump/arguments-dump/training/economy/economy_economic_policy_employment_thw_ban_minimum_wage_arguments.pkl\n",
            "File uploaded to current-data-dump/arguments-dump/training/economy/economy_economic_policy_finance_thw_never_bail_out_big_companies_arguments.pkl\n",
            "File uploaded to current-data-dump/arguments-dump/training/economy/economy_economic_policy_tax_house_would_create_national_lottery_arguments.pkl\n",
            "File uploaded to current-data-dump/arguments-dump/training/economy/economy_economy_general_health_health_general_house_would_legalize_sale_human_arguments.pkl\n",
            "File uploaded to current-data-dump/arguments-dump/training/economy/economy_economy_general_international_africa_global_house_would_compensate_arguments.pkl\n",
            "File uploaded to current-data-dump/arguments-dump/training/economy/economy_finance_house_supports_chapter_11_bankruptcy_laws_arguments.pkl\n",
            "File uploaded to current-data-dump/arguments-dump/training/economy/economy_finance_house_would_cancel_developing_world_debt_arguments.pkl\n",
            "File uploaded to current-data-dump/arguments-dump/training/economy/economy_finance_tax_international_africa_house_believes_countries_which_suffer_arguments.pkl\n",
            "File uploaded to current-data-dump/arguments-dump/training/economy/economy_general_environment_climate_energy_pollution_house_would_go_nuclear_arguments.pkl\n",
            "File uploaded to current-data-dump/arguments-dump/training/economy/economy_general_politics_leadership_house_believes_bribery_sometimes_acceptable_arguments.pkl\n",
            "File uploaded to current-data-dump/arguments-dump/training/economy/economy_general_politics_politics_general_government_house_would_give_obama_arguments.pkl\n",
            "File uploaded to current-data-dump/arguments-dump/training/economy/economy_general_society_family_house_would_make_home_ownership_affordable_arguments.pkl\n",
            "File uploaded to current-data-dump/arguments-dump/training/economy/employment_house_believes_unemployed_should_be_made_work_their_welfare_money_arguments.pkl\n",
            "File uploaded to current-data-dump/arguments-dump/training/economy/employment_international_africa_society_immigration_minorities_youth_house_would_arguments.pkl\n",
            "File uploaded to current-data-dump/arguments-dump/training/economy/employment_international_global_society_immigration_minorities_arguments.pkl\n",
            "File uploaded to current-data-dump/arguments-dump/training/economy/employment_tax_education_university_house_would_fund_provision_higher_education_arguments.pkl\n",
            "File uploaded to current-data-dump/arguments-dump/training/economy/employment_tax_politics_government_house_would_abolish_all_collective_bargaining_arguments.pkl\n",
            "File uploaded to current-data-dump/arguments-dump/training/economy/eurozone_crisis_economy_general_international_europe_house_believes_european_arguments.pkl\n",
            "File uploaded to current-data-dump/arguments-dump/training/economy/finance_economy_general_house_believes_global_free_trade_arguments.pkl\n",
            "File uploaded to current-data-dump/arguments-dump/training/economy/finance_economy_general_house_would_act_regulate_activities_sovereign_wealth_arguments.pkl\n",
            "File uploaded to current-data-dump/arguments-dump/training/economy/finance_economy_general_international_politics_politics_general_house_prefers_arguments.pkl\n",
            "File uploaded to current-data-dump/arguments-dump/training/economy/finance_health_healthcare_politics_house_would_introduce_system_universal_arguments.pkl\n",
            "File uploaded to current-data-dump/arguments-dump/training/economy/finance_international_africa_global_house_would_end_western_states_control_over_arguments.pkl\n",
            "File uploaded to current-data-dump/arguments-dump/training/economy/tax_education_education_general_secondary_house_would_fund_education_using_arguments.pkl\n",
            "File uploaded to current-data-dump/arguments-dump/training/economy/tax_philosophy_political_philosophy_house_would_introduce_flat_tax_arguments.pkl\n",
            "File uploaded to current-data-dump/arguments-dump/training/economy/tax_politics_voting_obama_vs_romney_should_us_government_continue_spend_current_arguments.pkl\n",
            "File uploaded to current-data-dump/arguments-dump/training/economy/economy_arguments.pkl\n"
          ]
        }
      ]
    },
    {
      "cell_type": "markdown",
      "source": [
        "### [Global] Run Convert to df"
      ],
      "metadata": {
        "id": "60I7vSNpw02m"
      }
    },
    {
      "cell_type": "code",
      "source": [
        "global_arguments_df = global_convert_to_df(global_arguments, Dataset.TRAINING)"
      ],
      "metadata": {
        "colab": {
          "base_uri": "https://localhost:8080/"
        },
        "id": "8hzLqvr0w3PL",
        "outputId": "159c6c0b-116b-48e5-cecd-acee62963ebb"
      },
      "execution_count": null,
      "outputs": [
        {
          "output_type": "stream",
          "name": "stdout",
          "text": [
            "File uploaded to current-data-dump/arguments-dump/training/economy/business_economic_policy_economy_general_house_believes_national_minimum_wage_arguments.pkl\n",
            "File uploaded to current-data-dump/arguments-dump/training/economy/business_economic_policy_employment_eurozone_crisis_house_believes_eu_member_arguments.pkl\n",
            "File uploaded to current-data-dump/arguments-dump/training/economy/business_economic_policy_international_africa_house_believes_africans_are_worse_arguments.pkl\n",
            "File uploaded to current-data-dump/arguments-dump/training/economy/business_economy_general_house_would_prohibit_retailers_selling_certain_items_arguments.pkl\n",
            "File uploaded to current-data-dump/arguments-dump/training/economy/business_employment_economy_general_society_house_believes_there_should_be_arguments.pkl\n",
            "File uploaded to current-data-dump/arguments-dump/training/economy/business_employment_finance_house_would_introduce_mandatory_salary_capping_arguments.pkl\n",
            "File uploaded to current-data-dump/arguments-dump/training/economy/business_finance_government_sport_olympics_house_believes_hosting_olympics_good_arguments.pkl\n",
            "File uploaded to current-data-dump/arguments-dump/training/economy/business_health_health_general_house_would_allow_pharmaceutical_companies_arguments.pkl\n",
            "File uploaded to current-data-dump/arguments-dump/training/economy/business_international_africa_computers_phones_house_believes_new_technologies_arguments.pkl\n",
            "File uploaded to current-data-dump/arguments-dump/training/economy/economic_policy_economy_general_house_would_replace_aid_remittances_arguments.pkl\n",
            "File uploaded to current-data-dump/arguments-dump/training/economy/economic_policy_economy_general_international_europe_philosophy_political_arguments.pkl\n",
            "File uploaded to current-data-dump/arguments-dump/training/economy/economic_policy_economy_general_international_europe_politics_government_house_arguments.pkl\n",
            "File uploaded to current-data-dump/arguments-dump/training/economy/economic_policy_economy_general_philosophy_political_philosophy_house_would_arguments.pkl\n",
            "File uploaded to current-data-dump/arguments-dump/training/economy/economic_policy_education_education_general_house_believes_payment_welfare_arguments.pkl\n",
            "File uploaded to current-data-dump/arguments-dump/training/economy/economic_policy_employment_house_would_abolish_collective_bargaining_rights_arguments.pkl\n",
            "File uploaded to current-data-dump/arguments-dump/training/economy/economic_policy_employment_house_would_pass_american_jobs_act_arguments.pkl\n",
            "File uploaded to current-data-dump/arguments-dump/training/economy/economic_policy_employment_society_house_would_institute_mandatory_retirement_age_arguments.pkl\n",
            "File uploaded to current-data-dump/arguments-dump/training/economy/economic_policy_environment_climate_energy_water_international_africa_house_would_arguments.pkl\n",
            "File uploaded to current-data-dump/arguments-dump/training/economy/economic_policy_eurozone_crisis_finance_house_would_introduce_eurobonds_arguments.pkl\n",
            "File uploaded to current-data-dump/arguments-dump/training/economy/economic_policy_eurozone_crisis_finance_international_europe_politics_government_arguments.pkl\n",
            "File uploaded to current-data-dump/arguments-dump/training/economy/economic_policy_eurozone_crisis_house_believes_uk_would_be_better_economically_arguments.pkl\n",
            "File uploaded to current-data-dump/arguments-dump/training/economy/economic_policy_finance_tax_house_would_prioritise_eliminating_budget_deficit_arguments.pkl\n",
            "File uploaded to current-data-dump/arguments-dump/training/economy/economic_policy_international_africa_government_house_would_put_taxesrevenue_oil_arguments.pkl\n",
            "File uploaded to current-data-dump/arguments-dump/training/economy/economic_policy_international_africa_society_family_house_believes_african_cities_arguments.pkl\n",
            "File uploaded to current-data-dump/arguments-dump/training/economy/economic_policy_international_africa_society_family_immigration_house_believes_arguments.pkl\n",
            "File uploaded to current-data-dump/arguments-dump/training/economy/economic_policy_international_americas_house_believes_nafta_has_benefitted_all_arguments.pkl\n",
            "File uploaded to current-data-dump/arguments-dump/training/economy/economic_policy_international_asia_global_house_would_stop_sending_development_arguments.pkl\n",
            "File uploaded to current-data-dump/arguments-dump/training/economy/economic_policy_society_family_house_would_privatize_usas_social_security_schemes_arguments.pkl\n",
            "File uploaded to current-data-dump/arguments-dump/training/economy/economic_policy_sport_olympics_sport_general_house_believes_south_africa_should_arguments.pkl\n",
            "File uploaded to current-data-dump/arguments-dump/training/economy/economic_policy_tax_philosophy_political_philosophy_politics_government_house_arguments.pkl\n",
            "File uploaded to current-data-dump/arguments-dump/training/economy/economy_economic_policy_employment_thw_ban_minimum_wage_arguments.pkl\n",
            "File uploaded to current-data-dump/arguments-dump/training/economy/economy_economic_policy_finance_thw_never_bail_out_big_companies_arguments.pkl\n",
            "File uploaded to current-data-dump/arguments-dump/training/economy/economy_economic_policy_tax_house_would_create_national_lottery_arguments.pkl\n",
            "File uploaded to current-data-dump/arguments-dump/training/economy/economy_economy_general_health_health_general_house_would_legalize_sale_human_arguments.pkl\n",
            "File uploaded to current-data-dump/arguments-dump/training/economy/economy_economy_general_international_africa_global_house_would_compensate_arguments.pkl\n",
            "File uploaded to current-data-dump/arguments-dump/training/economy/economy_finance_house_supports_chapter_11_bankruptcy_laws_arguments.pkl\n",
            "File uploaded to current-data-dump/arguments-dump/training/economy/economy_finance_house_would_cancel_developing_world_debt_arguments.pkl\n",
            "File uploaded to current-data-dump/arguments-dump/training/economy/economy_finance_tax_international_africa_house_believes_countries_which_suffer_arguments.pkl\n",
            "File uploaded to current-data-dump/arguments-dump/training/economy/economy_general_environment_climate_energy_pollution_house_would_go_nuclear_arguments.pkl\n",
            "File uploaded to current-data-dump/arguments-dump/training/economy/economy_general_politics_leadership_house_believes_bribery_sometimes_acceptable_arguments.pkl\n",
            "File uploaded to current-data-dump/arguments-dump/training/economy/economy_general_politics_politics_general_government_house_would_give_obama_arguments.pkl\n",
            "File uploaded to current-data-dump/arguments-dump/training/economy/economy_general_society_family_house_would_make_home_ownership_affordable_arguments.pkl\n",
            "File uploaded to current-data-dump/arguments-dump/training/economy/employment_house_believes_unemployed_should_be_made_work_their_welfare_money_arguments.pkl\n",
            "File uploaded to current-data-dump/arguments-dump/training/economy/employment_international_africa_society_immigration_minorities_youth_house_would_arguments.pkl\n",
            "File uploaded to current-data-dump/arguments-dump/training/economy/employment_international_global_society_immigration_minorities_arguments.pkl\n",
            "File uploaded to current-data-dump/arguments-dump/training/economy/employment_tax_education_university_house_would_fund_provision_higher_education_arguments.pkl\n",
            "File uploaded to current-data-dump/arguments-dump/training/economy/employment_tax_politics_government_house_would_abolish_all_collective_bargaining_arguments.pkl\n",
            "File uploaded to current-data-dump/arguments-dump/training/economy/eurozone_crisis_economy_general_international_europe_house_believes_european_arguments.pkl\n",
            "File uploaded to current-data-dump/arguments-dump/training/economy/finance_economy_general_house_believes_global_free_trade_arguments.pkl\n",
            "File uploaded to current-data-dump/arguments-dump/training/economy/finance_economy_general_house_would_act_regulate_activities_sovereign_wealth_arguments.pkl\n",
            "File uploaded to current-data-dump/arguments-dump/training/economy/finance_economy_general_international_politics_politics_general_house_prefers_arguments.pkl\n",
            "File uploaded to current-data-dump/arguments-dump/training/economy/finance_health_healthcare_politics_house_would_introduce_system_universal_arguments.pkl\n",
            "File uploaded to current-data-dump/arguments-dump/training/economy/finance_international_africa_global_house_would_end_western_states_control_over_arguments.pkl\n",
            "File uploaded to current-data-dump/arguments-dump/training/economy/tax_education_education_general_secondary_house_would_fund_education_using_arguments.pkl\n",
            "File uploaded to current-data-dump/arguments-dump/training/economy/tax_philosophy_political_philosophy_house_would_introduce_flat_tax_arguments.pkl\n",
            "File uploaded to current-data-dump/arguments-dump/training/economy/tax_politics_voting_obama_vs_romney_should_us_government_continue_spend_current_arguments.pkl\n",
            "File uploaded to current-data-dump/arguments-dump/training/economy/economy_arguments.pkl\n",
            "File uploaded to current-data-dump/arguments-dump/training/education/aditions_education_teaching_university_house_would_return_cultural_property_arguments.pkl\n",
            "File uploaded to current-data-dump/arguments-dump/training/education/deo_games_education_general_internet_house_would_ban_sale_violent_video_arguments.pkl\n",
            "File uploaded to current-data-dump/arguments-dump/training/education/education_general_free_speech_debate_internet_freedom_science_computers_phones_arguments.pkl\n",
            "File uploaded to current-data-dump/arguments-dump/training/education/education_general_health_house_would_make_vaccination_compulsory_arguments.pkl\n",
            "File uploaded to current-data-dump/arguments-dump/training/education/education_general_health_sex_sexuality_house_would_promote_safe_sex_through_arguments.pkl\n",
            "File uploaded to current-data-dump/arguments-dump/training/education/education_general_house_believes_parents_should_be_held_responsible_their_arguments.pkl\n",
            "File uploaded to current-data-dump/arguments-dump/training/education/education_general_house_would_ban_school_uniforms_junior_arguments.pkl\n",
            "File uploaded to current-data-dump/arguments-dump/training/education/education_general_physical_education_university_politics_defence_warpeace_arguments.pkl\n",
            "File uploaded to current-data-dump/arguments-dump/training/education/education_general_secondary_house_would_raise_school_leaving_age_18_arguments.pkl\n",
            "File uploaded to current-data-dump/arguments-dump/training/education/education_general_secondary_raise_school_leaving_age_18_junior_arguments.pkl\n",
            "File uploaded to current-data-dump/arguments-dump/training/education/education_general_teaching_law_crime_policing_society_youth_house_would_arm_arguments.pkl\n",
            "File uploaded to current-data-dump/arguments-dump/training/education/education_general_teaching_youth_house_supports_home_schooling_arguments.pkl\n",
            "File uploaded to current-data-dump/arguments-dump/training/education/education_general_university_house_would_encourage_fewer_people_go_university_arguments.pkl\n",
            "File uploaded to current-data-dump/arguments-dump/training/education/education_literary_classics_house_believes_teaching_literary_classics_should_be_arguments.pkl\n",
            "File uploaded to current-data-dump/arguments-dump/training/education/general_health_addiction_house_would_lower_drinking_age_arguments.pkl\n",
            "File uploaded to current-data-dump/arguments-dump/training/education/ion_teaching_human_rights_punishment_house_would_reintroduce_corporal_arguments.pkl\n",
            "File uploaded to current-data-dump/arguments-dump/training/education/lture_general_education_education_general_house_would_make_english_official_arguments.pkl\n",
            "File uploaded to current-data-dump/arguments-dump/training/education/onomic_policy_education_education_general_house_believes_payment_welfare_arguments.pkl\n",
            "File uploaded to current-data-dump/arguments-dump/training/education/physical_education_primary_secondary_health_weight_sport_general_team_sports_arguments.pkl\n",
            "File uploaded to current-data-dump/arguments-dump/training/education/primary_secondary_law_punishment_society_youth_house_would_bring_back_corporal_arguments.pkl\n",
            "File uploaded to current-data-dump/arguments-dump/training/education/primary_secondary_religion_morality_house_would_not_allow_schools_display_ten_arguments.pkl\n",
            "File uploaded to current-data-dump/arguments-dump/training/education/primary_secondary_teaching_house_would_ban_homework_arguments.pkl\n",
            "File uploaded to current-data-dump/arguments-dump/training/education/primary_secondary_teaching_poetry_should_not_be_taught_schools_junior_arguments.pkl\n",
            "File uploaded to current-data-dump/arguments-dump/training/education/primary_secondary_teaching_university_house_believes_history_has_no_place_arguments.pkl\n",
            "File uploaded to current-data-dump/arguments-dump/training/education/primary_teaching_international_africa_house_believes_lack_investment_teachers_arguments.pkl\n",
            "File uploaded to current-data-dump/arguments-dump/training/education/secondary_house_believes_people_should_have_right_private_education_arguments.pkl\n",
            "File uploaded to current-data-dump/arguments-dump/training/education/secondary_house_would_make_lessons_foreign_language_compulsory_school_pupils_arguments.pkl\n",
            "File uploaded to current-data-dump/arguments-dump/training/education/teaching_free_speech_debate_free_know_house_would_allow_biased_versions_history_arguments.pkl\n",
            "File uploaded to current-data-dump/arguments-dump/training/education/ts_education_secondary_teaching_literary_classics_house_believes_poetry_arguments.pkl\n",
            "File uploaded to current-data-dump/arguments-dump/training/education/ucation_education_general_law_law_general_house_would_hold_students_legally_arguments.pkl\n",
            "File uploaded to current-data-dump/arguments-dump/training/education/university_digital_freedoms_access_knowledge_house_would_subsidise_translation_arguments.pkl\n",
            "File uploaded to current-data-dump/arguments-dump/training/education/university_house_would_encourage_creation_private_universities_uk_arguments.pkl\n",
            "File uploaded to current-data-dump/arguments-dump/training/education/university_law_general_house_believes_legal_qualification_worth_cost_arguments.pkl\n",
            "File uploaded to current-data-dump/arguments-dump/training/education/university_law_law_general_society_minorities_house_would_censor_hate_speech_arguments.pkl\n",
            "File uploaded to current-data-dump/arguments-dump/training/education/university_philosophy_political_philosophy_minorities_house_would_use_positive_arguments.pkl\n",
            "File uploaded to current-data-dump/arguments-dump/training/education/education_arguments.pkl\n",
            "File uploaded to current-data-dump/arguments-dump/training/environment/animals_climate_house_believes_endangered_species_should_be_protected_arguments.pkl\n",
            "File uploaded to current-data-dump/arguments-dump/training/environment/animals_ethics_life_metaphysics_morality_house_believes_animals_have_rights_arguments.pkl\n",
            "File uploaded to current-data-dump/arguments-dump/training/environment/animals_house_would_ban_slaughter_animals_which_have_not_been_stunned_first_arguments.pkl\n",
            "File uploaded to current-data-dump/arguments-dump/training/environment/animals_house_would_cull_badgers_arguments.pkl\n",
            "File uploaded to current-data-dump/arguments-dump/training/environment/animals_sport_sport_general_house_believes_all_nations_should_ban_arguments.pkl\n",
            "File uploaded to current-data-dump/arguments-dump/training/environment/climate_energy_environment_general_pollution_water_house_would_privatize_arguments.pkl\n",
            "File uploaded to current-data-dump/arguments-dump/training/environment/climate_energy_house_would_invest_renewable_technologies_rather_nuclear_power_arguments.pkl\n",
            "File uploaded to current-data-dump/arguments-dump/training/environment/climate_energy_pollution_house_believes_eu_should_abandon_nuclear_energy_arguments.pkl\n",
            "File uploaded to current-data-dump/arguments-dump/training/environment/climate_energy_pollution_house_would_cease_exploitation_arctic_region_arguments.pkl\n",
            "File uploaded to current-data-dump/arguments-dump/training/environment/climate_environment_general_water_house_would_build_hydroelectric_dams_arguments.pkl\n",
            "File uploaded to current-data-dump/arguments-dump/training/environment/climate_international_science_house_would_cease_exploitation_antarctic_arguments.pkl\n",
            "File uploaded to current-data-dump/arguments-dump/training/environment/climate_pollution_international_africa_house_would_developed_world_fund_arguments.pkl\n",
            "File uploaded to current-data-dump/arguments-dump/training/environment/climate_resolved_adaptation_should_be_most_urgent_response_climate_change_arguments.pkl\n",
            "File uploaded to current-data-dump/arguments-dump/training/environment/energy_environment_general_water_international_africa_house_believes_ethiopia_arguments.pkl\n",
            "File uploaded to current-data-dump/arguments-dump/training/environment/environment_climate_energy_thw_use_carbon_capture_and_storage_curb_carbon_arguments.pkl\n",
            "File uploaded to current-data-dump/arguments-dump/training/environment/environment_climate_house_believes_cap_and_trade_system_preferable_carbon_tax_arguments.pkl\n",
            "File uploaded to current-data-dump/arguments-dump/training/environment/omy_economy_general_environment_energy_house_would_restrict_use_fracking_arguments.pkl\n",
            "File uploaded to current-data-dump/arguments-dump/training/environment/omy_general_environment_climate_energy_pollution_house_would_go_nuclear_arguments.pkl\n",
            "File uploaded to current-data-dump/arguments-dump/training/environment/pollution_science_censorship_ip_science_general_house_would_ban_sale_3d_arguments.pkl\n",
            "File uploaded to current-data-dump/arguments-dump/training/environment/pollution_weight_society_house_would_drive_out_town_shopping_centre_arguments.pkl\n",
            "File uploaded to current-data-dump/arguments-dump/training/environment/ronment_animals_africa_americas_asia_crime_policing_punishment_house_would_arguments.pkl\n",
            "File uploaded to current-data-dump/arguments-dump/training/environment/ronment_animals_climate_energy_environment_general_health_general_arguments.pkl\n",
            "File uploaded to current-data-dump/arguments-dump/training/environment/environment_arguments.pkl\n",
            "File uploaded to current-data-dump/arguments-dump/training/free-speech-debate/_debate_media_and_good_government_house_would_regulate_press_arguments.pkl\n",
            "File uploaded to current-data-dump/arguments-dump/training/free-speech-debate/_general_free_speech_debate_internet_freedom_science_computers_phones_arguments.pkl\n",
            "File uploaded to current-data-dump/arguments-dump/training/free-speech-debate/basic_principle_house_believes_expenditure_money_should_be_protected_arguments.pkl\n",
            "File uploaded to current-data-dump/arguments-dump/training/free-speech-debate/basic_principle_house_would_protect_braille_out_respect_free_speech_arguments.pkl\n",
            "File uploaded to current-data-dump/arguments-dump/training/free-speech-debate/ee_speech_debate_basic_principle_house_would_limit_free_speech_rights_arguments.pkl\n",
            "File uploaded to current-data-dump/arguments-dump/training/free-speech-debate/eral_free_speech_debate_free_know_house_would_show_darker_side_arguments.pkl\n",
            "File uploaded to current-data-dump/arguments-dump/training/free-speech-debate/free_challenge_house_believes_defending_enemies_ones_nation_legitimate_arguments.pkl\n",
            "File uploaded to current-data-dump/arguments-dump/training/free-speech-debate/free_challenge_house_believes_leaking_military_documents_anat_kamm_was_arguments.pkl\n",
            "File uploaded to current-data-dump/arguments-dump/training/free-speech-debate/free_challenge_house_believes_nations_history_and_mythology_part_its_arguments.pkl\n",
            "File uploaded to current-data-dump/arguments-dump/training/free-speech-debate/free_know_house_believes_tennessee_correct_protect_teachers_who_wish_arguments.pkl\n",
            "File uploaded to current-data-dump/arguments-dump/training/free-speech-debate/free_know_house_supports_decision_state_bavaria_publish_mein_kampf_arguments.pkl\n",
            "File uploaded to current-data-dump/arguments-dump/training/free-speech-debate/free_speech_and_privacy_house_would_allow_celebrities_switch_limelight_arguments.pkl\n",
            "File uploaded to current-data-dump/arguments-dump/training/free-speech-debate/free_speech_and_privacy_politics_government_digital_freedoms_privacy_arguments.pkl\n",
            "File uploaded to current-data-dump/arguments-dump/training/free-speech-debate/internet_freedom_censorship_ip_digital_freedoms_freedom_expression_arguments.pkl\n",
            "File uploaded to current-data-dump/arguments-dump/training/free-speech-debate/internet_freedom_digital_freedoms_freedom_expression_house_would_arguments.pkl\n",
            "File uploaded to current-data-dump/arguments-dump/training/free-speech-debate/internet_freedom_politics_government_digital_freedoms_freedom_arguments.pkl\n",
            "File uploaded to current-data-dump/arguments-dump/training/free-speech-debate/living_difference_international_global_religion_religion_general_arguments.pkl\n",
            "File uploaded to current-data-dump/arguments-dump/training/free-speech-debate/living_difference_international_middle_east_house_believes_news_arguments.pkl\n",
            "File uploaded to current-data-dump/arguments-dump/training/free-speech-debate/media_and_good_government_international_africa_house_believes_limited_arguments.pkl\n",
            "File uploaded to current-data-dump/arguments-dump/training/free-speech-debate/media_and_good_government_politics_defence_government_digital_freedoms_arguments.pkl\n",
            "File uploaded to current-data-dump/arguments-dump/training/free-speech-debate/no_violence_house_believes_freedom_expression_more_important_religious_arguments.pkl\n",
            "File uploaded to current-data-dump/arguments-dump/training/free-speech-debate/no_violence_house_supports_indias_ban_satanic_verses_arguments.pkl\n",
            "File uploaded to current-data-dump/arguments-dump/training/free-speech-debate/nothing_sacred_house_believes_blasphemy_has_no_place_statute_books_arguments.pkl\n",
            "File uploaded to current-data-dump/arguments-dump/training/free-speech-debate/nothing_sacred_house_believes_imprisoned_members_pussy_riot_should_be_arguments.pkl\n",
            "File uploaded to current-data-dump/arguments-dump/training/free-speech-debate/reputation_and_defamation_house_believes_right_reply_arguments.pkl\n",
            "File uploaded to current-data-dump/arguments-dump/training/free-speech-debate/speech_debate_media_and_good_government_house_believes_rupert_murdoch_arguments.pkl\n",
            "File uploaded to current-data-dump/arguments-dump/training/free-speech-debate/free-speech-debate_arguments.pkl\n",
            "File uploaded to current-data-dump/arguments-dump/training/health/_business_health_health_general_house_would_allow_pharmaceutical_companies_arguments.pkl\n",
            "File uploaded to current-data-dump/arguments-dump/training/health/_business_health_health_general_weight_thbt_new_york_city_has_right_regulate_size_arguments.pkl\n",
            "File uploaded to current-data-dump/arguments-dump/training/health/_economy_economy_general_health_health_general_house_would_legalize_sale_human_arguments.pkl\n",
            "File uploaded to current-data-dump/arguments-dump/training/health/_environment_animals_climate_energy_environment_general_health_general_arguments.pkl\n",
            "File uploaded to current-data-dump/arguments-dump/training/health/_finance_health_healthcare_politics_house_would_introduce_system_universal_arguments.pkl\n",
            "File uploaded to current-data-dump/arguments-dump/training/health/_media_television_health_weight_house_would_ban_promotion_diets_arguments.pkl\n",
            "File uploaded to current-data-dump/arguments-dump/training/health/_modern_culture_health_disease_health_general_weight_house_would_force_feed_arguments.pkl\n",
            "File uploaded to current-data-dump/arguments-dump/training/health/_modern_culture_health_health_general_house_would_ban_cosmetic_surgery_arguments.pkl\n",
            "File uploaded to current-data-dump/arguments-dump/training/health/addiction_disease_health_general_politics_house_would_further_restrict_smoking_arguments.pkl\n",
            "File uploaded to current-data-dump/arguments-dump/training/health/addiction_health_general_healthcare_house_would_deny_smokers_access_state_arguments.pkl\n",
            "File uploaded to current-data-dump/arguments-dump/training/health/addiction_health_general_healthcare_thw_require_provision_cannabis_any_state_arguments.pkl\n",
            "File uploaded to current-data-dump/arguments-dump/training/health/addiction_health_general_law_crime_policing_house_supports_legalisation_drugs_arguments.pkl\n",
            "File uploaded to current-data-dump/arguments-dump/training/health/addiction_health_general_society_house_believes_cannabis_should_be_legalised_arguments.pkl\n",
            "File uploaded to current-data-dump/arguments-dump/training/health/addiction_house_would_ban_alcohol_arguments.pkl\n",
            "File uploaded to current-data-dump/arguments-dump/training/health/disease_health_general_are_multiple_vaccines_safe_arguments.pkl\n",
            "File uploaded to current-data-dump/arguments-dump/training/health/disease_healthcare_international_africa_house_would_implent_virtual_doctor_project_arguments.pkl\n",
            "File uploaded to current-data-dump/arguments-dump/training/health/disease_sex_sexuality_international_africa_house_would_legalize_sex_work_order_arguments.pkl\n",
            "File uploaded to current-data-dump/arguments-dump/training/health/education_education_general_health_sex_sexuality_house_would_distribute_condoms_arguments.pkl\n",
            "File uploaded to current-data-dump/arguments-dump/training/health/eech_debate_free_speech_and_privacy_health_general_international_africa_politics_arguments.pkl\n",
            "File uploaded to current-data-dump/arguments-dump/training/health/health_addiction_house_would_punish_parents_who_smoke_presence_their_children_arguments.pkl\n",
            "File uploaded to current-data-dump/arguments-dump/training/health/health_general_global_law_crime_policing_law_general_punishment_house_would_arguments.pkl\n",
            "File uploaded to current-data-dump/arguments-dump/training/health/health_general_healthcare_politics_government_house_believes_united_states_arguments.pkl\n",
            "File uploaded to current-data-dump/arguments-dump/training/health/health_general_philosophy_life_genetics_house_believes_we_should_strive_arguments.pkl\n",
            "File uploaded to current-data-dump/arguments-dump/training/health/health_general_weight_house_would_ban_use_trans_fats_food_stuffs_arguments.pkl\n",
            "File uploaded to current-data-dump/arguments-dump/training/health/health_general_weight_house_would_introduce_labels_food_encourage_people_eat_arguments.pkl\n",
            "File uploaded to current-data-dump/arguments-dump/training/health/health_general_weight_society_youth_tthw_prohibit_sale_childrens_toys_part_fast_arguments.pkl\n",
            "File uploaded to current-data-dump/arguments-dump/training/health/health_pregnancy_house_believes_doctors_should_be_allowed_prescribe_contraception_arguments.pkl\n",
            "File uploaded to current-data-dump/arguments-dump/training/health/healthcare_genetics_family_house_would_ban_human_cloning_arguments.pkl\n",
            "File uploaded to current-data-dump/arguments-dump/training/health/healthcare_philosophy_ethics_science_science_general_house_would_grant_those_arguments.pkl\n",
            "File uploaded to current-data-dump/arguments-dump/training/health/on_education_general_health_sex_sexuality_house_would_promote_safe_sex_through_arguments.pkl\n",
            "File uploaded to current-data-dump/arguments-dump/training/health/on_physical_education_primary_secondary_health_weight_sport_general_team_sports_arguments.pkl\n",
            "File uploaded to current-data-dump/arguments-dump/training/health/sex_sexuality_house_would_name_and_shame_sex_offenders_arguments.pkl\n",
            "File uploaded to current-data-dump/arguments-dump/training/health/sex_sexuality_international_africa_human_rights_gender_minorities_house_would_cut_arguments.pkl\n",
            "File uploaded to current-data-dump/arguments-dump/training/health/health_arguments.pkl\n",
            "File uploaded to current-data-dump/arguments-dump/training/international/_healthcare_international_africa_house_would_implent_virtual_doctor_project_arguments.pkl\n",
            "File uploaded to current-data-dump/arguments-dump/training/international/_sex_sexuality_international_africa_house_would_legalize_sex_work_order_arguments.pkl\n",
            "File uploaded to current-data-dump/arguments-dump/training/international/africa_europe_house_believes_cape_verdes_regional_future_lies_europe_not_arguments.pkl\n",
            "File uploaded to current-data-dump/arguments-dump/training/international/africa_global_house_believes_un_intervention_democratic_republic_congo_has_arguments.pkl\n",
            "File uploaded to current-data-dump/arguments-dump/training/international/africa_global_house_would_african_union_create_standing_army_arguments.pkl\n",
            "File uploaded to current-data-dump/arguments-dump/training/international/africa_global_house_would_reserve_permanent_unsc_seat_veto_power_african_arguments.pkl\n",
            "File uploaded to current-data-dump/arguments-dump/training/international/africa_house_would_widen_east_african_community_arguments.pkl\n",
            "File uploaded to current-data-dump/arguments-dump/training/international/africa_law_crime_policing_house_believes_guinea_bissau_should_not_let_arguments.pkl\n",
            "File uploaded to current-data-dump/arguments-dump/training/international/africa_law_human_rights_international_law_government_leadership_voting_arguments.pkl\n",
            "File uploaded to current-data-dump/arguments-dump/training/international/africa_law_human_rights_international_law_house_would_create_african_arguments.pkl\n",
            "File uploaded to current-data-dump/arguments-dump/training/international/africa_law_human_rights_international_law_punishment_house_believes_post_arguments.pkl\n",
            "File uploaded to current-data-dump/arguments-dump/training/international/africa_law_human_rights_punishment_society_gender_minorities_house_believes_arguments.pkl\n",
            "File uploaded to current-data-dump/arguments-dump/training/international/africa_law_international_law_house_believes_african_states_should_withdraw_arguments.pkl\n",
            "File uploaded to current-data-dump/arguments-dump/training/international/africa_law_international_law_house_believes_icc_biased_against_africa_arguments.pkl\n",
            "File uploaded to current-data-dump/arguments-dump/training/international/africa_law_international_law_house_believes_uhuru_kenyatta_indictment_was_arguments.pkl\n",
            "File uploaded to current-data-dump/arguments-dump/training/international/africa_local_government_society_family_minorities_house_believes_civil_arguments.pkl\n",
            "File uploaded to current-data-dump/arguments-dump/training/international/africa_middle_east_house_would_redefine_african_borders_reflect_ethnic_arguments.pkl\n",
            "File uploaded to current-data-dump/arguments-dump/training/international/africa_middle_east_politics_defence_leadership_voting_house_believes_arguments.pkl\n",
            "File uploaded to current-data-dump/arguments-dump/training/international/africa_politics_defence_warpeace_house_believes_prevalence_african_arguments.pkl\n",
            "File uploaded to current-data-dump/arguments-dump/training/international/africa_politics_politics_general_government_leadership_house_believes_mo_arguments.pkl\n",
            "File uploaded to current-data-dump/arguments-dump/training/international/africa_politics_terrorism_warpeace_house_believes_france_right_intervene_arguments.pkl\n",
            "File uploaded to current-data-dump/arguments-dump/training/international/africa_sport_team_sports_house_believes_gabon_hosting_africa_cup_nations_arguments.pkl\n",
            "File uploaded to current-data-dump/arguments-dump/training/international/africa_sport_team_sports_house_supports_racial_quotas_south_african_rugby_arguments.pkl\n",
            "File uploaded to current-data-dump/arguments-dump/training/international/africa_terrorism_house_welcomes_us_help_fighting_terrorist_organisations_arguments.pkl\n",
            "File uploaded to current-data-dump/arguments-dump/training/international/americas_global_house_believes_united_states_benign_hegemon_arguments.pkl\n",
            "File uploaded to current-data-dump/arguments-dump/training/international/americas_global_law_international_law_house_would_cede_control_falkland_arguments.pkl\n",
            "File uploaded to current-data-dump/arguments-dump/training/international/americas_global_politics_house_would_expand_nato_arguments.pkl\n",
            "File uploaded to current-data-dump/arguments-dump/training/international/americas_global_politics_warpeace_house_opposes_us_hegemonic_military_power_arguments.pkl\n",
            "File uploaded to current-data-dump/arguments-dump/training/international/americas_law_crime_policing_house_believes_united_states_responsible_arguments.pkl\n",
            "File uploaded to current-data-dump/arguments-dump/training/international/americas_middle_east_house_believes_nato_countries_and_government_arguments.pkl\n",
            "File uploaded to current-data-dump/arguments-dump/training/international/americas_politics_government_house_wants_line_item_veto_amendment_arguments.pkl\n",
            "File uploaded to current-data-dump/arguments-dump/training/international/americas_politics_politics_general_obama_vs_romney_should_united_states_arguments.pkl\n",
            "File uploaded to current-data-dump/arguments-dump/training/international/asia_europe_global_house_believes_long_term_cooperation_between_russia_and_arguments.pkl\n",
            "File uploaded to current-data-dump/arguments-dump/training/international/asia_global_defence_house_would_invade_and_forcibly_reunify_korean_arguments.pkl\n",
            "File uploaded to current-data-dump/arguments-dump/training/international/asia_house_would_visit_yasukuni_shrine_arguments.pkl\n",
            "File uploaded to current-data-dump/arguments-dump/training/international/asia_politics_defence_house_would_ignore_north_korean_provocations_arguments.pkl\n",
            "File uploaded to current-data-dump/arguments-dump/training/international/asia_politics_defence_warpeace_house_would_intervene_syria_prevent_or_arguments.pkl\n",
            "File uploaded to current-data-dump/arguments-dump/training/international/asia_politics_warpeace_house_would_remove_united_states_military_bases_arguments.pkl\n",
            "File uploaded to current-data-dump/arguments-dump/training/international/ational_africa_global_house_would_suspend_directly_delivered_foreign_arguments.pkl\n",
            "File uploaded to current-data-dump/arguments-dump/training/international/bate_living_difference_international_global_religion_religion_general_arguments.pkl\n",
            "File uploaded to current-data-dump/arguments-dump/training/international/ergy_environment_general_water_international_africa_house_believes_ethiopia_arguments.pkl\n",
            "File uploaded to current-data-dump/arguments-dump/training/international/ernational_americas_global_political_philosophy_politics_defence_leadership_arguments.pkl\n",
            "File uploaded to current-data-dump/arguments-dump/training/international/europe_global_house_would_grant_eu_permanent_seat_un_security_council_arguments.pkl\n",
            "File uploaded to current-data-dump/arguments-dump/training/international/europe_global_international_law_politics_warpeace_house_believes_russia_has_arguments.pkl\n",
            "File uploaded to current-data-dump/arguments-dump/training/international/europe_house_believes_britain_should_give_its_eu_rebate_arguments.pkl\n",
            "File uploaded to current-data-dump/arguments-dump/training/international/europe_house_believes_eu_should_engage_further_enlargement_arguments.pkl\n",
            "File uploaded to current-data-dump/arguments-dump/training/international/europe_house_believes_european_union_should_adopt_single_working_language_arguments.pkl\n",
            "File uploaded to current-data-dump/arguments-dump/training/international/europe_house_believes_switzerland_and_norway_should_apply_join_eu_arguments.pkl\n",
            "File uploaded to current-data-dump/arguments-dump/training/international/europe_law_international_law_house_would_dissolve_schengen_agreement_arguments.pkl\n",
            "File uploaded to current-data-dump/arguments-dump/training/international/europe_law_international_law_minorities_house_would_allow_republika_srpska_arguments.pkl\n",
            "File uploaded to current-data-dump/arguments-dump/training/international/europe_politics_defence_government_house_would_create_single_european_union_arguments.pkl\n",
            "File uploaded to current-data-dump/arguments-dump/training/international/europe_politics_defence_house_would_extend_nato_membership_georgia_and_arguments.pkl\n",
            "File uploaded to current-data-dump/arguments-dump/training/international/europe_politics_defence_terrorism_warpeace_house_believes_leaving_eu_would_arguments.pkl\n",
            "File uploaded to current-data-dump/arguments-dump/training/international/europe_politics_government_house_believes_russia_needs_strong_leadership_arguments.pkl\n",
            "File uploaded to current-data-dump/arguments-dump/training/international/europe_politics_government_voting_house_would_hold_referendum_uk_membership_arguments.pkl\n",
            "File uploaded to current-data-dump/arguments-dump/training/international/europe_politics_leadership_house_believes_uk_would_have_more_influence_arguments.pkl\n",
            "File uploaded to current-data-dump/arguments-dump/training/international/europe_politics_local_government_voting_house_would_allow_referendum_arguments.pkl\n",
            "File uploaded to current-data-dump/arguments-dump/training/international/europe_politics_politics_general_government_local_government_house_believes_arguments.pkl\n",
            "File uploaded to current-data-dump/arguments-dump/training/international/europe_politics_terrorism_computers_phones_house_believes_german_arguments.pkl\n",
            "File uploaded to current-data-dump/arguments-dump/training/international/europe_politics_voting_european_parliament_elections_should_involve_only_arguments.pkl\n",
            "File uploaded to current-data-dump/arguments-dump/training/international/europe_politics_voting_house_would_allow_voting_16_european_parliament_arguments.pkl\n",
            "File uploaded to current-data-dump/arguments-dump/training/international/europe_society_immigration_house_believes_re_introduction_internal_border_arguments.pkl\n",
            "File uploaded to current-data-dump/arguments-dump/training/international/global_government_voting_house_would_recognise_kosovo_independent_state_arguments.pkl\n",
            "File uploaded to current-data-dump/arguments-dump/training/international/global_house_believes_obama_was_right_agree_meet_rogue_leaders_without_arguments.pkl\n",
            "File uploaded to current-data-dump/arguments-dump/training/international/global_house_believes_sanctions_should_be_used_promote_democracy_arguments.pkl\n",
            "File uploaded to current-data-dump/arguments-dump/training/international/global_house_believes_world_government_arguments.pkl\n",
            "File uploaded to current-data-dump/arguments-dump/training/international/global_house_would_abolish_security_council_veto_arguments.pkl\n",
            "File uploaded to current-data-dump/arguments-dump/training/international/global_house_would_expand_united_nations_security_council_arguments.pkl\n",
            "File uploaded to current-data-dump/arguments-dump/training/international/global_house_would_freeze_united_nations_budget_arguments.pkl\n",
            "File uploaded to current-data-dump/arguments-dump/training/international/global_law_human_rights_international_law_house_believes_united_nations_has_arguments.pkl\n",
            "File uploaded to current-data-dump/arguments-dump/training/international/global_law_human_rights_international_law_politics_terrorism_house_believes_arguments.pkl\n",
            "File uploaded to current-data-dump/arguments-dump/training/international/global_law_human_rights_international_law_politics_warpeace_society_arguments.pkl\n",
            "File uploaded to current-data-dump/arguments-dump/training/international/global_law_human_rights_society_immigration_minorities_house_would_arguments.pkl\n",
            "File uploaded to current-data-dump/arguments-dump/training/international/global_law_international_law_house_believes_military_action_intervene_arguments.pkl\n",
            "File uploaded to current-data-dump/arguments-dump/training/international/global_middle_east_politics_warpeace_house_believes_us_intervention_libya_arguments.pkl\n",
            "File uploaded to current-data-dump/arguments-dump/training/international/global_middle_east_thb_palestinian_statehood_should_be_recognised_united_arguments.pkl\n",
            "File uploaded to current-data-dump/arguments-dump/training/international/global_political_philosophy_politics_politics_general_house_believes_arguments.pkl\n",
            "File uploaded to current-data-dump/arguments-dump/training/international/global_politics_government_house_would_make_un_world_government_arguments.pkl\n",
            "File uploaded to current-data-dump/arguments-dump/training/international/global_politics_government_leadership_house_would_throw_russia_out_g8_arguments.pkl\n",
            "File uploaded to current-data-dump/arguments-dump/training/international/global_politics_warpeace_house_usa_would_sign_ottawa_convention_banning_arguments.pkl\n",
            "File uploaded to current-data-dump/arguments-dump/training/international/global_science_censorship_ip_internet_digital_freedoms_intellectual_arguments.pkl\n",
            "File uploaded to current-data-dump/arguments-dump/training/international/global_society_immigration_minorities_house_believes_nations_world_should_arguments.pkl\n",
            "File uploaded to current-data-dump/arguments-dump/training/international/health_africa_global_morality_usa_should_increase_funding_fight_disease_arguments.pkl\n",
            "File uploaded to current-data-dump/arguments-dump/training/international/ic_policy_economy_general_international_americas_house_supports_creation_arguments.pkl\n",
            "File uploaded to current-data-dump/arguments-dump/training/international/ic_policy_economy_general_international_europe_philosophy_political_arguments.pkl\n",
            "File uploaded to current-data-dump/arguments-dump/training/international/ic_policy_economy_general_international_europe_politics_government_house_arguments.pkl\n",
            "File uploaded to current-data-dump/arguments-dump/training/international/ic_policy_environment_climate_energy_water_international_africa_house_would_arguments.pkl\n",
            "File uploaded to current-data-dump/arguments-dump/training/international/ic_policy_environment_environment_general_international_africa_house_would_arguments.pkl\n",
            "File uploaded to current-data-dump/arguments-dump/training/international/ic_policy_international_africa_society_family_house_believes_african_cities_arguments.pkl\n",
            "File uploaded to current-data-dump/arguments-dump/training/international/ic_policy_international_africa_society_gender_family_immigration_house_arguments.pkl\n",
            "File uploaded to current-data-dump/arguments-dump/training/international/ic_policy_international_africa_society_gender_house_believes_feminisation_arguments.pkl\n",
            "File uploaded to current-data-dump/arguments-dump/training/international/imate_pollution_international_africa_house_would_developed_world_fund_arguments.pkl\n",
            "File uploaded to current-data-dump/arguments-dump/training/international/international_africa_house_favours_multilateral_aid_arguments.pkl\n",
            "File uploaded to current-data-dump/arguments-dump/training/international/international_europe_european_union_should_not_continue_its_enlargement_arguments.pkl\n",
            "File uploaded to current-data-dump/arguments-dump/training/international/international_europe_global_house_believes_eu_should_offer_closer_arguments.pkl\n",
            "File uploaded to current-data-dump/arguments-dump/training/international/international_europe_house_believes_name_issue_should_be_precondition_arguments.pkl\n",
            "File uploaded to current-data-dump/arguments-dump/training/international/international_europe_immigration_house_believes_increasing_number_arguments.pkl\n",
            "File uploaded to current-data-dump/arguments-dump/training/international/international_global_house_believes_iaea_not_effective_preventing_arguments.pkl\n",
            "File uploaded to current-data-dump/arguments-dump/training/international/middle_east_house_believes_conflict_between_israel_and_palestine_two_state_arguments.pkl\n",
            "File uploaded to current-data-dump/arguments-dump/training/international/middle_east_house_believes_jerusalem_should_be_divided_arguments.pkl\n",
            "File uploaded to current-data-dump/arguments-dump/training/international/middle_east_human_rights_international_law_society_immigration_minorities_arguments.pkl\n",
            "File uploaded to current-data-dump/arguments-dump/training/international/middle_east_law_human_rights_international_law_punishment_politics_defence_arguments.pkl\n",
            "File uploaded to current-data-dump/arguments-dump/training/international/middle_east_politics_defence_warpeace_house_would_have_weapons_inspectors_arguments.pkl\n",
            "File uploaded to current-data-dump/arguments-dump/training/international/middle_east_politics_terrorism_warpeace_house_believes_israels_2008_2009_arguments.pkl\n",
            "File uploaded to current-data-dump/arguments-dump/training/international/middle_east_politics_terrorism_warpeace_house_believes_war_iraq_was_worth_arguments.pkl\n",
            "File uploaded to current-data-dump/arguments-dump/training/international/middle_east_society_immigration_minorities_house_believes_gulf_states_arguments.pkl\n",
            "File uploaded to current-data-dump/arguments-dump/training/international/modern_culture_international_africa_house_believes_african_nations_should_arguments.pkl\n",
            "File uploaded to current-data-dump/arguments-dump/training/international/modern_culture_international_africa_house_believes_nollywood_could_be_arguments.pkl\n",
            "File uploaded to current-data-dump/arguments-dump/training/international/nal_global_law_human_rights_politics_government_house_would_promote_arguments.pkl\n",
            "File uploaded to current-data-dump/arguments-dump/training/international/national_global_politics_voting_house_would_elect_un_secretary_general_arguments.pkl\n",
            "File uploaded to current-data-dump/arguments-dump/training/international/ne_crisis_economy_general_international_europe_house_believes_european_arguments.pkl\n",
            "File uploaded to current-data-dump/arguments-dump/training/international/on_healthcare_international_africa_house_believes_ghanas_ban_smoking_public_arguments.pkl\n",
            "File uploaded to current-data-dump/arguments-dump/training/international/ss_economic_policy_international_europe_house_believes_eu_should_abandon_arguments.pkl\n",
            "File uploaded to current-data-dump/arguments-dump/training/international/ss_economic_policy_international_global_house_believes_dictatorship_best_arguments.pkl\n",
            "File uploaded to current-data-dump/arguments-dump/training/international/ss_employment_international_global_house_would_encourage_offshoring_arguments.pkl\n",
            "File uploaded to current-data-dump/arguments-dump/training/international/y_economy_general_international_africa_global_house_would_compensate_arguments.pkl\n",
            "File uploaded to current-data-dump/arguments-dump/training/international/y_general_international_africa_defence_warpeace_minorities_house_believes_arguments.pkl\n",
            "File uploaded to current-data-dump/arguments-dump/training/international/y_general_international_africa_house_believes_women_are_key_africas_arguments.pkl\n",
            "File uploaded to current-data-dump/arguments-dump/training/international/international_arguments.pkl\n",
            "File uploaded to current-data-dump/arguments-dump/training/law/ation_education_general_teaching_law_crime_policing_society_youth_house_would_arm_arguments.pkl\n",
            "File uploaded to current-data-dump/arguments-dump/training/law/ation_primary_secondary_law_punishment_society_youth_house_would_bring_back_corporal_arguments.pkl\n",
            "File uploaded to current-data-dump/arguments-dump/training/law/ation_university_law_law_general_society_minorities_house_would_censor_hate_speech_arguments.pkl\n",
            "File uploaded to current-data-dump/arguments-dump/training/law/crime_policing_house_would_united_states_ban_assault_weapons_arguments.pkl\n",
            "File uploaded to current-data-dump/arguments-dump/training/law/crime_policing_law_general_house_would_arm_police_arguments.pkl\n",
            "File uploaded to current-data-dump/arguments-dump/training/law/crime_policing_law_general_house_would_have_criminal_dna_database_arguments.pkl\n",
            "File uploaded to current-data-dump/arguments-dump/training/law/crime_policing_law_general_house_would_scrap_double_jeopardy_rule_arguments.pkl\n",
            "File uploaded to current-data-dump/arguments-dump/training/law/crime_policing_law_general_human_rights_house_would_require_government_obtain_arguments.pkl\n",
            "File uploaded to current-data-dump/arguments-dump/training/law/crime_policing_law_general_human_rights_international_law_punishment_house_would_arguments.pkl\n",
            "File uploaded to current-data-dump/arguments-dump/training/law/crime_policing_law_general_punishment_society_youth_house_would_scrap_anti_social_arguments.pkl\n",
            "File uploaded to current-data-dump/arguments-dump/training/law/crime_policing_punishment_family_minorities_youth_house_would_introduce_child_curfews_arguments.pkl\n",
            "File uploaded to current-data-dump/arguments-dump/training/law/crime_policing_punishment_house_would_limit_prison_violent_offenders_arguments.pkl\n",
            "File uploaded to current-data-dump/arguments-dump/training/law/crime_policing_punishment_philosophy_ethics_life_house_supports_death_penalty_arguments.pkl\n",
            "File uploaded to current-data-dump/arguments-dump/training/law/crime_policing_punishment_society_minorities_house_believes_hate_crime_enhancements_arguments.pkl\n",
            "File uploaded to current-data-dump/arguments-dump/training/law/crime_policing_society_house_believes_social_deprivation_causes_crime_arguments.pkl\n",
            "File uploaded to current-data-dump/arguments-dump/training/law/education_teaching_human_rights_punishment_house_would_reintroduce_corporal_arguments.pkl\n",
            "File uploaded to current-data-dump/arguments-dump/training/law/ety_law_crime_policing_punishment_youth_house_would_raise_age_criminal_responsibility_arguments.pkl\n",
            "File uploaded to current-data-dump/arguments-dump/training/law/ety_law_punishment_society_youth_house_would_introduce_tougher_punishments_child_arguments.pkl\n",
            "File uploaded to current-data-dump/arguments-dump/training/law/gion_law_law_general_religion_marriage_family_house_would_create_system_covenant_arguments.pkl\n",
            "File uploaded to current-data-dump/arguments-dump/training/law/human_rights_international_law_ethics_political_philosophy_house_believes_fundamental_arguments.pkl\n",
            "File uploaded to current-data-dump/arguments-dump/training/law/human_rights_international_law_house_supports_head_state_immunity_arguments.pkl\n",
            "File uploaded to current-data-dump/arguments-dump/training/law/human_rights_international_law_house_would_prosecute_war_criminals_arguments.pkl\n",
            "File uploaded to current-data-dump/arguments-dump/training/law/human_rights_international_law_house_would_send_yanukovych_hague_arguments.pkl\n",
            "File uploaded to current-data-dump/arguments-dump/training/law/human_rights_international_law_punishment_politics_terrorism_house_would_restrict_arguments.pkl\n",
            "File uploaded to current-data-dump/arguments-dump/training/law/human_rights_international_law_society_gender_immigration_house_believes_eu_should_arguments.pkl\n",
            "File uploaded to current-data-dump/arguments-dump/training/law/human_rights_international_law_terrorism_house_believes_terrorists_should_be_subject_arguments.pkl\n",
            "File uploaded to current-data-dump/arguments-dump/training/law/human_rights_politics_government_house_would_introduce_compulsory_identity_cards_arguments.pkl\n",
            "File uploaded to current-data-dump/arguments-dump/training/law/human_rights_politics_terrorism_house_would_use_unmanned_aerial_vehicles_strike_arguments.pkl\n",
            "File uploaded to current-data-dump/arguments-dump/training/law/human_rights_punishment_philosophy_ethics_life_house_believes_capital_punishment_arguments.pkl\n",
            "File uploaded to current-data-dump/arguments-dump/training/law/international_law_house_would_pull_out_article_98_agreements_prevent_us_soldiers_arguments.pkl\n",
            "File uploaded to current-data-dump/arguments-dump/training/law/international_law_politics_defence_warpeace_house_believes_us_should_ban_use_cluster_arguments.pkl\n",
            "File uploaded to current-data-dump/arguments-dump/training/law/international_law_politics_warpeace_house_believes_us_justified_using_force_prevent_arguments.pkl\n",
            "File uploaded to current-data-dump/arguments-dump/training/law/international_law_punishment_house_believes_icc_not_effective_deterrent_arguments.pkl\n",
            "File uploaded to current-data-dump/arguments-dump/training/law/international_law_punishment_politics_government_house_supports_use_truth_and_arguments.pkl\n",
            "File uploaded to current-data-dump/arguments-dump/training/law/law_crime_policing_law_general_house_would_criminalise_payment_ransoms_arguments.pkl\n",
            "File uploaded to current-data-dump/arguments-dump/training/law/law_general_philosophy_political_philosophy_religion_faith_morality_house_believes_arguments.pkl\n",
            "File uploaded to current-data-dump/arguments-dump/training/law/law_general_punishment_computers_phones_house_would_allow_wire_tapped_and_intercepted_arguments.pkl\n",
            "File uploaded to current-data-dump/arguments-dump/training/law/law_general_punishment_corporal_punishment_adult_offenders_arguments.pkl\n",
            "File uploaded to current-data-dump/arguments-dump/training/law/law_general_punishment_internet_society_youth_house_would_have_cyberbullies_do_time_arguments.pkl\n",
            "File uploaded to current-data-dump/arguments-dump/training/law/law_general_punishment_politics_government_house_would_grant_politicians_immunity_arguments.pkl\n",
            "File uploaded to current-data-dump/arguments-dump/training/law/law_general_society_gender_house_would_legalise_prostitution_arguments.pkl\n",
            "File uploaded to current-data-dump/arguments-dump/training/law/law_general_society_house_believes_right_self_defense_arguments.pkl\n",
            "File uploaded to current-data-dump/arguments-dump/training/law/law_law_general_abolish_statutes_limitations_all_felonies_arguments.pkl\n",
            "File uploaded to current-data-dump/arguments-dump/training/law/law_punishment_politics_voting_house_would_allow_prisoners_vote_arguments.pkl\n",
            "File uploaded to current-data-dump/arguments-dump/training/law/omy_business_economic_policy_law_crime_policing_digital_freedoms_freedom_expression_arguments.pkl\n",
            "File uploaded to current-data-dump/arguments-dump/training/law/punishment_house_supports_death_penalty_worst_worst_arguments.pkl\n",
            "File uploaded to current-data-dump/arguments-dump/training/law/punishment_house_supports_mandatory_sentencing_arguments.pkl\n",
            "File uploaded to current-data-dump/arguments-dump/training/law/rnational_africa_global_law_human_rights_international_law_house_believes_arguments.pkl\n",
            "File uploaded to current-data-dump/arguments-dump/training/law/rnational_africa_law_crime_policing_house_believes_guinea_bissau_should_not_let_arguments.pkl\n",
            "File uploaded to current-data-dump/arguments-dump/training/law/rnational_africa_law_human_rights_international_law_house_would_create_african_arguments.pkl\n",
            "File uploaded to current-data-dump/arguments-dump/training/law/rnational_africa_law_human_rights_international_law_punishment_house_believes_post_arguments.pkl\n",
            "File uploaded to current-data-dump/arguments-dump/training/law/rnational_africa_law_international_law_house_believes_african_states_should_withdraw_arguments.pkl\n",
            "File uploaded to current-data-dump/arguments-dump/training/law/rnational_africa_law_international_law_house_believes_icc_biased_against_africa_arguments.pkl\n",
            "File uploaded to current-data-dump/arguments-dump/training/law/rnational_americas_global_law_international_law_house_would_cede_control_falkland_arguments.pkl\n",
            "File uploaded to current-data-dump/arguments-dump/training/law/rnational_americas_law_crime_policing_house_believes_united_states_responsible_arguments.pkl\n",
            "File uploaded to current-data-dump/arguments-dump/training/law/rnational_asia_international_law_house_believes_tibet_should_be_independent_state_arguments.pkl\n",
            "File uploaded to current-data-dump/arguments-dump/training/law/rnational_europe_law_international_law_minorities_house_would_allow_republika_srpska_arguments.pkl\n",
            "File uploaded to current-data-dump/arguments-dump/training/law/rnational_global_law_human_rights_international_law_politics_warpeace_society_arguments.pkl\n",
            "File uploaded to current-data-dump/arguments-dump/training/law/rnational_global_law_human_rights_society_immigration_minorities_house_would_arguments.pkl\n",
            "File uploaded to current-data-dump/arguments-dump/training/law/rnational_global_law_international_law_house_believes_military_action_intervene_arguments.pkl\n",
            "File uploaded to current-data-dump/arguments-dump/training/law/rnational_global_law_international_law_politics_defence_warpeace_house_supports_new_arguments.pkl\n",
            "File uploaded to current-data-dump/arguments-dump/training/law/rnational_global_middle_east_law_human_rights_politics_warpeace_house_believes_west_arguments.pkl\n",
            "File uploaded to current-data-dump/arguments-dump/training/law/rnational_middle_east_law_human_rights_international_law_punishment_politics_defence_arguments.pkl\n",
            "File uploaded to current-data-dump/arguments-dump/training/law/th_law_law_general_religion_house_would_decriminalise_sadomasochism_arguments.pkl\n",
            "File uploaded to current-data-dump/arguments-dump/training/law/tics_law_law_general_punishment_government_youth_house_would_raise_legal_driving_age_arguments.pkl\n",
            "File uploaded to current-data-dump/arguments-dump/training/law/ure_culture_general_law_law_general_house_would_ban_gambling_arguments.pkl\n",
            "File uploaded to current-data-dump/arguments-dump/training/law/ure_culture_general_traditions_law_international_law_house_would_treat_desecration_arguments.pkl\n",
            "File uploaded to current-data-dump/arguments-dump/training/law/ure_education_education_general_law_law_general_house_would_hold_students_legally_arguments.pkl\n",
            "File uploaded to current-data-dump/arguments-dump/training/law/ure_media_law_crime_policing_house_would_restrict_media_reporting_violent_crimes_arguments.pkl\n",
            "File uploaded to current-data-dump/arguments-dump/training/law/ure_traditions_law_human_rights_international_law_society_family_house_would_require_arguments.pkl\n",
            "File uploaded to current-data-dump/arguments-dump/training/law/law_arguments.pkl\n",
            "File uploaded to current-data-dump/arguments-dump/training/philosophy/_animals_environment_general_health_health_general_weight_philosophy_ethics_arguments.pkl\n",
            "File uploaded to current-data-dump/arguments-dump/training/philosophy/_philosophy_political_philosophy_house_would_introduce_flat_tax_arguments.pkl\n",
            "File uploaded to current-data-dump/arguments-dump/training/philosophy/_philosophy_political_philosophy_house_would_remove_bush_tax_cuts_wealthy_arguments.pkl\n",
            "File uploaded to current-data-dump/arguments-dump/training/philosophy/al_global_political_philosophy_politics_politics_general_house_believes_arguments.pkl\n",
            "File uploaded to current-data-dump/arguments-dump/training/philosophy/ase_healthcare_philosophy_ethics_life_house_believes_assisted_suicide_should_arguments.pkl\n",
            "File uploaded to current-data-dump/arguments-dump/training/philosophy/epistemology_religion_church_faith_religion_general_god_morality_secularism_arguments.pkl\n",
            "File uploaded to current-data-dump/arguments-dump/training/philosophy/eral_philosophy_life_house_believes_suicide_should_be_criminal_offence_arguments.pkl\n",
            "File uploaded to current-data-dump/arguments-dump/training/philosophy/eral_philosophy_political_philosophy_politics_government_house_would_enforce_arguments.pkl\n",
            "File uploaded to current-data-dump/arguments-dump/training/philosophy/eral_philosophy_political_philosophy_religion_faith_morality_house_believes_arguments.pkl\n",
            "File uploaded to current-data-dump/arguments-dump/training/philosophy/ethics_politics_warpeace_house_believes_there_can_be_such_thing_just_war_arguments.pkl\n",
            "File uploaded to current-data-dump/arguments-dump/training/philosophy/ethics_politics_warpeace_house_believes_use_atomic_bombs_against_hiroshima_and_arguments.pkl\n",
            "File uploaded to current-data-dump/arguments-dump/training/philosophy/ia_modern_culture_philosophy_ethics_morality_house_believes_press_should_be_arguments.pkl\n",
            "File uploaded to current-data-dump/arguments-dump/training/philosophy/ights_international_law_ethics_political_philosophy_house_believes_fundamental_arguments.pkl\n",
            "File uploaded to current-data-dump/arguments-dump/training/philosophy/ights_philosophy_ethics_politics_terrorism_house_would_use_torture_obtain_arguments.pkl\n",
            "File uploaded to current-data-dump/arguments-dump/training/philosophy/international_law_political_philosophy_politics_defence_terrorism_warpeace_arguments.pkl\n",
            "File uploaded to current-data-dump/arguments-dump/training/philosophy/law_human_rights_international_law_philosophy_ethics_house_would_assassinate_arguments.pkl\n",
            "File uploaded to current-data-dump/arguments-dump/training/philosophy/life_science_genetics_society_gender_family_house_believes_parents_should_be_arguments.pkl\n",
            "File uploaded to current-data-dump/arguments-dump/training/philosophy/life_society_family_house_would_never_have_children_arguments.pkl\n",
            "File uploaded to current-data-dump/arguments-dump/training/philosophy/nancy_philosophy_ethics_life_family_house_would_ban_partial_birth_abortions_arguments.pkl\n",
            "File uploaded to current-data-dump/arguments-dump/training/philosophy/nomic_policy_tax_philosophy_political_philosophy_politics_government_house_arguments.pkl\n",
            "File uploaded to current-data-dump/arguments-dump/training/philosophy/nomy_general_philosophy_political_philosophy_house_believes_capitalism_better_arguments.pkl\n",
            "File uploaded to current-data-dump/arguments-dump/training/philosophy/olicing_punishment_philosophy_ethics_life_house_supports_death_penalty_arguments.pkl\n",
            "File uploaded to current-data-dump/arguments-dump/training/philosophy/osophy_life_religion_family_house_would_allow_parents_genetically_screen_arguments.pkl\n",
            "File uploaded to current-data-dump/arguments-dump/training/philosophy/philosophy_general_political_philosophy_government_house_believes_anarchism_arguments.pkl\n",
            "File uploaded to current-data-dump/arguments-dump/training/philosophy/political_philosophy_house_supports_idea_participatory_democracy_arguments.pkl\n",
            "File uploaded to current-data-dump/arguments-dump/training/philosophy/political_philosophy_politics_defence_government_house_would_impose_democracy_arguments.pkl\n",
            "File uploaded to current-data-dump/arguments-dump/training/philosophy/political_philosophy_politics_government_house_would_be_libertarian_right_or_arguments.pkl\n",
            "File uploaded to current-data-dump/arguments-dump/training/philosophy/th_general_pregnancy_philosophy_ethics_life_house_believes_womans_right_choose_arguments.pkl\n",
            "File uploaded to current-data-dump/arguments-dump/training/philosophy/thcare_philosophy_ethics_house_would_allow_donations_vital_organs_even_expense_arguments.pkl\n",
            "File uploaded to current-data-dump/arguments-dump/training/philosophy/tional_law_philosophy_political_philosophy_politics_government_house_believes_arguments.pkl\n",
            "File uploaded to current-data-dump/arguments-dump/training/philosophy/philosophy_arguments.pkl\n",
            "File uploaded to current-data-dump/arguments-dump/training/politics/_education_general_physical_education_university_politics_defence_warpeace_arguments.pkl\n",
            "File uploaded to current-data-dump/arguments-dump/training/politics/_rights_international_law_politics_government_warpeace_house_would_recognise_arguments.pkl\n",
            "File uploaded to current-data-dump/arguments-dump/training/politics/_rights_international_law_punishment_politics_terrorism_house_would_restrict_arguments.pkl\n",
            "File uploaded to current-data-dump/arguments-dump/training/politics/_rights_philosophy_ethics_politics_terrorism_house_would_use_torture_obtain_arguments.pkl\n",
            "File uploaded to current-data-dump/arguments-dump/training/politics/_rights_politics_government_house_would_introduce_compulsory_identity_cards_arguments.pkl\n",
            "File uploaded to current-data-dump/arguments-dump/training/politics/_rights_politics_terrorism_house_would_use_unmanned_aerial_vehicles_strike_arguments.pkl\n",
            "File uploaded to current-data-dump/arguments-dump/training/politics/alth_general_healthcare_politics_government_house_believes_united_states_arguments.pkl\n",
            "File uploaded to current-data-dump/arguments-dump/training/politics/ax_philosophy_politics_government_house_would_abolish_congressional_earmarks_arguments.pkl\n",
            "File uploaded to current-data-dump/arguments-dump/training/politics/ax_politics_voting_obama_vs_romney_should_us_government_continue_spend_current_arguments.pkl\n",
            "File uploaded to current-data-dump/arguments-dump/training/politics/ch_debate_free_speech_and_privacy_politics_government_digital_freedoms_privacy_arguments.pkl\n",
            "File uploaded to current-data-dump/arguments-dump/training/politics/ch_debate_internet_freedom_politics_government_digital_freedoms_freedom_arguments.pkl\n",
            "File uploaded to current-data-dump/arguments-dump/training/politics/conomic_policy_tax_philosophy_political_philosophy_politics_government_house_arguments.pkl\n",
            "File uploaded to current-data-dump/arguments-dump/training/politics/conomic_policy_tax_politics_government_house_doesnt_trust_republicans_economy_arguments.pkl\n",
            "File uploaded to current-data-dump/arguments-dump/training/politics/conomy_general_politics_leadership_house_believes_bribery_sometimes_acceptable_arguments.pkl\n",
            "File uploaded to current-data-dump/arguments-dump/training/politics/conomy_general_politics_politics_general_government_house_would_give_obama_arguments.pkl\n",
            "File uploaded to current-data-dump/arguments-dump/training/politics/defence_government_leadership_voting_house_believes_launching_military_coup_arguments.pkl\n",
            "File uploaded to current-data-dump/arguments-dump/training/politics/defence_house_would_replace_trident_arguments.pkl\n",
            "File uploaded to current-data-dump/arguments-dump/training/politics/defence_science_science_general_house_supports_development_missile_defence_arguments.pkl\n",
            "File uploaded to current-data-dump/arguments-dump/training/politics/defence_terrorism_house_believes_islamic_statedaesh_most_significant_threat_west_arguments.pkl\n",
            "File uploaded to current-data-dump/arguments-dump/training/politics/defence_terrorism_warpeace_house_believes_nato_has_succeeded_afghanistan_arguments.pkl\n",
            "File uploaded to current-data-dump/arguments-dump/training/politics/defence_warpeace_digital_freedoms_intellectual_property_house_would_use_targeted_arguments.pkl\n",
            "File uploaded to current-data-dump/arguments-dump/training/politics/defence_warpeace_society_gender_house_would_allow_women_take_part_combat_arguments.pkl\n",
            "File uploaded to current-data-dump/arguments-dump/training/politics/edia_americas_politics_voting_obama_vs_romney_does_campaign_finance_united_arguments.pkl\n",
            "File uploaded to current-data-dump/arguments-dump/training/politics/eneral_philosophy_political_philosophy_politics_government_house_would_enforce_arguments.pkl\n",
            "File uploaded to current-data-dump/arguments-dump/training/politics/government_house_believes_republican_party_has_lost_its_way_arguments.pkl\n",
            "File uploaded to current-data-dump/arguments-dump/training/politics/government_house_believes_upper_house_should_be_accountable_people_arguments.pkl\n",
            "File uploaded to current-data-dump/arguments-dump/training/politics/government_house_supports_dalai_lamas_third_way_tibet_arguments.pkl\n",
            "File uploaded to current-data-dump/arguments-dump/training/politics/government_house_would_devolve_power_english_parliament_arguments.pkl\n",
            "File uploaded to current-data-dump/arguments-dump/training/politics/government_local_government_voting_house_believes_puerto_rico_should_seek_arguments.pkl\n",
            "File uploaded to current-data-dump/arguments-dump/training/politics/government_voting_house_believes_turkey_not_democracy_arguments.pkl\n",
            "File uploaded to current-data-dump/arguments-dump/training/politics/law_law_general_punishment_government_youth_house_would_raise_legal_driving_age_arguments.pkl\n",
            "File uploaded to current-data-dump/arguments-dump/training/politics/leadership_voting_house_would_hold_all_us_presidential_primaries_same_day_arguments.pkl\n",
            "File uploaded to current-data-dump/arguments-dump/training/politics/national_law_philosophy_political_philosophy_politics_government_house_believes_arguments.pkl\n",
            "File uploaded to current-data-dump/arguments-dump/training/politics/national_law_politics_warpeace_house_believes_us_justified_using_force_prevent_arguments.pkl\n",
            "File uploaded to current-data-dump/arguments-dump/training/politics/national_law_punishment_politics_government_house_supports_use_truth_and_arguments.pkl\n",
            "File uploaded to current-data-dump/arguments-dump/training/politics/onal_africa_middle_east_politics_defence_government_terrorism_warpeace_house_arguments.pkl\n",
            "File uploaded to current-data-dump/arguments-dump/training/politics/onal_africa_middle_east_politics_warpeace_house_believes_western_intervention_arguments.pkl\n",
            "File uploaded to current-data-dump/arguments-dump/training/politics/onal_africa_politics_defence_warpeace_house_believes_prevalence_african_arguments.pkl\n",
            "File uploaded to current-data-dump/arguments-dump/training/politics/onal_africa_politics_government_leadership_voting_society_gender_house_would_arguments.pkl\n",
            "File uploaded to current-data-dump/arguments-dump/training/politics/onal_africa_politics_politics_general_government_leadership_house_believes_mo_arguments.pkl\n",
            "File uploaded to current-data-dump/arguments-dump/training/politics/onal_americas_europe_global_middle_east_politics_politics_general_house_would_arguments.pkl\n",
            "File uploaded to current-data-dump/arguments-dump/training/politics/onal_americas_global_politics_warpeace_house_opposes_us_hegemonic_military_power_arguments.pkl\n",
            "File uploaded to current-data-dump/arguments-dump/training/politics/onal_americas_politics_politics_general_obama_vs_romney_should_united_states_arguments.pkl\n",
            "File uploaded to current-data-dump/arguments-dump/training/politics/onal_asia_politics_defence_warpeace_house_would_intervene_syria_prevent_or_arguments.pkl\n",
            "File uploaded to current-data-dump/arguments-dump/training/politics/onal_asia_politics_warpeace_house_would_remove_united_states_military_bases_arguments.pkl\n",
            "File uploaded to current-data-dump/arguments-dump/training/politics/onal_europe_global_international_law_politics_warpeace_house_believes_russia_has_arguments.pkl\n",
            "File uploaded to current-data-dump/arguments-dump/training/politics/onal_europe_global_politics_defence_house_would_disband_nato_arguments.pkl\n",
            "File uploaded to current-data-dump/arguments-dump/training/politics/onal_europe_politics_defence_government_house_would_create_single_european_union_arguments.pkl\n",
            "File uploaded to current-data-dump/arguments-dump/training/politics/onal_europe_politics_defence_house_would_extend_nato_membership_georgia_and_arguments.pkl\n",
            "File uploaded to current-data-dump/arguments-dump/training/politics/onal_europe_politics_defence_terrorism_warpeace_house_believes_leaving_eu_would_arguments.pkl\n",
            "File uploaded to current-data-dump/arguments-dump/training/politics/onal_europe_politics_government_local_government_house_believes_northern_ireland_arguments.pkl\n",
            "File uploaded to current-data-dump/arguments-dump/training/politics/onal_europe_politics_government_voting_house_would_hold_referendum_uk_membership_arguments.pkl\n",
            "File uploaded to current-data-dump/arguments-dump/training/politics/onal_europe_politics_politics_general_government_local_government_house_believes_arguments.pkl\n",
            "File uploaded to current-data-dump/arguments-dump/training/politics/onal_europe_politics_voting_european_parliament_elections_should_involve_only_arguments.pkl\n",
            "File uploaded to current-data-dump/arguments-dump/training/politics/onal_europe_politics_voting_house_would_allow_voting_16_european_parliament_arguments.pkl\n",
            "File uploaded to current-data-dump/arguments-dump/training/politics/onal_europe_politics_voting_house_would_hold_referendum_any_new_eu_treaty_arguments.pkl\n",
            "File uploaded to current-data-dump/arguments-dump/training/politics/onal_europe_politics_voting_house_would_vote_stay_eu_after_camerons_deal_0_arguments.pkl\n",
            "File uploaded to current-data-dump/arguments-dump/training/politics/onal_global_law_human_rights_international_law_politics_terrorism_house_believes_arguments.pkl\n",
            "File uploaded to current-data-dump/arguments-dump/training/politics/onal_global_law_human_rights_international_law_politics_warpeace_society_arguments.pkl\n",
            "File uploaded to current-data-dump/arguments-dump/training/politics/onal_global_middle_east_politics_terrorism_house_believes_eu_usa_and_other_arguments.pkl\n",
            "File uploaded to current-data-dump/arguments-dump/training/politics/onal_global_middle_east_politics_warpeace_house_believes_us_intervention_libya_arguments.pkl\n",
            "File uploaded to current-data-dump/arguments-dump/training/politics/onal_global_politics_defence_warpeace_house_believes_un_should_restrict_arms_arguments.pkl\n",
            "File uploaded to current-data-dump/arguments-dump/training/politics/onal_global_politics_defence_warpeace_house_would_create_un_standing_army_arguments.pkl\n",
            "File uploaded to current-data-dump/arguments-dump/training/politics/onal_global_politics_government_leadership_house_would_throw_russia_out_g8_arguments.pkl\n",
            "File uploaded to current-data-dump/arguments-dump/training/politics/onal_middle_east_law_human_rights_international_law_punishment_politics_defence_arguments.pkl\n",
            "File uploaded to current-data-dump/arguments-dump/training/politics/onal_middle_east_politics_defence_warpeace_house_would_have_weapons_inspectors_arguments.pkl\n",
            "File uploaded to current-data-dump/arguments-dump/training/politics/onal_middle_east_politics_terrorism_warpeace_house_believes_israels_2008_2009_arguments.pkl\n",
            "File uploaded to current-data-dump/arguments-dump/training/politics/onal_middle_east_politics_terrorism_warpeace_house_believes_war_iraq_was_worth_arguments.pkl\n",
            "File uploaded to current-data-dump/arguments-dump/training/politics/politics_general_government_digital_freedoms_access_knowledge_house_would_force_arguments.pkl\n",
            "File uploaded to current-data-dump/arguments-dump/training/politics/politics_general_government_house_would_ban_negative_advertising_political_arguments.pkl\n",
            "File uploaded to current-data-dump/arguments-dump/training/politics/politics_general_government_leadership_local_government_voting_house_would_adopt_arguments.pkl\n",
            "File uploaded to current-data-dump/arguments-dump/training/politics/politics_general_government_local_government_voting_house_calls_increased_use_arguments.pkl\n",
            "File uploaded to current-data-dump/arguments-dump/training/politics/politics_general_government_uk_should_have_written_constitution_arguments.pkl\n",
            "File uploaded to current-data-dump/arguments-dump/training/politics/politics_general_government_voting_house_believes_open_primaries_are_most_arguments.pkl\n",
            "File uploaded to current-data-dump/arguments-dump/training/politics/politics_general_government_voting_house_believes_opinion_polls_harm_democratic_arguments.pkl\n",
            "File uploaded to current-data-dump/arguments-dump/training/politics/politics_general_government_voting_house_would_abolish_superdelegate_system_arguments.pkl\n",
            "File uploaded to current-data-dump/arguments-dump/training/politics/politics_general_local_government_house_would_ban_government_employees_joining_arguments.pkl\n",
            "File uploaded to current-data-dump/arguments-dump/training/politics/politics_government_leadership_local_government_voting_house_believes_elected_arguments.pkl\n",
            "File uploaded to current-data-dump/arguments-dump/training/politics/politics_government_warpeace_house_would_maintain_ban_nuclear_weapons_testing_arguments.pkl\n",
            "File uploaded to current-data-dump/arguments-dump/training/politics/politics_voting_house_would_adopt_alternative_vote_arguments.pkl\n",
            "File uploaded to current-data-dump/arguments-dump/training/politics/st_politics_defence_terrorism_warpeace_house_believes_israel_should_lift_arguments.pkl\n",
            "File uploaded to current-data-dump/arguments-dump/training/politics/terrorism_house_would_negotiate_terrorists_arguments.pkl\n",
            "File uploaded to current-data-dump/arguments-dump/training/politics/terrorism_society_minorities_inequality_house_would_use_racial_profiling_part_arguments.pkl\n",
            "File uploaded to current-data-dump/arguments-dump/training/politics/voting_house_would_lower_voting_age_16_arguments.pkl\n",
            "File uploaded to current-data-dump/arguments-dump/training/politics/voting_it_worth_voting_first_past_post_systems_arguments.pkl\n",
            "File uploaded to current-data-dump/arguments-dump/training/politics/warpeace_house_would_abolish_nuclear_weapons_arguments.pkl\n",
            "File uploaded to current-data-dump/arguments-dump/training/politics/warpeace_science_internet_house_would_consider_large_scale_cyber_attack_act_war_arguments.pkl\n",
            "File uploaded to current-data-dump/arguments-dump/training/politics/y_ethics_politics_warpeace_house_believes_use_atomic_bombs_against_hiroshima_and_arguments.pkl\n",
            "File uploaded to current-data-dump/arguments-dump/training/politics/y_international_americas_global_political_philosophy_politics_defence_leadership_arguments.pkl\n",
            "File uploaded to current-data-dump/arguments-dump/training/politics/y_international_law_political_philosophy_politics_defence_terrorism_warpeace_arguments.pkl\n",
            "File uploaded to current-data-dump/arguments-dump/training/politics/y_political_philosophy_politics_government_house_would_be_libertarian_right_or_arguments.pkl\n",
            "File uploaded to current-data-dump/arguments-dump/training/politics/y_political_philosophy_politics_government_society_house_believes_socialism_dead_arguments.pkl\n",
            "File uploaded to current-data-dump/arguments-dump/training/politics/y_political_philosophy_politics_leadership_house_believes_move_left_good_labour_arguments.pkl\n",
            "File uploaded to current-data-dump/arguments-dump/training/politics/politics_arguments.pkl\n",
            "File uploaded to current-data-dump/arguments-dump/training/religion/_primary_secondary_religion_morality_house_would_not_allow_schools_display_ten_arguments.pkl\n",
            "File uploaded to current-data-dump/arguments-dump/training/religion/_primary_secondary_teaching_religion_god_science_evolution_house_would_teach_arguments.pkl\n",
            "File uploaded to current-data-dump/arguments-dump/training/religion/ch_debate_living_difference_international_global_religion_religion_general_arguments.pkl\n",
            "File uploaded to current-data-dump/arguments-dump/training/religion/church_god_house_would_remove_words_under_god_american_pledge_allegiance_arguments.pkl\n",
            "File uploaded to current-data-dump/arguments-dump/training/religion/church_house_would_christian_church_allow_ordination_gay_and_lesbian_priests_arguments.pkl\n",
            "File uploaded to current-data-dump/arguments-dump/training/religion/church_house_would_remove_requirement_catholic_priests_take_vow_celibacy_arguments.pkl\n",
            "File uploaded to current-data-dump/arguments-dump/training/religion/edia_religion_religions_thb_danish_newspapers_should_not_have_published_cartoons_arguments.pkl\n",
            "File uploaded to current-data-dump/arguments-dump/training/religion/eligion_religions_society_gender_house_would_ban_female_genital_mutilation_arguments.pkl\n",
            "File uploaded to current-data-dump/arguments-dump/training/religion/eneral_religion_marriage_family_house_would_allow_cohabiting_couples_who_wish_arguments.pkl\n",
            "File uploaded to current-data-dump/arguments-dump/training/religion/faith_morality_society_house_believes_religion_does_more_harm_good_arguments.pkl\n",
            "File uploaded to current-data-dump/arguments-dump/training/religion/faith_religion_general_secularism_ban_niqab_and_other_face_coverings_schools_arguments.pkl\n",
            "File uploaded to current-data-dump/arguments-dump/training/religion/law_law_general_religion_marriage_family_house_would_create_system_covenant_arguments.pkl\n",
            "File uploaded to current-data-dump/arguments-dump/training/religion/marriage_society_family_house_believes_marriage_outdated_institution_arguments.pkl\n",
            "File uploaded to current-data-dump/arguments-dump/training/religion/marriage_society_gender_family_house_would_allow_gay_couples_marry_arguments.pkl\n",
            "File uploaded to current-data-dump/arguments-dump/training/religion/morality_house_would_kill_one_save_many_arguments.pkl\n",
            "File uploaded to current-data-dump/arguments-dump/training/religion/religion_faith_religion_general_marriage_morality_gender_house_would_legalize_arguments.pkl\n",
            "File uploaded to current-data-dump/arguments-dump/training/religion/sease_sex_sexuality_international_africa_religion_church_morality_house_believes_arguments.pkl\n",
            "File uploaded to current-data-dump/arguments-dump/training/religion/y_religion_religion_general_god_house_believes_god_exists_arguments.pkl\n",
            "File uploaded to current-data-dump/arguments-dump/training/religion/religion_arguments.pkl\n",
            "File uploaded to current-data-dump/arguments-dump/training/science/censorship_ip_digital_freedoms_access_knowledge_house_would_condition_state_arguments.pkl\n",
            "File uploaded to current-data-dump/arguments-dump/training/science/censorship_ip_digital_freedoms_intellectual_property_house_would_abolish_arguments.pkl\n",
            "File uploaded to current-data-dump/arguments-dump/training/science/censorship_ip_internet_digital_freedoms_access_information_house_believes_google_arguments.pkl\n",
            "File uploaded to current-data-dump/arguments-dump/training/science/censorship_ip_internet_digital_freedoms_freedom_expression_house_would_allow_arguments.pkl\n",
            "File uploaded to current-data-dump/arguments-dump/training/science/censorship_ip_internet_digital_freedoms_intellectual_property_house_would_use_arguments.pkl\n",
            "File uploaded to current-data-dump/arguments-dump/training/science/computers_phones_evolution_science_general_genetics_universe_house_would_explore_arguments.pkl\n",
            "File uploaded to current-data-dump/arguments-dump/training/science/computers_phones_house_believes_macs_are_better_pcs_arguments.pkl\n",
            "File uploaded to current-data-dump/arguments-dump/training/science/ealthcare_philosophy_ethics_science_science_general_house_would_grant_those_arguments.pkl\n",
            "File uploaded to current-data-dump/arguments-dump/training/science/ent_animals_philosophy_ethics_science_science_general_house_would_ban_animal_arguments.pkl\n",
            "File uploaded to current-data-dump/arguments-dump/training/science/ent_pollution_science_censorship_ip_science_general_house_would_ban_sale_3d_arguments.pkl\n",
            "File uploaded to current-data-dump/arguments-dump/training/science/evolution_universe_house_would_continue_funding_attempts_contact_extra_arguments.pkl\n",
            "File uploaded to current-data-dump/arguments-dump/training/science/god_science_evolution_house_believes_evolution_has_disproved_creationism_arguments.pkl\n",
            "File uploaded to current-data-dump/arguments-dump/training/science/hy_life_science_genetics_society_gender_family_house_believes_parents_should_be_arguments.pkl\n",
            "File uploaded to current-data-dump/arguments-dump/training/science/internet_digital_freedoms_access_information_house_believes_state_should_provide_arguments.pkl\n",
            "File uploaded to current-data-dump/arguments-dump/training/science/internet_digital_freedoms_intellectual_property_house_believes_governments_should_arguments.pkl\n",
            "File uploaded to current-data-dump/arguments-dump/training/science/internet_society_family_youth_digital_freedoms_privacy_house_would_allow_parents_arguments.pkl\n",
            "File uploaded to current-data-dump/arguments-dump/training/science/ional_global_science_censorship_ip_internet_digital_freedoms_freedom_expression_arguments.pkl\n",
            "File uploaded to current-data-dump/arguments-dump/training/science/ional_global_science_censorship_ip_internet_digital_freedoms_intellectual_arguments.pkl\n",
            "File uploaded to current-data-dump/arguments-dump/training/science/n_education_general_free_speech_debate_internet_freedom_science_computers_phones_arguments.pkl\n",
            "File uploaded to current-data-dump/arguments-dump/training/science/n_education_general_teaching_university_science_computers_phones_internet_house_arguments.pkl\n",
            "File uploaded to current-data-dump/arguments-dump/training/science/n_primary_secondary_teaching_religion_god_science_evolution_house_would_teach_arguments.pkl\n",
            "File uploaded to current-data-dump/arguments-dump/training/science/nce_computers_phones_society_house_would_legalise_use_cell_phones_cars_arguments.pkl\n",
            "File uploaded to current-data-dump/arguments-dump/training/science/science_computers_phones_family_youth_house_believes_children_should_be_allowed_arguments.pkl\n",
            "File uploaded to current-data-dump/arguments-dump/training/science/science_general_universe_house_would_colonize_moon_arguments.pkl\n",
            "File uploaded to current-data-dump/arguments-dump/training/science/universe_house_believes_manned_space_flight_arguments.pkl\n",
            "File uploaded to current-data-dump/arguments-dump/training/science/science_arguments.pkl\n",
            "File uploaded to current-data-dump/arguments-dump/training/society/_church_marriage_religions_society_gender_family_house_believes_reproductive_arguments.pkl\n",
            "File uploaded to current-data-dump/arguments-dump/training/society/_defence_warpeace_society_gender_house_would_allow_women_take_part_combat_arguments.pkl\n",
            "File uploaded to current-data-dump/arguments-dump/training/society/_marriage_society_family_house_believes_marriage_outdated_institution_arguments.pkl\n",
            "File uploaded to current-data-dump/arguments-dump/training/society/_politics_general_society_immigration_minorities_house_would_offer_increased_aid_arguments.pkl\n",
            "File uploaded to current-data-dump/arguments-dump/training/society/e_policing_law_general_punishment_society_youth_house_would_scrap_anti_social_arguments.pkl\n",
            "File uploaded to current-data-dump/arguments-dump/training/society/ealth_general_weight_society_youth_tthw_prohibit_sale_childrens_toys_part_fast_arguments.pkl\n",
            "File uploaded to current-data-dump/arguments-dump/training/society/economic_policy_international_africa_society_family_house_believes_african_cities_arguments.pkl\n",
            "File uploaded to current-data-dump/arguments-dump/training/society/economic_policy_international_africa_society_family_immigration_house_believes_arguments.pkl\n",
            "File uploaded to current-data-dump/arguments-dump/training/society/economic_policy_international_africa_society_gender_family_immigration_house_arguments.pkl\n",
            "File uploaded to current-data-dump/arguments-dump/training/society/economic_policy_society_family_house_would_privatize_usas_social_security_schemes_arguments.pkl\n",
            "File uploaded to current-data-dump/arguments-dump/training/society/economy_general_society_family_house_would_make_home_ownership_affordable_arguments.pkl\n",
            "File uploaded to current-data-dump/arguments-dump/training/society/economy_immigration_house_believes_increasing_number_immigrants_eu_brings_more_arguments.pkl\n",
            "File uploaded to current-data-dump/arguments-dump/training/society/education_society_gender_family_house_believes_mothers_should_stay_home_and_look_arguments.pkl\n",
            "File uploaded to current-data-dump/arguments-dump/training/society/employment_international_africa_society_immigration_minorities_youth_house_would_arguments.pkl\n",
            "File uploaded to current-data-dump/arguments-dump/training/society/employment_international_global_society_immigration_minorities_arguments.pkl\n",
            "File uploaded to current-data-dump/arguments-dump/training/society/employment_society_gender_family_house_believes_housewives_should_be_paid_their_arguments.pkl\n",
            "File uploaded to current-data-dump/arguments-dump/training/society/family_youth_governments_should_prioritise_spending_money_youth_arguments.pkl\n",
            "File uploaded to current-data-dump/arguments-dump/training/society/gender_family_house_believes_homosexuals_should_be_able_adopt_arguments.pkl\n",
            "File uploaded to current-data-dump/arguments-dump/training/society/gender_family_youth_house_believes_peoples_republic_china_should_abandon_one_arguments.pkl\n",
            "File uploaded to current-data-dump/arguments-dump/training/society/gender_house_believes_feminism_still_needed_arguments.pkl\n",
            "File uploaded to current-data-dump/arguments-dump/training/society/gender_minorities_house_believes_zero_tolerance_policing_good_tactic_fighting_arguments.pkl\n",
            "File uploaded to current-data-dump/arguments-dump/training/society/gender_youth_house_believes_age_consent_laws_should_be_made_more_liberal_lowered_arguments.pkl\n",
            "File uploaded to current-data-dump/arguments-dump/training/society/general_society_gender_house_would_legalise_prostitution_arguments.pkl\n",
            "File uploaded to current-data-dump/arguments-dump/training/society/hy_life_science_genetics_society_gender_family_house_believes_parents_should_be_arguments.pkl\n",
            "File uploaded to current-data-dump/arguments-dump/training/society/hy_life_society_family_house_would_never_have_children_arguments.pkl\n",
            "File uploaded to current-data-dump/arguments-dump/training/society/immigration_house_would_grant_amnesty_illegal_immigrants_arguments.pkl\n",
            "File uploaded to current-data-dump/arguments-dump/training/society/immigration_minorities_all_states_should_immediately_ratify_un_convention_rights_arguments.pkl\n",
            "File uploaded to current-data-dump/arguments-dump/training/society/immigration_minorities_house_would_give_illegal_immigrants_drivers_licenses_arguments.pkl\n",
            "File uploaded to current-data-dump/arguments-dump/training/society/internet_society_family_youth_digital_freedoms_privacy_house_would_allow_parents_arguments.pkl\n",
            "File uploaded to current-data-dump/arguments-dump/training/society/ional_africa_law_human_rights_punishment_society_gender_minorities_house_believes_arguments.pkl\n",
            "File uploaded to current-data-dump/arguments-dump/training/society/ional_africa_local_government_society_family_minorities_house_believes_civil_arguments.pkl\n",
            "File uploaded to current-data-dump/arguments-dump/training/society/ional_africa_politics_government_leadership_voting_society_gender_house_would_arguments.pkl\n",
            "File uploaded to current-data-dump/arguments-dump/training/society/ional_americas_society_immigration_house_believes_mexico_us_border_fence_arguments.pkl\n",
            "File uploaded to current-data-dump/arguments-dump/training/society/ional_europe_society_immigration_house_believes_re_introduction_internal_border_arguments.pkl\n",
            "File uploaded to current-data-dump/arguments-dump/training/society/ional_global_law_human_rights_international_law_politics_warpeace_society_arguments.pkl\n",
            "File uploaded to current-data-dump/arguments-dump/training/society/ional_global_society_immigration_minorities_house_believes_nations_world_should_arguments.pkl\n",
            "File uploaded to current-data-dump/arguments-dump/training/society/ional_middle_east_human_rights_international_law_society_immigration_minorities_arguments.pkl\n",
            "File uploaded to current-data-dump/arguments-dump/training/society/ional_middle_east_society_immigration_minorities_house_believes_gulf_states_arguments.pkl\n",
            "File uploaded to current-data-dump/arguments-dump/training/society/law_punishment_society_youth_house_would_introduce_tougher_punishments_child_arguments.pkl\n",
            "File uploaded to current-data-dump/arguments-dump/training/society/n_education_general_society_immigration_minorities_house_would_stimulate_or_arguments.pkl\n",
            "File uploaded to current-data-dump/arguments-dump/training/society/n_education_general_teaching_law_crime_policing_society_youth_house_would_arm_arguments.pkl\n",
            "File uploaded to current-data-dump/arguments-dump/training/society/n_primary_secondary_law_punishment_society_youth_house_would_bring_back_corporal_arguments.pkl\n",
            "File uploaded to current-data-dump/arguments-dump/training/society/n_rights_international_law_society_gender_immigration_house_believes_eu_should_arguments.pkl\n",
            "File uploaded to current-data-dump/arguments-dump/training/society/n_university_law_law_general_society_minorities_house_would_censor_hate_speech_arguments.pkl\n",
            "File uploaded to current-data-dump/arguments-dump/training/society/society_family_immigration_youth_house_believes_states_should_offer_citizenship_arguments.pkl\n",
            "File uploaded to current-data-dump/arguments-dump/training/society/society_arguments.pkl\n",
            "File uploaded to current-data-dump/arguments-dump/training/sport/e_health_crime_policing_science_sport_olympics_house_would_permit_use_performance_arguments.pkl\n",
            "File uploaded to current-data-dump/arguments-dump/training/sport/e_media_gender_sport_sport_general_house_would_force_media_display_promote_and_arguments.pkl\n",
            "File uploaded to current-data-dump/arguments-dump/training/sport/human_rights_olympics_house_would_boycott_sports_events_states_repressive_regimes_arguments.pkl\n",
            "File uploaded to current-data-dump/arguments-dump/training/sport/leadership_sport_general_team_sports_house_would_require_professional_sportsmen_arguments.pkl\n",
            "File uploaded to current-data-dump/arguments-dump/training/sport/motorsport_olympics_sport_general_team_sports_house_would_allow_women_compete_same_arguments.pkl\n",
            "File uploaded to current-data-dump/arguments-dump/training/sport/nment_animals_sport_sport_general_house_believes_all_nations_should_ban_arguments.pkl\n",
            "File uploaded to current-data-dump/arguments-dump/training/sport/olympics_house_would_introduce_chess_olympics_arguments.pkl\n",
            "File uploaded to current-data-dump/arguments-dump/training/sport/sport_general_house_would_ban_boxing_arguments.pkl\n",
            "File uploaded to current-data-dump/arguments-dump/training/sport/team_sports_house_believes_instant_replay_should_be_used_major_league_baseball_arguments.pkl\n",
            "File uploaded to current-data-dump/arguments-dump/training/sport/team_sports_house_would_implement_playoffs_collegiate_level_american_football_arguments.pkl\n",
            "File uploaded to current-data-dump/arguments-dump/training/sport/team_sports_house_would_introduce_goal_line_technology_football_arguments.pkl\n",
            "File uploaded to current-data-dump/arguments-dump/training/sport/team_sports_house_would_introduce_restrictions_overseas_players_football_arguments.pkl\n",
            "File uploaded to current-data-dump/arguments-dump/training/sport/team_sports_house_would_move_2022_football_world_cup_winter_arguments.pkl\n",
            "File uploaded to current-data-dump/arguments-dump/training/sport/y_sport_leadership_olympics_sport_general_team_sports_house_would_enter_united_arguments.pkl\n",
            "File uploaded to current-data-dump/arguments-dump/training/sport/sport_arguments.pkl\n",
            "File uploaded to current-data-dump/arguments-dump/training/culture/arts_education_university_house_believes_degrees_creative_arts_are_luxuries_arguments.pkl\n",
            "File uploaded to current-data-dump/arguments-dump/training/culture/arts_modern_culture_gender_house_believes_music_glorifies_violence_against_women_arguments.pkl\n",
            "File uploaded to current-data-dump/arguments-dump/training/culture/culture_general_law_law_general_house_would_ban_gambling_arguments.pkl\n",
            "File uploaded to current-data-dump/arguments-dump/training/culture/culture_general_media_modern_culture_television_house_believes_reality_television_arguments.pkl\n",
            "File uploaded to current-data-dump/arguments-dump/training/culture/culture_general_politics_defence_house_would_exempt_celebrities_national_service_arguments.pkl\n",
            "File uploaded to current-data-dump/arguments-dump/training/culture/culture_general_traditions_law_international_law_house_would_treat_desecration_arguments.pkl\n",
            "File uploaded to current-data-dump/arguments-dump/training/culture/culture_house_would_out_gay_celebrities_arguments.pkl\n",
            "File uploaded to current-data-dump/arguments-dump/training/culture/media_americas_politics_voting_obama_vs_romney_does_campaign_finance_united_arguments.pkl\n",
            "File uploaded to current-data-dump/arguments-dump/training/culture/media_free_speech_debate_media_and_good_government_house_believes_rupert_murdoch_arguments.pkl\n",
            "File uploaded to current-data-dump/arguments-dump/training/culture/media_gender_sport_sport_general_house_would_force_media_display_promote_and_arguments.pkl\n",
            "File uploaded to current-data-dump/arguments-dump/training/culture/media_law_crime_policing_house_would_restrict_media_reporting_violent_crimes_arguments.pkl\n",
            "File uploaded to current-data-dump/arguments-dump/training/culture/media_modern_culture_house_believes_newspapers_are_thing_past_arguments.pkl\n",
            "File uploaded to current-data-dump/arguments-dump/training/culture/media_modern_culture_international_africa_house_believes_nollywood_could_be_arguments.pkl\n",
            "File uploaded to current-data-dump/arguments-dump/training/culture/media_modern_culture_philosophy_ethics_morality_house_believes_press_should_be_arguments.pkl\n",
            "File uploaded to current-data-dump/arguments-dump/training/culture/media_politics_voting_house_believes_film_stars_music_stars_and_other_popular_arguments.pkl\n",
            "File uploaded to current-data-dump/arguments-dump/training/culture/media_religion_religions_thb_danish_newspapers_should_not_have_published_cartoons_arguments.pkl\n",
            "File uploaded to current-data-dump/arguments-dump/training/culture/media_television_health_weight_house_would_ban_promotion_diets_arguments.pkl\n",
            "File uploaded to current-data-dump/arguments-dump/training/culture/media_television_house_supports_public_service_broadcasters_arguments.pkl\n",
            "File uploaded to current-data-dump/arguments-dump/training/culture/modern_culture_health_health_general_house_would_ban_cosmetic_surgery_arguments.pkl\n",
            "File uploaded to current-data-dump/arguments-dump/training/culture/modern_culture_internet_house_believes_global_language_arguments.pkl\n",
            "File uploaded to current-data-dump/arguments-dump/training/culture/modern_culture_traditions_house_dreaming_white_christmas_junior_arguments.pkl\n",
            "File uploaded to current-data-dump/arguments-dump/training/culture/modern_culture_traditions_immigration_minorities_house_would_embrace_arguments.pkl\n",
            "File uploaded to current-data-dump/arguments-dump/training/culture/television_human_rights_house_would_ban_beauty_contests_arguments.pkl\n",
            "File uploaded to current-data-dump/arguments-dump/training/culture/traditions_education_teaching_university_house_would_return_cultural_property_arguments.pkl\n",
            "File uploaded to current-data-dump/arguments-dump/training/culture/traditions_politics_government_house_would_abolish_monarchy_arguments.pkl\n",
            "File uploaded to current-data-dump/arguments-dump/training/culture/traditions_politics_house_would_protect_aboriginal_culture_arguments.pkl\n",
            "File uploaded to current-data-dump/arguments-dump/training/culture/video_games_computers_phones_internet_youth_house_would_restrict_violent_video_arguments.pkl\n",
            "File uploaded to current-data-dump/arguments-dump/training/culture/video_games_education_general_internet_house_would_ban_sale_violent_video_arguments.pkl\n",
            "File uploaded to current-data-dump/arguments-dump/training/culture/culture_arguments.pkl\n",
            "File uploaded to current-data-dump/arguments-dump/training/digital-freedoms/_general_government_digital_freedoms_access_knowledge_house_would_force_arguments.pkl\n",
            "File uploaded to current-data-dump/arguments-dump/training/digital-freedoms/access_information_house_believes_internet_encourages_democracy_arguments.pkl\n",
            "File uploaded to current-data-dump/arguments-dump/training/digital-freedoms/digital_freedoms_access_information_house_believes_state_should_provide_arguments.pkl\n",
            "File uploaded to current-data-dump/arguments-dump/training/digital-freedoms/digital_freedoms_access_knowledge_house_believes_internet_brings_more_arguments.pkl\n",
            "File uploaded to current-data-dump/arguments-dump/training/digital-freedoms/e_internet_freedom_censorship_ip_digital_freedoms_freedom_expression_arguments.pkl\n",
            "File uploaded to current-data-dump/arguments-dump/training/digital-freedoms/e_internet_freedom_law_human_rights_digital_freedoms_freedom_expression_arguments.pkl\n",
            "File uploaded to current-data-dump/arguments-dump/training/digital-freedoms/e_media_and_good_government_politics_defence_government_digital_freedoms_arguments.pkl\n",
            "File uploaded to current-data-dump/arguments-dump/training/digital-freedoms/economic_policy_law_crime_policing_digital_freedoms_freedom_expression_arguments.pkl\n",
            "File uploaded to current-data-dump/arguments-dump/training/digital-freedoms/freedom_expression_house_believes_western_democracies_should_openly_try_arguments.pkl\n",
            "File uploaded to current-data-dump/arguments-dump/training/digital-freedoms/freedom_expression_house_would_block_access_websites_deny_holocaust_arguments.pkl\n",
            "File uploaded to current-data-dump/arguments-dump/training/digital-freedoms/freedom_expression_house_would_incentivise_western_companies_build_arguments.pkl\n",
            "File uploaded to current-data-dump/arguments-dump/training/digital-freedoms/freedom_expression_house_would_use_foreign_aid_funds_research_and_arguments.pkl\n",
            "File uploaded to current-data-dump/arguments-dump/training/digital-freedoms/freedom_expression_should_new_global_body_united_nations_committee_arguments.pkl\n",
            "File uploaded to current-data-dump/arguments-dump/training/digital-freedoms/government_terrorism_digital_freedoms_access_information_should_arguments.pkl\n",
            "File uploaded to current-data-dump/arguments-dump/training/digital-freedoms/governmental_transparency_house_believes_there_should_be_presumption_arguments.pkl\n",
            "File uploaded to current-data-dump/arguments-dump/training/digital-freedoms/governmental_transparency_house_would_post_full_financial_history_all_arguments.pkl\n",
            "File uploaded to current-data-dump/arguments-dump/training/digital-freedoms/intellectual_property_house_would_cut_length_copyright_protection_arguments.pkl\n",
            "File uploaded to current-data-dump/arguments-dump/training/digital-freedoms/ital_freedoms_access_knowledge_house_believes_wikipedia_force_good_arguments.pkl\n",
            "File uploaded to current-data-dump/arguments-dump/training/digital-freedoms/ity_digital_freedoms_access_knowledge_house_would_subsidise_translation_arguments.pkl\n",
            "File uploaded to current-data-dump/arguments-dump/training/digital-freedoms/ity_digital_freedoms_access_knowledge_universities_should_make_all_arguments.pkl\n",
            "File uploaded to current-data-dump/arguments-dump/training/digital-freedoms/nce_censorship_ip_digital_freedoms_access_knowledge_house_believes_all_arguments.pkl\n",
            "File uploaded to current-data-dump/arguments-dump/training/digital-freedoms/p_ip_digital_freedoms_access_knowledge_house_would_condition_state_arguments.pkl\n",
            "File uploaded to current-data-dump/arguments-dump/training/digital-freedoms/p_ip_digital_freedoms_access_knowledge_house_would_not_fund_any_work_not_arguments.pkl\n",
            "File uploaded to current-data-dump/arguments-dump/training/digital-freedoms/p_ip_internet_digital_freedoms_access_information_house_would_censor_arguments.pkl\n",
            "File uploaded to current-data-dump/arguments-dump/training/digital-freedoms/p_ip_internet_digital_freedoms_privacy_house_would_ban_all_anonymous_arguments.pkl\n",
            "File uploaded to current-data-dump/arguments-dump/training/digital-freedoms/privacy_house_believes_private_lives_public_figures_should_be_open_press_arguments.pkl\n",
            "File uploaded to current-data-dump/arguments-dump/training/digital-freedoms/privacy_house_would_ban_targeted_online_advertising_basis_user_profiles_arguments.pkl\n",
            "File uploaded to current-data-dump/arguments-dump/training/digital-freedoms/society_family_youth_digital_freedoms_privacy_house_would_allow_parents_arguments.pkl\n",
            "File uploaded to current-data-dump/arguments-dump/training/digital-freedoms/warpeace_digital_freedoms_intellectual_property_house_would_use_targeted_arguments.pkl\n",
            "File uploaded to current-data-dump/arguments-dump/training/digital-freedoms/digital-freedoms_arguments.pkl\n",
            "File uploaded to current-data-dump/arguments-dump/training/global_arguments.pkl\n"
          ]
        }
      ]
    },
    {
      "cell_type": "code",
      "source": [
        "global_test_arguments_df = global_convert_to_df(global_test_arguments, Dataset.TEST)"
      ],
      "metadata": {
        "colab": {
          "base_uri": "https://localhost:8080/"
        },
        "id": "glh6a3b1gmf3",
        "outputId": "14c377e0-05d1-4549-cafa-98804ac640d6"
      },
      "execution_count": null,
      "outputs": [
        {
          "output_type": "stream",
          "name": "stdout",
          "text": [
            "File uploaded to current-data-dump/arguments-dump/test/economy/business_economic_policy_africa_house_believes_tunisia_should_not_rely_tourism_arguments.pkl\n",
            "File uploaded to current-data-dump/arguments-dump/test/economy/business_economic_policy_international_europe_house_believes_eu_should_abandon_arguments.pkl\n",
            "File uploaded to current-data-dump/arguments-dump/test/economy/business_economic_policy_international_global_house_believes_dictatorship_best_arguments.pkl\n",
            "File uploaded to current-data-dump/arguments-dump/test/economy/business_economic_policy_law_crime_policing_digital_freedoms_freedom_expression_arguments.pkl\n",
            "File uploaded to current-data-dump/arguments-dump/test/economy/business_economy_general_house_would_build_hyperloop_arguments.pkl\n",
            "File uploaded to current-data-dump/arguments-dump/test/economy/business_health_addiction_house_would_ban_smoking_public_spaces_arguments.pkl\n",
            "File uploaded to current-data-dump/arguments-dump/test/economy/economic_policy_economy_general_international_americas_house_supports_creation_arguments.pkl\n",
            "File uploaded to current-data-dump/arguments-dump/test/economy/economic_policy_employment_house_would_make_raising_business_and_labour_standards_arguments.pkl\n",
            "File uploaded to current-data-dump/arguments-dump/test/economy/economic_policy_international_africa_society_gender_house_believes_feminisation_arguments.pkl\n",
            "File uploaded to current-data-dump/arguments-dump/test/economy/economic_policy_society_immigration_house_believes_developing_nations_should_arguments.pkl\n",
            "File uploaded to current-data-dump/arguments-dump/test/economy/economic_policy_tax_politics_government_house_doesnt_trust_republicans_economy_arguments.pkl\n",
            "File uploaded to current-data-dump/arguments-dump/test/economy/economy_general_environment_climate_environment_general_pollution_house_would_arguments.pkl\n",
            "File uploaded to current-data-dump/arguments-dump/test/economy/economy_general_international_africa_house_believes_women_are_key_africas_arguments.pkl\n",
            "File uploaded to current-data-dump/arguments-dump/test/economy/economy_general_philosophy_political_philosophy_house_believes_capitalism_better_arguments.pkl\n",
            "File uploaded to current-data-dump/arguments-dump/test/economy/finance_international_africa_house_would_provide_access_microfinance_unbanked_arguments.pkl\n",
            "File uploaded to current-data-dump/arguments-dump/test/economy/tax_health_health_general_healthcare_weight_house_would_implement_fat_tax_arguments.pkl\n",
            "File uploaded to current-data-dump/arguments-dump/test/economy/tax_house_supports_progressive_tax_rate_arguments.pkl\n",
            "File uploaded to current-data-dump/arguments-dump/test/economy/tax_house_would_introduce_tobin_tax_arguments.pkl\n",
            "File uploaded to current-data-dump/arguments-dump/test/economy/tax_politics_house_would_impose_estate_tax_arguments.pkl\n",
            "File uploaded to current-data-dump/arguments-dump/test/economy/economy_arguments.pkl\n",
            "File uploaded to current-data-dump/arguments-dump/test/education/education_general_secondary_crime_policing_house_supports_random_drug_testing_arguments.pkl\n",
            "File uploaded to current-data-dump/arguments-dump/test/education/education_general_teaching_university_science_computers_phones_internet_house_arguments.pkl\n",
            "File uploaded to current-data-dump/arguments-dump/test/education/ployment_tax_education_university_house_would_fund_provision_higher_education_arguments.pkl\n",
            "File uploaded to current-data-dump/arguments-dump/test/education/primary_secondary_health_health_general_house_would_provide_breakfast_all_0_arguments.pkl\n",
            "File uploaded to current-data-dump/arguments-dump/test/education/primary_secondary_teaching_religion_god_science_evolution_house_would_teach_arguments.pkl\n",
            "File uploaded to current-data-dump/arguments-dump/test/education/teaching_university_house_would_abolish_standardized_tests_university_admission_arguments.pkl\n",
            "File uploaded to current-data-dump/arguments-dump/test/education/ucation_secondary_university_philosophy_religion_minorities_house_believes_use_arguments.pkl\n",
            "File uploaded to current-data-dump/arguments-dump/test/education/university_digital_freedoms_access_knowledge_universities_should_make_all_arguments.pkl\n",
            "File uploaded to current-data-dump/arguments-dump/test/education/university_free_speech_debate_free_know_house_believes_western_universities_arguments.pkl\n",
            "File uploaded to current-data-dump/arguments-dump/test/education/university_government_house_believes_university_education_should_be_free_arguments.pkl\n",
            "File uploaded to current-data-dump/arguments-dump/test/education/university_house_calls_introduction_two_year_degrees_standard_arguments.pkl\n",
            "File uploaded to current-data-dump/arguments-dump/test/education/x_education_education_general_secondary_house_would_fund_education_using_arguments.pkl\n",
            "File uploaded to current-data-dump/arguments-dump/test/education/education_arguments.pkl\n",
            "File uploaded to current-data-dump/arguments-dump/test/environment/animals_environment_general_health_health_general_weight_philosophy_ethics_arguments.pkl\n",
            "File uploaded to current-data-dump/arguments-dump/test/environment/animals_international_africa_house_would_african_government_implement_tougher_arguments.pkl\n",
            "File uploaded to current-data-dump/arguments-dump/test/environment/animals_science_science_general_ban_animal_testing_junior_arguments.pkl\n",
            "File uploaded to current-data-dump/arguments-dump/test/environment/climate_house_believes_were_too_late_global_climate_change_arguments.pkl\n",
            "File uploaded to current-data-dump/arguments-dump/test/environment/energy_house_would_store_nuclear_waste_underground_arguments.pkl\n",
            "File uploaded to current-data-dump/arguments-dump/test/environment/energy_pollution_water_house_would_subsidize_biofuels_arguments.pkl\n",
            "File uploaded to current-data-dump/arguments-dump/test/environment/omic_policy_environment_climate_energy_water_international_africa_house_would_arguments.pkl\n",
            "File uploaded to current-data-dump/arguments-dump/test/environment/environment_arguments.pkl\n",
            "File uploaded to current-data-dump/arguments-dump/test/free-speech-debate/free_challenge_house_believes_julian_assange_journalist_arguments.pkl\n",
            "File uploaded to current-data-dump/arguments-dump/test/free-speech-debate/free_speech_and_privacy_health_general_international_africa_politics_arguments.pkl\n",
            "File uploaded to current-data-dump/arguments-dump/test/free-speech-debate/living_difference_house_would_ban_music_containing_lyrics_glorify_arguments.pkl\n",
            "File uploaded to current-data-dump/arguments-dump/test/free-speech-debate/living_difference_house_would_penalise_religious_hate_speech_arguments.pkl\n",
            "File uploaded to current-data-dump/arguments-dump/test/free-speech-debate/media_and_good_government_house_believes_community_radio_good_arguments.pkl\n",
            "File uploaded to current-data-dump/arguments-dump/test/free-speech-debate/nothing_sacred_house_believes_bbc_should_be_free_blaspheme_arguments.pkl\n",
            "File uploaded to current-data-dump/arguments-dump/test/free-speech-debate/nothing_sacred_house_believes_christians_should_be_allowed_wear_cross_arguments.pkl\n",
            "File uploaded to current-data-dump/arguments-dump/test/free-speech-debate/reputation_and_defamation_house_believes_spear_should_have_remained_arguments.pkl\n",
            "File uploaded to current-data-dump/arguments-dump/test/free-speech-debate/y_free_speech_debate_free_know_house_believes_western_universities_arguments.pkl\n",
            "File uploaded to current-data-dump/arguments-dump/test/free-speech-debate/free-speech-debate_arguments.pkl\n",
            "File uploaded to current-data-dump/arguments-dump/test/health/addiction_healthcare_international_africa_house_believes_ghanas_ban_smoking_public_arguments.pkl\n",
            "File uploaded to current-data-dump/arguments-dump/test/health/disease_health_general_healthcare_house_believes_alternative_medicine_poses_threat_arguments.pkl\n",
            "File uploaded to current-data-dump/arguments-dump/test/health/disease_health_general_house_would_allow_production_generic_drugs_arguments.pkl\n",
            "File uploaded to current-data-dump/arguments-dump/test/health/disease_health_general_sex_sexuality_house_believes_employees_should_be_compelled_arguments.pkl\n",
            "File uploaded to current-data-dump/arguments-dump/test/health/disease_healthcare_international_africa_censorship_ip_house_would_produce_high_arguments.pkl\n",
            "File uploaded to current-data-dump/arguments-dump/test/health/disease_healthcare_philosophy_ethics_life_house_believes_assisted_suicide_should_arguments.pkl\n",
            "File uploaded to current-data-dump/arguments-dump/test/health/health_general_weight_house_would_ban_junk_food_schools_arguments.pkl\n",
            "File uploaded to current-data-dump/arguments-dump/test/health/healthcare_deny_organs_non_donors_arguments.pkl\n",
            "File uploaded to current-data-dump/arguments-dump/test/health/healthcare_philosophy_ethics_house_would_allow_donations_vital_organs_even_expense_arguments.pkl\n",
            "File uploaded to current-data-dump/arguments-dump/test/health/on_general_health_addiction_house_would_lower_drinking_age_arguments.pkl\n",
            "File uploaded to current-data-dump/arguments-dump/test/health/pregnancy_philosophy_ethics_life_family_house_would_ban_partial_birth_abortions_arguments.pkl\n",
            "File uploaded to current-data-dump/arguments-dump/test/health/health_arguments.pkl\n",
            "File uploaded to current-data-dump/arguments-dump/test/international/_sex_sexuality_international_africa_religion_church_morality_house_believes_arguments.pkl\n",
            "File uploaded to current-data-dump/arguments-dump/test/international/africa_asia_house_would_sao_tome_drop_relations_taiwan_favour_mainland_arguments.pkl\n",
            "File uploaded to current-data-dump/arguments-dump/test/international/africa_global_house_believes_former_colonial_powers_should_pay_reparations_arguments.pkl\n",
            "File uploaded to current-data-dump/arguments-dump/test/international/africa_global_law_human_rights_international_law_house_believes_arguments.pkl\n",
            "File uploaded to current-data-dump/arguments-dump/test/international/africa_politics_politics_general_house_believes_lesotho_should_be_annexed_arguments.pkl\n",
            "File uploaded to current-data-dump/arguments-dump/test/international/africa_politics_warpeace_house_believes_african_union_can_meet_its_pledge_arguments.pkl\n",
            "File uploaded to current-data-dump/arguments-dump/test/international/americas_europe_global_middle_east_politics_politics_general_house_would_arguments.pkl\n",
            "File uploaded to current-data-dump/arguments-dump/test/international/americas_middle_east_house_believes_us_and_israel_should_join_international_arguments.pkl\n",
            "File uploaded to current-data-dump/arguments-dump/test/international/ary_teaching_international_africa_house_believes_lack_investment_teachers_arguments.pkl\n",
            "File uploaded to current-data-dump/arguments-dump/test/international/asia_global_house_would_re_engage_myanmar_arguments.pkl\n",
            "File uploaded to current-data-dump/arguments-dump/test/international/ational_asia_politics_house_would_disband_asean_arguments.pkl\n",
            "File uploaded to current-data-dump/arguments-dump/test/international/bate_living_difference_international_middle_east_house_believes_news_arguments.pkl\n",
            "File uploaded to current-data-dump/arguments-dump/test/international/bate_media_and_good_government_international_africa_house_believes_limited_arguments.pkl\n",
            "File uploaded to current-data-dump/arguments-dump/test/international/e_international_africa_house_would_provide_access_microfinance_unbanked_arguments.pkl\n",
            "File uploaded to current-data-dump/arguments-dump/test/international/europe_global_human_rights_house_believes_european_union_should_lift_its_arguments.pkl\n",
            "File uploaded to current-data-dump/arguments-dump/test/international/europe_house_believes_federal_europe_arguments.pkl\n",
            "File uploaded to current-data-dump/arguments-dump/test/international/europe_middle_east_politics_house_supports_admission_turkey_eu_arguments.pkl\n",
            "File uploaded to current-data-dump/arguments-dump/test/international/europe_politics_defence_leadership_house_favours_common_eu_foreign_policy_arguments.pkl\n",
            "File uploaded to current-data-dump/arguments-dump/test/international/europe_politics_government_local_government_house_believes_northern_ireland_arguments.pkl\n",
            "File uploaded to current-data-dump/arguments-dump/test/international/europe_politics_voting_house_would_hold_referendum_any_new_eu_treaty_arguments.pkl\n",
            "File uploaded to current-data-dump/arguments-dump/test/international/global_house_believes_united_nations_has_failed_arguments.pkl\n",
            "File uploaded to current-data-dump/arguments-dump/test/international/global_house_would_create_international_treatyban_cyber_attacks_arguments.pkl\n",
            "File uploaded to current-data-dump/arguments-dump/test/international/global_law_international_law_politics_defence_warpeace_house_supports_new_arguments.pkl\n",
            "File uploaded to current-data-dump/arguments-dump/test/international/global_middle_east_house_believes_israel_should_return_its_pre_1967_borders_arguments.pkl\n",
            "File uploaded to current-data-dump/arguments-dump/test/international/global_middle_east_house_would_arm_syrian_rebels_arguments.pkl\n",
            "File uploaded to current-data-dump/arguments-dump/test/international/global_politics_defence_warpeace_house_believes_un_should_restrict_arms_arguments.pkl\n",
            "File uploaded to current-data-dump/arguments-dump/test/international/global_politics_defence_warpeace_house_would_create_un_standing_army_arguments.pkl\n",
            "File uploaded to current-data-dump/arguments-dump/test/international/global_politics_society_minorities_house_believes_south_ossetia_should_be_arguments.pkl\n",
            "File uploaded to current-data-dump/arguments-dump/test/international/global_science_censorship_ip_internet_digital_freedoms_freedom_expression_arguments.pkl\n",
            "File uploaded to current-data-dump/arguments-dump/test/international/ic_policy_eurozone_crisis_finance_international_europe_politics_government_arguments.pkl\n",
            "File uploaded to current-data-dump/arguments-dump/test/international/imals_international_africa_house_would_african_government_implement_tougher_arguments.pkl\n",
            "File uploaded to current-data-dump/arguments-dump/test/international/imate_international_global_house_believes_outcome_paris_climate_conference_arguments.pkl\n",
            "File uploaded to current-data-dump/arguments-dump/test/international/imate_water_international_africa_global_house_believes_seychelles_should_arguments.pkl\n",
            "File uploaded to current-data-dump/arguments-dump/test/international/international_europe_house_would_create_balkan_union_substitute_membership_arguments.pkl\n",
            "File uploaded to current-data-dump/arguments-dump/test/international/ment_international_africa_society_immigration_minorities_youth_house_would_arguments.pkl\n",
            "File uploaded to current-data-dump/arguments-dump/test/international/ss_economic_policy_international_africa_house_believes_africans_are_worse_arguments.pkl\n",
            "File uploaded to current-data-dump/arguments-dump/test/international/ss_economy_general_international_africa_house_believes_africa_really_rising_arguments.pkl\n",
            "File uploaded to current-data-dump/arguments-dump/test/international/ss_international_africa_computers_phones_house_believes_new_technologies_arguments.pkl\n",
            "File uploaded to current-data-dump/arguments-dump/test/international/y_finance_tax_international_africa_house_believes_countries_which_suffer_arguments.pkl\n",
            "File uploaded to current-data-dump/arguments-dump/test/international/international_arguments.pkl\n",
            "File uploaded to current-data-dump/arguments-dump/test/law/_speech_debate_free_challenge_law_human_rights_philosophy_political_philosophy_house_arguments.pkl\n",
            "File uploaded to current-data-dump/arguments-dump/test/law/_speech_debate_internet_freedom_law_human_rights_digital_freedoms_freedom_expression_arguments.pkl\n",
            "File uploaded to current-data-dump/arguments-dump/test/law/crime_policing_international_law_house_believes_icc_should_have_its_own_enforcement_arguments.pkl\n",
            "File uploaded to current-data-dump/arguments-dump/test/law/crime_policing_law_general_local_government_house_would_ban_handguns_washington_dc_arguments.pkl\n",
            "File uploaded to current-data-dump/arguments-dump/test/law/crime_policing_law_general_punishment_society_house_would_disclose_previous_arguments.pkl\n",
            "File uploaded to current-data-dump/arguments-dump/test/law/crime_policing_punishment_society_house_believes_criminal_justice_should_focus_more_arguments.pkl\n",
            "File uploaded to current-data-dump/arguments-dump/test/law/human_rights_international_law_politics_government_warpeace_house_would_recognise_arguments.pkl\n",
            "File uploaded to current-data-dump/arguments-dump/test/law/human_rights_philosophy_ethics_politics_terrorism_house_would_use_torture_obtain_arguments.pkl\n",
            "File uploaded to current-data-dump/arguments-dump/test/law/international_global_law_human_rights_politics_government_house_would_promote_arguments.pkl\n",
            "File uploaded to current-data-dump/arguments-dump/test/law/international_law_philosophy_political_philosophy_politics_government_house_believes_arguments.pkl\n",
            "File uploaded to current-data-dump/arguments-dump/test/law/law_general_house_believes_attorney_client_privilege_should_be_abolished_arguments.pkl\n",
            "File uploaded to current-data-dump/arguments-dump/test/law/law_general_house_would_place_cameras_courtrooms_televise_court_cases_arguments.pkl\n",
            "File uploaded to current-data-dump/arguments-dump/test/law/law_general_philosophy_life_house_believes_suicide_should_be_criminal_offence_arguments.pkl\n",
            "File uploaded to current-data-dump/arguments-dump/test/law/osophy_law_human_rights_international_law_philosophy_ethics_house_would_assassinate_arguments.pkl\n",
            "File uploaded to current-data-dump/arguments-dump/test/law/punishment_house_would_make_fines_relative_income_arguments.pkl\n",
            "File uploaded to current-data-dump/arguments-dump/test/law/rnational_africa_law_human_rights_international_law_government_leadership_voting_arguments.pkl\n",
            "File uploaded to current-data-dump/arguments-dump/test/law/rnational_middle_east_law_human_rights_international_law_house_believes_israels_west_arguments.pkl\n",
            "File uploaded to current-data-dump/arguments-dump/test/law/tes_law_house_limit_prison_violent_offenders_arguments.pkl\n",
            "File uploaded to current-data-dump/arguments-dump/test/law/th_addiction_health_general_law_crime_policing_house_supports_legalisation_drugs_arguments.pkl\n",
            "File uploaded to current-data-dump/arguments-dump/test/law/th_health_general_global_law_crime_policing_law_general_punishment_house_would_arguments.pkl\n",
            "File uploaded to current-data-dump/arguments-dump/test/law/th_law_crime_policing_law_general_house_would_fund_needle_exchanges_arguments.pkl\n",
            "File uploaded to current-data-dump/arguments-dump/test/law/th_mental_law_human_rights_punishment_house_would_detain_people_grounds_mental_health_arguments.pkl\n",
            "File uploaded to current-data-dump/arguments-dump/test/law/ure_media_television_law_international_law_house_opposes_televising_all_criminal_arguments.pkl\n",
            "File uploaded to current-data-dump/arguments-dump/test/law/law_arguments.pkl\n",
            "File uploaded to current-data-dump/arguments-dump/test/philosophy/_animals_philosophy_ethics_science_science_general_house_would_ban_animal_arguments.pkl\n",
            "File uploaded to current-data-dump/arguments-dump/test/philosophy/eral_philosophy_political_philosophy_house_would_limit_right_trial_jury_some_arguments.pkl\n",
            "File uploaded to current-data-dump/arguments-dump/test/philosophy/ethics_life_house_believes_right_die_arguments.pkl\n",
            "File uploaded to current-data-dump/arguments-dump/test/philosophy/ethics_life_kill_one_save_many_junior_arguments.pkl\n",
            "File uploaded to current-data-dump/arguments-dump/test/philosophy/ights_punishment_philosophy_ethics_life_house_believes_capital_punishment_arguments.pkl\n",
            "File uploaded to current-data-dump/arguments-dump/test/philosophy/niversity_philosophy_political_philosophy_minorities_house_would_use_positive_arguments.pkl\n",
            "File uploaded to current-data-dump/arguments-dump/test/philosophy/nomic_policy_economy_general_international_europe_philosophy_political_arguments.pkl\n",
            "File uploaded to current-data-dump/arguments-dump/test/philosophy/political_philosophy_house_believes_civil_liberties_should_be_sacrificed_arguments.pkl\n",
            "File uploaded to current-data-dump/arguments-dump/test/philosophy/political_philosophy_politics_government_society_house_believes_socialism_dead_arguments.pkl\n",
            "File uploaded to current-data-dump/arguments-dump/test/philosophy/political_philosophy_politics_terrorism_house_believes_terrorism_can_be_arguments.pkl\n",
            "File uploaded to current-data-dump/arguments-dump/test/philosophy/philosophy_arguments.pkl\n",
            "File uploaded to current-data-dump/arguments-dump/test/politics/ch_debate_free_speech_and_privacy_health_general_international_africa_politics_arguments.pkl\n",
            "File uploaded to current-data-dump/arguments-dump/test/politics/ch_debate_media_and_good_government_politics_defence_government_digital_freedoms_arguments.pkl\n",
            "File uploaded to current-data-dump/arguments-dump/test/politics/conomic_policy_economy_general_international_europe_politics_government_house_arguments.pkl\n",
            "File uploaded to current-data-dump/arguments-dump/test/politics/conomic_policy_eurozone_crisis_finance_international_europe_politics_government_arguments.pkl\n",
            "File uploaded to current-data-dump/arguments-dump/test/politics/defence_house_believes_all_nations_have_right_nuclear_weapons_arguments.pkl\n",
            "File uploaded to current-data-dump/arguments-dump/test/politics/defence_house_would_employ_mercenaries_arguments.pkl\n",
            "File uploaded to current-data-dump/arguments-dump/test/politics/edia_politics_voting_house_believes_film_stars_music_stars_and_other_popular_arguments.pkl\n",
            "File uploaded to current-data-dump/arguments-dump/test/politics/eneral_politics_politics_general_house_would_limit_right_bear_arms_arguments.pkl\n",
            "File uploaded to current-data-dump/arguments-dump/test/politics/eneral_punishment_politics_government_house_would_grant_politicians_immunity_arguments.pkl\n",
            "File uploaded to current-data-dump/arguments-dump/test/politics/government_house_believes_governance_united_states_should_be_split_between_two_arguments.pkl\n",
            "File uploaded to current-data-dump/arguments-dump/test/politics/government_local_government_house_supports_scottish_independence_arguments.pkl\n",
            "File uploaded to current-data-dump/arguments-dump/test/politics/government_local_government_voting_house_believes_quebec_should_secede_canada_arguments.pkl\n",
            "File uploaded to current-data-dump/arguments-dump/test/politics/government_religion_church_religion_general_secularism_house_would_ban_religious_arguments.pkl\n",
            "File uploaded to current-data-dump/arguments-dump/test/politics/government_voting_house_believes_house_lords_should_be_reformed_arguments.pkl\n",
            "File uploaded to current-data-dump/arguments-dump/test/politics/government_voting_house_would_have_no_elections_rather_sham_elections_arguments.pkl\n",
            "File uploaded to current-data-dump/arguments-dump/test/politics/international_global_politics_voting_house_would_elect_un_secretary_general_arguments.pkl\n",
            "File uploaded to current-data-dump/arguments-dump/test/politics/local_government_house_would_directly_elect_city_mayors_arguments.pkl\n",
            "File uploaded to current-data-dump/arguments-dump/test/politics/mployment_tax_politics_government_house_would_abolish_all_collective_bargaining_arguments.pkl\n",
            "File uploaded to current-data-dump/arguments-dump/test/politics/national_global_law_human_rights_politics_government_house_would_promote_arguments.pkl\n",
            "File uploaded to current-data-dump/arguments-dump/test/politics/national_law_politics_defence_warpeace_house_believes_us_should_ban_use_cluster_arguments.pkl\n",
            "File uploaded to current-data-dump/arguments-dump/test/politics/olitics_defence_society_youth_house_would_reintroduce_national_service_arguments.pkl\n",
            "File uploaded to current-data-dump/arguments-dump/test/politics/onal_americas_politics_government_house_wants_line_item_veto_amendment_arguments.pkl\n",
            "File uploaded to current-data-dump/arguments-dump/test/politics/onal_asia_politics_defence_house_would_ignore_north_korean_provocations_arguments.pkl\n",
            "File uploaded to current-data-dump/arguments-dump/test/politics/onal_europe_politics_defence_leadership_house_favours_common_eu_foreign_policy_arguments.pkl\n",
            "File uploaded to current-data-dump/arguments-dump/test/politics/onal_europe_politics_government_house_believes_russia_needs_strong_leadership_arguments.pkl\n",
            "File uploaded to current-data-dump/arguments-dump/test/politics/onal_europe_politics_leadership_house_believes_uk_would_have_more_influence_arguments.pkl\n",
            "File uploaded to current-data-dump/arguments-dump/test/politics/onal_global_law_international_law_politics_defence_warpeace_house_supports_new_arguments.pkl\n",
            "File uploaded to current-data-dump/arguments-dump/test/politics/politics_general_society_immigration_minorities_house_would_offer_increased_aid_arguments.pkl\n",
            "File uploaded to current-data-dump/arguments-dump/test/politics/unishment_politics_voting_house_would_allow_prisoners_vote_arguments.pkl\n",
            "File uploaded to current-data-dump/arguments-dump/test/politics/y_political_philosophy_politics_defence_government_house_would_impose_democracy_arguments.pkl\n",
            "File uploaded to current-data-dump/arguments-dump/test/politics/y_political_philosophy_politics_government_voting_house_would_make_voting_arguments.pkl\n",
            "File uploaded to current-data-dump/arguments-dump/test/politics/politics_arguments.pkl\n",
            "File uploaded to current-data-dump/arguments-dump/test/religion/church_marriage_religions_society_gender_family_house_believes_reproductive_arguments.pkl\n",
            "File uploaded to current-data-dump/arguments-dump/test/religion/faith_religion_general_house_believes_belief_god_irrational_arguments.pkl\n",
            "File uploaded to current-data-dump/arguments-dump/test/religion/government_religion_church_religion_general_secularism_house_would_ban_religious_arguments.pkl\n",
            "File uploaded to current-data-dump/arguments-dump/test/religion/marriage_society_gender_family_house_would_ban_arranged_marriages_eu_countries_arguments.pkl\n",
            "File uploaded to current-data-dump/arguments-dump/test/religion/w_crime_policing_religion_religion_general_religions_house_believes_male_infant_arguments.pkl\n",
            "File uploaded to current-data-dump/arguments-dump/test/religion/y_epistemology_religion_church_faith_religion_general_god_morality_secularism_arguments.pkl\n",
            "File uploaded to current-data-dump/arguments-dump/test/religion/religion_arguments.pkl\n",
            "File uploaded to current-data-dump/arguments-dump/test/science/_defence_science_science_general_house_supports_development_missile_defence_arguments.pkl\n",
            "File uploaded to current-data-dump/arguments-dump/test/science/_warpeace_science_internet_house_would_consider_large_scale_cyber_attack_act_war_arguments.pkl\n",
            "File uploaded to current-data-dump/arguments-dump/test/science/arts_science_censorship_ip_digital_freedoms_access_knowledge_house_believes_all_arguments.pkl\n",
            "File uploaded to current-data-dump/arguments-dump/test/science/censorship_ip_internet_digital_freedoms_access_information_house_would_censor_arguments.pkl\n",
            "File uploaded to current-data-dump/arguments-dump/test/science/computers_phones_internet_society_youth_digital_freedoms_privacy_house_would_join_arguments.pkl\n",
            "File uploaded to current-data-dump/arguments-dump/test/science/ent_animals_science_science_general_ban_animal_testing_junior_arguments.pkl\n",
            "File uploaded to current-data-dump/arguments-dump/test/science/n_science_internet_house_would_ban_teachers_interacting_students_social_arguments.pkl\n",
            "File uploaded to current-data-dump/arguments-dump/test/science/science_general_house_would_ban_development_genetically_modified_organisms_arguments.pkl\n",
            "File uploaded to current-data-dump/arguments-dump/test/science/science_arguments.pkl\n",
            "File uploaded to current-data-dump/arguments-dump/test/society/_terrorism_society_minorities_inequality_house_would_use_racial_profiling_part_arguments.pkl\n",
            "File uploaded to current-data-dump/arguments-dump/test/society/aw_society_family_house_would_allow_patenting_genes_arguments.pkl\n",
            "File uploaded to current-data-dump/arguments-dump/test/society/computers_phones_internet_society_youth_digital_freedoms_privacy_house_would_join_arguments.pkl\n",
            "File uploaded to current-data-dump/arguments-dump/test/society/economic_policy_international_africa_society_gender_house_believes_feminisation_arguments.pkl\n",
            "File uploaded to current-data-dump/arguments-dump/test/society/economic_policy_society_immigration_house_believes_developing_nations_should_arguments.pkl\n",
            "File uploaded to current-data-dump/arguments-dump/test/society/family_youth_house_believes_children_should_have_legal_obligations_towards_arguments.pkl\n",
            "File uploaded to current-data-dump/arguments-dump/test/society/gender_house_believes_gender_quotas_eu_are_advantageous_economies_member_states_arguments.pkl\n",
            "File uploaded to current-data-dump/arguments-dump/test/society/hy_philosophy_general_society_gender_family_house_believes_sperm_and_egg_donors_arguments.pkl\n",
            "File uploaded to current-data-dump/arguments-dump/test/society/law_crime_policing_punishment_youth_house_would_raise_age_criminal_responsibility_arguments.pkl\n",
            "File uploaded to current-data-dump/arguments-dump/test/society/media_modern_culture_pornography_society_gender_family_house_believes_feminist_arguments.pkl\n",
            "File uploaded to current-data-dump/arguments-dump/test/society/modern_culture_society_gender_family_house_would_support_international_adoption_arguments.pkl\n",
            "File uploaded to current-data-dump/arguments-dump/test/society/religion_religions_society_gender_house_would_ban_female_genital_mutilation_arguments.pkl\n",
            "File uploaded to current-data-dump/arguments-dump/test/society/science_inequality_house_believes_full_body_scanners_are_worthwhile_arguments.pkl\n",
            "File uploaded to current-data-dump/arguments-dump/test/society/society_immigration_minorities_house_believes_right_asylum_should_not_be_absolute_arguments.pkl\n",
            "File uploaded to current-data-dump/arguments-dump/test/society/traditions_law_human_rights_international_law_society_family_house_would_require_arguments.pkl\n",
            "File uploaded to current-data-dump/arguments-dump/test/society/society_arguments.pkl\n",
            "File uploaded to current-data-dump/arguments-dump/test/sport/ational_africa_sport_team_sports_house_supports_racial_quotas_south_african_rugby_arguments.pkl\n",
            "File uploaded to current-data-dump/arguments-dump/test/sport/ion_physical_education_primary_secondary_health_weight_sport_general_team_sports_arguments.pkl\n",
            "File uploaded to current-data-dump/arguments-dump/test/sport/olympics_team_sports_house_would_boycott_euro_2012_ukraine_unless_yulia_timoshenko_arguments.pkl\n",
            "File uploaded to current-data-dump/arguments-dump/test/sport/team_sports_house_believes_major_league_baseball_should_continue_allow_collisions_arguments.pkl\n",
            "File uploaded to current-data-dump/arguments-dump/test/sport/y_business_finance_government_sport_olympics_house_believes_hosting_olympics_good_arguments.pkl\n",
            "File uploaded to current-data-dump/arguments-dump/test/sport/sport_arguments.pkl\n",
            "File uploaded to current-data-dump/arguments-dump/test/culture/arts_human_rights_thbt_social_disgust_legitimate_grounds_restriction_artistic_arguments.pkl\n",
            "File uploaded to current-data-dump/arguments-dump/test/culture/arts_science_censorship_ip_digital_freedoms_access_knowledge_house_believes_all_arguments.pkl\n",
            "File uploaded to current-data-dump/arguments-dump/test/culture/culture_general_education_education_general_house_would_make_english_official_arguments.pkl\n",
            "File uploaded to current-data-dump/arguments-dump/test/culture/media_modern_culture_international_africa_house_believes_african_nations_should_arguments.pkl\n",
            "File uploaded to current-data-dump/arguments-dump/test/culture/media_modern_culture_television_gender_house_would_ban_sexist_advertising_arguments.pkl\n",
            "File uploaded to current-data-dump/arguments-dump/test/culture/media_modern_culture_television_youth_sport_house_would_ban_child_performers_arguments.pkl\n",
            "File uploaded to current-data-dump/arguments-dump/test/culture/media_television_house_believes_advertising_harmful_arguments.pkl\n",
            "File uploaded to current-data-dump/arguments-dump/test/culture/traditions_house_believes_compensation_should_be_paid_those_who_have_had_their_arguments.pkl\n",
            "File uploaded to current-data-dump/arguments-dump/test/culture/traditions_law_human_rights_international_law_society_family_house_would_require_arguments.pkl\n",
            "File uploaded to current-data-dump/arguments-dump/test/culture/culture_arguments.pkl\n",
            "File uploaded to current-data-dump/arguments-dump/test/digital-freedoms/access_information_house_believes_internet_access_human_right_arguments.pkl\n",
            "File uploaded to current-data-dump/arguments-dump/test/digital-freedoms/access_information_house_would_block_access_social_messaging_networks_arguments.pkl\n",
            "File uploaded to current-data-dump/arguments-dump/test/digital-freedoms/digital_freedoms_intellectual_property_house_believes_governments_should_arguments.pkl\n",
            "File uploaded to current-data-dump/arguments-dump/test/digital-freedoms/digital_freedoms_intellectual_property_house_would_ban_use_digital_arguments.pkl\n",
            "File uploaded to current-data-dump/arguments-dump/test/digital-freedoms/e_free_speech_and_privacy_politics_government_digital_freedoms_privacy_arguments.pkl\n",
            "File uploaded to current-data-dump/arguments-dump/test/digital-freedoms/e_internet_freedom_digital_freedoms_access_information_house_supports_arguments.pkl\n",
            "File uploaded to current-data-dump/arguments-dump/test/digital-freedoms/e_internet_freedom_politics_government_digital_freedoms_freedom_arguments.pkl\n",
            "File uploaded to current-data-dump/arguments-dump/test/digital-freedoms/p_ip_internet_digital_freedoms_access_information_house_believes_google_arguments.pkl\n",
            "File uploaded to current-data-dump/arguments-dump/test/digital-freedoms/p_ip_internet_digital_freedoms_intellectual_property_house_would_use_arguments.pkl\n",
            "File uploaded to current-data-dump/arguments-dump/test/digital-freedoms/privacy_house_would_not_allow_companies_collectsell_personal_data_their_arguments.pkl\n",
            "File uploaded to current-data-dump/arguments-dump/test/digital-freedoms/digital-freedoms_arguments.pkl\n",
            "File uploaded to current-data-dump/arguments-dump/test/global_arguments.pkl\n"
          ]
        }
      ]
    },
    {
      "cell_type": "markdown",
      "metadata": {
        "id": "nJwjtcPp46_F"
      },
      "source": [
        "## Export arguments dump to OSF"
      ]
    },
    {
      "cell_type": "code",
      "execution_count": null,
      "metadata": {
        "id": "zapmD8ch5ALz",
        "colab": {
          "base_uri": "https://localhost:8080/"
        },
        "outputId": "ddfa9cbb-1e5c-4fe3-95a8-12f0035a6092"
      },
      "outputs": [
        {
          "output_type": "stream",
          "name": "stdout",
          "text": [
            "Zip file created at: current-data-dump/arguments-dump\n",
            "\n",
            "File: current-data-dump/arguments-dump uploaded at osfstorage\n"
          ]
        }
      ],
      "source": [
        "arguments_dump_file_path = 'current-data-dump/arguments-dump'\n",
        "arguments_dump_file_path_zip = 'current-data-dump/arguments-dump'\n",
        "shutil.make_archive(arguments_dump_file_path_zip, 'zip', arguments_dump_file_path)\n",
        "print(f\"Zip file created at: {arguments_dump_file_path_zip}\")\n",
        "result = subprocess.run([f\"osf -p sakjg upload --force {arguments_dump_file_path_zip}.zip data-dump/arguments_dump.zip\"], shell=True, capture_output=True, text=True)\n",
        "print(result.stderr)\n",
        "print(f\"File: {arguments_dump_file_path_zip} uploaded at osfstorage\")"
      ]
    }
  ],
  "metadata": {
    "accelerator": "GPU",
    "colab": {
      "collapsed_sections": [
        "4xAJawkJD7dF",
        "1ZL8xzRMyOGE",
        "WfzpPzI6u1jX",
        "8epW9LLku1jY",
        "1QXeQQm0wwub"
      ],
      "gpuType": "T4",
      "provenance": [],
      "authorship_tag": "ABX9TyP/ktWlhAgtNx839mQoR2es",
      "include_colab_link": true
    },
    "kernelspec": {
      "display_name": "Python 3",
      "name": "python3"
    },
    "language_info": {
      "name": "python"
    }
  },
  "nbformat": 4,
  "nbformat_minor": 0
}