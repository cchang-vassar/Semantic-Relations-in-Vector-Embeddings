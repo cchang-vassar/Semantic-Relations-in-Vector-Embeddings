{
 "cells": [
  {
   "cell_type": "markdown",
   "id": "c8ec119b-3682-48e1-80a4-d50af48ee755",
   "metadata": {},
   "source": [
    "# Study 3: Choose Corresponding Embedding"
   ]
  },
  {
   "cell_type": "markdown",
   "id": "c9d6be4b-ee66-48b6-b449-cfe1abf83dff",
   "metadata": {},
   "source": [
    "Given an embedding, can a model be trained to choose the correct embeddings corresponding to its counterargument from a list of them?"
   ]
  },
  {
   "cell_type": "markdown",
   "id": "6ba88332-1f9d-4469-a741-58422c9bfca3",
   "metadata": {},
   "source": [
    "### OpenAI Setup"
   ]
  },
  {
   "cell_type": "code",
   "execution_count": 17,
   "id": "9c3f1f90-c585-4bef-8b1f-af7e3a348efe",
   "metadata": {},
   "outputs": [],
   "source": [
    "import openai\n",
    "from openai import OpenAI"
   ]
  },
  {
   "cell_type": "code",
   "execution_count": 18,
   "id": "d1f9820e-7a7b-4f33-bdf1-c64380b43838",
   "metadata": {},
   "outputs": [],
   "source": [
    "client = OpenAI()"
   ]
  },
  {
   "cell_type": "markdown",
   "id": "486d5bc2-769e-4ca7-9df2-b7d403c9c848",
   "metadata": {},
   "source": [
    "### Imports"
   ]
  },
  {
   "cell_type": "code",
   "execution_count": 6,
   "id": "9f2fc725-6c09-4c46-a5b6-5d29619c369d",
   "metadata": {},
   "outputs": [],
   "source": [
    "import tensorflow as tf\n",
    "import pandas as pd\n",
    "import numpy as np\n",
    "from scipy import spatial\n",
    "import time\n",
    "from tenacity import (\n",
    "    retry,\n",
    "    stop_after_attempt,\n",
    "    wait_random_exponential\n",
    ")\n",
    "import statistics"
   ]
  },
  {
   "cell_type": "code",
   "execution_count": 7,
   "id": "9897442d-48f4-4de1-aa91-6133feb8cc32",
   "metadata": {},
   "outputs": [],
   "source": [
    "from tensorflow.keras.models import load_model"
   ]
  },
  {
   "cell_type": "markdown",
   "id": "7b524d15-960d-45d1-8c7c-3323d321cb12",
   "metadata": {},
   "source": [
    "## Model Custom Metric"
   ]
  },
  {
   "cell_type": "code",
   "execution_count": 10,
   "id": "e53be282-1ddf-4bbe-af7a-412b8c685066",
   "metadata": {},
   "outputs": [],
   "source": [
    "\"\"\"\n",
    "global_metric\n",
    "\"\"\"\n",
    "@tf.keras.saving.register_keras_serializable()\n",
    "def metric_choose_argument_global_y_train(y_true, y_pred):\n",
    "    global_training_df_32 = tf.cast(global_training_df, dtype=tf.float32)\n",
    "    \n",
    "    cos_sim_pred = tf.matmul(global_training_df_32, y_pred, transpose_b=True) / tf.reshape(tf.norm(y_pred) * tf.norm(global_training_df_32, axis=1), [-1, 1])\n",
    "    cos_sim_true = tf.matmul(global_training_df_32, y_true, transpose_b=True) / tf.reshape(tf.norm(y_true) * tf.norm(global_training_df_32, axis=1), [-1, 1])\n",
    "\n",
    "    max_cos_sim_pred = tf.math.argmax(cos_sim_pred)\n",
    "    max_cos_sim_true = tf.math.argmax(cos_sim_true)\n",
    "\n",
    "    return tf.math.count_nonzero(tf.equal(max_cos_sim_pred, max_cos_sim_true))"
   ]
  },
  {
   "cell_type": "markdown",
   "id": "d77496b2-c993-4be3-b1bb-eca04e33cf3c",
   "metadata": {},
   "source": [
    "## Data"
   ]
  },
  {
   "cell_type": "markdown",
   "id": "b7848602-f4e3-4d65-8833-d33c230a953f",
   "metadata": {},
   "source": [
    "#### GPR 55"
   ]
  },
  {
   "cell_type": "code",
   "execution_count": 14,
   "id": "6f69ad0b-d78e-4ddd-8117-ce316aed90a9",
   "metadata": {},
   "outputs": [],
   "source": [
    "gpr_df = pd.read_csv(\"../corpora/no_wavs/GPR-KB-55/GPR-KB-55.csv\")"
   ]
  },
  {
   "cell_type": "code",
   "execution_count": 15,
   "id": "ab2a4a33-9bcd-4900-8fb7-760c9bc50cfe",
   "metadata": {},
   "outputs": [],
   "source": [
    "DIM_EMBEDDING = 1536\n",
    "\n",
    "def gpr_get_embeddings_df(gpr_df: pd.DataFrame) -> pd.DataFrame:\n",
    "    \"\"\" Add embeddings column to a df\n",
    "    \"\"\"\n",
    "    gpr_embeddings_df = pd.DataFrame()\n",
    "    arguments_list = list(gpr_df)\n",
    "\n",
    "    claims_embeddings = client.embeddings.create(input=arguments_list, model=\"text-embedding-ada-002\")\n",
    "    claims_embeddings_data = [embedding_data.embedding for embedding_data in claims_embeddings.data]\n",
    "    claims_embeddings_df = pd.DataFrame(claims_embeddings_data, columns=[f\"{str(i)}\" for i in range(DIM_EMBEDDING)])\n",
    "    claims_embeddings_df = claims_embeddings_df.reset_index(drop=True)\n",
    "\n",
    "    claims_embeddings_df = pd.concat([gpr_df, claims_embeddings_df], axis=1)\n",
    "    return claims_embeddings_df"
   ]
  },
  {
   "cell_type": "code",
   "execution_count": 19,
   "id": "199a733b-f251-496e-9b2b-73222c703857",
   "metadata": {},
   "outputs": [],
   "source": [
    "gpr_claims_df = gpr_get_embeddings_df(gpr_df['claim'])\n",
    "gpr_rebuttals_df = gpr_get_embeddings_df(gpr_df['rebuttal'])\n",
    "\n",
    "gpr_combined = pd.concat([gpr_claims_df, gpr_rebuttals_df])\n",
    "gpr_combined = gpr_combined.reset_index(drop=True)\n",
    "\n",
    "gpr_combined_nums = gpr_combined.select_dtypes(include=[np.number])\n",
    "\n",
    "gpr_x_train = gpr_claims_df.select_dtypes(include=[np.number])\n",
    "gpr_x_train = gpr_x_train.loc[:len(gpr_x_train) * 0.8-1]\n",
    "gpr_y_train = gpr_rebuttals_df.select_dtypes(include=[np.number])\n",
    "gpr_y_train = gpr_y_train.loc[:len(gpr_y_train) * 0.8-1]\n",
    "\n",
    "gpr_x_test = gpr_claims_df.select_dtypes(include=[np.number])\n",
    "gpr_x_test = gpr_x_test.loc[len(gpr_x_test) * 0.8:]\n",
    "gpr_x_test = gpr_x_test.reset_index(drop=True)\n",
    "gpr_y_test = gpr_rebuttals_df.select_dtypes(include=[np.number])\n",
    "gpr_y_test = gpr_y_test.loc[len(gpr_y_test) * 0.8:]\n",
    "gpr_y_test = gpr_y_test.reset_index(drop=True)"
   ]
  },
  {
   "cell_type": "code",
   "execution_count": 20,
   "id": "d0682cdf-9b24-4f96-9bce-0dfb06cd0cec",
   "metadata": {},
   "outputs": [],
   "source": [
    "def metric_choose_argument_gpr(y_true, y_pred):\n",
    "    \"\"\" See if the output vector is closest to the rebuttal to the claim\"\"\"\n",
    "    gpr_training_df_32 = tf.cast(gpr_combined_nums, dtype=tf.float32)\n",
    "    \n",
    "    cos_sim_pred = tf.matmul(gpr_training_df_32, y_pred, transpose_b=True) / tf.reshape(tf.norm(y_pred) * tf.norm(gpr_training_df_32, axis=1), [-1, 1])\n",
    "    cos_sim_true = tf.matmul(gpr_training_df_32, y_true, transpose_b=True) / tf.reshape(tf.norm(y_true) * tf.norm(gpr_training_df_32, axis=1), [-1, 1])\n",
    "\n",
    "    max_cos_sim_pred = tf.math.argmax(cos_sim_pred)\n",
    "    max_cos_sim_true = tf.math.argmax(cos_sim_true)\n",
    "\n",
    "    return tf.math.count_nonzero(tf.equal(max_cos_sim_pred, max_cos_sim_true))"
   ]
  },
  {
   "cell_type": "markdown",
   "id": "f4fce8f5-b7ad-4898-88e2-205c885875d8",
   "metadata": {},
   "source": [
    "#### IBM EACL"
   ]
  },
  {
   "cell_type": "code",
   "execution_count": 22,
   "id": "43b0767d-3428-49db-bce1-5f26dccda2e6",
   "metadata": {
    "scrolled": true
   },
   "outputs": [],
   "source": [
    "eacl_df = pd.read_csv(\"../corpora/IBM_EACL/claim_stance_dataset.csv\")\n",
    "eacl_df = eacl_df[['topicId', 'topicText', 'claims.stance', 'claims.claimCorrectedText']]"
   ]
  },
  {
   "cell_type": "code",
   "execution_count": 23,
   "id": "5bd479fd-e5db-4348-b4ae-8cf77b7cc345",
   "metadata": {},
   "outputs": [],
   "source": [
    "topic_lens = []\n",
    "pro_lens = []\n",
    "con_lens = []\n",
    "for topic in eacl_df['topicId'].unique():\n",
    "    topic_rows = eacl_df[eacl_df['topicId'] == topic]\n",
    "    topic_lens.append(len(topic_rows))\n",
    "    pro_lens.append(len(topic_rows[topic_rows['claims.stance'] == \"PRO\"]))\n",
    "    con_lens.append(len(topic_rows[topic_rows['claims.stance'] == \"CON\"]))"
   ]
  },
  {
   "cell_type": "code",
   "execution_count": 35,
   "id": "c8c20b12-93b4-497a-89aa-375667ee8bdd",
   "metadata": {},
   "outputs": [],
   "source": [
    "DIM_EMBEDDING = 1536\n",
    "\n",
    "@retry(wait=wait_random_exponential(min=60, max=500), stop=stop_after_attempt(10))\n",
    "def eacl_get_embeddings(arguments: []) -> []:\n",
    "    \"\"\" Convert an argument into a (1 x 1536) embedding df\n",
    "    \"\"\"\n",
    "    embeddings = client.embeddings.create(input=arguments, model=\"text-embedding-ada-002\")\n",
    "    embeddings_data = [embedding_data.embedding for embedding_data in embeddings.data]\n",
    "    embeddings_df = pd.DataFrame(embeddings_data, columns=[f\"{str(i)}\" for i in range(DIM_EMBEDDING)])\n",
    "    return embeddings_df.reset_index(drop=True)"
   ]
  },
  {
   "cell_type": "code",
   "execution_count": 25,
   "id": "4c0a1583-f638-43f0-8f60-1c2f5d1879e9",
   "metadata": {},
   "outputs": [],
   "source": [
    "API_LIMIT = 1000\n",
    "\n",
    "def eacl_get_embeddings_df(eacl_df: pd.DataFrame) -> pd.DataFrame:\n",
    "    \"\"\" Add embeddings column to a df\n",
    "    \"\"\"\n",
    "    embeddings_df = pd.DataFrame()\n",
    "    arguments_list = list(eacl_df['claims.claimCorrectedText'])\n",
    "    total_len = len(arguments_list)\n",
    "    i = 0\n",
    "\n",
    "    # Grab embeddings from arguments column in chunks\n",
    "    while i < total_len:\n",
    "        embeddings = eacl_get_embeddings(arguments_list[i:min(total_len, i+API_LIMIT)])\n",
    "        embeddings_df = pd.concat([embeddings_df, embeddings], axis=0, ignore_index=True)\n",
    "        i = i + API_LIMIT\n",
    "    arguments_embeddings_df = pd.concat([eacl_df, embeddings_df], axis=1)\n",
    "    return arguments_embeddings_df"
   ]
  },
  {
   "cell_type": "code",
   "execution_count": 26,
   "id": "b87e8091-e303-4388-a899-fe6a4cdaa3bc",
   "metadata": {
    "scrolled": true
   },
   "outputs": [],
   "source": [
    "eacl_embeddings_df = eacl_get_embeddings_df(eacl_df)"
   ]
  },
  {
   "cell_type": "code",
   "execution_count": 27,
   "id": "bbab4309-efd9-4f13-a756-154d2e229ed5",
   "metadata": {
    "scrolled": true
   },
   "outputs": [],
   "source": [
    "eacl_nums_df = eacl_embeddings_df.select_dtypes(include=[np.number])\n",
    "eacl_vectors_df = eacl_nums_df.drop('topicId', axis=1)"
   ]
  },
  {
   "cell_type": "markdown",
   "id": "2e3a4568-5a9c-4652-a321-d89618146273",
   "metadata": {},
   "source": [
    "## Load model"
   ]
  },
  {
   "cell_type": "code",
   "execution_count": 28,
   "id": "3c40f5f9-aeea-4e29-89d5-5b3f9a949638",
   "metadata": {},
   "outputs": [],
   "source": [
    "global_autoencoder_model = tf.keras.models.load_model('global_autoencoder_model.keras')"
   ]
  },
  {
   "cell_type": "markdown",
   "id": "7a844caf-39c0-46ab-8611-cf22c919a932",
   "metadata": {},
   "source": [
    "## GPR predict "
   ]
  },
  {
   "cell_type": "code",
   "execution_count": 29,
   "id": "6557b3bb-29ad-4e6d-8a09-629d65c6b9dd",
   "metadata": {},
   "outputs": [
    {
     "name": "stdout",
     "output_type": "stream",
     "text": [
      "2/2 [==============================] - 0s 5ms/step\n"
     ]
    }
   ],
   "source": [
    "global_autoencoder_gpr_predictions = global_autoencoder_model.predict(gpr_x_train)\n",
    "global_autoencoder_gpr_predictions_df = pd.DataFrame(global_autoencoder_gpr_predictions)\n",
    "global_autoencoder_gpr_predictions_df.columns = [str(i) for i in global_autoencoder_gpr_predictions_df.columns]"
   ]
  },
  {
   "cell_type": "code",
   "execution_count": 30,
   "id": "482d775e-4e43-4632-b665-d64e5c9baf7b",
   "metadata": {},
   "outputs": [],
   "source": [
    "successes = 0\n",
    "for i in range(len(gpr_y_train)):\n",
    "    gpr_y_train_tf = tf.convert_to_tensor(gpr_y_train.loc[i], dtype=tf.float32)\n",
    "    gpr_pred_tf = tf.convert_to_tensor(global_autoencoder_gpr_predictions_df.loc[i], dtype=tf.float32)\n",
    "    gpr_y_train_tf = tf.reshape(gpr_y_train_tf, (1, -1))\n",
    "    gpr_pred_tf = tf.reshape(gpr_pred_tf, (1, -1))\n",
    "    if metric_choose_argument_gpr(gpr_y_train_tf, gpr_pred_tf).numpy() == 1:\n",
    "        successes += 1"
   ]
  },
  {
   "cell_type": "code",
   "execution_count": 31,
   "id": "7a14c5b4-3954-4536-a2ea-d6f538690a33",
   "metadata": {},
   "outputs": [
    {
     "data": {
      "text/plain": [
       "7"
      ]
     },
     "execution_count": 31,
     "metadata": {},
     "output_type": "execute_result"
    }
   ],
   "source": [
    "successes"
   ]
  },
  {
   "cell_type": "markdown",
   "id": "964b043e-166b-4cdb-8c90-6a7c3e9de543",
   "metadata": {},
   "source": [
    "## EACL Predict"
   ]
  },
  {
   "cell_type": "code",
   "execution_count": 32,
   "id": "cde0c9db-8665-4745-b223-b1a128a13992",
   "metadata": {
    "scrolled": true
   },
   "outputs": [
    {
     "name": "stdout",
     "output_type": "stream",
     "text": [
      "75/75 [==============================] - 0s 4ms/step\n"
     ]
    },
    {
     "data": {
      "text/html": [
       "<div>\n",
       "<style scoped>\n",
       "    .dataframe tbody tr th:only-of-type {\n",
       "        vertical-align: middle;\n",
       "    }\n",
       "\n",
       "    .dataframe tbody tr th {\n",
       "        vertical-align: top;\n",
       "    }\n",
       "\n",
       "    .dataframe thead th {\n",
       "        text-align: right;\n",
       "    }\n",
       "</style>\n",
       "<table border=\"1\" class=\"dataframe\">\n",
       "  <thead>\n",
       "    <tr style=\"text-align: right;\">\n",
       "      <th></th>\n",
       "      <th>0</th>\n",
       "      <th>1</th>\n",
       "      <th>2</th>\n",
       "      <th>3</th>\n",
       "      <th>4</th>\n",
       "      <th>5</th>\n",
       "      <th>6</th>\n",
       "      <th>7</th>\n",
       "      <th>8</th>\n",
       "      <th>9</th>\n",
       "      <th>...</th>\n",
       "      <th>1526</th>\n",
       "      <th>1527</th>\n",
       "      <th>1528</th>\n",
       "      <th>1529</th>\n",
       "      <th>1530</th>\n",
       "      <th>1531</th>\n",
       "      <th>1532</th>\n",
       "      <th>1533</th>\n",
       "      <th>1534</th>\n",
       "      <th>1535</th>\n",
       "    </tr>\n",
       "  </thead>\n",
       "  <tbody>\n",
       "    <tr>\n",
       "      <th>0</th>\n",
       "      <td>-0.234743</td>\n",
       "      <td>-0.806062</td>\n",
       "      <td>1.213010</td>\n",
       "      <td>-2.386355</td>\n",
       "      <td>-1.642136</td>\n",
       "      <td>0.362799</td>\n",
       "      <td>-0.828601</td>\n",
       "      <td>-0.817532</td>\n",
       "      <td>-0.548924</td>\n",
       "      <td>-1.505051</td>\n",
       "      <td>...</td>\n",
       "      <td>0.347490</td>\n",
       "      <td>0.234846</td>\n",
       "      <td>0.677391</td>\n",
       "      <td>-0.980352</td>\n",
       "      <td>-1.095090</td>\n",
       "      <td>-0.218731</td>\n",
       "      <td>0.321748</td>\n",
       "      <td>-1.225204</td>\n",
       "      <td>-0.444810</td>\n",
       "      <td>-0.301135</td>\n",
       "    </tr>\n",
       "    <tr>\n",
       "      <th>1</th>\n",
       "      <td>-0.566521</td>\n",
       "      <td>-0.412140</td>\n",
       "      <td>1.173303</td>\n",
       "      <td>-1.985332</td>\n",
       "      <td>-1.037457</td>\n",
       "      <td>0.217972</td>\n",
       "      <td>-0.845443</td>\n",
       "      <td>-0.822015</td>\n",
       "      <td>-1.104964</td>\n",
       "      <td>-1.020254</td>\n",
       "      <td>...</td>\n",
       "      <td>0.936049</td>\n",
       "      <td>0.825018</td>\n",
       "      <td>1.478796</td>\n",
       "      <td>-1.417859</td>\n",
       "      <td>-1.287977</td>\n",
       "      <td>0.166920</td>\n",
       "      <td>0.976596</td>\n",
       "      <td>-1.626607</td>\n",
       "      <td>-0.360272</td>\n",
       "      <td>-0.723820</td>\n",
       "    </tr>\n",
       "    <tr>\n",
       "      <th>2</th>\n",
       "      <td>-0.865971</td>\n",
       "      <td>-1.088447</td>\n",
       "      <td>0.989519</td>\n",
       "      <td>-1.992059</td>\n",
       "      <td>-1.632770</td>\n",
       "      <td>0.426220</td>\n",
       "      <td>-1.423446</td>\n",
       "      <td>-0.268294</td>\n",
       "      <td>-1.429835</td>\n",
       "      <td>-1.564326</td>\n",
       "      <td>...</td>\n",
       "      <td>0.861392</td>\n",
       "      <td>0.704746</td>\n",
       "      <td>0.821876</td>\n",
       "      <td>-1.866559</td>\n",
       "      <td>-1.610096</td>\n",
       "      <td>0.453612</td>\n",
       "      <td>-0.044070</td>\n",
       "      <td>-1.098462</td>\n",
       "      <td>-0.431195</td>\n",
       "      <td>-0.432478</td>\n",
       "    </tr>\n",
       "    <tr>\n",
       "      <th>3</th>\n",
       "      <td>-0.285841</td>\n",
       "      <td>-1.078161</td>\n",
       "      <td>1.550538</td>\n",
       "      <td>-2.921949</td>\n",
       "      <td>-2.363046</td>\n",
       "      <td>0.864056</td>\n",
       "      <td>-0.988842</td>\n",
       "      <td>-1.087094</td>\n",
       "      <td>-1.144951</td>\n",
       "      <td>-1.663319</td>\n",
       "      <td>...</td>\n",
       "      <td>0.581102</td>\n",
       "      <td>0.115377</td>\n",
       "      <td>0.999071</td>\n",
       "      <td>-1.209213</td>\n",
       "      <td>-0.905579</td>\n",
       "      <td>-0.047955</td>\n",
       "      <td>-0.216754</td>\n",
       "      <td>-1.494212</td>\n",
       "      <td>-0.693178</td>\n",
       "      <td>-0.366461</td>\n",
       "    </tr>\n",
       "    <tr>\n",
       "      <th>4</th>\n",
       "      <td>-0.363462</td>\n",
       "      <td>-0.879038</td>\n",
       "      <td>1.130493</td>\n",
       "      <td>-1.861199</td>\n",
       "      <td>-1.281303</td>\n",
       "      <td>0.497673</td>\n",
       "      <td>-1.356970</td>\n",
       "      <td>-1.102218</td>\n",
       "      <td>-0.496216</td>\n",
       "      <td>-1.627935</td>\n",
       "      <td>...</td>\n",
       "      <td>1.538122</td>\n",
       "      <td>0.588024</td>\n",
       "      <td>0.520973</td>\n",
       "      <td>-1.545406</td>\n",
       "      <td>-1.705850</td>\n",
       "      <td>0.040309</td>\n",
       "      <td>0.532974</td>\n",
       "      <td>-1.503863</td>\n",
       "      <td>-0.458906</td>\n",
       "      <td>-0.311404</td>\n",
       "    </tr>\n",
       "    <tr>\n",
       "      <th>...</th>\n",
       "      <td>...</td>\n",
       "      <td>...</td>\n",
       "      <td>...</td>\n",
       "      <td>...</td>\n",
       "      <td>...</td>\n",
       "      <td>...</td>\n",
       "      <td>...</td>\n",
       "      <td>...</td>\n",
       "      <td>...</td>\n",
       "      <td>...</td>\n",
       "      <td>...</td>\n",
       "      <td>...</td>\n",
       "      <td>...</td>\n",
       "      <td>...</td>\n",
       "      <td>...</td>\n",
       "      <td>...</td>\n",
       "      <td>...</td>\n",
       "      <td>...</td>\n",
       "      <td>...</td>\n",
       "      <td>...</td>\n",
       "      <td>...</td>\n",
       "    </tr>\n",
       "    <tr>\n",
       "      <th>2389</th>\n",
       "      <td>-0.048363</td>\n",
       "      <td>-0.139224</td>\n",
       "      <td>-0.450628</td>\n",
       "      <td>-1.276113</td>\n",
       "      <td>-0.707823</td>\n",
       "      <td>0.442836</td>\n",
       "      <td>-1.184884</td>\n",
       "      <td>-0.092617</td>\n",
       "      <td>-0.639359</td>\n",
       "      <td>-0.362929</td>\n",
       "      <td>...</td>\n",
       "      <td>0.435736</td>\n",
       "      <td>0.404843</td>\n",
       "      <td>1.110425</td>\n",
       "      <td>-0.812194</td>\n",
       "      <td>-1.444957</td>\n",
       "      <td>-0.316082</td>\n",
       "      <td>0.695999</td>\n",
       "      <td>-0.296916</td>\n",
       "      <td>0.215947</td>\n",
       "      <td>-0.074273</td>\n",
       "    </tr>\n",
       "    <tr>\n",
       "      <th>2390</th>\n",
       "      <td>-0.642618</td>\n",
       "      <td>-0.262142</td>\n",
       "      <td>-0.505492</td>\n",
       "      <td>-0.697717</td>\n",
       "      <td>-0.850350</td>\n",
       "      <td>0.426705</td>\n",
       "      <td>-0.750801</td>\n",
       "      <td>-0.009065</td>\n",
       "      <td>-0.653379</td>\n",
       "      <td>-0.695532</td>\n",
       "      <td>...</td>\n",
       "      <td>0.734561</td>\n",
       "      <td>-0.035876</td>\n",
       "      <td>0.560293</td>\n",
       "      <td>-1.112106</td>\n",
       "      <td>-1.784598</td>\n",
       "      <td>-0.284791</td>\n",
       "      <td>0.924373</td>\n",
       "      <td>-0.093671</td>\n",
       "      <td>-1.009828</td>\n",
       "      <td>-0.634742</td>\n",
       "    </tr>\n",
       "    <tr>\n",
       "      <th>2391</th>\n",
       "      <td>-0.267613</td>\n",
       "      <td>-0.203720</td>\n",
       "      <td>-0.782190</td>\n",
       "      <td>-1.636763</td>\n",
       "      <td>-0.828422</td>\n",
       "      <td>0.758681</td>\n",
       "      <td>-1.056346</td>\n",
       "      <td>-0.402965</td>\n",
       "      <td>-0.671958</td>\n",
       "      <td>-0.634652</td>\n",
       "      <td>...</td>\n",
       "      <td>0.080082</td>\n",
       "      <td>0.707256</td>\n",
       "      <td>0.503449</td>\n",
       "      <td>-1.156869</td>\n",
       "      <td>-1.185972</td>\n",
       "      <td>0.111946</td>\n",
       "      <td>-0.485445</td>\n",
       "      <td>-0.126558</td>\n",
       "      <td>-0.210100</td>\n",
       "      <td>0.093084</td>\n",
       "    </tr>\n",
       "    <tr>\n",
       "      <th>2392</th>\n",
       "      <td>-0.282742</td>\n",
       "      <td>-0.320851</td>\n",
       "      <td>-0.960387</td>\n",
       "      <td>-1.226236</td>\n",
       "      <td>-1.301866</td>\n",
       "      <td>0.649752</td>\n",
       "      <td>-0.760150</td>\n",
       "      <td>-0.355770</td>\n",
       "      <td>-0.319835</td>\n",
       "      <td>-0.526426</td>\n",
       "      <td>...</td>\n",
       "      <td>0.849300</td>\n",
       "      <td>0.356356</td>\n",
       "      <td>0.046205</td>\n",
       "      <td>-1.044858</td>\n",
       "      <td>-1.629824</td>\n",
       "      <td>-0.510141</td>\n",
       "      <td>0.605330</td>\n",
       "      <td>-0.475057</td>\n",
       "      <td>-0.338870</td>\n",
       "      <td>-0.175601</td>\n",
       "    </tr>\n",
       "    <tr>\n",
       "      <th>2393</th>\n",
       "      <td>-0.312937</td>\n",
       "      <td>-0.375034</td>\n",
       "      <td>-0.960324</td>\n",
       "      <td>-0.810706</td>\n",
       "      <td>-1.232453</td>\n",
       "      <td>0.476367</td>\n",
       "      <td>-1.308749</td>\n",
       "      <td>-1.019481</td>\n",
       "      <td>-0.258161</td>\n",
       "      <td>0.052834</td>\n",
       "      <td>...</td>\n",
       "      <td>0.964009</td>\n",
       "      <td>0.363117</td>\n",
       "      <td>0.794417</td>\n",
       "      <td>-1.146862</td>\n",
       "      <td>-2.334224</td>\n",
       "      <td>-0.588466</td>\n",
       "      <td>1.314202</td>\n",
       "      <td>-0.206352</td>\n",
       "      <td>-0.461171</td>\n",
       "      <td>-0.539682</td>\n",
       "    </tr>\n",
       "  </tbody>\n",
       "</table>\n",
       "<p>2394 rows × 1536 columns</p>\n",
       "</div>"
      ],
      "text/plain": [
       "             0         1         2         3         4         5         6  \\\n",
       "0    -0.234743 -0.806062  1.213010 -2.386355 -1.642136  0.362799 -0.828601   \n",
       "1    -0.566521 -0.412140  1.173303 -1.985332 -1.037457  0.217972 -0.845443   \n",
       "2    -0.865971 -1.088447  0.989519 -1.992059 -1.632770  0.426220 -1.423446   \n",
       "3    -0.285841 -1.078161  1.550538 -2.921949 -2.363046  0.864056 -0.988842   \n",
       "4    -0.363462 -0.879038  1.130493 -1.861199 -1.281303  0.497673 -1.356970   \n",
       "...        ...       ...       ...       ...       ...       ...       ...   \n",
       "2389 -0.048363 -0.139224 -0.450628 -1.276113 -0.707823  0.442836 -1.184884   \n",
       "2390 -0.642618 -0.262142 -0.505492 -0.697717 -0.850350  0.426705 -0.750801   \n",
       "2391 -0.267613 -0.203720 -0.782190 -1.636763 -0.828422  0.758681 -1.056346   \n",
       "2392 -0.282742 -0.320851 -0.960387 -1.226236 -1.301866  0.649752 -0.760150   \n",
       "2393 -0.312937 -0.375034 -0.960324 -0.810706 -1.232453  0.476367 -1.308749   \n",
       "\n",
       "             7         8         9  ...      1526      1527      1528  \\\n",
       "0    -0.817532 -0.548924 -1.505051  ...  0.347490  0.234846  0.677391   \n",
       "1    -0.822015 -1.104964 -1.020254  ...  0.936049  0.825018  1.478796   \n",
       "2    -0.268294 -1.429835 -1.564326  ...  0.861392  0.704746  0.821876   \n",
       "3    -1.087094 -1.144951 -1.663319  ...  0.581102  0.115377  0.999071   \n",
       "4    -1.102218 -0.496216 -1.627935  ...  1.538122  0.588024  0.520973   \n",
       "...        ...       ...       ...  ...       ...       ...       ...   \n",
       "2389 -0.092617 -0.639359 -0.362929  ...  0.435736  0.404843  1.110425   \n",
       "2390 -0.009065 -0.653379 -0.695532  ...  0.734561 -0.035876  0.560293   \n",
       "2391 -0.402965 -0.671958 -0.634652  ...  0.080082  0.707256  0.503449   \n",
       "2392 -0.355770 -0.319835 -0.526426  ...  0.849300  0.356356  0.046205   \n",
       "2393 -1.019481 -0.258161  0.052834  ...  0.964009  0.363117  0.794417   \n",
       "\n",
       "          1529      1530      1531      1532      1533      1534      1535  \n",
       "0    -0.980352 -1.095090 -0.218731  0.321748 -1.225204 -0.444810 -0.301135  \n",
       "1    -1.417859 -1.287977  0.166920  0.976596 -1.626607 -0.360272 -0.723820  \n",
       "2    -1.866559 -1.610096  0.453612 -0.044070 -1.098462 -0.431195 -0.432478  \n",
       "3    -1.209213 -0.905579 -0.047955 -0.216754 -1.494212 -0.693178 -0.366461  \n",
       "4    -1.545406 -1.705850  0.040309  0.532974 -1.503863 -0.458906 -0.311404  \n",
       "...        ...       ...       ...       ...       ...       ...       ...  \n",
       "2389 -0.812194 -1.444957 -0.316082  0.695999 -0.296916  0.215947 -0.074273  \n",
       "2390 -1.112106 -1.784598 -0.284791  0.924373 -0.093671 -1.009828 -0.634742  \n",
       "2391 -1.156869 -1.185972  0.111946 -0.485445 -0.126558 -0.210100  0.093084  \n",
       "2392 -1.044858 -1.629824 -0.510141  0.605330 -0.475057 -0.338870 -0.175601  \n",
       "2393 -1.146862 -2.334224 -0.588466  1.314202 -0.206352 -0.461171 -0.539682  \n",
       "\n",
       "[2394 rows x 1536 columns]"
      ]
     },
     "execution_count": 32,
     "metadata": {},
     "output_type": "execute_result"
    }
   ],
   "source": [
    "global_autoencoder_eacl_predictions = global_autoencoder_model.predict(eacl_vectors_df)\n",
    "global_autoencoder_eacl_predictions_df = pd.DataFrame(global_autoencoder_eacl_predictions)\n",
    "global_autoencoder_eacl_predictions_df.columns = [str(i) for i in global_autoencoder_eacl_predictions_df.columns]\n",
    "global_autoencoder_eacl_predictions_df"
   ]
  },
  {
   "cell_type": "code",
   "execution_count": 33,
   "id": "bcb7fcdb-9a15-4069-a00a-684d853437de",
   "metadata": {},
   "outputs": [],
   "source": [
    "eacl_embeddings_df_32 = tf.cast(eacl_vectors_df, dtype=tf.float32)\n",
    "pred_topk = []\n",
    "\n",
    "for i, row in global_autoencoder_eacl_predictions_df.iterrows():\n",
    "    successes = 0\n",
    "    y_pred = tf.reshape(row.values, [1, -1])\n",
    "    target_topic = eacl_embeddings_df.loc[i]['topicId']\n",
    "    target_type = 'PRO' if eacl_embeddings_df.loc[i]['claims.stance'] == 'CON' else 'CON'\n",
    "\n",
    "    cos_sim_pred = tf.matmul(eacl_embeddings_df_32, y_pred, transpose_b=True) / tf.reshape(tf.norm(y_pred) * tf.norm(eacl_embeddings_df_32, axis=1), [-1, 1])\n",
    "    top_k_sim_pred = tf.math.top_k(tf.reshape(cos_sim_pred, [-1]), k=200).indices\n",
    "    top_k_sim_pred = top_k_sim_pred.numpy()\n",
    "    \n",
    "    for index in top_k_sim_pred:\n",
    "        match_row = eacl_embeddings_df.loc[index]\n",
    "        if match_row['topicId'] == target_topic and match_row['claims.stance'] == target_type:\n",
    "            successes += 1 \n",
    "    pred_topk.append(successes/200 * 100)"
   ]
  },
  {
   "cell_type": "code",
   "execution_count": 34,
   "id": "3d27c121-eb83-4c4c-b60e-417b52da304f",
   "metadata": {},
   "outputs": [
    {
     "data": {
      "text/plain": [
       "12.064118629908103"
      ]
     },
     "execution_count": 34,
     "metadata": {},
     "output_type": "execute_result"
    }
   ],
   "source": [
    "statistics.mean(pred_topk)"
   ]
  },
  {
   "cell_type": "markdown",
   "id": "a5849b1b-5706-4a65-8dc7-ae2a323151fa",
   "metadata": {},
   "source": [
    "## Predict"
   ]
  },
  {
   "cell_type": "markdown",
   "id": "b3dd87fa-1c84-4df1-98be-4825b95dfdef",
   "metadata": {},
   "source": [
    "#### Global Predict"
   ]
  },
  {
   "cell_type": "code",
   "execution_count": 267,
   "id": "059ef9c8-8baa-456e-a4d9-f2561bdb5257",
   "metadata": {
    "scrolled": true
   },
   "outputs": [
    {
     "name": "stdout",
     "output_type": "stream",
     "text": [
      "26/26 [==============================] - 0s 6ms/step\n"
     ]
    }
   ],
   "source": [
    "# Global model predictions\n",
    "global_autoencoder_predictions = global_autoencoder_model.predict(global_x_test)\n",
    "global_autoencoder_predictions_df = pd.DataFrame(global_autoencoder_predictions)\n",
    "global_autoencoder_predictions_df.columns = [str(i) for i in global_autoencoder_predictions_df.columns]\n",
    "output_folder = f'../data_dump/autoencoder_predictions_dump/global/'\n",
    "output_file_path = f'{output_folder}global_predictions.pkl'\n",
    "if not os.path.exists(output_folder):\n",
    "    os.makedirs(output_folder)\n",
    "global_autoencoder_predictions_df.to_pickle(output_file_path)"
   ]
  },
  {
   "cell_type": "code",
   "execution_count": 282,
   "id": "97169d51-8c78-4ec5-8616-fc62f66083e2",
   "metadata": {},
   "outputs": [],
   "source": [
    "successes = 0\n",
    "for i, y_pred in global_autoencoder_predictions_df.iterrows():\n",
    "    global_y_test_tf = tf.reshape(global_y_test.loc[i], [1, 1536])\n",
    "    global_y_test_tf = tf.cast(global_y_test_tf, dtype=tf.float32)\n",
    "    \n",
    "    y_pred_tf = tf.reshape(y_pred, [1, 1536])\n",
    "    y_pred_tf = tf.cast(y_pred_tf, dtype=tf.float32)\n",
    "    res = metric_choose_argument_global_y_train(global_y_test_tf, y_pred_tf).numpy()\n",
    "    if res == 1:\n",
    "        successes += 1"
   ]
  },
  {
   "cell_type": "code",
   "execution_count": 97,
   "id": "f58fc351-1cec-4476-9613-1411a100c62d",
   "metadata": {},
   "outputs": [
    {
     "ename": "NameError",
     "evalue": "name 'successes' is not defined",
     "output_type": "error",
     "traceback": [
      "\u001b[0;31m---------------------------------------------------------------------------\u001b[0m",
      "\u001b[0;31mNameError\u001b[0m                                 Traceback (most recent call last)",
      "Cell \u001b[0;32mIn[97], line 1\u001b[0m\n\u001b[0;32m----> 1\u001b[0m \u001b[43msuccesses\u001b[49m\n",
      "\u001b[0;31mNameError\u001b[0m: name 'successes' is not defined"
     ]
    }
   ],
   "source": [
    "successes"
   ]
  },
  {
   "cell_type": "code",
   "execution_count": 284,
   "id": "ef9f9fb3-a4aa-4744-8cb3-1caf73f97300",
   "metadata": {},
   "outputs": [
    {
     "data": {
      "text/plain": [
       "813"
      ]
     },
     "execution_count": 284,
     "metadata": {},
     "output_type": "execute_result"
    }
   ],
   "source": [
    "len(global_autoencoder_predictions_df)"
   ]
  },
  {
   "cell_type": "markdown",
   "id": "770d5da7-75d4-4616-b1cb-6596da410e63",
   "metadata": {},
   "source": [
    "#### Global Shuffled Predict"
   ]
  },
  {
   "cell_type": "code",
   "execution_count": 35,
   "id": "d0d8ebf5-5b23-42e7-a5f8-4e5b1f7a6330",
   "metadata": {},
   "outputs": [
    {
     "name": "stdout",
     "output_type": "stream",
     "text": [
      "26/26 [==============================] - 0s 4ms/step\n"
     ]
    }
   ],
   "source": [
    "# Global model predictions\n",
    "global_shuffled_autoencoder_predictions = global_shuffled_autoencoder_model.predict(global_x_test)\n",
    "global_shuffled_autoencoder_predictions_df = pd.DataFrame(global_shuffled_autoencoder_predictions)\n",
    "global_shuffled_autoencoder_predictions_df.columns = [str(i) for i in global_shuffled_autoencoder_predictions_df.columns]\n",
    "output_folder = f'../data_dump/autoencoder_predictions_dump/global/'\n",
    "output_file_path = f'{output_folder}global_shuffled_predictions.pkl'\n",
    "if not os.path.exists(output_folder):\n",
    "    os.makedirs(output_folder)\n",
    "global_shuffled_autoencoder_predictions_df.to_pickle(output_file_path)"
   ]
  },
  {
   "cell_type": "code",
   "execution_count": 36,
   "id": "d1e65dc2-fc9b-4e39-bdf4-8a200808b778",
   "metadata": {},
   "outputs": [],
   "source": [
    "global_shuffled_autoencoder_predictions_df = pd.read_pickle(\"../data_dump/autoencoder_predictions_dump/global/global_shuffled_predictions.pkl\")"
   ]
  },
  {
   "cell_type": "code",
   "execution_count": 37,
   "id": "568b25ba-0c3a-4f7d-8786-c991a0c91f8c",
   "metadata": {},
   "outputs": [],
   "source": [
    "successes_shuffled = 0\n",
    "for i, y_pred in global_shuffled_autoencoder_predictions_df.iterrows():\n",
    "    global_y_test_tf = tf.reshape(global_y_test.loc[i], [1, 1536])\n",
    "    global_y_test_tf = tf.cast(global_y_test_tf, dtype=tf.float32)\n",
    "    \n",
    "    y_pred_tf = tf.reshape(y_pred, [1, 1536])\n",
    "    y_pred_tf = tf.cast(y_pred_tf, dtype=tf.float32)\n",
    "    res = metric_choose_argument_global_y_train(global_y_test_tf, y_pred_tf).numpy()\n",
    "    if res == 1:\n",
    "        successes_shuffled += 1"
   ]
  },
  {
   "cell_type": "code",
   "execution_count": 38,
   "id": "f85c8ac2-4e97-46e3-9df0-dc7597d27b68",
   "metadata": {},
   "outputs": [
    {
     "data": {
      "text/plain": [
       "51"
      ]
     },
     "execution_count": 38,
     "metadata": {},
     "output_type": "execute_result"
    }
   ],
   "source": [
    "successes_shuffled"
   ]
  },
  {
   "cell_type": "markdown",
   "id": "e793fa74-be24-4d42-be5f-ccb0b671c06c",
   "metadata": {},
   "source": [
    "#### Category Predict"
   ]
  },
  {
   "cell_type": "code",
   "execution_count": null,
   "id": "119b0424-f522-4c0d-9976-75e2e169cb06",
   "metadata": {},
   "outputs": [],
   "source": [
    "# Category model predictions\n",
    "category_autoencoder_predictions = category_autoencoder_model.predict(economy_x_test)\n",
    "category_autoencoder_predictions_df = pd.DataFrame(category_autoencoder_predictions)\n",
    "category_autoencoder_predictions_df.columns = [str(i) for i in category_autoencoder_predictions_df.columns]"
   ]
  },
  {
   "cell_type": "markdown",
   "id": "232a638f-e2c7-49ac-93c7-5d50bb9e597d",
   "metadata": {},
   "source": [
    "#### Debate Predict"
   ]
  },
  {
   "cell_type": "code",
   "execution_count": null,
   "id": "d81641bb-7e37-411f-aa77-6c4a3d50d504",
   "metadata": {},
   "outputs": [],
   "source": [
    "# Debate model predictions\n",
    "debate_autoencoder_predictions = debate_autoencoder_model.predict(economy_debate_x_test)\n",
    "debate_autoencoder_predictions_df = pd.DataFrame(debate_autoencoder_predictions)\n",
    "debate_autoencoder_predictions_df.columns = [str(i) for i in debate_autoencoder_predictions_df.columns]"
   ]
  },
  {
   "cell_type": "markdown",
   "id": "5f5732e3-8cb0-4984-8dcd-bb50fe67efad",
   "metadata": {},
   "source": [
    "## Combine Point-Counter Dataframes"
   ]
  },
  {
   "cell_type": "markdown",
   "id": "e19b27fc-fcf8-4fdc-b340-c99af7822b42",
   "metadata": {},
   "source": [
    "#### Global point-counter df"
   ]
  },
  {
   "cell_type": "code",
   "execution_count": null,
   "id": "5f965e97-c7e6-4842-b716-09739992705b",
   "metadata": {},
   "outputs": [],
   "source": [
    "# Combine global_x_test and global_y_test\n",
    "global_x_test_df = global_x_test.copy().astype(np.float32)\n",
    "global_x_test_df['pair_id'] = global_x_test_df.index.astype(str)\n",
    "global_x_test_df['type'] = 'point'\n",
    "global_x_test_df['pred_test'] = 'test'\n",
    "\n",
    "global_y_test_df = global_y_test.copy().astype(np.float32)\n",
    "global_y_test_df['pair_id'] = global_y_test_df.index.astype(str)\n",
    "global_y_test_df['type'] = 'counter'\n",
    "global_y_test_df['pred_test'] = 'test'\n",
    "\n",
    "global_x_y_test_combined_df = pd.concat([global_x_test_df, global_y_test_df], axis=0, ignore_index=True)"
   ]
  },
  {
   "cell_type": "code",
   "execution_count": null,
   "id": "b46f4f1d-848e-4181-abb6-68c8931c30b5",
   "metadata": {},
   "outputs": [],
   "source": [
    "# Combine global_x_test and global autoencoder predictions\n",
    "global_x_test_df_copy = global_x_test.copy().astype(np.float32)\n",
    "global_x_test_df_copy['pair_id'] = global_x_test_df_copy.index.astype(str)\n",
    "global_x_test_df_copy['type'] = 'point'\n",
    "global_x_test_df_copy['pred_test'] = 'pred'\n",
    "global_autoencoder_predictions_df['pair_id'] = global_autoencoder_predictions_df.index.astype(str)\n",
    "global_autoencoder_predictions_df['type'] = 'counter'\n",
    "global_autoencoder_predictions_df['pred_test'] = 'pred'\n",
    "global_pred_test_combined_df = pd.concat([global_x_test_df_copy, global_autoencoder_predictions_df], axis=0, ignore_index=True)"
   ]
  },
  {
   "cell_type": "code",
   "execution_count": null,
   "id": "e7aaafb8-4d2e-4957-b71f-4e6158422a1d",
   "metadata": {},
   "outputs": [],
   "source": [
    "# Combine global_x_test and global_y_test and global autoencoder predictions\n",
    "global_combined_df = pd.concat([global_x_test_df, global_y_test_df, global_autoencoder_predictions_df], axis=0, ignore_index=True)"
   ]
  },
  {
   "cell_type": "markdown",
   "id": "02ade609-cb32-42c6-8a91-d0c65abec1e1",
   "metadata": {},
   "source": [
    "#### Global shuffled point-counter df"
   ]
  },
  {
   "cell_type": "code",
   "execution_count": null,
   "id": "c847a99b-4dc5-486e-88b1-01d2c2314079",
   "metadata": {},
   "outputs": [],
   "source": [
    "# Combine global_x_test and global_y_test_shuffled\n",
    "global_x_test_df = global_x_test.copy().astype(np.float32)\n",
    "global_x_test_df['pair_id'] = global_x_test_df.index.astype(str)\n",
    "global_x_test_df['type'] = 'point'\n",
    "global_x_test_df['pred_test'] = 'test'\n",
    "\n",
    "global_y_test_shuffled_df = global_y_test_shuffled.copy().astype(np.float32)\n",
    "global_y_test_shuffled_df['pair_id'] = global_y_test_shuffled_df.index.astype(str)\n",
    "global_y_test_shuffled_df['type'] = 'counter'\n",
    "global_y_test_shuffled_df['pred_test'] = 'test'\n",
    "\n",
    "global_x_y_test_combined_shuffled_df = pd.concat([global_x_test_df, global_y_test_shuffled_df], axis=0, ignore_index=True)"
   ]
  },
  {
   "cell_type": "code",
   "execution_count": null,
   "id": "3da245c3-0f0d-4803-93c5-1803b809a51b",
   "metadata": {},
   "outputs": [],
   "source": [
    "# Combine global_x_test and global shuffled autoencoder predictions\n",
    "global_x_test_df_copy = global_x_test.copy().astype(np.float32)\n",
    "global_x_test_df_copy['pair_id'] = global_x_test_df_copy.index.astype(str)\n",
    "global_x_test_df_copy['type'] = 'point'\n",
    "global_x_test_df_copy['pred_test'] = 'pred'\n",
    "global_shuffled_autoencoder_predictions_df['pair_id'] = global_shuffled_autoencoder_predictions_df.index.astype(str)\n",
    "global_shuffled_autoencoder_predictions_df['type'] = 'counter'\n",
    "global_shuffled_autoencoder_predictions_df['pred_test'] = 'pred'\n",
    "global_pred_test_combined_shuffled_df = pd.concat([global_x_test_df_copy, global_shuffled_autoencoder_predictions_df], axis=0, ignore_index=True)"
   ]
  },
  {
   "cell_type": "code",
   "execution_count": null,
   "id": "b57c420b-2b02-4653-baf3-ce9994b8bedd",
   "metadata": {},
   "outputs": [],
   "source": [
    "# Combine global_x_test and global_y_test and global autoencoder predictions\n",
    "global_combined_shuffled_df = pd.concat([global_x_test_df, global_y_test_shuffled_df, global_shuffled_autoencoder_predictions_df], axis=0, ignore_index=True)"
   ]
  },
  {
   "cell_type": "markdown",
   "id": "9fc27963-5ac2-423f-811c-0eac46e491a4",
   "metadata": {},
   "source": [
    "#### Category point-counter df"
   ]
  },
  {
   "cell_type": "code",
   "execution_count": null,
   "id": "78292671-7f42-4bd1-ad9f-5e536bcedc6f",
   "metadata": {},
   "outputs": [],
   "source": [
    "# Combine economy_x_test and economy_y_test\n",
    "economy_x_test_df = economy_x_test.copy().astype(np.float32)\n",
    "economy_x_test_df['pair_id'] = economy_x_test_df.index.astype(str)\n",
    "economy_x_test_df['type'] = 'point'\n",
    "economy_x_test_df['pred_test'] = 'test'\n",
    "\n",
    "economy_y_test_df = economy_y_test.copy().astype(np.float32)\n",
    "economy_y_test_df['pair_id'] = economy_y_test_df.index.astype(str)\n",
    "economy_y_test_df['type'] = 'counter'\n",
    "economy_y_test_df['pred_test'] = 'test'\n",
    "\n",
    "economy_x_y_test_combined_df = pd.concat([economy_x_test_df, economy_y_test_df], axis=0, ignore_index=True)"
   ]
  },
  {
   "cell_type": "code",
   "execution_count": null,
   "id": "eb9db44b-a10b-4cc8-864e-c74e69b942c8",
   "metadata": {},
   "outputs": [],
   "source": [
    "# Combine economy_x_test and economy autoencoder predictions\n",
    "economy_x_test_df_copy = economy_x_test.copy().astype(np.float32)\n",
    "economy_x_test_df_copy['pair_id'] = economy_x_test_df_copy.index.astype(str)\n",
    "economy_x_test_df_copy['type'] = 'point'\n",
    "economy_x_test_df_copy['pred_test'] = 'pred'\n",
    "category_autoencoder_predictions_df['pair_id'] = category_autoencoder_predictions_df.index.astype(str)\n",
    "category_autoencoder_predictions_df['type'] = 'counter'\n",
    "category_autoencoder_predictions_df['pred_test'] = 'pred'\n",
    "economy_pred_test_combined_df = pd.concat([economy_x_test_df_copy, category_autoencoder_predictions_df], axis=0, ignore_index=True)"
   ]
  },
  {
   "cell_type": "code",
   "execution_count": null,
   "id": "e97f51b9-b3b2-42b4-adb9-9898855f3f24",
   "metadata": {},
   "outputs": [],
   "source": [
    "# Combine economy_x_test and economy_y_test and economy autoencoder predictions\n",
    "economy_combined_df = pd.concat([economy_x_test_df, economy_y_test_df, category_autoencoder_predictions_df], axis=0, ignore_index=True)"
   ]
  },
  {
   "cell_type": "markdown",
   "id": "3664994a-33e6-4110-b6a0-3291dc6a95aa",
   "metadata": {},
   "source": [
    "#### Debate point-counter df"
   ]
  },
  {
   "cell_type": "code",
   "execution_count": null,
   "id": "1b003809-d26b-40f1-a368-a74d6fa1ce5f",
   "metadata": {},
   "outputs": [],
   "source": [
    "# Combine economy_debate_x_test and economy_debate_y_test\n",
    "economy_debate_x_test_df = economy_debate_x_test.copy().astype(np.float32)\n",
    "economy_debate_x_test_df['pair_id'] = economy_debate_x_test_df.index.astype(str)\n",
    "economy_debate_x_test_df['type'] = 'point'\n",
    "economy_debate_x_test_df['pred_test'] = 'test'\n",
    "\n",
    "economy_debate_y_test_df = economy_debate_y_test.copy().astype(np.float32)\n",
    "economy_debate_y_test_df['pair_id'] = economy_debate_y_test_df.index.astype(str)\n",
    "economy_debate_y_test_df['type'] = 'counter'\n",
    "economy_debate_y_test_df['pred_test'] = 'test'\n",
    "\n",
    "economy_debate_x_y_test_combined_df = pd.concat([economy_debate_x_test_df, economy_debate_y_test_df], axis=0, ignore_index=True)"
   ]
  },
  {
   "cell_type": "code",
   "execution_count": null,
   "id": "4317e859-2735-421c-8d2b-ad633f9d2287",
   "metadata": {},
   "outputs": [],
   "source": [
    "# Combine economy_debate_x_test and debate autoencoder predictions\n",
    "economy_debate_x_test_df_copy = economy_debate_x_test.copy().astype(np.float32)\n",
    "economy_debate_x_test_df_copy['pair_id'] = economy_debate_x_test_df_copy.index.astype(str)\n",
    "economy_debate_x_test_df_copy['type'] = 'point'\n",
    "economy_debate_x_test_df_copy['pred_test'] = 'pred'\n",
    "debate_autoencoder_predictions_df['pair_id'] = debate_autoencoder_predictions_df.index.astype(str)\n",
    "debate_autoencoder_predictions_df['type'] = 'counter'\n",
    "debate_autoencoder_predictions_df['pred_test'] = 'pred'\n",
    "economy_debate_pred_test_combined_df = pd.concat([economy_debate_x_test_df_copy, debate_autoencoder_predictions_df], axis=0, ignore_index=True)"
   ]
  },
  {
   "cell_type": "code",
   "execution_count": null,
   "id": "e18acfc9-0fed-420f-8a31-29c8fe11425d",
   "metadata": {},
   "outputs": [],
   "source": [
    "# Combine economy_x_test and economy_y_test and debate autoencoder predictions\n",
    "economy_debate_combined_df = pd.concat([economy_debate_x_test_df, economy_debate_y_test_df, debate_autoencoder_predictions_df], axis=0, ignore_index=True)"
   ]
  },
  {
   "cell_type": "markdown",
   "id": "4cfcfd3a-ea4d-44f1-b9b6-1e5ac4e293f5",
   "metadata": {},
   "source": [
    "#### Global tsne df"
   ]
  },
  {
   "cell_type": "code",
   "execution_count": null,
   "id": "f31bd5ac-6970-45a6-91e0-7ada12a47997",
   "metadata": {},
   "outputs": [],
   "source": [
    "# TSNE global_x_y_test\n",
    "global_x_y_test_combined_tsne_df = tsne_embeddings(global_x_y_test_combined_df)"
   ]
  },
  {
   "cell_type": "code",
   "execution_count": null,
   "id": "a5d09927-e0b9-42cb-a43b-df40e3e64dfc",
   "metadata": {},
   "outputs": [],
   "source": [
    "# TSNE global autoencoder predictions\n",
    "global_pred_test_combined_tsne_df = tsne_embeddings(global_pred_test_combined_df)"
   ]
  },
  {
   "cell_type": "code",
   "execution_count": null,
   "id": "c11d1903-ce2a-48ff-900e-52f967a04389",
   "metadata": {},
   "outputs": [],
   "source": [
    "# TSNE global combined df\n",
    "global_combined_tsne_df = tsne_embeddings(global_combined_df)"
   ]
  },
  {
   "cell_type": "code",
   "execution_count": null,
   "id": "e6f1535c-1862-4312-9896-593c2b083446",
   "metadata": {},
   "outputs": [],
   "source": [
    "# Combine both prediction and test tsne df\n",
    "global_both_tsne_df = pd.concat([global_x_y_test_combined_tsne_df, global_pred_test_combined_tsne_df], axis=0)"
   ]
  },
  {
   "cell_type": "markdown",
   "id": "4b28af55-b83f-437c-bf08-43ba0d370563",
   "metadata": {},
   "source": [
    "#### Global shuffled tsne df"
   ]
  },
  {
   "cell_type": "code",
   "execution_count": null,
   "id": "5dd649bd-3cb1-4d92-a5ea-9f6ad0d861e9",
   "metadata": {},
   "outputs": [],
   "source": [
    "# TSNE global_x_y_shuffled_test\n",
    "global_x_y_test_combined_shuffled_tsne_df = tsne_embeddings(global_x_y_test_combined_shuffled_df)"
   ]
  },
  {
   "cell_type": "code",
   "execution_count": null,
   "id": "5e4043c4-f720-4870-9248-c7378509eef6",
   "metadata": {},
   "outputs": [],
   "source": [
    "# TSNE global shuffled autoencoder predictions\n",
    "global_pred_test_combined_shuffled_tsne_df = tsne_embeddings(global_pred_test_combined_shuffled_df)"
   ]
  },
  {
   "cell_type": "code",
   "execution_count": null,
   "id": "3f8a4fd2-6ec9-46d6-8671-ac15d3f9de6d",
   "metadata": {},
   "outputs": [],
   "source": [
    "# TSNE global shuffled combined df\n",
    "global_combined_shuffled_tsne_df = tsne_embeddings(global_combined_shuffled_df)"
   ]
  },
  {
   "cell_type": "code",
   "execution_count": null,
   "id": "6667667a-c4e2-42ec-b19b-039904b75b6b",
   "metadata": {},
   "outputs": [],
   "source": [
    "# Combine both prediction and test shuffled tsne df\n",
    "global_both_shuffled_tsne_df = pd.concat([global_x_y_test_combined_shuffled_tsne_df, global_pred_test_combined_shuffled_tsne_df], axis=0)"
   ]
  },
  {
   "cell_type": "markdown",
   "id": "617bc918-5f74-4b3a-b81b-216d9ab6c4bc",
   "metadata": {},
   "source": [
    "#### Category tsne df"
   ]
  },
  {
   "cell_type": "code",
   "execution_count": null,
   "id": "6153c697-095a-401d-b22b-339dcc5c830b",
   "metadata": {},
   "outputs": [],
   "source": [
    "# TSNE economy_x_y_test\n",
    "economy_x_y_test_combined_tsne_df = tsne_embeddings(economy_x_y_test_combined_df)"
   ]
  },
  {
   "cell_type": "code",
   "execution_count": null,
   "id": "dc61ea83-e6ab-4b5b-9c98-5af440b211fd",
   "metadata": {},
   "outputs": [],
   "source": [
    "# TSNE category autoencoder predictions\n",
    "economy_pred_test_combined_tsne_df = tsne_embeddings(economy_pred_test_combined_df)"
   ]
  },
  {
   "cell_type": "code",
   "execution_count": null,
   "id": "511c0813-92a5-459a-96e2-fe534ef2c580",
   "metadata": {},
   "outputs": [],
   "source": [
    "# TSNE economy combined df\n",
    "economy_combined_tsne_df = tsne_embeddings(economy_combined_df)"
   ]
  },
  {
   "cell_type": "code",
   "execution_count": null,
   "id": "2a32bd4d-75c2-491d-8c39-9a8d3c1bd90b",
   "metadata": {},
   "outputs": [],
   "source": [
    "# Combine both prediction and test tsne df\n",
    "economy_both_tsne_df = pd.concat([economy_x_y_test_combined_tsne_df, economy_pred_test_combined_tsne_df], axis=0)"
   ]
  },
  {
   "cell_type": "markdown",
   "id": "a1a181c0-0963-44c1-add3-73a105fa4051",
   "metadata": {},
   "source": [
    "#### Debate tsne df"
   ]
  },
  {
   "cell_type": "code",
   "execution_count": null,
   "id": "aa26552d-6bc8-48be-9181-2b387406538e",
   "metadata": {},
   "outputs": [],
   "source": [
    "# TSNE economy_debate_x_y_test\n",
    "economy_debate_x_y_test_combined_tsne_df = tsne_embeddings(economy_debate_x_y_test_combined_df)"
   ]
  },
  {
   "cell_type": "code",
   "execution_count": null,
   "id": "8b7530bf-53a4-4b47-b2bf-973bd62995aa",
   "metadata": {},
   "outputs": [],
   "source": [
    "# TSNE debate autoencoder predictions\n",
    "economy_debate_pred_test_combined_tsne_df = tsne_embeddings(economy_debate_pred_test_combined_df)"
   ]
  },
  {
   "cell_type": "code",
   "execution_count": null,
   "id": "8697b83b-cc45-47d6-9812-dd38490ae1ab",
   "metadata": {},
   "outputs": [],
   "source": [
    "# TSNE debate combined df\n",
    "economy_debate_combined_tsne_df = tsne_embeddings(economy_debate_combined_df)"
   ]
  },
  {
   "cell_type": "code",
   "execution_count": null,
   "id": "5f2d169b-aca6-43e5-a457-c4388e3ee821",
   "metadata": {},
   "outputs": [],
   "source": [
    "# Combine both prediction and test tsne df\n",
    "economy_debate_both_tsne_df = pd.concat([economy_debate_x_y_test_combined_tsne_df, economy_debate_pred_test_combined_tsne_df], axis=0)"
   ]
  },
  {
   "cell_type": "markdown",
   "id": "52ace905-8f1b-4d09-b6e3-47f3c9cad677",
   "metadata": {},
   "source": [
    "## PCA Dataframes"
   ]
  },
  {
   "cell_type": "markdown",
   "id": "15583373-72d2-4911-94e3-a67cfa76883a",
   "metadata": {},
   "source": [
    "#### Global pca df"
   ]
  },
  {
   "cell_type": "code",
   "execution_count": null,
   "id": "32cfb964-d46f-41cb-b92f-ef360af55134",
   "metadata": {},
   "outputs": [],
   "source": [
    "# PCA global_x_y_test\n",
    "global_x_y_test_combined_pca_df = pca_embeddings(global_x_y_test_combined_df)"
   ]
  },
  {
   "cell_type": "code",
   "execution_count": null,
   "id": "8b7c4d75-1987-468d-86d8-09126a4ee88c",
   "metadata": {},
   "outputs": [],
   "source": [
    "# PCA global autoencoder predictions\n",
    "global_pred_test_combined_pca_df = pca_embeddings(global_pred_test_combined_df)"
   ]
  },
  {
   "cell_type": "code",
   "execution_count": null,
   "id": "17cebf23-cffd-4fa5-8793-400007e61755",
   "metadata": {},
   "outputs": [],
   "source": [
    "# PCA global combined df\n",
    "global_combined_pca_df = pca_embeddings(global_combined_df)"
   ]
  },
  {
   "cell_type": "code",
   "execution_count": null,
   "id": "69781045-610f-4f20-82ef-661ff0395467",
   "metadata": {},
   "outputs": [],
   "source": [
    "# Combine both prediction and test pca df\n",
    "global_both_pca_df = pd.concat([global_x_y_test_combined_pca_df, global_pred_test_combined_pca_df], axis=0)"
   ]
  },
  {
   "cell_type": "markdown",
   "id": "f9a5dbe4-4917-4ea6-ae16-ee6d3c8086c2",
   "metadata": {},
   "source": [
    "#### Category pca df"
   ]
  },
  {
   "cell_type": "code",
   "execution_count": null,
   "id": "5644fac7-68e8-45ce-9dc5-d031eb866e9c",
   "metadata": {},
   "outputs": [],
   "source": [
    "# PCA economy_x_y_test\n",
    "economy_x_y_test_combined_pca_df = pca_embeddings(economy_x_y_test_combined_df)"
   ]
  },
  {
   "cell_type": "code",
   "execution_count": null,
   "id": "000c34a5-375c-4c1f-bc36-378ca956870b",
   "metadata": {},
   "outputs": [],
   "source": [
    "# PCA category autoencoder predictions\n",
    "economy_pred_test_combined_pca_df = pca_embeddings(economy_pred_test_combined_df)"
   ]
  },
  {
   "cell_type": "code",
   "execution_count": null,
   "id": "5ef52d75-6670-40aa-ba99-4f8196b2bef2",
   "metadata": {},
   "outputs": [],
   "source": [
    "# PCA economy combined df\n",
    "economy_combined_pca_df = pca_embeddings(economy_combined_df)"
   ]
  },
  {
   "cell_type": "code",
   "execution_count": null,
   "id": "f92aa723-bc4d-449d-bef9-d61e481c0e6c",
   "metadata": {},
   "outputs": [],
   "source": [
    "# Combine both prediction and test pca df\n",
    "economy_both_pca_df = pd.concat([economy_x_y_test_combined_pca_df, economy_pred_test_combined_pca_df], axis=0)"
   ]
  },
  {
   "cell_type": "markdown",
   "id": "629cf322-1d09-49e4-b8ed-6d87f169371f",
   "metadata": {},
   "source": [
    "#### Debate pca df"
   ]
  },
  {
   "cell_type": "code",
   "execution_count": null,
   "id": "2367b733-9d66-4ca2-b526-67b7f19bd1de",
   "metadata": {},
   "outputs": [],
   "source": [
    "# PCA economy_debate_x_y_test\n",
    "economy_debate_x_y_test_combined_pca_df = pca_embeddings(economy_debate_x_y_test_combined_df)"
   ]
  },
  {
   "cell_type": "code",
   "execution_count": null,
   "id": "aca6d8dd-bf97-495c-9bde-c8ccd5f7a309",
   "metadata": {},
   "outputs": [],
   "source": [
    "# PCA debate autoencoder predictions\n",
    "economy_debate_pred_test_combined_pca_df = pca_embeddings(economy_debate_pred_test_combined_df)"
   ]
  },
  {
   "cell_type": "code",
   "execution_count": null,
   "id": "62a0e5a0-b650-407f-aec1-dacfbe76dc9c",
   "metadata": {},
   "outputs": [],
   "source": [
    "# PCA economy debate combined df\n",
    "economy_debate_combined_pca_df = pca_embeddings(economy_debate_combined_df)"
   ]
  },
  {
   "cell_type": "code",
   "execution_count": null,
   "id": "c931fe37-9b97-40d7-8b05-efb93d9ae384",
   "metadata": {},
   "outputs": [],
   "source": [
    "# Combine both prediction and test pca df\n",
    "economy_debate_both_pca_df = pd.concat([economy_debate_x_y_test_combined_pca_df, economy_debate_pred_test_combined_pca_df], axis=0)"
   ]
  },
  {
   "cell_type": "markdown",
   "id": "b9ad0fe7-c002-402b-9ade-ae2a49c624e5",
   "metadata": {},
   "source": [
    "## Plot Data to Compare"
   ]
  },
  {
   "cell_type": "markdown",
   "id": "13437098-45c2-4370-9300-f1635e02ad54",
   "metadata": {},
   "source": [
    "#### Plot Functions"
   ]
  },
  {
   "cell_type": "code",
   "execution_count": null,
   "id": "b58931e8-3e5b-4d38-a0a4-6b2923ace7cb",
   "metadata": {},
   "outputs": [],
   "source": [
    "# Plot for prediction or test\n",
    "def pred_test_plot(\n",
    "        analysis_type: AnalysisType,\n",
    "        pred_test_data: pd.DataFrame,\n",
    "        processing_unit: ProcessingUnit\n",
    "    ):\n",
    "    plot_analysis_type = analysis_type.value.upper()\n",
    "    pred_test = pred_test_data['pred_test'].iloc[0]\n",
    "    gg = (\n",
    "        ggplot(pred_test_data, aes(x='x', y='y', color='type', group='pair_id')) +\n",
    "        geom_point(size=2) +\n",
    "        geom_line(color='black', size=0.5) +\n",
    "        labs(\n",
    "            title=f'{plot_analysis_type} Plot: {pred_test}',\n",
    "            x=f'{plot_analysis_type}_x',\n",
    "            y=f'{plot_analysis_type}_y'\n",
    "        ) +\n",
    "        theme(\n",
    "            axis_title=element_text(margin={'t': 20}),\n",
    "            figure_size=(8, 8),\n",
    "        )\n",
    "    )\n",
    "\n",
    "    output_folder = f'../data_dump/autoencoder_{analysis_type.value}_plots_dump/'\n",
    "    output_file_path = f'{output_folder}{processing_unit.value}_autoencoder_{pred_test}_{analysis_type.value}_plot.png'\n",
    "    if not os.path.exists(output_folder):\n",
    "        os.makedirs(output_folder)\n",
    "    ggsave(gg, output_file_path)\n",
    "    print(gg)"
   ]
  },
  {
   "cell_type": "code",
   "execution_count": null,
   "id": "3bd20add-8951-4d87-b154-ae0e9897fdce",
   "metadata": {},
   "outputs": [],
   "source": [
    "# Both plot for prediction and test\n",
    "def both_pred_test_plot(\n",
    "        analysis_type: AnalysisType,\n",
    "        both_data_df: pd.DataFrame,\n",
    "        processing_unit: ProcessingUnit\n",
    "    ):\n",
    "    plot_analysis_type = analysis_type.value.upper()\n",
    "    both_data_df['interaction'] = both_data_df['pair_id'] + '_' + both_data_df['pred_test']\n",
    "    gg = (\n",
    "        ggplot(both_data_df, aes(x='x', y='y', color='pred_test', shape='type', group='interaction')) +\n",
    "        geom_point(size=2) +\n",
    "        geom_line(color='black', size=0.5) +\n",
    "        labs(\n",
    "            title=f'{plot_analysis_type} Combined Plot for Both Prediction and Test',\n",
    "            x=f'{plot_analysis_type}_x',\n",
    "            y=f'{plot_analysis_type}_y'\n",
    "        ) +\n",
    "        theme(\n",
    "            axis_title=element_text(margin={'t': 20}),\n",
    "            figure_size=(8, 8),\n",
    "        )\n",
    "    )\n",
    "\n",
    "    output_folder = f'../data_dump/autoencoder_{analysis_type.value}_plots_dump/'\n",
    "    output_file_path = f'{output_folder}{processing_unit.value}_autoencoder_combined_pred_test_{analysis_type.value}_plot.png'\n",
    "    if not os.path.exists(output_folder):\n",
    "        os.makedirs(output_folder)\n",
    "    ggsave(gg, output_file_path)\n",
    "    print(gg)"
   ]
  },
  {
   "cell_type": "code",
   "execution_count": null,
   "id": "85c9a145-2fac-4930-827b-cf1ff298947d",
   "metadata": {},
   "outputs": [],
   "source": [
    "# Combined plot for x_test + y_test + prediction\n",
    "def combined_pred_test_plot(\n",
    "        analysis_type: AnalysisType,\n",
    "        combined_df: pd.DataFrame,\n",
    "        processing_unit: ProcessingUnit\n",
    "    ):\n",
    "    plot_analysis_type = analysis_type.value.upper()\n",
    "    gg = (\n",
    "        ggplot(combined_df, aes(x='x', y='y', color='pred_test', shape='type', group='pair_id')) +\n",
    "        geom_point(size=2) +\n",
    "        geom_line(color='black', size=0.5) +\n",
    "        labs(\n",
    "            title=f'{plot_analysis_type} Combined Plot for Prediction vs Test',\n",
    "            x=f'{plot_analysis_type}_x',\n",
    "            y=f'{plot_analysis_type}_y'\n",
    "        ) +\n",
    "        theme(\n",
    "            axis_title=element_text(margin={'t': 20}),\n",
    "            figure_size=(8, 8),\n",
    "        )\n",
    "    )\n",
    "\n",
    "    output_folder = f'../data_dump/autoencoder_{analysis_type.value}_plots_dump/'\n",
    "    output_file_path = f'{output_folder}{processing_unit.value}_autoencoder_all_{analysis_type.value}_plot.png'\n",
    "    if not os.path.exists(output_folder):\n",
    "        os.makedirs(output_folder)\n",
    "    ggsave(gg, output_file_path)\n",
    "    print(gg)"
   ]
  },
  {
   "cell_type": "markdown",
   "id": "b0a9d046-e30b-422e-8e19-b5b1d3ce6741",
   "metadata": {},
   "source": [
    "#### Global Prediction PCA Plots"
   ]
  },
  {
   "cell_type": "code",
   "execution_count": null,
   "id": "2984911f-d0ab-4ee1-84ff-05abdbfb5d8b",
   "metadata": {},
   "outputs": [],
   "source": [
    "# Plot PCA test\n",
    "pred_test_plot(AnalysisType.PCA, global_x_y_test_combined_pca_df, ProcessingUnit.GLOBAL)"
   ]
  },
  {
   "cell_type": "code",
   "execution_count": null,
   "id": "34ed361e-1714-468e-9e20-90b104969f09",
   "metadata": {},
   "outputs": [],
   "source": [
    "# Plot PCA autoencoder predictions\n",
    "pred_test_plot(AnalysisType.PCA, global_pred_test_combined_pca_df, ProcessingUnit.GLOBAL)"
   ]
  },
  {
   "cell_type": "code",
   "execution_count": null,
   "id": "7919e027-d907-4890-9107-6ae7d1052078",
   "metadata": {},
   "outputs": [],
   "source": [
    "# Plot both PCA pred and test\n",
    "both_pred_test_plot(AnalysisType.PCA, global_both_pca_df, ProcessingUnit.GLOBAL)"
   ]
  },
  {
   "cell_type": "code",
   "execution_count": null,
   "id": "dedf0e4a-799d-4703-8b90-c96285c3416e",
   "metadata": {},
   "outputs": [],
   "source": [
    "# Plot combined PCA pred and test\n",
    "combined_pred_test_plot(AnalysisType.PCA, global_combined_pca_df, ProcessingUnit.GLOBAL)"
   ]
  },
  {
   "cell_type": "markdown",
   "id": "eab27e3f-76cd-45f6-affc-d7fdfd7fe2a4",
   "metadata": {},
   "source": [
    "#### Category Prediction PCA Plots"
   ]
  },
  {
   "cell_type": "code",
   "execution_count": null,
   "id": "ee24220a-d0f6-4e01-942c-d14e02282736",
   "metadata": {
    "scrolled": true
   },
   "outputs": [],
   "source": [
    "# Plot PCA test\n",
    "pred_test_plot(AnalysisType.PCA, economy_x_y_test_combined_pca_df, ProcessingUnit.CATEGORY)"
   ]
  },
  {
   "cell_type": "code",
   "execution_count": null,
   "id": "63f4bcab-439d-4be4-afe4-f56295ab1696",
   "metadata": {
    "scrolled": true
   },
   "outputs": [],
   "source": [
    "# Plot PCA autoencoder predictions\n",
    "pred_test_plot(AnalysisType.PCA, economy_pred_test_combined_pca_df, ProcessingUnit.CATEGORY)"
   ]
  },
  {
   "cell_type": "code",
   "execution_count": null,
   "id": "e4c54310-d3d5-45b0-886a-d45ca8eb4662",
   "metadata": {},
   "outputs": [],
   "source": [
    "# Plot both pred and test\n",
    "both_pred_test_plot(AnalysisType.PCA, economy_both_pca_df, ProcessingUnit.CATEGORY)"
   ]
  },
  {
   "cell_type": "code",
   "execution_count": null,
   "id": "09c0ba4d-44b4-46ad-9f20-173b22e8ec64",
   "metadata": {},
   "outputs": [],
   "source": [
    "# Plot combined pred vs test\n",
    "combined_pred_test_plot(AnalysisType.PCA, economy_combined_pca_df, ProcessingUnit.CATEGORY)"
   ]
  },
  {
   "cell_type": "markdown",
   "id": "37582e8e-b758-43a3-b0eb-ecb26cfaee16",
   "metadata": {},
   "source": [
    "#### Debate Prediction PCA Plots"
   ]
  },
  {
   "cell_type": "code",
   "execution_count": null,
   "id": "d4f765be-025e-4455-a933-da2af6a63ef7",
   "metadata": {
    "scrolled": true
   },
   "outputs": [],
   "source": [
    "# Plot PCA test\n",
    "pred_test_plot(AnalysisType.PCA, economy_debate_x_y_test_combined_pca_df, ProcessingUnit.DEBATE)"
   ]
  },
  {
   "cell_type": "code",
   "execution_count": null,
   "id": "3ea51569-8634-4632-bece-f934cc81587e",
   "metadata": {
    "scrolled": true
   },
   "outputs": [],
   "source": [
    "# Plot PCA autoencoder predictions\n",
    "pred_test_plot(AnalysisType.PCA, economy_debate_pred_test_combined_pca_df, ProcessingUnit.DEBATE)"
   ]
  },
  {
   "cell_type": "code",
   "execution_count": null,
   "id": "2cb5520f-1311-4028-a343-911c303dc929",
   "metadata": {
    "scrolled": true
   },
   "outputs": [],
   "source": [
    "# Plot both pred and test\n",
    "both_pred_test_plot(AnalysisType.PCA, economy_debate_both_pca_df, ProcessingUnit.DEBATE)"
   ]
  },
  {
   "cell_type": "code",
   "execution_count": null,
   "id": "d6a205f8-d145-4536-a5aa-78e8e75381f5",
   "metadata": {
    "scrolled": true
   },
   "outputs": [],
   "source": [
    "# Plot combined pred vs test\n",
    "combined_pred_test_plot(AnalysisType.PCA, economy_debate_combined_pca_df, ProcessingUnit.DEBATE)"
   ]
  }
 ],
 "metadata": {
  "kernelspec": {
   "display_name": "Python 3 (ipykernel)",
   "language": "python",
   "name": "python3"
  },
  "language_info": {
   "codemirror_mode": {
    "name": "ipython",
    "version": 3
   },
   "file_extension": ".py",
   "mimetype": "text/x-python",
   "name": "python",
   "nbconvert_exporter": "python",
   "pygments_lexer": "ipython3",
   "version": "3.11.4"
  }
 },
 "nbformat": 4,
 "nbformat_minor": 5
}
