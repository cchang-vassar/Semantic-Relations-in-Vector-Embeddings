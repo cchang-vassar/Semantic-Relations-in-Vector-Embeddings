{
 "cells": [
  {
   "cell_type": "markdown",
   "id": "54d02564-93ff-4682-a3c9-866bc4a9e461",
   "metadata": {},
   "source": [
    "# Autoencoder: Generate Corresponding Embedding"
   ]
  },
  {
   "cell_type": "markdown",
   "id": "494f9bbb-1e6d-422d-b934-24de3609ae38",
   "metadata": {},
   "source": [
    "### Imports"
   ]
  },
  {
   "cell_type": "code",
   "execution_count": 1,
   "id": "34847cf8-a4c0-4fa9-b386-acb94ffc7b7f",
   "metadata": {},
   "outputs": [
    {
     "name": "stderr",
     "output_type": "stream",
     "text": [
      "2024-02-26 22:58:31.176978: I tensorflow/core/platform/cpu_feature_guard.cc:182] This TensorFlow binary is optimized to use available CPU instructions in performance-critical operations.\n",
      "To enable the following instructions: AVX2 FMA, in other operations, rebuild TensorFlow with the appropriate compiler flags.\n"
     ]
    }
   ],
   "source": [
    "import os\n",
    "import tensorflow as tf\n",
    "import pandas as pd\n",
    "import numpy as np\n",
    "from scipy import spatial\n",
    "from tensorflow.keras.callbacks import ModelCheckpoint, CSVLogger\n",
    "from plotnine import ggplot, geom_line, aes, ggsave, labs, theme, element_text, guides, guide_legend"
   ]
  },
  {
   "cell_type": "markdown",
   "id": "ac3facd4-9d46-4916-866b-2dfe7209cbc1",
   "metadata": {},
   "source": [
    "## Data"
   ]
  },
  {
   "cell_type": "code",
   "execution_count": 2,
   "id": "1c418d64-8e44-4bb4-a85c-050f9197756f",
   "metadata": {},
   "outputs": [],
   "source": [
    "# Drop rows that do not follow 'point' -> 'counter' pattern\n",
    "def prepare_training_df(data: pd.DataFrame):\n",
    "    point_indices = data[data['type'] == 'point'].index\n",
    "    counter_indices = data[data['type'] == 'counter'].index\n",
    "    drop_indices = []\n",
    "    for idx in point_indices:\n",
    "        if (idx == len(data)-1) or (idx + 1 < len(data) and data.loc[idx + 1, 'type'] != 'counter'):\n",
    "            drop_indices.append(idx)\n",
    "    for idx in counter_indices:\n",
    "        if idx > 0 and data.loc[idx - 1, 'type'] != 'point':\n",
    "            drop_indices.append(idx)\n",
    "    data = data.drop(drop_indices)\n",
    "    data = data.select_dtypes(include=[np.number])\n",
    "    data = data.reset_index(drop=True)\n",
    "    return data"
   ]
  },
  {
   "cell_type": "code",
   "execution_count": 3,
   "id": "f1b3452b-e0ce-4050-9a06-f392505474d0",
   "metadata": {},
   "outputs": [],
   "source": [
    "# Drop rows that do not follow 'point' -> 'counter' pattern\n",
    "def prepare_training_df_shuffled(data: pd.DataFrame):\n",
    "    point_indices = data[data['type'] == 'point'].index\n",
    "    counter_indices = data[data['type'] == 'counter'].index\n",
    "    drop_indices = []\n",
    "    for idx in point_indices:\n",
    "        if (idx == len(data)-1) or (idx + 1 < len(data) and data.loc[idx + 1, 'type'] != 'counter'):\n",
    "            drop_indices.append(idx)\n",
    "    for idx in counter_indices:\n",
    "        if idx > 0 and data.loc[idx - 1, 'type'] != 'point':\n",
    "            drop_indices.append(idx)\n",
    "    data = data.drop(drop_indices)\n",
    "    data = data.reset_index(drop=True)\n",
    "    return data"
   ]
  },
  {
   "cell_type": "code",
   "execution_count": 4,
   "id": "8f4dffbb-31cf-4236-a7a7-ed53b2ec98b8",
   "metadata": {},
   "outputs": [],
   "source": [
    "# Make training and testing datasets\n",
    "def make_x_train(data: pd.DataFrame) -> pd.DataFrame:\n",
    "    cutoff = int(0.8 * data.shape[0])\n",
    "    if cutoff % 2 != 0:\n",
    "        cutoff = cutoff - 1\n",
    "    train_rows_df = data.iloc[:cutoff, :]\n",
    "    x_train = train_rows_df[train_rows_df.index % 2 == 0].reset_index(drop=True)\n",
    "    return x_train\n",
    "    \n",
    "def make_y_train(data: pd.DataFrame) -> pd.DataFrame:\n",
    "    cutoff = int(0.8 * data.shape[0])\n",
    "    if cutoff % 2 != 0:\n",
    "        cutoff = cutoff - 1\n",
    "    train_rows_df = data.iloc[:cutoff, :]\n",
    "    y_train = train_rows_df[train_rows_df.index % 2 != 0].reset_index(drop=True)\n",
    "    return y_train\n",
    "\n",
    "def make_x_test(data: pd.DataFrame) -> pd.DataFrame:\n",
    "    cutoff = int(0.8 * data.shape[0])\n",
    "    if cutoff % 2 != 0:\n",
    "        cutoff = cutoff - 1\n",
    "    test_rows_df = data.iloc[cutoff:, :]\n",
    "    x_test = test_rows_df[test_rows_df.index % 2 == 0].reset_index(drop=True)\n",
    "    return x_test\n",
    "\n",
    "def make_y_test(data: pd.DataFrame) -> pd.DataFrame:\n",
    "    cutoff = int(0.8 * data.shape[0])\n",
    "    if cutoff % 2 != 0:\n",
    "        cutoff = cutoff - 1\n",
    "    test_rows_df = data.iloc[cutoff:, :]\n",
    "    y_test = test_rows_df[test_rows_df.index % 2 != 0].reset_index(drop=True)\n",
    "    return y_test"
   ]
  },
  {
   "cell_type": "markdown",
   "id": "e0beb081-2126-4a1a-bc5e-5fc775407314",
   "metadata": {},
   "source": [
    "#### Global data"
   ]
  },
  {
   "cell_type": "code",
   "execution_count": 5,
   "id": "189ca924-572d-4b56-9288-5dd0a03b6782",
   "metadata": {},
   "outputs": [],
   "source": [
    "global_embeddings_data = pd.read_pickle(\"../data_dump/embeddings_dump/global_embeddings.pkl\")"
   ]
  },
  {
   "cell_type": "code",
   "execution_count": 6,
   "id": "32fbc58f-b070-40c3-a1b9-820a9f8616f6",
   "metadata": {},
   "outputs": [],
   "source": [
    "global_training_df = prepare_training_df(global_embeddings_data)"
   ]
  },
  {
   "cell_type": "code",
   "execution_count": 7,
   "id": "ba13fea2-4018-471a-929d-a7dffb83af42",
   "metadata": {},
   "outputs": [],
   "source": [
    "global_x_train = make_x_train(global_training_df)"
   ]
  },
  {
   "cell_type": "code",
   "execution_count": 8,
   "id": "6ddf9949-701d-4722-88c8-eee4d2e39828",
   "metadata": {},
   "outputs": [],
   "source": [
    "global_y_train = make_y_train(global_training_df)"
   ]
  },
  {
   "cell_type": "code",
   "execution_count": 9,
   "id": "ea9a7137-fc4e-4b3a-9696-90c8ad10f795",
   "metadata": {},
   "outputs": [],
   "source": [
    "global_x_test = make_x_test(global_training_df)"
   ]
  },
  {
   "cell_type": "code",
   "execution_count": 10,
   "id": "9834f07d-9e2c-4046-86d2-29db8cb2ae5d",
   "metadata": {},
   "outputs": [],
   "source": [
    "global_y_test = make_y_test(global_training_df)"
   ]
  },
  {
   "cell_type": "code",
   "execution_count": 11,
   "id": "5d54a04a-d779-45af-a297-3356e8c6adf3",
   "metadata": {},
   "outputs": [],
   "source": [
    "global_y_train_test = pd.concat([global_y_train, global_y_test], axis=0)"
   ]
  },
  {
   "cell_type": "markdown",
   "id": "c47aa916-847b-4567-bd68-5cedaebea19a",
   "metadata": {},
   "source": [
    "#### Global data shuffled"
   ]
  },
  {
   "cell_type": "code",
   "execution_count": 12,
   "id": "0a44df78-8d41-40be-9c08-f38e48fc075d",
   "metadata": {},
   "outputs": [],
   "source": [
    "global_training_df_shuffled = prepare_training_df_shuffled(global_embeddings_data)"
   ]
  },
  {
   "cell_type": "code",
   "execution_count": 13,
   "id": "9e08cd74-7f3e-4be7-8d19-f5b43cecca2e",
   "metadata": {
    "scrolled": true
   },
   "outputs": [],
   "source": [
    "global_y_train_shuffled = make_y_train(global_training_df_shuffled)"
   ]
  },
  {
   "cell_type": "code",
   "execution_count": 14,
   "id": "45961bd5-55e4-4e29-b785-4f03007f9f73",
   "metadata": {
    "scrolled": true
   },
   "outputs": [],
   "source": [
    "global_y_train_shuffled = global_y_train_shuffled.groupby(['topic'], sort=False)\n",
    "global_y_train_shuffled = global_y_train_shuffled.sample(frac=1).reset_index(drop=True)\n",
    "global_y_train_shuffled = global_y_train_shuffled.select_dtypes(include=[np.number])"
   ]
  },
  {
   "cell_type": "markdown",
   "id": "597d7170-ccb1-42dc-adbf-74c10e3d167e",
   "metadata": {},
   "source": [
    "#### Category Data (Economy)"
   ]
  },
  {
   "cell_type": "code",
   "execution_count": 15,
   "id": "063ce863-2c1b-4923-a4a6-5292b4eb46ed",
   "metadata": {},
   "outputs": [],
   "source": [
    "economy_embeddings_data = pd.read_pickle(\"../data_dump/embeddings_dump/economy/economy_embeddings.pkl\")"
   ]
  },
  {
   "cell_type": "code",
   "execution_count": 16,
   "id": "da8f6826-fd45-42a9-ad58-128c029e1765",
   "metadata": {},
   "outputs": [],
   "source": [
    "economy_training_df = prepare_training_df(economy_embeddings_data)\n",
    "economy_x_train = make_x_train(economy_training_df)\n",
    "economy_y_train = make_y_train(economy_training_df)\n",
    "economy_x_test = make_x_test(economy_training_df)\n",
    "economy_y_test = make_y_test(economy_training_df)"
   ]
  },
  {
   "cell_type": "markdown",
   "id": "f95100c2-7782-4acd-9a0d-699223584b59",
   "metadata": {
    "jp-MarkdownHeadingCollapsed": true
   },
   "source": [
    "#### Debate Data (Economy)"
   ]
  },
  {
   "cell_type": "code",
   "execution_count": 15,
   "id": "8b961764-4605-47a6-87e8-817eeffe7470",
   "metadata": {},
   "outputs": [],
   "source": [
    "economy_debate_embeddings_data = pd.read_pickle(\"../data_dump/embeddings_dump/economy/business_economy_general_house_would_prohibit_retailers_selling_certain_items_embeddings.pkl\")"
   ]
  },
  {
   "cell_type": "code",
   "execution_count": 16,
   "id": "3ed1f1ce-df8b-4f66-b70a-9888cfd28b65",
   "metadata": {},
   "outputs": [],
   "source": [
    "economy_debate_training_df = prepare_training_df(economy_debate_embeddings_data)\n",
    "economy_debate_x_train = make_x_train(economy_debate_training_df)\n",
    "economy_debate_y_train = make_y_train(economy_debate_training_df)\n",
    "economy_debate_x_test = make_x_test(economy_debate_training_df)\n",
    "economy_debate_y_test = make_y_test(economy_debate_training_df)"
   ]
  },
  {
   "cell_type": "markdown",
   "id": "ff884757-cec0-4a6f-9aa9-adf6da62b03e",
   "metadata": {},
   "source": [
    "## Model"
   ]
  },
  {
   "cell_type": "code",
   "execution_count": 17,
   "id": "92def071-b058-49c3-9573-6ee31d041244",
   "metadata": {},
   "outputs": [],
   "source": [
    "# Layers\n",
    "input_layer = tf.keras.layers.Input(shape=(1536, ), name=\"Input\")\n",
    "hidden_layer = tf.keras.layers.Dense(units=1536, activation=\"relu\", name=\"Hidden\")(input_layer)\n",
    "output_layer = tf.keras.layers.Dense(units=1536, activation=\"linear\", name=\"Output\")(hidden_layer)"
   ]
  },
  {
   "cell_type": "code",
   "execution_count": 18,
   "id": "3eee1114-bf20-4fa0-9ece-a9fadccd9d00",
   "metadata": {
    "scrolled": true
   },
   "outputs": [
    {
     "name": "stdout",
     "output_type": "stream",
     "text": [
      "Model: \"model\"\n",
      "_________________________________________________________________\n",
      " Layer (type)                Output Shape              Param #   \n",
      "=================================================================\n",
      " Input (InputLayer)          [(None, 1536)]            0         \n",
      "                                                                 \n",
      " Hidden (Dense)              (None, 1536)              2360832   \n",
      "                                                                 \n",
      " Output (Dense)              (None, 1536)              2360832   \n",
      "                                                                 \n",
      "=================================================================\n",
      "Total params: 4721664 (18.01 MB)\n",
      "Trainable params: 4721664 (18.01 MB)\n",
      "Non-trainable params: 0 (0.00 Byte)\n",
      "_________________________________________________________________\n"
     ]
    }
   ],
   "source": [
    "# Model\n",
    "autoencoder_model = tf.keras.Model(inputs=input_layer, outputs=output_layer)\n",
    "autoencoder_model.summary()"
   ]
  },
  {
   "cell_type": "code",
   "execution_count": 19,
   "id": "953e0def-15fb-4bf6-8393-e2106f27ef2a",
   "metadata": {},
   "outputs": [],
   "source": [
    "\"\"\"\n",
    "global_metric\n",
    "\"\"\"\n",
    "@tf.keras.saving.register_keras_serializable()\n",
    "def metric_choose_argument_global_y_train(y_true, y_pred):\n",
    "    global_training_df_32 = tf.cast(global_training_df, dtype=tf.float32)\n",
    "    \n",
    "    cos_sim_pred = tf.matmul(global_training_df_32, y_pred, transpose_b=True) / tf.reshape(tf.norm(y_pred) * tf.norm(global_training_df_32, axis=1), [-1, 1])\n",
    "    cos_sim_true = tf.matmul(global_training_df_32, y_true, transpose_b=True) / tf.reshape(tf.norm(y_true) * tf.norm(global_training_df_32, axis=1), [-1, 1])\n",
    "\n",
    "    max_cos_sim_pred = tf.math.argmax(cos_sim_pred)\n",
    "    max_cos_sim_true = tf.math.argmax(cos_sim_true)\n",
    "\n",
    "    return tf.math.count_nonzero(tf.equal(max_cos_sim_pred, max_cos_sim_true))"
   ]
  },
  {
   "cell_type": "markdown",
   "id": "2cf3ede1-7c60-45d4-ae84-c2a525b39fc7",
   "metadata": {},
   "source": [
    "#### Global Training"
   ]
  },
  {
   "cell_type": "code",
   "execution_count": 20,
   "id": "e8d36670-a5cc-4e7e-bcbc-6f53eb5d5fe6",
   "metadata": {},
   "outputs": [],
   "source": [
    "# Global Model\n",
    "global_autoencoder_model = tf.keras.models.clone_model(autoencoder_model)\n",
    "global_autoencoder_model.compile(\n",
    "    optimizer=tf.keras.optimizers.Adam(learning_rate=1e-3),\n",
    "    loss=\"cosine_similarity\",\n",
    "    metrics=[metric_choose_argument_global_y_train]\n",
    ")"
   ]
  },
  {
   "cell_type": "code",
   "execution_count": 21,
   "id": "ab4f9337-5f8e-48ea-995d-444f82e27dd2",
   "metadata": {
    "scrolled": true
   },
   "outputs": [
    {
     "name": "stdout",
     "output_type": "stream",
     "text": [
      "Epoch 1/20\n",
      "3252/3252 [==============================] - ETA: 0s - loss: -0.8857 - metric_choose_argument_global_y_train: 0.0443\n",
      "Epoch 1: saving model to global_autoencoder_weights.keras\n",
      "3252/3252 [==============================] - 215s 64ms/step - loss: -0.8857 - metric_choose_argument_global_y_train: 0.0443 - val_loss: -0.8978 - val_metric_choose_argument_global_y_train: 0.0886\n",
      "Epoch 2/20\n",
      "3252/3252 [==============================] - ETA: 0s - loss: -0.9118 - metric_choose_argument_global_y_train: 0.1208\n",
      "Epoch 2: saving model to global_autoencoder_weights.keras\n",
      "3252/3252 [==============================] - 172s 53ms/step - loss: -0.9118 - metric_choose_argument_global_y_train: 0.1208 - val_loss: -0.9077 - val_metric_choose_argument_global_y_train: 0.1279\n",
      "Epoch 3/20\n",
      "3252/3252 [==============================] - ETA: 0s - loss: -0.9212 - metric_choose_argument_global_y_train: 0.1974\n",
      "Epoch 3: saving model to global_autoencoder_weights.keras\n",
      "3252/3252 [==============================] - 174s 54ms/step - loss: -0.9212 - metric_choose_argument_global_y_train: 0.1974 - val_loss: -0.9114 - val_metric_choose_argument_global_y_train: 0.1624\n",
      "Epoch 4/20\n",
      "3252/3252 [==============================] - ETA: 0s - loss: -0.9279 - metric_choose_argument_global_y_train: 0.2881\n",
      "Epoch 4: saving model to global_autoencoder_weights.keras\n",
      "3252/3252 [==============================] - 170s 52ms/step - loss: -0.9279 - metric_choose_argument_global_y_train: 0.2881 - val_loss: -0.9141 - val_metric_choose_argument_global_y_train: 0.1894\n",
      "Epoch 5/20\n",
      "3251/3252 [============================>.] - ETA: 0s - loss: -0.9333 - metric_choose_argument_global_y_train: 0.3916\n",
      "Epoch 5: saving model to global_autoencoder_weights.keras\n",
      "3252/3252 [==============================] - 173s 53ms/step - loss: -0.9333 - metric_choose_argument_global_y_train: 0.3918 - val_loss: -0.9156 - val_metric_choose_argument_global_y_train: 0.2312\n",
      "Epoch 6/20\n",
      "3252/3252 [==============================] - ETA: 0s - loss: -0.9377 - metric_choose_argument_global_y_train: 0.4828\n",
      "Epoch 6: saving model to global_autoencoder_weights.keras\n",
      "3252/3252 [==============================] - 168s 52ms/step - loss: -0.9377 - metric_choose_argument_global_y_train: 0.4828 - val_loss: -0.9165 - val_metric_choose_argument_global_y_train: 0.2558\n",
      "Epoch 7/20\n",
      "3252/3252 [==============================] - ETA: 0s - loss: -0.9412 - metric_choose_argument_global_y_train: 0.5732\n",
      "Epoch 7: saving model to global_autoencoder_weights.keras\n",
      "3252/3252 [==============================] - 179s 55ms/step - loss: -0.9412 - metric_choose_argument_global_y_train: 0.5732 - val_loss: -0.9166 - val_metric_choose_argument_global_y_train: 0.2768\n",
      "Epoch 8/20\n",
      "3251/3252 [============================>.] - ETA: 0s - loss: -0.9441 - metric_choose_argument_global_y_train: 0.6404\n",
      "Epoch 8: saving model to global_autoencoder_weights.keras\n",
      "3252/3252 [==============================] - 174s 54ms/step - loss: -0.9441 - metric_choose_argument_global_y_train: 0.6402 - val_loss: -0.9173 - val_metric_choose_argument_global_y_train: 0.3063\n",
      "Epoch 9/20\n",
      "3252/3252 [==============================] - ETA: 0s - loss: -0.9466 - metric_choose_argument_global_y_train: 0.7066\n",
      "Epoch 9: saving model to global_autoencoder_weights.keras\n",
      "3252/3252 [==============================] - 163s 50ms/step - loss: -0.9466 - metric_choose_argument_global_y_train: 0.7066 - val_loss: -0.9176 - val_metric_choose_argument_global_y_train: 0.3149\n",
      "Epoch 10/20\n",
      "3252/3252 [==============================] - ETA: 0s - loss: -0.9486 - metric_choose_argument_global_y_train: 0.7414\n",
      "Epoch 10: saving model to global_autoencoder_weights.keras\n",
      "3252/3252 [==============================] - 178s 55ms/step - loss: -0.9486 - metric_choose_argument_global_y_train: 0.7414 - val_loss: -0.9179 - val_metric_choose_argument_global_y_train: 0.3321\n",
      "Epoch 11/20\n",
      "3252/3252 [==============================] - ETA: 0s - loss: -0.9504 - metric_choose_argument_global_y_train: 0.7872\n",
      "Epoch 11: saving model to global_autoencoder_weights.keras\n",
      "3252/3252 [==============================] - 179s 55ms/step - loss: -0.9504 - metric_choose_argument_global_y_train: 0.7872 - val_loss: -0.9176 - val_metric_choose_argument_global_y_train: 0.3432\n",
      "Epoch 12/20\n",
      "3252/3252 [==============================] - ETA: 0s - loss: -0.9520 - metric_choose_argument_global_y_train: 0.8152\n",
      "Epoch 12: saving model to global_autoencoder_weights.keras\n",
      "3252/3252 [==============================] - 158s 48ms/step - loss: -0.9520 - metric_choose_argument_global_y_train: 0.8152 - val_loss: -0.9174 - val_metric_choose_argument_global_y_train: 0.3506\n",
      "Epoch 13/20\n",
      "3251/3252 [============================>.] - ETA: 0s - loss: -0.9533 - metric_choose_argument_global_y_train: 0.8317\n",
      "Epoch 13: saving model to global_autoencoder_weights.keras\n",
      "3252/3252 [==============================] - 180s 55ms/step - loss: -0.9534 - metric_choose_argument_global_y_train: 0.8318 - val_loss: -0.9176 - val_metric_choose_argument_global_y_train: 0.3530\n",
      "Epoch 14/20\n",
      "3251/3252 [============================>.] - ETA: 0s - loss: -0.9546 - metric_choose_argument_global_y_train: 0.8499\n",
      "Epoch 14: saving model to global_autoencoder_weights.keras\n",
      "3252/3252 [==============================] - 165s 51ms/step - loss: -0.9546 - metric_choose_argument_global_y_train: 0.8499 - val_loss: -0.9174 - val_metric_choose_argument_global_y_train: 0.3653\n",
      "Epoch 15/20\n",
      "3252/3252 [==============================] - ETA: 0s - loss: -0.9557 - metric_choose_argument_global_y_train: 0.8638\n",
      "Epoch 15: saving model to global_autoencoder_weights.keras\n",
      "3252/3252 [==============================] - 176s 54ms/step - loss: -0.9557 - metric_choose_argument_global_y_train: 0.8638 - val_loss: -0.9178 - val_metric_choose_argument_global_y_train: 0.3690\n",
      "Epoch 16/20\n",
      "3252/3252 [==============================] - ETA: 0s - loss: -0.9566 - metric_choose_argument_global_y_train: 0.8662\n",
      "Epoch 16: saving model to global_autoencoder_weights.keras\n",
      "3252/3252 [==============================] - 176s 54ms/step - loss: -0.9566 - metric_choose_argument_global_y_train: 0.8662 - val_loss: -0.9167 - val_metric_choose_argument_global_y_train: 0.3641\n",
      "Epoch 17/20\n",
      "3252/3252 [==============================] - ETA: 0s - loss: -0.9575 - metric_choose_argument_global_y_train: 0.8788\n",
      "Epoch 17: saving model to global_autoencoder_weights.keras\n",
      "3252/3252 [==============================] - 180s 55ms/step - loss: -0.9575 - metric_choose_argument_global_y_train: 0.8788 - val_loss: -0.9172 - val_metric_choose_argument_global_y_train: 0.3665\n",
      "Epoch 18/20\n",
      "3251/3252 [============================>.] - ETA: 0s - loss: -0.9583 - metric_choose_argument_global_y_train: 0.8825\n",
      "Epoch 18: saving model to global_autoencoder_weights.keras\n",
      "3252/3252 [==============================] - 165s 51ms/step - loss: -0.9583 - metric_choose_argument_global_y_train: 0.8825 - val_loss: -0.9174 - val_metric_choose_argument_global_y_train: 0.3739\n",
      "Epoch 19/20\n",
      "3252/3252 [==============================] - ETA: 0s - loss: -0.9591 - metric_choose_argument_global_y_train: 0.8841\n",
      "Epoch 19: saving model to global_autoencoder_weights.keras\n",
      "3252/3252 [==============================] - 159s 49ms/step - loss: -0.9591 - metric_choose_argument_global_y_train: 0.8841 - val_loss: -0.9170 - val_metric_choose_argument_global_y_train: 0.3764\n",
      "Epoch 20/20\n",
      "3251/3252 [============================>.] - ETA: 0s - loss: -0.9597 - metric_choose_argument_global_y_train: 0.8896\n",
      "Epoch 20: saving model to global_autoencoder_weights.keras\n",
      "3252/3252 [==============================] - 163s 50ms/step - loss: -0.9597 - metric_choose_argument_global_y_train: 0.8896 - val_loss: -0.9164 - val_metric_choose_argument_global_y_train: 0.3776\n"
     ]
    }
   ],
   "source": [
    "checkpoint_callback = ModelCheckpoint(filepath='global_autoencoder_weights.keras', save_best_only=False, save_weights_only=False, verbose=1)\n",
    "csv_logger_callback = CSVLogger(filename='global_training_log.csv', separator=',', append=True)\n",
    "global_history = global_autoencoder_model.fit(\n",
    "    x=global_x_train,\n",
    "    y=global_y_train,\n",
    "    batch_size=1,\n",
    "    epochs=20,\n",
    "    validation_data = (global_x_test, global_y_test),\n",
    "    callbacks=[checkpoint_callback, csv_logger_callback]\n",
    ")"
   ]
  },
  {
   "cell_type": "code",
   "execution_count": 91,
   "id": "fa362204-e8f0-4894-b526-b99e560e4d4d",
   "metadata": {},
   "outputs": [],
   "source": [
    "global_history_df = pd.DataFrame(global_history.history)"
   ]
  },
  {
   "cell_type": "code",
   "execution_count": 92,
   "id": "336a4b91-c030-49f1-aae0-cd32fc5462da",
   "metadata": {},
   "outputs": [],
   "source": [
    "global_history_df.to_csv(\"./global_training_log.csv\")"
   ]
  },
  {
   "cell_type": "code",
   "execution_count": 114,
   "id": "f6096f95-2d3d-43fd-9675-13b2e2ff1a28",
   "metadata": {},
   "outputs": [],
   "source": [
    "global_autoencoder_model.save('global_autoencoder_model.keras')"
   ]
  },
  {
   "cell_type": "code",
   "execution_count": 3,
   "id": "3bce8a2b-e99c-4718-b2ed-445622266ea4",
   "metadata": {
    "scrolled": true
   },
   "outputs": [],
   "source": [
    "# Access training history\n",
    "loaded_global_history = pd.DataFrame(pd.read_csv(\"./global_training_log.csv\"))\n",
    "loaded_global_history = pd.melt(loaded_global_history, id_vars='Unnamed: 0', value_vars=['metric_choose_argument_global_y_train', 'val_metric_choose_argument_global_y_train'], var_name='dataset', value_name='accuracy')\n",
    "loaded_global_history = loaded_global_history.replace(['metric_choose_argument_global_y_train', 'val_metric_choose_argument_global_y_train'], ['training set', 'validation set'])\n",
    "loaded_global_history.rename(columns = {'Unnamed: 0':'epoch'}, inplace = True) \n",
    "loaded_global_history['shuffled'] = False"
   ]
  },
  {
   "cell_type": "code",
   "execution_count": 172,
   "id": "351e40e3-8982-4967-a53d-65986f82966e",
   "metadata": {
    "scrolled": true
   },
   "outputs": [
    {
     "data": {
      "text/html": [
       "<div>\n",
       "<style scoped>\n",
       "    .dataframe tbody tr th:only-of-type {\n",
       "        vertical-align: middle;\n",
       "    }\n",
       "\n",
       "    .dataframe tbody tr th {\n",
       "        vertical-align: top;\n",
       "    }\n",
       "\n",
       "    .dataframe thead th {\n",
       "        text-align: right;\n",
       "    }\n",
       "</style>\n",
       "<table border=\"1\" class=\"dataframe\">\n",
       "  <thead>\n",
       "    <tr style=\"text-align: right;\">\n",
       "      <th></th>\n",
       "      <th>epoch</th>\n",
       "      <th>dataset</th>\n",
       "      <th>accuracy</th>\n",
       "      <th>shuffled</th>\n",
       "    </tr>\n",
       "  </thead>\n",
       "  <tbody>\n",
       "    <tr>\n",
       "      <th>0</th>\n",
       "      <td>0</td>\n",
       "      <td>training set</td>\n",
       "      <td>0.040283</td>\n",
       "      <td>False</td>\n",
       "    </tr>\n",
       "    <tr>\n",
       "      <th>1</th>\n",
       "      <td>1</td>\n",
       "      <td>training set</td>\n",
       "      <td>0.124231</td>\n",
       "      <td>False</td>\n",
       "    </tr>\n",
       "    <tr>\n",
       "      <th>2</th>\n",
       "      <td>2</td>\n",
       "      <td>training set</td>\n",
       "      <td>0.200800</td>\n",
       "      <td>False</td>\n",
       "    </tr>\n",
       "    <tr>\n",
       "      <th>3</th>\n",
       "      <td>3</td>\n",
       "      <td>training set</td>\n",
       "      <td>0.281058</td>\n",
       "      <td>False</td>\n",
       "    </tr>\n",
       "    <tr>\n",
       "      <th>4</th>\n",
       "      <td>4</td>\n",
       "      <td>training set</td>\n",
       "      <td>0.382226</td>\n",
       "      <td>False</td>\n",
       "    </tr>\n",
       "    <tr>\n",
       "      <th>5</th>\n",
       "      <td>5</td>\n",
       "      <td>training set</td>\n",
       "      <td>0.472940</td>\n",
       "      <td>False</td>\n",
       "    </tr>\n",
       "    <tr>\n",
       "      <th>6</th>\n",
       "      <td>6</td>\n",
       "      <td>training set</td>\n",
       "      <td>0.554428</td>\n",
       "      <td>False</td>\n",
       "    </tr>\n",
       "    <tr>\n",
       "      <th>7</th>\n",
       "      <td>7</td>\n",
       "      <td>training set</td>\n",
       "      <td>0.624231</td>\n",
       "      <td>False</td>\n",
       "    </tr>\n",
       "    <tr>\n",
       "      <th>8</th>\n",
       "      <td>8</td>\n",
       "      <td>training set</td>\n",
       "      <td>0.688192</td>\n",
       "      <td>False</td>\n",
       "    </tr>\n",
       "    <tr>\n",
       "      <th>9</th>\n",
       "      <td>9</td>\n",
       "      <td>training set</td>\n",
       "      <td>0.735855</td>\n",
       "      <td>False</td>\n",
       "    </tr>\n",
       "    <tr>\n",
       "      <th>10</th>\n",
       "      <td>10</td>\n",
       "      <td>training set</td>\n",
       "      <td>0.769373</td>\n",
       "      <td>False</td>\n",
       "    </tr>\n",
       "    <tr>\n",
       "      <th>11</th>\n",
       "      <td>11</td>\n",
       "      <td>training set</td>\n",
       "      <td>0.800123</td>\n",
       "      <td>False</td>\n",
       "    </tr>\n",
       "    <tr>\n",
       "      <th>12</th>\n",
       "      <td>12</td>\n",
       "      <td>training set</td>\n",
       "      <td>0.823493</td>\n",
       "      <td>False</td>\n",
       "    </tr>\n",
       "    <tr>\n",
       "      <th>13</th>\n",
       "      <td>13</td>\n",
       "      <td>training set</td>\n",
       "      <td>0.841636</td>\n",
       "      <td>False</td>\n",
       "    </tr>\n",
       "    <tr>\n",
       "      <th>14</th>\n",
       "      <td>14</td>\n",
       "      <td>training set</td>\n",
       "      <td>0.861624</td>\n",
       "      <td>False</td>\n",
       "    </tr>\n",
       "    <tr>\n",
       "      <th>15</th>\n",
       "      <td>15</td>\n",
       "      <td>training set</td>\n",
       "      <td>0.862546</td>\n",
       "      <td>False</td>\n",
       "    </tr>\n",
       "    <tr>\n",
       "      <th>16</th>\n",
       "      <td>16</td>\n",
       "      <td>training set</td>\n",
       "      <td>0.871156</td>\n",
       "      <td>False</td>\n",
       "    </tr>\n",
       "    <tr>\n",
       "      <th>17</th>\n",
       "      <td>17</td>\n",
       "      <td>training set</td>\n",
       "      <td>0.879766</td>\n",
       "      <td>False</td>\n",
       "    </tr>\n",
       "    <tr>\n",
       "      <th>18</th>\n",
       "      <td>18</td>\n",
       "      <td>training set</td>\n",
       "      <td>0.880381</td>\n",
       "      <td>False</td>\n",
       "    </tr>\n",
       "    <tr>\n",
       "      <th>19</th>\n",
       "      <td>19</td>\n",
       "      <td>training set</td>\n",
       "      <td>0.887761</td>\n",
       "      <td>False</td>\n",
       "    </tr>\n",
       "    <tr>\n",
       "      <th>20</th>\n",
       "      <td>0</td>\n",
       "      <td>validation set</td>\n",
       "      <td>0.089791</td>\n",
       "      <td>False</td>\n",
       "    </tr>\n",
       "    <tr>\n",
       "      <th>21</th>\n",
       "      <td>1</td>\n",
       "      <td>validation set</td>\n",
       "      <td>0.138991</td>\n",
       "      <td>False</td>\n",
       "    </tr>\n",
       "    <tr>\n",
       "      <th>22</th>\n",
       "      <td>2</td>\n",
       "      <td>validation set</td>\n",
       "      <td>0.147601</td>\n",
       "      <td>False</td>\n",
       "    </tr>\n",
       "    <tr>\n",
       "      <th>23</th>\n",
       "      <td>3</td>\n",
       "      <td>validation set</td>\n",
       "      <td>0.193112</td>\n",
       "      <td>False</td>\n",
       "    </tr>\n",
       "    <tr>\n",
       "      <th>24</th>\n",
       "      <td>4</td>\n",
       "      <td>validation set</td>\n",
       "      <td>0.218942</td>\n",
       "      <td>False</td>\n",
       "    </tr>\n",
       "    <tr>\n",
       "      <th>25</th>\n",
       "      <td>5</td>\n",
       "      <td>validation set</td>\n",
       "      <td>0.248462</td>\n",
       "      <td>False</td>\n",
       "    </tr>\n",
       "    <tr>\n",
       "      <th>26</th>\n",
       "      <td>6</td>\n",
       "      <td>validation set</td>\n",
       "      <td>0.293973</td>\n",
       "      <td>False</td>\n",
       "    </tr>\n",
       "    <tr>\n",
       "      <th>27</th>\n",
       "      <td>7</td>\n",
       "      <td>validation set</td>\n",
       "      <td>0.303813</td>\n",
       "      <td>False</td>\n",
       "    </tr>\n",
       "    <tr>\n",
       "      <th>28</th>\n",
       "      <td>8</td>\n",
       "      <td>validation set</td>\n",
       "      <td>0.322263</td>\n",
       "      <td>False</td>\n",
       "    </tr>\n",
       "    <tr>\n",
       "      <th>29</th>\n",
       "      <td>9</td>\n",
       "      <td>validation set</td>\n",
       "      <td>0.328413</td>\n",
       "      <td>False</td>\n",
       "    </tr>\n",
       "    <tr>\n",
       "      <th>30</th>\n",
       "      <td>10</td>\n",
       "      <td>validation set</td>\n",
       "      <td>0.335793</td>\n",
       "      <td>False</td>\n",
       "    </tr>\n",
       "    <tr>\n",
       "      <th>31</th>\n",
       "      <td>11</td>\n",
       "      <td>validation set</td>\n",
       "      <td>0.349323</td>\n",
       "      <td>False</td>\n",
       "    </tr>\n",
       "    <tr>\n",
       "      <th>32</th>\n",
       "      <td>12</td>\n",
       "      <td>validation set</td>\n",
       "      <td>0.364084</td>\n",
       "      <td>False</td>\n",
       "    </tr>\n",
       "    <tr>\n",
       "      <th>33</th>\n",
       "      <td>13</td>\n",
       "      <td>validation set</td>\n",
       "      <td>0.360394</td>\n",
       "      <td>False</td>\n",
       "    </tr>\n",
       "    <tr>\n",
       "      <th>34</th>\n",
       "      <td>14</td>\n",
       "      <td>validation set</td>\n",
       "      <td>0.366544</td>\n",
       "      <td>False</td>\n",
       "    </tr>\n",
       "    <tr>\n",
       "      <th>35</th>\n",
       "      <td>15</td>\n",
       "      <td>validation set</td>\n",
       "      <td>0.364084</td>\n",
       "      <td>False</td>\n",
       "    </tr>\n",
       "    <tr>\n",
       "      <th>36</th>\n",
       "      <td>16</td>\n",
       "      <td>validation set</td>\n",
       "      <td>0.369004</td>\n",
       "      <td>False</td>\n",
       "    </tr>\n",
       "    <tr>\n",
       "      <th>37</th>\n",
       "      <td>17</td>\n",
       "      <td>validation set</td>\n",
       "      <td>0.366544</td>\n",
       "      <td>False</td>\n",
       "    </tr>\n",
       "    <tr>\n",
       "      <th>38</th>\n",
       "      <td>18</td>\n",
       "      <td>validation set</td>\n",
       "      <td>0.369004</td>\n",
       "      <td>False</td>\n",
       "    </tr>\n",
       "    <tr>\n",
       "      <th>39</th>\n",
       "      <td>19</td>\n",
       "      <td>validation set</td>\n",
       "      <td>0.376384</td>\n",
       "      <td>False</td>\n",
       "    </tr>\n",
       "  </tbody>\n",
       "</table>\n",
       "</div>"
      ],
      "text/plain": [
       "    epoch         dataset  accuracy  shuffled\n",
       "0       0    training set  0.040283     False\n",
       "1       1    training set  0.124231     False\n",
       "2       2    training set  0.200800     False\n",
       "3       3    training set  0.281058     False\n",
       "4       4    training set  0.382226     False\n",
       "5       5    training set  0.472940     False\n",
       "6       6    training set  0.554428     False\n",
       "7       7    training set  0.624231     False\n",
       "8       8    training set  0.688192     False\n",
       "9       9    training set  0.735855     False\n",
       "10     10    training set  0.769373     False\n",
       "11     11    training set  0.800123     False\n",
       "12     12    training set  0.823493     False\n",
       "13     13    training set  0.841636     False\n",
       "14     14    training set  0.861624     False\n",
       "15     15    training set  0.862546     False\n",
       "16     16    training set  0.871156     False\n",
       "17     17    training set  0.879766     False\n",
       "18     18    training set  0.880381     False\n",
       "19     19    training set  0.887761     False\n",
       "20      0  validation set  0.089791     False\n",
       "21      1  validation set  0.138991     False\n",
       "22      2  validation set  0.147601     False\n",
       "23      3  validation set  0.193112     False\n",
       "24      4  validation set  0.218942     False\n",
       "25      5  validation set  0.248462     False\n",
       "26      6  validation set  0.293973     False\n",
       "27      7  validation set  0.303813     False\n",
       "28      8  validation set  0.322263     False\n",
       "29      9  validation set  0.328413     False\n",
       "30     10  validation set  0.335793     False\n",
       "31     11  validation set  0.349323     False\n",
       "32     12  validation set  0.364084     False\n",
       "33     13  validation set  0.360394     False\n",
       "34     14  validation set  0.366544     False\n",
       "35     15  validation set  0.364084     False\n",
       "36     16  validation set  0.369004     False\n",
       "37     17  validation set  0.366544     False\n",
       "38     18  validation set  0.369004     False\n",
       "39     19  validation set  0.376384     False"
      ]
     },
     "execution_count": 172,
     "metadata": {},
     "output_type": "execute_result"
    }
   ],
   "source": [
    "loaded_global_history"
   ]
  },
  {
   "cell_type": "code",
   "execution_count": 154,
   "id": "cfd55739-2fa0-434c-beef-64be4e2b4e99",
   "metadata": {},
   "outputs": [
    {
     "name": "stderr",
     "output_type": "stream",
     "text": [
      "/usr/local/lib/python3.11/site-packages/plotnine/ggplot.py:587: PlotnineWarning: Saving 6.4 x 4.8 in image.\n",
      "/usr/local/lib/python3.11/site-packages/plotnine/ggplot.py:588: PlotnineWarning: Filename: ../data_dump/training_plots_dump/global_training_plot.png\n"
     ]
    }
   ],
   "source": [
    "global_training_plot = ggplot(loaded_global_history, aes(x='epoch', y='accuracy', linetype='dataset')) + geom_line() + labs(title='Learning Curve of Model Trained on Unshuffled Data', x='Epoch', y='Accuracy')\n",
    "ggsave(global_training_plot, \"../data_dump/training_plots_dump/global_training_plot.png\")"
   ]
  },
  {
   "cell_type": "markdown",
   "id": "d5b0cabd-28d9-4e8c-a775-59346bcf37a3",
   "metadata": {},
   "source": [
    "#### Global Shuffled Training"
   ]
  },
  {
   "cell_type": "code",
   "execution_count": null,
   "id": "9887abb8-c075-46b4-9eee-b28922a61575",
   "metadata": {},
   "outputs": [
    {
     "name": "stdout",
     "output_type": "stream",
     "text": [
      "Epoch 1/20\n",
      "3252/3252 [==============================] - 189s 56ms/step - loss: -0.8765 - metric_choose_argument_global_y_train: 0.0101 - val_loss: -0.8896 - val_metric_choose_argument_global_y_train: 0.0271\n",
      "Epoch 2/20\n",
      "3252/3252 [==============================] - 174s 53ms/step - loss: -0.8989 - metric_choose_argument_global_y_train: 0.0311 - val_loss: -0.8995 - val_metric_choose_argument_global_y_train: 0.0615\n",
      "Epoch 3/20\n",
      "3252/3252 [==============================] - 179s 55ms/step - loss: -0.9075 - metric_choose_argument_global_y_train: 0.0498 - val_loss: -0.9012 - val_metric_choose_argument_global_y_train: 0.0590\n",
      "Epoch 4/20\n",
      "3252/3252 [==============================] - 180s 55ms/step - loss: -0.9135 - metric_choose_argument_global_y_train: 0.0793 - val_loss: -0.9035 - val_metric_choose_argument_global_y_train: 0.0787\n",
      "Epoch 5/20\n",
      "3252/3252 [==============================] - 178s 55ms/step - loss: -0.9180 - metric_choose_argument_global_y_train: 0.1147 - val_loss: -0.9045 - val_metric_choose_argument_global_y_train: 0.0812\n",
      "Epoch 6/20\n",
      "3252/3252 [==============================] - 180s 55ms/step - loss: -0.9219 - metric_choose_argument_global_y_train: 0.1562 - val_loss: -0.9041 - val_metric_choose_argument_global_y_train: 0.0689\n",
      "Epoch 7/20\n",
      "3252/3252 [==============================] - 177s 55ms/step - loss: -0.9251 - metric_choose_argument_global_y_train: 0.2036 - val_loss: -0.9026 - val_metric_choose_argument_global_y_train: 0.0689\n",
      "Epoch 8/20\n",
      "3252/3252 [==============================] - 1444s 444ms/step - loss: -0.9279 - metric_choose_argument_global_y_train: 0.2691 - val_loss: -0.9017 - val_metric_choose_argument_global_y_train: 0.0664\n",
      "Epoch 9/20\n",
      "3252/3252 [==============================] - 239s 74ms/step - loss: -0.9302 - metric_choose_argument_global_y_train: 0.3361 - val_loss: -0.9016 - val_metric_choose_argument_global_y_train: 0.0812\n",
      "Epoch 10/20\n",
      "3252/3252 [==============================] - 181s 56ms/step - loss: -0.9323 - metric_choose_argument_global_y_train: 0.3878 - val_loss: -0.8989 - val_metric_choose_argument_global_y_train: 0.0713\n",
      "Epoch 11/20\n",
      "3252/3252 [==============================] - 167s 51ms/step - loss: -0.9341 - metric_choose_argument_global_y_train: 0.4468 - val_loss: -0.8981 - val_metric_choose_argument_global_y_train: 0.0750\n",
      "Epoch 12/20\n",
      "3252/3252 [==============================] - 173s 53ms/step - loss: -0.9357 - metric_choose_argument_global_y_train: 0.4895 - val_loss: -0.8975 - val_metric_choose_argument_global_y_train: 0.0689\n",
      "Epoch 13/20\n",
      "3252/3252 [==============================] - 165s 51ms/step - loss: -0.9371 - metric_choose_argument_global_y_train: 0.5341 - val_loss: -0.8967 - val_metric_choose_argument_global_y_train: 0.0689\n",
      "Epoch 14/20\n",
      "3252/3252 [==============================] - 162s 50ms/step - loss: -0.9383 - metric_choose_argument_global_y_train: 0.5652 - val_loss: -0.8946 - val_metric_choose_argument_global_y_train: 0.0677\n",
      "Epoch 15/20\n",
      "3252/3252 [==============================] - 160s 49ms/step - loss: -0.9394 - metric_choose_argument_global_y_train: 0.5898 - val_loss: -0.8942 - val_metric_choose_argument_global_y_train: 0.0664\n",
      "Epoch 16/20\n",
      "3252/3252 [==============================] - 159s 49ms/step - loss: -0.9404 - metric_choose_argument_global_y_train: 0.6110 - val_loss: -0.8935 - val_metric_choose_argument_global_y_train: 0.0603\n",
      "Epoch 17/20\n",
      "2307/3252 [====================>.........] - ETA: 44s - loss: -0.9424 - metric_choose_argument_global_y_train: 0.6519"
     ]
    }
   ],
   "source": [
    "# Global Shuffled Model\n",
    "\n",
    "global_shuffled_autoencoder_model = tf.keras.models.clone_model(autoencoder_model)\n",
    "global_shuffled_autoencoder_model.compile(\n",
    "    optimizer=tf.keras.optimizers.Adam(learning_rate=1e-3),\n",
    "    loss=\"cosine_similarity\",\n",
    "    metrics=[metric_choose_argument_global_y_train]\n",
    ")\n",
    "\n",
    "global_shuffled_history = global_shuffled_autoencoder_model.fit(\n",
    "    x=global_x_train,\n",
    "    y=global_y_train_shuffled,\n",
    "    batch_size=1,\n",
    "    epochs=20,\n",
    "    validation_data = (global_x_test, global_y_test)\n",
    ")"
   ]
  },
  {
   "cell_type": "code",
   "execution_count": 174,
   "id": "204baafa-4959-4986-8828-f37da6714388",
   "metadata": {},
   "outputs": [],
   "source": [
    "loaded_global_shuffled_history = pd.read_csv(\"./global_training_shuffled_log.csv\")"
   ]
  },
  {
   "cell_type": "code",
   "execution_count": 175,
   "id": "7384e6be-677e-4ff7-8700-046c969a6e13",
   "metadata": {},
   "outputs": [],
   "source": [
    "loaded_global_shuffled_history = loaded_global_shuffled_history.loc[0:19]\n",
    "loaded_global_shuffled_history = pd.melt(loaded_global_shuffled_history, id_vars='epoch', value_vars=['metric_choose_argument_global_y_train', 'val_metric_choose_argument_global_y_train'], var_name='dataset', value_name='accuracy')\n",
    "loaded_global_shuffled_history = loaded_global_shuffled_history.replace(['metric_choose_argument_global_y_train', 'val_metric_choose_argument_global_y_train'], ['training set', 'validation set'])\n",
    "loaded_global_shuffled_history['shuffled'] = True"
   ]
  },
  {
   "cell_type": "code",
   "execution_count": 176,
   "id": "2dd85a79-a5de-4dcb-993a-55a5e1f112a1",
   "metadata": {
    "scrolled": true
   },
   "outputs": [
    {
     "data": {
      "text/html": [
       "<div>\n",
       "<style scoped>\n",
       "    .dataframe tbody tr th:only-of-type {\n",
       "        vertical-align: middle;\n",
       "    }\n",
       "\n",
       "    .dataframe tbody tr th {\n",
       "        vertical-align: top;\n",
       "    }\n",
       "\n",
       "    .dataframe thead th {\n",
       "        text-align: right;\n",
       "    }\n",
       "</style>\n",
       "<table border=\"1\" class=\"dataframe\">\n",
       "  <thead>\n",
       "    <tr style=\"text-align: right;\">\n",
       "      <th></th>\n",
       "      <th>epoch</th>\n",
       "      <th>dataset</th>\n",
       "      <th>accuracy</th>\n",
       "      <th>shuffled</th>\n",
       "    </tr>\n",
       "  </thead>\n",
       "  <tbody>\n",
       "    <tr>\n",
       "      <th>0</th>\n",
       "      <td>0</td>\n",
       "      <td>training set</td>\n",
       "      <td>0.012608</td>\n",
       "      <td>True</td>\n",
       "    </tr>\n",
       "    <tr>\n",
       "      <th>1</th>\n",
       "      <td>1</td>\n",
       "      <td>training set</td>\n",
       "      <td>0.035363</td>\n",
       "      <td>True</td>\n",
       "    </tr>\n",
       "    <tr>\n",
       "      <th>2</th>\n",
       "      <td>2</td>\n",
       "      <td>training set</td>\n",
       "      <td>0.048893</td>\n",
       "      <td>True</td>\n",
       "    </tr>\n",
       "    <tr>\n",
       "      <th>3</th>\n",
       "      <td>3</td>\n",
       "      <td>training set</td>\n",
       "      <td>0.073801</td>\n",
       "      <td>True</td>\n",
       "    </tr>\n",
       "    <tr>\n",
       "      <th>4</th>\n",
       "      <td>4</td>\n",
       "      <td>training set</td>\n",
       "      <td>0.108549</td>\n",
       "      <td>True</td>\n",
       "    </tr>\n",
       "    <tr>\n",
       "      <th>5</th>\n",
       "      <td>5</td>\n",
       "      <td>training set</td>\n",
       "      <td>0.154367</td>\n",
       "      <td>True</td>\n",
       "    </tr>\n",
       "    <tr>\n",
       "      <th>6</th>\n",
       "      <td>6</td>\n",
       "      <td>training set</td>\n",
       "      <td>0.217405</td>\n",
       "      <td>True</td>\n",
       "    </tr>\n",
       "    <tr>\n",
       "      <th>7</th>\n",
       "      <td>7</td>\n",
       "      <td>training set</td>\n",
       "      <td>0.273063</td>\n",
       "      <td>True</td>\n",
       "    </tr>\n",
       "    <tr>\n",
       "      <th>8</th>\n",
       "      <td>8</td>\n",
       "      <td>training set</td>\n",
       "      <td>0.338561</td>\n",
       "      <td>True</td>\n",
       "    </tr>\n",
       "    <tr>\n",
       "      <th>9</th>\n",
       "      <td>9</td>\n",
       "      <td>training set</td>\n",
       "      <td>0.405904</td>\n",
       "      <td>True</td>\n",
       "    </tr>\n",
       "    <tr>\n",
       "      <th>10</th>\n",
       "      <td>10</td>\n",
       "      <td>training set</td>\n",
       "      <td>0.464945</td>\n",
       "      <td>True</td>\n",
       "    </tr>\n",
       "    <tr>\n",
       "      <th>11</th>\n",
       "      <td>11</td>\n",
       "      <td>training set</td>\n",
       "      <td>0.507688</td>\n",
       "      <td>True</td>\n",
       "    </tr>\n",
       "    <tr>\n",
       "      <th>12</th>\n",
       "      <td>12</td>\n",
       "      <td>training set</td>\n",
       "      <td>0.539053</td>\n",
       "      <td>True</td>\n",
       "    </tr>\n",
       "    <tr>\n",
       "      <th>13</th>\n",
       "      <td>13</td>\n",
       "      <td>training set</td>\n",
       "      <td>0.577798</td>\n",
       "      <td>True</td>\n",
       "    </tr>\n",
       "    <tr>\n",
       "      <th>14</th>\n",
       "      <td>14</td>\n",
       "      <td>training set</td>\n",
       "      <td>0.591636</td>\n",
       "      <td>True</td>\n",
       "    </tr>\n",
       "    <tr>\n",
       "      <th>15</th>\n",
       "      <td>15</td>\n",
       "      <td>training set</td>\n",
       "      <td>0.622694</td>\n",
       "      <td>True</td>\n",
       "    </tr>\n",
       "    <tr>\n",
       "      <th>16</th>\n",
       "      <td>16</td>\n",
       "      <td>training set</td>\n",
       "      <td>0.646986</td>\n",
       "      <td>True</td>\n",
       "    </tr>\n",
       "    <tr>\n",
       "      <th>17</th>\n",
       "      <td>17</td>\n",
       "      <td>training set</td>\n",
       "      <td>0.649754</td>\n",
       "      <td>True</td>\n",
       "    </tr>\n",
       "    <tr>\n",
       "      <th>18</th>\n",
       "      <td>18</td>\n",
       "      <td>training set</td>\n",
       "      <td>0.671894</td>\n",
       "      <td>True</td>\n",
       "    </tr>\n",
       "    <tr>\n",
       "      <th>19</th>\n",
       "      <td>19</td>\n",
       "      <td>training set</td>\n",
       "      <td>0.680197</td>\n",
       "      <td>True</td>\n",
       "    </tr>\n",
       "    <tr>\n",
       "      <th>20</th>\n",
       "      <td>0</td>\n",
       "      <td>validation set</td>\n",
       "      <td>0.033210</td>\n",
       "      <td>True</td>\n",
       "    </tr>\n",
       "    <tr>\n",
       "      <th>21</th>\n",
       "      <td>1</td>\n",
       "      <td>validation set</td>\n",
       "      <td>0.056581</td>\n",
       "      <td>True</td>\n",
       "    </tr>\n",
       "    <tr>\n",
       "      <th>22</th>\n",
       "      <td>2</td>\n",
       "      <td>validation set</td>\n",
       "      <td>0.067651</td>\n",
       "      <td>True</td>\n",
       "    </tr>\n",
       "    <tr>\n",
       "      <th>23</th>\n",
       "      <td>3</td>\n",
       "      <td>validation set</td>\n",
       "      <td>0.067651</td>\n",
       "      <td>True</td>\n",
       "    </tr>\n",
       "    <tr>\n",
       "      <th>24</th>\n",
       "      <td>4</td>\n",
       "      <td>validation set</td>\n",
       "      <td>0.072571</td>\n",
       "      <td>True</td>\n",
       "    </tr>\n",
       "    <tr>\n",
       "      <th>25</th>\n",
       "      <td>5</td>\n",
       "      <td>validation set</td>\n",
       "      <td>0.072571</td>\n",
       "      <td>True</td>\n",
       "    </tr>\n",
       "    <tr>\n",
       "      <th>26</th>\n",
       "      <td>6</td>\n",
       "      <td>validation set</td>\n",
       "      <td>0.071341</td>\n",
       "      <td>True</td>\n",
       "    </tr>\n",
       "    <tr>\n",
       "      <th>27</th>\n",
       "      <td>7</td>\n",
       "      <td>validation set</td>\n",
       "      <td>0.084871</td>\n",
       "      <td>True</td>\n",
       "    </tr>\n",
       "    <tr>\n",
       "      <th>28</th>\n",
       "      <td>8</td>\n",
       "      <td>validation set</td>\n",
       "      <td>0.077491</td>\n",
       "      <td>True</td>\n",
       "    </tr>\n",
       "    <tr>\n",
       "      <th>29</th>\n",
       "      <td>9</td>\n",
       "      <td>validation set</td>\n",
       "      <td>0.070111</td>\n",
       "      <td>True</td>\n",
       "    </tr>\n",
       "    <tr>\n",
       "      <th>30</th>\n",
       "      <td>10</td>\n",
       "      <td>validation set</td>\n",
       "      <td>0.075031</td>\n",
       "      <td>True</td>\n",
       "    </tr>\n",
       "    <tr>\n",
       "      <th>31</th>\n",
       "      <td>11</td>\n",
       "      <td>validation set</td>\n",
       "      <td>0.072571</td>\n",
       "      <td>True</td>\n",
       "    </tr>\n",
       "    <tr>\n",
       "      <th>32</th>\n",
       "      <td>12</td>\n",
       "      <td>validation set</td>\n",
       "      <td>0.063961</td>\n",
       "      <td>True</td>\n",
       "    </tr>\n",
       "    <tr>\n",
       "      <th>33</th>\n",
       "      <td>13</td>\n",
       "      <td>validation set</td>\n",
       "      <td>0.066421</td>\n",
       "      <td>True</td>\n",
       "    </tr>\n",
       "    <tr>\n",
       "      <th>34</th>\n",
       "      <td>14</td>\n",
       "      <td>validation set</td>\n",
       "      <td>0.067651</td>\n",
       "      <td>True</td>\n",
       "    </tr>\n",
       "    <tr>\n",
       "      <th>35</th>\n",
       "      <td>15</td>\n",
       "      <td>validation set</td>\n",
       "      <td>0.071341</td>\n",
       "      <td>True</td>\n",
       "    </tr>\n",
       "    <tr>\n",
       "      <th>36</th>\n",
       "      <td>16</td>\n",
       "      <td>validation set</td>\n",
       "      <td>0.073801</td>\n",
       "      <td>True</td>\n",
       "    </tr>\n",
       "    <tr>\n",
       "      <th>37</th>\n",
       "      <td>17</td>\n",
       "      <td>validation set</td>\n",
       "      <td>0.066421</td>\n",
       "      <td>True</td>\n",
       "    </tr>\n",
       "    <tr>\n",
       "      <th>38</th>\n",
       "      <td>18</td>\n",
       "      <td>validation set</td>\n",
       "      <td>0.066421</td>\n",
       "      <td>True</td>\n",
       "    </tr>\n",
       "    <tr>\n",
       "      <th>39</th>\n",
       "      <td>19</td>\n",
       "      <td>validation set</td>\n",
       "      <td>0.062731</td>\n",
       "      <td>True</td>\n",
       "    </tr>\n",
       "  </tbody>\n",
       "</table>\n",
       "</div>"
      ],
      "text/plain": [
       "    epoch         dataset  accuracy  shuffled\n",
       "0       0    training set  0.012608      True\n",
       "1       1    training set  0.035363      True\n",
       "2       2    training set  0.048893      True\n",
       "3       3    training set  0.073801      True\n",
       "4       4    training set  0.108549      True\n",
       "5       5    training set  0.154367      True\n",
       "6       6    training set  0.217405      True\n",
       "7       7    training set  0.273063      True\n",
       "8       8    training set  0.338561      True\n",
       "9       9    training set  0.405904      True\n",
       "10     10    training set  0.464945      True\n",
       "11     11    training set  0.507688      True\n",
       "12     12    training set  0.539053      True\n",
       "13     13    training set  0.577798      True\n",
       "14     14    training set  0.591636      True\n",
       "15     15    training set  0.622694      True\n",
       "16     16    training set  0.646986      True\n",
       "17     17    training set  0.649754      True\n",
       "18     18    training set  0.671894      True\n",
       "19     19    training set  0.680197      True\n",
       "20      0  validation set  0.033210      True\n",
       "21      1  validation set  0.056581      True\n",
       "22      2  validation set  0.067651      True\n",
       "23      3  validation set  0.067651      True\n",
       "24      4  validation set  0.072571      True\n",
       "25      5  validation set  0.072571      True\n",
       "26      6  validation set  0.071341      True\n",
       "27      7  validation set  0.084871      True\n",
       "28      8  validation set  0.077491      True\n",
       "29      9  validation set  0.070111      True\n",
       "30     10  validation set  0.075031      True\n",
       "31     11  validation set  0.072571      True\n",
       "32     12  validation set  0.063961      True\n",
       "33     13  validation set  0.066421      True\n",
       "34     14  validation set  0.067651      True\n",
       "35     15  validation set  0.071341      True\n",
       "36     16  validation set  0.073801      True\n",
       "37     17  validation set  0.066421      True\n",
       "38     18  validation set  0.066421      True\n",
       "39     19  validation set  0.062731      True"
      ]
     },
     "execution_count": 176,
     "metadata": {},
     "output_type": "execute_result"
    }
   ],
   "source": [
    "loaded_global_shuffled_history"
   ]
  },
  {
   "cell_type": "code",
   "execution_count": 170,
   "id": "303e577c-3cae-4e24-9a09-ec09cef6fc7c",
   "metadata": {
    "scrolled": true
   },
   "outputs": [
    {
     "name": "stderr",
     "output_type": "stream",
     "text": [
      "/usr/local/lib/python3.11/site-packages/plotnine/ggplot.py:587: PlotnineWarning: Saving 6.4 x 4.8 in image.\n",
      "/usr/local/lib/python3.11/site-packages/plotnine/ggplot.py:588: PlotnineWarning: Filename: ../data_dump/training_plots_dump/global_shuffled_training_plot.png\n"
     ]
    }
   ],
   "source": [
    "global_training_shuffled_plot = ggplot(loaded_global_shuffled_history, aes(x='epoch', y='accuracy', linetype='dataset')) + geom_line() + labs(title='Learning Curve of Model Trained on Within-Topic Shuffled Data', x='Epoch', y='Accuracy')\n",
    "ggsave(global_training_shuffled_plot, \"../data_dump/training_plots_dump/global_shuffled_training_plot.png\")"
   ]
  },
  {
   "cell_type": "code",
   "execution_count": 178,
   "id": "aa005bf9-931d-45d2-b0e0-149b78878886",
   "metadata": {},
   "outputs": [
    {
     "data": {
      "text/html": [
       "<div>\n",
       "<style scoped>\n",
       "    .dataframe tbody tr th:only-of-type {\n",
       "        vertical-align: middle;\n",
       "    }\n",
       "\n",
       "    .dataframe tbody tr th {\n",
       "        vertical-align: top;\n",
       "    }\n",
       "\n",
       "    .dataframe thead th {\n",
       "        text-align: right;\n",
       "    }\n",
       "</style>\n",
       "<table border=\"1\" class=\"dataframe\">\n",
       "  <thead>\n",
       "    <tr style=\"text-align: right;\">\n",
       "      <th></th>\n",
       "      <th>epoch</th>\n",
       "      <th>dataset</th>\n",
       "      <th>accuracy</th>\n",
       "      <th>shuffled</th>\n",
       "    </tr>\n",
       "  </thead>\n",
       "  <tbody>\n",
       "    <tr>\n",
       "      <th>0</th>\n",
       "      <td>0</td>\n",
       "      <td>training set</td>\n",
       "      <td>0.040283</td>\n",
       "      <td>False</td>\n",
       "    </tr>\n",
       "    <tr>\n",
       "      <th>1</th>\n",
       "      <td>1</td>\n",
       "      <td>training set</td>\n",
       "      <td>0.124231</td>\n",
       "      <td>False</td>\n",
       "    </tr>\n",
       "    <tr>\n",
       "      <th>2</th>\n",
       "      <td>2</td>\n",
       "      <td>training set</td>\n",
       "      <td>0.200800</td>\n",
       "      <td>False</td>\n",
       "    </tr>\n",
       "    <tr>\n",
       "      <th>3</th>\n",
       "      <td>3</td>\n",
       "      <td>training set</td>\n",
       "      <td>0.281058</td>\n",
       "      <td>False</td>\n",
       "    </tr>\n",
       "    <tr>\n",
       "      <th>4</th>\n",
       "      <td>4</td>\n",
       "      <td>training set</td>\n",
       "      <td>0.382226</td>\n",
       "      <td>False</td>\n",
       "    </tr>\n",
       "    <tr>\n",
       "      <th>...</th>\n",
       "      <td>...</td>\n",
       "      <td>...</td>\n",
       "      <td>...</td>\n",
       "      <td>...</td>\n",
       "    </tr>\n",
       "    <tr>\n",
       "      <th>35</th>\n",
       "      <td>15</td>\n",
       "      <td>validation set</td>\n",
       "      <td>0.071341</td>\n",
       "      <td>True</td>\n",
       "    </tr>\n",
       "    <tr>\n",
       "      <th>36</th>\n",
       "      <td>16</td>\n",
       "      <td>validation set</td>\n",
       "      <td>0.073801</td>\n",
       "      <td>True</td>\n",
       "    </tr>\n",
       "    <tr>\n",
       "      <th>37</th>\n",
       "      <td>17</td>\n",
       "      <td>validation set</td>\n",
       "      <td>0.066421</td>\n",
       "      <td>True</td>\n",
       "    </tr>\n",
       "    <tr>\n",
       "      <th>38</th>\n",
       "      <td>18</td>\n",
       "      <td>validation set</td>\n",
       "      <td>0.066421</td>\n",
       "      <td>True</td>\n",
       "    </tr>\n",
       "    <tr>\n",
       "      <th>39</th>\n",
       "      <td>19</td>\n",
       "      <td>validation set</td>\n",
       "      <td>0.062731</td>\n",
       "      <td>True</td>\n",
       "    </tr>\n",
       "  </tbody>\n",
       "</table>\n",
       "<p>80 rows × 4 columns</p>\n",
       "</div>"
      ],
      "text/plain": [
       "    epoch         dataset  accuracy  shuffled\n",
       "0       0    training set  0.040283     False\n",
       "1       1    training set  0.124231     False\n",
       "2       2    training set  0.200800     False\n",
       "3       3    training set  0.281058     False\n",
       "4       4    training set  0.382226     False\n",
       "..    ...             ...       ...       ...\n",
       "35     15  validation set  0.071341      True\n",
       "36     16  validation set  0.073801      True\n",
       "37     17  validation set  0.066421      True\n",
       "38     18  validation set  0.066421      True\n",
       "39     19  validation set  0.062731      True\n",
       "\n",
       "[80 rows x 4 columns]"
      ]
     },
     "execution_count": 178,
     "metadata": {},
     "output_type": "execute_result"
    }
   ],
   "source": [
    "combined_global_training_df = pd.concat([loaded_global_history, loaded_global_shuffled_history])\n",
    "combined_global_training_df"
   ]
  },
  {
   "cell_type": "code",
   "execution_count": 218,
   "id": "e1197f06-5503-44a5-ba23-2858da1a82b2",
   "metadata": {},
   "outputs": [
    {
     "name": "stderr",
     "output_type": "stream",
     "text": [
      "/usr/local/lib/python3.11/site-packages/plotnine/ggplot.py:587: PlotnineWarning: Saving 16 x 24 in image.\n",
      "/usr/local/lib/python3.11/site-packages/plotnine/ggplot.py:588: PlotnineWarning: Filename: ../data_dump/training_plots_dump/combined_global_training_plot.png\n"
     ]
    }
   ],
   "source": [
    "combined_global_plot = (\n",
    "    ggplot(combined_global_training_df, aes(x='epoch', y='accuracy', linetype='dataset', color='shuffled')) +\n",
    "    geom_line(size=2) +\n",
    "    labs(title='Learning Curve of Model Trained on Unshuffled vs. Within-Topic Shuffled Data', x='Epoch', y='Accuracy') +\n",
    "    theme(\n",
    "        figure_size=(16,24),\n",
    "        axis_title=element_text(size=32),\n",
    "        axis_text=element_text(size=24),\n",
    "        legend_title=element_text(size=32, lineheight=1.5),\n",
    "        legend_text=element_text(size=24, lineheight=1.5),\n",
    "        plot_title=element_text(size=40, wrap=True, lineheight=1.5),\n",
    "        legend_position=\"bottom\",\n",
    "        legend_key_width=64\n",
    "    ) +\n",
    "    guides(fill = guide_legend(byrow = True))\n",
    ")\n",
    "ggsave(combined_global_plot, \"../data_dump/training_plots_dump/combined_global_training_plot.png\")"
   ]
  },
  {
   "cell_type": "markdown",
   "id": "1b8c0c9d-40c8-44f9-bd14-9bba700bd814",
   "metadata": {},
   "source": [
    "#### Category Training"
   ]
  },
  {
   "cell_type": "code",
   "execution_count": null,
   "id": "ec2272bb-8d23-4fee-82be-2bc619856840",
   "metadata": {},
   "outputs": [],
   "source": [
    "# Category Model\n",
    "category_autoencoder_model = tf.keras.models.clone_model(autoencoder_model)\n",
    "category_autoencoder_model.compile(\n",
    "    optimizer=tf.keras.optimizers.Adam(learning_rate=1e-3),\n",
    "    loss=\"mse\",\n",
    "    metrics=['accuracy']\n",
    ")\n",
    "category_autoencoder_model.fit(\n",
    "    x=economy_x_train,\n",
    "    y=economy_y_train,\n",
    "    batch_size=1,\n",
    "    epochs=20,\n",
    "    validation_data=(economy_x_test, economy_y_test)\n",
    ")"
   ]
  },
  {
   "cell_type": "markdown",
   "id": "856d8fe6-e696-41ce-b918-b8404ffec630",
   "metadata": {},
   "source": [
    "#### Debate Training"
   ]
  },
  {
   "cell_type": "code",
   "execution_count": null,
   "id": "40b37636-96d3-4932-9d0e-6551b846730b",
   "metadata": {},
   "outputs": [],
   "source": [
    "# Debate Model\n",
    "debate_autoencoder_model = tf.keras.models.clone_model(autoencoder_model)\n",
    "debate_autoencoder_model.compile(\n",
    "    optimizer=tf.keras.optimizers.Adam(learning_rate=1e-3),\n",
    "    loss=\"mse\",\n",
    "    metrics=['accuracy']\n",
    ")\n",
    "debate_autoencoder_model.fit(\n",
    "    x=economy_debate_x_train,\n",
    "    y=economy_debate_y_train,\n",
    "    batch_size=1,\n",
    "    epochs=5\n",
    ")"
   ]
  },
  {
   "cell_type": "markdown",
   "id": "1372ae18-eed5-4a34-b6c4-852214a71a3f",
   "metadata": {},
   "source": [
    "# Study 3: Choose Corresponding Embedding"
   ]
  },
  {
   "cell_type": "markdown",
   "id": "c3c12b5a-9698-49d2-ae4f-f539d890deb6",
   "metadata": {},
   "source": [
    "Given an embedding, can a model be trained to choose the correct embeddings corresponding to its counterargument from a list of them?"
   ]
  },
  {
   "cell_type": "markdown",
   "id": "919e6c87-4323-4262-9673-3fa227dff7fc",
   "metadata": {},
   "source": [
    "### OpenAI Setup"
   ]
  },
  {
   "cell_type": "code",
   "execution_count": 47,
   "id": "09a71308-5d51-4755-843f-ce895191e931",
   "metadata": {},
   "outputs": [
    {
     "name": "stdout",
     "output_type": "stream",
     "text": [
      "Requirement already satisfied: openai in /usr/local/lib/python3.11/site-packages (1.3.9)\n",
      "Requirement already satisfied: anyio<5,>=3.5.0 in /usr/local/lib/python3.11/site-packages (from openai) (4.0.0)\n",
      "Requirement already satisfied: distro<2,>=1.7.0 in /usr/local/lib/python3.11/site-packages (from openai) (1.8.0)\n",
      "Requirement already satisfied: httpx<1,>=0.23.0 in /usr/local/lib/python3.11/site-packages (from openai) (0.25.2)\n",
      "Requirement already satisfied: pydantic<3,>=1.9.0 in /usr/local/lib/python3.11/site-packages (from openai) (2.5.2)\n",
      "Requirement already satisfied: sniffio in /usr/local/lib/python3.11/site-packages (from openai) (1.3.0)\n",
      "Requirement already satisfied: tqdm>4 in /usr/local/lib/python3.11/site-packages (from openai) (4.66.1)\n",
      "Requirement already satisfied: typing-extensions<5,>=4.5 in /usr/local/lib/python3.11/site-packages (from openai) (4.8.0)\n",
      "Requirement already satisfied: idna>=2.8 in /usr/local/lib/python3.11/site-packages (from anyio<5,>=3.5.0->openai) (3.4)\n",
      "Requirement already satisfied: certifi in /usr/local/lib/python3.11/site-packages (from httpx<1,>=0.23.0->openai) (2023.7.22)\n",
      "Requirement already satisfied: httpcore==1.* in /usr/local/lib/python3.11/site-packages (from httpx<1,>=0.23.0->openai) (1.0.2)\n",
      "Requirement already satisfied: h11<0.15,>=0.13 in /usr/local/lib/python3.11/site-packages (from httpcore==1.*->httpx<1,>=0.23.0->openai) (0.14.0)\n",
      "Requirement already satisfied: annotated-types>=0.4.0 in /usr/local/lib/python3.11/site-packages (from pydantic<3,>=1.9.0->openai) (0.6.0)\n",
      "Requirement already satisfied: pydantic-core==2.14.5 in /usr/local/lib/python3.11/site-packages (from pydantic<3,>=1.9.0->openai) (2.14.5)\n",
      "\n",
      "\u001b[1m[\u001b[0m\u001b[34;49mnotice\u001b[0m\u001b[1;39;49m]\u001b[0m\u001b[39;49m A new release of pip is available: \u001b[0m\u001b[31;49m23.0.1\u001b[0m\u001b[39;49m -> \u001b[0m\u001b[32;49m23.3.2\u001b[0m\n",
      "\u001b[1m[\u001b[0m\u001b[34;49mnotice\u001b[0m\u001b[1;39;49m]\u001b[0m\u001b[39;49m To update, run: \u001b[0m\u001b[32;49mpython3.11 -m pip install --upgrade pip\u001b[0m\n",
      "Note: you may need to restart the kernel to use updated packages.\n"
     ]
    }
   ],
   "source": [
    "pip install openai"
   ]
  },
  {
   "cell_type": "code",
   "execution_count": 16,
   "id": "19be6d9f-4470-4055-8f28-6ebcb75b102d",
   "metadata": {},
   "outputs": [],
   "source": [
    "import openai\n",
    "from openai import OpenAI"
   ]
  },
  {
   "cell_type": "code",
   "execution_count": 17,
   "id": "a74962ba-29cc-49c3-a73a-6817cdad22c5",
   "metadata": {},
   "outputs": [],
   "source": [
    "client = OpenAI()"
   ]
  },
  {
   "cell_type": "markdown",
   "id": "919142ac-e4d0-4515-b5f7-3d71c955f5af",
   "metadata": {},
   "source": [
    "### Imports"
   ]
  },
  {
   "cell_type": "code",
   "execution_count": 196,
   "id": "9fd70dad-1e9f-4298-885c-a6797d5f183b",
   "metadata": {},
   "outputs": [],
   "source": [
    "import tensorflow as tf\n",
    "import pandas as pd\n",
    "import numpy as np\n",
    "from scipy import spatial\n",
    "import time\n",
    "from tenacity import (\n",
    "    retry,\n",
    "    stop_after_attempt,\n",
    "    wait_random_exponential\n",
    ")\n",
    "import statistics"
   ]
  },
  {
   "cell_type": "code",
   "execution_count": 107,
   "id": "402d093e-4185-4486-913f-4324fc9e3ef7",
   "metadata": {},
   "outputs": [],
   "source": [
    "from tensorflow.keras.models import load_model"
   ]
  },
  {
   "cell_type": "markdown",
   "id": "04e7d17c-828e-4047-b13b-0596e64fdd52",
   "metadata": {},
   "source": [
    "## Data"
   ]
  },
  {
   "cell_type": "markdown",
   "id": "8e3dab61-4a36-4190-8d68-0cb6eabceec5",
   "metadata": {},
   "source": [
    "#### GPR 55"
   ]
  },
  {
   "cell_type": "code",
   "execution_count": 255,
   "id": "8efd3381-0480-469c-9fc4-54ebd6b62d29",
   "metadata": {},
   "outputs": [],
   "source": [
    "gpr_df = pd.read_csv(\"../no_wavs/GPR-KB-55/GPR-KB-55.csv\")"
   ]
  },
  {
   "cell_type": "code",
   "execution_count": 256,
   "id": "201de38d-5943-4cc8-a10e-295fe7b6e54f",
   "metadata": {},
   "outputs": [],
   "source": [
    "DIM_EMBEDDING = 1536\n",
    "\n",
    "def gpr_get_embeddings_df(gpr_df: pd.DataFrame) -> pd.DataFrame:\n",
    "    \"\"\" Add embeddings column to a df\n",
    "    \"\"\"\n",
    "    gpr_embeddings_df = pd.DataFrame()\n",
    "    arguments_list = list(gpr_df)\n",
    "\n",
    "    claims_embeddings = client.embeddings.create(input=arguments_list, model=\"text-embedding-ada-002\")\n",
    "    claims_embeddings_data = [embedding_data.embedding for embedding_data in claims_embeddings.data]\n",
    "    claims_embeddings_df = pd.DataFrame(claims_embeddings_data, columns=[f\"{str(i)}\" for i in range(DIM_EMBEDDING)])\n",
    "    claims_embeddings_df = claims_embeddings_df.reset_index(drop=True)\n",
    "\n",
    "    claims_embeddings_df = pd.concat([gpr_df, claims_embeddings_df], axis=1)\n",
    "    return claims_embeddings_df"
   ]
  },
  {
   "cell_type": "code",
   "execution_count": 257,
   "id": "c07074f3-89f0-4273-a561-1b2e937f0a76",
   "metadata": {},
   "outputs": [],
   "source": [
    "gpr_claims_df = gpr_get_embeddings_df(gpr_df['claim'])\n",
    "gpr_rebuttals_df = gpr_get_embeddings_df(gpr_df['rebuttal'])\n",
    "\n",
    "gpr_combined = pd.concat([gpr_claims_df, gpr_rebuttals_df])\n",
    "gpr_combined = gpr_combined.reset_index(drop=True)\n",
    "\n",
    "gpr_combined_nums = gpr_combined.select_dtypes(include=[np.number])\n",
    "\n",
    "gpr_x_train = gpr_claims_df.select_dtypes(include=[np.number])\n",
    "gpr_x_train = gpr_x_train.loc[:len(gpr_x_train) * 0.8-1]\n",
    "gpr_y_train = gpr_rebuttals_df.select_dtypes(include=[np.number])\n",
    "gpr_y_train = gpr_y_train.loc[:len(gpr_y_train) * 0.8-1]\n",
    "\n",
    "gpr_x_test = gpr_claims_df.select_dtypes(include=[np.number])\n",
    "gpr_x_test = gpr_x_test.loc[len(gpr_x_test) * 0.8:]\n",
    "gpr_x_test = gpr_x_test.reset_index(drop=True)\n",
    "gpr_y_test = gpr_rebuttals_df.select_dtypes(include=[np.number])\n",
    "gpr_y_test = gpr_y_test.loc[len(gpr_y_test) * 0.8:]\n",
    "gpr_y_test = gpr_y_test.reset_index(drop=True)"
   ]
  },
  {
   "cell_type": "code",
   "execution_count": 258,
   "id": "ef93c370-8da3-48fa-9209-e21ced2e85fe",
   "metadata": {},
   "outputs": [],
   "source": [
    "def metric_choose_argument_gpr(y_true, y_pred):\n",
    "    \"\"\" See if the output vector is closest to the rebuttal to the claim\n",
    "    \"\"\"\n",
    "    gpr_training_df_32 = tf.cast(gpr_combined_nums, dtype=tf.float32)\n",
    "    \n",
    "    cos_sim_pred = tf.matmul(gpr_training_df_32, y_pred, transpose_b=True) / tf.reshape(tf.norm(y_pred) * tf.norm(gpr_training_df_32, axis=1), [-1, 1])\n",
    "    cos_sim_true = tf.matmul(gpr_training_df_32, y_true, transpose_b=True) / tf.reshape(tf.norm(y_true) * tf.norm(gpr_training_df_32, axis=1), [-1, 1])\n",
    "\n",
    "    max_cos_sim_pred = tf.math.argmax(cos_sim_pred)\n",
    "    max_cos_sim_true = tf.math.argmax(cos_sim_true)\n",
    "\n",
    "    return tf.math.count_nonzero(tf.equal(max_cos_sim_pred, max_cos_sim_true))"
   ]
  },
  {
   "cell_type": "markdown",
   "id": "516f661a-5550-44c0-9adb-8c5603998e93",
   "metadata": {},
   "source": [
    "#### IBM EACL"
   ]
  },
  {
   "cell_type": "code",
   "execution_count": 11,
   "id": "b279c3e4-9f7b-49c3-8dd2-18f843c93455",
   "metadata": {
    "scrolled": true
   },
   "outputs": [
    {
     "data": {
      "text/html": [
       "<div>\n",
       "<style scoped>\n",
       "    .dataframe tbody tr th:only-of-type {\n",
       "        vertical-align: middle;\n",
       "    }\n",
       "\n",
       "    .dataframe tbody tr th {\n",
       "        vertical-align: top;\n",
       "    }\n",
       "\n",
       "    .dataframe thead th {\n",
       "        text-align: right;\n",
       "    }\n",
       "</style>\n",
       "<table border=\"1\" class=\"dataframe\">\n",
       "  <thead>\n",
       "    <tr style=\"text-align: right;\">\n",
       "      <th></th>\n",
       "      <th>topicId</th>\n",
       "      <th>topicText</th>\n",
       "      <th>claims.stance</th>\n",
       "      <th>claims.claimCorrectedText</th>\n",
       "    </tr>\n",
       "  </thead>\n",
       "  <tbody>\n",
       "    <tr>\n",
       "      <th>0</th>\n",
       "      <td>1</td>\n",
       "      <td>This house believes that the sale of violent v...</td>\n",
       "      <td>PRO</td>\n",
       "      <td>Exposure to violent video games causes at leas...</td>\n",
       "    </tr>\n",
       "    <tr>\n",
       "      <th>1</th>\n",
       "      <td>1</td>\n",
       "      <td>This house believes that the sale of violent v...</td>\n",
       "      <td>CON</td>\n",
       "      <td>video game violence is not related to serious ...</td>\n",
       "    </tr>\n",
       "    <tr>\n",
       "      <th>2</th>\n",
       "      <td>1</td>\n",
       "      <td>This house believes that the sale of violent v...</td>\n",
       "      <td>CON</td>\n",
       "      <td>some violent video games may actually have a p...</td>\n",
       "    </tr>\n",
       "    <tr>\n",
       "      <th>3</th>\n",
       "      <td>1</td>\n",
       "      <td>This house believes that the sale of violent v...</td>\n",
       "      <td>PRO</td>\n",
       "      <td>exposure to violent video games causes both sh...</td>\n",
       "    </tr>\n",
       "    <tr>\n",
       "      <th>4</th>\n",
       "      <td>1</td>\n",
       "      <td>This house believes that the sale of violent v...</td>\n",
       "      <td>PRO</td>\n",
       "      <td>Violent video games increase the violent tende...</td>\n",
       "    </tr>\n",
       "    <tr>\n",
       "      <th>...</th>\n",
       "      <td>...</td>\n",
       "      <td>...</td>\n",
       "      <td>...</td>\n",
       "      <td>...</td>\n",
       "    </tr>\n",
       "    <tr>\n",
       "      <th>2389</th>\n",
       "      <td>1065</td>\n",
       "      <td>This house would promote democratization</td>\n",
       "      <td>CON</td>\n",
       "      <td>democracies have ever been found incompatible ...</td>\n",
       "    </tr>\n",
       "    <tr>\n",
       "      <th>2390</th>\n",
       "      <td>1065</td>\n",
       "      <td>This house would promote democratization</td>\n",
       "      <td>CON</td>\n",
       "      <td>democracy cannot subsist long nor be carried f...</td>\n",
       "    </tr>\n",
       "    <tr>\n",
       "      <th>2391</th>\n",
       "      <td>1065</td>\n",
       "      <td>This house would promote democratization</td>\n",
       "      <td>CON</td>\n",
       "      <td>Democracy in general is criticized for ignorin...</td>\n",
       "    </tr>\n",
       "    <tr>\n",
       "      <th>2392</th>\n",
       "      <td>1065</td>\n",
       "      <td>This house would promote democratization</td>\n",
       "      <td>PRO</td>\n",
       "      <td>democracy and freedom are indispensable ingred...</td>\n",
       "    </tr>\n",
       "    <tr>\n",
       "      <th>2393</th>\n",
       "      <td>1065</td>\n",
       "      <td>This house would promote democratization</td>\n",
       "      <td>CON</td>\n",
       "      <td>democracy cannot be imposed from outside</td>\n",
       "    </tr>\n",
       "  </tbody>\n",
       "</table>\n",
       "<p>2394 rows × 4 columns</p>\n",
       "</div>"
      ],
      "text/plain": [
       "      topicId                                          topicText  \\\n",
       "0           1  This house believes that the sale of violent v...   \n",
       "1           1  This house believes that the sale of violent v...   \n",
       "2           1  This house believes that the sale of violent v...   \n",
       "3           1  This house believes that the sale of violent v...   \n",
       "4           1  This house believes that the sale of violent v...   \n",
       "...       ...                                                ...   \n",
       "2389     1065           This house would promote democratization   \n",
       "2390     1065           This house would promote democratization   \n",
       "2391     1065           This house would promote democratization   \n",
       "2392     1065           This house would promote democratization   \n",
       "2393     1065           This house would promote democratization   \n",
       "\n",
       "     claims.stance                          claims.claimCorrectedText  \n",
       "0              PRO  Exposure to violent video games causes at leas...  \n",
       "1              CON  video game violence is not related to serious ...  \n",
       "2              CON  some violent video games may actually have a p...  \n",
       "3              PRO  exposure to violent video games causes both sh...  \n",
       "4              PRO  Violent video games increase the violent tende...  \n",
       "...            ...                                                ...  \n",
       "2389           CON  democracies have ever been found incompatible ...  \n",
       "2390           CON  democracy cannot subsist long nor be carried f...  \n",
       "2391           CON  Democracy in general is criticized for ignorin...  \n",
       "2392           PRO  democracy and freedom are indispensable ingred...  \n",
       "2393           CON           democracy cannot be imposed from outside  \n",
       "\n",
       "[2394 rows x 4 columns]"
      ]
     },
     "execution_count": 11,
     "metadata": {},
     "output_type": "execute_result"
    }
   ],
   "source": [
    "eacl_df = pd.read_csv(\"../IBM_EACL/claim_stance_dataset.csv\")\n",
    "eacl_df = eacl_df[['topicId', 'topicText', 'claims.stance', 'claims.claimCorrectedText']]"
   ]
  },
  {
   "cell_type": "code",
   "execution_count": 232,
   "id": "50749923-5176-438f-9609-784d1d158e5e",
   "metadata": {},
   "outputs": [],
   "source": [
    "topic_lens = []\n",
    "pro_lens = []\n",
    "con_lens = []\n",
    "for topic in eacl_df['topicId'].unique():\n",
    "    topic_rows = eacl_df[eacl_df['topicId'] == topic]\n",
    "    topic_lens.append(len(topic_rows))\n",
    "    pro_lens.append(len(topic_rows[topic_rows['claims.stance'] == \"PRO\"]))\n",
    "    con_lens.append(len(topic_rows[topic_rows['claims.stance'] == \"CON\"]))"
   ]
  },
  {
   "cell_type": "code",
   "execution_count": 59,
   "id": "d0f86ff5-a54f-4faa-97d0-e1f675dc3f78",
   "metadata": {},
   "outputs": [],
   "source": [
    "\"\"\" Convert an argument into a (1 x 1536) embedding df \"\"\"\n",
    "\n",
    "DIM_EMBEDDING = 1536\n",
    "\n",
    "@retry(wait=wait_random_exponential(min=60, max=500), stop=stop_after_attempt(10))\n",
    "def eacl_get_embeddings(arguments: []) -> []:\n",
    "    embeddings = client.embeddings.create(input=arguments, model=\"text-embedding-ada-002\")\n",
    "    embeddings_data = [embedding_data.embedding for embedding_data in embeddings.data]\n",
    "    embeddings_df = pd.DataFrame(embeddings_data, columns=[f\"{str(i)}\" for i in range(DIM_EMBEDDING)])\n",
    "    return embeddings_df.reset_index(drop=True)"
   ]
  },
  {
   "cell_type": "code",
   "execution_count": 65,
   "id": "5028221f-4d60-4d14-aa91-96fabb281a45",
   "metadata": {},
   "outputs": [],
   "source": [
    "API_LIMIT = 1000\n",
    "\n",
    "def eacl_get_embeddings_df(eacl_df: pd.DataFrame) -> pd.DataFrame:\n",
    "    \"\"\" Add embeddings column to a df\n",
    "    \"\"\"\n",
    "    embeddings_df = pd.DataFrame()\n",
    "    arguments_list = list(eacl_df['claims.claimCorrectedText'])\n",
    "    total_len = len(arguments_list)\n",
    "    i = 0\n",
    "\n",
    "    # Grab embeddings from arguments column in chunks\n",
    "    while i < total_len:\n",
    "        embeddings = eacl_get_embeddings(arguments_list[i:min(total_len, i+API_LIMIT)])\n",
    "        embeddings_df = pd.concat([embeddings_df, embeddings], axis=0, ignore_index=True)\n",
    "        i = i + API_LIMIT\n",
    "    arguments_embeddings_df = pd.concat([eacl_df, embeddings_df], axis=1)\n",
    "    return arguments_embeddings_df"
   ]
  },
  {
   "cell_type": "code",
   "execution_count": 67,
   "id": "63e7a0b3-ed82-4ae2-966d-0d3539330fc6",
   "metadata": {
    "scrolled": true
   },
   "outputs": [],
   "source": [
    "eacl_embeddings_df = eacl_get_embeddings_df(eacl_df)"
   ]
  },
  {
   "cell_type": "code",
   "execution_count": 71,
   "id": "1487eddf-6b0c-4a57-adb9-0e1b83af476d",
   "metadata": {
    "scrolled": true
   },
   "outputs": [],
   "source": [
    "eacl_nums_df = eacl_embeddings_df.select_dtypes(include=[np.number])\n",
    "eacl_vectors_df = eacl_nums_df.drop('topicId', axis=1)"
   ]
  },
  {
   "cell_type": "markdown",
   "id": "86eba760-a22b-49df-bd0e-3af70874916f",
   "metadata": {},
   "source": [
    "## GPR predict "
   ]
  },
  {
   "cell_type": "code",
   "execution_count": 264,
   "id": "fecc2c4f-d907-4ca9-bb1d-d05bd59119b4",
   "metadata": {},
   "outputs": [
    {
     "name": "stdout",
     "output_type": "stream",
     "text": [
      "2/2 [==============================] - 0s 5ms/step\n"
     ]
    }
   ],
   "source": [
    "global_autoencoder_gpr_predictions = global_autoencoder_model.predict(gpr_x_train)\n",
    "global_autoencoder_gpr_predictions_df = pd.DataFrame(global_autoencoder_gpr_predictions)\n",
    "global_autoencoder_gpr_predictions_df.columns = [str(i) for i in global_autoencoder_gpr_predictions_df.columns]"
   ]
  },
  {
   "cell_type": "code",
   "execution_count": 265,
   "id": "ec9802c9-b8e9-4373-932c-7c0b43633754",
   "metadata": {},
   "outputs": [],
   "source": [
    "successes = 0\n",
    "for i in range(len(gpr_y_train)):\n",
    "    gpr_y_train_tf = tf.convert_to_tensor(gpr_y_train.loc[i], dtype=tf.float32)\n",
    "    gpr_pred_tf = tf.convert_to_tensor(global_autoencoder_gpr_predictions_df.loc[i], dtype=tf.float32)\n",
    "    gpr_y_train_tf = tf.reshape(gpr_y_train_tf, (1, -1))\n",
    "    gpr_pred_tf = tf.reshape(gpr_pred_tf, (1, -1))\n",
    "    if metric_choose_argument_gpr(gpr_y_train_tf, gpr_pred_tf).numpy() == 1:\n",
    "        successes += 1"
   ]
  },
  {
   "cell_type": "code",
   "execution_count": 266,
   "id": "b784c746-4dcd-4136-8452-e85c957c7411",
   "metadata": {},
   "outputs": [
    {
     "data": {
      "text/plain": [
       "7"
      ]
     },
     "execution_count": 266,
     "metadata": {},
     "output_type": "execute_result"
    }
   ],
   "source": [
    "successes"
   ]
  },
  {
   "cell_type": "markdown",
   "id": "30d444fa-301d-4b53-9db0-93d7e5c085a3",
   "metadata": {},
   "source": [
    "## EACL Predict"
   ]
  },
  {
   "cell_type": "code",
   "execution_count": 116,
   "id": "1eb6f471-e29d-404a-841e-b37340a3c4d8",
   "metadata": {
    "scrolled": true
   },
   "outputs": [
    {
     "name": "stdout",
     "output_type": "stream",
     "text": [
      "75/75 [==============================] - 0s 4ms/step\n"
     ]
    },
    {
     "data": {
      "text/html": [
       "<div>\n",
       "<style scoped>\n",
       "    .dataframe tbody tr th:only-of-type {\n",
       "        vertical-align: middle;\n",
       "    }\n",
       "\n",
       "    .dataframe tbody tr th {\n",
       "        vertical-align: top;\n",
       "    }\n",
       "\n",
       "    .dataframe thead th {\n",
       "        text-align: right;\n",
       "    }\n",
       "</style>\n",
       "<table border=\"1\" class=\"dataframe\">\n",
       "  <thead>\n",
       "    <tr style=\"text-align: right;\">\n",
       "      <th></th>\n",
       "      <th>0</th>\n",
       "      <th>1</th>\n",
       "      <th>2</th>\n",
       "      <th>3</th>\n",
       "      <th>4</th>\n",
       "      <th>5</th>\n",
       "      <th>6</th>\n",
       "      <th>7</th>\n",
       "      <th>8</th>\n",
       "      <th>9</th>\n",
       "      <th>...</th>\n",
       "      <th>1526</th>\n",
       "      <th>1527</th>\n",
       "      <th>1528</th>\n",
       "      <th>1529</th>\n",
       "      <th>1530</th>\n",
       "      <th>1531</th>\n",
       "      <th>1532</th>\n",
       "      <th>1533</th>\n",
       "      <th>1534</th>\n",
       "      <th>1535</th>\n",
       "    </tr>\n",
       "  </thead>\n",
       "  <tbody>\n",
       "    <tr>\n",
       "      <th>0</th>\n",
       "      <td>-0.228883</td>\n",
       "      <td>-0.798650</td>\n",
       "      <td>1.206804</td>\n",
       "      <td>-2.379915</td>\n",
       "      <td>-1.636264</td>\n",
       "      <td>0.360619</td>\n",
       "      <td>-0.825054</td>\n",
       "      <td>-0.813067</td>\n",
       "      <td>-0.548199</td>\n",
       "      <td>-1.500611</td>\n",
       "      <td>...</td>\n",
       "      <td>0.342699</td>\n",
       "      <td>0.234322</td>\n",
       "      <td>0.672558</td>\n",
       "      <td>-0.972752</td>\n",
       "      <td>-1.087595</td>\n",
       "      <td>-0.216367</td>\n",
       "      <td>0.320369</td>\n",
       "      <td>-1.215356</td>\n",
       "      <td>-0.443726</td>\n",
       "      <td>-0.299795</td>\n",
       "    </tr>\n",
       "    <tr>\n",
       "      <th>1</th>\n",
       "      <td>-0.557883</td>\n",
       "      <td>-0.409383</td>\n",
       "      <td>1.171087</td>\n",
       "      <td>-1.981327</td>\n",
       "      <td>-1.036210</td>\n",
       "      <td>0.220497</td>\n",
       "      <td>-0.838605</td>\n",
       "      <td>-0.819698</td>\n",
       "      <td>-1.100810</td>\n",
       "      <td>-1.012501</td>\n",
       "      <td>...</td>\n",
       "      <td>0.931535</td>\n",
       "      <td>0.818045</td>\n",
       "      <td>1.471216</td>\n",
       "      <td>-1.408638</td>\n",
       "      <td>-1.282735</td>\n",
       "      <td>0.167310</td>\n",
       "      <td>0.973538</td>\n",
       "      <td>-1.621110</td>\n",
       "      <td>-0.358796</td>\n",
       "      <td>-0.720913</td>\n",
       "    </tr>\n",
       "    <tr>\n",
       "      <th>2</th>\n",
       "      <td>-0.854444</td>\n",
       "      <td>-1.084031</td>\n",
       "      <td>0.989973</td>\n",
       "      <td>-1.987451</td>\n",
       "      <td>-1.624811</td>\n",
       "      <td>0.425982</td>\n",
       "      <td>-1.417340</td>\n",
       "      <td>-0.267563</td>\n",
       "      <td>-1.422044</td>\n",
       "      <td>-1.560554</td>\n",
       "      <td>...</td>\n",
       "      <td>0.854357</td>\n",
       "      <td>0.700630</td>\n",
       "      <td>0.814746</td>\n",
       "      <td>-1.859064</td>\n",
       "      <td>-1.603771</td>\n",
       "      <td>0.459844</td>\n",
       "      <td>-0.040004</td>\n",
       "      <td>-1.096585</td>\n",
       "      <td>-0.427586</td>\n",
       "      <td>-0.427207</td>\n",
       "    </tr>\n",
       "    <tr>\n",
       "      <th>3</th>\n",
       "      <td>-0.282068</td>\n",
       "      <td>-1.068843</td>\n",
       "      <td>1.547549</td>\n",
       "      <td>-2.913010</td>\n",
       "      <td>-2.350163</td>\n",
       "      <td>0.858396</td>\n",
       "      <td>-0.980850</td>\n",
       "      <td>-1.077050</td>\n",
       "      <td>-1.141163</td>\n",
       "      <td>-1.655215</td>\n",
       "      <td>...</td>\n",
       "      <td>0.570350</td>\n",
       "      <td>0.110851</td>\n",
       "      <td>0.990802</td>\n",
       "      <td>-1.204208</td>\n",
       "      <td>-0.894073</td>\n",
       "      <td>-0.035082</td>\n",
       "      <td>-0.212720</td>\n",
       "      <td>-1.485491</td>\n",
       "      <td>-0.691650</td>\n",
       "      <td>-0.365833</td>\n",
       "    </tr>\n",
       "    <tr>\n",
       "      <th>4</th>\n",
       "      <td>-0.356761</td>\n",
       "      <td>-0.873439</td>\n",
       "      <td>1.128338</td>\n",
       "      <td>-1.861351</td>\n",
       "      <td>-1.272373</td>\n",
       "      <td>0.496455</td>\n",
       "      <td>-1.351442</td>\n",
       "      <td>-1.098501</td>\n",
       "      <td>-0.496969</td>\n",
       "      <td>-1.620215</td>\n",
       "      <td>...</td>\n",
       "      <td>1.537553</td>\n",
       "      <td>0.581744</td>\n",
       "      <td>0.522188</td>\n",
       "      <td>-1.540636</td>\n",
       "      <td>-1.692833</td>\n",
       "      <td>0.056214</td>\n",
       "      <td>0.536134</td>\n",
       "      <td>-1.494208</td>\n",
       "      <td>-0.454808</td>\n",
       "      <td>-0.317037</td>\n",
       "    </tr>\n",
       "    <tr>\n",
       "      <th>...</th>\n",
       "      <td>...</td>\n",
       "      <td>...</td>\n",
       "      <td>...</td>\n",
       "      <td>...</td>\n",
       "      <td>...</td>\n",
       "      <td>...</td>\n",
       "      <td>...</td>\n",
       "      <td>...</td>\n",
       "      <td>...</td>\n",
       "      <td>...</td>\n",
       "      <td>...</td>\n",
       "      <td>...</td>\n",
       "      <td>...</td>\n",
       "      <td>...</td>\n",
       "      <td>...</td>\n",
       "      <td>...</td>\n",
       "      <td>...</td>\n",
       "      <td>...</td>\n",
       "      <td>...</td>\n",
       "      <td>...</td>\n",
       "      <td>...</td>\n",
       "    </tr>\n",
       "    <tr>\n",
       "      <th>2389</th>\n",
       "      <td>-0.051398</td>\n",
       "      <td>-0.138598</td>\n",
       "      <td>-0.450709</td>\n",
       "      <td>-1.271696</td>\n",
       "      <td>-0.704614</td>\n",
       "      <td>0.445081</td>\n",
       "      <td>-1.184983</td>\n",
       "      <td>-0.096439</td>\n",
       "      <td>-0.639818</td>\n",
       "      <td>-0.364644</td>\n",
       "      <td>...</td>\n",
       "      <td>0.433787</td>\n",
       "      <td>0.407175</td>\n",
       "      <td>1.106879</td>\n",
       "      <td>-0.812399</td>\n",
       "      <td>-1.441804</td>\n",
       "      <td>-0.309056</td>\n",
       "      <td>0.693948</td>\n",
       "      <td>-0.294063</td>\n",
       "      <td>0.217393</td>\n",
       "      <td>-0.074500</td>\n",
       "    </tr>\n",
       "    <tr>\n",
       "      <th>2390</th>\n",
       "      <td>-0.639797</td>\n",
       "      <td>-0.260313</td>\n",
       "      <td>-0.501766</td>\n",
       "      <td>-0.693032</td>\n",
       "      <td>-0.844574</td>\n",
       "      <td>0.426009</td>\n",
       "      <td>-0.750114</td>\n",
       "      <td>-0.009548</td>\n",
       "      <td>-0.651297</td>\n",
       "      <td>-0.696315</td>\n",
       "      <td>...</td>\n",
       "      <td>0.730158</td>\n",
       "      <td>-0.035551</td>\n",
       "      <td>0.559079</td>\n",
       "      <td>-1.108134</td>\n",
       "      <td>-1.777715</td>\n",
       "      <td>-0.282126</td>\n",
       "      <td>0.921828</td>\n",
       "      <td>-0.093053</td>\n",
       "      <td>-1.006203</td>\n",
       "      <td>-0.633085</td>\n",
       "    </tr>\n",
       "    <tr>\n",
       "      <th>2391</th>\n",
       "      <td>-0.262894</td>\n",
       "      <td>-0.201490</td>\n",
       "      <td>-0.776411</td>\n",
       "      <td>-1.628114</td>\n",
       "      <td>-0.824789</td>\n",
       "      <td>0.753134</td>\n",
       "      <td>-1.053622</td>\n",
       "      <td>-0.403603</td>\n",
       "      <td>-0.668763</td>\n",
       "      <td>-0.633884</td>\n",
       "      <td>...</td>\n",
       "      <td>0.080172</td>\n",
       "      <td>0.702641</td>\n",
       "      <td>0.503137</td>\n",
       "      <td>-1.151867</td>\n",
       "      <td>-1.180909</td>\n",
       "      <td>0.107792</td>\n",
       "      <td>-0.481588</td>\n",
       "      <td>-0.123500</td>\n",
       "      <td>-0.210645</td>\n",
       "      <td>0.090385</td>\n",
       "    </tr>\n",
       "    <tr>\n",
       "      <th>2392</th>\n",
       "      <td>-0.282158</td>\n",
       "      <td>-0.322060</td>\n",
       "      <td>-0.958403</td>\n",
       "      <td>-1.221992</td>\n",
       "      <td>-1.297327</td>\n",
       "      <td>0.649798</td>\n",
       "      <td>-0.758350</td>\n",
       "      <td>-0.353878</td>\n",
       "      <td>-0.319313</td>\n",
       "      <td>-0.523130</td>\n",
       "      <td>...</td>\n",
       "      <td>0.847846</td>\n",
       "      <td>0.355244</td>\n",
       "      <td>0.043943</td>\n",
       "      <td>-1.042431</td>\n",
       "      <td>-1.625324</td>\n",
       "      <td>-0.508618</td>\n",
       "      <td>0.601720</td>\n",
       "      <td>-0.475245</td>\n",
       "      <td>-0.336199</td>\n",
       "      <td>-0.173208</td>\n",
       "    </tr>\n",
       "    <tr>\n",
       "      <th>2393</th>\n",
       "      <td>-0.310563</td>\n",
       "      <td>-0.375754</td>\n",
       "      <td>-0.956617</td>\n",
       "      <td>-0.808226</td>\n",
       "      <td>-1.224620</td>\n",
       "      <td>0.474480</td>\n",
       "      <td>-1.305750</td>\n",
       "      <td>-1.016630</td>\n",
       "      <td>-0.255783</td>\n",
       "      <td>0.055099</td>\n",
       "      <td>...</td>\n",
       "      <td>0.960672</td>\n",
       "      <td>0.359123</td>\n",
       "      <td>0.791634</td>\n",
       "      <td>-1.143809</td>\n",
       "      <td>-2.324689</td>\n",
       "      <td>-0.587903</td>\n",
       "      <td>1.310776</td>\n",
       "      <td>-0.204382</td>\n",
       "      <td>-0.459358</td>\n",
       "      <td>-0.535491</td>\n",
       "    </tr>\n",
       "  </tbody>\n",
       "</table>\n",
       "<p>2394 rows × 1536 columns</p>\n",
       "</div>"
      ],
      "text/plain": [
       "             0         1         2         3         4         5         6  \\\n",
       "0    -0.228883 -0.798650  1.206804 -2.379915 -1.636264  0.360619 -0.825054   \n",
       "1    -0.557883 -0.409383  1.171087 -1.981327 -1.036210  0.220497 -0.838605   \n",
       "2    -0.854444 -1.084031  0.989973 -1.987451 -1.624811  0.425982 -1.417340   \n",
       "3    -0.282068 -1.068843  1.547549 -2.913010 -2.350163  0.858396 -0.980850   \n",
       "4    -0.356761 -0.873439  1.128338 -1.861351 -1.272373  0.496455 -1.351442   \n",
       "...        ...       ...       ...       ...       ...       ...       ...   \n",
       "2389 -0.051398 -0.138598 -0.450709 -1.271696 -0.704614  0.445081 -1.184983   \n",
       "2390 -0.639797 -0.260313 -0.501766 -0.693032 -0.844574  0.426009 -0.750114   \n",
       "2391 -0.262894 -0.201490 -0.776411 -1.628114 -0.824789  0.753134 -1.053622   \n",
       "2392 -0.282158 -0.322060 -0.958403 -1.221992 -1.297327  0.649798 -0.758350   \n",
       "2393 -0.310563 -0.375754 -0.956617 -0.808226 -1.224620  0.474480 -1.305750   \n",
       "\n",
       "             7         8         9  ...      1526      1527      1528  \\\n",
       "0    -0.813067 -0.548199 -1.500611  ...  0.342699  0.234322  0.672558   \n",
       "1    -0.819698 -1.100810 -1.012501  ...  0.931535  0.818045  1.471216   \n",
       "2    -0.267563 -1.422044 -1.560554  ...  0.854357  0.700630  0.814746   \n",
       "3    -1.077050 -1.141163 -1.655215  ...  0.570350  0.110851  0.990802   \n",
       "4    -1.098501 -0.496969 -1.620215  ...  1.537553  0.581744  0.522188   \n",
       "...        ...       ...       ...  ...       ...       ...       ...   \n",
       "2389 -0.096439 -0.639818 -0.364644  ...  0.433787  0.407175  1.106879   \n",
       "2390 -0.009548 -0.651297 -0.696315  ...  0.730158 -0.035551  0.559079   \n",
       "2391 -0.403603 -0.668763 -0.633884  ...  0.080172  0.702641  0.503137   \n",
       "2392 -0.353878 -0.319313 -0.523130  ...  0.847846  0.355244  0.043943   \n",
       "2393 -1.016630 -0.255783  0.055099  ...  0.960672  0.359123  0.791634   \n",
       "\n",
       "          1529      1530      1531      1532      1533      1534      1535  \n",
       "0    -0.972752 -1.087595 -0.216367  0.320369 -1.215356 -0.443726 -0.299795  \n",
       "1    -1.408638 -1.282735  0.167310  0.973538 -1.621110 -0.358796 -0.720913  \n",
       "2    -1.859064 -1.603771  0.459844 -0.040004 -1.096585 -0.427586 -0.427207  \n",
       "3    -1.204208 -0.894073 -0.035082 -0.212720 -1.485491 -0.691650 -0.365833  \n",
       "4    -1.540636 -1.692833  0.056214  0.536134 -1.494208 -0.454808 -0.317037  \n",
       "...        ...       ...       ...       ...       ...       ...       ...  \n",
       "2389 -0.812399 -1.441804 -0.309056  0.693948 -0.294063  0.217393 -0.074500  \n",
       "2390 -1.108134 -1.777715 -0.282126  0.921828 -0.093053 -1.006203 -0.633085  \n",
       "2391 -1.151867 -1.180909  0.107792 -0.481588 -0.123500 -0.210645  0.090385  \n",
       "2392 -1.042431 -1.625324 -0.508618  0.601720 -0.475245 -0.336199 -0.173208  \n",
       "2393 -1.143809 -2.324689 -0.587903  1.310776 -0.204382 -0.459358 -0.535491  \n",
       "\n",
       "[2394 rows x 1536 columns]"
      ]
     },
     "execution_count": 116,
     "metadata": {},
     "output_type": "execute_result"
    }
   ],
   "source": [
    "global_autoencoder_eacl_predictions = global_autoencoder_model.predict(eacl_vectors_df)\n",
    "global_autoencoder_eacl_predictions_df = pd.DataFrame(global_autoencoder_eacl_predictions)\n",
    "global_autoencoder_eacl_predictions_df.columns = [str(i) for i in global_autoencoder_eacl_predictions_df.columns]\n",
    "global_autoencoder_eacl_predictions_df"
   ]
  },
  {
   "cell_type": "code",
   "execution_count": 276,
   "id": "bf59883b-5d62-4fe8-9f71-1d08f08e16fd",
   "metadata": {},
   "outputs": [],
   "source": [
    "eacl_embeddings_df_32 = tf.cast(eacl_vectors_df, dtype=tf.float32)\n",
    "pred_topk = []\n",
    "\n",
    "for i, row in global_autoencoder_eacl_predictions_df.iterrows():\n",
    "    successes = 0\n",
    "    y_pred = tf.reshape(row.values, [1, -1])\n",
    "    target_topic = eacl_embeddings_df.loc[i]['topicId']\n",
    "    target_type = 'PRO' if eacl_embeddings_df.loc[i]['claims.stance'] == 'CON' else 'CON'\n",
    "\n",
    "    cos_sim_pred = tf.matmul(eacl_embeddings_df_32, y_pred, transpose_b=True) / tf.reshape(tf.norm(y_pred) * tf.norm(eacl_embeddings_df_32, axis=1), [-1, 1])\n",
    "    top_k_sim_pred = tf.math.top_k(tf.reshape(cos_sim_pred, [-1]), k=200).indices\n",
    "    top_k_sim_pred = top_k_sim_pred.numpy()\n",
    "    \n",
    "    for index in top_k_sim_pred:\n",
    "        match_row = eacl_embeddings_df.loc[index]\n",
    "        if match_row['topicId'] == target_topic and match_row['claims.stance'] == target_type:\n",
    "            successes += 1 \n",
    "    pred_topk.append(successes/200 * 100)"
   ]
  },
  {
   "cell_type": "code",
   "execution_count": 277,
   "id": "f46342f6-4d63-41f6-bf01-49f8073da088",
   "metadata": {},
   "outputs": [
    {
     "data": {
      "text/plain": [
       "12.06641604010025"
      ]
     },
     "execution_count": 277,
     "metadata": {},
     "output_type": "execute_result"
    }
   ],
   "source": [
    "statistics.mean(pred_topk)"
   ]
  },
  {
   "cell_type": "markdown",
   "id": "cbe8558f-5a3d-4f1b-ba35-b0aa981cbc12",
   "metadata": {},
   "source": [
    "## Predict"
   ]
  },
  {
   "cell_type": "markdown",
   "id": "8ca2e6de-867f-41d3-9fca-eda391049724",
   "metadata": {},
   "source": [
    "#### Global Predict"
   ]
  },
  {
   "cell_type": "code",
   "execution_count": 267,
   "id": "689efa18-64a5-4bfe-80dc-976a3e340cbf",
   "metadata": {
    "scrolled": true
   },
   "outputs": [
    {
     "name": "stdout",
     "output_type": "stream",
     "text": [
      "26/26 [==============================] - 0s 6ms/step\n"
     ]
    }
   ],
   "source": [
    "# Global model predictions\n",
    "global_autoencoder_predictions = global_autoencoder_model.predict(global_x_test)\n",
    "global_autoencoder_predictions_df = pd.DataFrame(global_autoencoder_predictions)\n",
    "global_autoencoder_predictions_df.columns = [str(i) for i in global_autoencoder_predictions_df.columns]\n",
    "output_folder = f'../data_dump/autoencoder_predictions_dump/global/'\n",
    "output_file_path = f'{output_folder}global_predictions.pkl'\n",
    "if not os.path.exists(output_folder):\n",
    "    os.makedirs(output_folder)\n",
    "global_autoencoder_predictions_df.to_pickle(output_file_path)"
   ]
  },
  {
   "cell_type": "code",
   "execution_count": 7,
   "id": "3b5713d1-9ca4-4053-aaad-5e72869ee3fd",
   "metadata": {},
   "outputs": [
    {
     "ename": "NameError",
     "evalue": "name 'global_autoencoder_predictions_df' is not defined",
     "output_type": "error",
     "traceback": [
      "\u001b[0;31m---------------------------------------------------------------------------\u001b[0m",
      "\u001b[0;31mNameError\u001b[0m                                 Traceback (most recent call last)",
      "Cell \u001b[0;32mIn[7], line 2\u001b[0m\n\u001b[1;32m      1\u001b[0m successes \u001b[38;5;241m=\u001b[39m \u001b[38;5;241m0\u001b[39m\n\u001b[0;32m----> 2\u001b[0m \u001b[38;5;28;01mfor\u001b[39;00m i, y_pred \u001b[38;5;129;01min\u001b[39;00m \u001b[43mglobal_autoencoder_predictions_df\u001b[49m\u001b[38;5;241m.\u001b[39miterrows():\n\u001b[1;32m      3\u001b[0m     global_y_test_tf \u001b[38;5;241m=\u001b[39m tf\u001b[38;5;241m.\u001b[39mreshape(global_y_test\u001b[38;5;241m.\u001b[39mloc[i], [\u001b[38;5;241m1\u001b[39m, \u001b[38;5;241m1536\u001b[39m])\n\u001b[1;32m      4\u001b[0m     global_y_test_tf \u001b[38;5;241m=\u001b[39m tf\u001b[38;5;241m.\u001b[39mcast(global_y_test_tf, dtype\u001b[38;5;241m=\u001b[39mtf\u001b[38;5;241m.\u001b[39mfloat32)\n",
      "\u001b[0;31mNameError\u001b[0m: name 'global_autoencoder_predictions_df' is not defined"
     ]
    }
   ],
   "source": [
    "successes = 0\n",
    "for i, y_pred in global_autoencoder_predictions_df.iterrows():\n",
    "    global_y_test_tf = tf.reshape(global_y_test.loc[i], [1, 1536])\n",
    "    global_y_test_tf = tf.cast(global_y_test_tf, dtype=tf.float32)\n",
    "    \n",
    "    y_pred_tf = tf.reshape(y_pred, [1, 1536])\n",
    "    y_pred_tf = tf.cast(y_pred_tf, dtype=tf.float32)\n",
    "    res = metric_choose_argument_global_y_train(global_y_test_tf, y_pred_tf).numpy()\n",
    "    if res == 1:\n",
    "        successes += 1"
   ]
  },
  {
   "cell_type": "code",
   "execution_count": 97,
   "id": "a6f7dc1e-0b7c-41bc-a46d-8b282fb23a0d",
   "metadata": {},
   "outputs": [
    {
     "ename": "NameError",
     "evalue": "name 'successes' is not defined",
     "output_type": "error",
     "traceback": [
      "\u001b[0;31m---------------------------------------------------------------------------\u001b[0m",
      "\u001b[0;31mNameError\u001b[0m                                 Traceback (most recent call last)",
      "Cell \u001b[0;32mIn[97], line 1\u001b[0m\n\u001b[0;32m----> 1\u001b[0m \u001b[43msuccesses\u001b[49m\n",
      "\u001b[0;31mNameError\u001b[0m: name 'successes' is not defined"
     ]
    }
   ],
   "source": [
    "successes"
   ]
  },
  {
   "cell_type": "code",
   "execution_count": 284,
   "id": "d7be9e24-eba5-4882-87bd-6bf383c39a0d",
   "metadata": {},
   "outputs": [
    {
     "data": {
      "text/plain": [
       "813"
      ]
     },
     "execution_count": 284,
     "metadata": {},
     "output_type": "execute_result"
    }
   ],
   "source": [
    "len(global_autoencoder_predictions_df)"
   ]
  },
  {
   "cell_type": "markdown",
   "id": "3da9bc0d-8186-4fd2-88b4-8b221ea5ae55",
   "metadata": {},
   "source": [
    "#### Global Shuffled Predict"
   ]
  },
  {
   "cell_type": "code",
   "execution_count": 35,
   "id": "6d8de366-45de-48f1-9fbe-1437a20b5fdb",
   "metadata": {},
   "outputs": [
    {
     "name": "stdout",
     "output_type": "stream",
     "text": [
      "26/26 [==============================] - 0s 4ms/step\n"
     ]
    }
   ],
   "source": [
    "# Global model predictions\n",
    "global_shuffled_autoencoder_predictions = global_shuffled_autoencoder_model.predict(global_x_test)\n",
    "global_shuffled_autoencoder_predictions_df = pd.DataFrame(global_shuffled_autoencoder_predictions)\n",
    "global_shuffled_autoencoder_predictions_df.columns = [str(i) for i in global_shuffled_autoencoder_predictions_df.columns]\n",
    "output_folder = f'../data_dump/autoencoder_predictions_dump/global/'\n",
    "output_file_path = f'{output_folder}global_shuffled_predictions.pkl'\n",
    "if not os.path.exists(output_folder):\n",
    "    os.makedirs(output_folder)\n",
    "global_shuffled_autoencoder_predictions_df.to_pickle(output_file_path)"
   ]
  },
  {
   "cell_type": "code",
   "execution_count": 36,
   "id": "758ca888-2edc-4310-9a2a-eb1fad2fa9a1",
   "metadata": {},
   "outputs": [],
   "source": [
    "global_shuffled_autoencoder_predictions_df = pd.read_pickle(\"../data_dump/autoencoder_predictions_dump/global/global_shuffled_predictions.pkl\")"
   ]
  },
  {
   "cell_type": "code",
   "execution_count": 37,
   "id": "53d339b9-cef3-4d27-8f79-18137e426e92",
   "metadata": {},
   "outputs": [],
   "source": [
    "successes_shuffled = 0\n",
    "for i, y_pred in global_shuffled_autoencoder_predictions_df.iterrows():\n",
    "    global_y_test_tf = tf.reshape(global_y_test.loc[i], [1, 1536])\n",
    "    global_y_test_tf = tf.cast(global_y_test_tf, dtype=tf.float32)\n",
    "    \n",
    "    y_pred_tf = tf.reshape(y_pred, [1, 1536])\n",
    "    y_pred_tf = tf.cast(y_pred_tf, dtype=tf.float32)\n",
    "    res = metric_choose_argument_global_y_train(global_y_test_tf, y_pred_tf).numpy()\n",
    "    if res == 1:\n",
    "        successes_shuffled += 1"
   ]
  },
  {
   "cell_type": "code",
   "execution_count": 38,
   "id": "a9a988e9-cbc0-46c2-92f2-ea5b44065ac0",
   "metadata": {},
   "outputs": [
    {
     "data": {
      "text/plain": [
       "51"
      ]
     },
     "execution_count": 38,
     "metadata": {},
     "output_type": "execute_result"
    }
   ],
   "source": [
    "successes_shuffled"
   ]
  },
  {
   "cell_type": "markdown",
   "id": "39c772c0-a40c-4482-ae40-be2b8c498fb1",
   "metadata": {},
   "source": [
    "#### Category Predict"
   ]
  },
  {
   "cell_type": "code",
   "execution_count": null,
   "id": "14468286-0443-446f-9bd4-21d55e954d9e",
   "metadata": {},
   "outputs": [],
   "source": [
    "# Category model predictions\n",
    "category_autoencoder_predictions = category_autoencoder_model.predict(economy_x_test)\n",
    "category_autoencoder_predictions_df = pd.DataFrame(category_autoencoder_predictions)\n",
    "category_autoencoder_predictions_df.columns = [str(i) for i in category_autoencoder_predictions_df.columns]"
   ]
  },
  {
   "cell_type": "markdown",
   "id": "eefddf8a-d8c2-4b1f-9edc-4dd58fd057b3",
   "metadata": {},
   "source": [
    "#### Debate Predict"
   ]
  },
  {
   "cell_type": "code",
   "execution_count": null,
   "id": "07d8acff-86a7-4806-9c35-46f4bdd1bd8e",
   "metadata": {},
   "outputs": [],
   "source": [
    "# Debate model predictions\n",
    "debate_autoencoder_predictions = debate_autoencoder_model.predict(economy_debate_x_test)\n",
    "debate_autoencoder_predictions_df = pd.DataFrame(debate_autoencoder_predictions)\n",
    "debate_autoencoder_predictions_df.columns = [str(i) for i in debate_autoencoder_predictions_df.columns]"
   ]
  },
  {
   "cell_type": "markdown",
   "id": "03235685-a6fd-4935-b4bb-42aafa8cd477",
   "metadata": {},
   "source": [
    "## Combine Point-Counter Dataframes"
   ]
  },
  {
   "cell_type": "markdown",
   "id": "4e49be1d-6639-4126-b5ea-0adb583407f3",
   "metadata": {},
   "source": [
    "#### Global point-counter df"
   ]
  },
  {
   "cell_type": "code",
   "execution_count": null,
   "id": "9d77263c-48c8-4672-905d-8574c92d701f",
   "metadata": {},
   "outputs": [],
   "source": [
    "# Combine global_x_test and global_y_test\n",
    "global_x_test_df = global_x_test.copy().astype(np.float32)\n",
    "global_x_test_df['pair_id'] = global_x_test_df.index.astype(str)\n",
    "global_x_test_df['type'] = 'point'\n",
    "global_x_test_df['pred_test'] = 'test'\n",
    "\n",
    "global_y_test_df = global_y_test.copy().astype(np.float32)\n",
    "global_y_test_df['pair_id'] = global_y_test_df.index.astype(str)\n",
    "global_y_test_df['type'] = 'counter'\n",
    "global_y_test_df['pred_test'] = 'test'\n",
    "\n",
    "global_x_y_test_combined_df = pd.concat([global_x_test_df, global_y_test_df], axis=0, ignore_index=True)"
   ]
  },
  {
   "cell_type": "code",
   "execution_count": null,
   "id": "a5dada4b-3a0a-494c-a69c-6505e7128352",
   "metadata": {},
   "outputs": [],
   "source": [
    "# Combine global_x_test and global autoencoder predictions\n",
    "global_x_test_df_copy = global_x_test.copy().astype(np.float32)\n",
    "global_x_test_df_copy['pair_id'] = global_x_test_df_copy.index.astype(str)\n",
    "global_x_test_df_copy['type'] = 'point'\n",
    "global_x_test_df_copy['pred_test'] = 'pred'\n",
    "global_autoencoder_predictions_df['pair_id'] = global_autoencoder_predictions_df.index.astype(str)\n",
    "global_autoencoder_predictions_df['type'] = 'counter'\n",
    "global_autoencoder_predictions_df['pred_test'] = 'pred'\n",
    "global_pred_test_combined_df = pd.concat([global_x_test_df_copy, global_autoencoder_predictions_df], axis=0, ignore_index=True)"
   ]
  },
  {
   "cell_type": "code",
   "execution_count": null,
   "id": "45056b66-c288-48ed-b45f-f50d93e95da5",
   "metadata": {},
   "outputs": [],
   "source": [
    "# Combine global_x_test and global_y_test and global autoencoder predictions\n",
    "global_combined_df = pd.concat([global_x_test_df, global_y_test_df, global_autoencoder_predictions_df], axis=0, ignore_index=True)"
   ]
  },
  {
   "cell_type": "markdown",
   "id": "1ccef0cb-a890-40af-ae50-f2fa56d3802b",
   "metadata": {},
   "source": [
    "#### Global shuffled point-counter df"
   ]
  },
  {
   "cell_type": "code",
   "execution_count": null,
   "id": "cfa03f35-f41f-4fc6-bc25-ada412e3ca8e",
   "metadata": {},
   "outputs": [],
   "source": [
    "# Combine global_x_test and global_y_test_shuffled\n",
    "global_x_test_df = global_x_test.copy().astype(np.float32)\n",
    "global_x_test_df['pair_id'] = global_x_test_df.index.astype(str)\n",
    "global_x_test_df['type'] = 'point'\n",
    "global_x_test_df['pred_test'] = 'test'\n",
    "\n",
    "global_y_test_shuffled_df = global_y_test_shuffled.copy().astype(np.float32)\n",
    "global_y_test_shuffled_df['pair_id'] = global_y_test_shuffled_df.index.astype(str)\n",
    "global_y_test_shuffled_df['type'] = 'counter'\n",
    "global_y_test_shuffled_df['pred_test'] = 'test'\n",
    "\n",
    "global_x_y_test_combined_shuffled_df = pd.concat([global_x_test_df, global_y_test_shuffled_df], axis=0, ignore_index=True)"
   ]
  },
  {
   "cell_type": "code",
   "execution_count": null,
   "id": "d37aecb6-3716-4823-99bd-bd07b04544f1",
   "metadata": {},
   "outputs": [],
   "source": [
    "# Combine global_x_test and global shuffled autoencoder predictions\n",
    "global_x_test_df_copy = global_x_test.copy().astype(np.float32)\n",
    "global_x_test_df_copy['pair_id'] = global_x_test_df_copy.index.astype(str)\n",
    "global_x_test_df_copy['type'] = 'point'\n",
    "global_x_test_df_copy['pred_test'] = 'pred'\n",
    "global_shuffled_autoencoder_predictions_df['pair_id'] = global_shuffled_autoencoder_predictions_df.index.astype(str)\n",
    "global_shuffled_autoencoder_predictions_df['type'] = 'counter'\n",
    "global_shuffled_autoencoder_predictions_df['pred_test'] = 'pred'\n",
    "global_pred_test_combined_shuffled_df = pd.concat([global_x_test_df_copy, global_shuffled_autoencoder_predictions_df], axis=0, ignore_index=True)"
   ]
  },
  {
   "cell_type": "code",
   "execution_count": null,
   "id": "d6cf3a8a-193a-4109-9fef-de3571d06b64",
   "metadata": {},
   "outputs": [],
   "source": [
    "# Combine global_x_test and global_y_test and global autoencoder predictions\n",
    "global_combined_shuffled_df = pd.concat([global_x_test_df, global_y_test_shuffled_df, global_shuffled_autoencoder_predictions_df], axis=0, ignore_index=True)"
   ]
  },
  {
   "cell_type": "markdown",
   "id": "77be65ac-e1c4-427b-9833-0359139f2b83",
   "metadata": {},
   "source": [
    "#### Category point-counter df"
   ]
  },
  {
   "cell_type": "code",
   "execution_count": null,
   "id": "bccfc4b3-be7f-4c17-9076-ddbc8e24ead7",
   "metadata": {},
   "outputs": [],
   "source": [
    "# Combine economy_x_test and economy_y_test\n",
    "economy_x_test_df = economy_x_test.copy().astype(np.float32)\n",
    "economy_x_test_df['pair_id'] = economy_x_test_df.index.astype(str)\n",
    "economy_x_test_df['type'] = 'point'\n",
    "economy_x_test_df['pred_test'] = 'test'\n",
    "\n",
    "economy_y_test_df = economy_y_test.copy().astype(np.float32)\n",
    "economy_y_test_df['pair_id'] = economy_y_test_df.index.astype(str)\n",
    "economy_y_test_df['type'] = 'counter'\n",
    "economy_y_test_df['pred_test'] = 'test'\n",
    "\n",
    "economy_x_y_test_combined_df = pd.concat([economy_x_test_df, economy_y_test_df], axis=0, ignore_index=True)"
   ]
  },
  {
   "cell_type": "code",
   "execution_count": null,
   "id": "6ba613ad-3d53-448b-990f-5563aadc8410",
   "metadata": {},
   "outputs": [],
   "source": [
    "# Combine economy_x_test and economy autoencoder predictions\n",
    "economy_x_test_df_copy = economy_x_test.copy().astype(np.float32)\n",
    "economy_x_test_df_copy['pair_id'] = economy_x_test_df_copy.index.astype(str)\n",
    "economy_x_test_df_copy['type'] = 'point'\n",
    "economy_x_test_df_copy['pred_test'] = 'pred'\n",
    "category_autoencoder_predictions_df['pair_id'] = category_autoencoder_predictions_df.index.astype(str)\n",
    "category_autoencoder_predictions_df['type'] = 'counter'\n",
    "category_autoencoder_predictions_df['pred_test'] = 'pred'\n",
    "economy_pred_test_combined_df = pd.concat([economy_x_test_df_copy, category_autoencoder_predictions_df], axis=0, ignore_index=True)"
   ]
  },
  {
   "cell_type": "code",
   "execution_count": null,
   "id": "56040082-3205-4b93-9335-802da51c1d32",
   "metadata": {},
   "outputs": [],
   "source": [
    "# Combine economy_x_test and economy_y_test and economy autoencoder predictions\n",
    "economy_combined_df = pd.concat([economy_x_test_df, economy_y_test_df, category_autoencoder_predictions_df], axis=0, ignore_index=True)"
   ]
  },
  {
   "cell_type": "markdown",
   "id": "0a6b7bcd-1798-4d76-a917-614416dc8e78",
   "metadata": {},
   "source": [
    "#### Debate point-counter df"
   ]
  },
  {
   "cell_type": "code",
   "execution_count": null,
   "id": "45410c3a-d264-4606-b8dd-98bb96547b0f",
   "metadata": {},
   "outputs": [],
   "source": [
    "# Combine economy_debate_x_test and economy_debate_y_test\n",
    "economy_debate_x_test_df = economy_debate_x_test.copy().astype(np.float32)\n",
    "economy_debate_x_test_df['pair_id'] = economy_debate_x_test_df.index.astype(str)\n",
    "economy_debate_x_test_df['type'] = 'point'\n",
    "economy_debate_x_test_df['pred_test'] = 'test'\n",
    "\n",
    "economy_debate_y_test_df = economy_debate_y_test.copy().astype(np.float32)\n",
    "economy_debate_y_test_df['pair_id'] = economy_debate_y_test_df.index.astype(str)\n",
    "economy_debate_y_test_df['type'] = 'counter'\n",
    "economy_debate_y_test_df['pred_test'] = 'test'\n",
    "\n",
    "economy_debate_x_y_test_combined_df = pd.concat([economy_debate_x_test_df, economy_debate_y_test_df], axis=0, ignore_index=True)"
   ]
  },
  {
   "cell_type": "code",
   "execution_count": null,
   "id": "a92e81e0-dcb7-46ee-8297-b295822fa482",
   "metadata": {},
   "outputs": [],
   "source": [
    "# Combine economy_debate_x_test and debate autoencoder predictions\n",
    "economy_debate_x_test_df_copy = economy_debate_x_test.copy().astype(np.float32)\n",
    "economy_debate_x_test_df_copy['pair_id'] = economy_debate_x_test_df_copy.index.astype(str)\n",
    "economy_debate_x_test_df_copy['type'] = 'point'\n",
    "economy_debate_x_test_df_copy['pred_test'] = 'pred'\n",
    "debate_autoencoder_predictions_df['pair_id'] = debate_autoencoder_predictions_df.index.astype(str)\n",
    "debate_autoencoder_predictions_df['type'] = 'counter'\n",
    "debate_autoencoder_predictions_df['pred_test'] = 'pred'\n",
    "economy_debate_pred_test_combined_df = pd.concat([economy_debate_x_test_df_copy, debate_autoencoder_predictions_df], axis=0, ignore_index=True)"
   ]
  },
  {
   "cell_type": "code",
   "execution_count": null,
   "id": "62a81df7-fcd8-4df7-8e98-12e089b32ae4",
   "metadata": {},
   "outputs": [],
   "source": [
    "# Combine economy_x_test and economy_y_test and debate autoencoder predictions\n",
    "economy_debate_combined_df = pd.concat([economy_debate_x_test_df, economy_debate_y_test_df, debate_autoencoder_predictions_df], axis=0, ignore_index=True)"
   ]
  },
  {
   "cell_type": "markdown",
   "id": "acdb0de8-a00c-4bc9-ac04-4824c49b02dd",
   "metadata": {},
   "source": [
    "#### Global tsne df"
   ]
  },
  {
   "cell_type": "code",
   "execution_count": null,
   "id": "0d198a5b-4052-4042-92e6-e58362c7bb21",
   "metadata": {},
   "outputs": [],
   "source": [
    "# TSNE global_x_y_test\n",
    "global_x_y_test_combined_tsne_df = tsne_embeddings(global_x_y_test_combined_df)"
   ]
  },
  {
   "cell_type": "code",
   "execution_count": null,
   "id": "123eae47-4d48-4fc0-a06b-51e7568108ef",
   "metadata": {},
   "outputs": [],
   "source": [
    "# TSNE global autoencoder predictions\n",
    "global_pred_test_combined_tsne_df = tsne_embeddings(global_pred_test_combined_df)"
   ]
  },
  {
   "cell_type": "code",
   "execution_count": null,
   "id": "74e503bb-d0f5-4a8b-8723-f42200b54851",
   "metadata": {},
   "outputs": [],
   "source": [
    "# TSNE global combined df\n",
    "global_combined_tsne_df = tsne_embeddings(global_combined_df)"
   ]
  },
  {
   "cell_type": "code",
   "execution_count": null,
   "id": "d72ad3ce-01a7-4409-9ce8-3dfdf44b7f0f",
   "metadata": {},
   "outputs": [],
   "source": [
    "# Combine both prediction and test tsne df\n",
    "global_both_tsne_df = pd.concat([global_x_y_test_combined_tsne_df, global_pred_test_combined_tsne_df], axis=0)"
   ]
  },
  {
   "cell_type": "markdown",
   "id": "f1582319-f64f-4c36-bcca-17331b3b11ec",
   "metadata": {},
   "source": [
    "#### Global shuffled tsne df"
   ]
  },
  {
   "cell_type": "code",
   "execution_count": null,
   "id": "410030da-3980-40d7-9e10-3719d45f0e2d",
   "metadata": {},
   "outputs": [],
   "source": [
    "# TSNE global_x_y_shuffled_test\n",
    "global_x_y_test_combined_shuffled_tsne_df = tsne_embeddings(global_x_y_test_combined_shuffled_df)"
   ]
  },
  {
   "cell_type": "code",
   "execution_count": null,
   "id": "7bcc9b71-592f-49a6-ac9b-811fabe729ed",
   "metadata": {},
   "outputs": [],
   "source": [
    "# TSNE global shuffled autoencoder predictions\n",
    "global_pred_test_combined_shuffled_tsne_df = tsne_embeddings(global_pred_test_combined_shuffled_df)"
   ]
  },
  {
   "cell_type": "code",
   "execution_count": null,
   "id": "63641fcf-4434-460f-bba8-8878d351af08",
   "metadata": {},
   "outputs": [],
   "source": [
    "# TSNE global shuffled combined df\n",
    "global_combined_shuffled_tsne_df = tsne_embeddings(global_combined_shuffled_df)"
   ]
  },
  {
   "cell_type": "code",
   "execution_count": null,
   "id": "d5a902a9-098b-4033-8528-94643af6a7bd",
   "metadata": {},
   "outputs": [],
   "source": [
    "# Combine both prediction and test shuffled tsne df\n",
    "global_both_shuffled_tsne_df = pd.concat([global_x_y_test_combined_shuffled_tsne_df, global_pred_test_combined_shuffled_tsne_df], axis=0)"
   ]
  },
  {
   "cell_type": "markdown",
   "id": "a0590035-a359-4830-8e20-00c29d9cd8ad",
   "metadata": {},
   "source": [
    "#### Category tsne df"
   ]
  },
  {
   "cell_type": "code",
   "execution_count": null,
   "id": "05e113a8-9398-4933-8363-246b5c9491f8",
   "metadata": {},
   "outputs": [],
   "source": [
    "# TSNE economy_x_y_test\n",
    "economy_x_y_test_combined_tsne_df = tsne_embeddings(economy_x_y_test_combined_df)"
   ]
  },
  {
   "cell_type": "code",
   "execution_count": null,
   "id": "a4558d4f-8749-4bca-b939-73994b57d45e",
   "metadata": {},
   "outputs": [],
   "source": [
    "# TSNE category autoencoder predictions\n",
    "economy_pred_test_combined_tsne_df = tsne_embeddings(economy_pred_test_combined_df)"
   ]
  },
  {
   "cell_type": "code",
   "execution_count": null,
   "id": "9a48d91d-8827-4aac-afc1-0dcaa94fcf33",
   "metadata": {},
   "outputs": [],
   "source": [
    "# TSNE economy combined df\n",
    "economy_combined_tsne_df = tsne_embeddings(economy_combined_df)"
   ]
  },
  {
   "cell_type": "code",
   "execution_count": null,
   "id": "a4795fee-e608-478c-a17a-5ac9c3bfddc5",
   "metadata": {},
   "outputs": [],
   "source": [
    "# Combine both prediction and test tsne df\n",
    "economy_both_tsne_df = pd.concat([economy_x_y_test_combined_tsne_df, economy_pred_test_combined_tsne_df], axis=0)"
   ]
  },
  {
   "cell_type": "markdown",
   "id": "d36918d1-055f-4665-aaff-519796fa9c0b",
   "metadata": {},
   "source": [
    "#### Debate tsne df"
   ]
  },
  {
   "cell_type": "code",
   "execution_count": null,
   "id": "8e999fcb-b932-4ece-b9ce-cd592ea2440e",
   "metadata": {},
   "outputs": [],
   "source": [
    "# TSNE economy_debate_x_y_test\n",
    "economy_debate_x_y_test_combined_tsne_df = tsne_embeddings(economy_debate_x_y_test_combined_df)"
   ]
  },
  {
   "cell_type": "code",
   "execution_count": null,
   "id": "d2df1a87-86d2-48a8-9bf6-369add9aec9a",
   "metadata": {},
   "outputs": [],
   "source": [
    "# TSNE debate autoencoder predictions\n",
    "economy_debate_pred_test_combined_tsne_df = tsne_embeddings(economy_debate_pred_test_combined_df)"
   ]
  },
  {
   "cell_type": "code",
   "execution_count": null,
   "id": "4fff784e-091e-40d3-afc5-63cb48b96ec5",
   "metadata": {},
   "outputs": [],
   "source": [
    "# TSNE debate combined df\n",
    "economy_debate_combined_tsne_df = tsne_embeddings(economy_debate_combined_df)"
   ]
  },
  {
   "cell_type": "code",
   "execution_count": null,
   "id": "2fcb60a5-8e4e-4ca7-bd97-227326b843d6",
   "metadata": {},
   "outputs": [],
   "source": [
    "# Combine both prediction and test tsne df\n",
    "economy_debate_both_tsne_df = pd.concat([economy_debate_x_y_test_combined_tsne_df, economy_debate_pred_test_combined_tsne_df], axis=0)"
   ]
  },
  {
   "cell_type": "markdown",
   "id": "b5439cfb-3d27-45a7-b70b-b332e03ec38f",
   "metadata": {},
   "source": [
    "## PCA Dataframes"
   ]
  },
  {
   "cell_type": "markdown",
   "id": "90ec2e6d-c1f4-49ec-b1ab-5cf6cf61edde",
   "metadata": {},
   "source": [
    "#### Global pca df"
   ]
  },
  {
   "cell_type": "code",
   "execution_count": null,
   "id": "ffc2a09b-22ff-4d99-834e-722425d1c582",
   "metadata": {},
   "outputs": [],
   "source": [
    "# PCA global_x_y_test\n",
    "global_x_y_test_combined_pca_df = pca_embeddings(global_x_y_test_combined_df)"
   ]
  },
  {
   "cell_type": "code",
   "execution_count": null,
   "id": "ac0f2fc4-09b0-4a16-abd0-9ace1e0ef39a",
   "metadata": {},
   "outputs": [],
   "source": [
    "# PCA global autoencoder predictions\n",
    "global_pred_test_combined_pca_df = pca_embeddings(global_pred_test_combined_df)"
   ]
  },
  {
   "cell_type": "code",
   "execution_count": null,
   "id": "4eb20225-43a8-4781-81e4-40e8bf54142b",
   "metadata": {},
   "outputs": [],
   "source": [
    "# PCA global combined df\n",
    "global_combined_pca_df = pca_embeddings(global_combined_df)"
   ]
  },
  {
   "cell_type": "code",
   "execution_count": null,
   "id": "987242ac-b7e2-4d2d-9e12-9d59c7c6b182",
   "metadata": {},
   "outputs": [],
   "source": [
    "# Combine both prediction and test pca df\n",
    "global_both_pca_df = pd.concat([global_x_y_test_combined_pca_df, global_pred_test_combined_pca_df], axis=0)"
   ]
  },
  {
   "cell_type": "markdown",
   "id": "9fbda4fd-2a00-4ba8-9377-03a1a02b00d1",
   "metadata": {},
   "source": [
    "#### Category pca df"
   ]
  },
  {
   "cell_type": "code",
   "execution_count": null,
   "id": "161a3c15-68bd-4f71-8f23-07aefa0f937e",
   "metadata": {},
   "outputs": [],
   "source": [
    "# PCA economy_x_y_test\n",
    "economy_x_y_test_combined_pca_df = pca_embeddings(economy_x_y_test_combined_df)"
   ]
  },
  {
   "cell_type": "code",
   "execution_count": null,
   "id": "325d51da-1df1-453d-8206-4d6e54be4558",
   "metadata": {},
   "outputs": [],
   "source": [
    "# PCA category autoencoder predictions\n",
    "economy_pred_test_combined_pca_df = pca_embeddings(economy_pred_test_combined_df)"
   ]
  },
  {
   "cell_type": "code",
   "execution_count": null,
   "id": "5ac9b5dd-7946-43a9-9ccf-0e96b96dfb79",
   "metadata": {},
   "outputs": [],
   "source": [
    "# PCA economy combined df\n",
    "economy_combined_pca_df = pca_embeddings(economy_combined_df)"
   ]
  },
  {
   "cell_type": "code",
   "execution_count": null,
   "id": "9f4de85e-7c51-4271-9c39-c68562ac8b23",
   "metadata": {},
   "outputs": [],
   "source": [
    "# Combine both prediction and test pca df\n",
    "economy_both_pca_df = pd.concat([economy_x_y_test_combined_pca_df, economy_pred_test_combined_pca_df], axis=0)"
   ]
  },
  {
   "cell_type": "markdown",
   "id": "74d2112c-69a3-4420-9f97-7f54c58a37ef",
   "metadata": {},
   "source": [
    "#### Debate pca df"
   ]
  },
  {
   "cell_type": "code",
   "execution_count": null,
   "id": "d96d86ee-a8c8-4eb4-b0c4-d860a47f7484",
   "metadata": {},
   "outputs": [],
   "source": [
    "# PCA economy_debate_x_y_test\n",
    "economy_debate_x_y_test_combined_pca_df = pca_embeddings(economy_debate_x_y_test_combined_df)"
   ]
  },
  {
   "cell_type": "code",
   "execution_count": null,
   "id": "cc442f4a-9819-4390-8a15-eacaa705fe5a",
   "metadata": {},
   "outputs": [],
   "source": [
    "# PCA debate autoencoder predictions\n",
    "economy_debate_pred_test_combined_pca_df = pca_embeddings(economy_debate_pred_test_combined_df)"
   ]
  },
  {
   "cell_type": "code",
   "execution_count": null,
   "id": "fb7ef577-9b88-45a4-8291-7bc66aee152a",
   "metadata": {},
   "outputs": [],
   "source": [
    "# PCA economy debate combined df\n",
    "economy_debate_combined_pca_df = pca_embeddings(economy_debate_combined_df)"
   ]
  },
  {
   "cell_type": "code",
   "execution_count": null,
   "id": "3bea6624-fd73-4424-82f3-d36c71a63073",
   "metadata": {},
   "outputs": [],
   "source": [
    "# Combine both prediction and test pca df\n",
    "economy_debate_both_pca_df = pd.concat([economy_debate_x_y_test_combined_pca_df, economy_debate_pred_test_combined_pca_df], axis=0)"
   ]
  },
  {
   "cell_type": "markdown",
   "id": "b5a8d101-72a7-4ab3-909f-dfcd29a36102",
   "metadata": {},
   "source": [
    "## Plot Data to Compare"
   ]
  },
  {
   "cell_type": "markdown",
   "id": "93c49b6c-8b72-4968-a08e-7abc45a63ec7",
   "metadata": {},
   "source": [
    "#### Plot Functions"
   ]
  },
  {
   "cell_type": "code",
   "execution_count": null,
   "id": "4017242c-b562-4eba-b863-2dcf6fd5f539",
   "metadata": {},
   "outputs": [],
   "source": [
    "# Plot for prediction or test\n",
    "def pred_test_plot(\n",
    "        analysis_type: AnalysisType,\n",
    "        pred_test_data: pd.DataFrame,\n",
    "        processing_unit: ProcessingUnit\n",
    "    ):\n",
    "    plot_analysis_type = analysis_type.value.upper()\n",
    "    pred_test = pred_test_data['pred_test'].iloc[0]\n",
    "    gg = (\n",
    "        ggplot(pred_test_data, aes(x='x', y='y', color='type', group='pair_id')) +\n",
    "        geom_point(size=2) +\n",
    "        geom_line(color='black', size=0.5) +\n",
    "        labs(\n",
    "            title=f'{plot_analysis_type} Plot: {pred_test}',\n",
    "            x=f'{plot_analysis_type}_x',\n",
    "            y=f'{plot_analysis_type}_y'\n",
    "        ) +\n",
    "        theme(\n",
    "            axis_title=element_text(margin={'t': 20}),\n",
    "            figure_size=(8, 8),\n",
    "        )\n",
    "    )\n",
    "\n",
    "    output_folder = f'../data_dump/autoencoder_{analysis_type.value}_plots_dump/'\n",
    "    output_file_path = f'{output_folder}{processing_unit.value}_autoencoder_{pred_test}_{analysis_type.value}_plot.png'\n",
    "    if not os.path.exists(output_folder):\n",
    "        os.makedirs(output_folder)\n",
    "    ggsave(gg, output_file_path)\n",
    "    print(gg)"
   ]
  },
  {
   "cell_type": "code",
   "execution_count": null,
   "id": "0737a97a-ed08-44ac-b1d1-5557efae85b4",
   "metadata": {},
   "outputs": [],
   "source": [
    "# Both plot for prediction and test\n",
    "def both_pred_test_plot(\n",
    "        analysis_type: AnalysisType,\n",
    "        both_data_df: pd.DataFrame,\n",
    "        processing_unit: ProcessingUnit\n",
    "    ):\n",
    "    plot_analysis_type = analysis_type.value.upper()\n",
    "    both_data_df['interaction'] = both_data_df['pair_id'] + '_' + both_data_df['pred_test']\n",
    "    gg = (\n",
    "        ggplot(both_data_df, aes(x='x', y='y', color='pred_test', shape='type', group='interaction')) +\n",
    "        geom_point(size=2) +\n",
    "        geom_line(color='black', size=0.5) +\n",
    "        labs(\n",
    "            title=f'{plot_analysis_type} Combined Plot for Both Prediction and Test',\n",
    "            x=f'{plot_analysis_type}_x',\n",
    "            y=f'{plot_analysis_type}_y'\n",
    "        ) +\n",
    "        theme(\n",
    "            axis_title=element_text(margin={'t': 20}),\n",
    "            figure_size=(8, 8),\n",
    "        )\n",
    "    )\n",
    "\n",
    "    output_folder = f'../data_dump/autoencoder_{analysis_type.value}_plots_dump/'\n",
    "    output_file_path = f'{output_folder}{processing_unit.value}_autoencoder_combined_pred_test_{analysis_type.value}_plot.png'\n",
    "    if not os.path.exists(output_folder):\n",
    "        os.makedirs(output_folder)\n",
    "    ggsave(gg, output_file_path)\n",
    "    print(gg)"
   ]
  },
  {
   "cell_type": "code",
   "execution_count": null,
   "id": "724a7ba9-6189-4e88-a932-9f6699e9ea57",
   "metadata": {},
   "outputs": [],
   "source": [
    "# Combined plot for x_test + y_test + prediction\n",
    "def combined_pred_test_plot(\n",
    "        analysis_type: AnalysisType,\n",
    "        combined_df: pd.DataFrame,\n",
    "        processing_unit: ProcessingUnit\n",
    "    ):\n",
    "    plot_analysis_type = analysis_type.value.upper()\n",
    "    gg = (\n",
    "        ggplot(combined_df, aes(x='x', y='y', color='pred_test', shape='type', group='pair_id')) +\n",
    "        geom_point(size=2) +\n",
    "        geom_line(color='black', size=0.5) +\n",
    "        labs(\n",
    "            title=f'{plot_analysis_type} Combined Plot for Prediction vs Test',\n",
    "            x=f'{plot_analysis_type}_x',\n",
    "            y=f'{plot_analysis_type}_y'\n",
    "        ) +\n",
    "        theme(\n",
    "            axis_title=element_text(margin={'t': 20}),\n",
    "            figure_size=(8, 8),\n",
    "        )\n",
    "    )\n",
    "\n",
    "    output_folder = f'../data_dump/autoencoder_{analysis_type.value}_plots_dump/'\n",
    "    output_file_path = f'{output_folder}{processing_unit.value}_autoencoder_all_{analysis_type.value}_plot.png'\n",
    "    if not os.path.exists(output_folder):\n",
    "        os.makedirs(output_folder)\n",
    "    ggsave(gg, output_file_path)\n",
    "    print(gg)"
   ]
  },
  {
   "cell_type": "markdown",
   "id": "e3e07e88-507d-480a-af98-d01f5e443818",
   "metadata": {},
   "source": [
    "#### Global Prediction PCA Plots"
   ]
  },
  {
   "cell_type": "code",
   "execution_count": null,
   "id": "dfe614d6-aa5d-43a7-aab5-606aef6537c7",
   "metadata": {},
   "outputs": [],
   "source": [
    "# Plot PCA test\n",
    "pred_test_plot(AnalysisType.PCA, global_x_y_test_combined_pca_df, ProcessingUnit.GLOBAL)"
   ]
  },
  {
   "cell_type": "code",
   "execution_count": null,
   "id": "1499384a-1f75-43f9-a476-84bbd8c2c8ce",
   "metadata": {},
   "outputs": [],
   "source": [
    "# Plot PCA autoencoder predictions\n",
    "pred_test_plot(AnalysisType.PCA, global_pred_test_combined_pca_df, ProcessingUnit.GLOBAL)"
   ]
  },
  {
   "cell_type": "code",
   "execution_count": null,
   "id": "7b65f938-859a-4858-9a4c-128e098e6a9d",
   "metadata": {},
   "outputs": [],
   "source": [
    "# Plot both PCA pred and test\n",
    "both_pred_test_plot(AnalysisType.PCA, global_both_pca_df, ProcessingUnit.GLOBAL)"
   ]
  },
  {
   "cell_type": "code",
   "execution_count": null,
   "id": "830f25c3-5632-4210-b103-7a6616edf8c9",
   "metadata": {},
   "outputs": [],
   "source": [
    "# Plot combined PCA pred and test\n",
    "combined_pred_test_plot(AnalysisType.PCA, global_combined_pca_df, ProcessingUnit.GLOBAL)"
   ]
  },
  {
   "cell_type": "markdown",
   "id": "03ac9ece-a231-411b-97b6-1d97089a75ee",
   "metadata": {},
   "source": [
    "#### Category Prediction PCA Plots"
   ]
  },
  {
   "cell_type": "code",
   "execution_count": null,
   "id": "21cac965-a45f-47d2-816a-29d1dad66895",
   "metadata": {
    "scrolled": true
   },
   "outputs": [],
   "source": [
    "# Plot PCA test\n",
    "pred_test_plot(AnalysisType.PCA, economy_x_y_test_combined_pca_df, ProcessingUnit.CATEGORY)"
   ]
  },
  {
   "cell_type": "code",
   "execution_count": null,
   "id": "51794046-22d7-45ef-ba67-7cad89db2c32",
   "metadata": {
    "scrolled": true
   },
   "outputs": [],
   "source": [
    "# Plot PCA autoencoder predictions\n",
    "pred_test_plot(AnalysisType.PCA, economy_pred_test_combined_pca_df, ProcessingUnit.CATEGORY)"
   ]
  },
  {
   "cell_type": "code",
   "execution_count": null,
   "id": "df3d21ee-3724-43d8-b8aa-99832ca914da",
   "metadata": {},
   "outputs": [],
   "source": [
    "# Plot both pred and test\n",
    "both_pred_test_plot(AnalysisType.PCA, economy_both_pca_df, ProcessingUnit.CATEGORY)"
   ]
  },
  {
   "cell_type": "code",
   "execution_count": null,
   "id": "2e41da68-936f-44d0-ab71-85f13fbde308",
   "metadata": {},
   "outputs": [],
   "source": [
    "# Plot combined pred vs test\n",
    "combined_pred_test_plot(AnalysisType.PCA, economy_combined_pca_df, ProcessingUnit.CATEGORY)"
   ]
  },
  {
   "cell_type": "markdown",
   "id": "afe5623f-ef5f-465a-90a4-c088ea65d467",
   "metadata": {},
   "source": [
    "#### Debate Prediction PCA Plots"
   ]
  },
  {
   "cell_type": "code",
   "execution_count": null,
   "id": "d7f7da51-420e-4460-b32a-0b7a5fa91eb2",
   "metadata": {
    "scrolled": true
   },
   "outputs": [],
   "source": [
    "# Plot PCA test\n",
    "pred_test_plot(AnalysisType.PCA, economy_debate_x_y_test_combined_pca_df, ProcessingUnit.DEBATE)"
   ]
  },
  {
   "cell_type": "code",
   "execution_count": null,
   "id": "378ed104-1566-44e8-80b5-a6f1e9a03e00",
   "metadata": {
    "scrolled": true
   },
   "outputs": [],
   "source": [
    "# Plot PCA autoencoder predictions\n",
    "pred_test_plot(AnalysisType.PCA, economy_debate_pred_test_combined_pca_df, ProcessingUnit.DEBATE)"
   ]
  },
  {
   "cell_type": "code",
   "execution_count": null,
   "id": "6a7976d1-4569-4780-a522-3154c23cb74c",
   "metadata": {
    "scrolled": true
   },
   "outputs": [],
   "source": [
    "# Plot both pred and test\n",
    "both_pred_test_plot(AnalysisType.PCA, economy_debate_both_pca_df, ProcessingUnit.DEBATE)"
   ]
  },
  {
   "cell_type": "code",
   "execution_count": null,
   "id": "d9368507-02de-4627-a48d-471e3b62068e",
   "metadata": {
    "scrolled": true
   },
   "outputs": [],
   "source": [
    "# Plot combined pred vs test\n",
    "combined_pred_test_plot(AnalysisType.PCA, economy_debate_combined_pca_df, ProcessingUnit.DEBATE)"
   ]
  }
 ],
 "metadata": {
  "kernelspec": {
   "display_name": "Python 3 (ipykernel)",
   "language": "python",
   "name": "python3"
  },
  "language_info": {
   "codemirror_mode": {
    "name": "ipython",
    "version": 3
   },
   "file_extension": ".py",
   "mimetype": "text/x-python",
   "name": "python",
   "nbconvert_exporter": "python",
   "pygments_lexer": "ipython3",
   "version": "3.11.4"
  }
 },
 "nbformat": 4,
 "nbformat_minor": 5
}
