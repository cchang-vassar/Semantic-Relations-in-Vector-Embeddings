{
 "cells": [
  {
   "cell_type": "code",
   "execution_count": null,
   "id": "15327b60-ff97-416c-87db-5fe5feb62830",
   "metadata": {},
   "outputs": [],
   "source": [
    "@might_need_auth\n",
    "def upload(args):\n",
    "\n",
    "    osf = _setup_osf(args)\n",
    "    if osf.username is None or osf.password is None:\n",
    "        sys.exit('To upload a file you need to provide a username and'\n",
    "                 ' password.')\n",
    "\n",
    "    project = osf.project(args.project)\n",
    "    storage, remote_path = split_storage(args.destination)\n",
    "\n",
    "    store = project.storage(storage)\n",
    "    if args.recursive:\n",
    "        if not os.path.isdir(args.source):\n",
    "            raise RuntimeError(\"Expected source ({}) to be a directory when \"\n",
    "                               \"using recursive mode.\".format(args.source))\n",
    "\n",
    "        # local name of the directory that is being uploaded\n",
    "        _, dir_name = os.path.split(args.source)\n",
    "\n",
    "        for root, _, files in os.walk(args.source):\n",
    "            subdir_path = os.path.relpath(root, args.source)\n",
    "            for fname in files:\n",
    "                local_path = os.path.join(root, fname)\n",
    "                with open(local_path, 'rb') as fp:\n",
    "                    # build the remote path + fname\n",
    "                    name = os.path.join(remote_path, dir_name, subdir_path,\n",
    "                                        fname)\n",
    "                    store.create_file(name, fp, update=args.force)\n",
    "\n",
    "    else:\n",
    "        with open(args.source, 'rb') as fp:\n",
    "            store.create_file(remote_path, fp, update=args.force)\n"
   ]
  }
 ],
 "metadata": {
  "kernelspec": {
   "display_name": "Python 3 (ipykernel)",
   "language": "python",
   "name": "python3"
  },
  "language_info": {
   "codemirror_mode": {
    "name": "ipython",
    "version": 3
   },
   "file_extension": ".py",
   "mimetype": "text/x-python",
   "name": "python",
   "nbconvert_exporter": "python",
   "pygments_lexer": "ipython3",
   "version": "3.11.4"
  }
 },
 "nbformat": 4,
 "nbformat_minor": 5
}
