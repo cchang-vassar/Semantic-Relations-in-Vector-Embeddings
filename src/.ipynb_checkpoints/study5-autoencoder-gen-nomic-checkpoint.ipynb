{
 "cells": [
  {
   "cell_type": "markdown",
   "id": "d5ec7ac3-f001-4642-8882-b2eadab3b1bc",
   "metadata": {},
   "source": [
    "# [Nomic] Autoencoder: Generate Corresponding Embedding"
   ]
  },
  {
   "cell_type": "markdown",
   "id": "d98dd00d-ca0f-42ae-8fc5-8b3a84572364",
   "metadata": {},
   "source": [
    "### Imports"
   ]
  },
  {
   "cell_type": "code",
   "execution_count": 41,
   "id": "64a4bb68-c601-4847-8f3a-290519da14cf",
   "metadata": {},
   "outputs": [],
   "source": [
    "import os\n",
    "import tensorflow as tf\n",
    "import pandas as pd\n",
    "import numpy as np\n",
    "from scipy import spatial\n",
    "from tensorflow.keras.callbacks import ModelCheckpoint, CSVLogger\n",
    "from plotnine import ggplot, geom_line, aes, ggsave, labs, theme, element_text, guides, guide_legend"
   ]
  },
  {
   "cell_type": "markdown",
   "id": "77a4911e-32b3-40fe-8868-17d1acd6ae13",
   "metadata": {},
   "source": [
    "## Data"
   ]
  },
  {
   "cell_type": "code",
   "execution_count": 42,
   "id": "2805a861-c57d-4b7a-87d0-297cb7bb1ca0",
   "metadata": {},
   "outputs": [],
   "source": [
    "# Drop rows that do not follow 'point' -> 'counter' pattern\n",
    "def prepare_training_df(data: pd.DataFrame):\n",
    "    point_indices = data[data['type'] == 'point'].index\n",
    "    counter_indices = data[data['type'] == 'counter'].index\n",
    "    drop_indices = []\n",
    "    for idx in point_indices:\n",
    "        if (idx == len(data)-1) or (idx + 1 < len(data) and data.loc[idx + 1, 'type'] != 'counter'):\n",
    "            drop_indices.append(idx)\n",
    "    for idx in counter_indices:\n",
    "        if idx > 0 and data.loc[idx - 1, 'type'] != 'point':\n",
    "            drop_indices.append(idx)\n",
    "    data = data.drop(drop_indices)\n",
    "    data = data.select_dtypes(include=[np.number])\n",
    "    data = data.reset_index(drop=True)\n",
    "    return data"
   ]
  },
  {
   "cell_type": "code",
   "execution_count": 43,
   "id": "2abf74bd-40e8-41a1-9158-cc772318cd1c",
   "metadata": {},
   "outputs": [],
   "source": [
    "# Drop rows that do not follow 'point' -> 'counter' pattern\n",
    "def prepare_training_df_shuffled(data: pd.DataFrame):\n",
    "    point_indices = data[data['type'] == 'point'].index\n",
    "    counter_indices = data[data['type'] == 'counter'].index\n",
    "    drop_indices = []\n",
    "    for idx in point_indices:\n",
    "        if (idx == len(data)-1) or (idx + 1 < len(data) and data.loc[idx + 1, 'type'] != 'counter'):\n",
    "            drop_indices.append(idx)\n",
    "    for idx in counter_indices:\n",
    "        if idx > 0 and data.loc[idx - 1, 'type'] != 'point':\n",
    "            drop_indices.append(idx)\n",
    "    data = data.drop(drop_indices)\n",
    "    data = data.reset_index(drop=True)\n",
    "    return data"
   ]
  },
  {
   "cell_type": "code",
   "execution_count": 44,
   "id": "ccc1ffbb-0dd5-4fb7-a2af-4fa3401da2ce",
   "metadata": {},
   "outputs": [],
   "source": [
    "# Make training and testing datasets\n",
    "def make_x_train(data: pd.DataFrame) -> pd.DataFrame:\n",
    "    cutoff = int(0.8 * data.shape[0])\n",
    "    if cutoff % 2 != 0:\n",
    "        cutoff = cutoff - 1\n",
    "    train_rows_df = data.iloc[:cutoff, :]\n",
    "    x_train = train_rows_df[train_rows_df.index % 2 == 0].reset_index(drop=True)\n",
    "    return x_train\n",
    "    \n",
    "def make_y_train(data: pd.DataFrame) -> pd.DataFrame:\n",
    "    cutoff = int(0.8 * data.shape[0])\n",
    "    if cutoff % 2 != 0:\n",
    "        cutoff = cutoff - 1\n",
    "    train_rows_df = data.iloc[:cutoff, :]\n",
    "    y_train = train_rows_df[train_rows_df.index % 2 != 0].reset_index(drop=True)\n",
    "    return y_train\n",
    "\n",
    "def make_x_test(data: pd.DataFrame) -> pd.DataFrame:\n",
    "    cutoff = int(0.8 * data.shape[0])\n",
    "    if cutoff % 2 != 0:\n",
    "        cutoff = cutoff - 1\n",
    "    test_rows_df = data.iloc[cutoff:, :]\n",
    "    x_test = test_rows_df[test_rows_df.index % 2 == 0].reset_index(drop=True)\n",
    "    return x_test\n",
    "\n",
    "def make_y_test(data: pd.DataFrame) -> pd.DataFrame:\n",
    "    cutoff = int(0.8 * data.shape[0])\n",
    "    if cutoff % 2 != 0:\n",
    "        cutoff = cutoff - 1\n",
    "    test_rows_df = data.iloc[cutoff:, :]\n",
    "    y_test = test_rows_df[test_rows_df.index % 2 != 0].reset_index(drop=True)\n",
    "    return y_test"
   ]
  },
  {
   "cell_type": "markdown",
   "id": "eb0fe1d2-7f55-448a-b8c6-a7c46e7c637a",
   "metadata": {},
   "source": [
    "#### Global data"
   ]
  },
  {
   "cell_type": "code",
   "execution_count": 45,
   "id": "ca48654f-ca99-463c-95c3-bc5c67d49cba",
   "metadata": {},
   "outputs": [],
   "source": [
    "global_sd_embeddings_data = pd.read_pickle(\"../data_dump/nomic_embeddings_dump/global_sd_embeddings.pkl\")\n",
    "global_sq_embeddings_data = pd.read_pickle(\"../data_dump/nomic_embeddings_dump/global_sq_embeddings.pkl\")\n",
    "global_clu_embeddings_data = pd.read_pickle(\"../data_dump/nomic_embeddings_dump/global_clu_embeddings.pkl\")\n",
    "global_cla_embeddings_data = pd.read_pickle(\"../data_dump/nomic_embeddings_dump/global_cla_embeddings.pkl\")"
   ]
  },
  {
   "cell_type": "code",
   "execution_count": 46,
   "id": "9e9f15e3-8e6c-429a-a590-2b43d0233118",
   "metadata": {},
   "outputs": [],
   "source": [
    "global_sd_training_df = prepare_training_df(global_sd_embeddings_data)\n",
    "global_sq_training_df = prepare_training_df(global_sq_embeddings_data)\n",
    "global_clu_training_df = prepare_training_df(global_clu_embeddings_data)\n",
    "global_cla_training_df = prepare_training_df(global_cla_embeddings_data)"
   ]
  },
  {
   "cell_type": "code",
   "execution_count": 47,
   "id": "94b0aff5-d523-4547-bf92-f5b22a033be8",
   "metadata": {},
   "outputs": [],
   "source": [
    "global_sd_x_train = make_x_train(global_sd_training_df)\n",
    "global_sq_x_train = make_x_train(global_sq_training_df)\n",
    "global_clu_x_train = make_x_train(global_clu_training_df)\n",
    "global_cla_x_train = make_x_train(global_cla_training_df)"
   ]
  },
  {
   "cell_type": "code",
   "execution_count": 48,
   "id": "56341332-7e50-459d-96ec-cb2ab2b8c5ac",
   "metadata": {},
   "outputs": [],
   "source": [
    "global_sd_y_train = make_y_train(global_sd_training_df)\n",
    "global_sq_y_train = make_y_train(global_sq_training_df)\n",
    "global_clu_y_train = make_y_train(global_clu_training_df)\n",
    "global_cla_y_train = make_y_train(global_cla_training_df)"
   ]
  },
  {
   "cell_type": "code",
   "execution_count": 49,
   "id": "84e3058f-79d5-4aef-900e-90f518fb058a",
   "metadata": {},
   "outputs": [],
   "source": [
    "global_sd_x_test = make_x_test(global_sd_training_df)\n",
    "global_sq_x_test = make_x_test(global_sq_training_df)\n",
    "global_clu_x_test = make_x_test(global_clu_training_df)\n",
    "global_cla_x_test = make_x_test(global_cla_training_df)"
   ]
  },
  {
   "cell_type": "code",
   "execution_count": 50,
   "id": "38293b96-f4e5-482f-ae88-c2d7c5e6e68f",
   "metadata": {},
   "outputs": [],
   "source": [
    "global_sd_y_test = make_y_test(global_sd_training_df)\n",
    "global_sq_y_test = make_y_test(global_sq_training_df)\n",
    "global_clu_y_test = make_y_test(global_clu_training_df)\n",
    "global_cla_y_test = make_y_test(global_cla_training_df)"
   ]
  },
  {
   "cell_type": "code",
   "execution_count": 51,
   "id": "ea17ecaa-1b1b-4234-be2f-8958eb4b6a4a",
   "metadata": {},
   "outputs": [],
   "source": [
    "global_sd_y_train_test = pd.concat([global_sd_y_train, global_sd_y_test], axis=0)\n",
    "global_sq_y_train_test = pd.concat([global_sq_y_train, global_sq_y_test], axis=0)\n",
    "global_clu_y_train_test = pd.concat([global_clu_y_train, global_clu_y_test], axis=0)\n",
    "global_cla_y_train_test = pd.concat([global_cla_y_train, global_cla_y_test], axis=0)"
   ]
  },
  {
   "cell_type": "markdown",
   "id": "68cea5d9-0c17-4be6-a3c0-78bf8bb517ea",
   "metadata": {},
   "source": [
    "#### Global data shuffled"
   ]
  },
  {
   "cell_type": "code",
   "execution_count": 52,
   "id": "b9aa81cf-11ac-4ea9-bdf8-866dbc2fd764",
   "metadata": {},
   "outputs": [],
   "source": [
    "global_sd_training_df_shuffled = prepare_training_df_shuffled(global_sd_embeddings_data)\n",
    "global_sq_training_df_shuffled = prepare_training_df_shuffled(global_sq_embeddings_data)\n",
    "global_clu_training_df_shuffled = prepare_training_df_shuffled(global_clu_embeddings_data)\n",
    "global_cla_training_df_shuffled = prepare_training_df_shuffled(global_cla_embeddings_data)"
   ]
  },
  {
   "cell_type": "code",
   "execution_count": 53,
   "id": "7b86a2b2-d542-4daf-b7d1-19ebb8382834",
   "metadata": {
    "scrolled": true
   },
   "outputs": [],
   "source": [
    "global_sd_y_train_shuffled = make_y_train(global_sd_training_df_shuffled)\n",
    "global_sq_y_train_shuffled = make_y_train(global_sq_training_df_shuffled)\n",
    "global_clu_y_train_shuffled = make_y_train(global_clu_training_df_shuffled)\n",
    "global_cla_y_train_shuffled = make_y_train(global_cla_training_df_shuffled)"
   ]
  },
  {
   "cell_type": "code",
   "execution_count": 54,
   "id": "b6a27ad8-3ab8-45c1-b412-dbbf82d32931",
   "metadata": {
    "scrolled": true
   },
   "outputs": [],
   "source": [
    "global_sd_y_train_shuffled = global_sd_y_train_shuffled.groupby(['topic'], sort=False)\n",
    "global_sd_y_train_shuffled = global_sd_y_train_shuffled.sample(frac=1).reset_index(drop=True)\n",
    "global_sd_y_train_shuffled = global_sd_y_train_shuffled.select_dtypes(include=[np.number])\n",
    "\n",
    "global_sq_y_train_shuffled = global_sq_y_train_shuffled.groupby(['topic'], sort=False)\n",
    "global_sq_y_train_shuffled = global_sq_y_train_shuffled.sample(frac=1).reset_index(drop=True)\n",
    "global_sq_y_train_shuffled = global_sq_y_train_shuffled.select_dtypes(include=[np.number])\n",
    "\n",
    "global_clu_y_train_shuffled = global_clu_y_train_shuffled.groupby(['topic'], sort=False)\n",
    "global_clu_y_train_shuffled = global_clu_y_train_shuffled.sample(frac=1).reset_index(drop=True)\n",
    "global_clu_y_train_shuffled = global_clu_y_train_shuffled.select_dtypes(include=[np.number])\n",
    "\n",
    "global_cla_y_train_shuffled = global_cla_y_train_shuffled.groupby(['topic'], sort=False)\n",
    "global_cla_y_train_shuffled = global_cla_y_train_shuffled.sample(frac=1).reset_index(drop=True)\n",
    "global_cla_y_train_shuffled = global_cla_y_train_shuffled.select_dtypes(include=[np.number])"
   ]
  },
  {
   "cell_type": "markdown",
   "id": "d88110c7-68a6-4439-b4f2-768e080074c8",
   "metadata": {},
   "source": [
    "## Model"
   ]
  },
  {
   "cell_type": "code",
   "execution_count": 55,
   "id": "93feaaf0-1fad-4f75-b546-d66198c4fae4",
   "metadata": {},
   "outputs": [],
   "source": [
    "# Layers\n",
    "input_layer = tf.keras.layers.Input(shape=(768, ), name=\"Input\")\n",
    "hidden_layer = tf.keras.layers.Dense(units=768, activation=\"relu\", name=\"Hidden\")(input_layer)\n",
    "output_layer = tf.keras.layers.Dense(units=768, activation=\"linear\", name=\"Output\")(hidden_layer)"
   ]
  },
  {
   "cell_type": "code",
   "execution_count": 56,
   "id": "62655a3a-717c-4800-b06a-d8147740236c",
   "metadata": {
    "scrolled": true
   },
   "outputs": [
    {
     "name": "stdout",
     "output_type": "stream",
     "text": [
      "Model: \"model_1\"\n",
      "_________________________________________________________________\n",
      " Layer (type)                Output Shape              Param #   \n",
      "=================================================================\n",
      " Input (InputLayer)          [(None, 768)]             0         \n",
      "                                                                 \n",
      " Hidden (Dense)              (None, 768)               590592    \n",
      "                                                                 \n",
      " Output (Dense)              (None, 768)               590592    \n",
      "                                                                 \n",
      "=================================================================\n",
      "Total params: 1181184 (4.51 MB)\n",
      "Trainable params: 1181184 (4.51 MB)\n",
      "Non-trainable params: 0 (0.00 Byte)\n",
      "_________________________________________________________________\n"
     ]
    }
   ],
   "source": [
    "# Model\n",
    "autoencoder_model = tf.keras.Model(inputs=input_layer, outputs=output_layer)\n",
    "autoencoder_model.summary()"
   ]
  },
  {
   "cell_type": "code",
   "execution_count": 57,
   "id": "b555b3f8-300b-4341-97e7-c14f67358e56",
   "metadata": {},
   "outputs": [],
   "source": [
    "\"\"\"\n",
    "global_sd_metric\n",
    "\"\"\"\n",
    "\n",
    "def metric_choose_argument_global_sd_y_train(y_true, y_pred):\n",
    "    global_sd_training_df_32 = tf.cast(global_sd_training_df, dtype=tf.float32)\n",
    "    \n",
    "    cos_sim_pred = tf.matmul(global_sd_training_df_32, y_pred, transpose_b=True) / tf.reshape(tf.norm(y_pred) * tf.norm(global_sd_training_df_32, axis=1), [-1, 1])\n",
    "    cos_sim_true = tf.matmul(global_sd_training_df_32, y_true, transpose_b=True) / tf.reshape(tf.norm(y_true) * tf.norm(global_sd_training_df_32, axis=1), [-1, 1])\n",
    "\n",
    "    max_cos_sim_pred = tf.math.argmax(cos_sim_pred)\n",
    "    max_cos_sim_true = tf.math.argmax(cos_sim_true)\n",
    "\n",
    "    return tf.math.count_nonzero(tf.equal(max_cos_sim_pred, max_cos_sim_true))"
   ]
  },
  {
   "cell_type": "code",
   "execution_count": 58,
   "id": "24a15f84-9423-421a-ad76-56f0d1729ca0",
   "metadata": {},
   "outputs": [],
   "source": [
    "\"\"\"\n",
    "global_sq_metric\n",
    "\"\"\"\n",
    "\n",
    "def metric_choose_argument_global_sq_y_train(y_true, y_pred):\n",
    "    global_sq_training_df_32 = tf.cast(global_sq_training_df, dtype=tf.float32)\n",
    "    \n",
    "    cos_sim_pred = tf.matmul(global_sq_training_df_32, y_pred, transpose_b=True) / tf.reshape(tf.norm(y_pred) * tf.norm(global_sq_training_df_32, axis=1), [-1, 1])\n",
    "    cos_sim_true = tf.matmul(global_sq_training_df_32, y_true, transpose_b=True) / tf.reshape(tf.norm(y_true) * tf.norm(global_sq_training_df_32, axis=1), [-1, 1])\n",
    "\n",
    "    max_cos_sim_pred = tf.math.argmax(cos_sim_pred)\n",
    "    max_cos_sim_true = tf.math.argmax(cos_sim_true)\n",
    "\n",
    "    return tf.math.count_nonzero(tf.equal(max_cos_sim_pred, max_cos_sim_true))"
   ]
  },
  {
   "cell_type": "code",
   "execution_count": 59,
   "id": "76e44eb2-f020-44b7-a567-3ddde7b44a82",
   "metadata": {},
   "outputs": [],
   "source": [
    "\"\"\"\n",
    "global_clu_metric\n",
    "\"\"\"\n",
    "\n",
    "def metric_choose_argument_global_clu_y_train(y_true, y_pred):\n",
    "    global_clu_training_df_32 = tf.cast(global_clu_training_df, dtype=tf.float32)\n",
    "    \n",
    "    cos_sim_pred = tf.matmul(global_clu_training_df_32, y_pred, transpose_b=True) / tf.reshape(tf.norm(y_pred) * tf.norm(global_clu_training_df_32, axis=1), [-1, 1])\n",
    "    cos_sim_true = tf.matmul(global_clu_training_df_32, y_true, transpose_b=True) / tf.reshape(tf.norm(y_true) * tf.norm(global_clu_training_df_32, axis=1), [-1, 1])\n",
    "\n",
    "    max_cos_sim_pred = tf.math.argmax(cos_sim_pred)\n",
    "    max_cos_sim_true = tf.math.argmax(cos_sim_true)\n",
    "\n",
    "    return tf.math.count_nonzero(tf.equal(max_cos_sim_pred, max_cos_sim_true))"
   ]
  },
  {
   "cell_type": "code",
   "execution_count": 60,
   "id": "503f94f2-6b33-4869-b3e3-5be564938aff",
   "metadata": {},
   "outputs": [],
   "source": [
    "\"\"\"\n",
    "global_cla_metric\n",
    "\"\"\"\n",
    "\n",
    "def metric_choose_argument_global_cla_y_train(y_true, y_pred):\n",
    "    global_cla_training_df_32 = tf.cast(global_cla_training_df, dtype=tf.float32)\n",
    "    \n",
    "    cos_sim_pred = tf.matmul(global_cla_training_df_32, y_pred, transpose_b=True) / tf.reshape(tf.norm(y_pred) * tf.norm(global_cla_training_df_32, axis=1), [-1, 1])\n",
    "    cos_sim_true = tf.matmul(global_cla_training_df_32, y_true, transpose_b=True) / tf.reshape(tf.norm(y_true) * tf.norm(global_cla_training_df_32, axis=1), [-1, 1])\n",
    "\n",
    "    max_cos_sim_pred = tf.math.argmax(cos_sim_pred)\n",
    "    max_cos_sim_true = tf.math.argmax(cos_sim_true)\n",
    "\n",
    "    return tf.math.count_nonzero(tf.equal(max_cos_sim_pred, max_cos_sim_true))"
   ]
  },
  {
   "cell_type": "markdown",
   "id": "83a58c13-c646-4917-b46e-68feb7d2fa14",
   "metadata": {},
   "source": [
    "#### Global Training"
   ]
  },
  {
   "cell_type": "code",
   "execution_count": 61,
   "id": "468fd859-1bb5-423c-856f-c68ea7a3573c",
   "metadata": {},
   "outputs": [],
   "source": [
    "# Global SD Model\n",
    "global_sd_autoencoder_model = tf.keras.models.clone_model(autoencoder_model)\n",
    "global_sd_autoencoder_model.compile(\n",
    "    optimizer=tf.keras.optimizers.Adam(learning_rate=1e-3),\n",
    "    loss=\"cosine_similarity\",\n",
    "    metrics=[metric_choose_argument_global_sd_y_train]\n",
    ")"
   ]
  },
  {
   "cell_type": "code",
   "execution_count": 43,
   "id": "0164d591-551a-40b6-8d76-1b31b8412303",
   "metadata": {},
   "outputs": [],
   "source": [
    "# Global SQ Model\n",
    "global_sq_autoencoder_model = tf.keras.models.clone_model(autoencoder_model)\n",
    "global_sq_autoencoder_model.compile(\n",
    "    optimizer=tf.keras.optimizers.Adam(learning_rate=1e-3),\n",
    "    loss=\"cosine_similarity\",\n",
    "    metrics=[metric_choose_argument_global_sq_y_train]\n",
    ")"
   ]
  },
  {
   "cell_type": "code",
   "execution_count": 44,
   "id": "907c2bcc-9dc5-43f0-a108-e8ddce0ef64d",
   "metadata": {},
   "outputs": [],
   "source": [
    "# Global CLU Model\n",
    "global_clu_autoencoder_model = tf.keras.models.clone_model(autoencoder_model)\n",
    "global_clu_autoencoder_model.compile(\n",
    "    optimizer=tf.keras.optimizers.Adam(learning_rate=1e-3),\n",
    "    loss=\"cosine_similarity\",\n",
    "    metrics=[metric_choose_argument_global_clu_y_train]\n",
    ")"
   ]
  },
  {
   "cell_type": "code",
   "execution_count": 45,
   "id": "c3e2a936-c4aa-4765-83df-7918e230b59f",
   "metadata": {},
   "outputs": [],
   "source": [
    "# Global C:A Model\n",
    "global_cla_autoencoder_model = tf.keras.models.clone_model(autoencoder_model)\n",
    "global_cla_autoencoder_model.compile(\n",
    "    optimizer=tf.keras.optimizers.Adam(learning_rate=1e-3),\n",
    "    loss=\"cosine_similarity\",\n",
    "    metrics=[metric_choose_argument_global_cla_y_train]\n",
    ")"
   ]
  },
  {
   "cell_type": "markdown",
   "id": "580e44ab-0401-4077-a038-7e94b14a6540",
   "metadata": {},
   "source": [
    "## Training"
   ]
  },
  {
   "cell_type": "code",
   "execution_count": null,
   "id": "9d732d24-44ea-4e1d-b722-256ebd7b6a4a",
   "metadata": {
    "scrolled": true
   },
   "outputs": [
    {
     "name": "stdout",
     "output_type": "stream",
     "text": [
      "Epoch 1/20\n",
      " 354/3252 [==>...........................] - ETA: 32s - loss: -0.7397 - metric_choose_argument_global_sd_y_train: 0.0028    "
     ]
    }
   ],
   "source": [
    "checkpoint_callback = ModelCheckpoint(filepath='nomic_autoencoder/global_sd_autoencoder_weights.keras', save_best_only=False, save_weights_only=False, verbose=1)\n",
    "csv_logger_callback = CSVLogger(filename='nomic_autoencoder/global_sd_training_log.csv', separator=',', append=True)\n",
    "\n",
    "global_sd_history = global_sd_autoencoder_model.fit(\n",
    "    x=global_sd_x_train,\n",
    "    y=global_sd_y_train,\n",
    "    batch_size=1,\n",
    "    epochs=20,\n",
    "    validation_data = (global_sd_x_test, global_sd_y_test),\n",
    "    callbacks=[checkpoint_callback, csv_logger_callback]\n",
    ")"
   ]
  },
  {
   "cell_type": "code",
   "execution_count": 50,
   "id": "2e71b2f6-5988-4571-870e-0297f4cdcafd",
   "metadata": {},
   "outputs": [],
   "source": [
    "global_sd_autoencoder_model.save('nomic_autoencoder/global_sd_autoencoder_model.keras')"
   ]
  },
  {
   "cell_type": "code",
   "execution_count": 51,
   "id": "1b1b5ebe-6c92-4984-87ab-8b9bb094fa50",
   "metadata": {
    "scrolled": true
   },
   "outputs": [
    {
     "name": "stdout",
     "output_type": "stream",
     "text": [
      "Epoch 1/20\n",
      "3252/3252 [==============================] - ETA: 0s - loss: -0.7573 - metric_choose_argument_global_sq_y_train: 0.0197\n",
      "Epoch 1: saving model to nomic_autoencoder/global_sq_autoencoder_weights.keras\n",
      "3252/3252 [==============================] - 44s 13ms/step - loss: -0.7573 - metric_choose_argument_global_sq_y_train: 0.0197 - val_loss: -0.7664 - val_metric_choose_argument_global_sq_y_train: 0.0492\n",
      "Epoch 2/20\n",
      "3252/3252 [==============================] - ETA: 0s - loss: -0.7999 - metric_choose_argument_global_sq_y_train: 0.0723\n",
      "Epoch 2: saving model to nomic_autoencoder/global_sq_autoencoder_weights.keras\n",
      "3252/3252 [==============================] - 39s 12ms/step - loss: -0.7999 - metric_choose_argument_global_sq_y_train: 0.0723 - val_loss: -0.7862 - val_metric_choose_argument_global_sq_y_train: 0.0861\n",
      "Epoch 3/20\n",
      "3251/3252 [============================>.] - ETA: 0s - loss: -0.8195 - metric_choose_argument_global_sq_y_train: 0.1618\n",
      "Epoch 3: saving model to nomic_autoencoder/global_sq_autoencoder_weights.keras\n",
      "3252/3252 [==============================] - 38s 12ms/step - loss: -0.8195 - metric_choose_argument_global_sq_y_train: 0.1617 - val_loss: -0.7932 - val_metric_choose_argument_global_sq_y_train: 0.1156\n",
      "Epoch 4/20\n",
      "3249/3252 [============================>.] - ETA: 0s - loss: -0.8342 - metric_choose_argument_global_sq_y_train: 0.2736\n",
      "Epoch 4: saving model to nomic_autoencoder/global_sq_autoencoder_weights.keras\n",
      "3252/3252 [==============================] - 38s 12ms/step - loss: -0.8342 - metric_choose_argument_global_sq_y_train: 0.2737 - val_loss: -0.7979 - val_metric_choose_argument_global_sq_y_train: 0.1710\n",
      "Epoch 5/20\n",
      "3250/3252 [============================>.] - ETA: 0s - loss: -0.8456 - metric_choose_argument_global_sq_y_train: 0.3778\n",
      "Epoch 5: saving model to nomic_autoencoder/global_sq_autoencoder_weights.keras\n",
      "3252/3252 [==============================] - 39s 12ms/step - loss: -0.8456 - metric_choose_argument_global_sq_y_train: 0.3779 - val_loss: -0.8019 - val_metric_choose_argument_global_sq_y_train: 0.2140\n",
      "Epoch 6/20\n",
      "3249/3252 [============================>.] - ETA: 0s - loss: -0.8546 - metric_choose_argument_global_sq_y_train: 0.4928\n",
      "Epoch 6: saving model to nomic_autoencoder/global_sq_autoencoder_weights.keras\n",
      "3252/3252 [==============================] - 39s 12ms/step - loss: -0.8546 - metric_choose_argument_global_sq_y_train: 0.4926 - val_loss: -0.8021 - val_metric_choose_argument_global_sq_y_train: 0.2558\n",
      "Epoch 7/20\n",
      "3248/3252 [============================>.] - ETA: 0s - loss: -0.8620 - metric_choose_argument_global_sq_y_train: 0.5711\n",
      "Epoch 7: saving model to nomic_autoencoder/global_sq_autoencoder_weights.keras\n",
      "3252/3252 [==============================] - 39s 12ms/step - loss: -0.8620 - metric_choose_argument_global_sq_y_train: 0.5713 - val_loss: -0.8032 - val_metric_choose_argument_global_sq_y_train: 0.2915\n",
      "Epoch 8/20\n",
      "3252/3252 [==============================] - ETA: 0s - loss: -0.8678 - metric_choose_argument_global_sq_y_train: 0.6436\n",
      "Epoch 8: saving model to nomic_autoencoder/global_sq_autoencoder_weights.keras\n",
      "3252/3252 [==============================] - 40s 12ms/step - loss: -0.8678 - metric_choose_argument_global_sq_y_train: 0.6436 - val_loss: -0.8041 - val_metric_choose_argument_global_sq_y_train: 0.3235\n",
      "Epoch 9/20\n",
      "3249/3252 [============================>.] - ETA: 0s - loss: -0.8726 - metric_choose_argument_global_sq_y_train: 0.7113\n",
      "Epoch 9: saving model to nomic_autoencoder/global_sq_autoencoder_weights.keras\n",
      "3252/3252 [==============================] - 39s 12ms/step - loss: -0.8727 - metric_choose_argument_global_sq_y_train: 0.7116 - val_loss: -0.8043 - val_metric_choose_argument_global_sq_y_train: 0.3309\n",
      "Epoch 10/20\n",
      "3250/3252 [============================>.] - ETA: 0s - loss: -0.8768 - metric_choose_argument_global_sq_y_train: 0.7538\n",
      "Epoch 10: saving model to nomic_autoencoder/global_sq_autoencoder_weights.keras\n",
      "3252/3252 [==============================] - 39s 12ms/step - loss: -0.8768 - metric_choose_argument_global_sq_y_train: 0.7534 - val_loss: -0.8040 - val_metric_choose_argument_global_sq_y_train: 0.3555\n",
      "Epoch 11/20\n",
      "3249/3252 [============================>.] - ETA: 0s - loss: -0.8804 - metric_choose_argument_global_sq_y_train: 0.7839\n",
      "Epoch 11: saving model to nomic_autoencoder/global_sq_autoencoder_weights.keras\n",
      "3252/3252 [==============================] - 39s 12ms/step - loss: -0.8804 - metric_choose_argument_global_sq_y_train: 0.7838 - val_loss: -0.8028 - val_metric_choose_argument_global_sq_y_train: 0.3678\n",
      "Epoch 12/20\n",
      "3252/3252 [==============================] - ETA: 0s - loss: -0.8834 - metric_choose_argument_global_sq_y_train: 0.8235\n",
      "Epoch 12: saving model to nomic_autoencoder/global_sq_autoencoder_weights.keras\n",
      "3252/3252 [==============================] - 38s 12ms/step - loss: -0.8834 - metric_choose_argument_global_sq_y_train: 0.8235 - val_loss: -0.8033 - val_metric_choose_argument_global_sq_y_train: 0.3776\n",
      "Epoch 13/20\n",
      "3248/3252 [============================>.] - ETA: 0s - loss: -0.8861 - metric_choose_argument_global_sq_y_train: 0.8476\n",
      "Epoch 13: saving model to nomic_autoencoder/global_sq_autoencoder_weights.keras\n",
      "3252/3252 [==============================] - 39s 12ms/step - loss: -0.8861 - metric_choose_argument_global_sq_y_train: 0.8475 - val_loss: -0.8027 - val_metric_choose_argument_global_sq_y_train: 0.3788\n",
      "Epoch 14/20\n",
      "3249/3252 [============================>.] - ETA: 0s - loss: -0.8885 - metric_choose_argument_global_sq_y_train: 0.8720\n",
      "Epoch 14: saving model to nomic_autoencoder/global_sq_autoencoder_weights.keras\n",
      "3252/3252 [==============================] - 36s 11ms/step - loss: -0.8885 - metric_choose_argument_global_sq_y_train: 0.8721 - val_loss: -0.8030 - val_metric_choose_argument_global_sq_y_train: 0.3924\n",
      "Epoch 15/20\n",
      "3250/3252 [============================>.] - ETA: 0s - loss: -0.8906 - metric_choose_argument_global_sq_y_train: 0.8837\n",
      "Epoch 15: saving model to nomic_autoencoder/global_sq_autoencoder_weights.keras\n",
      "3252/3252 [==============================] - 39s 12ms/step - loss: -0.8906 - metric_choose_argument_global_sq_y_train: 0.8838 - val_loss: -0.8027 - val_metric_choose_argument_global_sq_y_train: 0.3899\n",
      "Epoch 16/20\n",
      "3248/3252 [============================>.] - ETA: 0s - loss: -0.8925 - metric_choose_argument_global_sq_y_train: 0.8981\n",
      "Epoch 16: saving model to nomic_autoencoder/global_sq_autoencoder_weights.keras\n",
      "3252/3252 [==============================] - 39s 12ms/step - loss: -0.8925 - metric_choose_argument_global_sq_y_train: 0.8982 - val_loss: -0.8017 - val_metric_choose_argument_global_sq_y_train: 0.3948\n",
      "Epoch 17/20\n",
      "3250/3252 [============================>.] - ETA: 0s - loss: -0.8943 - metric_choose_argument_global_sq_y_train: 0.9117\n",
      "Epoch 17: saving model to nomic_autoencoder/global_sq_autoencoder_weights.keras\n",
      "3252/3252 [==============================] - 38s 12ms/step - loss: -0.8943 - metric_choose_argument_global_sq_y_train: 0.9111 - val_loss: -0.8017 - val_metric_choose_argument_global_sq_y_train: 0.4034\n",
      "Epoch 18/20\n",
      "3248/3252 [============================>.] - ETA: 0s - loss: -0.8958 - metric_choose_argument_global_sq_y_train: 0.9236\n",
      "Epoch 18: saving model to nomic_autoencoder/global_sq_autoencoder_weights.keras\n",
      "3252/3252 [==============================] - 39s 12ms/step - loss: -0.8959 - metric_choose_argument_global_sq_y_train: 0.9237 - val_loss: -0.8013 - val_metric_choose_argument_global_sq_y_train: 0.4047\n",
      "Epoch 19/20\n",
      "3251/3252 [============================>.] - ETA: 0s - loss: -0.8973 - metric_choose_argument_global_sq_y_train: 0.9293\n",
      "Epoch 19: saving model to nomic_autoencoder/global_sq_autoencoder_weights.keras\n",
      "3252/3252 [==============================] - 38s 12ms/step - loss: -0.8973 - metric_choose_argument_global_sq_y_train: 0.9293 - val_loss: -0.8011 - val_metric_choose_argument_global_sq_y_train: 0.4084\n",
      "Epoch 20/20\n",
      "3249/3252 [============================>.] - ETA: 0s - loss: -0.8986 - metric_choose_argument_global_sq_y_train: 0.9354\n",
      "Epoch 20: saving model to nomic_autoencoder/global_sq_autoencoder_weights.keras\n",
      "3252/3252 [==============================] - 39s 12ms/step - loss: -0.8986 - metric_choose_argument_global_sq_y_train: 0.9354 - val_loss: -0.8014 - val_metric_choose_argument_global_sq_y_train: 0.4059\n"
     ]
    }
   ],
   "source": [
    "checkpoint_callback = ModelCheckpoint(filepath='nomic_autoencoder/global_sq_autoencoder_weights.keras', save_best_only=False, save_weights_only=False, verbose=1)\n",
    "csv_logger_callback = CSVLogger(filename='nomic_autoencoder/global_sq_training_log.csv', separator=',', append=True)\n",
    "\n",
    "global_sq_history = global_sq_autoencoder_model.fit(\n",
    "    x=global_sq_x_train,\n",
    "    y=global_sq_y_train,\n",
    "    batch_size=1,\n",
    "    epochs=20,\n",
    "    validation_data = (global_sq_x_test, global_sq_y_test),\n",
    "    callbacks=[checkpoint_callback, csv_logger_callback]\n",
    ")"
   ]
  },
  {
   "cell_type": "code",
   "execution_count": 53,
   "id": "dc8518ad-4051-4b9e-b62c-3c0d044171fe",
   "metadata": {},
   "outputs": [],
   "source": [
    "global_sq_autoencoder_model.save('nomic_autoencoder/global_sq_autoencoder_model.keras')"
   ]
  },
  {
   "cell_type": "code",
   "execution_count": 54,
   "id": "a6e60153-0329-4810-81c4-6372d628de63",
   "metadata": {
    "scrolled": true
   },
   "outputs": [
    {
     "name": "stdout",
     "output_type": "stream",
     "text": [
      "Epoch 1/20\n",
      "3247/3252 [============================>.] - ETA: 0s - loss: -0.7952 - metric_choose_argument_global_clu_y_train: 0.0330\n",
      "Epoch 1: saving model to nomic_autoencoder/global_clu_autoencoder_weights.keras\n",
      "3252/3252 [==============================] - 42s 12ms/step - loss: -0.7953 - metric_choose_argument_global_clu_y_train: 0.0329 - val_loss: -0.8054 - val_metric_choose_argument_global_clu_y_train: 0.0812\n",
      "Epoch 2/20\n",
      "3251/3252 [============================>.] - ETA: 0s - loss: -0.8361 - metric_choose_argument_global_clu_y_train: 0.0950\n",
      "Epoch 2: saving model to nomic_autoencoder/global_clu_autoencoder_weights.keras\n",
      "3252/3252 [==============================] - 37s 11ms/step - loss: -0.8361 - metric_choose_argument_global_clu_y_train: 0.0953 - val_loss: -0.8191 - val_metric_choose_argument_global_clu_y_train: 0.0898\n",
      "Epoch 3/20\n",
      "3249/3252 [============================>.] - ETA: 0s - loss: -0.8526 - metric_choose_argument_global_clu_y_train: 0.1480\n",
      "Epoch 3: saving model to nomic_autoencoder/global_clu_autoencoder_weights.keras\n",
      "3252/3252 [==============================] - 38s 12ms/step - loss: -0.8526 - metric_choose_argument_global_clu_y_train: 0.1479 - val_loss: -0.8281 - val_metric_choose_argument_global_clu_y_train: 0.1328\n",
      "Epoch 4/20\n",
      "3251/3252 [============================>.] - ETA: 0s - loss: -0.8637 - metric_choose_argument_global_clu_y_train: 0.2335\n",
      "Epoch 4: saving model to nomic_autoencoder/global_clu_autoencoder_weights.keras\n",
      "3252/3252 [==============================] - 37s 11ms/step - loss: -0.8637 - metric_choose_argument_global_clu_y_train: 0.2337 - val_loss: -0.8322 - val_metric_choose_argument_global_clu_y_train: 0.1562\n",
      "Epoch 5/20\n",
      "3251/3252 [============================>.] - ETA: 0s - loss: -0.8724 - metric_choose_argument_global_clu_y_train: 0.3282\n",
      "Epoch 5: saving model to nomic_autoencoder/global_clu_autoencoder_weights.keras\n",
      "3252/3252 [==============================] - 38s 12ms/step - loss: -0.8724 - metric_choose_argument_global_clu_y_train: 0.3281 - val_loss: -0.8337 - val_metric_choose_argument_global_clu_y_train: 0.1919\n",
      "Epoch 6/20\n",
      "3248/3252 [============================>.] - ETA: 0s - loss: -0.8791 - metric_choose_argument_global_clu_y_train: 0.4116\n",
      "Epoch 6: saving model to nomic_autoencoder/global_clu_autoencoder_weights.keras\n",
      "3252/3252 [==============================] - 37s 11ms/step - loss: -0.8791 - metric_choose_argument_global_clu_y_train: 0.4111 - val_loss: -0.8379 - val_metric_choose_argument_global_clu_y_train: 0.2214\n",
      "Epoch 7/20\n",
      "3251/3252 [============================>.] - ETA: 0s - loss: -0.8848 - metric_choose_argument_global_clu_y_train: 0.4925\n",
      "Epoch 7: saving model to nomic_autoencoder/global_clu_autoencoder_weights.keras\n",
      "3252/3252 [==============================] - 38s 12ms/step - loss: -0.8847 - metric_choose_argument_global_clu_y_train: 0.4923 - val_loss: -0.8371 - val_metric_choose_argument_global_clu_y_train: 0.2485\n",
      "Epoch 8/20\n",
      "3251/3252 [============================>.] - ETA: 0s - loss: -0.8895 - metric_choose_argument_global_clu_y_train: 0.5712\n",
      "Epoch 8: saving model to nomic_autoencoder/global_clu_autoencoder_weights.keras\n",
      "3252/3252 [==============================] - 37s 11ms/step - loss: -0.8895 - metric_choose_argument_global_clu_y_train: 0.5713 - val_loss: -0.8371 - val_metric_choose_argument_global_clu_y_train: 0.2915\n",
      "Epoch 9/20\n",
      "3251/3252 [============================>.] - ETA: 0s - loss: -0.8936 - metric_choose_argument_global_clu_y_train: 0.6201\n",
      "Epoch 9: saving model to nomic_autoencoder/global_clu_autoencoder_weights.keras\n",
      "3252/3252 [==============================] - 38s 12ms/step - loss: -0.8936 - metric_choose_argument_global_clu_y_train: 0.6202 - val_loss: -0.8371 - val_metric_choose_argument_global_clu_y_train: 0.2940\n",
      "Epoch 10/20\n",
      "3248/3252 [============================>.] - ETA: 0s - loss: -0.8969 - metric_choose_argument_global_clu_y_train: 0.6807\n",
      "Epoch 10: saving model to nomic_autoencoder/global_clu_autoencoder_weights.keras\n",
      "3252/3252 [==============================] - 38s 12ms/step - loss: -0.8969 - metric_choose_argument_global_clu_y_train: 0.6805 - val_loss: -0.8364 - val_metric_choose_argument_global_clu_y_train: 0.3284\n",
      "Epoch 11/20\n",
      "3248/3252 [============================>.] - ETA: 0s - loss: -0.8999 - metric_choose_argument_global_clu_y_train: 0.7158\n",
      "Epoch 11: saving model to nomic_autoencoder/global_clu_autoencoder_weights.keras\n",
      "3252/3252 [==============================] - 37s 12ms/step - loss: -0.8998 - metric_choose_argument_global_clu_y_train: 0.7159 - val_loss: -0.8366 - val_metric_choose_argument_global_clu_y_train: 0.3370\n",
      "Epoch 12/20\n",
      "3249/3252 [============================>.] - ETA: 0s - loss: -0.9024 - metric_choose_argument_global_clu_y_train: 0.7553\n",
      "Epoch 12: saving model to nomic_autoencoder/global_clu_autoencoder_weights.keras\n",
      "3252/3252 [==============================] - 38s 12ms/step - loss: -0.9024 - metric_choose_argument_global_clu_y_train: 0.7555 - val_loss: -0.8373 - val_metric_choose_argument_global_clu_y_train: 0.3530\n",
      "Epoch 13/20\n",
      "3250/3252 [============================>.] - ETA: 0s - loss: -0.9048 - metric_choose_argument_global_clu_y_train: 0.7880\n",
      "Epoch 13: saving model to nomic_autoencoder/global_clu_autoencoder_weights.keras\n",
      "3252/3252 [==============================] - 38s 12ms/step - loss: -0.9048 - metric_choose_argument_global_clu_y_train: 0.7878 - val_loss: -0.8379 - val_metric_choose_argument_global_clu_y_train: 0.3690\n",
      "Epoch 14/20\n",
      "3249/3252 [============================>.] - ETA: 0s - loss: -0.9068 - metric_choose_argument_global_clu_y_train: 0.8113\n",
      "Epoch 14: saving model to nomic_autoencoder/global_clu_autoencoder_weights.keras\n",
      "3252/3252 [==============================] - 38s 12ms/step - loss: -0.9068 - metric_choose_argument_global_clu_y_train: 0.8115 - val_loss: -0.8370 - val_metric_choose_argument_global_clu_y_train: 0.3678\n",
      "Epoch 15/20\n",
      "3252/3252 [==============================] - ETA: 0s - loss: -0.9086 - metric_choose_argument_global_clu_y_train: 0.8373\n",
      "Epoch 15: saving model to nomic_autoencoder/global_clu_autoencoder_weights.keras\n",
      "3252/3252 [==============================] - 35s 11ms/step - loss: -0.9086 - metric_choose_argument_global_clu_y_train: 0.8373 - val_loss: -0.8366 - val_metric_choose_argument_global_clu_y_train: 0.3850\n",
      "Epoch 16/20\n",
      "3252/3252 [==============================] - ETA: 0s - loss: -0.9103 - metric_choose_argument_global_clu_y_train: 0.8573\n",
      "Epoch 16: saving model to nomic_autoencoder/global_clu_autoencoder_weights.keras\n",
      "3252/3252 [==============================] - 39s 12ms/step - loss: -0.9103 - metric_choose_argument_global_clu_y_train: 0.8573 - val_loss: -0.8367 - val_metric_choose_argument_global_clu_y_train: 0.3899\n",
      "Epoch 17/20\n",
      "3251/3252 [============================>.] - ETA: 0s - loss: -0.9118 - metric_choose_argument_global_clu_y_train: 0.8650\n",
      "Epoch 17: saving model to nomic_autoencoder/global_clu_autoencoder_weights.keras\n",
      "3252/3252 [==============================] - 40s 12ms/step - loss: -0.9118 - metric_choose_argument_global_clu_y_train: 0.8650 - val_loss: -0.8364 - val_metric_choose_argument_global_clu_y_train: 0.3998\n",
      "Epoch 18/20\n",
      "3249/3252 [============================>.] - ETA: 0s - loss: -0.9132 - metric_choose_argument_global_clu_y_train: 0.8840\n",
      "Epoch 18: saving model to nomic_autoencoder/global_clu_autoencoder_weights.keras\n",
      "3252/3252 [==============================] - 38s 12ms/step - loss: -0.9132 - metric_choose_argument_global_clu_y_train: 0.8838 - val_loss: -0.8366 - val_metric_choose_argument_global_clu_y_train: 0.4121\n",
      "Epoch 19/20\n",
      "3250/3252 [============================>.] - ETA: 0s - loss: -0.9145 - metric_choose_argument_global_clu_y_train: 0.8938\n",
      "Epoch 19: saving model to nomic_autoencoder/global_clu_autoencoder_weights.keras\n",
      "3252/3252 [==============================] - 37s 11ms/step - loss: -0.9145 - metric_choose_argument_global_clu_y_train: 0.8939 - val_loss: -0.8364 - val_metric_choose_argument_global_clu_y_train: 0.4010\n",
      "Epoch 20/20\n",
      "3249/3252 [============================>.] - ETA: 0s - loss: -0.9157 - metric_choose_argument_global_clu_y_train: 0.9052\n",
      "Epoch 20: saving model to nomic_autoencoder/global_clu_autoencoder_weights.keras\n",
      "3252/3252 [==============================] - 40s 12ms/step - loss: -0.9157 - metric_choose_argument_global_clu_y_train: 0.9050 - val_loss: -0.8353 - val_metric_choose_argument_global_clu_y_train: 0.4121\n"
     ]
    }
   ],
   "source": [
    "checkpoint_callback = ModelCheckpoint(filepath='nomic_autoencoder/global_clu_autoencoder_weights.keras', save_best_only=False, save_weights_only=False, verbose=1)\n",
    "csv_logger_callback = CSVLogger(filename='nomic_autoencoder/global_clu_training_log.csv', separator=',', append=True)\n",
    "\n",
    "global_clu_history = global_clu_autoencoder_model.fit(\n",
    "    x=global_clu_x_train,\n",
    "    y=global_clu_y_train,\n",
    "    batch_size=1,\n",
    "    epochs=20,\n",
    "    validation_data = (global_clu_x_test, global_clu_y_test),\n",
    "    callbacks=[checkpoint_callback, csv_logger_callback]\n",
    ")"
   ]
  },
  {
   "cell_type": "code",
   "execution_count": 55,
   "id": "1a9cfbb7-83b4-4490-92f5-d06a7e2500ee",
   "metadata": {},
   "outputs": [],
   "source": [
    "global_clu_autoencoder_model.save('nomic_autoencoder/global_clu_autoencoder_model.keras')"
   ]
  },
  {
   "cell_type": "code",
   "execution_count": 56,
   "id": "9f6b6408-3ccb-4c1b-b6ad-bfc08dc47d76",
   "metadata": {
    "scrolled": true
   },
   "outputs": [
    {
     "name": "stdout",
     "output_type": "stream",
     "text": [
      "Epoch 1/20\n",
      "3249/3252 [============================>.] - ETA: 0s - loss: -0.7879 - metric_choose_argument_global_cla_y_train: 0.0280\n",
      "Epoch 1: saving model to nomic_autoencoder/global_cla_autoencoder_weights.keras\n",
      "3252/3252 [==============================] - 43s 12ms/step - loss: -0.7880 - metric_choose_argument_global_cla_y_train: 0.0283 - val_loss: -0.7986 - val_metric_choose_argument_global_cla_y_train: 0.0517\n",
      "Epoch 2/20\n",
      "3251/3252 [============================>.] - ETA: 0s - loss: -0.8281 - metric_choose_argument_global_cla_y_train: 0.0812\n",
      "Epoch 2: saving model to nomic_autoencoder/global_cla_autoencoder_weights.keras\n",
      "3252/3252 [==============================] - 39s 12ms/step - loss: -0.8281 - metric_choose_argument_global_cla_y_train: 0.0812 - val_loss: -0.8154 - val_metric_choose_argument_global_cla_y_train: 0.0763\n",
      "Epoch 3/20\n",
      "3251/3252 [============================>.] - ETA: 0s - loss: -0.8447 - metric_choose_argument_global_cla_y_train: 0.1443\n",
      "Epoch 3: saving model to nomic_autoencoder/global_cla_autoencoder_weights.keras\n",
      "3252/3252 [==============================] - 39s 12ms/step - loss: -0.8447 - metric_choose_argument_global_cla_y_train: 0.1442 - val_loss: -0.8220 - val_metric_choose_argument_global_cla_y_train: 0.1107\n",
      "Epoch 4/20\n",
      "3248/3252 [============================>.] - ETA: 0s - loss: -0.8566 - metric_choose_argument_global_cla_y_train: 0.2358\n",
      "Epoch 4: saving model to nomic_autoencoder/global_cla_autoencoder_weights.keras\n",
      "3252/3252 [==============================] - 38s 12ms/step - loss: -0.8566 - metric_choose_argument_global_cla_y_train: 0.2355 - val_loss: -0.8245 - val_metric_choose_argument_global_cla_y_train: 0.1427\n",
      "Epoch 5/20\n",
      "3252/3252 [==============================] - ETA: 0s - loss: -0.8662 - metric_choose_argument_global_cla_y_train: 0.3447\n",
      "Epoch 5: saving model to nomic_autoencoder/global_cla_autoencoder_weights.keras\n",
      "3252/3252 [==============================] - 38s 12ms/step - loss: -0.8662 - metric_choose_argument_global_cla_y_train: 0.3447 - val_loss: -0.8295 - val_metric_choose_argument_global_cla_y_train: 0.2042\n",
      "Epoch 6/20\n",
      "3252/3252 [==============================] - ETA: 0s - loss: -0.8738 - metric_choose_argument_global_cla_y_train: 0.4240\n",
      "Epoch 6: saving model to nomic_autoencoder/global_cla_autoencoder_weights.keras\n",
      "3252/3252 [==============================] - 39s 12ms/step - loss: -0.8738 - metric_choose_argument_global_cla_y_train: 0.4240 - val_loss: -0.8305 - val_metric_choose_argument_global_cla_y_train: 0.2128\n",
      "Epoch 7/20\n",
      "3250/3252 [============================>.] - ETA: 0s - loss: -0.8802 - metric_choose_argument_global_cla_y_train: 0.5166\n",
      "Epoch 7: saving model to nomic_autoencoder/global_cla_autoencoder_weights.keras\n",
      "3252/3252 [==============================] - 39s 12ms/step - loss: -0.8802 - metric_choose_argument_global_cla_y_train: 0.5169 - val_loss: -0.8325 - val_metric_choose_argument_global_cla_y_train: 0.2509\n",
      "Epoch 8/20\n",
      "3249/3252 [============================>.] - ETA: 0s - loss: -0.8854 - metric_choose_argument_global_cla_y_train: 0.5817\n",
      "Epoch 8: saving model to nomic_autoencoder/global_cla_autoencoder_weights.keras\n",
      "3252/3252 [==============================] - 37s 11ms/step - loss: -0.8854 - metric_choose_argument_global_cla_y_train: 0.5818 - val_loss: -0.8325 - val_metric_choose_argument_global_cla_y_train: 0.2804\n",
      "Epoch 9/20\n",
      "3251/3252 [============================>.] - ETA: 0s - loss: -0.8898 - metric_choose_argument_global_cla_y_train: 0.6506\n",
      "Epoch 9: saving model to nomic_autoencoder/global_cla_autoencoder_weights.keras\n",
      "3252/3252 [==============================] - 40s 12ms/step - loss: -0.8899 - metric_choose_argument_global_cla_y_train: 0.6507 - val_loss: -0.8335 - val_metric_choose_argument_global_cla_y_train: 0.3100\n",
      "Epoch 10/20\n",
      "3250/3252 [============================>.] - ETA: 0s - loss: -0.8937 - metric_choose_argument_global_cla_y_train: 0.6988\n",
      "Epoch 10: saving model to nomic_autoencoder/global_cla_autoencoder_weights.keras\n",
      "3252/3252 [==============================] - 33s 10ms/step - loss: -0.8937 - metric_choose_argument_global_cla_y_train: 0.6990 - val_loss: -0.8338 - val_metric_choose_argument_global_cla_y_train: 0.3173\n",
      "Epoch 11/20\n",
      "3251/3252 [============================>.] - ETA: 0s - loss: -0.8972 - metric_choose_argument_global_cla_y_train: 0.7496\n",
      "Epoch 11: saving model to nomic_autoencoder/global_cla_autoencoder_weights.keras\n",
      "3252/3252 [==============================] - 39s 12ms/step - loss: -0.8972 - metric_choose_argument_global_cla_y_train: 0.7494 - val_loss: -0.8330 - val_metric_choose_argument_global_cla_y_train: 0.3469\n",
      "Epoch 12/20\n",
      "3251/3252 [============================>.] - ETA: 0s - loss: -0.9000 - metric_choose_argument_global_cla_y_train: 0.7828\n",
      "Epoch 12: saving model to nomic_autoencoder/global_cla_autoencoder_weights.keras\n",
      "3252/3252 [==============================] - 37s 11ms/step - loss: -0.9000 - metric_choose_argument_global_cla_y_train: 0.7829 - val_loss: -0.8343 - val_metric_choose_argument_global_cla_y_train: 0.3801\n",
      "Epoch 13/20\n",
      "3248/3252 [============================>.] - ETA: 0s - loss: -0.9026 - metric_choose_argument_global_cla_y_train: 0.8193\n",
      "Epoch 13: saving model to nomic_autoencoder/global_cla_autoencoder_weights.keras\n",
      "3252/3252 [==============================] - 39s 12ms/step - loss: -0.9026 - metric_choose_argument_global_cla_y_train: 0.8195 - val_loss: -0.8334 - val_metric_choose_argument_global_cla_y_train: 0.3665\n",
      "Epoch 14/20\n",
      "3250/3252 [============================>.] - ETA: 0s - loss: -0.9049 - metric_choose_argument_global_cla_y_train: 0.8480\n",
      "Epoch 14: saving model to nomic_autoencoder/global_cla_autoencoder_weights.keras\n",
      "3252/3252 [==============================] - 39s 12ms/step - loss: -0.9049 - metric_choose_argument_global_cla_y_train: 0.8481 - val_loss: -0.8335 - val_metric_choose_argument_global_cla_y_train: 0.3788\n",
      "Epoch 15/20\n",
      "3251/3252 [============================>.] - ETA: 0s - loss: -0.9070 - metric_choose_argument_global_cla_y_train: 0.8683\n",
      "Epoch 15: saving model to nomic_autoencoder/global_cla_autoencoder_weights.keras\n",
      "3252/3252 [==============================] - 39s 12ms/step - loss: -0.9070 - metric_choose_argument_global_cla_y_train: 0.8684 - val_loss: -0.8333 - val_metric_choose_argument_global_cla_y_train: 0.3875\n",
      "Epoch 16/20\n",
      "3251/3252 [============================>.] - ETA: 0s - loss: -0.9089 - metric_choose_argument_global_cla_y_train: 0.8850\n",
      "Epoch 16: saving model to nomic_autoencoder/global_cla_autoencoder_weights.keras\n",
      "3252/3252 [==============================] - 40s 12ms/step - loss: -0.9089 - metric_choose_argument_global_cla_y_train: 0.8850 - val_loss: -0.8328 - val_metric_choose_argument_global_cla_y_train: 0.4047\n",
      "Epoch 17/20\n",
      "3250/3252 [============================>.] - ETA: 0s - loss: -0.9105 - metric_choose_argument_global_cla_y_train: 0.8991\n",
      "Epoch 17: saving model to nomic_autoencoder/global_cla_autoencoder_weights.keras\n",
      "3252/3252 [==============================] - 39s 12ms/step - loss: -0.9105 - metric_choose_argument_global_cla_y_train: 0.8991 - val_loss: -0.8329 - val_metric_choose_argument_global_cla_y_train: 0.3961\n",
      "Epoch 18/20\n",
      "3252/3252 [==============================] - ETA: 0s - loss: -0.9122 - metric_choose_argument_global_cla_y_train: 0.9148\n",
      "Epoch 18: saving model to nomic_autoencoder/global_cla_autoencoder_weights.keras\n",
      "3252/3252 [==============================] - 34s 11ms/step - loss: -0.9122 - metric_choose_argument_global_cla_y_train: 0.9148 - val_loss: -0.8323 - val_metric_choose_argument_global_cla_y_train: 0.3998\n",
      "Epoch 19/20\n",
      "3249/3252 [============================>.] - ETA: 0s - loss: -0.9136 - metric_choose_argument_global_cla_y_train: 0.9209\n",
      "Epoch 19: saving model to nomic_autoencoder/global_cla_autoencoder_weights.keras\n",
      "3252/3252 [==============================] - 39s 12ms/step - loss: -0.9135 - metric_choose_argument_global_cla_y_train: 0.9210 - val_loss: -0.8332 - val_metric_choose_argument_global_cla_y_train: 0.4121\n",
      "Epoch 20/20\n",
      "3251/3252 [============================>.] - ETA: 0s - loss: -0.9149 - metric_choose_argument_global_cla_y_train: 0.9311\n",
      "Epoch 20: saving model to nomic_autoencoder/global_cla_autoencoder_weights.keras\n",
      "3252/3252 [==============================] - 39s 12ms/step - loss: -0.9149 - metric_choose_argument_global_cla_y_train: 0.9311 - val_loss: -0.8321 - val_metric_choose_argument_global_cla_y_train: 0.4133\n"
     ]
    }
   ],
   "source": [
    "checkpoint_callback = ModelCheckpoint(filepath='nomic_autoencoder/global_cla_autoencoder_weights.keras', save_best_only=False, save_weights_only=False, verbose=1)\n",
    "csv_logger_callback = CSVLogger(filename='nomic_autoencoder/global_cla_training_log.csv', separator=',', append=True)\n",
    "\n",
    "global_cla_history = global_cla_autoencoder_model.fit(\n",
    "    x=global_cla_x_train,\n",
    "    y=global_cla_y_train,\n",
    "    batch_size=1,\n",
    "    epochs=20,\n",
    "    validation_data = (global_cla_x_test, global_cla_y_test),\n",
    "    callbacks=[checkpoint_callback, csv_logger_callback]\n",
    ")"
   ]
  },
  {
   "cell_type": "code",
   "execution_count": 57,
   "id": "64040bbc-a1aa-4cea-94bc-e659bba8a8e0",
   "metadata": {},
   "outputs": [],
   "source": [
    "global_cla_autoencoder_model.save('nomic_autoencoder/global_cla_autoencoder_model.keras')"
   ]
  },
  {
   "cell_type": "markdown",
   "id": "8202d007-c0cf-448b-9839-7743563c6214",
   "metadata": {},
   "source": [
    "## Load  Training History"
   ]
  },
  {
   "cell_type": "code",
   "execution_count": 3,
   "id": "874a7439-7c16-4da5-b3a2-875fd9b721fc",
   "metadata": {
    "scrolled": true
   },
   "outputs": [
    {
     "ename": "KeyError",
     "evalue": "\"The following 'value_vars' are not present in the DataFrame: ['metric_choose_argument_global_sd_y_train', 'val_metric_choose_argument_global_sd_y_train']\"",
     "output_type": "error",
     "traceback": [
      "\u001b[0;31m---------------------------------------------------------------------------\u001b[0m",
      "\u001b[0;31mKeyError\u001b[0m                                  Traceback (most recent call last)",
      "Cell \u001b[0;32mIn[3], line 3\u001b[0m\n\u001b[1;32m      1\u001b[0m \u001b[38;5;66;03m# Access training history\u001b[39;00m\n\u001b[1;32m      2\u001b[0m loaded_sd_global_history \u001b[38;5;241m=\u001b[39m pd\u001b[38;5;241m.\u001b[39mDataFrame(pd\u001b[38;5;241m.\u001b[39mread_csv(\u001b[38;5;124m\"\u001b[39m\u001b[38;5;124mnomic_autoencoder/global_sd_training_log.csv\u001b[39m\u001b[38;5;124m\"\u001b[39m))\n\u001b[0;32m----> 3\u001b[0m loaded_sd_global_history \u001b[38;5;241m=\u001b[39m \u001b[43mpd\u001b[49m\u001b[38;5;241;43m.\u001b[39;49m\u001b[43mmelt\u001b[49m\u001b[43m(\u001b[49m\u001b[43mloaded_sd_global_history\u001b[49m\u001b[43m,\u001b[49m\u001b[43m \u001b[49m\u001b[43mid_vars\u001b[49m\u001b[38;5;241;43m=\u001b[39;49m\u001b[38;5;124;43m'\u001b[39;49m\u001b[38;5;124;43mUnnamed: 0\u001b[39;49m\u001b[38;5;124;43m'\u001b[39;49m\u001b[43m,\u001b[49m\u001b[43m \u001b[49m\u001b[43mvalue_vars\u001b[49m\u001b[38;5;241;43m=\u001b[39;49m\u001b[43m[\u001b[49m\u001b[38;5;124;43m'\u001b[39;49m\u001b[38;5;124;43mmetric_choose_argument_global_sd_y_train\u001b[39;49m\u001b[38;5;124;43m'\u001b[39;49m\u001b[43m,\u001b[49m\u001b[43m \u001b[49m\u001b[38;5;124;43m'\u001b[39;49m\u001b[38;5;124;43mval_metric_choose_argument_global_sd_y_train\u001b[39;49m\u001b[38;5;124;43m'\u001b[39;49m\u001b[43m]\u001b[49m\u001b[43m,\u001b[49m\u001b[43m \u001b[49m\u001b[43mvar_name\u001b[49m\u001b[38;5;241;43m=\u001b[39;49m\u001b[38;5;124;43m'\u001b[39;49m\u001b[38;5;124;43mdataset\u001b[39;49m\u001b[38;5;124;43m'\u001b[39;49m\u001b[43m,\u001b[49m\u001b[43m \u001b[49m\u001b[43mvalue_name\u001b[49m\u001b[38;5;241;43m=\u001b[39;49m\u001b[38;5;124;43m'\u001b[39;49m\u001b[38;5;124;43maccuracy\u001b[39;49m\u001b[38;5;124;43m'\u001b[39;49m\u001b[43m)\u001b[49m\n\u001b[1;32m      4\u001b[0m loaded_sd_global_history \u001b[38;5;241m=\u001b[39m loaded_sd_global_history\u001b[38;5;241m.\u001b[39mreplace([\u001b[38;5;124m'\u001b[39m\u001b[38;5;124mmetric_choose_argument_global_sd_y_train\u001b[39m\u001b[38;5;124m'\u001b[39m, \u001b[38;5;124m'\u001b[39m\u001b[38;5;124mval_metric_choose_argument_global_sd_y_train\u001b[39m\u001b[38;5;124m'\u001b[39m], [\u001b[38;5;124m'\u001b[39m\u001b[38;5;124mtraining set\u001b[39m\u001b[38;5;124m'\u001b[39m, \u001b[38;5;124m'\u001b[39m\u001b[38;5;124mvalidation set\u001b[39m\u001b[38;5;124m'\u001b[39m])\n\u001b[1;32m      5\u001b[0m loaded_sd_global_history\u001b[38;5;241m.\u001b[39mrename(columns \u001b[38;5;241m=\u001b[39m {\u001b[38;5;124m'\u001b[39m\u001b[38;5;124mUnnamed: 0\u001b[39m\u001b[38;5;124m'\u001b[39m:\u001b[38;5;124m'\u001b[39m\u001b[38;5;124mepoch\u001b[39m\u001b[38;5;124m'\u001b[39m}, inplace \u001b[38;5;241m=\u001b[39m \u001b[38;5;28;01mTrue\u001b[39;00m) \n",
      "File \u001b[0;32m/usr/local/lib/python3.11/site-packages/pandas/core/reshape/melt.py:88\u001b[0m, in \u001b[0;36mmelt\u001b[0;34m(frame, id_vars, value_vars, var_name, value_name, col_level, ignore_index)\u001b[0m\n\u001b[1;32m     86\u001b[0m     missing \u001b[38;5;241m=\u001b[39m Index(com\u001b[38;5;241m.\u001b[39mflatten(value_vars))\u001b[38;5;241m.\u001b[39mdifference(cols)\n\u001b[1;32m     87\u001b[0m     \u001b[38;5;28;01mif\u001b[39;00m \u001b[38;5;129;01mnot\u001b[39;00m missing\u001b[38;5;241m.\u001b[39mempty:\n\u001b[0;32m---> 88\u001b[0m         \u001b[38;5;28;01mraise\u001b[39;00m \u001b[38;5;167;01mKeyError\u001b[39;00m(\n\u001b[1;32m     89\u001b[0m             \u001b[38;5;124m\"\u001b[39m\u001b[38;5;124mThe following \u001b[39m\u001b[38;5;124m'\u001b[39m\u001b[38;5;124mvalue_vars\u001b[39m\u001b[38;5;124m'\u001b[39m\u001b[38;5;124m are not present in \u001b[39m\u001b[38;5;124m\"\u001b[39m\n\u001b[1;32m     90\u001b[0m             \u001b[38;5;124mf\u001b[39m\u001b[38;5;124m\"\u001b[39m\u001b[38;5;124mthe DataFrame: \u001b[39m\u001b[38;5;132;01m{\u001b[39;00m\u001b[38;5;28mlist\u001b[39m(missing)\u001b[38;5;132;01m}\u001b[39;00m\u001b[38;5;124m\"\u001b[39m\n\u001b[1;32m     91\u001b[0m         )\n\u001b[1;32m     92\u001b[0m \u001b[38;5;28;01mif\u001b[39;00m col_level \u001b[38;5;129;01mis\u001b[39;00m \u001b[38;5;129;01mnot\u001b[39;00m \u001b[38;5;28;01mNone\u001b[39;00m:\n\u001b[1;32m     93\u001b[0m     idx \u001b[38;5;241m=\u001b[39m frame\u001b[38;5;241m.\u001b[39mcolumns\u001b[38;5;241m.\u001b[39mget_level_values(col_level)\u001b[38;5;241m.\u001b[39mget_indexer(\n\u001b[1;32m     94\u001b[0m         id_vars \u001b[38;5;241m+\u001b[39m value_vars\n\u001b[1;32m     95\u001b[0m     )\n",
      "\u001b[0;31mKeyError\u001b[0m: \"The following 'value_vars' are not present in the DataFrame: ['metric_choose_argument_global_sd_y_train', 'val_metric_choose_argument_global_sd_y_train']\""
     ]
    }
   ],
   "source": [
    "# Access training history\n",
    "loaded_sd_global_history = pd.DataFrame(pd.read_csv(\"nomic_autoencoder/global_sd_training_log.csv\"))\n",
    "loaded_sd_global_history = pd.melt(loaded_sd_global_history, id_vars='Unnamed: 0', value_vars=['metric_choose_argument_global_sd_y_train', 'val_metric_choose_argument_global_sd_y_train'], var_name='dataset', value_name='accuracy')\n",
    "loaded_sd_global_history = loaded_sd_global_history.replace(['metric_choose_argument_global_sd_y_train', 'val_metric_choose_argument_global_sd_y_train'], ['training set', 'validation set'])\n",
    "loaded_sd_global_history.rename(columns = {'Unnamed: 0':'epoch'}, inplace = True) \n",
    "loaded_sd_global_history['shuffled'] = False"
   ]
  },
  {
   "cell_type": "code",
   "execution_count": 24,
   "id": "4479fcd0-51eb-450f-8654-f3c88666e4f4",
   "metadata": {},
   "outputs": [],
   "source": [
    "# Access training history\n",
    "loaded_sq_global_history = pd.DataFrame(pd.read_csv(\"nomic_autoencoder/global_sq_training_log.csv\"))\n",
    "loaded_sq_global_history = pd.melt(loaded_sq_global_history, id_vars='epoch', value_vars=['metric_choose_argument_global_sq_y_train', 'val_metric_choose_argument_global_sq_y_train'], var_name='dataset', value_name='accuracy')\n",
    "loaded_sq_global_history = loaded_sq_global_history.replace(['metric_choose_argument_global_sq_y_train', 'val_metric_choose_argument_global_sq_y_train'], ['training set', 'validation set'])\n",
    "# loaded_sq_global_history.rename(columns = {'Unnamed: 0':'epoch'}, inplace = True) \n",
    "loaded_sq_global_history['shuffled'] = False"
   ]
  },
  {
   "cell_type": "code",
   "execution_count": 26,
   "id": "1c071ed6-ba52-4f34-9ee5-901b6d9cf345",
   "metadata": {},
   "outputs": [],
   "source": [
    "# Access training history\n",
    "loaded_clu_global_history = pd.DataFrame(pd.read_csv(\"nomic_autoencoder/global_clu_training_log.csv\"))\n",
    "loaded_clu_global_history = pd.melt(loaded_clu_global_history, id_vars='epoch', value_vars=['metric_choose_argument_global_clu_y_train', 'val_metric_choose_argument_global_clu_y_train'], var_name='dataset', value_name='accuracy')\n",
    "loaded_clu_global_history = loaded_clu_global_history.replace(['metric_choose_argument_global_clu_y_train', 'val_metric_choose_argument_global_clu_y_train'], ['training set', 'validation set'])\n",
    "loaded_clu_global_history['shuffled'] = False"
   ]
  },
  {
   "cell_type": "code",
   "execution_count": 28,
   "id": "039cf477-7a01-4d42-9792-dd521321719d",
   "metadata": {},
   "outputs": [],
   "source": [
    "# Access training history\n",
    "loaded_cla_global_history = pd.DataFrame(pd.read_csv(\"nomic_autoencoder/global_cla_training_log.csv\"))\n",
    "loaded_cla_global_history = pd.melt(loaded_cla_global_history, id_vars='epoch', value_vars=['metric_choose_argument_global_cla_y_train', 'val_metric_choose_argument_global_cla_y_train'], var_name='dataset', value_name='accuracy')\n",
    "loaded_cla_global_history = loaded_cla_global_history.replace(['metric_choose_argument_global_cla_y_train', 'val_metric_choose_argument_global_cla_y_train'], ['training set', 'validation set'])\n",
    "loaded_cla_global_history['shuffled'] = False"
   ]
  },
  {
   "cell_type": "code",
   "execution_count": 154,
   "id": "e1524d08-a966-43bc-9ed7-66f18d2bc2c6",
   "metadata": {},
   "outputs": [
    {
     "name": "stderr",
     "output_type": "stream",
     "text": [
      "/usr/local/lib/python3.11/site-packages/plotnine/ggplot.py:587: PlotnineWarning: Saving 6.4 x 4.8 in image.\n",
      "/usr/local/lib/python3.11/site-packages/plotnine/ggplot.py:588: PlotnineWarning: Filename: ../data_dump/training_plots_dump/global_training_plot.png\n"
     ]
    }
   ],
   "source": [
    "global_sd_training_plot = ggplot(loaded_sd_global_history, aes(x='epoch', y='accuracy', linetype='dataset')) + geom_line() + labs(title='Learning Curve of Model Trained on Unshuffled Data', x='Epoch', y='Accuracy')\n",
    "ggsave(global_sd_training_plot, \"../data_dump/nomic_training_plots_dump/global_sd_training_plot.png\")"
   ]
  },
  {
   "cell_type": "markdown",
   "id": "c2c30397-a19b-47d6-ad5e-1cf94fdf83fb",
   "metadata": {},
   "source": [
    "#### Global Shuffled Training"
   ]
  },
  {
   "cell_type": "code",
   "execution_count": null,
   "id": "dd401362-8dd9-43b5-b05e-e0e47355832c",
   "metadata": {},
   "outputs": [
    {
     "name": "stdout",
     "output_type": "stream",
     "text": [
      "Epoch 1/20\n",
      "3252/3252 [==============================] - 189s 56ms/step - loss: -0.8765 - metric_choose_argument_global_y_train: 0.0101 - val_loss: -0.8896 - val_metric_choose_argument_global_y_train: 0.0271\n",
      "Epoch 2/20\n",
      "3252/3252 [==============================] - 174s 53ms/step - loss: -0.8989 - metric_choose_argument_global_y_train: 0.0311 - val_loss: -0.8995 - val_metric_choose_argument_global_y_train: 0.0615\n",
      "Epoch 3/20\n",
      "3252/3252 [==============================] - 179s 55ms/step - loss: -0.9075 - metric_choose_argument_global_y_train: 0.0498 - val_loss: -0.9012 - val_metric_choose_argument_global_y_train: 0.0590\n",
      "Epoch 4/20\n",
      "3252/3252 [==============================] - 180s 55ms/step - loss: -0.9135 - metric_choose_argument_global_y_train: 0.0793 - val_loss: -0.9035 - val_metric_choose_argument_global_y_train: 0.0787\n",
      "Epoch 5/20\n",
      "3252/3252 [==============================] - 178s 55ms/step - loss: -0.9180 - metric_choose_argument_global_y_train: 0.1147 - val_loss: -0.9045 - val_metric_choose_argument_global_y_train: 0.0812\n",
      "Epoch 6/20\n",
      "3252/3252 [==============================] - 180s 55ms/step - loss: -0.9219 - metric_choose_argument_global_y_train: 0.1562 - val_loss: -0.9041 - val_metric_choose_argument_global_y_train: 0.0689\n",
      "Epoch 7/20\n",
      "3252/3252 [==============================] - 177s 55ms/step - loss: -0.9251 - metric_choose_argument_global_y_train: 0.2036 - val_loss: -0.9026 - val_metric_choose_argument_global_y_train: 0.0689\n",
      "Epoch 8/20\n",
      "3252/3252 [==============================] - 1444s 444ms/step - loss: -0.9279 - metric_choose_argument_global_y_train: 0.2691 - val_loss: -0.9017 - val_metric_choose_argument_global_y_train: 0.0664\n",
      "Epoch 9/20\n",
      "3252/3252 [==============================] - 239s 74ms/step - loss: -0.9302 - metric_choose_argument_global_y_train: 0.3361 - val_loss: -0.9016 - val_metric_choose_argument_global_y_train: 0.0812\n",
      "Epoch 10/20\n",
      "3252/3252 [==============================] - 181s 56ms/step - loss: -0.9323 - metric_choose_argument_global_y_train: 0.3878 - val_loss: -0.8989 - val_metric_choose_argument_global_y_train: 0.0713\n",
      "Epoch 11/20\n",
      "3252/3252 [==============================] - 167s 51ms/step - loss: -0.9341 - metric_choose_argument_global_y_train: 0.4468 - val_loss: -0.8981 - val_metric_choose_argument_global_y_train: 0.0750\n",
      "Epoch 12/20\n",
      "3252/3252 [==============================] - 173s 53ms/step - loss: -0.9357 - metric_choose_argument_global_y_train: 0.4895 - val_loss: -0.8975 - val_metric_choose_argument_global_y_train: 0.0689\n",
      "Epoch 13/20\n",
      "3252/3252 [==============================] - 165s 51ms/step - loss: -0.9371 - metric_choose_argument_global_y_train: 0.5341 - val_loss: -0.8967 - val_metric_choose_argument_global_y_train: 0.0689\n",
      "Epoch 14/20\n",
      "3252/3252 [==============================] - 162s 50ms/step - loss: -0.9383 - metric_choose_argument_global_y_train: 0.5652 - val_loss: -0.8946 - val_metric_choose_argument_global_y_train: 0.0677\n",
      "Epoch 15/20\n",
      "3252/3252 [==============================] - 160s 49ms/step - loss: -0.9394 - metric_choose_argument_global_y_train: 0.5898 - val_loss: -0.8942 - val_metric_choose_argument_global_y_train: 0.0664\n",
      "Epoch 16/20\n",
      "3252/3252 [==============================] - 159s 49ms/step - loss: -0.9404 - metric_choose_argument_global_y_train: 0.6110 - val_loss: -0.8935 - val_metric_choose_argument_global_y_train: 0.0603\n",
      "Epoch 17/20\n",
      "2307/3252 [====================>.........] - ETA: 44s - loss: -0.9424 - metric_choose_argument_global_y_train: 0.6519"
     ]
    }
   ],
   "source": [
    "# Global Shuffled Model\n",
    "\n",
    "global_shuffled_sd_autoencoder_model = tf.keras.models.clone_model(autoencoder_model)\n",
    "global_shuffled_sd_autoencoder_model.compile(\n",
    "    optimizer=tf.keras.optimizers.Adam(learning_rate=1e-3),\n",
    "    loss=\"cosine_similarity\",\n",
    "    metrics=[metric_choose_argument_global_y_train]\n",
    ")\n",
    "\n",
    "global_sd_shuffled_history = global_shuffled_sd_autoencoder_model.fit(\n",
    "    x=global_sd_x_train,\n",
    "    y=global_sd_y_train_shuffled,\n",
    "    batch_size=1,\n",
    "    epochs=20,\n",
    "    validation_data = (global_sd_x_test, global_sd_y_test)\n",
    ")"
   ]
  },
  {
   "cell_type": "code",
   "execution_count": 174,
   "id": "271e3a92-e121-42da-936f-50b024f795e6",
   "metadata": {},
   "outputs": [],
   "source": [
    "loaded_global_shuffled_history = pd.read_csv(\"./global_training_shuffled_log.csv\")"
   ]
  },
  {
   "cell_type": "code",
   "execution_count": 175,
   "id": "fc6ee9fc-85d5-46c9-b348-fad8988b540b",
   "metadata": {},
   "outputs": [],
   "source": [
    "loaded_global_shuffled_history = loaded_global_shuffled_history.loc[0:19]\n",
    "loaded_global_shuffled_history = pd.melt(loaded_global_shuffled_history, id_vars='epoch', value_vars=['metric_choose_argument_global_y_train', 'val_metric_choose_argument_global_y_train'], var_name='dataset', value_name='accuracy')\n",
    "loaded_global_shuffled_history = loaded_global_shuffled_history.replace(['metric_choose_argument_global_y_train', 'val_metric_choose_argument_global_y_train'], ['training set', 'validation set'])\n",
    "loaded_global_shuffled_history['shuffled'] = True"
   ]
  },
  {
   "cell_type": "code",
   "execution_count": 176,
   "id": "04685606-1a9e-4a98-86bf-f8423ebb4a3d",
   "metadata": {
    "scrolled": true
   },
   "outputs": [
    {
     "data": {
      "text/html": [
       "<div>\n",
       "<style scoped>\n",
       "    .dataframe tbody tr th:only-of-type {\n",
       "        vertical-align: middle;\n",
       "    }\n",
       "\n",
       "    .dataframe tbody tr th {\n",
       "        vertical-align: top;\n",
       "    }\n",
       "\n",
       "    .dataframe thead th {\n",
       "        text-align: right;\n",
       "    }\n",
       "</style>\n",
       "<table border=\"1\" class=\"dataframe\">\n",
       "  <thead>\n",
       "    <tr style=\"text-align: right;\">\n",
       "      <th></th>\n",
       "      <th>epoch</th>\n",
       "      <th>dataset</th>\n",
       "      <th>accuracy</th>\n",
       "      <th>shuffled</th>\n",
       "    </tr>\n",
       "  </thead>\n",
       "  <tbody>\n",
       "    <tr>\n",
       "      <th>0</th>\n",
       "      <td>0</td>\n",
       "      <td>training set</td>\n",
       "      <td>0.012608</td>\n",
       "      <td>True</td>\n",
       "    </tr>\n",
       "    <tr>\n",
       "      <th>1</th>\n",
       "      <td>1</td>\n",
       "      <td>training set</td>\n",
       "      <td>0.035363</td>\n",
       "      <td>True</td>\n",
       "    </tr>\n",
       "    <tr>\n",
       "      <th>2</th>\n",
       "      <td>2</td>\n",
       "      <td>training set</td>\n",
       "      <td>0.048893</td>\n",
       "      <td>True</td>\n",
       "    </tr>\n",
       "    <tr>\n",
       "      <th>3</th>\n",
       "      <td>3</td>\n",
       "      <td>training set</td>\n",
       "      <td>0.073801</td>\n",
       "      <td>True</td>\n",
       "    </tr>\n",
       "    <tr>\n",
       "      <th>4</th>\n",
       "      <td>4</td>\n",
       "      <td>training set</td>\n",
       "      <td>0.108549</td>\n",
       "      <td>True</td>\n",
       "    </tr>\n",
       "    <tr>\n",
       "      <th>5</th>\n",
       "      <td>5</td>\n",
       "      <td>training set</td>\n",
       "      <td>0.154367</td>\n",
       "      <td>True</td>\n",
       "    </tr>\n",
       "    <tr>\n",
       "      <th>6</th>\n",
       "      <td>6</td>\n",
       "      <td>training set</td>\n",
       "      <td>0.217405</td>\n",
       "      <td>True</td>\n",
       "    </tr>\n",
       "    <tr>\n",
       "      <th>7</th>\n",
       "      <td>7</td>\n",
       "      <td>training set</td>\n",
       "      <td>0.273063</td>\n",
       "      <td>True</td>\n",
       "    </tr>\n",
       "    <tr>\n",
       "      <th>8</th>\n",
       "      <td>8</td>\n",
       "      <td>training set</td>\n",
       "      <td>0.338561</td>\n",
       "      <td>True</td>\n",
       "    </tr>\n",
       "    <tr>\n",
       "      <th>9</th>\n",
       "      <td>9</td>\n",
       "      <td>training set</td>\n",
       "      <td>0.405904</td>\n",
       "      <td>True</td>\n",
       "    </tr>\n",
       "    <tr>\n",
       "      <th>10</th>\n",
       "      <td>10</td>\n",
       "      <td>training set</td>\n",
       "      <td>0.464945</td>\n",
       "      <td>True</td>\n",
       "    </tr>\n",
       "    <tr>\n",
       "      <th>11</th>\n",
       "      <td>11</td>\n",
       "      <td>training set</td>\n",
       "      <td>0.507688</td>\n",
       "      <td>True</td>\n",
       "    </tr>\n",
       "    <tr>\n",
       "      <th>12</th>\n",
       "      <td>12</td>\n",
       "      <td>training set</td>\n",
       "      <td>0.539053</td>\n",
       "      <td>True</td>\n",
       "    </tr>\n",
       "    <tr>\n",
       "      <th>13</th>\n",
       "      <td>13</td>\n",
       "      <td>training set</td>\n",
       "      <td>0.577798</td>\n",
       "      <td>True</td>\n",
       "    </tr>\n",
       "    <tr>\n",
       "      <th>14</th>\n",
       "      <td>14</td>\n",
       "      <td>training set</td>\n",
       "      <td>0.591636</td>\n",
       "      <td>True</td>\n",
       "    </tr>\n",
       "    <tr>\n",
       "      <th>15</th>\n",
       "      <td>15</td>\n",
       "      <td>training set</td>\n",
       "      <td>0.622694</td>\n",
       "      <td>True</td>\n",
       "    </tr>\n",
       "    <tr>\n",
       "      <th>16</th>\n",
       "      <td>16</td>\n",
       "      <td>training set</td>\n",
       "      <td>0.646986</td>\n",
       "      <td>True</td>\n",
       "    </tr>\n",
       "    <tr>\n",
       "      <th>17</th>\n",
       "      <td>17</td>\n",
       "      <td>training set</td>\n",
       "      <td>0.649754</td>\n",
       "      <td>True</td>\n",
       "    </tr>\n",
       "    <tr>\n",
       "      <th>18</th>\n",
       "      <td>18</td>\n",
       "      <td>training set</td>\n",
       "      <td>0.671894</td>\n",
       "      <td>True</td>\n",
       "    </tr>\n",
       "    <tr>\n",
       "      <th>19</th>\n",
       "      <td>19</td>\n",
       "      <td>training set</td>\n",
       "      <td>0.680197</td>\n",
       "      <td>True</td>\n",
       "    </tr>\n",
       "    <tr>\n",
       "      <th>20</th>\n",
       "      <td>0</td>\n",
       "      <td>validation set</td>\n",
       "      <td>0.033210</td>\n",
       "      <td>True</td>\n",
       "    </tr>\n",
       "    <tr>\n",
       "      <th>21</th>\n",
       "      <td>1</td>\n",
       "      <td>validation set</td>\n",
       "      <td>0.056581</td>\n",
       "      <td>True</td>\n",
       "    </tr>\n",
       "    <tr>\n",
       "      <th>22</th>\n",
       "      <td>2</td>\n",
       "      <td>validation set</td>\n",
       "      <td>0.067651</td>\n",
       "      <td>True</td>\n",
       "    </tr>\n",
       "    <tr>\n",
       "      <th>23</th>\n",
       "      <td>3</td>\n",
       "      <td>validation set</td>\n",
       "      <td>0.067651</td>\n",
       "      <td>True</td>\n",
       "    </tr>\n",
       "    <tr>\n",
       "      <th>24</th>\n",
       "      <td>4</td>\n",
       "      <td>validation set</td>\n",
       "      <td>0.072571</td>\n",
       "      <td>True</td>\n",
       "    </tr>\n",
       "    <tr>\n",
       "      <th>25</th>\n",
       "      <td>5</td>\n",
       "      <td>validation set</td>\n",
       "      <td>0.072571</td>\n",
       "      <td>True</td>\n",
       "    </tr>\n",
       "    <tr>\n",
       "      <th>26</th>\n",
       "      <td>6</td>\n",
       "      <td>validation set</td>\n",
       "      <td>0.071341</td>\n",
       "      <td>True</td>\n",
       "    </tr>\n",
       "    <tr>\n",
       "      <th>27</th>\n",
       "      <td>7</td>\n",
       "      <td>validation set</td>\n",
       "      <td>0.084871</td>\n",
       "      <td>True</td>\n",
       "    </tr>\n",
       "    <tr>\n",
       "      <th>28</th>\n",
       "      <td>8</td>\n",
       "      <td>validation set</td>\n",
       "      <td>0.077491</td>\n",
       "      <td>True</td>\n",
       "    </tr>\n",
       "    <tr>\n",
       "      <th>29</th>\n",
       "      <td>9</td>\n",
       "      <td>validation set</td>\n",
       "      <td>0.070111</td>\n",
       "      <td>True</td>\n",
       "    </tr>\n",
       "    <tr>\n",
       "      <th>30</th>\n",
       "      <td>10</td>\n",
       "      <td>validation set</td>\n",
       "      <td>0.075031</td>\n",
       "      <td>True</td>\n",
       "    </tr>\n",
       "    <tr>\n",
       "      <th>31</th>\n",
       "      <td>11</td>\n",
       "      <td>validation set</td>\n",
       "      <td>0.072571</td>\n",
       "      <td>True</td>\n",
       "    </tr>\n",
       "    <tr>\n",
       "      <th>32</th>\n",
       "      <td>12</td>\n",
       "      <td>validation set</td>\n",
       "      <td>0.063961</td>\n",
       "      <td>True</td>\n",
       "    </tr>\n",
       "    <tr>\n",
       "      <th>33</th>\n",
       "      <td>13</td>\n",
       "      <td>validation set</td>\n",
       "      <td>0.066421</td>\n",
       "      <td>True</td>\n",
       "    </tr>\n",
       "    <tr>\n",
       "      <th>34</th>\n",
       "      <td>14</td>\n",
       "      <td>validation set</td>\n",
       "      <td>0.067651</td>\n",
       "      <td>True</td>\n",
       "    </tr>\n",
       "    <tr>\n",
       "      <th>35</th>\n",
       "      <td>15</td>\n",
       "      <td>validation set</td>\n",
       "      <td>0.071341</td>\n",
       "      <td>True</td>\n",
       "    </tr>\n",
       "    <tr>\n",
       "      <th>36</th>\n",
       "      <td>16</td>\n",
       "      <td>validation set</td>\n",
       "      <td>0.073801</td>\n",
       "      <td>True</td>\n",
       "    </tr>\n",
       "    <tr>\n",
       "      <th>37</th>\n",
       "      <td>17</td>\n",
       "      <td>validation set</td>\n",
       "      <td>0.066421</td>\n",
       "      <td>True</td>\n",
       "    </tr>\n",
       "    <tr>\n",
       "      <th>38</th>\n",
       "      <td>18</td>\n",
       "      <td>validation set</td>\n",
       "      <td>0.066421</td>\n",
       "      <td>True</td>\n",
       "    </tr>\n",
       "    <tr>\n",
       "      <th>39</th>\n",
       "      <td>19</td>\n",
       "      <td>validation set</td>\n",
       "      <td>0.062731</td>\n",
       "      <td>True</td>\n",
       "    </tr>\n",
       "  </tbody>\n",
       "</table>\n",
       "</div>"
      ],
      "text/plain": [
       "    epoch         dataset  accuracy  shuffled\n",
       "0       0    training set  0.012608      True\n",
       "1       1    training set  0.035363      True\n",
       "2       2    training set  0.048893      True\n",
       "3       3    training set  0.073801      True\n",
       "4       4    training set  0.108549      True\n",
       "5       5    training set  0.154367      True\n",
       "6       6    training set  0.217405      True\n",
       "7       7    training set  0.273063      True\n",
       "8       8    training set  0.338561      True\n",
       "9       9    training set  0.405904      True\n",
       "10     10    training set  0.464945      True\n",
       "11     11    training set  0.507688      True\n",
       "12     12    training set  0.539053      True\n",
       "13     13    training set  0.577798      True\n",
       "14     14    training set  0.591636      True\n",
       "15     15    training set  0.622694      True\n",
       "16     16    training set  0.646986      True\n",
       "17     17    training set  0.649754      True\n",
       "18     18    training set  0.671894      True\n",
       "19     19    training set  0.680197      True\n",
       "20      0  validation set  0.033210      True\n",
       "21      1  validation set  0.056581      True\n",
       "22      2  validation set  0.067651      True\n",
       "23      3  validation set  0.067651      True\n",
       "24      4  validation set  0.072571      True\n",
       "25      5  validation set  0.072571      True\n",
       "26      6  validation set  0.071341      True\n",
       "27      7  validation set  0.084871      True\n",
       "28      8  validation set  0.077491      True\n",
       "29      9  validation set  0.070111      True\n",
       "30     10  validation set  0.075031      True\n",
       "31     11  validation set  0.072571      True\n",
       "32     12  validation set  0.063961      True\n",
       "33     13  validation set  0.066421      True\n",
       "34     14  validation set  0.067651      True\n",
       "35     15  validation set  0.071341      True\n",
       "36     16  validation set  0.073801      True\n",
       "37     17  validation set  0.066421      True\n",
       "38     18  validation set  0.066421      True\n",
       "39     19  validation set  0.062731      True"
      ]
     },
     "execution_count": 176,
     "metadata": {},
     "output_type": "execute_result"
    }
   ],
   "source": [
    "loaded_global_shuffled_history"
   ]
  },
  {
   "cell_type": "code",
   "execution_count": 170,
   "id": "e41c22f3-717f-451e-b65d-89a4283b55c0",
   "metadata": {
    "scrolled": true
   },
   "outputs": [
    {
     "name": "stderr",
     "output_type": "stream",
     "text": [
      "/usr/local/lib/python3.11/site-packages/plotnine/ggplot.py:587: PlotnineWarning: Saving 6.4 x 4.8 in image.\n",
      "/usr/local/lib/python3.11/site-packages/plotnine/ggplot.py:588: PlotnineWarning: Filename: ../data_dump/training_plots_dump/global_shuffled_training_plot.png\n"
     ]
    }
   ],
   "source": [
    "global_training_shuffled_plot = ggplot(loaded_global_shuffled_history, aes(x='epoch', y='accuracy', linetype='dataset')) + geom_line() + labs(title='Learning Curve of Model Trained on Within-Topic Shuffled Data', x='Epoch', y='Accuracy')\n",
    "ggsave(global_training_shuffled_plot, \"../data_dump/training_plots_dump/global_shuffled_training_plot.png\")"
   ]
  },
  {
   "cell_type": "code",
   "execution_count": 178,
   "id": "c645786f-b40b-4973-b164-90b0e0df519f",
   "metadata": {},
   "outputs": [
    {
     "data": {
      "text/html": [
       "<div>\n",
       "<style scoped>\n",
       "    .dataframe tbody tr th:only-of-type {\n",
       "        vertical-align: middle;\n",
       "    }\n",
       "\n",
       "    .dataframe tbody tr th {\n",
       "        vertical-align: top;\n",
       "    }\n",
       "\n",
       "    .dataframe thead th {\n",
       "        text-align: right;\n",
       "    }\n",
       "</style>\n",
       "<table border=\"1\" class=\"dataframe\">\n",
       "  <thead>\n",
       "    <tr style=\"text-align: right;\">\n",
       "      <th></th>\n",
       "      <th>epoch</th>\n",
       "      <th>dataset</th>\n",
       "      <th>accuracy</th>\n",
       "      <th>shuffled</th>\n",
       "    </tr>\n",
       "  </thead>\n",
       "  <tbody>\n",
       "    <tr>\n",
       "      <th>0</th>\n",
       "      <td>0</td>\n",
       "      <td>training set</td>\n",
       "      <td>0.040283</td>\n",
       "      <td>False</td>\n",
       "    </tr>\n",
       "    <tr>\n",
       "      <th>1</th>\n",
       "      <td>1</td>\n",
       "      <td>training set</td>\n",
       "      <td>0.124231</td>\n",
       "      <td>False</td>\n",
       "    </tr>\n",
       "    <tr>\n",
       "      <th>2</th>\n",
       "      <td>2</td>\n",
       "      <td>training set</td>\n",
       "      <td>0.200800</td>\n",
       "      <td>False</td>\n",
       "    </tr>\n",
       "    <tr>\n",
       "      <th>3</th>\n",
       "      <td>3</td>\n",
       "      <td>training set</td>\n",
       "      <td>0.281058</td>\n",
       "      <td>False</td>\n",
       "    </tr>\n",
       "    <tr>\n",
       "      <th>4</th>\n",
       "      <td>4</td>\n",
       "      <td>training set</td>\n",
       "      <td>0.382226</td>\n",
       "      <td>False</td>\n",
       "    </tr>\n",
       "    <tr>\n",
       "      <th>...</th>\n",
       "      <td>...</td>\n",
       "      <td>...</td>\n",
       "      <td>...</td>\n",
       "      <td>...</td>\n",
       "    </tr>\n",
       "    <tr>\n",
       "      <th>35</th>\n",
       "      <td>15</td>\n",
       "      <td>validation set</td>\n",
       "      <td>0.071341</td>\n",
       "      <td>True</td>\n",
       "    </tr>\n",
       "    <tr>\n",
       "      <th>36</th>\n",
       "      <td>16</td>\n",
       "      <td>validation set</td>\n",
       "      <td>0.073801</td>\n",
       "      <td>True</td>\n",
       "    </tr>\n",
       "    <tr>\n",
       "      <th>37</th>\n",
       "      <td>17</td>\n",
       "      <td>validation set</td>\n",
       "      <td>0.066421</td>\n",
       "      <td>True</td>\n",
       "    </tr>\n",
       "    <tr>\n",
       "      <th>38</th>\n",
       "      <td>18</td>\n",
       "      <td>validation set</td>\n",
       "      <td>0.066421</td>\n",
       "      <td>True</td>\n",
       "    </tr>\n",
       "    <tr>\n",
       "      <th>39</th>\n",
       "      <td>19</td>\n",
       "      <td>validation set</td>\n",
       "      <td>0.062731</td>\n",
       "      <td>True</td>\n",
       "    </tr>\n",
       "  </tbody>\n",
       "</table>\n",
       "<p>80 rows × 4 columns</p>\n",
       "</div>"
      ],
      "text/plain": [
       "    epoch         dataset  accuracy  shuffled\n",
       "0       0    training set  0.040283     False\n",
       "1       1    training set  0.124231     False\n",
       "2       2    training set  0.200800     False\n",
       "3       3    training set  0.281058     False\n",
       "4       4    training set  0.382226     False\n",
       "..    ...             ...       ...       ...\n",
       "35     15  validation set  0.071341      True\n",
       "36     16  validation set  0.073801      True\n",
       "37     17  validation set  0.066421      True\n",
       "38     18  validation set  0.066421      True\n",
       "39     19  validation set  0.062731      True\n",
       "\n",
       "[80 rows x 4 columns]"
      ]
     },
     "execution_count": 178,
     "metadata": {},
     "output_type": "execute_result"
    }
   ],
   "source": [
    "combined_global_training_df = pd.concat([loaded_global_history, loaded_global_shuffled_history])\n",
    "combined_global_training_df"
   ]
  },
  {
   "cell_type": "code",
   "execution_count": 218,
   "id": "b8bea898-c3f5-475f-a304-91911ec6dfd8",
   "metadata": {},
   "outputs": [
    {
     "name": "stderr",
     "output_type": "stream",
     "text": [
      "/usr/local/lib/python3.11/site-packages/plotnine/ggplot.py:587: PlotnineWarning: Saving 16 x 24 in image.\n",
      "/usr/local/lib/python3.11/site-packages/plotnine/ggplot.py:588: PlotnineWarning: Filename: ../data_dump/training_plots_dump/combined_global_training_plot.png\n"
     ]
    }
   ],
   "source": [
    "combined_global_plot = (\n",
    "    ggplot(combined_global_training_df, aes(x='epoch', y='accuracy', linetype='dataset', color='shuffled')) +\n",
    "    geom_line(size=2) +\n",
    "    labs(title='Learning Curve of Model Trained on Unshuffled vs. Within-Topic Shuffled Data', x='Epoch', y='Accuracy') +\n",
    "    theme(\n",
    "        figure_size=(16,24),\n",
    "        axis_title=element_text(size=32),\n",
    "        axis_text=element_text(size=24),\n",
    "        legend_title=element_text(size=32, lineheight=1.5),\n",
    "        legend_text=element_text(size=24, lineheight=1.5),\n",
    "        plot_title=element_text(size=40, wrap=True, lineheight=1.5),\n",
    "        legend_position=\"bottom\",\n",
    "        legend_key_width=64\n",
    "    ) +\n",
    "    guides(fill = guide_legend(byrow = True))\n",
    ")\n",
    "ggsave(combined_global_plot, \"../data_dump/training_plots_dump/combined_global_training_plot.png\")"
   ]
  },
  {
   "cell_type": "markdown",
   "id": "c91c31c3-0aa2-473c-9ca1-eed03a3f5c9e",
   "metadata": {},
   "source": [
    "#### Category Training"
   ]
  },
  {
   "cell_type": "code",
   "execution_count": null,
   "id": "b99c70ae-ae1e-4e0e-8dad-8eb0ced91327",
   "metadata": {},
   "outputs": [],
   "source": [
    "# Category Model\n",
    "category_autoencoder_model = tf.keras.models.clone_model(autoencoder_model)\n",
    "category_autoencoder_model.compile(\n",
    "    optimizer=tf.keras.optimizers.Adam(learning_rate=1e-3),\n",
    "    loss=\"mse\",\n",
    "    metrics=['accuracy']\n",
    ")\n",
    "category_autoencoder_model.fit(\n",
    "    x=economy_x_train,\n",
    "    y=economy_y_train,\n",
    "    batch_size=1,\n",
    "    epochs=20,\n",
    "    validation_data=(economy_x_test, economy_y_test)\n",
    ")"
   ]
  },
  {
   "cell_type": "markdown",
   "id": "cff97efc-7162-4bc3-9b4e-3e1e98234f27",
   "metadata": {},
   "source": [
    "#### Debate Training"
   ]
  },
  {
   "cell_type": "code",
   "execution_count": null,
   "id": "1e58b301-cafe-41ce-a2a3-8cf5b069ee5e",
   "metadata": {},
   "outputs": [],
   "source": [
    "# Debate Model\n",
    "debate_autoencoder_model = tf.keras.models.clone_model(autoencoder_model)\n",
    "debate_autoencoder_model.compile(\n",
    "    optimizer=tf.keras.optimizers.Adam(learning_rate=1e-3),\n",
    "    loss=\"mse\",\n",
    "    metrics=['accuracy']\n",
    ")\n",
    "debate_autoencoder_model.fit(\n",
    "    x=economy_debate_x_train,\n",
    "    y=economy_debate_y_train,\n",
    "    batch_size=1,\n",
    "    epochs=5\n",
    ")"
   ]
  },
  {
   "cell_type": "markdown",
   "id": "83ec4bfd-a398-4cc5-acbe-e75fe4fe0706",
   "metadata": {},
   "source": [
    "# Study 3: Choose Corresponding Embedding"
   ]
  },
  {
   "cell_type": "markdown",
   "id": "9e8e0515-ad46-4850-9066-cef69c23a327",
   "metadata": {},
   "source": [
    "Given an embedding, can a model be trained to choose the correct embeddings corresponding to its counterargument from a list of them?"
   ]
  },
  {
   "cell_type": "markdown",
   "id": "ac0bf93e-528d-459c-996c-ed7df37977b0",
   "metadata": {},
   "source": [
    "### OpenAI Setup"
   ]
  },
  {
   "cell_type": "code",
   "execution_count": 47,
   "id": "682d12f4-8dc1-490e-b9d1-02fb02beef37",
   "metadata": {},
   "outputs": [
    {
     "name": "stdout",
     "output_type": "stream",
     "text": [
      "Requirement already satisfied: openai in /usr/local/lib/python3.11/site-packages (1.3.9)\n",
      "Requirement already satisfied: anyio<5,>=3.5.0 in /usr/local/lib/python3.11/site-packages (from openai) (4.0.0)\n",
      "Requirement already satisfied: distro<2,>=1.7.0 in /usr/local/lib/python3.11/site-packages (from openai) (1.8.0)\n",
      "Requirement already satisfied: httpx<1,>=0.23.0 in /usr/local/lib/python3.11/site-packages (from openai) (0.25.2)\n",
      "Requirement already satisfied: pydantic<3,>=1.9.0 in /usr/local/lib/python3.11/site-packages (from openai) (2.5.2)\n",
      "Requirement already satisfied: sniffio in /usr/local/lib/python3.11/site-packages (from openai) (1.3.0)\n",
      "Requirement already satisfied: tqdm>4 in /usr/local/lib/python3.11/site-packages (from openai) (4.66.1)\n",
      "Requirement already satisfied: typing-extensions<5,>=4.5 in /usr/local/lib/python3.11/site-packages (from openai) (4.8.0)\n",
      "Requirement already satisfied: idna>=2.8 in /usr/local/lib/python3.11/site-packages (from anyio<5,>=3.5.0->openai) (3.4)\n",
      "Requirement already satisfied: certifi in /usr/local/lib/python3.11/site-packages (from httpx<1,>=0.23.0->openai) (2023.7.22)\n",
      "Requirement already satisfied: httpcore==1.* in /usr/local/lib/python3.11/site-packages (from httpx<1,>=0.23.0->openai) (1.0.2)\n",
      "Requirement already satisfied: h11<0.15,>=0.13 in /usr/local/lib/python3.11/site-packages (from httpcore==1.*->httpx<1,>=0.23.0->openai) (0.14.0)\n",
      "Requirement already satisfied: annotated-types>=0.4.0 in /usr/local/lib/python3.11/site-packages (from pydantic<3,>=1.9.0->openai) (0.6.0)\n",
      "Requirement already satisfied: pydantic-core==2.14.5 in /usr/local/lib/python3.11/site-packages (from pydantic<3,>=1.9.0->openai) (2.14.5)\n",
      "\n",
      "\u001b[1m[\u001b[0m\u001b[34;49mnotice\u001b[0m\u001b[1;39;49m]\u001b[0m\u001b[39;49m A new release of pip is available: \u001b[0m\u001b[31;49m23.0.1\u001b[0m\u001b[39;49m -> \u001b[0m\u001b[32;49m23.3.2\u001b[0m\n",
      "\u001b[1m[\u001b[0m\u001b[34;49mnotice\u001b[0m\u001b[1;39;49m]\u001b[0m\u001b[39;49m To update, run: \u001b[0m\u001b[32;49mpython3.11 -m pip install --upgrade pip\u001b[0m\n",
      "Note: you may need to restart the kernel to use updated packages.\n"
     ]
    }
   ],
   "source": [
    "pip install openai"
   ]
  },
  {
   "cell_type": "code",
   "execution_count": 16,
   "id": "f58c3a4b-fabd-48c6-b653-4560d5177711",
   "metadata": {},
   "outputs": [],
   "source": [
    "import openai\n",
    "from openai import OpenAI"
   ]
  },
  {
   "cell_type": "code",
   "execution_count": 17,
   "id": "6793f243-00c7-4dc7-96cf-6aebff72bfb8",
   "metadata": {},
   "outputs": [],
   "source": [
    "client = OpenAI()"
   ]
  },
  {
   "cell_type": "markdown",
   "id": "898a85a3-50b8-435d-b99f-69819e721202",
   "metadata": {},
   "source": [
    "### Imports"
   ]
  },
  {
   "cell_type": "code",
   "execution_count": 196,
   "id": "e2e3b287-9535-45c9-8418-c8c421f36e0b",
   "metadata": {},
   "outputs": [],
   "source": [
    "import tensorflow as tf\n",
    "import pandas as pd\n",
    "import numpy as np\n",
    "from scipy import spatial\n",
    "import time\n",
    "from tenacity import (\n",
    "    retry,\n",
    "    stop_after_attempt,\n",
    "    wait_random_exponential\n",
    ")\n",
    "import statistics"
   ]
  },
  {
   "cell_type": "code",
   "execution_count": 107,
   "id": "415c34b6-0e07-432d-989e-d4806be63062",
   "metadata": {},
   "outputs": [],
   "source": [
    "from tensorflow.keras.models import load_model"
   ]
  },
  {
   "cell_type": "markdown",
   "id": "84518b77-d419-452f-b022-6f5a4bb825e7",
   "metadata": {},
   "source": [
    "## Data"
   ]
  },
  {
   "cell_type": "markdown",
   "id": "ed27bbb3-c869-49b0-a45b-a4e7426f8413",
   "metadata": {},
   "source": [
    "#### GPR 55"
   ]
  },
  {
   "cell_type": "code",
   "execution_count": 255,
   "id": "ef026476-29f3-4957-9811-1b172e519873",
   "metadata": {},
   "outputs": [],
   "source": [
    "gpr_df = pd.read_csv(\"../no_wavs/GPR-KB-55/GPR-KB-55.csv\")"
   ]
  },
  {
   "cell_type": "code",
   "execution_count": 256,
   "id": "1ef9abff-209e-47b1-8d7a-7bafe20d987d",
   "metadata": {},
   "outputs": [],
   "source": [
    "DIM_EMBEDDING = 1536\n",
    "\n",
    "def gpr_get_embeddings_df(gpr_df: pd.DataFrame) -> pd.DataFrame:\n",
    "    \"\"\" Add embeddings column to a df\n",
    "    \"\"\"\n",
    "    gpr_embeddings_df = pd.DataFrame()\n",
    "    arguments_list = list(gpr_df)\n",
    "\n",
    "    claims_embeddings = client.embeddings.create(input=arguments_list, model=\"text-embedding-ada-002\")\n",
    "    claims_embeddings_data = [embedding_data.embedding for embedding_data in claims_embeddings.data]\n",
    "    claims_embeddings_df = pd.DataFrame(claims_embeddings_data, columns=[f\"{str(i)}\" for i in range(DIM_EMBEDDING)])\n",
    "    claims_embeddings_df = claims_embeddings_df.reset_index(drop=True)\n",
    "\n",
    "    claims_embeddings_df = pd.concat([gpr_df, claims_embeddings_df], axis=1)\n",
    "    return claims_embeddings_df"
   ]
  },
  {
   "cell_type": "code",
   "execution_count": 257,
   "id": "19c91eab-06c0-455a-9dd6-f7b58202cc1c",
   "metadata": {},
   "outputs": [],
   "source": [
    "gpr_claims_df = gpr_get_embeddings_df(gpr_df['claim'])\n",
    "gpr_rebuttals_df = gpr_get_embeddings_df(gpr_df['rebuttal'])\n",
    "\n",
    "gpr_combined = pd.concat([gpr_claims_df, gpr_rebuttals_df])\n",
    "gpr_combined = gpr_combined.reset_index(drop=True)\n",
    "\n",
    "gpr_combined_nums = gpr_combined.select_dtypes(include=[np.number])\n",
    "\n",
    "gpr_x_train = gpr_claims_df.select_dtypes(include=[np.number])\n",
    "gpr_x_train = gpr_x_train.loc[:len(gpr_x_train) * 0.8-1]\n",
    "gpr_y_train = gpr_rebuttals_df.select_dtypes(include=[np.number])\n",
    "gpr_y_train = gpr_y_train.loc[:len(gpr_y_train) * 0.8-1]\n",
    "\n",
    "gpr_x_test = gpr_claims_df.select_dtypes(include=[np.number])\n",
    "gpr_x_test = gpr_x_test.loc[len(gpr_x_test) * 0.8:]\n",
    "gpr_x_test = gpr_x_test.reset_index(drop=True)\n",
    "gpr_y_test = gpr_rebuttals_df.select_dtypes(include=[np.number])\n",
    "gpr_y_test = gpr_y_test.loc[len(gpr_y_test) * 0.8:]\n",
    "gpr_y_test = gpr_y_test.reset_index(drop=True)"
   ]
  },
  {
   "cell_type": "code",
   "execution_count": 258,
   "id": "e7af2cc4-8b13-4961-b704-024a6553ecb5",
   "metadata": {},
   "outputs": [],
   "source": [
    "def metric_choose_argument_gpr(y_true, y_pred):\n",
    "    \"\"\" See if the output vector is closest to the rebuttal to the claim\n",
    "    \"\"\"\n",
    "    gpr_training_df_32 = tf.cast(gpr_combined_nums, dtype=tf.float32)\n",
    "    \n",
    "    cos_sim_pred = tf.matmul(gpr_training_df_32, y_pred, transpose_b=True) / tf.reshape(tf.norm(y_pred) * tf.norm(gpr_training_df_32, axis=1), [-1, 1])\n",
    "    cos_sim_true = tf.matmul(gpr_training_df_32, y_true, transpose_b=True) / tf.reshape(tf.norm(y_true) * tf.norm(gpr_training_df_32, axis=1), [-1, 1])\n",
    "\n",
    "    max_cos_sim_pred = tf.math.argmax(cos_sim_pred)\n",
    "    max_cos_sim_true = tf.math.argmax(cos_sim_true)\n",
    "\n",
    "    return tf.math.count_nonzero(tf.equal(max_cos_sim_pred, max_cos_sim_true))"
   ]
  },
  {
   "cell_type": "markdown",
   "id": "9d04d0ff-1b89-4d89-9565-235c76771aab",
   "metadata": {},
   "source": [
    "#### IBM EACL"
   ]
  },
  {
   "cell_type": "code",
   "execution_count": 232,
   "id": "57a19bcd-108b-40bc-a081-feecdb76190a",
   "metadata": {},
   "outputs": [],
   "source": [
    "topic_lens = []\n",
    "pro_lens = []\n",
    "con_lens = []\n",
    "for topic in eacl_df['topicId'].unique():\n",
    "    topic_rows = eacl_df[eacl_df['topicId'] == topic]\n",
    "    topic_lens.append(len(topic_rows))\n",
    "    pro_lens.append(len(topic_rows[topic_rows['claims.stance'] == \"PRO\"]))\n",
    "    con_lens.append(len(topic_rows[topic_rows['claims.stance'] == \"CON\"]))"
   ]
  },
  {
   "cell_type": "code",
   "execution_count": 11,
   "id": "be62cee2-fd1b-4f1b-94d5-3ca4e90e2d97",
   "metadata": {
    "scrolled": true
   },
   "outputs": [
    {
     "data": {
      "text/html": [
       "<div>\n",
       "<style scoped>\n",
       "    .dataframe tbody tr th:only-of-type {\n",
       "        vertical-align: middle;\n",
       "    }\n",
       "\n",
       "    .dataframe tbody tr th {\n",
       "        vertical-align: top;\n",
       "    }\n",
       "\n",
       "    .dataframe thead th {\n",
       "        text-align: right;\n",
       "    }\n",
       "</style>\n",
       "<table border=\"1\" class=\"dataframe\">\n",
       "  <thead>\n",
       "    <tr style=\"text-align: right;\">\n",
       "      <th></th>\n",
       "      <th>topicId</th>\n",
       "      <th>topicText</th>\n",
       "      <th>claims.stance</th>\n",
       "      <th>claims.claimCorrectedText</th>\n",
       "    </tr>\n",
       "  </thead>\n",
       "  <tbody>\n",
       "    <tr>\n",
       "      <th>0</th>\n",
       "      <td>1</td>\n",
       "      <td>This house believes that the sale of violent v...</td>\n",
       "      <td>PRO</td>\n",
       "      <td>Exposure to violent video games causes at leas...</td>\n",
       "    </tr>\n",
       "    <tr>\n",
       "      <th>1</th>\n",
       "      <td>1</td>\n",
       "      <td>This house believes that the sale of violent v...</td>\n",
       "      <td>CON</td>\n",
       "      <td>video game violence is not related to serious ...</td>\n",
       "    </tr>\n",
       "    <tr>\n",
       "      <th>2</th>\n",
       "      <td>1</td>\n",
       "      <td>This house believes that the sale of violent v...</td>\n",
       "      <td>CON</td>\n",
       "      <td>some violent video games may actually have a p...</td>\n",
       "    </tr>\n",
       "    <tr>\n",
       "      <th>3</th>\n",
       "      <td>1</td>\n",
       "      <td>This house believes that the sale of violent v...</td>\n",
       "      <td>PRO</td>\n",
       "      <td>exposure to violent video games causes both sh...</td>\n",
       "    </tr>\n",
       "    <tr>\n",
       "      <th>4</th>\n",
       "      <td>1</td>\n",
       "      <td>This house believes that the sale of violent v...</td>\n",
       "      <td>PRO</td>\n",
       "      <td>Violent video games increase the violent tende...</td>\n",
       "    </tr>\n",
       "    <tr>\n",
       "      <th>...</th>\n",
       "      <td>...</td>\n",
       "      <td>...</td>\n",
       "      <td>...</td>\n",
       "      <td>...</td>\n",
       "    </tr>\n",
       "    <tr>\n",
       "      <th>2389</th>\n",
       "      <td>1065</td>\n",
       "      <td>This house would promote democratization</td>\n",
       "      <td>CON</td>\n",
       "      <td>democracies have ever been found incompatible ...</td>\n",
       "    </tr>\n",
       "    <tr>\n",
       "      <th>2390</th>\n",
       "      <td>1065</td>\n",
       "      <td>This house would promote democratization</td>\n",
       "      <td>CON</td>\n",
       "      <td>democracy cannot subsist long nor be carried f...</td>\n",
       "    </tr>\n",
       "    <tr>\n",
       "      <th>2391</th>\n",
       "      <td>1065</td>\n",
       "      <td>This house would promote democratization</td>\n",
       "      <td>CON</td>\n",
       "      <td>Democracy in general is criticized for ignorin...</td>\n",
       "    </tr>\n",
       "    <tr>\n",
       "      <th>2392</th>\n",
       "      <td>1065</td>\n",
       "      <td>This house would promote democratization</td>\n",
       "      <td>PRO</td>\n",
       "      <td>democracy and freedom are indispensable ingred...</td>\n",
       "    </tr>\n",
       "    <tr>\n",
       "      <th>2393</th>\n",
       "      <td>1065</td>\n",
       "      <td>This house would promote democratization</td>\n",
       "      <td>CON</td>\n",
       "      <td>democracy cannot be imposed from outside</td>\n",
       "    </tr>\n",
       "  </tbody>\n",
       "</table>\n",
       "<p>2394 rows × 4 columns</p>\n",
       "</div>"
      ],
      "text/plain": [
       "      topicId                                          topicText  \\\n",
       "0           1  This house believes that the sale of violent v...   \n",
       "1           1  This house believes that the sale of violent v...   \n",
       "2           1  This house believes that the sale of violent v...   \n",
       "3           1  This house believes that the sale of violent v...   \n",
       "4           1  This house believes that the sale of violent v...   \n",
       "...       ...                                                ...   \n",
       "2389     1065           This house would promote democratization   \n",
       "2390     1065           This house would promote democratization   \n",
       "2391     1065           This house would promote democratization   \n",
       "2392     1065           This house would promote democratization   \n",
       "2393     1065           This house would promote democratization   \n",
       "\n",
       "     claims.stance                          claims.claimCorrectedText  \n",
       "0              PRO  Exposure to violent video games causes at leas...  \n",
       "1              CON  video game violence is not related to serious ...  \n",
       "2              CON  some violent video games may actually have a p...  \n",
       "3              PRO  exposure to violent video games causes both sh...  \n",
       "4              PRO  Violent video games increase the violent tende...  \n",
       "...            ...                                                ...  \n",
       "2389           CON  democracies have ever been found incompatible ...  \n",
       "2390           CON  democracy cannot subsist long nor be carried f...  \n",
       "2391           CON  Democracy in general is criticized for ignorin...  \n",
       "2392           PRO  democracy and freedom are indispensable ingred...  \n",
       "2393           CON           democracy cannot be imposed from outside  \n",
       "\n",
       "[2394 rows x 4 columns]"
      ]
     },
     "execution_count": 11,
     "metadata": {},
     "output_type": "execute_result"
    }
   ],
   "source": [
    "eacl_df = pd.read_csv(\"../IBM_EACL/claim_stance_dataset.csv\")\n",
    "eacl_df = eacl_df[['topicId', 'topicText', 'claims.stance', 'claims.claimCorrectedText']]"
   ]
  },
  {
   "cell_type": "code",
   "execution_count": 59,
   "id": "ce4992f3-eba0-42fc-a936-fc3eb4965317",
   "metadata": {},
   "outputs": [],
   "source": [
    "\"\"\" Convert an argument into a (1 x 1536) embedding df \"\"\"\n",
    "\n",
    "DIM_EMBEDDING = 1536\n",
    "\n",
    "@retry(wait=wait_random_exponential(min=60, max=500), stop=stop_after_attempt(10))\n",
    "def eacl_get_embeddings(arguments: []) -> []:\n",
    "    embeddings = client.embeddings.create(input=arguments, model=\"text-embedding-ada-002\")\n",
    "    embeddings_data = [embedding_data.embedding for embedding_data in embeddings.data]\n",
    "    embeddings_df = pd.DataFrame(embeddings_data, columns=[f\"{str(i)}\" for i in range(DIM_EMBEDDING)])\n",
    "    return embeddings_df.reset_index(drop=True)"
   ]
  },
  {
   "cell_type": "code",
   "execution_count": 65,
   "id": "af1ca45b-e272-48ff-bc17-6212ca1c9adf",
   "metadata": {},
   "outputs": [],
   "source": [
    "API_LIMIT = 1000\n",
    "\n",
    "def eacl_get_embeddings_df(eacl_df: pd.DataFrame) -> pd.DataFrame:\n",
    "    \"\"\" Add embeddings column to a df\n",
    "    \"\"\"\n",
    "    embeddings_df = pd.DataFrame()\n",
    "    arguments_list = list(eacl_df['claims.claimCorrectedText'])\n",
    "    total_len = len(arguments_list)\n",
    "    i = 0\n",
    "\n",
    "    # Grab embeddings from arguments column in chunks\n",
    "    while i < total_len:\n",
    "        embeddings = eacl_get_embeddings(arguments_list[i:min(total_len, i+API_LIMIT)])\n",
    "        embeddings_df = pd.concat([embeddings_df, embeddings], axis=0, ignore_index=True)\n",
    "        i = i + API_LIMIT\n",
    "    arguments_embeddings_df = pd.concat([eacl_df, embeddings_df], axis=1)\n",
    "    return arguments_embeddings_df"
   ]
  },
  {
   "cell_type": "code",
   "execution_count": 67,
   "id": "f65e051f-a8b2-499a-9a34-9877a348d864",
   "metadata": {
    "scrolled": true
   },
   "outputs": [],
   "source": [
    "eacl_embeddings_df = eacl_get_embeddings_df(eacl_df)"
   ]
  },
  {
   "cell_type": "code",
   "execution_count": 71,
   "id": "90edc313-5eef-4193-807d-00db282eb4ed",
   "metadata": {
    "scrolled": true
   },
   "outputs": [],
   "source": [
    "eacl_nums_df = eacl_embeddings_df.select_dtypes(include=[np.number])\n",
    "eacl_vectors_df = eacl_nums_df.drop('topicId', axis=1)"
   ]
  },
  {
   "cell_type": "markdown",
   "id": "247ed9d5-1f46-40ce-b934-49e683d93c4f",
   "metadata": {},
   "source": [
    "## GPR predict "
   ]
  },
  {
   "cell_type": "code",
   "execution_count": 264,
   "id": "5aeeb774-2e9c-415e-86c5-13b8ca1f4e55",
   "metadata": {},
   "outputs": [
    {
     "name": "stdout",
     "output_type": "stream",
     "text": [
      "2/2 [==============================] - 0s 5ms/step\n"
     ]
    }
   ],
   "source": [
    "global_autoencoder_gpr_predictions = global_autoencoder_model.predict(gpr_x_train)\n",
    "global_autoencoder_gpr_predictions_df = pd.DataFrame(global_autoencoder_gpr_predictions)\n",
    "global_autoencoder_gpr_predictions_df.columns = [str(i) for i in global_autoencoder_gpr_predictions_df.columns]"
   ]
  },
  {
   "cell_type": "code",
   "execution_count": 265,
   "id": "243f5efe-aee9-4442-b062-c651f9ce739d",
   "metadata": {},
   "outputs": [],
   "source": [
    "successes = 0\n",
    "for i in range(len(gpr_y_train)):\n",
    "    gpr_y_train_tf = tf.convert_to_tensor(gpr_y_train.loc[i], dtype=tf.float32)\n",
    "    gpr_pred_tf = tf.convert_to_tensor(global_autoencoder_gpr_predictions_df.loc[i], dtype=tf.float32)\n",
    "    gpr_y_train_tf = tf.reshape(gpr_y_train_tf, (1, -1))\n",
    "    gpr_pred_tf = tf.reshape(gpr_pred_tf, (1, -1))\n",
    "    if metric_choose_argument_gpr(gpr_y_train_tf, gpr_pred_tf).numpy() == 1:\n",
    "        successes += 1"
   ]
  },
  {
   "cell_type": "code",
   "execution_count": 266,
   "id": "edcfcf62-bd7d-4ad6-92f3-af20385fe4ef",
   "metadata": {},
   "outputs": [
    {
     "data": {
      "text/plain": [
       "7"
      ]
     },
     "execution_count": 266,
     "metadata": {},
     "output_type": "execute_result"
    }
   ],
   "source": [
    "successes"
   ]
  },
  {
   "cell_type": "markdown",
   "id": "b2952f6a-e28b-46cf-af96-4c973ae232c8",
   "metadata": {},
   "source": [
    "## EACL Predict"
   ]
  },
  {
   "cell_type": "code",
   "execution_count": 116,
   "id": "96401a81-cd92-4713-a69f-503b47ef0805",
   "metadata": {
    "scrolled": true
   },
   "outputs": [
    {
     "name": "stdout",
     "output_type": "stream",
     "text": [
      "75/75 [==============================] - 0s 4ms/step\n"
     ]
    },
    {
     "data": {
      "text/html": [
       "<div>\n",
       "<style scoped>\n",
       "    .dataframe tbody tr th:only-of-type {\n",
       "        vertical-align: middle;\n",
       "    }\n",
       "\n",
       "    .dataframe tbody tr th {\n",
       "        vertical-align: top;\n",
       "    }\n",
       "\n",
       "    .dataframe thead th {\n",
       "        text-align: right;\n",
       "    }\n",
       "</style>\n",
       "<table border=\"1\" class=\"dataframe\">\n",
       "  <thead>\n",
       "    <tr style=\"text-align: right;\">\n",
       "      <th></th>\n",
       "      <th>0</th>\n",
       "      <th>1</th>\n",
       "      <th>2</th>\n",
       "      <th>3</th>\n",
       "      <th>4</th>\n",
       "      <th>5</th>\n",
       "      <th>6</th>\n",
       "      <th>7</th>\n",
       "      <th>8</th>\n",
       "      <th>9</th>\n",
       "      <th>...</th>\n",
       "      <th>1526</th>\n",
       "      <th>1527</th>\n",
       "      <th>1528</th>\n",
       "      <th>1529</th>\n",
       "      <th>1530</th>\n",
       "      <th>1531</th>\n",
       "      <th>1532</th>\n",
       "      <th>1533</th>\n",
       "      <th>1534</th>\n",
       "      <th>1535</th>\n",
       "    </tr>\n",
       "  </thead>\n",
       "  <tbody>\n",
       "    <tr>\n",
       "      <th>0</th>\n",
       "      <td>-0.228883</td>\n",
       "      <td>-0.798650</td>\n",
       "      <td>1.206804</td>\n",
       "      <td>-2.379915</td>\n",
       "      <td>-1.636264</td>\n",
       "      <td>0.360619</td>\n",
       "      <td>-0.825054</td>\n",
       "      <td>-0.813067</td>\n",
       "      <td>-0.548199</td>\n",
       "      <td>-1.500611</td>\n",
       "      <td>...</td>\n",
       "      <td>0.342699</td>\n",
       "      <td>0.234322</td>\n",
       "      <td>0.672558</td>\n",
       "      <td>-0.972752</td>\n",
       "      <td>-1.087595</td>\n",
       "      <td>-0.216367</td>\n",
       "      <td>0.320369</td>\n",
       "      <td>-1.215356</td>\n",
       "      <td>-0.443726</td>\n",
       "      <td>-0.299795</td>\n",
       "    </tr>\n",
       "    <tr>\n",
       "      <th>1</th>\n",
       "      <td>-0.557883</td>\n",
       "      <td>-0.409383</td>\n",
       "      <td>1.171087</td>\n",
       "      <td>-1.981327</td>\n",
       "      <td>-1.036210</td>\n",
       "      <td>0.220497</td>\n",
       "      <td>-0.838605</td>\n",
       "      <td>-0.819698</td>\n",
       "      <td>-1.100810</td>\n",
       "      <td>-1.012501</td>\n",
       "      <td>...</td>\n",
       "      <td>0.931535</td>\n",
       "      <td>0.818045</td>\n",
       "      <td>1.471216</td>\n",
       "      <td>-1.408638</td>\n",
       "      <td>-1.282735</td>\n",
       "      <td>0.167310</td>\n",
       "      <td>0.973538</td>\n",
       "      <td>-1.621110</td>\n",
       "      <td>-0.358796</td>\n",
       "      <td>-0.720913</td>\n",
       "    </tr>\n",
       "    <tr>\n",
       "      <th>2</th>\n",
       "      <td>-0.854444</td>\n",
       "      <td>-1.084031</td>\n",
       "      <td>0.989973</td>\n",
       "      <td>-1.987451</td>\n",
       "      <td>-1.624811</td>\n",
       "      <td>0.425982</td>\n",
       "      <td>-1.417340</td>\n",
       "      <td>-0.267563</td>\n",
       "      <td>-1.422044</td>\n",
       "      <td>-1.560554</td>\n",
       "      <td>...</td>\n",
       "      <td>0.854357</td>\n",
       "      <td>0.700630</td>\n",
       "      <td>0.814746</td>\n",
       "      <td>-1.859064</td>\n",
       "      <td>-1.603771</td>\n",
       "      <td>0.459844</td>\n",
       "      <td>-0.040004</td>\n",
       "      <td>-1.096585</td>\n",
       "      <td>-0.427586</td>\n",
       "      <td>-0.427207</td>\n",
       "    </tr>\n",
       "    <tr>\n",
       "      <th>3</th>\n",
       "      <td>-0.282068</td>\n",
       "      <td>-1.068843</td>\n",
       "      <td>1.547549</td>\n",
       "      <td>-2.913010</td>\n",
       "      <td>-2.350163</td>\n",
       "      <td>0.858396</td>\n",
       "      <td>-0.980850</td>\n",
       "      <td>-1.077050</td>\n",
       "      <td>-1.141163</td>\n",
       "      <td>-1.655215</td>\n",
       "      <td>...</td>\n",
       "      <td>0.570350</td>\n",
       "      <td>0.110851</td>\n",
       "      <td>0.990802</td>\n",
       "      <td>-1.204208</td>\n",
       "      <td>-0.894073</td>\n",
       "      <td>-0.035082</td>\n",
       "      <td>-0.212720</td>\n",
       "      <td>-1.485491</td>\n",
       "      <td>-0.691650</td>\n",
       "      <td>-0.365833</td>\n",
       "    </tr>\n",
       "    <tr>\n",
       "      <th>4</th>\n",
       "      <td>-0.356761</td>\n",
       "      <td>-0.873439</td>\n",
       "      <td>1.128338</td>\n",
       "      <td>-1.861351</td>\n",
       "      <td>-1.272373</td>\n",
       "      <td>0.496455</td>\n",
       "      <td>-1.351442</td>\n",
       "      <td>-1.098501</td>\n",
       "      <td>-0.496969</td>\n",
       "      <td>-1.620215</td>\n",
       "      <td>...</td>\n",
       "      <td>1.537553</td>\n",
       "      <td>0.581744</td>\n",
       "      <td>0.522188</td>\n",
       "      <td>-1.540636</td>\n",
       "      <td>-1.692833</td>\n",
       "      <td>0.056214</td>\n",
       "      <td>0.536134</td>\n",
       "      <td>-1.494208</td>\n",
       "      <td>-0.454808</td>\n",
       "      <td>-0.317037</td>\n",
       "    </tr>\n",
       "    <tr>\n",
       "      <th>...</th>\n",
       "      <td>...</td>\n",
       "      <td>...</td>\n",
       "      <td>...</td>\n",
       "      <td>...</td>\n",
       "      <td>...</td>\n",
       "      <td>...</td>\n",
       "      <td>...</td>\n",
       "      <td>...</td>\n",
       "      <td>...</td>\n",
       "      <td>...</td>\n",
       "      <td>...</td>\n",
       "      <td>...</td>\n",
       "      <td>...</td>\n",
       "      <td>...</td>\n",
       "      <td>...</td>\n",
       "      <td>...</td>\n",
       "      <td>...</td>\n",
       "      <td>...</td>\n",
       "      <td>...</td>\n",
       "      <td>...</td>\n",
       "      <td>...</td>\n",
       "    </tr>\n",
       "    <tr>\n",
       "      <th>2389</th>\n",
       "      <td>-0.051398</td>\n",
       "      <td>-0.138598</td>\n",
       "      <td>-0.450709</td>\n",
       "      <td>-1.271696</td>\n",
       "      <td>-0.704614</td>\n",
       "      <td>0.445081</td>\n",
       "      <td>-1.184983</td>\n",
       "      <td>-0.096439</td>\n",
       "      <td>-0.639818</td>\n",
       "      <td>-0.364644</td>\n",
       "      <td>...</td>\n",
       "      <td>0.433787</td>\n",
       "      <td>0.407175</td>\n",
       "      <td>1.106879</td>\n",
       "      <td>-0.812399</td>\n",
       "      <td>-1.441804</td>\n",
       "      <td>-0.309056</td>\n",
       "      <td>0.693948</td>\n",
       "      <td>-0.294063</td>\n",
       "      <td>0.217393</td>\n",
       "      <td>-0.074500</td>\n",
       "    </tr>\n",
       "    <tr>\n",
       "      <th>2390</th>\n",
       "      <td>-0.639797</td>\n",
       "      <td>-0.260313</td>\n",
       "      <td>-0.501766</td>\n",
       "      <td>-0.693032</td>\n",
       "      <td>-0.844574</td>\n",
       "      <td>0.426009</td>\n",
       "      <td>-0.750114</td>\n",
       "      <td>-0.009548</td>\n",
       "      <td>-0.651297</td>\n",
       "      <td>-0.696315</td>\n",
       "      <td>...</td>\n",
       "      <td>0.730158</td>\n",
       "      <td>-0.035551</td>\n",
       "      <td>0.559079</td>\n",
       "      <td>-1.108134</td>\n",
       "      <td>-1.777715</td>\n",
       "      <td>-0.282126</td>\n",
       "      <td>0.921828</td>\n",
       "      <td>-0.093053</td>\n",
       "      <td>-1.006203</td>\n",
       "      <td>-0.633085</td>\n",
       "    </tr>\n",
       "    <tr>\n",
       "      <th>2391</th>\n",
       "      <td>-0.262894</td>\n",
       "      <td>-0.201490</td>\n",
       "      <td>-0.776411</td>\n",
       "      <td>-1.628114</td>\n",
       "      <td>-0.824789</td>\n",
       "      <td>0.753134</td>\n",
       "      <td>-1.053622</td>\n",
       "      <td>-0.403603</td>\n",
       "      <td>-0.668763</td>\n",
       "      <td>-0.633884</td>\n",
       "      <td>...</td>\n",
       "      <td>0.080172</td>\n",
       "      <td>0.702641</td>\n",
       "      <td>0.503137</td>\n",
       "      <td>-1.151867</td>\n",
       "      <td>-1.180909</td>\n",
       "      <td>0.107792</td>\n",
       "      <td>-0.481588</td>\n",
       "      <td>-0.123500</td>\n",
       "      <td>-0.210645</td>\n",
       "      <td>0.090385</td>\n",
       "    </tr>\n",
       "    <tr>\n",
       "      <th>2392</th>\n",
       "      <td>-0.282158</td>\n",
       "      <td>-0.322060</td>\n",
       "      <td>-0.958403</td>\n",
       "      <td>-1.221992</td>\n",
       "      <td>-1.297327</td>\n",
       "      <td>0.649798</td>\n",
       "      <td>-0.758350</td>\n",
       "      <td>-0.353878</td>\n",
       "      <td>-0.319313</td>\n",
       "      <td>-0.523130</td>\n",
       "      <td>...</td>\n",
       "      <td>0.847846</td>\n",
       "      <td>0.355244</td>\n",
       "      <td>0.043943</td>\n",
       "      <td>-1.042431</td>\n",
       "      <td>-1.625324</td>\n",
       "      <td>-0.508618</td>\n",
       "      <td>0.601720</td>\n",
       "      <td>-0.475245</td>\n",
       "      <td>-0.336199</td>\n",
       "      <td>-0.173208</td>\n",
       "    </tr>\n",
       "    <tr>\n",
       "      <th>2393</th>\n",
       "      <td>-0.310563</td>\n",
       "      <td>-0.375754</td>\n",
       "      <td>-0.956617</td>\n",
       "      <td>-0.808226</td>\n",
       "      <td>-1.224620</td>\n",
       "      <td>0.474480</td>\n",
       "      <td>-1.305750</td>\n",
       "      <td>-1.016630</td>\n",
       "      <td>-0.255783</td>\n",
       "      <td>0.055099</td>\n",
       "      <td>...</td>\n",
       "      <td>0.960672</td>\n",
       "      <td>0.359123</td>\n",
       "      <td>0.791634</td>\n",
       "      <td>-1.143809</td>\n",
       "      <td>-2.324689</td>\n",
       "      <td>-0.587903</td>\n",
       "      <td>1.310776</td>\n",
       "      <td>-0.204382</td>\n",
       "      <td>-0.459358</td>\n",
       "      <td>-0.535491</td>\n",
       "    </tr>\n",
       "  </tbody>\n",
       "</table>\n",
       "<p>2394 rows × 1536 columns</p>\n",
       "</div>"
      ],
      "text/plain": [
       "             0         1         2         3         4         5         6  \\\n",
       "0    -0.228883 -0.798650  1.206804 -2.379915 -1.636264  0.360619 -0.825054   \n",
       "1    -0.557883 -0.409383  1.171087 -1.981327 -1.036210  0.220497 -0.838605   \n",
       "2    -0.854444 -1.084031  0.989973 -1.987451 -1.624811  0.425982 -1.417340   \n",
       "3    -0.282068 -1.068843  1.547549 -2.913010 -2.350163  0.858396 -0.980850   \n",
       "4    -0.356761 -0.873439  1.128338 -1.861351 -1.272373  0.496455 -1.351442   \n",
       "...        ...       ...       ...       ...       ...       ...       ...   \n",
       "2389 -0.051398 -0.138598 -0.450709 -1.271696 -0.704614  0.445081 -1.184983   \n",
       "2390 -0.639797 -0.260313 -0.501766 -0.693032 -0.844574  0.426009 -0.750114   \n",
       "2391 -0.262894 -0.201490 -0.776411 -1.628114 -0.824789  0.753134 -1.053622   \n",
       "2392 -0.282158 -0.322060 -0.958403 -1.221992 -1.297327  0.649798 -0.758350   \n",
       "2393 -0.310563 -0.375754 -0.956617 -0.808226 -1.224620  0.474480 -1.305750   \n",
       "\n",
       "             7         8         9  ...      1526      1527      1528  \\\n",
       "0    -0.813067 -0.548199 -1.500611  ...  0.342699  0.234322  0.672558   \n",
       "1    -0.819698 -1.100810 -1.012501  ...  0.931535  0.818045  1.471216   \n",
       "2    -0.267563 -1.422044 -1.560554  ...  0.854357  0.700630  0.814746   \n",
       "3    -1.077050 -1.141163 -1.655215  ...  0.570350  0.110851  0.990802   \n",
       "4    -1.098501 -0.496969 -1.620215  ...  1.537553  0.581744  0.522188   \n",
       "...        ...       ...       ...  ...       ...       ...       ...   \n",
       "2389 -0.096439 -0.639818 -0.364644  ...  0.433787  0.407175  1.106879   \n",
       "2390 -0.009548 -0.651297 -0.696315  ...  0.730158 -0.035551  0.559079   \n",
       "2391 -0.403603 -0.668763 -0.633884  ...  0.080172  0.702641  0.503137   \n",
       "2392 -0.353878 -0.319313 -0.523130  ...  0.847846  0.355244  0.043943   \n",
       "2393 -1.016630 -0.255783  0.055099  ...  0.960672  0.359123  0.791634   \n",
       "\n",
       "          1529      1530      1531      1532      1533      1534      1535  \n",
       "0    -0.972752 -1.087595 -0.216367  0.320369 -1.215356 -0.443726 -0.299795  \n",
       "1    -1.408638 -1.282735  0.167310  0.973538 -1.621110 -0.358796 -0.720913  \n",
       "2    -1.859064 -1.603771  0.459844 -0.040004 -1.096585 -0.427586 -0.427207  \n",
       "3    -1.204208 -0.894073 -0.035082 -0.212720 -1.485491 -0.691650 -0.365833  \n",
       "4    -1.540636 -1.692833  0.056214  0.536134 -1.494208 -0.454808 -0.317037  \n",
       "...        ...       ...       ...       ...       ...       ...       ...  \n",
       "2389 -0.812399 -1.441804 -0.309056  0.693948 -0.294063  0.217393 -0.074500  \n",
       "2390 -1.108134 -1.777715 -0.282126  0.921828 -0.093053 -1.006203 -0.633085  \n",
       "2391 -1.151867 -1.180909  0.107792 -0.481588 -0.123500 -0.210645  0.090385  \n",
       "2392 -1.042431 -1.625324 -0.508618  0.601720 -0.475245 -0.336199 -0.173208  \n",
       "2393 -1.143809 -2.324689 -0.587903  1.310776 -0.204382 -0.459358 -0.535491  \n",
       "\n",
       "[2394 rows x 1536 columns]"
      ]
     },
     "execution_count": 116,
     "metadata": {},
     "output_type": "execute_result"
    }
   ],
   "source": [
    "global_autoencoder_eacl_predictions = global_autoencoder_model.predict(eacl_vectors_df)\n",
    "global_autoencoder_eacl_predictions_df = pd.DataFrame(global_autoencoder_eacl_predictions)\n",
    "global_autoencoder_eacl_predictions_df.columns = [str(i) for i in global_autoencoder_eacl_predictions_df.columns]\n",
    "global_autoencoder_eacl_predictions_df"
   ]
  },
  {
   "cell_type": "code",
   "execution_count": 276,
   "id": "9e8f3aa4-99b3-413a-9e52-c976bd2cf942",
   "metadata": {},
   "outputs": [],
   "source": [
    "eacl_embeddings_df_32 = tf.cast(eacl_vectors_df, dtype=tf.float32)\n",
    "pred_topk = []\n",
    "\n",
    "for i, row in global_autoencoder_eacl_predictions_df.iterrows():\n",
    "    successes = 0\n",
    "    y_pred = tf.reshape(row.values, [1, -1])\n",
    "    target_topic = eacl_embeddings_df.loc[i]['topicId']\n",
    "    target_type = 'PRO' if eacl_embeddings_df.loc[i]['claims.stance'] == 'CON' else 'CON'\n",
    "\n",
    "    cos_sim_pred = tf.matmul(eacl_embeddings_df_32, y_pred, transpose_b=True) / tf.reshape(tf.norm(y_pred) * tf.norm(eacl_embeddings_df_32, axis=1), [-1, 1])\n",
    "    top_k_sim_pred = tf.math.top_k(tf.reshape(cos_sim_pred, [-1]), k=200).indices\n",
    "    top_k_sim_pred = top_k_sim_pred.numpy()\n",
    "    \n",
    "    for index in top_k_sim_pred:\n",
    "        match_row = eacl_embeddings_df.loc[index]\n",
    "        if match_row['topicId'] == target_topic and match_row['claims.stance'] == target_type:\n",
    "            successes += 1 \n",
    "    pred_topk.append(successes/200 * 100)"
   ]
  },
  {
   "cell_type": "code",
   "execution_count": 277,
   "id": "951cbc1e-e488-448e-9f56-0b003d214b48",
   "metadata": {},
   "outputs": [
    {
     "data": {
      "text/plain": [
       "12.06641604010025"
      ]
     },
     "execution_count": 277,
     "metadata": {},
     "output_type": "execute_result"
    }
   ],
   "source": [
    "statistics.mean(pred_topk)"
   ]
  },
  {
   "cell_type": "markdown",
   "id": "fb548a23-df52-44e8-a55c-54dd6fe1c1b5",
   "metadata": {},
   "source": [
    "## Predict"
   ]
  },
  {
   "cell_type": "markdown",
   "id": "0f84a702-1bdc-4291-8f88-60df2179425f",
   "metadata": {},
   "source": [
    "#### Global Predict"
   ]
  },
  {
   "cell_type": "code",
   "execution_count": 267,
   "id": "e8693e7b-4597-442b-9277-485ad934d757",
   "metadata": {
    "scrolled": true
   },
   "outputs": [
    {
     "name": "stdout",
     "output_type": "stream",
     "text": [
      "26/26 [==============================] - 0s 6ms/step\n"
     ]
    }
   ],
   "source": [
    "# Global model predictions\n",
    "global_autoencoder_predictions = global_autoencoder_model.predict(global_x_test)\n",
    "global_autoencoder_predictions_df = pd.DataFrame(global_autoencoder_predictions)\n",
    "global_autoencoder_predictions_df.columns = [str(i) for i in global_autoencoder_predictions_df.columns]\n",
    "output_folder = f'../data_dump/autoencoder_predictions_dump/global/'\n",
    "output_file_path = f'{output_folder}global_predictions.pkl'\n",
    "if not os.path.exists(output_folder):\n",
    "    os.makedirs(output_folder)\n",
    "global_autoencoder_predictions_df.to_pickle(output_file_path)"
   ]
  },
  {
   "cell_type": "code",
   "execution_count": 282,
   "id": "4130efbc-35ba-468d-af32-b26ec622a53f",
   "metadata": {},
   "outputs": [],
   "source": [
    "successes = 0\n",
    "for i, y_pred in global_autoencoder_predictions_df.iterrows():\n",
    "    global_y_test_tf = tf.reshape(global_y_test.loc[i], [1, 1536])\n",
    "    global_y_test_tf = tf.cast(global_y_test_tf, dtype=tf.float32)\n",
    "    \n",
    "    y_pred_tf = tf.reshape(y_pred, [1, 1536])\n",
    "    y_pred_tf = tf.cast(y_pred_tf, dtype=tf.float32)\n",
    "    res = metric_choose_argument_global_y_train(global_y_test_tf, y_pred_tf).numpy()\n",
    "    if res == 1:\n",
    "        successes += 1"
   ]
  },
  {
   "cell_type": "code",
   "execution_count": 97,
   "id": "5dec8ed4-378c-4932-a0d8-207509955b08",
   "metadata": {},
   "outputs": [
    {
     "ename": "NameError",
     "evalue": "name 'successes' is not defined",
     "output_type": "error",
     "traceback": [
      "\u001b[0;31m---------------------------------------------------------------------------\u001b[0m",
      "\u001b[0;31mNameError\u001b[0m                                 Traceback (most recent call last)",
      "Cell \u001b[0;32mIn[97], line 1\u001b[0m\n\u001b[0;32m----> 1\u001b[0m \u001b[43msuccesses\u001b[49m\n",
      "\u001b[0;31mNameError\u001b[0m: name 'successes' is not defined"
     ]
    }
   ],
   "source": [
    "successes"
   ]
  },
  {
   "cell_type": "code",
   "execution_count": 284,
   "id": "b6a60c7d-0d93-4ddd-9006-6ef8f3a8b3e1",
   "metadata": {},
   "outputs": [
    {
     "data": {
      "text/plain": [
       "813"
      ]
     },
     "execution_count": 284,
     "metadata": {},
     "output_type": "execute_result"
    }
   ],
   "source": [
    "len(global_autoencoder_predictions_df)"
   ]
  },
  {
   "cell_type": "markdown",
   "id": "58ddd8db-bd14-4053-b671-325040df5d7e",
   "metadata": {},
   "source": [
    "#### Global Shuffled Predict"
   ]
  },
  {
   "cell_type": "code",
   "execution_count": 35,
   "id": "acca32d3-7d40-4d30-879b-8f79ba49cb06",
   "metadata": {},
   "outputs": [
    {
     "name": "stdout",
     "output_type": "stream",
     "text": [
      "26/26 [==============================] - 0s 4ms/step\n"
     ]
    }
   ],
   "source": [
    "# Global model predictions\n",
    "global_shuffled_autoencoder_predictions = global_shuffled_autoencoder_model.predict(global_x_test)\n",
    "global_shuffled_autoencoder_predictions_df = pd.DataFrame(global_shuffled_autoencoder_predictions)\n",
    "global_shuffled_autoencoder_predictions_df.columns = [str(i) for i in global_shuffled_autoencoder_predictions_df.columns]\n",
    "output_folder = f'../data_dump/autoencoder_predictions_dump/global/'\n",
    "output_file_path = f'{output_folder}global_shuffled_predictions.pkl'\n",
    "if not os.path.exists(output_folder):\n",
    "    os.makedirs(output_folder)\n",
    "global_shuffled_autoencoder_predictions_df.to_pickle(output_file_path)"
   ]
  },
  {
   "cell_type": "code",
   "execution_count": 36,
   "id": "9295e91f-b45a-4daf-8256-8734063d75ea",
   "metadata": {},
   "outputs": [],
   "source": [
    "global_shuffled_autoencoder_predictions_df = pd.read_pickle(\"../data_dump/autoencoder_predictions_dump/global/global_shuffled_predictions.pkl\")"
   ]
  },
  {
   "cell_type": "code",
   "execution_count": 37,
   "id": "bb2a11ae-b085-4016-9d42-1e2726a976f6",
   "metadata": {},
   "outputs": [],
   "source": [
    "successes_shuffled = 0\n",
    "for i, y_pred in global_shuffled_autoencoder_predictions_df.iterrows():\n",
    "    global_y_test_tf = tf.reshape(global_y_test.loc[i], [1, 1536])\n",
    "    global_y_test_tf = tf.cast(global_y_test_tf, dtype=tf.float32)\n",
    "    \n",
    "    y_pred_tf = tf.reshape(y_pred, [1, 1536])\n",
    "    y_pred_tf = tf.cast(y_pred_tf, dtype=tf.float32)\n",
    "    res = metric_choose_argument_global_y_train(global_y_test_tf, y_pred_tf).numpy()\n",
    "    if res == 1:\n",
    "        successes_shuffled += 1"
   ]
  },
  {
   "cell_type": "code",
   "execution_count": 38,
   "id": "39c18f8f-dbe5-4263-b298-1577fe0a40a7",
   "metadata": {},
   "outputs": [
    {
     "data": {
      "text/plain": [
       "51"
      ]
     },
     "execution_count": 38,
     "metadata": {},
     "output_type": "execute_result"
    }
   ],
   "source": [
    "successes_shuffled"
   ]
  },
  {
   "cell_type": "markdown",
   "id": "c5851ca8-a0a1-4343-9a78-082b5c2e3f6c",
   "metadata": {},
   "source": [
    "#### Category Predict"
   ]
  },
  {
   "cell_type": "code",
   "execution_count": null,
   "id": "df8fd408-35b3-4b7c-bb35-cab2ca668d54",
   "metadata": {},
   "outputs": [],
   "source": [
    "# Category model predictions\n",
    "category_autoencoder_predictions = category_autoencoder_model.predict(economy_x_test)\n",
    "category_autoencoder_predictions_df = pd.DataFrame(category_autoencoder_predictions)\n",
    "category_autoencoder_predictions_df.columns = [str(i) for i in category_autoencoder_predictions_df.columns]"
   ]
  },
  {
   "cell_type": "markdown",
   "id": "fa57113f-2c95-4cd6-b8c2-958897e1fdfa",
   "metadata": {},
   "source": [
    "#### Debate Predict"
   ]
  },
  {
   "cell_type": "code",
   "execution_count": null,
   "id": "02c9f767-9218-4efe-be0a-ca547b594204",
   "metadata": {},
   "outputs": [],
   "source": [
    "# Debate model predictions\n",
    "debate_autoencoder_predictions = debate_autoencoder_model.predict(economy_debate_x_test)\n",
    "debate_autoencoder_predictions_df = pd.DataFrame(debate_autoencoder_predictions)\n",
    "debate_autoencoder_predictions_df.columns = [str(i) for i in debate_autoencoder_predictions_df.columns]"
   ]
  },
  {
   "cell_type": "markdown",
   "id": "5a3a5cde-58c1-4f67-8d5f-aa76e74d35d6",
   "metadata": {},
   "source": [
    "## Combine Point-Counter Dataframes"
   ]
  },
  {
   "cell_type": "markdown",
   "id": "9843cebf-40be-41f5-871d-6c706182f7b9",
   "metadata": {},
   "source": [
    "#### Global point-counter df"
   ]
  },
  {
   "cell_type": "code",
   "execution_count": null,
   "id": "26c7cf98-3316-4801-9154-fe84e8e25ea9",
   "metadata": {},
   "outputs": [],
   "source": [
    "# Combine global_x_test and global_y_test\n",
    "global_x_test_df = global_x_test.copy().astype(np.float32)\n",
    "global_x_test_df['pair_id'] = global_x_test_df.index.astype(str)\n",
    "global_x_test_df['type'] = 'point'\n",
    "global_x_test_df['pred_test'] = 'test'\n",
    "\n",
    "global_y_test_df = global_y_test.copy().astype(np.float32)\n",
    "global_y_test_df['pair_id'] = global_y_test_df.index.astype(str)\n",
    "global_y_test_df['type'] = 'counter'\n",
    "global_y_test_df['pred_test'] = 'test'\n",
    "\n",
    "global_x_y_test_combined_df = pd.concat([global_x_test_df, global_y_test_df], axis=0, ignore_index=True)"
   ]
  },
  {
   "cell_type": "code",
   "execution_count": null,
   "id": "d36f8330-05a8-4a96-8e89-d8b50adb2020",
   "metadata": {},
   "outputs": [],
   "source": [
    "# Combine global_x_test and global autoencoder predictions\n",
    "global_x_test_df_copy = global_x_test.copy().astype(np.float32)\n",
    "global_x_test_df_copy['pair_id'] = global_x_test_df_copy.index.astype(str)\n",
    "global_x_test_df_copy['type'] = 'point'\n",
    "global_x_test_df_copy['pred_test'] = 'pred'\n",
    "global_autoencoder_predictions_df['pair_id'] = global_autoencoder_predictions_df.index.astype(str)\n",
    "global_autoencoder_predictions_df['type'] = 'counter'\n",
    "global_autoencoder_predictions_df['pred_test'] = 'pred'\n",
    "global_pred_test_combined_df = pd.concat([global_x_test_df_copy, global_autoencoder_predictions_df], axis=0, ignore_index=True)"
   ]
  },
  {
   "cell_type": "code",
   "execution_count": null,
   "id": "8e739df2-7580-42b0-bf12-304c358817a1",
   "metadata": {},
   "outputs": [],
   "source": [
    "# Combine global_x_test and global_y_test and global autoencoder predictions\n",
    "global_combined_df = pd.concat([global_x_test_df, global_y_test_df, global_autoencoder_predictions_df], axis=0, ignore_index=True)"
   ]
  },
  {
   "cell_type": "markdown",
   "id": "9bba7616-aa82-49a7-8451-c325cca9d1e8",
   "metadata": {},
   "source": [
    "#### Global shuffled point-counter df"
   ]
  },
  {
   "cell_type": "code",
   "execution_count": null,
   "id": "c4a8730f-18b5-4e7a-8cfa-fb47c5524bb5",
   "metadata": {},
   "outputs": [],
   "source": [
    "# Combine global_x_test and global_y_test_shuffled\n",
    "global_x_test_df = global_x_test.copy().astype(np.float32)\n",
    "global_x_test_df['pair_id'] = global_x_test_df.index.astype(str)\n",
    "global_x_test_df['type'] = 'point'\n",
    "global_x_test_df['pred_test'] = 'test'\n",
    "\n",
    "global_y_test_shuffled_df = global_y_test_shuffled.copy().astype(np.float32)\n",
    "global_y_test_shuffled_df['pair_id'] = global_y_test_shuffled_df.index.astype(str)\n",
    "global_y_test_shuffled_df['type'] = 'counter'\n",
    "global_y_test_shuffled_df['pred_test'] = 'test'\n",
    "\n",
    "global_x_y_test_combined_shuffled_df = pd.concat([global_x_test_df, global_y_test_shuffled_df], axis=0, ignore_index=True)"
   ]
  },
  {
   "cell_type": "code",
   "execution_count": null,
   "id": "1877c894-e33c-431f-b16b-821994a6eb18",
   "metadata": {},
   "outputs": [],
   "source": [
    "# Combine global_x_test and global shuffled autoencoder predictions\n",
    "global_x_test_df_copy = global_x_test.copy().astype(np.float32)\n",
    "global_x_test_df_copy['pair_id'] = global_x_test_df_copy.index.astype(str)\n",
    "global_x_test_df_copy['type'] = 'point'\n",
    "global_x_test_df_copy['pred_test'] = 'pred'\n",
    "global_shuffled_autoencoder_predictions_df['pair_id'] = global_shuffled_autoencoder_predictions_df.index.astype(str)\n",
    "global_shuffled_autoencoder_predictions_df['type'] = 'counter'\n",
    "global_shuffled_autoencoder_predictions_df['pred_test'] = 'pred'\n",
    "global_pred_test_combined_shuffled_df = pd.concat([global_x_test_df_copy, global_shuffled_autoencoder_predictions_df], axis=0, ignore_index=True)"
   ]
  },
  {
   "cell_type": "code",
   "execution_count": null,
   "id": "746082d9-e776-486a-9108-2d3f2604a68e",
   "metadata": {},
   "outputs": [],
   "source": [
    "# Combine global_x_test and global_y_test and global autoencoder predictions\n",
    "global_combined_shuffled_df = pd.concat([global_x_test_df, global_y_test_shuffled_df, global_shuffled_autoencoder_predictions_df], axis=0, ignore_index=True)"
   ]
  },
  {
   "cell_type": "markdown",
   "id": "d156e018-24be-420b-ae93-9f1267b9f37c",
   "metadata": {},
   "source": [
    "#### Category point-counter df"
   ]
  },
  {
   "cell_type": "code",
   "execution_count": null,
   "id": "5a3f9888-ec18-48ac-b65d-394861f300d9",
   "metadata": {},
   "outputs": [],
   "source": [
    "# Combine economy_x_test and economy_y_test\n",
    "economy_x_test_df = economy_x_test.copy().astype(np.float32)\n",
    "economy_x_test_df['pair_id'] = economy_x_test_df.index.astype(str)\n",
    "economy_x_test_df['type'] = 'point'\n",
    "economy_x_test_df['pred_test'] = 'test'\n",
    "\n",
    "economy_y_test_df = economy_y_test.copy().astype(np.float32)\n",
    "economy_y_test_df['pair_id'] = economy_y_test_df.index.astype(str)\n",
    "economy_y_test_df['type'] = 'counter'\n",
    "economy_y_test_df['pred_test'] = 'test'\n",
    "\n",
    "economy_x_y_test_combined_df = pd.concat([economy_x_test_df, economy_y_test_df], axis=0, ignore_index=True)"
   ]
  },
  {
   "cell_type": "code",
   "execution_count": null,
   "id": "85516ae6-c6bc-48a8-baf1-cb89619f234d",
   "metadata": {},
   "outputs": [],
   "source": [
    "# Combine economy_x_test and economy autoencoder predictions\n",
    "economy_x_test_df_copy = economy_x_test.copy().astype(np.float32)\n",
    "economy_x_test_df_copy['pair_id'] = economy_x_test_df_copy.index.astype(str)\n",
    "economy_x_test_df_copy['type'] = 'point'\n",
    "economy_x_test_df_copy['pred_test'] = 'pred'\n",
    "category_autoencoder_predictions_df['pair_id'] = category_autoencoder_predictions_df.index.astype(str)\n",
    "category_autoencoder_predictions_df['type'] = 'counter'\n",
    "category_autoencoder_predictions_df['pred_test'] = 'pred'\n",
    "economy_pred_test_combined_df = pd.concat([economy_x_test_df_copy, category_autoencoder_predictions_df], axis=0, ignore_index=True)"
   ]
  },
  {
   "cell_type": "code",
   "execution_count": null,
   "id": "3e17fcf2-1bde-4675-8fd1-f1c99fe2a134",
   "metadata": {},
   "outputs": [],
   "source": [
    "# Combine economy_x_test and economy_y_test and economy autoencoder predictions\n",
    "economy_combined_df = pd.concat([economy_x_test_df, economy_y_test_df, category_autoencoder_predictions_df], axis=0, ignore_index=True)"
   ]
  },
  {
   "cell_type": "markdown",
   "id": "391346b2-479d-4aaa-aea2-31b6c2b67aae",
   "metadata": {},
   "source": [
    "#### Debate point-counter df"
   ]
  },
  {
   "cell_type": "code",
   "execution_count": null,
   "id": "a1c24866-f7ff-48af-8659-3cb86ba60eeb",
   "metadata": {},
   "outputs": [],
   "source": [
    "# Combine economy_debate_x_test and economy_debate_y_test\n",
    "economy_debate_x_test_df = economy_debate_x_test.copy().astype(np.float32)\n",
    "economy_debate_x_test_df['pair_id'] = economy_debate_x_test_df.index.astype(str)\n",
    "economy_debate_x_test_df['type'] = 'point'\n",
    "economy_debate_x_test_df['pred_test'] = 'test'\n",
    "\n",
    "economy_debate_y_test_df = economy_debate_y_test.copy().astype(np.float32)\n",
    "economy_debate_y_test_df['pair_id'] = economy_debate_y_test_df.index.astype(str)\n",
    "economy_debate_y_test_df['type'] = 'counter'\n",
    "economy_debate_y_test_df['pred_test'] = 'test'\n",
    "\n",
    "economy_debate_x_y_test_combined_df = pd.concat([economy_debate_x_test_df, economy_debate_y_test_df], axis=0, ignore_index=True)"
   ]
  },
  {
   "cell_type": "code",
   "execution_count": null,
   "id": "23160a08-d378-4329-be11-96855be92170",
   "metadata": {},
   "outputs": [],
   "source": [
    "# Combine economy_debate_x_test and debate autoencoder predictions\n",
    "economy_debate_x_test_df_copy = economy_debate_x_test.copy().astype(np.float32)\n",
    "economy_debate_x_test_df_copy['pair_id'] = economy_debate_x_test_df_copy.index.astype(str)\n",
    "economy_debate_x_test_df_copy['type'] = 'point'\n",
    "economy_debate_x_test_df_copy['pred_test'] = 'pred'\n",
    "debate_autoencoder_predictions_df['pair_id'] = debate_autoencoder_predictions_df.index.astype(str)\n",
    "debate_autoencoder_predictions_df['type'] = 'counter'\n",
    "debate_autoencoder_predictions_df['pred_test'] = 'pred'\n",
    "economy_debate_pred_test_combined_df = pd.concat([economy_debate_x_test_df_copy, debate_autoencoder_predictions_df], axis=0, ignore_index=True)"
   ]
  },
  {
   "cell_type": "code",
   "execution_count": null,
   "id": "db13a6ee-966c-4f87-9e28-dd3df05c482c",
   "metadata": {},
   "outputs": [],
   "source": [
    "# Combine economy_x_test and economy_y_test and debate autoencoder predictions\n",
    "economy_debate_combined_df = pd.concat([economy_debate_x_test_df, economy_debate_y_test_df, debate_autoencoder_predictions_df], axis=0, ignore_index=True)"
   ]
  },
  {
   "cell_type": "markdown",
   "id": "54e7f609-c6c7-4ea7-ae97-99c553a79ec9",
   "metadata": {},
   "source": [
    "#### Global tsne df"
   ]
  },
  {
   "cell_type": "code",
   "execution_count": null,
   "id": "a429c10b-15b0-463f-891f-ce15e0c63f34",
   "metadata": {},
   "outputs": [],
   "source": [
    "# TSNE global_x_y_test\n",
    "global_x_y_test_combined_tsne_df = tsne_embeddings(global_x_y_test_combined_df)"
   ]
  },
  {
   "cell_type": "code",
   "execution_count": null,
   "id": "f4d8fbd7-2a24-488b-be0a-3fe51d62a272",
   "metadata": {},
   "outputs": [],
   "source": [
    "# TSNE global autoencoder predictions\n",
    "global_pred_test_combined_tsne_df = tsne_embeddings(global_pred_test_combined_df)"
   ]
  },
  {
   "cell_type": "code",
   "execution_count": null,
   "id": "21cca04c-8afa-415b-b194-7fe5b34941c4",
   "metadata": {},
   "outputs": [],
   "source": [
    "# TSNE global combined df\n",
    "global_combined_tsne_df = tsne_embeddings(global_combined_df)"
   ]
  },
  {
   "cell_type": "code",
   "execution_count": null,
   "id": "960e0b12-46bc-4f41-aa60-27cf34deff84",
   "metadata": {},
   "outputs": [],
   "source": [
    "# Combine both prediction and test tsne df\n",
    "global_both_tsne_df = pd.concat([global_x_y_test_combined_tsne_df, global_pred_test_combined_tsne_df], axis=0)"
   ]
  },
  {
   "cell_type": "markdown",
   "id": "2510c57c-a7e3-4fe3-9479-66306ed16560",
   "metadata": {},
   "source": [
    "#### Global shuffled tsne df"
   ]
  },
  {
   "cell_type": "code",
   "execution_count": null,
   "id": "c4886ca8-eb17-4364-9891-597fe4796403",
   "metadata": {},
   "outputs": [],
   "source": [
    "# TSNE global_x_y_shuffled_test\n",
    "global_x_y_test_combined_shuffled_tsne_df = tsne_embeddings(global_x_y_test_combined_shuffled_df)"
   ]
  },
  {
   "cell_type": "code",
   "execution_count": null,
   "id": "716d3be2-e775-430e-b94d-3b5045f4f9bc",
   "metadata": {},
   "outputs": [],
   "source": [
    "# TSNE global shuffled autoencoder predictions\n",
    "global_pred_test_combined_shuffled_tsne_df = tsne_embeddings(global_pred_test_combined_shuffled_df)"
   ]
  },
  {
   "cell_type": "code",
   "execution_count": null,
   "id": "c9df2b82-51cc-4938-a44e-a9007b4faaae",
   "metadata": {},
   "outputs": [],
   "source": [
    "# TSNE global shuffled combined df\n",
    "global_combined_shuffled_tsne_df = tsne_embeddings(global_combined_shuffled_df)"
   ]
  },
  {
   "cell_type": "code",
   "execution_count": null,
   "id": "a45a6da3-3841-4ce7-ae37-8ba3c9917028",
   "metadata": {},
   "outputs": [],
   "source": [
    "# Combine both prediction and test shuffled tsne df\n",
    "global_both_shuffled_tsne_df = pd.concat([global_x_y_test_combined_shuffled_tsne_df, global_pred_test_combined_shuffled_tsne_df], axis=0)"
   ]
  },
  {
   "cell_type": "markdown",
   "id": "7c1a11cb-b89d-47c7-b0a6-4e5ca0813d7f",
   "metadata": {},
   "source": [
    "#### Category tsne df"
   ]
  },
  {
   "cell_type": "code",
   "execution_count": null,
   "id": "341138bf-de22-41ba-b993-a2a883049e91",
   "metadata": {},
   "outputs": [],
   "source": [
    "# TSNE economy_x_y_test\n",
    "economy_x_y_test_combined_tsne_df = tsne_embeddings(economy_x_y_test_combined_df)"
   ]
  },
  {
   "cell_type": "code",
   "execution_count": null,
   "id": "98eb080a-b51e-4ac4-86ad-ac61df1c552b",
   "metadata": {},
   "outputs": [],
   "source": [
    "# TSNE category autoencoder predictions\n",
    "economy_pred_test_combined_tsne_df = tsne_embeddings(economy_pred_test_combined_df)"
   ]
  },
  {
   "cell_type": "code",
   "execution_count": null,
   "id": "1a134e2a-a9c2-4796-8ff0-c50c4a17bc14",
   "metadata": {},
   "outputs": [],
   "source": [
    "# TSNE economy combined df\n",
    "economy_combined_tsne_df = tsne_embeddings(economy_combined_df)"
   ]
  },
  {
   "cell_type": "code",
   "execution_count": null,
   "id": "466d6850-9dd7-427c-bf33-8475c4956f66",
   "metadata": {},
   "outputs": [],
   "source": [
    "# Combine both prediction and test tsne df\n",
    "economy_both_tsne_df = pd.concat([economy_x_y_test_combined_tsne_df, economy_pred_test_combined_tsne_df], axis=0)"
   ]
  },
  {
   "cell_type": "markdown",
   "id": "ca367141-f081-4797-92fa-c6e2ca73da35",
   "metadata": {},
   "source": [
    "#### Debate tsne df"
   ]
  },
  {
   "cell_type": "code",
   "execution_count": null,
   "id": "73b94bb6-76a6-4359-821a-c2c5256f11f1",
   "metadata": {},
   "outputs": [],
   "source": [
    "# TSNE economy_debate_x_y_test\n",
    "economy_debate_x_y_test_combined_tsne_df = tsne_embeddings(economy_debate_x_y_test_combined_df)"
   ]
  },
  {
   "cell_type": "code",
   "execution_count": null,
   "id": "39b111b8-d883-4d8b-9538-2d605db3ddce",
   "metadata": {},
   "outputs": [],
   "source": [
    "# TSNE debate autoencoder predictions\n",
    "economy_debate_pred_test_combined_tsne_df = tsne_embeddings(economy_debate_pred_test_combined_df)"
   ]
  },
  {
   "cell_type": "code",
   "execution_count": null,
   "id": "224cc5b7-f8ac-4742-aec9-9fb9d7be162c",
   "metadata": {},
   "outputs": [],
   "source": [
    "# TSNE debate combined df\n",
    "economy_debate_combined_tsne_df = tsne_embeddings(economy_debate_combined_df)"
   ]
  },
  {
   "cell_type": "code",
   "execution_count": null,
   "id": "60e5c51d-297b-49d0-adad-eea82710ed27",
   "metadata": {},
   "outputs": [],
   "source": [
    "# Combine both prediction and test tsne df\n",
    "economy_debate_both_tsne_df = pd.concat([economy_debate_x_y_test_combined_tsne_df, economy_debate_pred_test_combined_tsne_df], axis=0)"
   ]
  },
  {
   "cell_type": "markdown",
   "id": "57f1831c-bdf0-41b0-b9f7-e3baa3d251e6",
   "metadata": {},
   "source": [
    "## PCA Dataframes"
   ]
  },
  {
   "cell_type": "markdown",
   "id": "b25a016e-ba65-4916-845a-97d5160f30ef",
   "metadata": {},
   "source": [
    "#### Global pca df"
   ]
  },
  {
   "cell_type": "code",
   "execution_count": null,
   "id": "5de149bd-67ef-4064-a154-d42facbb5638",
   "metadata": {},
   "outputs": [],
   "source": [
    "# PCA global_x_y_test\n",
    "global_x_y_test_combined_pca_df = pca_embeddings(global_x_y_test_combined_df)"
   ]
  },
  {
   "cell_type": "code",
   "execution_count": null,
   "id": "30da39ce-6e4e-42e7-87e1-ee820e028a8b",
   "metadata": {},
   "outputs": [],
   "source": [
    "# PCA global autoencoder predictions\n",
    "global_pred_test_combined_pca_df = pca_embeddings(global_pred_test_combined_df)"
   ]
  },
  {
   "cell_type": "code",
   "execution_count": null,
   "id": "e5138aa5-d2e3-4956-b970-cf8bb495c647",
   "metadata": {},
   "outputs": [],
   "source": [
    "# PCA global combined df\n",
    "global_combined_pca_df = pca_embeddings(global_combined_df)"
   ]
  },
  {
   "cell_type": "code",
   "execution_count": null,
   "id": "c27a157b-e058-4271-8d00-acd309aa9f75",
   "metadata": {},
   "outputs": [],
   "source": [
    "# Combine both prediction and test pca df\n",
    "global_both_pca_df = pd.concat([global_x_y_test_combined_pca_df, global_pred_test_combined_pca_df], axis=0)"
   ]
  },
  {
   "cell_type": "markdown",
   "id": "a5c9c6db-ed3c-4ab7-9a0b-92a0f3703c43",
   "metadata": {},
   "source": [
    "#### Category pca df"
   ]
  },
  {
   "cell_type": "code",
   "execution_count": null,
   "id": "8e42fe6c-d2a9-478e-a7b7-82b1878e8120",
   "metadata": {},
   "outputs": [],
   "source": [
    "# PCA economy_x_y_test\n",
    "economy_x_y_test_combined_pca_df = pca_embeddings(economy_x_y_test_combined_df)"
   ]
  },
  {
   "cell_type": "code",
   "execution_count": null,
   "id": "7f51e033-b42d-4d7a-a42f-713f83554918",
   "metadata": {},
   "outputs": [],
   "source": [
    "# PCA category autoencoder predictions\n",
    "economy_pred_test_combined_pca_df = pca_embeddings(economy_pred_test_combined_df)"
   ]
  },
  {
   "cell_type": "code",
   "execution_count": null,
   "id": "c53a0aeb-98d3-4496-bbb1-a8db525c918c",
   "metadata": {},
   "outputs": [],
   "source": [
    "# PCA economy combined df\n",
    "economy_combined_pca_df = pca_embeddings(economy_combined_df)"
   ]
  },
  {
   "cell_type": "code",
   "execution_count": null,
   "id": "83362396-2eb9-4679-9aa2-e7c866b0dd1c",
   "metadata": {},
   "outputs": [],
   "source": [
    "# Combine both prediction and test pca df\n",
    "economy_both_pca_df = pd.concat([economy_x_y_test_combined_pca_df, economy_pred_test_combined_pca_df], axis=0)"
   ]
  },
  {
   "cell_type": "markdown",
   "id": "d63c9b2a-9686-40e5-affd-f8564aa511f4",
   "metadata": {},
   "source": [
    "#### Debate pca df"
   ]
  },
  {
   "cell_type": "code",
   "execution_count": null,
   "id": "0afd9059-b686-4942-86e4-da7cfa728481",
   "metadata": {},
   "outputs": [],
   "source": [
    "# PCA economy_debate_x_y_test\n",
    "economy_debate_x_y_test_combined_pca_df = pca_embeddings(economy_debate_x_y_test_combined_df)"
   ]
  },
  {
   "cell_type": "code",
   "execution_count": null,
   "id": "4f0d1ff3-fc88-4772-82a4-8005242dd2e4",
   "metadata": {},
   "outputs": [],
   "source": [
    "# PCA debate autoencoder predictions\n",
    "economy_debate_pred_test_combined_pca_df = pca_embeddings(economy_debate_pred_test_combined_df)"
   ]
  },
  {
   "cell_type": "code",
   "execution_count": null,
   "id": "e334bf69-c558-436d-bdf4-f49e27c5d430",
   "metadata": {},
   "outputs": [],
   "source": [
    "# PCA economy debate combined df\n",
    "economy_debate_combined_pca_df = pca_embeddings(economy_debate_combined_df)"
   ]
  },
  {
   "cell_type": "code",
   "execution_count": null,
   "id": "c92077d7-088a-4a7f-97b1-bb91d00c20ef",
   "metadata": {},
   "outputs": [],
   "source": [
    "# Combine both prediction and test pca df\n",
    "economy_debate_both_pca_df = pd.concat([economy_debate_x_y_test_combined_pca_df, economy_debate_pred_test_combined_pca_df], axis=0)"
   ]
  },
  {
   "cell_type": "markdown",
   "id": "f53820db-239d-4711-8d02-b92345feeb0e",
   "metadata": {},
   "source": [
    "## Plot Data to Compare"
   ]
  },
  {
   "cell_type": "markdown",
   "id": "793b755d-b85c-4fd4-a591-5d90c19432f2",
   "metadata": {},
   "source": [
    "#### Plot Functions"
   ]
  },
  {
   "cell_type": "code",
   "execution_count": null,
   "id": "ecf86f8a-325d-440a-b203-e9045e76c570",
   "metadata": {},
   "outputs": [],
   "source": [
    "# Plot for prediction or test\n",
    "def pred_test_plot(\n",
    "        analysis_type: AnalysisType,\n",
    "        pred_test_data: pd.DataFrame,\n",
    "        processing_unit: ProcessingUnit\n",
    "    ):\n",
    "    plot_analysis_type = analysis_type.value.upper()\n",
    "    pred_test = pred_test_data['pred_test'].iloc[0]\n",
    "    gg = (\n",
    "        ggplot(pred_test_data, aes(x='x', y='y', color='type', group='pair_id')) +\n",
    "        geom_point(size=2) +\n",
    "        geom_line(color='black', size=0.5) +\n",
    "        labs(\n",
    "            title=f'{plot_analysis_type} Plot: {pred_test}',\n",
    "            x=f'{plot_analysis_type}_x',\n",
    "            y=f'{plot_analysis_type}_y'\n",
    "        ) +\n",
    "        theme(\n",
    "            axis_title=element_text(margin={'t': 20}),\n",
    "            figure_size=(8, 8),\n",
    "        )\n",
    "    )\n",
    "\n",
    "    output_folder = f'../data_dump/autoencoder_{analysis_type.value}_plots_dump/'\n",
    "    output_file_path = f'{output_folder}{processing_unit.value}_autoencoder_{pred_test}_{analysis_type.value}_plot.png'\n",
    "    if not os.path.exists(output_folder):\n",
    "        os.makedirs(output_folder)\n",
    "    ggsave(gg, output_file_path)\n",
    "    print(gg)"
   ]
  },
  {
   "cell_type": "code",
   "execution_count": null,
   "id": "dfac6a67-77e3-4403-9e78-2fa1258314da",
   "metadata": {},
   "outputs": [],
   "source": [
    "# Both plot for prediction and test\n",
    "def both_pred_test_plot(\n",
    "        analysis_type: AnalysisType,\n",
    "        both_data_df: pd.DataFrame,\n",
    "        processing_unit: ProcessingUnit\n",
    "    ):\n",
    "    plot_analysis_type = analysis_type.value.upper()\n",
    "    both_data_df['interaction'] = both_data_df['pair_id'] + '_' + both_data_df['pred_test']\n",
    "    gg = (\n",
    "        ggplot(both_data_df, aes(x='x', y='y', color='pred_test', shape='type', group='interaction')) +\n",
    "        geom_point(size=2) +\n",
    "        geom_line(color='black', size=0.5) +\n",
    "        labs(\n",
    "            title=f'{plot_analysis_type} Combined Plot for Both Prediction and Test',\n",
    "            x=f'{plot_analysis_type}_x',\n",
    "            y=f'{plot_analysis_type}_y'\n",
    "        ) +\n",
    "        theme(\n",
    "            axis_title=element_text(margin={'t': 20}),\n",
    "            figure_size=(8, 8),\n",
    "        )\n",
    "    )\n",
    "\n",
    "    output_folder = f'../data_dump/autoencoder_{analysis_type.value}_plots_dump/'\n",
    "    output_file_path = f'{output_folder}{processing_unit.value}_autoencoder_combined_pred_test_{analysis_type.value}_plot.png'\n",
    "    if not os.path.exists(output_folder):\n",
    "        os.makedirs(output_folder)\n",
    "    ggsave(gg, output_file_path)\n",
    "    print(gg)"
   ]
  },
  {
   "cell_type": "code",
   "execution_count": null,
   "id": "41e6e358-ab6f-4b0b-bdc0-040d95131265",
   "metadata": {},
   "outputs": [],
   "source": [
    "# Combined plot for x_test + y_test + prediction\n",
    "def combined_pred_test_plot(\n",
    "        analysis_type: AnalysisType,\n",
    "        combined_df: pd.DataFrame,\n",
    "        processing_unit: ProcessingUnit\n",
    "    ):\n",
    "    plot_analysis_type = analysis_type.value.upper()\n",
    "    gg = (\n",
    "        ggplot(combined_df, aes(x='x', y='y', color='pred_test', shape='type', group='pair_id')) +\n",
    "        geom_point(size=2) +\n",
    "        geom_line(color='black', size=0.5) +\n",
    "        labs(\n",
    "            title=f'{plot_analysis_type} Combined Plot for Prediction vs Test',\n",
    "            x=f'{plot_analysis_type}_x',\n",
    "            y=f'{plot_analysis_type}_y'\n",
    "        ) +\n",
    "        theme(\n",
    "            axis_title=element_text(margin={'t': 20}),\n",
    "            figure_size=(8, 8),\n",
    "        )\n",
    "    )\n",
    "\n",
    "    output_folder = f'../data_dump/autoencoder_{analysis_type.value}_plots_dump/'\n",
    "    output_file_path = f'{output_folder}{processing_unit.value}_autoencoder_all_{analysis_type.value}_plot.png'\n",
    "    if not os.path.exists(output_folder):\n",
    "        os.makedirs(output_folder)\n",
    "    ggsave(gg, output_file_path)\n",
    "    print(gg)"
   ]
  },
  {
   "cell_type": "markdown",
   "id": "baa2ac37-4250-4851-9cb5-cfb7e7f5a993",
   "metadata": {},
   "source": [
    "#### Global Prediction PCA Plots"
   ]
  },
  {
   "cell_type": "code",
   "execution_count": null,
   "id": "79dc36d4-2a57-4af1-bd41-0c45b4253f37",
   "metadata": {},
   "outputs": [],
   "source": [
    "# Plot PCA test\n",
    "pred_test_plot(AnalysisType.PCA, global_x_y_test_combined_pca_df, ProcessingUnit.GLOBAL)"
   ]
  },
  {
   "cell_type": "code",
   "execution_count": null,
   "id": "6049fb51-e0e2-4be1-b83e-8467dfe8d765",
   "metadata": {},
   "outputs": [],
   "source": [
    "# Plot PCA autoencoder predictions\n",
    "pred_test_plot(AnalysisType.PCA, global_pred_test_combined_pca_df, ProcessingUnit.GLOBAL)"
   ]
  },
  {
   "cell_type": "code",
   "execution_count": null,
   "id": "aa8900ae-70f1-4043-b2f0-d18464d92984",
   "metadata": {},
   "outputs": [],
   "source": [
    "# Plot both PCA pred and test\n",
    "both_pred_test_plot(AnalysisType.PCA, global_both_pca_df, ProcessingUnit.GLOBAL)"
   ]
  },
  {
   "cell_type": "code",
   "execution_count": null,
   "id": "c36cc061-4933-409c-b185-672436a28412",
   "metadata": {},
   "outputs": [],
   "source": [
    "# Plot combined PCA pred and test\n",
    "combined_pred_test_plot(AnalysisType.PCA, global_combined_pca_df, ProcessingUnit.GLOBAL)"
   ]
  },
  {
   "cell_type": "markdown",
   "id": "13a60c79-294c-41cc-9ac2-65388955858f",
   "metadata": {},
   "source": [
    "#### Category Prediction PCA Plots"
   ]
  },
  {
   "cell_type": "code",
   "execution_count": null,
   "id": "c3a48b7e-e5c1-4b11-9fe9-0021a2f91f61",
   "metadata": {
    "scrolled": true
   },
   "outputs": [],
   "source": [
    "# Plot PCA test\n",
    "pred_test_plot(AnalysisType.PCA, economy_x_y_test_combined_pca_df, ProcessingUnit.CATEGORY)"
   ]
  },
  {
   "cell_type": "code",
   "execution_count": null,
   "id": "a875650d-7b13-4ab8-baa9-5404697c2154",
   "metadata": {
    "scrolled": true
   },
   "outputs": [],
   "source": [
    "# Plot PCA autoencoder predictions\n",
    "pred_test_plot(AnalysisType.PCA, economy_pred_test_combined_pca_df, ProcessingUnit.CATEGORY)"
   ]
  },
  {
   "cell_type": "code",
   "execution_count": null,
   "id": "fb72ae77-3393-406a-8d6c-b5932e04b6ae",
   "metadata": {},
   "outputs": [],
   "source": [
    "# Plot both pred and test\n",
    "both_pred_test_plot(AnalysisType.PCA, economy_both_pca_df, ProcessingUnit.CATEGORY)"
   ]
  },
  {
   "cell_type": "code",
   "execution_count": null,
   "id": "13318e9b-73cc-48e6-94f4-2b43c270877f",
   "metadata": {},
   "outputs": [],
   "source": [
    "# Plot combined pred vs test\n",
    "combined_pred_test_plot(AnalysisType.PCA, economy_combined_pca_df, ProcessingUnit.CATEGORY)"
   ]
  },
  {
   "cell_type": "markdown",
   "id": "a164c5c3-e44d-41f4-9779-eb759704074c",
   "metadata": {},
   "source": [
    "#### Debate Prediction PCA Plots"
   ]
  },
  {
   "cell_type": "code",
   "execution_count": null,
   "id": "5baa2056-73a5-4707-954a-424585ec8003",
   "metadata": {
    "scrolled": true
   },
   "outputs": [],
   "source": [
    "# Plot PCA test\n",
    "pred_test_plot(AnalysisType.PCA, economy_debate_x_y_test_combined_pca_df, ProcessingUnit.DEBATE)"
   ]
  },
  {
   "cell_type": "code",
   "execution_count": null,
   "id": "535afd88-8f08-45d8-9279-c96f6e5ed27d",
   "metadata": {
    "scrolled": true
   },
   "outputs": [],
   "source": [
    "# Plot PCA autoencoder predictions\n",
    "pred_test_plot(AnalysisType.PCA, economy_debate_pred_test_combined_pca_df, ProcessingUnit.DEBATE)"
   ]
  },
  {
   "cell_type": "code",
   "execution_count": null,
   "id": "fdc94519-ea9d-438f-82e5-e92cbd200ec5",
   "metadata": {
    "scrolled": true
   },
   "outputs": [],
   "source": [
    "# Plot both pred and test\n",
    "both_pred_test_plot(AnalysisType.PCA, economy_debate_both_pca_df, ProcessingUnit.DEBATE)"
   ]
  },
  {
   "cell_type": "code",
   "execution_count": null,
   "id": "62913639-6d7e-4975-ac94-31002c99dfd2",
   "metadata": {
    "scrolled": true
   },
   "outputs": [],
   "source": [
    "# Plot combined pred vs test\n",
    "combined_pred_test_plot(AnalysisType.PCA, economy_debate_combined_pca_df, ProcessingUnit.DEBATE)"
   ]
  },
  {
   "cell_type": "code",
   "execution_count": null,
   "id": "0582df48-730b-4cde-bc2e-5d9495c0c5fe",
   "metadata": {},
   "outputs": [],
   "source": [
    "\"\"\"\n",
    "Josh: How may I go to the Netherlands <3\n",
    "Mind Modelling stuff second draft\n",
    "\"\"\""
   ]
  }
 ],
 "metadata": {
  "kernelspec": {
   "display_name": "Python 3 (ipykernel)",
   "language": "python",
   "name": "python3"
  },
  "language_info": {
   "codemirror_mode": {
    "name": "ipython",
    "version": 3
   },
   "file_extension": ".py",
   "mimetype": "text/x-python",
   "name": "python",
   "nbconvert_exporter": "python",
   "pygments_lexer": "ipython3",
   "version": "3.11.4"
  }
 },
 "nbformat": 4,
 "nbformat_minor": 5
}
