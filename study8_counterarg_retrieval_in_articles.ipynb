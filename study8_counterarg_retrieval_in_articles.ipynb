{
  "nbformat": 4,
  "nbformat_minor": 0,
  "metadata": {
    "colab": {
      "provenance": [],
      "collapsed_sections": [
        "rraCIAGnMU04",
        "yyZ99B-Wu1jI",
        "1ZL8xzRMyOGE",
        "pNwZZJjbHM2Q"
      ],
      "gpuType": "T4",
      "mount_file_id": "18uUZbgav2QP1aYBdP5LxGhmLo62GKDZ1",
      "authorship_tag": "ABX9TyPRvzNKzB8/+YN+LuSDt1Fu",
      "include_colab_link": true
    },
    "kernelspec": {
      "name": "python3",
      "display_name": "Python 3"
    },
    "language_info": {
      "name": "python"
    },
    "accelerator": "GPU"
  },
  "cells": [
    {
      "cell_type": "markdown",
      "metadata": {
        "id": "view-in-github",
        "colab_type": "text"
      },
      "source": [
        "<a href=\"https://colab.research.google.com/github/cchang-vassar/Semantic-Relations-in-Vector-Embeddings/blob/main/study8_counterarg_retrieval_in_articles.ipynb\" target=\"_parent\"><img src=\"https://colab.research.google.com/assets/colab-badge.svg\" alt=\"Open In Colab\"/></a>"
      ]
    },
    {
      "cell_type": "markdown",
      "metadata": {
        "id": "c8ec119b-3682-48e1-80a4-d50af48ee755"
      },
      "source": [
        "# [ada-002] Autoencoder: Choose Corresponding Embedding from Article Database"
      ]
    },
    {
      "cell_type": "markdown",
      "metadata": {
        "id": "c9d6be4b-ee66-48b6-b449-cfe1abf83dff"
      },
      "source": [
        "Given an embedding, can a model be trained to choose the correct embeddings corresponding to its counterargument from a list of them tokenized from a database of articles?"
      ]
    },
    {
      "cell_type": "markdown",
      "source": [
        "## Set Up"
      ],
      "metadata": {
        "id": "rraCIAGnMU04"
      }
    },
    {
      "cell_type": "markdown",
      "source": [
        "### Imports"
      ],
      "metadata": {
        "id": "x6lP1bVYImnN"
      }
    },
    {
      "cell_type": "code",
      "source": [
        "# General imports\n",
        "import os\n",
        "import subprocess\n",
        "import zipfile\n",
        "import shutil\n",
        "import time\n",
        "import re\n",
        "from google.colab import userdata\n",
        "import requests\n",
        "from bs4 import BeautifulSoup\n",
        "import re\n",
        "import pickle\n",
        "import statistics\n",
        "import numpy as np\n",
        "import pandas as pd\n",
        "import tensorflow as tf\n",
        "from tensorflow.keras.models import load_model\n",
        "from scipy import spatial\n",
        "from typing import Optional"
      ],
      "metadata": {
        "id": "uG3AaiqUInby"
      },
      "execution_count": null,
      "outputs": []
    },
    {
      "cell_type": "markdown",
      "metadata": {
        "id": "yyZ99B-Wu1jI"
      },
      "source": [
        "### OpenAI Setup"
      ]
    },
    {
      "cell_type": "code",
      "execution_count": 145,
      "metadata": {
        "colab": {
          "base_uri": "https://localhost:8080/"
        },
        "id": "Ks8hjOxWu1jJ",
        "outputId": "f9e40f31-8edf-47c5-d97f-60f951bed2e9"
      },
      "outputs": [
        {
          "output_type": "stream",
          "name": "stdout",
          "text": [
            "Collecting openai\n",
            "  Downloading openai-1.14.2-py3-none-any.whl (262 kB)\n",
            "\u001b[?25l     \u001b[90m━━━━━━━━━━━━━━━━━━━━━━━━━━━━━━━━━━━━━━━━\u001b[0m \u001b[32m0.0/262.4 kB\u001b[0m \u001b[31m?\u001b[0m eta \u001b[36m-:--:--\u001b[0m\r\u001b[2K     \u001b[91m━━━━━━━━━━━━━━━━━━━━━━━━━━\u001b[0m\u001b[91m╸\u001b[0m\u001b[90m━━━━━━━━━━━━━\u001b[0m \u001b[32m174.1/262.4 kB\u001b[0m \u001b[31m5.0 MB/s\u001b[0m eta \u001b[36m0:00:01\u001b[0m\r\u001b[2K     \u001b[90m━━━━━━━━━━━━━━━━━━━━━━━━━━━━━━━━━━━━━━━━\u001b[0m \u001b[32m262.4/262.4 kB\u001b[0m \u001b[31m5.0 MB/s\u001b[0m eta \u001b[36m0:00:00\u001b[0m\n",
            "\u001b[?25hRequirement already satisfied: anyio<5,>=3.5.0 in /usr/local/lib/python3.10/dist-packages (from openai) (3.7.1)\n",
            "Requirement already satisfied: distro<2,>=1.7.0 in /usr/lib/python3/dist-packages (from openai) (1.7.0)\n",
            "Collecting httpx<1,>=0.23.0 (from openai)\n",
            "  Downloading httpx-0.27.0-py3-none-any.whl (75 kB)\n",
            "\u001b[2K     \u001b[90m━━━━━━━━━━━━━━━━━━━━━━━━━━━━━━━━━━━━━━━━\u001b[0m \u001b[32m75.6/75.6 kB\u001b[0m \u001b[31m7.7 MB/s\u001b[0m eta \u001b[36m0:00:00\u001b[0m\n",
            "\u001b[?25hRequirement already satisfied: pydantic<3,>=1.9.0 in /usr/local/lib/python3.10/dist-packages (from openai) (2.6.4)\n",
            "Requirement already satisfied: sniffio in /usr/local/lib/python3.10/dist-packages (from openai) (1.3.1)\n",
            "Requirement already satisfied: tqdm>4 in /usr/local/lib/python3.10/dist-packages (from openai) (4.66.2)\n",
            "Requirement already satisfied: typing-extensions<5,>=4.7 in /usr/local/lib/python3.10/dist-packages (from openai) (4.10.0)\n",
            "Requirement already satisfied: idna>=2.8 in /usr/local/lib/python3.10/dist-packages (from anyio<5,>=3.5.0->openai) (3.6)\n",
            "Requirement already satisfied: exceptiongroup in /usr/local/lib/python3.10/dist-packages (from anyio<5,>=3.5.0->openai) (1.2.0)\n",
            "Requirement already satisfied: certifi in /usr/local/lib/python3.10/dist-packages (from httpx<1,>=0.23.0->openai) (2024.2.2)\n",
            "Collecting httpcore==1.* (from httpx<1,>=0.23.0->openai)\n",
            "  Downloading httpcore-1.0.4-py3-none-any.whl (77 kB)\n",
            "\u001b[2K     \u001b[90m━━━━━━━━━━━━━━━━━━━━━━━━━━━━━━━━━━━━━━━━\u001b[0m \u001b[32m77.8/77.8 kB\u001b[0m \u001b[31m9.0 MB/s\u001b[0m eta \u001b[36m0:00:00\u001b[0m\n",
            "\u001b[?25hCollecting h11<0.15,>=0.13 (from httpcore==1.*->httpx<1,>=0.23.0->openai)\n",
            "  Downloading h11-0.14.0-py3-none-any.whl (58 kB)\n",
            "\u001b[2K     \u001b[90m━━━━━━━━━━━━━━━━━━━━━━━━━━━━━━━━━━━━━━━━\u001b[0m \u001b[32m58.3/58.3 kB\u001b[0m \u001b[31m6.5 MB/s\u001b[0m eta \u001b[36m0:00:00\u001b[0m\n",
            "\u001b[?25hRequirement already satisfied: annotated-types>=0.4.0 in /usr/local/lib/python3.10/dist-packages (from pydantic<3,>=1.9.0->openai) (0.6.0)\n",
            "Requirement already satisfied: pydantic-core==2.16.3 in /usr/local/lib/python3.10/dist-packages (from pydantic<3,>=1.9.0->openai) (2.16.3)\n",
            "Installing collected packages: h11, httpcore, httpx, openai\n",
            "Successfully installed h11-0.14.0 httpcore-1.0.4 httpx-0.27.0 openai-1.14.2\n"
          ]
        }
      ],
      "source": [
        "!pip install openai"
      ]
    },
    {
      "cell_type": "code",
      "execution_count": 146,
      "metadata": {
        "id": "VmWe4o7-u1jN"
      },
      "outputs": [],
      "source": [
        "import openai\n",
        "from openai import OpenAI\n",
        "os.environ[\"OPENAI_API_KEY\"] = userdata.get('OPENAI_API_KEY')"
      ]
    },
    {
      "cell_type": "code",
      "execution_count": 147,
      "metadata": {
        "id": "c1iJAH9tu1jO"
      },
      "outputs": [],
      "source": [
        "client = OpenAI()"
      ]
    },
    {
      "cell_type": "markdown",
      "metadata": {
        "id": "1ZL8xzRMyOGE"
      },
      "source": [
        "### OSF Setup"
      ]
    },
    {
      "cell_type": "code",
      "execution_count": 196,
      "metadata": {
        "colab": {
          "base_uri": "https://localhost:8080/"
        },
        "id": "fS_fc5dDySK5",
        "outputId": "7d186b70-a07e-4668-9a6e-10f94a7b5d01"
      },
      "outputs": [
        {
          "output_type": "stream",
          "name": "stdout",
          "text": [
            "Collecting osfclient\n",
            "  Downloading osfclient-0.0.5-py2.py3-none-any.whl (39 kB)\n",
            "Requirement already satisfied: requests in /usr/local/lib/python3.10/dist-packages (from osfclient) (2.31.0)\n",
            "Requirement already satisfied: tqdm in /usr/local/lib/python3.10/dist-packages (from osfclient) (4.66.2)\n",
            "Requirement already satisfied: six in /usr/local/lib/python3.10/dist-packages (from osfclient) (1.16.0)\n",
            "Requirement already satisfied: charset-normalizer<4,>=2 in /usr/local/lib/python3.10/dist-packages (from requests->osfclient) (3.3.2)\n",
            "Requirement already satisfied: idna<4,>=2.5 in /usr/local/lib/python3.10/dist-packages (from requests->osfclient) (3.6)\n",
            "Requirement already satisfied: urllib3<3,>=1.21.1 in /usr/local/lib/python3.10/dist-packages (from requests->osfclient) (2.0.7)\n",
            "Requirement already satisfied: certifi>=2017.4.17 in /usr/local/lib/python3.10/dist-packages (from requests->osfclient) (2024.2.2)\n",
            "Installing collected packages: osfclient\n",
            "Successfully installed osfclient-0.0.5\n"
          ]
        }
      ],
      "source": [
        "!pip install osfclient"
      ]
    },
    {
      "cell_type": "code",
      "execution_count": 197,
      "metadata": {
        "id": "q7LsfY62TqsU"
      },
      "outputs": [],
      "source": [
        "os.environ[\"OSF_USERNAME\"] = userdata.get(\"OSF_USERNAME\")\n",
        "OSF_USERNAME = os.environ[\"OSF_USERNAME\"]"
      ]
    },
    {
      "cell_type": "code",
      "execution_count": 198,
      "metadata": {
        "id": "Dc540GW4OGT5"
      },
      "outputs": [],
      "source": [
        "os.environ[\"OSF_PASSWORD\"] = userdata.get(\"OSF_PASSWORD\")\n",
        "OSF_PASSWORD = os.environ[\"OSF_PASSWORD\"]"
      ]
    },
    {
      "cell_type": "code",
      "execution_count": 199,
      "metadata": {
        "id": "z-OVlX8Z0pZy"
      },
      "outputs": [],
      "source": [
        "os.environ[\"OSF_TOKEN\"] = userdata.get(\"OSF_TOKEN\")\n",
        "OSF_TOKEN = os.environ[\"OSF_TOKEN\"]"
      ]
    },
    {
      "cell_type": "code",
      "execution_count": 200,
      "metadata": {
        "id": "rTXKZf9r4RY3"
      },
      "outputs": [],
      "source": [
        "os.environ[\"OSF_PROJECT_ID\"] = userdata.get(\"OSF_PROJECT_ID\")\n",
        "OSF_PROJECT_ID = os.environ[\"OSF_PROJECT_ID\"]"
      ]
    },
    {
      "cell_type": "markdown",
      "source": [
        "## Data"
      ],
      "metadata": {
        "id": "pNwZZJjbHM2Q"
      }
    },
    {
      "cell_type": "markdown",
      "source": [
        "### Functions to parse file data"
      ],
      "metadata": {
        "id": "ibi-2OBz9lYm"
      }
    },
    {
      "cell_type": "code",
      "source": [
        "def _tokenize_text_file(\n",
        "    text_file_path: str\n",
        "  ) -> list[str]:\n",
        "  with open(text_file_path, 'r') as file:\n",
        "    data = file.read()\n",
        "  lines = [line.strip() for line in re.split(r'\\n', data) if line.strip() and any(c.isalnum() for c in line)]\n",
        "  return lines"
      ],
      "metadata": {
        "id": "Sh5cK_5NtMYI"
      },
      "execution_count": null,
      "outputs": []
    },
    {
      "cell_type": "code",
      "source": [
        "def _tokenize_html_file(\n",
        "    html_file_path: str,\n",
        "    class_identifier: str = False,\n",
        "    id_identifier: str = False\n",
        "  ) -> list[str]:\n",
        "  with open(html_file_path, 'r') as file:\n",
        "    data = file.read()\n",
        "  soup = BeautifulSoup(data, 'html.parser')\n",
        "  if not class_identifier and not id_identifier:\n",
        "    paragraphs = soup.find_all('p')\n",
        "  else:\n",
        "    paragraphs = soup.find_all(class_ = class_identifier, id = id_identifier)\n",
        "  paragraph_list = []\n",
        "  for paragraph in paragraphs:\n",
        "    if len(paragraph.text) < 1:\n",
        "      continue\n",
        "    paragraph_list.append(paragraph.text)\n",
        "  return paragraph_list"
      ],
      "metadata": {
        "id": "0487nU-xHO3P"
      },
      "execution_count": null,
      "outputs": []
    },
    {
      "cell_type": "code",
      "source": [
        "def _tokenize_html_file_wr(html_file_path: str) -> list[str]:\n",
        "  with open(html_file_path, \"r\") as file:\n",
        "    first_line = file.readline()\n",
        "    class_identifier = re.search(r'class_identifier=(.+$)', first_line)\n",
        "    class_identifier = class_identifier.group(1) if class_identifier else False\n",
        "    second_line = file.readline()\n",
        "    id_identifier = re.search(r'id_identifier=(.+$)', second_line)\n",
        "    id_identifier = id_identifier.group(1) if id_identifier else False\n",
        "    return _tokenize_html_file(html_file_path, class_identifier, id_identifier)"
      ],
      "metadata": {
        "id": "MThRvXeWUCDr"
      },
      "execution_count": null,
      "outputs": []
    },
    {
      "cell_type": "code",
      "source": [
        "def tokenize_file(file_path: str) -> list[str]:\n",
        "  if re.match(r'.+\\.html', file_path):\n",
        "    return _tokenize_html_file_wr(file_path)\n",
        "  else:\n",
        "    return _tokenize_text_file(file_path)"
      ],
      "metadata": {
        "id": "R8bJ6DK1vG5y"
      },
      "execution_count": null,
      "outputs": []
    },
    {
      "cell_type": "markdown",
      "source": [
        "### Parse data"
      ],
      "metadata": {
        "id": "dw48lqVg-Rdw"
      }
    },
    {
      "cell_type": "code",
      "source": [
        "corpora_path = 'corpora/'\n",
        "os.makedirs(corpora_path, exist_ok=True)\n",
        "\n",
        "plastic_surgery_corpus_path = f'{corpora_path}plastic-surgery-corpus/'\n",
        "os.makedirs(plastic_surgery_corpus_path, exist_ok=True)\n",
        "\n",
        "write_data_path = 'current-data-dump/'\n",
        "os.makedirs(write_data_path, exist_ok=True)"
      ],
      "metadata": {
        "id": "1O3e5M1J-mH5"
      },
      "execution_count": 152,
      "outputs": []
    },
    {
      "cell_type": "code",
      "source": [
        "parsed_data_path = 'current-data-dump/'"
      ],
      "metadata": {
        "id": "TuZ4s_-W-T3I"
      },
      "execution_count": 84,
      "outputs": []
    },
    {
      "cell_type": "code",
      "source": [
        "plastic_surgery_parsed_data = pd.DataFrame()\n",
        "\n",
        "for filename in os.listdir(plastic_surgery_corpus_path):\n",
        "    file_path = os.path.join(plastic_surgery_corpus_path, filename)\n",
        "    if os.path.isfile(file_path):\n",
        "        arguments = pd.DataFrame(tokenize_file(file_path), columns=['paragraph'])\n",
        "        arguments['file_path'] = filename\n",
        "        plastic_surgery_parsed_data = pd.concat([plastic_surgery_parsed_data, arguments])\n",
        "plastic_surgery_parsed_data = plastic_surgery_parsed_data.reset_index()\n",
        "\n",
        "with open(f'{write_data_path}plastic_surgery_parsed_data.pkl', \"wb\") as file:\n",
        "  pickle.dump(plastic_surgery_parsed_data, file)"
      ],
      "metadata": {
        "colab": {
          "base_uri": "https://localhost:8080/"
        },
        "id": "tpuYjccq-cKI",
        "outputId": "73cebd22-005a-4374-ac9e-18248e88a0ba"
      },
      "execution_count": 183,
      "outputs": [
        {
          "output_type": "stream",
          "name": "stdout",
          "text": [
            "<class 'bool'>\n",
            "<class 'str'>\n",
            "<class 'bool'>\n",
            "<class 'bool'>\n",
            "<class 'str'>\n",
            "<class 'bool'>\n",
            "<class 'bool'>\n",
            "<class 'bool'>\n",
            "<class 'bool'>\n",
            "<class 'bool'>\n"
          ]
        }
      ]
    },
    {
      "cell_type": "markdown",
      "source": [
        "## Embeddings"
      ],
      "metadata": {
        "id": "BYaaD62HGxSs"
      }
    },
    {
      "cell_type": "markdown",
      "source": [
        "### Imports for getting embeddings"
      ],
      "metadata": {
        "id": "rkmOzFobG7eC"
      }
    },
    {
      "cell_type": "code",
      "source": [
        "!pip install tenacity"
      ],
      "metadata": {
        "colab": {
          "base_uri": "https://localhost:8080/"
        },
        "id": "S9ane5lkG8_R",
        "outputId": "dfd981d7-7914-416c-be7e-0a5f4c4689c1"
      },
      "execution_count": 148,
      "outputs": [
        {
          "output_type": "stream",
          "name": "stdout",
          "text": [
            "Requirement already satisfied: tenacity in /usr/local/lib/python3.10/dist-packages (8.2.3)\n"
          ]
        }
      ]
    },
    {
      "cell_type": "code",
      "source": [
        "import time\n",
        "from tenacity import (\n",
        "  retry,\n",
        "  stop_after_attempt,\n",
        "  wait_random_exponential\n",
        ")"
      ],
      "metadata": {
        "id": "m3nMisk3G9nd"
      },
      "execution_count": 149,
      "outputs": []
    },
    {
      "cell_type": "code",
      "source": [
        "plastic_surgery_parsed_data = pd.read_pickle(\"/content/current-data-dump/plastic_surgery_parsed_data.pkl\")"
      ],
      "metadata": {
        "id": "2z7Ydq8AIWgP"
      },
      "execution_count": 289,
      "outputs": []
    },
    {
      "cell_type": "markdown",
      "source": [
        "### Functions to get embeddings"
      ],
      "metadata": {
        "id": "6qBqaU73HEqU"
      }
    },
    {
      "cell_type": "code",
      "execution_count": 187,
      "metadata": {
        "id": "FjwRp3Kgu1kA"
      },
      "outputs": [],
      "source": [
        "DIM_EMBEDDING = 1536\n",
        "\n",
        "@retry(wait=wait_random_exponential(min=60, max=500), stop=stop_after_attempt(10))\n",
        "def _get_embeddings(paragraphs: list) -> list:\n",
        "  \"\"\"Convert an argument into a (1 x 1536) embedding df\"\"\"\n",
        "  embeddings = client.embeddings.create(input=paragraphs, model=\"text-embedding-ada-002\")\n",
        "  embeddings_data = [embedding_data.embedding for embedding_data in embeddings.data]\n",
        "  embeddings_df = pd.DataFrame(embeddings_data, columns=[f\"{str(i)}\" for i in range(DIM_EMBEDDING)])\n",
        "  return embeddings_df.reset_index(drop=True)"
      ]
    },
    {
      "cell_type": "code",
      "execution_count": 221,
      "metadata": {
        "id": "xesYhxIvu1kA"
      },
      "outputs": [],
      "source": [
        "API_LIMIT = 1000\n",
        "\n",
        "def get_embeddings_df(paragraph_df: pd.DataFrame, corpus_name: str) -> pd.DataFrame:\n",
        "  \"\"\"Add embeddings column to a df\"\"\"\n",
        "  embeddings_df = pd.DataFrame()\n",
        "  paragraph_list = list(paragraph_df['paragraph'])\n",
        "  total_len = len(paragraph_list)\n",
        "  i = 0\n",
        "\n",
        "  # Grab embeddings from paragraph column in chunks\n",
        "  while i < total_len:\n",
        "    embeddings = _get_embeddings(paragraph_list[i:min(total_len, i+API_LIMIT)])\n",
        "    embeddings_df = pd.concat([embeddings_df, embeddings], axis=0, ignore_index=True)\n",
        "    i = i + API_LIMIT\n",
        "  paragraph_embeddings_df = pd.concat([paragraph_df, embeddings_df], axis=1)\n",
        "  paragraph_embeddings_df.drop(columns=['index'], inplace=True)\n",
        "\n",
        "  # Write embeddings df to file\n",
        "  with open(f'{write_data_path}{corpus_name}_embeddings.pkl', \"wb\") as file:\n",
        "    pickle.dump(paragraph_embeddings_df, file)\n",
        "\n",
        "  return paragraph_embeddings_df"
      ]
    },
    {
      "cell_type": "code",
      "source": [
        "res = get_embeddings_df(plastic_surgery_parsed_data, \"plastic_surgery_corpus\")"
      ],
      "metadata": {
        "id": "19Yw3diRF6qA"
      },
      "execution_count": 222,
      "outputs": []
    },
    {
      "cell_type": "markdown",
      "source": [
        "## Model"
      ],
      "metadata": {
        "id": "i_pLhC_PMIJg"
      }
    },
    {
      "cell_type": "markdown",
      "source": [
        "### Import model"
      ],
      "metadata": {
        "id": "-M6M0xNuLPVJ"
      }
    },
    {
      "cell_type": "code",
      "source": [
        "subprocess.run(\"osf -p sakjg fetch --force osfstorage/data-dump/ada-autoencoder/ada_autoencoder.zip\", shell=True)\n",
        "print(\"ada_autoencoder.zip successfully imported\")\n",
        "ada_autoencoder_file_path_zip = 'ada_autoencoder.zip'\n",
        "ada_autoencoder_file_path = 'current-data-dump/ada-autoencoder'\n",
        "os.makedirs(ada_autoencoder_file_path, exist_ok=True)\n",
        "with zipfile.ZipFile(ada_autoencoder_file_path_zip, 'r') as zip_ref:\n",
        "  zip_ref.extractall(ada_autoencoder_file_path)\n",
        "extracted_files = os.listdir(ada_autoencoder_file_path)\n",
        "print(\"Files extracted:\", extracted_files)"
      ],
      "metadata": {
        "colab": {
          "base_uri": "https://localhost:8080/"
        },
        "id": "aetiEHo9K2So",
        "outputId": "5e5a0d68-af95-4e50-c304-b8d1a9349327"
      },
      "execution_count": 201,
      "outputs": [
        {
          "output_type": "stream",
          "name": "stdout",
          "text": [
            "ada_autoencoder.zip successfully imported\n",
            "Files extracted: ['global_training_plot.png', 'global_shuffled_training_log.csv', 'combined_global_training_plot.png', 'global_autoencoder_model.keras', 'global_shuffled_autoencoder_model.keras', '.ipynb_checkpoints', 'global_shuffled_training_plot.png', 'global_training_df.pkl', 'global_training_log.csv']\n"
          ]
        }
      ]
    },
    {
      "cell_type": "code",
      "source": [
        "ada_autoencoder_model = tf.keras.models.load_model('current-data-dump/ada-autoencoder/global_autoencoder_model.keras')"
      ],
      "metadata": {
        "id": "Z1OaMYcEN2cD"
      },
      "execution_count": 205,
      "outputs": []
    },
    {
      "cell_type": "markdown",
      "source": [
        "## Testing on novel arguments"
      ],
      "metadata": {
        "id": "W30TgnV9K4Vm"
      }
    },
    {
      "cell_type": "code",
      "source": [
        "global_df = pd.read_pickle(\"/content/current-data-dump/plastic_surgery_corpus_embeddings.pkl\")\n",
        "global_df = global_df.select_dtypes(include='number')"
      ],
      "metadata": {
        "id": "dYi1H9H5OfbH"
      },
      "execution_count": 224,
      "outputs": []
    },
    {
      "cell_type": "code",
      "source": [
        "def generate_y_pred(y_test: list[str], global_df: pd.DataFrame, paragraph_df: pd.DataFrame) -> str:\n",
        "  y_test_embeddings = _get_embeddings(y_test)\n",
        "  y_pred = ada_autoencoder_model.predict(y_test_embeddings)\n",
        "  y_pred_paragraph_indices = []\n",
        "  global_df_32 = tf.cast(global_df, dtype=tf.float32)\n",
        "  y_pred = tf.cast(y_pred, dtype=tf.float32)\n",
        "\n",
        "  for pred in y_pred:\n",
        "    pred = tf.reshape(pred, [1, -1])\n",
        "    cos_sim_pred = tf.matmul(global_df_32, pred, transpose_b=True) / tf.reshape(tf.norm(pred) * tf.norm(global_df_32, axis=1), [-1, 1])\n",
        "    top_k_sim_pred = tf.math.top_k(tf.reshape(cos_sim_pred, [-1]), k=1).indices.numpy()\n",
        "    y_pred_paragraph_indices.append(top_k_sim_pred[0])\n",
        "  return paragraph_df.iloc[y_pred_paragraph_indices]"
      ],
      "metadata": {
        "id": "eWVvPlMdNIL4"
      },
      "execution_count": 297,
      "outputs": []
    },
    {
      "cell_type": "markdown",
      "source": [
        "### Pro plastic surgery"
      ],
      "metadata": {
        "id": "Q53yqUCHK-Jm"
      }
    },
    {
      "cell_type": "code",
      "source": [
        "pro_plastic_surgery_y_test = _tokenize_text_file(\"/content/corpora-y-test/plastic_surgery_corpus/gpt_pro_arguments.txt\")\n",
        "con_plastic_surgery_y_test = _tokenize_text_file(\"/content/corpora-y-test/plastic_surgery_corpus/gpt_con_arguments.txt\")"
      ],
      "metadata": {
        "id": "zcloxHsYLViq"
      },
      "execution_count": 299,
      "outputs": []
    },
    {
      "cell_type": "code",
      "source": [
        "generate_y_pred(pro_plastic_surgery_y_test, global_df, plastic_surgery_parsed_data)"
      ],
      "metadata": {
        "colab": {
          "base_uri": "https://localhost:8080/",
          "height": 1265
        },
        "id": "d1KhFGG_cr7l",
        "outputId": "23c378b1-553c-4eeb-d66f-361bc928c9e3"
      },
      "execution_count": 298,
      "outputs": [
        {
          "output_type": "stream",
          "name": "stdout",
          "text": [
            "1/1 [==============================] - 0s 33ms/step\n"
          ]
        },
        {
          "output_type": "execute_result",
          "data": {
            "text/plain": [
              "     index                                          paragraph  \\\n",
              "634     15  Plastic surgery was seen as an effective way t...   \n",
              "536     36  We have said that the primary reason to do pla...   \n",
              "538     38  For the former, the suboptimal result should b...   \n",
              "634     15  Plastic surgery was seen as an effective way t...   \n",
              "263     54  The thing is there's no clear-cut line between...   \n",
              "509      9  The public is assaulted continually with a bar...   \n",
              "263     54  The thing is there's no clear-cut line between...   \n",
              "302     93  i wouldn't call them cosmetic then. \"cosmetic\"...   \n",
              "903    199  Your approach aims for the patient receiving p...   \n",
              "263     54  The thing is there's no clear-cut line between...   \n",
              "\n",
              "                                             file_path  \n",
              "634  influences_on_decision_making_in_plastic_surge...  \n",
              "536       plastic_surgery_and_the_teenage_patient.html  \n",
              "538       plastic_surgery_and_the_teenage_patient.html  \n",
              "634  influences_on_decision_making_in_plastic_surge...  \n",
              "263     reddit_cmv_plastic_surgery_is_unnecessary.html  \n",
              "509       plastic_surgery_and_the_teenage_patient.html  \n",
              "263     reddit_cmv_plastic_surgery_is_unnecessary.html  \n",
              "302     reddit_cmv_plastic_surgery_is_unnecessary.html  \n",
              "903  reddit_cmv_if_you_have_money_you_should_get_pl...  \n",
              "263     reddit_cmv_plastic_surgery_is_unnecessary.html  "
            ],
            "text/html": [
              "\n",
              "  <div id=\"df-073c9967-a023-4cad-b381-4851424c6767\" class=\"colab-df-container\">\n",
              "    <div>\n",
              "<style scoped>\n",
              "    .dataframe tbody tr th:only-of-type {\n",
              "        vertical-align: middle;\n",
              "    }\n",
              "\n",
              "    .dataframe tbody tr th {\n",
              "        vertical-align: top;\n",
              "    }\n",
              "\n",
              "    .dataframe thead th {\n",
              "        text-align: right;\n",
              "    }\n",
              "</style>\n",
              "<table border=\"1\" class=\"dataframe\">\n",
              "  <thead>\n",
              "    <tr style=\"text-align: right;\">\n",
              "      <th></th>\n",
              "      <th>index</th>\n",
              "      <th>paragraph</th>\n",
              "      <th>file_path</th>\n",
              "    </tr>\n",
              "  </thead>\n",
              "  <tbody>\n",
              "    <tr>\n",
              "      <th>634</th>\n",
              "      <td>15</td>\n",
              "      <td>Plastic surgery was seen as an effective way t...</td>\n",
              "      <td>influences_on_decision_making_in_plastic_surge...</td>\n",
              "    </tr>\n",
              "    <tr>\n",
              "      <th>536</th>\n",
              "      <td>36</td>\n",
              "      <td>We have said that the primary reason to do pla...</td>\n",
              "      <td>plastic_surgery_and_the_teenage_patient.html</td>\n",
              "    </tr>\n",
              "    <tr>\n",
              "      <th>538</th>\n",
              "      <td>38</td>\n",
              "      <td>For the former, the suboptimal result should b...</td>\n",
              "      <td>plastic_surgery_and_the_teenage_patient.html</td>\n",
              "    </tr>\n",
              "    <tr>\n",
              "      <th>634</th>\n",
              "      <td>15</td>\n",
              "      <td>Plastic surgery was seen as an effective way t...</td>\n",
              "      <td>influences_on_decision_making_in_plastic_surge...</td>\n",
              "    </tr>\n",
              "    <tr>\n",
              "      <th>263</th>\n",
              "      <td>54</td>\n",
              "      <td>The thing is there's no clear-cut line between...</td>\n",
              "      <td>reddit_cmv_plastic_surgery_is_unnecessary.html</td>\n",
              "    </tr>\n",
              "    <tr>\n",
              "      <th>509</th>\n",
              "      <td>9</td>\n",
              "      <td>The public is assaulted continually with a bar...</td>\n",
              "      <td>plastic_surgery_and_the_teenage_patient.html</td>\n",
              "    </tr>\n",
              "    <tr>\n",
              "      <th>263</th>\n",
              "      <td>54</td>\n",
              "      <td>The thing is there's no clear-cut line between...</td>\n",
              "      <td>reddit_cmv_plastic_surgery_is_unnecessary.html</td>\n",
              "    </tr>\n",
              "    <tr>\n",
              "      <th>302</th>\n",
              "      <td>93</td>\n",
              "      <td>i wouldn't call them cosmetic then. \"cosmetic\"...</td>\n",
              "      <td>reddit_cmv_plastic_surgery_is_unnecessary.html</td>\n",
              "    </tr>\n",
              "    <tr>\n",
              "      <th>903</th>\n",
              "      <td>199</td>\n",
              "      <td>Your approach aims for the patient receiving p...</td>\n",
              "      <td>reddit_cmv_if_you_have_money_you_should_get_pl...</td>\n",
              "    </tr>\n",
              "    <tr>\n",
              "      <th>263</th>\n",
              "      <td>54</td>\n",
              "      <td>The thing is there's no clear-cut line between...</td>\n",
              "      <td>reddit_cmv_plastic_surgery_is_unnecessary.html</td>\n",
              "    </tr>\n",
              "  </tbody>\n",
              "</table>\n",
              "</div>\n",
              "    <div class=\"colab-df-buttons\">\n",
              "\n",
              "  <div class=\"colab-df-container\">\n",
              "    <button class=\"colab-df-convert\" onclick=\"convertToInteractive('df-073c9967-a023-4cad-b381-4851424c6767')\"\n",
              "            title=\"Convert this dataframe to an interactive table.\"\n",
              "            style=\"display:none;\">\n",
              "\n",
              "  <svg xmlns=\"http://www.w3.org/2000/svg\" height=\"24px\" viewBox=\"0 -960 960 960\">\n",
              "    <path d=\"M120-120v-720h720v720H120Zm60-500h600v-160H180v160Zm220 220h160v-160H400v160Zm0 220h160v-160H400v160ZM180-400h160v-160H180v160Zm440 0h160v-160H620v160ZM180-180h160v-160H180v160Zm440 0h160v-160H620v160Z\"/>\n",
              "  </svg>\n",
              "    </button>\n",
              "\n",
              "  <style>\n",
              "    .colab-df-container {\n",
              "      display:flex;\n",
              "      gap: 12px;\n",
              "    }\n",
              "\n",
              "    .colab-df-convert {\n",
              "      background-color: #E8F0FE;\n",
              "      border: none;\n",
              "      border-radius: 50%;\n",
              "      cursor: pointer;\n",
              "      display: none;\n",
              "      fill: #1967D2;\n",
              "      height: 32px;\n",
              "      padding: 0 0 0 0;\n",
              "      width: 32px;\n",
              "    }\n",
              "\n",
              "    .colab-df-convert:hover {\n",
              "      background-color: #E2EBFA;\n",
              "      box-shadow: 0px 1px 2px rgba(60, 64, 67, 0.3), 0px 1px 3px 1px rgba(60, 64, 67, 0.15);\n",
              "      fill: #174EA6;\n",
              "    }\n",
              "\n",
              "    .colab-df-buttons div {\n",
              "      margin-bottom: 4px;\n",
              "    }\n",
              "\n",
              "    [theme=dark] .colab-df-convert {\n",
              "      background-color: #3B4455;\n",
              "      fill: #D2E3FC;\n",
              "    }\n",
              "\n",
              "    [theme=dark] .colab-df-convert:hover {\n",
              "      background-color: #434B5C;\n",
              "      box-shadow: 0px 1px 3px 1px rgba(0, 0, 0, 0.15);\n",
              "      filter: drop-shadow(0px 1px 2px rgba(0, 0, 0, 0.3));\n",
              "      fill: #FFFFFF;\n",
              "    }\n",
              "  </style>\n",
              "\n",
              "    <script>\n",
              "      const buttonEl =\n",
              "        document.querySelector('#df-073c9967-a023-4cad-b381-4851424c6767 button.colab-df-convert');\n",
              "      buttonEl.style.display =\n",
              "        google.colab.kernel.accessAllowed ? 'block' : 'none';\n",
              "\n",
              "      async function convertToInteractive(key) {\n",
              "        const element = document.querySelector('#df-073c9967-a023-4cad-b381-4851424c6767');\n",
              "        const dataTable =\n",
              "          await google.colab.kernel.invokeFunction('convertToInteractive',\n",
              "                                                    [key], {});\n",
              "        if (!dataTable) return;\n",
              "\n",
              "        const docLinkHtml = 'Like what you see? Visit the ' +\n",
              "          '<a target=\"_blank\" href=https://colab.research.google.com/notebooks/data_table.ipynb>data table notebook</a>'\n",
              "          + ' to learn more about interactive tables.';\n",
              "        element.innerHTML = '';\n",
              "        dataTable['output_type'] = 'display_data';\n",
              "        await google.colab.output.renderOutput(dataTable, element);\n",
              "        const docLink = document.createElement('div');\n",
              "        docLink.innerHTML = docLinkHtml;\n",
              "        element.appendChild(docLink);\n",
              "      }\n",
              "    </script>\n",
              "  </div>\n",
              "\n",
              "\n",
              "<div id=\"df-186224b4-03c6-4edb-9a27-ba47ced091f1\">\n",
              "  <button class=\"colab-df-quickchart\" onclick=\"quickchart('df-186224b4-03c6-4edb-9a27-ba47ced091f1')\"\n",
              "            title=\"Suggest charts\"\n",
              "            style=\"display:none;\">\n",
              "\n",
              "<svg xmlns=\"http://www.w3.org/2000/svg\" height=\"24px\"viewBox=\"0 0 24 24\"\n",
              "     width=\"24px\">\n",
              "    <g>\n",
              "        <path d=\"M19 3H5c-1.1 0-2 .9-2 2v14c0 1.1.9 2 2 2h14c1.1 0 2-.9 2-2V5c0-1.1-.9-2-2-2zM9 17H7v-7h2v7zm4 0h-2V7h2v10zm4 0h-2v-4h2v4z\"/>\n",
              "    </g>\n",
              "</svg>\n",
              "  </button>\n",
              "\n",
              "<style>\n",
              "  .colab-df-quickchart {\n",
              "      --bg-color: #E8F0FE;\n",
              "      --fill-color: #1967D2;\n",
              "      --hover-bg-color: #E2EBFA;\n",
              "      --hover-fill-color: #174EA6;\n",
              "      --disabled-fill-color: #AAA;\n",
              "      --disabled-bg-color: #DDD;\n",
              "  }\n",
              "\n",
              "  [theme=dark] .colab-df-quickchart {\n",
              "      --bg-color: #3B4455;\n",
              "      --fill-color: #D2E3FC;\n",
              "      --hover-bg-color: #434B5C;\n",
              "      --hover-fill-color: #FFFFFF;\n",
              "      --disabled-bg-color: #3B4455;\n",
              "      --disabled-fill-color: #666;\n",
              "  }\n",
              "\n",
              "  .colab-df-quickchart {\n",
              "    background-color: var(--bg-color);\n",
              "    border: none;\n",
              "    border-radius: 50%;\n",
              "    cursor: pointer;\n",
              "    display: none;\n",
              "    fill: var(--fill-color);\n",
              "    height: 32px;\n",
              "    padding: 0;\n",
              "    width: 32px;\n",
              "  }\n",
              "\n",
              "  .colab-df-quickchart:hover {\n",
              "    background-color: var(--hover-bg-color);\n",
              "    box-shadow: 0 1px 2px rgba(60, 64, 67, 0.3), 0 1px 3px 1px rgba(60, 64, 67, 0.15);\n",
              "    fill: var(--button-hover-fill-color);\n",
              "  }\n",
              "\n",
              "  .colab-df-quickchart-complete:disabled,\n",
              "  .colab-df-quickchart-complete:disabled:hover {\n",
              "    background-color: var(--disabled-bg-color);\n",
              "    fill: var(--disabled-fill-color);\n",
              "    box-shadow: none;\n",
              "  }\n",
              "\n",
              "  .colab-df-spinner {\n",
              "    border: 2px solid var(--fill-color);\n",
              "    border-color: transparent;\n",
              "    border-bottom-color: var(--fill-color);\n",
              "    animation:\n",
              "      spin 1s steps(1) infinite;\n",
              "  }\n",
              "\n",
              "  @keyframes spin {\n",
              "    0% {\n",
              "      border-color: transparent;\n",
              "      border-bottom-color: var(--fill-color);\n",
              "      border-left-color: var(--fill-color);\n",
              "    }\n",
              "    20% {\n",
              "      border-color: transparent;\n",
              "      border-left-color: var(--fill-color);\n",
              "      border-top-color: var(--fill-color);\n",
              "    }\n",
              "    30% {\n",
              "      border-color: transparent;\n",
              "      border-left-color: var(--fill-color);\n",
              "      border-top-color: var(--fill-color);\n",
              "      border-right-color: var(--fill-color);\n",
              "    }\n",
              "    40% {\n",
              "      border-color: transparent;\n",
              "      border-right-color: var(--fill-color);\n",
              "      border-top-color: var(--fill-color);\n",
              "    }\n",
              "    60% {\n",
              "      border-color: transparent;\n",
              "      border-right-color: var(--fill-color);\n",
              "    }\n",
              "    80% {\n",
              "      border-color: transparent;\n",
              "      border-right-color: var(--fill-color);\n",
              "      border-bottom-color: var(--fill-color);\n",
              "    }\n",
              "    90% {\n",
              "      border-color: transparent;\n",
              "      border-bottom-color: var(--fill-color);\n",
              "    }\n",
              "  }\n",
              "</style>\n",
              "\n",
              "  <script>\n",
              "    async function quickchart(key) {\n",
              "      const quickchartButtonEl =\n",
              "        document.querySelector('#' + key + ' button');\n",
              "      quickchartButtonEl.disabled = true;  // To prevent multiple clicks.\n",
              "      quickchartButtonEl.classList.add('colab-df-spinner');\n",
              "      try {\n",
              "        const charts = await google.colab.kernel.invokeFunction(\n",
              "            'suggestCharts', [key], {});\n",
              "      } catch (error) {\n",
              "        console.error('Error during call to suggestCharts:', error);\n",
              "      }\n",
              "      quickchartButtonEl.classList.remove('colab-df-spinner');\n",
              "      quickchartButtonEl.classList.add('colab-df-quickchart-complete');\n",
              "    }\n",
              "    (() => {\n",
              "      let quickchartButtonEl =\n",
              "        document.querySelector('#df-186224b4-03c6-4edb-9a27-ba47ced091f1 button');\n",
              "      quickchartButtonEl.style.display =\n",
              "        google.colab.kernel.accessAllowed ? 'block' : 'none';\n",
              "    })();\n",
              "  </script>\n",
              "</div>\n",
              "    </div>\n",
              "  </div>\n"
            ],
            "application/vnd.google.colaboratory.intrinsic+json": {
              "type": "dataframe",
              "summary": "{\n  \"name\": \"generate_y_pred(pro_plastic_surgery_y_test, global_df, plastic_surgery_parsed_data)\",\n  \"rows\": 10,\n  \"fields\": [\n    {\n      \"column\": \"index\",\n      \"properties\": {\n        \"dtype\": \"number\",\n        \"std\": 55,\n        \"min\": 9,\n        \"max\": 199,\n        \"num_unique_values\": 7,\n        \"samples\": [\n          15,\n          36,\n          93\n        ],\n        \"semantic_type\": \"\",\n        \"description\": \"\"\n      }\n    },\n    {\n      \"column\": \"paragraph\",\n      \"properties\": {\n        \"dtype\": \"string\",\n        \"num_unique_values\": 7,\n        \"samples\": [\n          \"Plastic surgery was seen as an effective way to achieve desired changes. For most participants, this change related directly to a specific physical feature, often connected with anticipated changes to one's emotional well-being. Participants reported being encouraged by the positive outcomes they had seen in the media and by the experiences of their friends, family, and colleagues. Only a few participants (5 percent) expressed some ambivalence about undergoing plastic surgery. These participants suggested that it may not be acceptable to undergo plastic surgery \\u201cjust for the sake of doing it,\\u201d that there needed to be an appropriate reason, such as a congenital disability, accident, or other medical reason, to judge plastic surgery as a legitimate option. A few also were concerned that people could become \\u201caddicted\\u201d to undergoing plastic surgery.\",\n          \"We have said that the primary reason to do plastic surgery is the psychological benefit of the operation. Once it is determined that the patient has realistic expectations and is psychologically healthy, the next step is helping the patient make a good decision about the risk-benefit ratio of the surgery. Deciding what level of risk is acceptable for elective cosmetic surgery is very subjective judgment. Even as the patient must have realistic expectations about the planned improvement, so must he or she know, understand, and weigh the potential risks. Without informed consent, a patient for whom any setback is a catastrophe of immense proportions will proceed with surgery he or she would not have undertaken if he or she had really considered the likelihood of small complications. When the patient is a teenager, the informed consent process must include the patient and the parents; and the surgeon must be convinced that all parties are prepared to accept the pertinent degree of risk. In adolescents this means recognizing their psychological vulnerability, tendency to wishful thinking, and lack of maturity and experience.\",\n          \"i wouldn't call them cosmetic then. \\\"cosmetic\\\" means \\\"treatment relating to improving a person's appearance.\\\" liposuction could be, or it may be health-related. breast reduction is usually also health reasons, back pain etc not \\\"i want to look better.\\\"Regardless of what we want to call it your argument is that plastic surgery is largely unnecessary and doing it for health benefits is an outlier. Is that the case? Because from the quick research I did it doesn't seem so cut and dry.\\\"accept that you will be in pain\\\" is not at all the same as \\\"accept that your cheeks have slightly more fat (like a normal person) than the skeleton you want  to look like.\\\"Regardless of them being the same or not, it's still acceptance.no one is in pain or in danger of health issues from their buccal fat. no one is in danger from having slightly smaller breasts than what they want.And I'm not in any danger of falling 10,000 feet and becoming a puddle on the ground until I decide to strap on a parachute and jump out of a plane. But I'm still going to do it because I want to. You're free to accept my life style or not, but if you constantly go up to skydivers and preach that they shouldn't do that, don't be surprised when they all think of you as an ass.\"\n        ],\n        \"semantic_type\": \"\",\n        \"description\": \"\"\n      }\n    },\n    {\n      \"column\": \"file_path\",\n      \"properties\": {\n        \"dtype\": \"category\",\n        \"num_unique_values\": 4,\n        \"samples\": [\n          \"plastic_surgery_and_the_teenage_patient.html\",\n          \"reddit_cmv_if_you_have_money_you_should_get_plastic_surgery.html\",\n          \"influences_on_decision_making_in_plastic_surgery.html\"\n        ],\n        \"semantic_type\": \"\",\n        \"description\": \"\"\n      }\n    }\n  ]\n}"
            }
          },
          "metadata": {},
          "execution_count": 298
        }
      ]
    },
    {
      "cell_type": "code",
      "source": [
        "generate_y_pred(con_plastic_surgery_y_test, global_df, plastic_surgery_parsed_data)"
      ],
      "metadata": {
        "colab": {
          "base_uri": "https://localhost:8080/",
          "height": 1595
        },
        "id": "ji4heeyXslWW",
        "outputId": "b1895945-7939-4b38-b496-241d1f36e444"
      },
      "execution_count": 300,
      "outputs": [
        {
          "output_type": "stream",
          "name": "stdout",
          "text": [
            "1/1 [==============================] - 0s 111ms/step\n"
          ]
        },
        {
          "output_type": "execute_result",
          "data": {
            "text/plain": [
              "     index                                          paragraph  \\\n",
              "709      5  Plastic surgery can be dangerous and sometimes...   \n",
              "536     36  We have said that the primary reason to do pla...   \n",
              "536     36  We have said that the primary reason to do pla...   \n",
              "536     36  We have said that the primary reason to do pla...   \n",
              "634     15  Plastic surgery was seen as an effective way t...   \n",
              "634     15  Plastic surgery was seen as an effective way t...   \n",
              "536     36  We have said that the primary reason to do pla...   \n",
              "89      89  To conclude, cosmetic surgery has some remedyi...   \n",
              "903    199  Your approach aims for the patient receiving p...   \n",
              "894    190  The safety issue is very real. It's an industr...   \n",
              "\n",
              "                                             file_path  \n",
              "709  reddit_cmv_if_you_have_money_you_should_get_pl...  \n",
              "536       plastic_surgery_and_the_teenage_patient.html  \n",
              "536       plastic_surgery_and_the_teenage_patient.html  \n",
              "536       plastic_surgery_and_the_teenage_patient.html  \n",
              "634  influences_on_decision_making_in_plastic_surge...  \n",
              "634  influences_on_decision_making_in_plastic_surge...  \n",
              "536       plastic_surgery_and_the_teenage_patient.html  \n",
              "89   healing_childhood_psychological_trauma_and_imp...  \n",
              "903  reddit_cmv_if_you_have_money_you_should_get_pl...  \n",
              "894  reddit_cmv_if_you_have_money_you_should_get_pl...  "
            ],
            "text/html": [
              "\n",
              "  <div id=\"df-d4c76d0a-66f0-417b-bf6c-f93012075e98\" class=\"colab-df-container\">\n",
              "    <div>\n",
              "<style scoped>\n",
              "    .dataframe tbody tr th:only-of-type {\n",
              "        vertical-align: middle;\n",
              "    }\n",
              "\n",
              "    .dataframe tbody tr th {\n",
              "        vertical-align: top;\n",
              "    }\n",
              "\n",
              "    .dataframe thead th {\n",
              "        text-align: right;\n",
              "    }\n",
              "</style>\n",
              "<table border=\"1\" class=\"dataframe\">\n",
              "  <thead>\n",
              "    <tr style=\"text-align: right;\">\n",
              "      <th></th>\n",
              "      <th>index</th>\n",
              "      <th>paragraph</th>\n",
              "      <th>file_path</th>\n",
              "    </tr>\n",
              "  </thead>\n",
              "  <tbody>\n",
              "    <tr>\n",
              "      <th>709</th>\n",
              "      <td>5</td>\n",
              "      <td>Plastic surgery can be dangerous and sometimes...</td>\n",
              "      <td>reddit_cmv_if_you_have_money_you_should_get_pl...</td>\n",
              "    </tr>\n",
              "    <tr>\n",
              "      <th>536</th>\n",
              "      <td>36</td>\n",
              "      <td>We have said that the primary reason to do pla...</td>\n",
              "      <td>plastic_surgery_and_the_teenage_patient.html</td>\n",
              "    </tr>\n",
              "    <tr>\n",
              "      <th>536</th>\n",
              "      <td>36</td>\n",
              "      <td>We have said that the primary reason to do pla...</td>\n",
              "      <td>plastic_surgery_and_the_teenage_patient.html</td>\n",
              "    </tr>\n",
              "    <tr>\n",
              "      <th>536</th>\n",
              "      <td>36</td>\n",
              "      <td>We have said that the primary reason to do pla...</td>\n",
              "      <td>plastic_surgery_and_the_teenage_patient.html</td>\n",
              "    </tr>\n",
              "    <tr>\n",
              "      <th>634</th>\n",
              "      <td>15</td>\n",
              "      <td>Plastic surgery was seen as an effective way t...</td>\n",
              "      <td>influences_on_decision_making_in_plastic_surge...</td>\n",
              "    </tr>\n",
              "    <tr>\n",
              "      <th>634</th>\n",
              "      <td>15</td>\n",
              "      <td>Plastic surgery was seen as an effective way t...</td>\n",
              "      <td>influences_on_decision_making_in_plastic_surge...</td>\n",
              "    </tr>\n",
              "    <tr>\n",
              "      <th>536</th>\n",
              "      <td>36</td>\n",
              "      <td>We have said that the primary reason to do pla...</td>\n",
              "      <td>plastic_surgery_and_the_teenage_patient.html</td>\n",
              "    </tr>\n",
              "    <tr>\n",
              "      <th>89</th>\n",
              "      <td>89</td>\n",
              "      <td>To conclude, cosmetic surgery has some remedyi...</td>\n",
              "      <td>healing_childhood_psychological_trauma_and_imp...</td>\n",
              "    </tr>\n",
              "    <tr>\n",
              "      <th>903</th>\n",
              "      <td>199</td>\n",
              "      <td>Your approach aims for the patient receiving p...</td>\n",
              "      <td>reddit_cmv_if_you_have_money_you_should_get_pl...</td>\n",
              "    </tr>\n",
              "    <tr>\n",
              "      <th>894</th>\n",
              "      <td>190</td>\n",
              "      <td>The safety issue is very real. It's an industr...</td>\n",
              "      <td>reddit_cmv_if_you_have_money_you_should_get_pl...</td>\n",
              "    </tr>\n",
              "  </tbody>\n",
              "</table>\n",
              "</div>\n",
              "    <div class=\"colab-df-buttons\">\n",
              "\n",
              "  <div class=\"colab-df-container\">\n",
              "    <button class=\"colab-df-convert\" onclick=\"convertToInteractive('df-d4c76d0a-66f0-417b-bf6c-f93012075e98')\"\n",
              "            title=\"Convert this dataframe to an interactive table.\"\n",
              "            style=\"display:none;\">\n",
              "\n",
              "  <svg xmlns=\"http://www.w3.org/2000/svg\" height=\"24px\" viewBox=\"0 -960 960 960\">\n",
              "    <path d=\"M120-120v-720h720v720H120Zm60-500h600v-160H180v160Zm220 220h160v-160H400v160Zm0 220h160v-160H400v160ZM180-400h160v-160H180v160Zm440 0h160v-160H620v160ZM180-180h160v-160H180v160Zm440 0h160v-160H620v160Z\"/>\n",
              "  </svg>\n",
              "    </button>\n",
              "\n",
              "  <style>\n",
              "    .colab-df-container {\n",
              "      display:flex;\n",
              "      gap: 12px;\n",
              "    }\n",
              "\n",
              "    .colab-df-convert {\n",
              "      background-color: #E8F0FE;\n",
              "      border: none;\n",
              "      border-radius: 50%;\n",
              "      cursor: pointer;\n",
              "      display: none;\n",
              "      fill: #1967D2;\n",
              "      height: 32px;\n",
              "      padding: 0 0 0 0;\n",
              "      width: 32px;\n",
              "    }\n",
              "\n",
              "    .colab-df-convert:hover {\n",
              "      background-color: #E2EBFA;\n",
              "      box-shadow: 0px 1px 2px rgba(60, 64, 67, 0.3), 0px 1px 3px 1px rgba(60, 64, 67, 0.15);\n",
              "      fill: #174EA6;\n",
              "    }\n",
              "\n",
              "    .colab-df-buttons div {\n",
              "      margin-bottom: 4px;\n",
              "    }\n",
              "\n",
              "    [theme=dark] .colab-df-convert {\n",
              "      background-color: #3B4455;\n",
              "      fill: #D2E3FC;\n",
              "    }\n",
              "\n",
              "    [theme=dark] .colab-df-convert:hover {\n",
              "      background-color: #434B5C;\n",
              "      box-shadow: 0px 1px 3px 1px rgba(0, 0, 0, 0.15);\n",
              "      filter: drop-shadow(0px 1px 2px rgba(0, 0, 0, 0.3));\n",
              "      fill: #FFFFFF;\n",
              "    }\n",
              "  </style>\n",
              "\n",
              "    <script>\n",
              "      const buttonEl =\n",
              "        document.querySelector('#df-d4c76d0a-66f0-417b-bf6c-f93012075e98 button.colab-df-convert');\n",
              "      buttonEl.style.display =\n",
              "        google.colab.kernel.accessAllowed ? 'block' : 'none';\n",
              "\n",
              "      async function convertToInteractive(key) {\n",
              "        const element = document.querySelector('#df-d4c76d0a-66f0-417b-bf6c-f93012075e98');\n",
              "        const dataTable =\n",
              "          await google.colab.kernel.invokeFunction('convertToInteractive',\n",
              "                                                    [key], {});\n",
              "        if (!dataTable) return;\n",
              "\n",
              "        const docLinkHtml = 'Like what you see? Visit the ' +\n",
              "          '<a target=\"_blank\" href=https://colab.research.google.com/notebooks/data_table.ipynb>data table notebook</a>'\n",
              "          + ' to learn more about interactive tables.';\n",
              "        element.innerHTML = '';\n",
              "        dataTable['output_type'] = 'display_data';\n",
              "        await google.colab.output.renderOutput(dataTable, element);\n",
              "        const docLink = document.createElement('div');\n",
              "        docLink.innerHTML = docLinkHtml;\n",
              "        element.appendChild(docLink);\n",
              "      }\n",
              "    </script>\n",
              "  </div>\n",
              "\n",
              "\n",
              "<div id=\"df-6117c597-9e86-4e99-9e5c-f1baa03a0022\">\n",
              "  <button class=\"colab-df-quickchart\" onclick=\"quickchart('df-6117c597-9e86-4e99-9e5c-f1baa03a0022')\"\n",
              "            title=\"Suggest charts\"\n",
              "            style=\"display:none;\">\n",
              "\n",
              "<svg xmlns=\"http://www.w3.org/2000/svg\" height=\"24px\"viewBox=\"0 0 24 24\"\n",
              "     width=\"24px\">\n",
              "    <g>\n",
              "        <path d=\"M19 3H5c-1.1 0-2 .9-2 2v14c0 1.1.9 2 2 2h14c1.1 0 2-.9 2-2V5c0-1.1-.9-2-2-2zM9 17H7v-7h2v7zm4 0h-2V7h2v10zm4 0h-2v-4h2v4z\"/>\n",
              "    </g>\n",
              "</svg>\n",
              "  </button>\n",
              "\n",
              "<style>\n",
              "  .colab-df-quickchart {\n",
              "      --bg-color: #E8F0FE;\n",
              "      --fill-color: #1967D2;\n",
              "      --hover-bg-color: #E2EBFA;\n",
              "      --hover-fill-color: #174EA6;\n",
              "      --disabled-fill-color: #AAA;\n",
              "      --disabled-bg-color: #DDD;\n",
              "  }\n",
              "\n",
              "  [theme=dark] .colab-df-quickchart {\n",
              "      --bg-color: #3B4455;\n",
              "      --fill-color: #D2E3FC;\n",
              "      --hover-bg-color: #434B5C;\n",
              "      --hover-fill-color: #FFFFFF;\n",
              "      --disabled-bg-color: #3B4455;\n",
              "      --disabled-fill-color: #666;\n",
              "  }\n",
              "\n",
              "  .colab-df-quickchart {\n",
              "    background-color: var(--bg-color);\n",
              "    border: none;\n",
              "    border-radius: 50%;\n",
              "    cursor: pointer;\n",
              "    display: none;\n",
              "    fill: var(--fill-color);\n",
              "    height: 32px;\n",
              "    padding: 0;\n",
              "    width: 32px;\n",
              "  }\n",
              "\n",
              "  .colab-df-quickchart:hover {\n",
              "    background-color: var(--hover-bg-color);\n",
              "    box-shadow: 0 1px 2px rgba(60, 64, 67, 0.3), 0 1px 3px 1px rgba(60, 64, 67, 0.15);\n",
              "    fill: var(--button-hover-fill-color);\n",
              "  }\n",
              "\n",
              "  .colab-df-quickchart-complete:disabled,\n",
              "  .colab-df-quickchart-complete:disabled:hover {\n",
              "    background-color: var(--disabled-bg-color);\n",
              "    fill: var(--disabled-fill-color);\n",
              "    box-shadow: none;\n",
              "  }\n",
              "\n",
              "  .colab-df-spinner {\n",
              "    border: 2px solid var(--fill-color);\n",
              "    border-color: transparent;\n",
              "    border-bottom-color: var(--fill-color);\n",
              "    animation:\n",
              "      spin 1s steps(1) infinite;\n",
              "  }\n",
              "\n",
              "  @keyframes spin {\n",
              "    0% {\n",
              "      border-color: transparent;\n",
              "      border-bottom-color: var(--fill-color);\n",
              "      border-left-color: var(--fill-color);\n",
              "    }\n",
              "    20% {\n",
              "      border-color: transparent;\n",
              "      border-left-color: var(--fill-color);\n",
              "      border-top-color: var(--fill-color);\n",
              "    }\n",
              "    30% {\n",
              "      border-color: transparent;\n",
              "      border-left-color: var(--fill-color);\n",
              "      border-top-color: var(--fill-color);\n",
              "      border-right-color: var(--fill-color);\n",
              "    }\n",
              "    40% {\n",
              "      border-color: transparent;\n",
              "      border-right-color: var(--fill-color);\n",
              "      border-top-color: var(--fill-color);\n",
              "    }\n",
              "    60% {\n",
              "      border-color: transparent;\n",
              "      border-right-color: var(--fill-color);\n",
              "    }\n",
              "    80% {\n",
              "      border-color: transparent;\n",
              "      border-right-color: var(--fill-color);\n",
              "      border-bottom-color: var(--fill-color);\n",
              "    }\n",
              "    90% {\n",
              "      border-color: transparent;\n",
              "      border-bottom-color: var(--fill-color);\n",
              "    }\n",
              "  }\n",
              "</style>\n",
              "\n",
              "  <script>\n",
              "    async function quickchart(key) {\n",
              "      const quickchartButtonEl =\n",
              "        document.querySelector('#' + key + ' button');\n",
              "      quickchartButtonEl.disabled = true;  // To prevent multiple clicks.\n",
              "      quickchartButtonEl.classList.add('colab-df-spinner');\n",
              "      try {\n",
              "        const charts = await google.colab.kernel.invokeFunction(\n",
              "            'suggestCharts', [key], {});\n",
              "      } catch (error) {\n",
              "        console.error('Error during call to suggestCharts:', error);\n",
              "      }\n",
              "      quickchartButtonEl.classList.remove('colab-df-spinner');\n",
              "      quickchartButtonEl.classList.add('colab-df-quickchart-complete');\n",
              "    }\n",
              "    (() => {\n",
              "      let quickchartButtonEl =\n",
              "        document.querySelector('#df-6117c597-9e86-4e99-9e5c-f1baa03a0022 button');\n",
              "      quickchartButtonEl.style.display =\n",
              "        google.colab.kernel.accessAllowed ? 'block' : 'none';\n",
              "    })();\n",
              "  </script>\n",
              "</div>\n",
              "    </div>\n",
              "  </div>\n"
            ],
            "application/vnd.google.colaboratory.intrinsic+json": {
              "type": "dataframe",
              "summary": "{\n  \"name\": \"generate_y_pred(con_plastic_surgery_y_test, global_df, plastic_surgery_parsed_data)\",\n  \"rows\": 10,\n  \"fields\": [\n    {\n      \"column\": \"index\",\n      \"properties\": {\n        \"dtype\": \"number\",\n        \"std\": 71,\n        \"min\": 5,\n        \"max\": 199,\n        \"num_unique_values\": 6,\n        \"samples\": [\n          5,\n          36,\n          190\n        ],\n        \"semantic_type\": \"\",\n        \"description\": \"\"\n      }\n    },\n    {\n      \"column\": \"paragraph\",\n      \"properties\": {\n        \"dtype\": \"string\",\n        \"num_unique_values\": 6,\n        \"samples\": [\n          \"Plastic surgery can be dangerous and sometimes even fatal. It\\u2019s still a surgery and there\\u2019s still medical risk.\",\n          \"We have said that the primary reason to do plastic surgery is the psychological benefit of the operation. Once it is determined that the patient has realistic expectations and is psychologically healthy, the next step is helping the patient make a good decision about the risk-benefit ratio of the surgery. Deciding what level of risk is acceptable for elective cosmetic surgery is very subjective judgment. Even as the patient must have realistic expectations about the planned improvement, so must he or she know, understand, and weigh the potential risks. Without informed consent, a patient for whom any setback is a catastrophe of immense proportions will proceed with surgery he or she would not have undertaken if he or she had really considered the likelihood of small complications. When the patient is a teenager, the informed consent process must include the patient and the parents; and the surgeon must be convinced that all parties are prepared to accept the pertinent degree of risk. In adolescents this means recognizing their psychological vulnerability, tendency to wishful thinking, and lack of maturity and experience.\",\n          \"The safety issue is very real. It's an industry issue and doctors pay big money to get rid of the horror stories, and then further sell the lie of safety in clinics to patients faces. \\\"Oh that used to happen, but we have this new procedure\\\" is something you'll often hear. It's not patients fault for believing what they're told by professionals. It needs stricter regulatory bodies and forced transparency, period.\"\n        ],\n        \"semantic_type\": \"\",\n        \"description\": \"\"\n      }\n    },\n    {\n      \"column\": \"file_path\",\n      \"properties\": {\n        \"dtype\": \"category\",\n        \"num_unique_values\": 4,\n        \"samples\": [\n          \"plastic_surgery_and_the_teenage_patient.html\",\n          \"healing_childhood_psychological_trauma_and_improving_body_image_through_cosmetic_surgery.html\",\n          \"reddit_cmv_if_you_have_money_you_should_get_plastic_surgery.html\"\n        ],\n        \"semantic_type\": \"\",\n        \"description\": \"\"\n      }\n    }\n  ]\n}"
            }
          },
          "metadata": {},
          "execution_count": 300
        }
      ]
    }
  ]
}